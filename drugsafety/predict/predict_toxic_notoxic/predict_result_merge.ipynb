{
 "cells": [
  {
   "attachments": {},
   "cell_type": "markdown",
   "metadata": {},
   "source": [
    "### Combine the prediction results of seven types of off-target models"
   ]
  },
  {
   "cell_type": "code",
   "execution_count": 2,
   "metadata": {},
   "outputs": [],
   "source": [
    "import pandas as pd\n",
    "import numpy as np\n",
    "import os\n",
    "from collections import defaultdict"
   ]
  },
  {
   "cell_type": "code",
   "execution_count": 3,
   "metadata": {},
   "outputs": [],
   "source": [
    "predict_result_dir = '/home/liujin/Drugsafety/drugsafty/predict/predict_toxic_notoxic'\n",
    "target_name = ['GPCR','Ionchannel','Enzyme','Kinases','NR','Transporter','other']\n",
    "dataset_name = ['clintox_nontoxic','tox21_nontoxic','toxcast_data_nontoxic',\n",
    "                  'clintox_toxic','tox21_toxic','toxcast_data_toxic','black_warning_toxic','withdrawal_toxic']"
   ]
  },
  {
   "cell_type": "code",
   "execution_count": 4,
   "metadata": {},
   "outputs": [],
   "source": [
    "predict_result_file_d = defaultdict(list)\n",
    "for i in dataset_name:\n",
    "    predict_result_file_t = []\n",
    "    for j in target_name:\n",
    "        predict_result_file_t.append(os.path.join(predict_result_dir,f'{i}_prediction',f'{j}_{i}_prediction.csv'))\n",
    "    predict_result_file_d[i] = predict_result_file_t"
   ]
  },
  {
   "cell_type": "code",
   "execution_count": 5,
   "metadata": {},
   "outputs": [
    {
     "name": "stdout",
     "output_type": "stream",
     "text": [
      "clintox_nontoxic ['/home/liujin/Drugsafety/drugsafty/predict/predict_toxic_notoxic/clintox_nontoxic_prediction/GPCR_clintox_nontoxic_prediction.csv', '/home/liujin/Drugsafety/drugsafty/predict/predict_toxic_notoxic/clintox_nontoxic_prediction/Ionchannel_clintox_nontoxic_prediction.csv', '/home/liujin/Drugsafety/drugsafty/predict/predict_toxic_notoxic/clintox_nontoxic_prediction/Enzyme_clintox_nontoxic_prediction.csv', '/home/liujin/Drugsafety/drugsafty/predict/predict_toxic_notoxic/clintox_nontoxic_prediction/Kinases_clintox_nontoxic_prediction.csv', '/home/liujin/Drugsafety/drugsafty/predict/predict_toxic_notoxic/clintox_nontoxic_prediction/NR_clintox_nontoxic_prediction.csv', '/home/liujin/Drugsafety/drugsafty/predict/predict_toxic_notoxic/clintox_nontoxic_prediction/Transporter_clintox_nontoxic_prediction.csv', '/home/liujin/Drugsafety/drugsafty/predict/predict_toxic_notoxic/clintox_nontoxic_prediction/other_clintox_nontoxic_prediction.csv']\n",
      "tox21_nontoxic ['/home/liujin/Drugsafety/drugsafty/predict/predict_toxic_notoxic/tox21_nontoxic_prediction/GPCR_tox21_nontoxic_prediction.csv', '/home/liujin/Drugsafety/drugsafty/predict/predict_toxic_notoxic/tox21_nontoxic_prediction/Ionchannel_tox21_nontoxic_prediction.csv', '/home/liujin/Drugsafety/drugsafty/predict/predict_toxic_notoxic/tox21_nontoxic_prediction/Enzyme_tox21_nontoxic_prediction.csv', '/home/liujin/Drugsafety/drugsafty/predict/predict_toxic_notoxic/tox21_nontoxic_prediction/Kinases_tox21_nontoxic_prediction.csv', '/home/liujin/Drugsafety/drugsafty/predict/predict_toxic_notoxic/tox21_nontoxic_prediction/NR_tox21_nontoxic_prediction.csv', '/home/liujin/Drugsafety/drugsafty/predict/predict_toxic_notoxic/tox21_nontoxic_prediction/Transporter_tox21_nontoxic_prediction.csv', '/home/liujin/Drugsafety/drugsafty/predict/predict_toxic_notoxic/tox21_nontoxic_prediction/other_tox21_nontoxic_prediction.csv']\n",
      "toxcast_data_nontoxic ['/home/liujin/Drugsafety/drugsafty/predict/predict_toxic_notoxic/toxcast_data_nontoxic_prediction/GPCR_toxcast_data_nontoxic_prediction.csv', '/home/liujin/Drugsafety/drugsafty/predict/predict_toxic_notoxic/toxcast_data_nontoxic_prediction/Ionchannel_toxcast_data_nontoxic_prediction.csv', '/home/liujin/Drugsafety/drugsafty/predict/predict_toxic_notoxic/toxcast_data_nontoxic_prediction/Enzyme_toxcast_data_nontoxic_prediction.csv', '/home/liujin/Drugsafety/drugsafty/predict/predict_toxic_notoxic/toxcast_data_nontoxic_prediction/Kinases_toxcast_data_nontoxic_prediction.csv', '/home/liujin/Drugsafety/drugsafty/predict/predict_toxic_notoxic/toxcast_data_nontoxic_prediction/NR_toxcast_data_nontoxic_prediction.csv', '/home/liujin/Drugsafety/drugsafty/predict/predict_toxic_notoxic/toxcast_data_nontoxic_prediction/Transporter_toxcast_data_nontoxic_prediction.csv', '/home/liujin/Drugsafety/drugsafty/predict/predict_toxic_notoxic/toxcast_data_nontoxic_prediction/other_toxcast_data_nontoxic_prediction.csv']\n",
      "clintox_toxic ['/home/liujin/Drugsafety/drugsafty/predict/predict_toxic_notoxic/clintox_toxic_prediction/GPCR_clintox_toxic_prediction.csv', '/home/liujin/Drugsafety/drugsafty/predict/predict_toxic_notoxic/clintox_toxic_prediction/Ionchannel_clintox_toxic_prediction.csv', '/home/liujin/Drugsafety/drugsafty/predict/predict_toxic_notoxic/clintox_toxic_prediction/Enzyme_clintox_toxic_prediction.csv', '/home/liujin/Drugsafety/drugsafty/predict/predict_toxic_notoxic/clintox_toxic_prediction/Kinases_clintox_toxic_prediction.csv', '/home/liujin/Drugsafety/drugsafty/predict/predict_toxic_notoxic/clintox_toxic_prediction/NR_clintox_toxic_prediction.csv', '/home/liujin/Drugsafety/drugsafty/predict/predict_toxic_notoxic/clintox_toxic_prediction/Transporter_clintox_toxic_prediction.csv', '/home/liujin/Drugsafety/drugsafty/predict/predict_toxic_notoxic/clintox_toxic_prediction/other_clintox_toxic_prediction.csv']\n",
      "tox21_toxic ['/home/liujin/Drugsafety/drugsafty/predict/predict_toxic_notoxic/tox21_toxic_prediction/GPCR_tox21_toxic_prediction.csv', '/home/liujin/Drugsafety/drugsafty/predict/predict_toxic_notoxic/tox21_toxic_prediction/Ionchannel_tox21_toxic_prediction.csv', '/home/liujin/Drugsafety/drugsafty/predict/predict_toxic_notoxic/tox21_toxic_prediction/Enzyme_tox21_toxic_prediction.csv', '/home/liujin/Drugsafety/drugsafty/predict/predict_toxic_notoxic/tox21_toxic_prediction/Kinases_tox21_toxic_prediction.csv', '/home/liujin/Drugsafety/drugsafty/predict/predict_toxic_notoxic/tox21_toxic_prediction/NR_tox21_toxic_prediction.csv', '/home/liujin/Drugsafety/drugsafty/predict/predict_toxic_notoxic/tox21_toxic_prediction/Transporter_tox21_toxic_prediction.csv', '/home/liujin/Drugsafety/drugsafty/predict/predict_toxic_notoxic/tox21_toxic_prediction/other_tox21_toxic_prediction.csv']\n",
      "toxcast_data_toxic ['/home/liujin/Drugsafety/drugsafty/predict/predict_toxic_notoxic/toxcast_data_toxic_prediction/GPCR_toxcast_data_toxic_prediction.csv', '/home/liujin/Drugsafety/drugsafty/predict/predict_toxic_notoxic/toxcast_data_toxic_prediction/Ionchannel_toxcast_data_toxic_prediction.csv', '/home/liujin/Drugsafety/drugsafty/predict/predict_toxic_notoxic/toxcast_data_toxic_prediction/Enzyme_toxcast_data_toxic_prediction.csv', '/home/liujin/Drugsafety/drugsafty/predict/predict_toxic_notoxic/toxcast_data_toxic_prediction/Kinases_toxcast_data_toxic_prediction.csv', '/home/liujin/Drugsafety/drugsafty/predict/predict_toxic_notoxic/toxcast_data_toxic_prediction/NR_toxcast_data_toxic_prediction.csv', '/home/liujin/Drugsafety/drugsafty/predict/predict_toxic_notoxic/toxcast_data_toxic_prediction/Transporter_toxcast_data_toxic_prediction.csv', '/home/liujin/Drugsafety/drugsafty/predict/predict_toxic_notoxic/toxcast_data_toxic_prediction/other_toxcast_data_toxic_prediction.csv']\n",
      "black_warning_toxic ['/home/liujin/Drugsafety/drugsafty/predict/predict_toxic_notoxic/black_warning_toxic_prediction/GPCR_black_warning_toxic_prediction.csv', '/home/liujin/Drugsafety/drugsafty/predict/predict_toxic_notoxic/black_warning_toxic_prediction/Ionchannel_black_warning_toxic_prediction.csv', '/home/liujin/Drugsafety/drugsafty/predict/predict_toxic_notoxic/black_warning_toxic_prediction/Enzyme_black_warning_toxic_prediction.csv', '/home/liujin/Drugsafety/drugsafty/predict/predict_toxic_notoxic/black_warning_toxic_prediction/Kinases_black_warning_toxic_prediction.csv', '/home/liujin/Drugsafety/drugsafty/predict/predict_toxic_notoxic/black_warning_toxic_prediction/NR_black_warning_toxic_prediction.csv', '/home/liujin/Drugsafety/drugsafty/predict/predict_toxic_notoxic/black_warning_toxic_prediction/Transporter_black_warning_toxic_prediction.csv', '/home/liujin/Drugsafety/drugsafty/predict/predict_toxic_notoxic/black_warning_toxic_prediction/other_black_warning_toxic_prediction.csv']\n",
      "withdrawal_toxic ['/home/liujin/Drugsafety/drugsafty/predict/predict_toxic_notoxic/withdrawal_toxic_prediction/GPCR_withdrawal_toxic_prediction.csv', '/home/liujin/Drugsafety/drugsafty/predict/predict_toxic_notoxic/withdrawal_toxic_prediction/Ionchannel_withdrawal_toxic_prediction.csv', '/home/liujin/Drugsafety/drugsafty/predict/predict_toxic_notoxic/withdrawal_toxic_prediction/Enzyme_withdrawal_toxic_prediction.csv', '/home/liujin/Drugsafety/drugsafty/predict/predict_toxic_notoxic/withdrawal_toxic_prediction/Kinases_withdrawal_toxic_prediction.csv', '/home/liujin/Drugsafety/drugsafty/predict/predict_toxic_notoxic/withdrawal_toxic_prediction/NR_withdrawal_toxic_prediction.csv', '/home/liujin/Drugsafety/drugsafty/predict/predict_toxic_notoxic/withdrawal_toxic_prediction/Transporter_withdrawal_toxic_prediction.csv', '/home/liujin/Drugsafety/drugsafty/predict/predict_toxic_notoxic/withdrawal_toxic_prediction/other_withdrawal_toxic_prediction.csv']\n"
     ]
    }
   ],
   "source": [
    "for key,values in predict_result_file_d.items():\n",
    "    print(key,values)"
   ]
  },
  {
   "cell_type": "code",
   "execution_count": 6,
   "metadata": {},
   "outputs": [
    {
     "name": "stdout",
     "output_type": "stream",
     "text": [
      "Now process dataset is clintox_nontoxic\n",
      "GPCR predict result shape: (1361, 147)\n",
      "Ionchannel predict result shape: (1361, 34)\n",
      "Enzyme predict result shape: (1361, 28)\n",
      "Kinases predict result shape: (1361, 11)\n",
      "NR predict result shape: (1361, 11)\n",
      "Transporter predict result shape: (1361, 12)\n",
      "other predict result shape: (1361, 6)\n",
      "Predict result shape after merging:  (1361, 243)\n",
      "Now process dataset is tox21_nontoxic\n",
      "GPCR predict result shape: (4874, 147)\n",
      "Ionchannel predict result shape: (4874, 34)\n",
      "Enzyme predict result shape: (4874, 28)\n",
      "Kinases predict result shape: (4874, 11)\n",
      "NR predict result shape: (4874, 11)\n",
      "Transporter predict result shape: (4874, 12)\n",
      "other predict result shape: (4874, 6)\n",
      "Predict result shape after merging:  (4874, 243)\n",
      "Now process dataset is toxcast_data_nontoxic\n",
      "GPCR predict result shape: (5248, 147)\n",
      "Ionchannel predict result shape: (5248, 34)\n",
      "Enzyme predict result shape: (5248, 28)\n",
      "Kinases predict result shape: (5248, 11)\n",
      "NR predict result shape: (5248, 11)\n",
      "Transporter predict result shape: (5248, 12)\n",
      "other predict result shape: (5248, 6)\n",
      "Predict result shape after merging:  (5248, 243)\n",
      "Now process dataset is clintox_toxic\n",
      "GPCR predict result shape: (103, 147)\n",
      "Ionchannel predict result shape: (103, 34)\n",
      "Enzyme predict result shape: (103, 28)\n",
      "Kinases predict result shape: (103, 11)\n",
      "NR predict result shape: (103, 11)\n",
      "Transporter predict result shape: (103, 12)\n",
      "other predict result shape: (103, 6)\n",
      "Predict result shape after merging:  (103, 243)\n",
      "Now process dataset is tox21_toxic\n",
      "GPCR predict result shape: (2823, 147)\n",
      "Ionchannel predict result shape: (2823, 34)\n",
      "Enzyme predict result shape: (2823, 28)\n",
      "Kinases predict result shape: (2823, 11)\n",
      "NR predict result shape: (2823, 11)\n",
      "Transporter predict result shape: (2823, 12)\n",
      "other predict result shape: (2823, 6)\n",
      "Predict result shape after merging:  (2823, 243)\n",
      "Now process dataset is toxcast_data_toxic\n",
      "GPCR predict result shape: (2978, 147)\n",
      "Ionchannel predict result shape: (2978, 34)\n",
      "Enzyme predict result shape: (2978, 28)\n",
      "Kinases predict result shape: (2978, 11)\n",
      "NR predict result shape: (2978, 11)\n",
      "Transporter predict result shape: (2978, 12)\n",
      "other predict result shape: (2978, 6)\n",
      "Predict result shape after merging:  (2978, 243)\n",
      "Now process dataset is black_warning_toxic\n",
      "GPCR predict result shape: (503, 147)\n",
      "Ionchannel predict result shape: (503, 34)\n",
      "Enzyme predict result shape: (503, 28)\n",
      "Kinases predict result shape: (503, 11)\n",
      "NR predict result shape: (503, 11)\n",
      "Transporter predict result shape: (503, 12)\n",
      "other predict result shape: (503, 6)\n",
      "Predict result shape after merging:  (503, 243)\n",
      "Now process dataset is withdrawal_toxic\n",
      "GPCR predict result shape: (408, 147)\n",
      "Ionchannel predict result shape: (408, 34)\n",
      "Enzyme predict result shape: (408, 28)\n",
      "Kinases predict result shape: (408, 11)\n",
      "NR predict result shape: (408, 11)\n",
      "Transporter predict result shape: (408, 12)\n",
      "other predict result shape: (408, 6)\n",
      "Predict result shape after merging:  (408, 243)\n"
     ]
    }
   ],
   "source": [
    "for key,values in predict_result_file_d.items():\n",
    "    print(\"Now process dataset is\",key)\n",
    "    predict_file_list = values\n",
    "    predict_result_df0 = pd.read_csv(predict_file_list[0])\n",
    "    predict_result_df1 = pd.read_csv(predict_file_list[1])\n",
    "    predict_result_df2 = pd.read_csv(predict_file_list[2])\n",
    "    predict_result_df3 = pd.read_csv(predict_file_list[3])\n",
    "    predict_result_df4 = pd.read_csv(predict_file_list[4])\n",
    "    predict_result_df5 = pd.read_csv(predict_file_list[5])\n",
    "    predict_result_df6 = pd.read_csv(predict_file_list[6])\n",
    "    print(\"GPCR predict result shape:\",predict_result_df0.shape)\n",
    "    print(\"Ionchannel predict result shape:\",predict_result_df1.shape)\n",
    "    print(\"Enzyme predict result shape:\",predict_result_df2.shape)\n",
    "    print(\"Kinases predict result shape:\",predict_result_df3.shape)\n",
    "    print(\"NR predict result shape:\",predict_result_df4.shape)\n",
    "    print(\"Transporter predict result shape:\",predict_result_df5.shape)\n",
    "    print(\"other predict result shape:\",predict_result_df6.shape)\n",
    "    predict_result_df0.rename(columns={'Unnamed: 0':'smiles'}, inplace = True)\n",
    "    predict_result_df1.rename(columns={'Unnamed: 0':'smiles'}, inplace = True)\n",
    "    predict_result_df2.rename(columns={'Unnamed: 0':'smiles'}, inplace = True)\n",
    "    predict_result_df3.rename(columns={'Unnamed: 0':'smiles'}, inplace = True)\n",
    "    predict_result_df4.rename(columns={'Unnamed: 0':'smiles'}, inplace = True)\n",
    "    predict_result_df5.rename(columns={'Unnamed: 0':'smiles'}, inplace = True)\n",
    "    predict_result_df6.rename(columns={'Unnamed: 0':'smiles'}, inplace = True)\n",
    "    predict_result_df_all = pd.merge(predict_result_df0,predict_result_df1,on='smiles',how='outer')\n",
    "    predict_result_df_all = pd.merge(predict_result_df_all,predict_result_df2,on='smiles',how='outer')\n",
    "    predict_result_df_all = pd.merge(predict_result_df_all,predict_result_df3,on='smiles',how='outer')\n",
    "    predict_result_df_all = pd.merge(predict_result_df_all,predict_result_df4,on='smiles',how='outer')\n",
    "    predict_result_df_all = pd.merge(predict_result_df_all,predict_result_df5,on='smiles',how='outer')\n",
    "    predict_result_df_all = pd.merge(predict_result_df_all,predict_result_df6,on='smiles',how='outer')\n",
    "    print(\"Predict result shape after merging: \",predict_result_df_all.shape)\n",
    "    predict_result_df_all.to_csv(os.path.join(predict_result_dir, f'{key}_prediction', f'{key}_prediction.csv'),index=False)\n",
    "    \n"
   ]
  }
 ],
 "metadata": {
  "kernelspec": {
   "display_name": "Python 3.8.0 ('dgl': conda)",
   "language": "python",
   "name": "python3"
  },
  "language_info": {
   "codemirror_mode": {
    "name": "ipython",
    "version": 3
   },
   "file_extension": ".py",
   "mimetype": "text/x-python",
   "name": "python",
   "nbconvert_exporter": "python",
   "pygments_lexer": "ipython3",
   "version": "3.8.0"
  },
  "orig_nbformat": 4,
  "vscode": {
   "interpreter": {
    "hash": "91de957b2847c82f740f77f498ee0ca63338cf29c5929f8a6c84fedbb633a559"
   }
  }
 },
 "nbformat": 4,
 "nbformat_minor": 2
}
