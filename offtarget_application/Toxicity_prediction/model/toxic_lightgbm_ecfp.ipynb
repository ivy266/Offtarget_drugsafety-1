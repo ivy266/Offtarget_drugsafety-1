{
 "cells": [
  {
   "cell_type": "code",
   "execution_count": 1,
   "metadata": {},
   "outputs": [],
   "source": [
    "from sklearn import datasets\n",
    "from sklearn.model_selection import train_test_split\n",
    "from sklearn.metrics import classification_report\n",
    "import numpy as np\n",
    "import matplotlib.pyplot as plt\n",
    "from matplotlib.patches import Patch\n",
    "import pandas as pd\n",
    "import lightgbm as lgbm"
   ]
  },
  {
   "cell_type": "markdown",
   "metadata": {},
   "source": [
    "### Read toxic and non-toxic data"
   ]
  },
  {
   "cell_type": "code",
   "execution_count": 2,
   "metadata": {},
   "outputs": [],
   "source": [
    "toxic_df = pd.read_csv('/home/liujin/Offtarget_drugsafety/offtarget_application/Toxicity_prediction/toxic_predict_data/toxic_offtarget_profile.csv')\n",
    "not_toxic_df = pd.read_csv('/home/liujin/Offtarget_drugsafety/offtarget_application/Toxicity_prediction/toxic_predict_data/nontoxic_offtarget_profile.csv')\n",
    "toxic_smiles = toxic_df['smiles'].tolist()\n",
    "not_toxic_smiles = not_toxic_df['smiles'].tolist()"
   ]
  },
  {
   "cell_type": "code",
   "execution_count": 3,
   "metadata": {},
   "outputs": [],
   "source": [
    "from rdkit import Chem\n",
    "from rdkit.Chem import AllChem\n",
    "\n",
    "def smiles_to_fingerprint(smiles):\n",
    "    mols = list(map(lambda x: Chem.MolFromSmiles(x), smiles))\n",
    "    fingerprint = np.array(list(map(lambda x: AllChem.GetMorganFingerprintAsBitVect(x,2,1024), mols))) \n",
    "    \n",
    "    return fingerprint"
   ]
  },
  {
   "cell_type": "code",
   "execution_count": 4,
   "metadata": {},
   "outputs": [],
   "source": [
    "toxic_fingerprint = smiles_to_fingerprint(toxic_smiles)\n",
    "not_toxic_fingerprint = smiles_to_fingerprint(not_toxic_smiles)\n",
    "\n",
    "toxic_df = pd.DataFrame(toxic_fingerprint,index=toxic_smiles,columns=range(1024))\n",
    "not_toxic_df = pd.DataFrame(not_toxic_fingerprint,index=not_toxic_smiles,columns=range(1024))\n",
    "toxic_df.reset_index(inplace=True)\n",
    "toxic_df.rename(columns={'index':'smiles'},inplace=True)\n",
    "not_toxic_df.reset_index(inplace=True)\n",
    "not_toxic_df.rename(columns={'index':'smiles'},inplace=True)\n",
    "\n",
    "toxic_df['label'] = 1\n",
    "not_toxic_df['label'] = 0"
   ]
  },
  {
   "cell_type": "code",
   "execution_count": 5,
   "metadata": {},
   "outputs": [
    {
     "name": "stdout",
     "output_type": "stream",
     "text": [
      "(2106, 1024)\n"
     ]
    }
   ],
   "source": [
    "df = pd.concat([toxic_df, not_toxic_df], axis=0)\n",
    "data_df = df.drop(['smiles','label'], axis=1)\n",
    "print(data_df.shape)"
   ]
  },
  {
   "cell_type": "code",
   "execution_count": 6,
   "metadata": {},
   "outputs": [],
   "source": [
    "train_x, test_x, train_y, test_y = train_test_split(data_df, df['label'], test_size=0.2, random_state=999)"
   ]
  },
  {
   "cell_type": "markdown",
   "metadata": {},
   "source": [
    "### Model hyperparameter selection"
   ]
  },
  {
   "cell_type": "code",
   "execution_count": 14,
   "metadata": {},
   "outputs": [],
   "source": [
    "import optuna  \n",
    "from sklearn.metrics import log_loss, accuracy_score, roc_auc_score\n",
    "from sklearn.model_selection import train_test_split\n",
    "from sklearn.model_selection import StratifiedKFold"
   ]
  },
  {
   "cell_type": "code",
   "execution_count": 15,
   "metadata": {},
   "outputs": [],
   "source": [
    "from optuna.integration import LightGBMPruningCallback\n",
    "\n",
    "def objective(trial, X, y):\n",
    "    # Parameter grid\n",
    "    param_grid = {\n",
    "        \"n_estimators\": trial.suggest_int(\"n_estimators\", 100, 1000, step=100),\n",
    "        \"learning_rate\": trial.suggest_float(\"learning_rate\", 0.1, 0.5, step=0.05), \n",
    "        \"num_leaves\": trial.suggest_int(\"num_leaves\", 20, 1000, step=20),\n",
    "        \"max_depth\": trial.suggest_int(\"max_depth\", 3, 12),\n",
    "        \"min_data_in_leaf\": trial.suggest_int(\"min_data_in_leaf\", 100, 500, step=100), \n",
    "        \"lambda_l1\": trial.suggest_int(\"lambda_l1\", 0, 100, step=5),\n",
    "        \"lambda_l2\": trial.suggest_int(\"lambda_l2\", 0, 100, step=5),\n",
    "        \"min_gain_to_split\": trial.suggest_float(\"min_gain_to_split\", 0, 15, step=0.1),\n",
    "        \"bagging_fraction\": trial.suggest_float(\"bagging_fraction\", 0.2, 1.0, step=0.1), \n",
    "        \"bagging_freq\": trial.suggest_categorical(\"bagging_freq\", [1]),\n",
    "        \"feature_fraction\": trial.suggest_float(\"feature_fraction\", 0.2, 0.9, step=0.1),\n",
    "        \"random_state\": 2023,\n",
    "    }\n",
    "\n",
    "    X_train, X_val, y_train, y_val = train_test_split(X,y,test_size=0.1,random_state=999) \n",
    "    \n",
    "    model = lgbm.LGBMClassifier(objective=\"binary\", **param_grid) \n",
    "    model.fit(\n",
    "        X_train,\n",
    "        y_train,\n",
    "        eval_set=[(X_val, y_val)],\n",
    "        eval_metric=\"auc\", \n",
    "        callbacks=[\n",
    "            LightGBMPruningCallback(trial, \"auc\"),\n",
    "            lgbm.early_stopping(20),\n",
    "        ],\n",
    "    )\n",
    "    \n",
    "    preds = model.predict_proba(X_val)\n",
    "    auc = roc_auc_score(y_val, preds[:, 1])\n",
    "    return auc\n"
   ]
  },
  {
   "cell_type": "code",
   "execution_count": 16,
   "metadata": {},
   "outputs": [
    {
     "name": "stderr",
     "output_type": "stream",
     "text": [
      "[I 2023-09-10 06:31:22,273] A new study created in memory with name: LGBM Classifier\n",
      "[I 2023-09-10 06:31:22,433] Trial 0 finished with value: 0.5 and parameters: {'n_estimators': 1000, 'learning_rate': 0.35, 'num_leaves': 200, 'max_depth': 12, 'min_data_in_leaf': 200, 'lambda_l1': 40, 'lambda_l2': 50, 'min_gain_to_split': 4.5, 'bagging_fraction': 0.5, 'bagging_freq': 1, 'feature_fraction': 0.2}. Best is trial 0 with value: 0.5.\n"
     ]
    },
    {
     "name": "stdout",
     "output_type": "stream",
     "text": [
      "[LightGBM] [Warning] lambda_l1 is set=40, reg_alpha=0.0 will be ignored. Current value: lambda_l1=40\n",
      "[LightGBM] [Warning] bagging_fraction is set=0.5, subsample=1.0 will be ignored. Current value: bagging_fraction=0.5\n",
      "[LightGBM] [Warning] feature_fraction is set=0.2, colsample_bytree=1.0 will be ignored. Current value: feature_fraction=0.2\n",
      "[LightGBM] [Warning] min_data_in_leaf is set=200, min_child_samples=20 will be ignored. Current value: min_data_in_leaf=200\n",
      "[LightGBM] [Warning] bagging_freq is set=1, subsample_freq=0 will be ignored. Current value: bagging_freq=1\n",
      "[LightGBM] [Warning] min_gain_to_split is set=4.5, min_split_gain=0.0 will be ignored. Current value: min_gain_to_split=4.5\n",
      "[LightGBM] [Warning] lambda_l2 is set=50, reg_lambda=0.0 will be ignored. Current value: lambda_l2=50\n",
      "Training until validation scores don't improve for 20 rounds\n",
      "Early stopping, best iteration is:\n",
      "[1]\tvalid_0's auc: 0.5\tvalid_0's binary_logloss: 0.6766\n",
      "[LightGBM] [Warning] lambda_l1 is set=35, reg_alpha=0.0 will be ignored. Current value: lambda_l1=35\n",
      "[LightGBM] [Warning] bagging_fraction is set=0.8, subsample=1.0 will be ignored. Current value: bagging_fraction=0.8\n",
      "[LightGBM] [Warning] feature_fraction is set=0.8, colsample_bytree=1.0 will be ignored. Current value: feature_fraction=0.8\n",
      "[LightGBM] [Warning] min_data_in_leaf is set=100, min_child_samples=20 will be ignored. Current value: min_data_in_leaf=100\n",
      "[LightGBM] [Warning] bagging_freq is set=1, subsample_freq=0 will be ignored. Current value: bagging_freq=1\n",
      "[LightGBM] [Warning] min_gain_to_split is set=5.5, min_split_gain=0.0 will be ignored. Current value: min_gain_to_split=5.5\n",
      "[LightGBM] [Warning] lambda_l2 is set=35, reg_lambda=0.0 will be ignored. Current value: lambda_l2=35\n"
     ]
    },
    {
     "name": "stderr",
     "output_type": "stream",
     "text": [
      "[I 2023-09-10 06:31:22,587] Trial 1 finished with value: 0.602140361094933 and parameters: {'n_estimators': 900, 'learning_rate': 0.5, 'num_leaves': 400, 'max_depth': 5, 'min_data_in_leaf': 100, 'lambda_l1': 35, 'lambda_l2': 35, 'min_gain_to_split': 5.5, 'bagging_fraction': 0.8, 'bagging_freq': 1, 'feature_fraction': 0.8}. Best is trial 1 with value: 0.602140361094933.\n",
      "[I 2023-09-10 06:31:22,690] Trial 2 finished with value: 0.5 and parameters: {'n_estimators': 500, 'learning_rate': 0.30000000000000004, 'num_leaves': 960, 'max_depth': 4, 'min_data_in_leaf': 500, 'lambda_l1': 55, 'lambda_l2': 15, 'min_gain_to_split': 2.3000000000000003, 'bagging_fraction': 0.8, 'bagging_freq': 1, 'feature_fraction': 0.6000000000000001}. Best is trial 1 with value: 0.602140361094933.\n"
     ]
    },
    {
     "name": "stdout",
     "output_type": "stream",
     "text": [
      "Training until validation scores don't improve for 20 rounds\n",
      "Early stopping, best iteration is:\n",
      "[1]\tvalid_0's auc: 0.60214\tvalid_0's binary_logloss: 0.66844\n",
      "[LightGBM] [Warning] lambda_l1 is set=55, reg_alpha=0.0 will be ignored. Current value: lambda_l1=55\n",
      "[LightGBM] [Warning] bagging_fraction is set=0.8, subsample=1.0 will be ignored. Current value: bagging_fraction=0.8\n",
      "[LightGBM] [Warning] feature_fraction is set=0.6000000000000001, colsample_bytree=1.0 will be ignored. Current value: feature_fraction=0.6000000000000001\n",
      "[LightGBM] [Warning] min_data_in_leaf is set=500, min_child_samples=20 will be ignored. Current value: min_data_in_leaf=500\n",
      "[LightGBM] [Warning] bagging_freq is set=1, subsample_freq=0 will be ignored. Current value: bagging_freq=1\n",
      "[LightGBM] [Warning] min_gain_to_split is set=2.3000000000000003, min_split_gain=0.0 will be ignored. Current value: min_gain_to_split=2.3000000000000003\n",
      "[LightGBM] [Warning] lambda_l2 is set=15, reg_lambda=0.0 will be ignored. Current value: lambda_l2=15\n",
      "Training until validation scores don't improve for 20 rounds\n",
      "Early stopping, best iteration is:\n",
      "[1]\tvalid_0's auc: 0.5\tvalid_0's binary_logloss: 0.6766\n",
      "[LightGBM] [Warning] lambda_l1 is set=85, reg_alpha=0.0 will be ignored. Current value: lambda_l1=85\n",
      "[LightGBM] [Warning] bagging_fraction is set=0.30000000000000004, subsample=1.0 will be ignored. Current value: bagging_fraction=0.30000000000000004\n",
      "[LightGBM] [Warning] feature_fraction is set=0.30000000000000004, colsample_bytree=1.0 will be ignored. Current value: feature_fraction=0.30000000000000004\n",
      "[LightGBM] [Warning] min_data_in_leaf is set=400, min_child_samples=20 will be ignored. Current value: min_data_in_leaf=400\n",
      "[LightGBM] [Warning] bagging_freq is set=1, subsample_freq=0 will be ignored. Current value: bagging_freq=1\n",
      "[LightGBM] [Warning] min_gain_to_split is set=10.600000000000001, min_split_gain=0.0 will be ignored. Current value: min_gain_to_split=10.600000000000001\n",
      "[LightGBM] [Warning] lambda_l2 is set=90, reg_lambda=0.0 will be ignored. Current value: lambda_l2=90\n"
     ]
    },
    {
     "name": "stderr",
     "output_type": "stream",
     "text": [
      "[I 2023-09-10 06:31:22,819] Trial 3 finished with value: 0.5 and parameters: {'n_estimators': 500, 'learning_rate': 0.25, 'num_leaves': 120, 'max_depth': 6, 'min_data_in_leaf': 400, 'lambda_l1': 85, 'lambda_l2': 90, 'min_gain_to_split': 10.600000000000001, 'bagging_fraction': 0.30000000000000004, 'bagging_freq': 1, 'feature_fraction': 0.30000000000000004}. Best is trial 1 with value: 0.602140361094933.\n",
      "[I 2023-09-10 06:31:22,928] Trial 4 finished with value: 0.5 and parameters: {'n_estimators': 800, 'learning_rate': 0.35, 'num_leaves': 920, 'max_depth': 8, 'min_data_in_leaf': 400, 'lambda_l1': 95, 'lambda_l2': 95, 'min_gain_to_split': 3.2, 'bagging_fraction': 0.8, 'bagging_freq': 1, 'feature_fraction': 0.2}. Best is trial 1 with value: 0.602140361094933.\n"
     ]
    },
    {
     "name": "stdout",
     "output_type": "stream",
     "text": [
      "Training until validation scores don't improve for 20 rounds\n",
      "Early stopping, best iteration is:\n",
      "[1]\tvalid_0's auc: 0.5\tvalid_0's binary_logloss: 0.6766\n",
      "[LightGBM] [Warning] lambda_l1 is set=95, reg_alpha=0.0 will be ignored. Current value: lambda_l1=95\n",
      "[LightGBM] [Warning] bagging_fraction is set=0.8, subsample=1.0 will be ignored. Current value: bagging_fraction=0.8\n",
      "[LightGBM] [Warning] feature_fraction is set=0.2, colsample_bytree=1.0 will be ignored. Current value: feature_fraction=0.2\n",
      "[LightGBM] [Warning] min_data_in_leaf is set=400, min_child_samples=20 will be ignored. Current value: min_data_in_leaf=400\n",
      "[LightGBM] [Warning] bagging_freq is set=1, subsample_freq=0 will be ignored. Current value: bagging_freq=1\n",
      "[LightGBM] [Warning] min_gain_to_split is set=3.2, min_split_gain=0.0 will be ignored. Current value: min_gain_to_split=3.2\n",
      "[LightGBM] [Warning] lambda_l2 is set=95, reg_lambda=0.0 will be ignored. Current value: lambda_l2=95\n",
      "Training until validation scores don't improve for 20 rounds\n",
      "Early stopping, best iteration is:\n",
      "[1]\tvalid_0's auc: 0.5\tvalid_0's binary_logloss: 0.6766\n",
      "[LightGBM] [Warning] lambda_l1 is set=20, reg_alpha=0.0 will be ignored. Current value: lambda_l1=20\n",
      "[LightGBM] [Warning] bagging_fraction is set=0.7, subsample=1.0 will be ignored. Current value: bagging_fraction=0.7\n",
      "[LightGBM] [Warning] feature_fraction is set=0.7, colsample_bytree=1.0 will be ignored. Current value: feature_fraction=0.7\n",
      "[LightGBM] [Warning] min_data_in_leaf is set=500, min_child_samples=20 will be ignored. Current value: min_data_in_leaf=500\n",
      "[LightGBM] [Warning] bagging_freq is set=1, subsample_freq=0 will be ignored. Current value: bagging_freq=1\n",
      "[LightGBM] [Warning] min_gain_to_split is set=14.9, min_split_gain=0.0 will be ignored. Current value: min_gain_to_split=14.9\n",
      "[LightGBM] [Warning] lambda_l2 is set=25, reg_lambda=0.0 will be ignored. Current value: lambda_l2=25\n"
     ]
    },
    {
     "name": "stderr",
     "output_type": "stream",
     "text": [
      "[I 2023-09-10 06:31:23,037] Trial 5 finished with value: 0.5 and parameters: {'n_estimators': 600, 'learning_rate': 0.15000000000000002, 'num_leaves': 660, 'max_depth': 3, 'min_data_in_leaf': 500, 'lambda_l1': 20, 'lambda_l2': 25, 'min_gain_to_split': 14.9, 'bagging_fraction': 0.7, 'bagging_freq': 1, 'feature_fraction': 0.7}. Best is trial 1 with value: 0.602140361094933.\n",
      "[I 2023-09-10 06:31:23,165] Trial 6 finished with value: 0.5 and parameters: {'n_estimators': 500, 'learning_rate': 0.4, 'num_leaves': 900, 'max_depth': 11, 'min_data_in_leaf': 400, 'lambda_l1': 45, 'lambda_l2': 95, 'min_gain_to_split': 2.5, 'bagging_fraction': 0.4, 'bagging_freq': 1, 'feature_fraction': 0.4}. Best is trial 1 with value: 0.602140361094933.\n"
     ]
    },
    {
     "name": "stdout",
     "output_type": "stream",
     "text": [
      "Training until validation scores don't improve for 20 rounds\n",
      "Early stopping, best iteration is:\n",
      "[1]\tvalid_0's auc: 0.5\tvalid_0's binary_logloss: 0.6766\n",
      "[LightGBM] [Warning] lambda_l1 is set=45, reg_alpha=0.0 will be ignored. Current value: lambda_l1=45\n",
      "[LightGBM] [Warning] bagging_fraction is set=0.4, subsample=1.0 will be ignored. Current value: bagging_fraction=0.4\n",
      "[LightGBM] [Warning] feature_fraction is set=0.4, colsample_bytree=1.0 will be ignored. Current value: feature_fraction=0.4\n",
      "[LightGBM] [Warning] min_data_in_leaf is set=400, min_child_samples=20 will be ignored. Current value: min_data_in_leaf=400\n",
      "[LightGBM] [Warning] bagging_freq is set=1, subsample_freq=0 will be ignored. Current value: bagging_freq=1\n",
      "[LightGBM] [Warning] min_gain_to_split is set=2.5, min_split_gain=0.0 will be ignored. Current value: min_gain_to_split=2.5\n",
      "[LightGBM] [Warning] lambda_l2 is set=95, reg_lambda=0.0 will be ignored. Current value: lambda_l2=95\n",
      "Training until validation scores don't improve for 20 rounds\n",
      "Early stopping, best iteration is:\n",
      "[1]\tvalid_0's auc: 0.5\tvalid_0's binary_logloss: 0.6766\n"
     ]
    },
    {
     "name": "stderr",
     "output_type": "stream",
     "text": [
      "[I 2023-09-10 06:31:23,340] Trial 7 finished with value: 0.5 and parameters: {'n_estimators': 1000, 'learning_rate': 0.25, 'num_leaves': 260, 'max_depth': 8, 'min_data_in_leaf': 100, 'lambda_l1': 95, 'lambda_l2': 0, 'min_gain_to_split': 4.1000000000000005, 'bagging_fraction': 0.8, 'bagging_freq': 1, 'feature_fraction': 0.30000000000000004}. Best is trial 1 with value: 0.602140361094933.\n"
     ]
    },
    {
     "name": "stdout",
     "output_type": "stream",
     "text": [
      "[LightGBM] [Warning] lambda_l1 is set=95, reg_alpha=0.0 will be ignored. Current value: lambda_l1=95\n",
      "[LightGBM] [Warning] bagging_fraction is set=0.8, subsample=1.0 will be ignored. Current value: bagging_fraction=0.8\n",
      "[LightGBM] [Warning] feature_fraction is set=0.30000000000000004, colsample_bytree=1.0 will be ignored. Current value: feature_fraction=0.30000000000000004\n",
      "[LightGBM] [Warning] min_data_in_leaf is set=100, min_child_samples=20 will be ignored. Current value: min_data_in_leaf=100\n",
      "[LightGBM] [Warning] bagging_freq is set=1, subsample_freq=0 will be ignored. Current value: bagging_freq=1\n",
      "[LightGBM] [Warning] min_gain_to_split is set=4.1000000000000005, min_split_gain=0.0 will be ignored. Current value: min_gain_to_split=4.1000000000000005\n",
      "[LightGBM] [Warning] lambda_l2 is set=0, reg_lambda=0.0 will be ignored. Current value: lambda_l2=0\n",
      "Training until validation scores don't improve for 20 rounds\n",
      "Early stopping, best iteration is:\n",
      "[1]\tvalid_0's auc: 0.5\tvalid_0's binary_logloss: 0.6766\n",
      "[LightGBM] [Warning] lambda_l1 is set=80, reg_alpha=0.0 will be ignored. Current value: lambda_l1=80\n",
      "[LightGBM] [Warning] bagging_fraction is set=1.0, subsample=1.0 will be ignored. Current value: bagging_fraction=1.0\n",
      "[LightGBM] [Warning] feature_fraction is set=0.8, colsample_bytree=1.0 will be ignored. Current value: feature_fraction=0.8\n",
      "[LightGBM] [Warning] min_data_in_leaf is set=200, min_child_samples=20 will be ignored. Current value: min_data_in_leaf=200\n",
      "[LightGBM] [Warning] bagging_freq is set=1, subsample_freq=0 will be ignored. Current value: bagging_freq=1\n",
      "[LightGBM] [Warning] min_gain_to_split is set=13.8, min_split_gain=0.0 will be ignored. Current value: min_gain_to_split=13.8\n",
      "[LightGBM] [Warning] lambda_l2 is set=95, reg_lambda=0.0 will be ignored. Current value: lambda_l2=95\n"
     ]
    },
    {
     "name": "stderr",
     "output_type": "stream",
     "text": [
      "[I 2023-09-10 06:31:23,459] Trial 8 finished with value: 0.5 and parameters: {'n_estimators': 700, 'learning_rate': 0.1, 'num_leaves': 280, 'max_depth': 11, 'min_data_in_leaf': 200, 'lambda_l1': 80, 'lambda_l2': 95, 'min_gain_to_split': 13.8, 'bagging_fraction': 1.0, 'bagging_freq': 1, 'feature_fraction': 0.8}. Best is trial 1 with value: 0.602140361094933.\n",
      "[I 2023-09-10 06:31:23,587] Trial 9 finished with value: 0.5 and parameters: {'n_estimators': 600, 'learning_rate': 0.30000000000000004, 'num_leaves': 760, 'max_depth': 9, 'min_data_in_leaf': 200, 'lambda_l1': 10, 'lambda_l2': 80, 'min_gain_to_split': 12.200000000000001, 'bagging_fraction': 0.30000000000000004, 'bagging_freq': 1, 'feature_fraction': 0.2}. Best is trial 1 with value: 0.602140361094933.\n"
     ]
    },
    {
     "name": "stdout",
     "output_type": "stream",
     "text": [
      "Training until validation scores don't improve for 20 rounds\n",
      "Early stopping, best iteration is:\n",
      "[1]\tvalid_0's auc: 0.5\tvalid_0's binary_logloss: 0.6766\n",
      "[LightGBM] [Warning] lambda_l1 is set=10, reg_alpha=0.0 will be ignored. Current value: lambda_l1=10\n",
      "[LightGBM] [Warning] bagging_fraction is set=0.30000000000000004, subsample=1.0 will be ignored. Current value: bagging_fraction=0.30000000000000004\n",
      "[LightGBM] [Warning] feature_fraction is set=0.2, colsample_bytree=1.0 will be ignored. Current value: feature_fraction=0.2\n",
      "[LightGBM] [Warning] min_data_in_leaf is set=200, min_child_samples=20 will be ignored. Current value: min_data_in_leaf=200\n",
      "[LightGBM] [Warning] bagging_freq is set=1, subsample_freq=0 will be ignored. Current value: bagging_freq=1\n",
      "[LightGBM] [Warning] min_gain_to_split is set=12.200000000000001, min_split_gain=0.0 will be ignored. Current value: min_gain_to_split=12.200000000000001\n",
      "[LightGBM] [Warning] lambda_l2 is set=80, reg_lambda=0.0 will be ignored. Current value: lambda_l2=80\n",
      "Training until validation scores don't improve for 20 rounds\n",
      "Early stopping, best iteration is:\n",
      "[1]\tvalid_0's auc: 0.5\tvalid_0's binary_logloss: 0.6766\n"
     ]
    },
    {
     "name": "stderr",
     "output_type": "stream",
     "text": [
      "[I 2023-09-10 06:31:23,837] Trial 10 finished with value: 0.7942632498543971 and parameters: {'n_estimators': 100, 'learning_rate': 0.5, 'num_leaves': 420, 'max_depth': 5, 'min_data_in_leaf': 100, 'lambda_l1': 0, 'lambda_l2': 55, 'min_gain_to_split': 7.7, 'bagging_fraction': 1.0, 'bagging_freq': 1, 'feature_fraction': 0.9}. Best is trial 10 with value: 0.7942632498543971.\n"
     ]
    },
    {
     "name": "stdout",
     "output_type": "stream",
     "text": [
      "[LightGBM] [Warning] lambda_l1 is set=0, reg_alpha=0.0 will be ignored. Current value: lambda_l1=0\n",
      "[LightGBM] [Warning] bagging_fraction is set=1.0, subsample=1.0 will be ignored. Current value: bagging_fraction=1.0\n",
      "[LightGBM] [Warning] feature_fraction is set=0.9, colsample_bytree=1.0 will be ignored. Current value: feature_fraction=0.9\n",
      "[LightGBM] [Warning] min_data_in_leaf is set=100, min_child_samples=20 will be ignored. Current value: min_data_in_leaf=100\n",
      "[LightGBM] [Warning] bagging_freq is set=1, subsample_freq=0 will be ignored. Current value: bagging_freq=1\n",
      "[LightGBM] [Warning] min_gain_to_split is set=7.7, min_split_gain=0.0 will be ignored. Current value: min_gain_to_split=7.7\n",
      "[LightGBM] [Warning] lambda_l2 is set=55, reg_lambda=0.0 will be ignored. Current value: lambda_l2=55\n",
      "Training until validation scores don't improve for 20 rounds\n",
      "Early stopping, best iteration is:\n",
      "[9]\tvalid_0's auc: 0.794263\tvalid_0's binary_logloss: 0.584942\n"
     ]
    },
    {
     "name": "stderr",
     "output_type": "stream",
     "text": [
      "[I 2023-09-10 06:31:24,088] Trial 11 finished with value: 0.7942632498543971 and parameters: {'n_estimators': 100, 'learning_rate': 0.5, 'num_leaves': 460, 'max_depth': 5, 'min_data_in_leaf': 100, 'lambda_l1': 0, 'lambda_l2': 55, 'min_gain_to_split': 7.7, 'bagging_fraction': 1.0, 'bagging_freq': 1, 'feature_fraction': 0.9}. Best is trial 10 with value: 0.7942632498543971.\n"
     ]
    },
    {
     "name": "stdout",
     "output_type": "stream",
     "text": [
      "[LightGBM] [Warning] lambda_l1 is set=0, reg_alpha=0.0 will be ignored. Current value: lambda_l1=0\n",
      "[LightGBM] [Warning] bagging_fraction is set=1.0, subsample=1.0 will be ignored. Current value: bagging_fraction=1.0\n",
      "[LightGBM] [Warning] feature_fraction is set=0.9, colsample_bytree=1.0 will be ignored. Current value: feature_fraction=0.9\n",
      "[LightGBM] [Warning] min_data_in_leaf is set=100, min_child_samples=20 will be ignored. Current value: min_data_in_leaf=100\n",
      "[LightGBM] [Warning] bagging_freq is set=1, subsample_freq=0 will be ignored. Current value: bagging_freq=1\n",
      "[LightGBM] [Warning] min_gain_to_split is set=7.7, min_split_gain=0.0 will be ignored. Current value: min_gain_to_split=7.7\n",
      "[LightGBM] [Warning] lambda_l2 is set=55, reg_lambda=0.0 will be ignored. Current value: lambda_l2=55\n",
      "Training until validation scores don't improve for 20 rounds\n",
      "Early stopping, best iteration is:\n",
      "[9]\tvalid_0's auc: 0.794263\tvalid_0's binary_logloss: 0.584942\n"
     ]
    },
    {
     "name": "stderr",
     "output_type": "stream",
     "text": [
      "[I 2023-09-10 06:31:24,318] Trial 12 finished with value: 0.8025626092020967 and parameters: {'n_estimators': 100, 'learning_rate': 0.5, 'num_leaves': 500, 'max_depth': 6, 'min_data_in_leaf': 100, 'lambda_l1': 0, 'lambda_l2': 65, 'min_gain_to_split': 8.9, 'bagging_fraction': 1.0, 'bagging_freq': 1, 'feature_fraction': 0.9}. Best is trial 12 with value: 0.8025626092020967.\n"
     ]
    },
    {
     "name": "stdout",
     "output_type": "stream",
     "text": [
      "[LightGBM] [Warning] lambda_l1 is set=0, reg_alpha=0.0 will be ignored. Current value: lambda_l1=0\n",
      "[LightGBM] [Warning] bagging_fraction is set=1.0, subsample=1.0 will be ignored. Current value: bagging_fraction=1.0\n",
      "[LightGBM] [Warning] feature_fraction is set=0.9, colsample_bytree=1.0 will be ignored. Current value: feature_fraction=0.9\n",
      "[LightGBM] [Warning] min_data_in_leaf is set=100, min_child_samples=20 will be ignored. Current value: min_data_in_leaf=100\n",
      "[LightGBM] [Warning] bagging_freq is set=1, subsample_freq=0 will be ignored. Current value: bagging_freq=1\n",
      "[LightGBM] [Warning] min_gain_to_split is set=8.9, min_split_gain=0.0 will be ignored. Current value: min_gain_to_split=8.9\n",
      "[LightGBM] [Warning] lambda_l2 is set=65, reg_lambda=0.0 will be ignored. Current value: lambda_l2=65\n",
      "Training until validation scores don't improve for 20 rounds\n",
      "Early stopping, best iteration is:\n",
      "[6]\tvalid_0's auc: 0.802563\tvalid_0's binary_logloss: 0.582765\n"
     ]
    },
    {
     "name": "stderr",
     "output_type": "stream",
     "text": [
      "[I 2023-09-10 06:31:24,531] Trial 13 pruned. Trial was pruned at iteration 21.\n"
     ]
    },
    {
     "name": "stdout",
     "output_type": "stream",
     "text": [
      "[LightGBM] [Warning] lambda_l1 is set=0, reg_alpha=0.0 will be ignored. Current value: lambda_l1=0\n",
      "[LightGBM] [Warning] bagging_fraction is set=1.0, subsample=1.0 will be ignored. Current value: bagging_fraction=1.0\n",
      "[LightGBM] [Warning] feature_fraction is set=0.9, colsample_bytree=1.0 will be ignored. Current value: feature_fraction=0.9\n",
      "[LightGBM] [Warning] min_data_in_leaf is set=300, min_child_samples=20 will be ignored. Current value: min_data_in_leaf=300\n",
      "[LightGBM] [Warning] bagging_freq is set=1, subsample_freq=0 will be ignored. Current value: bagging_freq=1\n",
      "[LightGBM] [Warning] min_gain_to_split is set=8.4, min_split_gain=0.0 will be ignored. Current value: min_gain_to_split=8.4\n",
      "[LightGBM] [Warning] lambda_l2 is set=65, reg_lambda=0.0 will be ignored. Current value: lambda_l2=65\n",
      "Training until validation scores don't improve for 20 rounds\n"
     ]
    },
    {
     "name": "stderr",
     "output_type": "stream",
     "text": [
      "[I 2023-09-10 06:31:24,744] Trial 14 pruned. Trial was pruned at iteration 21.\n"
     ]
    },
    {
     "name": "stdout",
     "output_type": "stream",
     "text": [
      "Training until validation scores don't improve for 20 rounds\n"
     ]
    },
    {
     "name": "stderr",
     "output_type": "stream",
     "text": [
      "[I 2023-09-10 06:31:24,961] Trial 15 pruned. Trial was pruned at iteration 21.\n"
     ]
    },
    {
     "name": "stdout",
     "output_type": "stream",
     "text": [
      "Training until validation scores don't improve for 20 rounds\n"
     ]
    },
    {
     "name": "stderr",
     "output_type": "stream",
     "text": [
      "[I 2023-09-10 06:31:25,184] Trial 16 pruned. Trial was pruned at iteration 21.\n"
     ]
    },
    {
     "name": "stdout",
     "output_type": "stream",
     "text": [
      "Training until validation scores don't improve for 20 rounds\n"
     ]
    },
    {
     "name": "stderr",
     "output_type": "stream",
     "text": [
      "[I 2023-09-10 06:31:25,393] Trial 17 pruned. Trial was pruned at iteration 21.\n"
     ]
    },
    {
     "name": "stdout",
     "output_type": "stream",
     "text": [
      "Training until validation scores don't improve for 20 rounds\n"
     ]
    },
    {
     "name": "stderr",
     "output_type": "stream",
     "text": [
      "[I 2023-09-10 06:31:25,637] Trial 18 finished with value: 0.6358474082702388 and parameters: {'n_estimators': 200, 'learning_rate': 0.4, 'num_leaves': 780, 'max_depth': 9, 'min_data_in_leaf': 200, 'lambda_l1': 10, 'lambda_l2': 40, 'min_gain_to_split': 12.0, 'bagging_fraction': 0.9000000000000001, 'bagging_freq': 1, 'feature_fraction': 0.7}. Best is trial 12 with value: 0.8025626092020967.\n"
     ]
    },
    {
     "name": "stdout",
     "output_type": "stream",
     "text": [
      "Training until validation scores don't improve for 20 rounds\n",
      "Early stopping, best iteration is:\n",
      "[1]\tvalid_0's auc: 0.635847\tvalid_0's binary_logloss: 0.662238\n",
      "[LightGBM] [Warning] lambda_l1 is set=30, reg_alpha=0.0 will be ignored. Current value: lambda_l1=30\n",
      "[LightGBM] [Warning] bagging_fraction is set=0.7, subsample=1.0 will be ignored. Current value: bagging_fraction=0.7\n",
      "[LightGBM] [Warning] feature_fraction is set=0.7, colsample_bytree=1.0 will be ignored. Current value: feature_fraction=0.7\n",
      "[LightGBM] [Warning] min_data_in_leaf is set=300, min_child_samples=20 will be ignored. Current value: min_data_in_leaf=300\n",
      "[LightGBM] [Warning] bagging_freq is set=1, subsample_freq=0 will be ignored. Current value: bagging_freq=1\n",
      "[LightGBM] [Warning] min_gain_to_split is set=8.5, min_split_gain=0.0 will be ignored. Current value: min_gain_to_split=8.5\n",
      "[LightGBM] [Warning] lambda_l2 is set=80, reg_lambda=0.0 will be ignored. Current value: lambda_l2=80\n"
     ]
    },
    {
     "name": "stderr",
     "output_type": "stream",
     "text": [
      "[I 2023-09-10 06:31:25,877] Trial 19 finished with value: 0.5 and parameters: {'n_estimators': 400, 'learning_rate': 0.5, 'num_leaves': 540, 'max_depth': 7, 'min_data_in_leaf': 300, 'lambda_l1': 30, 'lambda_l2': 80, 'min_gain_to_split': 8.5, 'bagging_fraction': 0.7, 'bagging_freq': 1, 'feature_fraction': 0.7}. Best is trial 12 with value: 0.8025626092020967.\n"
     ]
    },
    {
     "name": "stdout",
     "output_type": "stream",
     "text": [
      "Training until validation scores don't improve for 20 rounds\n",
      "Early stopping, best iteration is:\n",
      "[1]\tvalid_0's auc: 0.5\tvalid_0's binary_logloss: 0.6766\n"
     ]
    },
    {
     "name": "stderr",
     "output_type": "stream",
     "text": [
      "[I 2023-09-10 06:31:26,104] Trial 20 pruned. Trial was pruned at iteration 21.\n"
     ]
    },
    {
     "name": "stdout",
     "output_type": "stream",
     "text": [
      "[LightGBM] [Warning] lambda_l1 is set=55, reg_alpha=0.0 will be ignored. Current value: lambda_l1=55\n",
      "[LightGBM] [Warning] bagging_fraction is set=1.0, subsample=1.0 will be ignored. Current value: bagging_fraction=1.0\n",
      "[LightGBM] [Warning] feature_fraction is set=0.8, colsample_bytree=1.0 will be ignored. Current value: feature_fraction=0.8\n",
      "[LightGBM] [Warning] min_data_in_leaf is set=100, min_child_samples=20 will be ignored. Current value: min_data_in_leaf=100\n",
      "[LightGBM] [Warning] bagging_freq is set=1, subsample_freq=0 will be ignored. Current value: bagging_freq=1\n",
      "[LightGBM] [Warning] min_gain_to_split is set=11.600000000000001, min_split_gain=0.0 will be ignored. Current value: min_gain_to_split=11.600000000000001\n",
      "[LightGBM] [Warning] lambda_l2 is set=30, reg_lambda=0.0 will be ignored. Current value: lambda_l2=30\n",
      "Training until validation scores don't improve for 20 rounds\n"
     ]
    },
    {
     "name": "stderr",
     "output_type": "stream",
     "text": [
      "[I 2023-09-10 06:31:26,355] Trial 21 finished with value: 0.8300815375655213 and parameters: {'n_estimators': 100, 'learning_rate': 0.5, 'num_leaves': 480, 'max_depth': 5, 'min_data_in_leaf': 100, 'lambda_l1': 0, 'lambda_l2': 55, 'min_gain_to_split': 0.7000000000000001, 'bagging_fraction': 1.0, 'bagging_freq': 1, 'feature_fraction': 0.9}. Best is trial 21 with value: 0.8300815375655213.\n"
     ]
    },
    {
     "name": "stdout",
     "output_type": "stream",
     "text": [
      "Training until validation scores don't improve for 20 rounds\n",
      "Early stopping, best iteration is:\n",
      "[29]\tvalid_0's auc: 0.830082\tvalid_0's binary_logloss: 0.516491\n"
     ]
    },
    {
     "name": "stderr",
     "output_type": "stream",
     "text": [
      "[I 2023-09-10 06:31:26,618] Trial 22 pruned. Trial was pruned at iteration 29.\n"
     ]
    },
    {
     "name": "stdout",
     "output_type": "stream",
     "text": [
      "[LightGBM] [Warning] lambda_l1 is set=0, reg_alpha=0.0 will be ignored. Current value: lambda_l1=0\n",
      "[LightGBM] [Warning] bagging_fraction is set=0.9000000000000001, subsample=1.0 will be ignored. Current value: bagging_fraction=0.9000000000000001\n",
      "[LightGBM] [Warning] feature_fraction is set=0.9, colsample_bytree=1.0 will be ignored. Current value: feature_fraction=0.9\n",
      "[LightGBM] [Warning] min_data_in_leaf is set=100, min_child_samples=20 will be ignored. Current value: min_data_in_leaf=100\n",
      "[LightGBM] [Warning] bagging_freq is set=1, subsample_freq=0 will be ignored. Current value: bagging_freq=1\n",
      "[LightGBM] [Warning] min_gain_to_split is set=7.1000000000000005, min_split_gain=0.0 will be ignored. Current value: min_gain_to_split=7.1000000000000005\n",
      "[LightGBM] [Warning] lambda_l2 is set=55, reg_lambda=0.0 will be ignored. Current value: lambda_l2=55\n",
      "Training until validation scores don't improve for 20 rounds\n"
     ]
    },
    {
     "name": "stderr",
     "output_type": "stream",
     "text": [
      "[I 2023-09-10 06:31:26,846] Trial 23 pruned. Trial was pruned at iteration 21.\n"
     ]
    },
    {
     "name": "stdout",
     "output_type": "stream",
     "text": [
      "Training until validation scores don't improve for 20 rounds\n"
     ]
    },
    {
     "name": "stderr",
     "output_type": "stream",
     "text": [
      "[I 2023-09-10 06:31:27,063] Trial 24 pruned. Trial was pruned at iteration 21.\n"
     ]
    },
    {
     "name": "stdout",
     "output_type": "stream",
     "text": [
      "Training until validation scores don't improve for 20 rounds\n"
     ]
    },
    {
     "name": "stderr",
     "output_type": "stream",
     "text": [
      "[I 2023-09-10 06:31:27,311] Trial 25 finished with value: 0.6358474082702388 and parameters: {'n_estimators': 400, 'learning_rate': 0.35, 'num_leaves': 300, 'max_depth': 7, 'min_data_in_leaf': 200, 'lambda_l1': 10, 'lambda_l2': 55, 'min_gain_to_split': 9.1, 'bagging_fraction': 0.9000000000000001, 'bagging_freq': 1, 'feature_fraction': 0.7}. Best is trial 21 with value: 0.8300815375655213.\n"
     ]
    },
    {
     "name": "stdout",
     "output_type": "stream",
     "text": [
      "Training until validation scores don't improve for 20 rounds\n",
      "Early stopping, best iteration is:\n",
      "[1]\tvalid_0's auc: 0.635847\tvalid_0's binary_logloss: 0.664916\n"
     ]
    },
    {
     "name": "stderr",
     "output_type": "stream",
     "text": [
      "[I 2023-09-10 06:31:27,550] Trial 26 finished with value: 0.602140361094933 and parameters: {'n_estimators': 100, 'learning_rate': 0.4, 'num_leaves': 600, 'max_depth': 4, 'min_data_in_leaf': 100, 'lambda_l1': 25, 'lambda_l2': 85, 'min_gain_to_split': 5.4, 'bagging_fraction': 0.7, 'bagging_freq': 1, 'feature_fraction': 0.9}. Best is trial 21 with value: 0.8300815375655213.\n"
     ]
    },
    {
     "name": "stdout",
     "output_type": "stream",
     "text": [
      "[LightGBM] [Warning] lambda_l1 is set=25, reg_alpha=0.0 will be ignored. Current value: lambda_l1=25\n",
      "[LightGBM] [Warning] bagging_fraction is set=0.7, subsample=1.0 will be ignored. Current value: bagging_fraction=0.7\n",
      "[LightGBM] [Warning] feature_fraction is set=0.9, colsample_bytree=1.0 will be ignored. Current value: feature_fraction=0.9\n",
      "[LightGBM] [Warning] min_data_in_leaf is set=100, min_child_samples=20 will be ignored. Current value: min_data_in_leaf=100\n",
      "[LightGBM] [Warning] bagging_freq is set=1, subsample_freq=0 will be ignored. Current value: bagging_freq=1\n",
      "[LightGBM] [Warning] min_gain_to_split is set=5.4, min_split_gain=0.0 will be ignored. Current value: min_gain_to_split=5.4\n",
      "[LightGBM] [Warning] lambda_l2 is set=85, reg_lambda=0.0 will be ignored. Current value: lambda_l2=85\n",
      "Training until validation scores don't improve for 20 rounds\n",
      "Early stopping, best iteration is:\n",
      "[1]\tvalid_0's auc: 0.60214\tvalid_0's binary_logloss: 0.670546\n"
     ]
    },
    {
     "name": "stderr",
     "output_type": "stream",
     "text": [
      "[I 2023-09-10 06:31:27,782] Trial 27 pruned. Trial was pruned at iteration 21.\n"
     ]
    },
    {
     "name": "stdout",
     "output_type": "stream",
     "text": [
      "[LightGBM] [Warning] lambda_l1 is set=5, reg_alpha=0.0 will be ignored. Current value: lambda_l1=5\n",
      "[LightGBM] [Warning] bagging_fraction is set=1.0, subsample=1.0 will be ignored. Current value: bagging_fraction=1.0\n",
      "[LightGBM] [Warning] feature_fraction is set=0.8, colsample_bytree=1.0 will be ignored. Current value: feature_fraction=0.8\n",
      "[LightGBM] [Warning] min_data_in_leaf is set=200, min_child_samples=20 will be ignored. Current value: min_data_in_leaf=200\n",
      "[LightGBM] [Warning] bagging_freq is set=1, subsample_freq=0 will be ignored. Current value: bagging_freq=1\n",
      "[LightGBM] [Warning] min_gain_to_split is set=7.300000000000001, min_split_gain=0.0 will be ignored. Current value: min_gain_to_split=7.300000000000001\n",
      "[LightGBM] [Warning] lambda_l2 is set=70, reg_lambda=0.0 will be ignored. Current value: lambda_l2=70\n",
      "Training until validation scores don't improve for 20 rounds\n"
     ]
    },
    {
     "name": "stderr",
     "output_type": "stream",
     "text": [
      "[I 2023-09-10 06:31:28,009] Trial 28 pruned. Trial was pruned at iteration 21.\n"
     ]
    },
    {
     "name": "stdout",
     "output_type": "stream",
     "text": [
      "Training until validation scores don't improve for 20 rounds\n"
     ]
    },
    {
     "name": "stderr",
     "output_type": "stream",
     "text": [
      "[I 2023-09-10 06:31:28,243] Trial 29 pruned. Trial was pruned at iteration 21.\n"
     ]
    },
    {
     "name": "stdout",
     "output_type": "stream",
     "text": [
      "Training until validation scores don't improve for 20 rounds\n"
     ]
    },
    {
     "name": "stderr",
     "output_type": "stream",
     "text": [
      "[I 2023-09-10 06:31:28,476] Trial 30 pruned. Trial was pruned at iteration 21.\n"
     ]
    },
    {
     "name": "stdout",
     "output_type": "stream",
     "text": [
      "Training until validation scores don't improve for 20 rounds\n"
     ]
    },
    {
     "name": "stderr",
     "output_type": "stream",
     "text": [
      "[I 2023-09-10 06:31:28,722] Trial 31 pruned. Trial was pruned at iteration 21.\n"
     ]
    },
    {
     "name": "stdout",
     "output_type": "stream",
     "text": [
      "Training until validation scores don't improve for 20 rounds\n"
     ]
    },
    {
     "name": "stderr",
     "output_type": "stream",
     "text": [
      "[I 2023-09-10 06:31:28,953] Trial 32 pruned. Trial was pruned at iteration 21.\n"
     ]
    },
    {
     "name": "stdout",
     "output_type": "stream",
     "text": [
      "Training until validation scores don't improve for 20 rounds\n"
     ]
    },
    {
     "name": "stderr",
     "output_type": "stream",
     "text": [
      "[I 2023-09-10 06:31:29,200] Trial 33 pruned. Trial was pruned at iteration 21.\n"
     ]
    },
    {
     "name": "stdout",
     "output_type": "stream",
     "text": [
      "Training until validation scores don't improve for 20 rounds\n"
     ]
    },
    {
     "name": "stderr",
     "output_type": "stream",
     "text": [
      "[I 2023-09-10 06:31:29,430] Trial 34 pruned. Trial was pruned at iteration 21.\n"
     ]
    },
    {
     "name": "stdout",
     "output_type": "stream",
     "text": [
      "Training until validation scores don't improve for 20 rounds\n"
     ]
    },
    {
     "name": "stderr",
     "output_type": "stream",
     "text": [
      "[I 2023-09-10 06:31:29,654] Trial 35 pruned. Trial was pruned at iteration 21.\n"
     ]
    },
    {
     "name": "stdout",
     "output_type": "stream",
     "text": [
      "Training until validation scores don't improve for 20 rounds\n"
     ]
    },
    {
     "name": "stderr",
     "output_type": "stream",
     "text": [
      "[I 2023-09-10 06:31:29,890] Trial 36 pruned. Trial was pruned at iteration 21.\n"
     ]
    },
    {
     "name": "stdout",
     "output_type": "stream",
     "text": [
      "Training until validation scores don't improve for 20 rounds\n"
     ]
    },
    {
     "name": "stderr",
     "output_type": "stream",
     "text": [
      "[I 2023-09-10 06:31:30,113] Trial 37 pruned. Trial was pruned at iteration 21.\n"
     ]
    },
    {
     "name": "stdout",
     "output_type": "stream",
     "text": [
      "Training until validation scores don't improve for 20 rounds\n"
     ]
    },
    {
     "name": "stderr",
     "output_type": "stream",
     "text": [
      "[I 2023-09-10 06:31:30,346] Trial 38 pruned. Trial was pruned at iteration 21.\n"
     ]
    },
    {
     "name": "stdout",
     "output_type": "stream",
     "text": [
      "Training until validation scores don't improve for 20 rounds\n"
     ]
    },
    {
     "name": "stderr",
     "output_type": "stream",
     "text": [
      "[I 2023-09-10 06:31:30,590] Trial 39 finished with value: 0.5 and parameters: {'n_estimators': 100, 'learning_rate': 0.4, 'num_leaves': 480, 'max_depth': 5, 'min_data_in_leaf': 400, 'lambda_l1': 10, 'lambda_l2': 35, 'min_gain_to_split': 3.0, 'bagging_fraction': 0.5, 'bagging_freq': 1, 'feature_fraction': 0.8}. Best is trial 21 with value: 0.8300815375655213.\n"
     ]
    },
    {
     "name": "stdout",
     "output_type": "stream",
     "text": [
      "Training until validation scores don't improve for 20 rounds\n",
      "Early stopping, best iteration is:\n",
      "[1]\tvalid_0's auc: 0.5\tvalid_0's binary_logloss: 0.6766\n"
     ]
    },
    {
     "name": "stderr",
     "output_type": "stream",
     "text": [
      "[I 2023-09-10 06:31:30,838] Trial 40 finished with value: 0.602140361094933 and parameters: {'n_estimators': 400, 'learning_rate': 0.1, 'num_leaves': 320, 'max_depth': 4, 'min_data_in_leaf': 200, 'lambda_l1': 20, 'lambda_l2': 10, 'min_gain_to_split': 12.9, 'bagging_fraction': 0.7, 'bagging_freq': 1, 'feature_fraction': 0.7}. Best is trial 21 with value: 0.8300815375655213.\n"
     ]
    },
    {
     "name": "stdout",
     "output_type": "stream",
     "text": [
      "[LightGBM] [Warning] lambda_l1 is set=20, reg_alpha=0.0 will be ignored. Current value: lambda_l1=20\n",
      "[LightGBM] [Warning] bagging_fraction is set=0.7, subsample=1.0 will be ignored. Current value: bagging_fraction=0.7\n",
      "[LightGBM] [Warning] feature_fraction is set=0.7, colsample_bytree=1.0 will be ignored. Current value: feature_fraction=0.7\n",
      "[LightGBM] [Warning] min_data_in_leaf is set=200, min_child_samples=20 will be ignored. Current value: min_data_in_leaf=200\n",
      "[LightGBM] [Warning] bagging_freq is set=1, subsample_freq=0 will be ignored. Current value: bagging_freq=1\n",
      "[LightGBM] [Warning] min_gain_to_split is set=12.9, min_split_gain=0.0 will be ignored. Current value: min_gain_to_split=12.9\n",
      "[LightGBM] [Warning] lambda_l2 is set=10, reg_lambda=0.0 will be ignored. Current value: lambda_l2=10\n",
      "Training until validation scores don't improve for 20 rounds\n",
      "Early stopping, best iteration is:\n",
      "[1]\tvalid_0's auc: 0.60214\tvalid_0's binary_logloss: 0.672724\n"
     ]
    },
    {
     "name": "stderr",
     "output_type": "stream",
     "text": [
      "[I 2023-09-10 06:31:31,104] Trial 41 finished with value: 0.6358474082702388 and parameters: {'n_estimators': 200, 'learning_rate': 0.4, 'num_leaves': 820, 'max_depth': 9, 'min_data_in_leaf': 200, 'lambda_l1': 5, 'lambda_l2': 40, 'min_gain_to_split': 14.8, 'bagging_fraction': 0.9000000000000001, 'bagging_freq': 1, 'feature_fraction': 0.9}. Best is trial 21 with value: 0.8300815375655213.\n"
     ]
    },
    {
     "name": "stdout",
     "output_type": "stream",
     "text": [
      "[LightGBM] [Warning] lambda_l1 is set=5, reg_alpha=0.0 will be ignored. Current value: lambda_l1=5\n",
      "[LightGBM] [Warning] bagging_fraction is set=0.9000000000000001, subsample=1.0 will be ignored. Current value: bagging_fraction=0.9000000000000001\n",
      "[LightGBM] [Warning] feature_fraction is set=0.9, colsample_bytree=1.0 will be ignored. Current value: feature_fraction=0.9\n",
      "[LightGBM] [Warning] min_data_in_leaf is set=200, min_child_samples=20 will be ignored. Current value: min_data_in_leaf=200\n",
      "[LightGBM] [Warning] bagging_freq is set=1, subsample_freq=0 will be ignored. Current value: bagging_freq=1\n",
      "[LightGBM] [Warning] min_gain_to_split is set=14.8, min_split_gain=0.0 will be ignored. Current value: min_gain_to_split=14.8\n",
      "[LightGBM] [Warning] lambda_l2 is set=40, reg_lambda=0.0 will be ignored. Current value: lambda_l2=40\n",
      "Training until validation scores don't improve for 20 rounds\n",
      "Early stopping, best iteration is:\n",
      "[1]\tvalid_0's auc: 0.635847\tvalid_0's binary_logloss: 0.661155\n"
     ]
    },
    {
     "name": "stderr",
     "output_type": "stream",
     "text": [
      "[I 2023-09-10 06:31:31,368] Trial 42 finished with value: 0.6932877111240536 and parameters: {'n_estimators': 100, 'learning_rate': 0.45000000000000007, 'num_leaves': 860, 'max_depth': 10, 'min_data_in_leaf': 100, 'lambda_l1': 10, 'lambda_l2': 50, 'min_gain_to_split': 10.9, 'bagging_fraction': 1.0, 'bagging_freq': 1, 'feature_fraction': 0.6000000000000001}. Best is trial 21 with value: 0.8300815375655213.\n"
     ]
    },
    {
     "name": "stdout",
     "output_type": "stream",
     "text": [
      "[LightGBM] [Warning] lambda_l1 is set=10, reg_alpha=0.0 will be ignored. Current value: lambda_l1=10\n",
      "[LightGBM] [Warning] bagging_fraction is set=1.0, subsample=1.0 will be ignored. Current value: bagging_fraction=1.0\n",
      "[LightGBM] [Warning] feature_fraction is set=0.6000000000000001, colsample_bytree=1.0 will be ignored. Current value: feature_fraction=0.6000000000000001\n",
      "[LightGBM] [Warning] min_data_in_leaf is set=100, min_child_samples=20 will be ignored. Current value: min_data_in_leaf=100\n",
      "[LightGBM] [Warning] bagging_freq is set=1, subsample_freq=0 will be ignored. Current value: bagging_freq=1\n",
      "[LightGBM] [Warning] min_gain_to_split is set=10.9, min_split_gain=0.0 will be ignored. Current value: min_gain_to_split=10.9\n",
      "[LightGBM] [Warning] lambda_l2 is set=50, reg_lambda=0.0 will be ignored. Current value: lambda_l2=50\n",
      "Training until validation scores don't improve for 20 rounds\n",
      "Early stopping, best iteration is:\n",
      "[1]\tvalid_0's auc: 0.693288\tvalid_0's binary_logloss: 0.651174\n"
     ]
    },
    {
     "name": "stderr",
     "output_type": "stream",
     "text": [
      "[I 2023-09-10 06:31:31,614] Trial 43 pruned. Trial was pruned at iteration 21.\n"
     ]
    },
    {
     "name": "stdout",
     "output_type": "stream",
     "text": [
      "[LightGBM] [Warning] lambda_l1 is set=0, reg_alpha=0.0 will be ignored. Current value: lambda_l1=0\n",
      "[LightGBM] [Warning] bagging_fraction is set=1.0, subsample=1.0 will be ignored. Current value: bagging_fraction=1.0\n",
      "[LightGBM] [Warning] feature_fraction is set=0.30000000000000004, colsample_bytree=1.0 will be ignored. Current value: feature_fraction=0.30000000000000004\n",
      "[LightGBM] [Warning] min_data_in_leaf is set=100, min_child_samples=20 will be ignored. Current value: min_data_in_leaf=100\n",
      "[LightGBM] [Warning] bagging_freq is set=1, subsample_freq=0 will be ignored. Current value: bagging_freq=1\n",
      "[LightGBM] [Warning] min_gain_to_split is set=10.8, min_split_gain=0.0 will be ignored. Current value: min_gain_to_split=10.8\n",
      "[LightGBM] [Warning] lambda_l2 is set=55, reg_lambda=0.0 will be ignored. Current value: lambda_l2=55\n",
      "Training until validation scores don't improve for 20 rounds\n"
     ]
    },
    {
     "name": "stderr",
     "output_type": "stream",
     "text": [
      "[I 2023-09-10 06:31:31,861] Trial 44 pruned. Trial was pruned at iteration 21.\n"
     ]
    },
    {
     "name": "stdout",
     "output_type": "stream",
     "text": [
      "Training until validation scores don't improve for 20 rounds\n"
     ]
    },
    {
     "name": "stderr",
     "output_type": "stream",
     "text": [
      "[I 2023-09-10 06:31:32,108] Trial 45 pruned. Trial was pruned at iteration 21.\n"
     ]
    },
    {
     "name": "stdout",
     "output_type": "stream",
     "text": [
      "Training until validation scores don't improve for 20 rounds\n"
     ]
    },
    {
     "name": "stderr",
     "output_type": "stream",
     "text": [
      "[I 2023-09-10 06:31:32,419] Trial 46 pruned. Trial was pruned at iteration 21.\n"
     ]
    },
    {
     "name": "stdout",
     "output_type": "stream",
     "text": [
      "Training until validation scores don't improve for 20 rounds\n"
     ]
    },
    {
     "name": "stderr",
     "output_type": "stream",
     "text": [
      "[I 2023-09-10 06:31:32,657] Trial 47 pruned. Trial was pruned at iteration 0.\n",
      "[I 2023-09-10 06:31:32,904] Trial 48 pruned. Trial was pruned at iteration 0.\n",
      "[I 2023-09-10 06:31:33,297] Trial 49 pruned. Trial was pruned at iteration 0.\n",
      "[I 2023-09-10 06:31:33,517] Trial 50 pruned. Trial was pruned at iteration 0.\n",
      "[I 2023-09-10 06:31:33,760] Trial 51 pruned. Trial was pruned at iteration 21.\n"
     ]
    },
    {
     "name": "stdout",
     "output_type": "stream",
     "text": [
      "Training until validation scores don't improve for 20 rounds\n"
     ]
    },
    {
     "name": "stderr",
     "output_type": "stream",
     "text": [
      "[I 2023-09-10 06:31:34,008] Trial 52 pruned. Trial was pruned at iteration 21.\n"
     ]
    },
    {
     "name": "stdout",
     "output_type": "stream",
     "text": [
      "Training until validation scores don't improve for 20 rounds\n"
     ]
    },
    {
     "name": "stderr",
     "output_type": "stream",
     "text": [
      "[I 2023-09-10 06:31:34,269] Trial 53 pruned. Trial was pruned at iteration 21.\n"
     ]
    },
    {
     "name": "stdout",
     "output_type": "stream",
     "text": [
      "Training until validation scores don't improve for 20 rounds\n"
     ]
    },
    {
     "name": "stderr",
     "output_type": "stream",
     "text": [
      "[I 2023-09-10 06:31:34,534] Trial 54 pruned. Trial was pruned at iteration 21.\n"
     ]
    },
    {
     "name": "stdout",
     "output_type": "stream",
     "text": [
      "Training until validation scores don't improve for 20 rounds\n"
     ]
    },
    {
     "name": "stderr",
     "output_type": "stream",
     "text": [
      "[I 2023-09-10 06:31:34,810] Trial 55 pruned. Trial was pruned at iteration 21.\n"
     ]
    },
    {
     "name": "stdout",
     "output_type": "stream",
     "text": [
      "Training until validation scores don't improve for 20 rounds\n"
     ]
    },
    {
     "name": "stderr",
     "output_type": "stream",
     "text": [
      "[I 2023-09-10 06:31:35,024] Trial 56 pruned. Trial was pruned at iteration 0.\n",
      "[I 2023-09-10 06:31:35,243] Trial 57 pruned. Trial was pruned at iteration 0.\n",
      "[I 2023-09-10 06:31:35,463] Trial 58 pruned. Trial was pruned at iteration 0.\n",
      "[I 2023-09-10 06:31:35,712] Trial 59 finished with value: 0.602140361094933 and parameters: {'n_estimators': 100, 'learning_rate': 0.5, 'num_leaves': 540, 'max_depth': 3, 'min_data_in_leaf': 100, 'lambda_l1': 30, 'lambda_l2': 35, 'min_gain_to_split': 11.5, 'bagging_fraction': 0.9000000000000001, 'bagging_freq': 1, 'feature_fraction': 0.8}. Best is trial 21 with value: 0.8300815375655213.\n"
     ]
    },
    {
     "name": "stdout",
     "output_type": "stream",
     "text": [
      "Training until validation scores don't improve for 20 rounds\n",
      "Early stopping, best iteration is:\n",
      "[1]\tvalid_0's auc: 0.60214\tvalid_0's binary_logloss: 0.66713\n"
     ]
    },
    {
     "name": "stderr",
     "output_type": "stream",
     "text": [
      "[I 2023-09-10 06:31:35,957] Trial 60 pruned. Trial was pruned at iteration 21.\n"
     ]
    },
    {
     "name": "stdout",
     "output_type": "stream",
     "text": [
      "[LightGBM] [Warning] lambda_l1 is set=5, reg_alpha=0.0 will be ignored. Current value: lambda_l1=5\n",
      "[LightGBM] [Warning] bagging_fraction is set=0.8, subsample=1.0 will be ignored. Current value: bagging_fraction=0.8\n",
      "[LightGBM] [Warning] feature_fraction is set=0.9, colsample_bytree=1.0 will be ignored. Current value: feature_fraction=0.9\n",
      "[LightGBM] [Warning] min_data_in_leaf is set=100, min_child_samples=20 will be ignored. Current value: min_data_in_leaf=100\n",
      "[LightGBM] [Warning] bagging_freq is set=1, subsample_freq=0 will be ignored. Current value: bagging_freq=1\n",
      "[LightGBM] [Warning] min_gain_to_split is set=8.700000000000001, min_split_gain=0.0 will be ignored. Current value: min_gain_to_split=8.700000000000001\n",
      "[LightGBM] [Warning] lambda_l2 is set=55, reg_lambda=0.0 will be ignored. Current value: lambda_l2=55\n",
      "Training until validation scores don't improve for 20 rounds\n"
     ]
    },
    {
     "name": "stderr",
     "output_type": "stream",
     "text": [
      "[I 2023-09-10 06:31:36,171] Trial 61 pruned. Trial was pruned at iteration 0.\n",
      "[I 2023-09-10 06:31:36,413] Trial 62 pruned. Trial was pruned at iteration 21.\n"
     ]
    },
    {
     "name": "stdout",
     "output_type": "stream",
     "text": [
      "Training until validation scores don't improve for 20 rounds\n"
     ]
    },
    {
     "name": "stderr",
     "output_type": "stream",
     "text": [
      "[I 2023-09-10 06:31:36,674] Trial 63 finished with value: 0.6358474082702388 and parameters: {'n_estimators': 200, 'learning_rate': 0.35, 'num_leaves': 100, 'max_depth': 6, 'min_data_in_leaf': 200, 'lambda_l1': 15, 'lambda_l2': 55, 'min_gain_to_split': 8.0, 'bagging_fraction': 1.0, 'bagging_freq': 1, 'feature_fraction': 0.9}. Best is trial 21 with value: 0.8300815375655213.\n"
     ]
    },
    {
     "name": "stdout",
     "output_type": "stream",
     "text": [
      "Training until validation scores don't improve for 20 rounds\n",
      "Early stopping, best iteration is:\n",
      "[1]\tvalid_0's auc: 0.635847\tvalid_0's binary_logloss: 0.665335\n"
     ]
    },
    {
     "name": "stderr",
     "output_type": "stream",
     "text": [
      "[I 2023-09-10 06:31:36,898] Trial 64 pruned. Trial was pruned at iteration 0.\n"
     ]
    },
    {
     "name": "stdout",
     "output_type": "stream",
     "text": [
      "[LightGBM] [Warning] lambda_l1 is set=50, reg_alpha=0.0 will be ignored. Current value: lambda_l1=50\n",
      "[LightGBM] [Warning] bagging_fraction is set=1.0, subsample=1.0 will be ignored. Current value: bagging_fraction=1.0\n",
      "[LightGBM] [Warning] feature_fraction is set=0.7, colsample_bytree=1.0 will be ignored. Current value: feature_fraction=0.7\n",
      "[LightGBM] [Warning] min_data_in_leaf is set=100, min_child_samples=20 will be ignored. Current value: min_data_in_leaf=100\n",
      "[LightGBM] [Warning] bagging_freq is set=1, subsample_freq=0 will be ignored. Current value: bagging_freq=1\n",
      "[LightGBM] [Warning] min_gain_to_split is set=10.200000000000001, min_split_gain=0.0 will be ignored. Current value: min_gain_to_split=10.200000000000001\n",
      "[LightGBM] [Warning] lambda_l2 is set=40, reg_lambda=0.0 will be ignored. Current value: lambda_l2=40\n"
     ]
    },
    {
     "name": "stderr",
     "output_type": "stream",
     "text": [
      "[I 2023-09-10 06:31:37,118] Trial 65 pruned. Trial was pruned at iteration 0.\n",
      "[I 2023-09-10 06:31:37,354] Trial 66 pruned. Trial was pruned at iteration 21.\n"
     ]
    },
    {
     "name": "stdout",
     "output_type": "stream",
     "text": [
      "Training until validation scores don't improve for 20 rounds\n"
     ]
    },
    {
     "name": "stderr",
     "output_type": "stream",
     "text": [
      "[I 2023-09-10 06:31:37,607] Trial 67 finished with value: 0.6358474082702388 and parameters: {'n_estimators': 100, 'learning_rate': 0.5, 'num_leaves': 380, 'max_depth': 5, 'min_data_in_leaf': 200, 'lambda_l1': 25, 'lambda_l2': 80, 'min_gain_to_split': 1.9000000000000001, 'bagging_fraction': 1.0, 'bagging_freq': 1, 'feature_fraction': 0.9}. Best is trial 21 with value: 0.8300815375655213.\n"
     ]
    },
    {
     "name": "stdout",
     "output_type": "stream",
     "text": [
      "Training until validation scores don't improve for 20 rounds\n",
      "Early stopping, best iteration is:\n",
      "[1]\tvalid_0's auc: 0.635847\tvalid_0's binary_logloss: 0.665369\n"
     ]
    },
    {
     "name": "stderr",
     "output_type": "stream",
     "text": [
      "[I 2023-09-10 06:31:37,850] Trial 68 pruned. Trial was pruned at iteration 21.\n"
     ]
    },
    {
     "name": "stdout",
     "output_type": "stream",
     "text": [
      "[LightGBM] [Warning] lambda_l1 is set=0, reg_alpha=0.0 will be ignored. Current value: lambda_l1=0\n",
      "[LightGBM] [Warning] bagging_fraction is set=0.7, subsample=1.0 will be ignored. Current value: bagging_fraction=0.7\n",
      "[LightGBM] [Warning] feature_fraction is set=0.8, colsample_bytree=1.0 will be ignored. Current value: feature_fraction=0.8\n",
      "[LightGBM] [Warning] min_data_in_leaf is set=100, min_child_samples=20 will be ignored. Current value: min_data_in_leaf=100\n",
      "[LightGBM] [Warning] bagging_freq is set=1, subsample_freq=0 will be ignored. Current value: bagging_freq=1\n",
      "[LightGBM] [Warning] min_gain_to_split is set=7.5, min_split_gain=0.0 will be ignored. Current value: min_gain_to_split=7.5\n",
      "[LightGBM] [Warning] lambda_l2 is set=45, reg_lambda=0.0 will be ignored. Current value: lambda_l2=45\n",
      "Training until validation scores don't improve for 20 rounds\n"
     ]
    },
    {
     "name": "stderr",
     "output_type": "stream",
     "text": [
      "[I 2023-09-10 06:31:38,080] Trial 69 pruned. Trial was pruned at iteration 0.\n",
      "[I 2023-09-10 06:31:38,344] Trial 70 pruned. Trial was pruned at iteration 21.\n"
     ]
    },
    {
     "name": "stdout",
     "output_type": "stream",
     "text": [
      "Training until validation scores don't improve for 20 rounds\n"
     ]
    },
    {
     "name": "stderr",
     "output_type": "stream",
     "text": [
      "[I 2023-09-10 06:31:38,609] Trial 71 finished with value: 0.6358474082702388 and parameters: {'n_estimators': 200, 'learning_rate': 0.4, 'num_leaves': 820, 'max_depth': 9, 'min_data_in_leaf': 200, 'lambda_l1': 5, 'lambda_l2': 40, 'min_gain_to_split': 14.9, 'bagging_fraction': 0.9000000000000001, 'bagging_freq': 1, 'feature_fraction': 0.9}. Best is trial 21 with value: 0.8300815375655213.\n"
     ]
    },
    {
     "name": "stdout",
     "output_type": "stream",
     "text": [
      "Training until validation scores don't improve for 20 rounds\n",
      "Early stopping, best iteration is:\n",
      "[1]\tvalid_0's auc: 0.635847\tvalid_0's binary_logloss: 0.661155\n"
     ]
    },
    {
     "name": "stderr",
     "output_type": "stream",
     "text": [
      "[I 2023-09-10 06:31:38,848] Trial 72 pruned. Trial was pruned at iteration 21.\n"
     ]
    },
    {
     "name": "stdout",
     "output_type": "stream",
     "text": [
      "[LightGBM] [Warning] lambda_l1 is set=5, reg_alpha=0.0 will be ignored. Current value: lambda_l1=5\n",
      "[LightGBM] [Warning] bagging_fraction is set=0.9000000000000001, subsample=1.0 will be ignored. Current value: bagging_fraction=0.9000000000000001\n",
      "[LightGBM] [Warning] feature_fraction is set=0.9, colsample_bytree=1.0 will be ignored. Current value: feature_fraction=0.9\n",
      "[LightGBM] [Warning] min_data_in_leaf is set=200, min_child_samples=20 will be ignored. Current value: min_data_in_leaf=200\n",
      "[LightGBM] [Warning] bagging_freq is set=1, subsample_freq=0 will be ignored. Current value: bagging_freq=1\n",
      "[LightGBM] [Warning] min_gain_to_split is set=11.200000000000001, min_split_gain=0.0 will be ignored. Current value: min_gain_to_split=11.200000000000001\n",
      "[LightGBM] [Warning] lambda_l2 is set=45, reg_lambda=0.0 will be ignored. Current value: lambda_l2=45\n",
      "Training until validation scores don't improve for 20 rounds\n"
     ]
    },
    {
     "name": "stderr",
     "output_type": "stream",
     "text": [
      "[I 2023-09-10 06:31:39,093] Trial 73 finished with value: 0.602140361094933 and parameters: {'n_estimators': 200, 'learning_rate': 0.4, 'num_leaves': 860, 'max_depth': 5, 'min_data_in_leaf': 300, 'lambda_l1': 20, 'lambda_l2': 50, 'min_gain_to_split': 14.3, 'bagging_fraction': 1.0, 'bagging_freq': 1, 'feature_fraction': 0.9}. Best is trial 21 with value: 0.8300815375655213.\n"
     ]
    },
    {
     "name": "stdout",
     "output_type": "stream",
     "text": [
      "Training until validation scores don't improve for 20 rounds\n",
      "Early stopping, best iteration is:\n",
      "[1]\tvalid_0's auc: 0.60214\tvalid_0's binary_logloss: 0.667312\n"
     ]
    },
    {
     "name": "stderr",
     "output_type": "stream",
     "text": [
      "[I 2023-09-10 06:31:39,366] Trial 74 pruned. Trial was pruned at iteration 21.\n"
     ]
    },
    {
     "name": "stdout",
     "output_type": "stream",
     "text": [
      "[LightGBM] [Warning] lambda_l1 is set=0, reg_alpha=0.0 will be ignored. Current value: lambda_l1=0\n",
      "[LightGBM] [Warning] bagging_fraction is set=1.0, subsample=1.0 will be ignored. Current value: bagging_fraction=1.0\n",
      "[LightGBM] [Warning] feature_fraction is set=0.9, colsample_bytree=1.0 will be ignored. Current value: feature_fraction=0.9\n",
      "[LightGBM] [Warning] min_data_in_leaf is set=100, min_child_samples=20 will be ignored. Current value: min_data_in_leaf=100\n",
      "[LightGBM] [Warning] bagging_freq is set=1, subsample_freq=0 will be ignored. Current value: bagging_freq=1\n",
      "[LightGBM] [Warning] min_gain_to_split is set=14.100000000000001, min_split_gain=0.0 will be ignored. Current value: min_gain_to_split=14.100000000000001\n",
      "[LightGBM] [Warning] lambda_l2 is set=25, reg_lambda=0.0 will be ignored. Current value: lambda_l2=25\n",
      "Training until validation scores don't improve for 20 rounds\n"
     ]
    },
    {
     "name": "stderr",
     "output_type": "stream",
     "text": [
      "[I 2023-09-10 06:31:39,617] Trial 75 finished with value: 0.6358474082702388 and parameters: {'n_estimators': 200, 'learning_rate': 0.45000000000000007, 'num_leaves': 320, 'max_depth': 11, 'min_data_in_leaf': 200, 'lambda_l1': 15, 'lambda_l2': 40, 'min_gain_to_split': 7.9, 'bagging_fraction': 0.8, 'bagging_freq': 1, 'feature_fraction': 0.9}. Best is trial 21 with value: 0.8300815375655213.\n"
     ]
    },
    {
     "name": "stdout",
     "output_type": "stream",
     "text": [
      "Training until validation scores don't improve for 20 rounds\n",
      "Early stopping, best iteration is:\n",
      "[1]\tvalid_0's auc: 0.635847\tvalid_0's binary_logloss: 0.661796\n"
     ]
    },
    {
     "name": "stderr",
     "output_type": "stream",
     "text": [
      "[I 2023-09-10 06:31:39,877] Trial 76 pruned. Trial was pruned at iteration 21.\n"
     ]
    },
    {
     "name": "stdout",
     "output_type": "stream",
     "text": [
      "[LightGBM] [Warning] lambda_l1 is set=0, reg_alpha=0.0 will be ignored. Current value: lambda_l1=0\n",
      "[LightGBM] [Warning] bagging_fraction is set=0.9000000000000001, subsample=1.0 will be ignored. Current value: bagging_fraction=0.9000000000000001\n",
      "[LightGBM] [Warning] feature_fraction is set=0.8, colsample_bytree=1.0 will be ignored. Current value: feature_fraction=0.8\n",
      "[LightGBM] [Warning] min_data_in_leaf is set=200, min_child_samples=20 will be ignored. Current value: min_data_in_leaf=200\n",
      "[LightGBM] [Warning] bagging_freq is set=1, subsample_freq=0 will be ignored. Current value: bagging_freq=1\n",
      "[LightGBM] [Warning] min_gain_to_split is set=5.9, min_split_gain=0.0 will be ignored. Current value: min_gain_to_split=5.9\n",
      "[LightGBM] [Warning] lambda_l2 is set=60, reg_lambda=0.0 will be ignored. Current value: lambda_l2=60\n",
      "Training until validation scores don't improve for 20 rounds\n"
     ]
    },
    {
     "name": "stderr",
     "output_type": "stream",
     "text": [
      "[I 2023-09-10 06:31:40,126] Trial 77 pruned. Trial was pruned at iteration 21.\n"
     ]
    },
    {
     "name": "stdout",
     "output_type": "stream",
     "text": [
      "Training until validation scores don't improve for 20 rounds\n"
     ]
    },
    {
     "name": "stderr",
     "output_type": "stream",
     "text": [
      "[I 2023-09-10 06:31:40,366] Trial 78 pruned. Trial was pruned at iteration 21.\n"
     ]
    },
    {
     "name": "stdout",
     "output_type": "stream",
     "text": [
      "Training until validation scores don't improve for 20 rounds\n"
     ]
    },
    {
     "name": "stderr",
     "output_type": "stream",
     "text": [
      "[I 2023-09-10 06:31:40,612] Trial 79 pruned. Trial was pruned at iteration 0.\n",
      "[I 2023-09-10 06:31:40,866] Trial 80 pruned. Trial was pruned at iteration 21.\n"
     ]
    },
    {
     "name": "stdout",
     "output_type": "stream",
     "text": [
      "Training until validation scores don't improve for 20 rounds\n"
     ]
    },
    {
     "name": "stderr",
     "output_type": "stream",
     "text": [
      "[I 2023-09-10 06:31:41,124] Trial 81 finished with value: 0.6358474082702388 and parameters: {'n_estimators': 200, 'learning_rate': 0.35, 'num_leaves': 120, 'max_depth': 6, 'min_data_in_leaf': 200, 'lambda_l1': 15, 'lambda_l2': 70, 'min_gain_to_split': 9.0, 'bagging_fraction': 1.0, 'bagging_freq': 1, 'feature_fraction': 0.9}. Best is trial 21 with value: 0.8300815375655213.\n"
     ]
    },
    {
     "name": "stdout",
     "output_type": "stream",
     "text": [
      "Training until validation scores don't improve for 20 rounds\n",
      "Early stopping, best iteration is:\n",
      "[1]\tvalid_0's auc: 0.635847\tvalid_0's binary_logloss: 0.666228\n"
     ]
    },
    {
     "name": "stderr",
     "output_type": "stream",
     "text": [
      "[I 2023-09-10 06:31:41,374] Trial 82 finished with value: 0.6358474082702388 and parameters: {'n_estimators': 200, 'learning_rate': 0.35, 'num_leaves': 40, 'max_depth': 6, 'min_data_in_leaf': 200, 'lambda_l1': 15, 'lambda_l2': 55, 'min_gain_to_split': 8.1, 'bagging_fraction': 1.0, 'bagging_freq': 1, 'feature_fraction': 0.9}. Best is trial 21 with value: 0.8300815375655213.\n"
     ]
    },
    {
     "name": "stdout",
     "output_type": "stream",
     "text": [
      "[LightGBM] [Warning] lambda_l1 is set=15, reg_alpha=0.0 will be ignored. Current value: lambda_l1=15\n",
      "[LightGBM] [Warning] bagging_fraction is set=1.0, subsample=1.0 will be ignored. Current value: bagging_fraction=1.0\n",
      "[LightGBM] [Warning] feature_fraction is set=0.9, colsample_bytree=1.0 will be ignored. Current value: feature_fraction=0.9\n",
      "[LightGBM] [Warning] min_data_in_leaf is set=200, min_child_samples=20 will be ignored. Current value: min_data_in_leaf=200\n",
      "[LightGBM] [Warning] bagging_freq is set=1, subsample_freq=0 will be ignored. Current value: bagging_freq=1\n",
      "[LightGBM] [Warning] min_gain_to_split is set=8.1, min_split_gain=0.0 will be ignored. Current value: min_gain_to_split=8.1\n",
      "[LightGBM] [Warning] lambda_l2 is set=55, reg_lambda=0.0 will be ignored. Current value: lambda_l2=55\n",
      "Training until validation scores don't improve for 20 rounds\n",
      "Early stopping, best iteration is:\n",
      "[1]\tvalid_0's auc: 0.635847\tvalid_0's binary_logloss: 0.665335\n"
     ]
    },
    {
     "name": "stderr",
     "output_type": "stream",
     "text": [
      "[I 2023-09-10 06:31:41,606] Trial 83 pruned. Trial was pruned at iteration 21.\n"
     ]
    },
    {
     "name": "stdout",
     "output_type": "stream",
     "text": [
      "[LightGBM] [Warning] lambda_l1 is set=10, reg_alpha=0.0 will be ignored. Current value: lambda_l1=10\n",
      "[LightGBM] [Warning] bagging_fraction is set=1.0, subsample=1.0 will be ignored. Current value: bagging_fraction=1.0\n",
      "[LightGBM] [Warning] feature_fraction is set=0.9, colsample_bytree=1.0 will be ignored. Current value: feature_fraction=0.9\n",
      "[LightGBM] [Warning] min_data_in_leaf is set=200, min_child_samples=20 will be ignored. Current value: min_data_in_leaf=200\n",
      "[LightGBM] [Warning] bagging_freq is set=1, subsample_freq=0 will be ignored. Current value: bagging_freq=1\n",
      "[LightGBM] [Warning] min_gain_to_split is set=6.6000000000000005, min_split_gain=0.0 will be ignored. Current value: min_gain_to_split=6.6000000000000005\n",
      "[LightGBM] [Warning] lambda_l2 is set=45, reg_lambda=0.0 will be ignored. Current value: lambda_l2=45\n",
      "Training until validation scores don't improve for 20 rounds\n"
     ]
    },
    {
     "name": "stderr",
     "output_type": "stream",
     "text": [
      "[I 2023-09-10 06:31:41,859] Trial 84 pruned. Trial was pruned at iteration 21.\n"
     ]
    },
    {
     "name": "stdout",
     "output_type": "stream",
     "text": [
      "Training until validation scores don't improve for 20 rounds\n"
     ]
    },
    {
     "name": "stderr",
     "output_type": "stream",
     "text": [
      "[I 2023-09-10 06:31:42,158] Trial 85 finished with value: 0.6851339545719277 and parameters: {'n_estimators': 100, 'learning_rate': 0.35, 'num_leaves': 160, 'max_depth': 5, 'min_data_in_leaf': 100, 'lambda_l1': 20, 'lambda_l2': 55, 'min_gain_to_split': 9.3, 'bagging_fraction': 1.0, 'bagging_freq': 1, 'feature_fraction': 0.9}. Best is trial 21 with value: 0.8300815375655213.\n"
     ]
    },
    {
     "name": "stdout",
     "output_type": "stream",
     "text": [
      "Training until validation scores don't improve for 20 rounds\n",
      "Early stopping, best iteration is:\n",
      "[1]\tvalid_0's auc: 0.685134\tvalid_0's binary_logloss: 0.65975\n"
     ]
    },
    {
     "name": "stderr",
     "output_type": "stream",
     "text": [
      "[I 2023-09-10 06:31:42,402] Trial 86 pruned. Trial was pruned at iteration 21.\n"
     ]
    },
    {
     "name": "stdout",
     "output_type": "stream",
     "text": [
      "[LightGBM] [Warning] lambda_l1 is set=10, reg_alpha=0.0 will be ignored. Current value: lambda_l1=10\n",
      "[LightGBM] [Warning] bagging_fraction is set=1.0, subsample=1.0 will be ignored. Current value: bagging_fraction=1.0\n",
      "[LightGBM] [Warning] feature_fraction is set=0.8, colsample_bytree=1.0 will be ignored. Current value: feature_fraction=0.8\n",
      "[LightGBM] [Warning] min_data_in_leaf is set=100, min_child_samples=20 will be ignored. Current value: min_data_in_leaf=100\n",
      "[LightGBM] [Warning] bagging_freq is set=1, subsample_freq=0 will be ignored. Current value: bagging_freq=1\n",
      "[LightGBM] [Warning] min_gain_to_split is set=9.200000000000001, min_split_gain=0.0 will be ignored. Current value: min_gain_to_split=9.200000000000001\n",
      "[LightGBM] [Warning] lambda_l2 is set=0, reg_lambda=0.0 will be ignored. Current value: lambda_l2=0\n",
      "Training until validation scores don't improve for 20 rounds\n"
     ]
    },
    {
     "name": "stderr",
     "output_type": "stream",
     "text": [
      "[I 2023-09-10 06:31:42,653] Trial 87 pruned. Trial was pruned at iteration 21.\n"
     ]
    },
    {
     "name": "stdout",
     "output_type": "stream",
     "text": [
      "Training until validation scores don't improve for 20 rounds\n"
     ]
    },
    {
     "name": "stderr",
     "output_type": "stream",
     "text": [
      "[I 2023-09-10 06:31:42,872] Trial 88 pruned. Trial was pruned at iteration 0.\n",
      "[I 2023-09-10 06:31:43,113] Trial 89 pruned. Trial was pruned at iteration 21.\n"
     ]
    },
    {
     "name": "stdout",
     "output_type": "stream",
     "text": [
      "Training until validation scores don't improve for 20 rounds\n"
     ]
    },
    {
     "name": "stderr",
     "output_type": "stream",
     "text": [
      "[I 2023-09-10 06:31:43,356] Trial 90 pruned. Trial was pruned at iteration 21.\n"
     ]
    },
    {
     "name": "stdout",
     "output_type": "stream",
     "text": [
      "Training until validation scores don't improve for 20 rounds\n"
     ]
    },
    {
     "name": "stderr",
     "output_type": "stream",
     "text": [
      "[I 2023-09-10 06:31:43,650] Trial 91 finished with value: 0.6851339545719277 and parameters: {'n_estimators': 200, 'learning_rate': 0.35, 'num_leaves': 160, 'max_depth': 6, 'min_data_in_leaf': 100, 'lambda_l1': 15, 'lambda_l2': 55, 'min_gain_to_split': 8.0, 'bagging_fraction': 1.0, 'bagging_freq': 1, 'feature_fraction': 0.9}. Best is trial 21 with value: 0.8300815375655213.\n"
     ]
    },
    {
     "name": "stdout",
     "output_type": "stream",
     "text": [
      "Training until validation scores don't improve for 20 rounds\n",
      "Early stopping, best iteration is:\n",
      "[1]\tvalid_0's auc: 0.685134\tvalid_0's binary_logloss: 0.658253\n"
     ]
    },
    {
     "name": "stderr",
     "output_type": "stream",
     "text": [
      "[I 2023-09-10 06:31:43,933] Trial 92 pruned. Trial was pruned at iteration 21.\n"
     ]
    },
    {
     "name": "stdout",
     "output_type": "stream",
     "text": [
      "[LightGBM] [Warning] lambda_l1 is set=0, reg_alpha=0.0 will be ignored. Current value: lambda_l1=0\n",
      "[LightGBM] [Warning] bagging_fraction is set=1.0, subsample=1.0 will be ignored. Current value: bagging_fraction=1.0\n",
      "[LightGBM] [Warning] feature_fraction is set=0.9, colsample_bytree=1.0 will be ignored. Current value: feature_fraction=0.9\n",
      "[LightGBM] [Warning] min_data_in_leaf is set=100, min_child_samples=20 will be ignored. Current value: min_data_in_leaf=100\n",
      "[LightGBM] [Warning] bagging_freq is set=1, subsample_freq=0 will be ignored. Current value: bagging_freq=1\n",
      "[LightGBM] [Warning] min_gain_to_split is set=8.8, min_split_gain=0.0 will be ignored. Current value: min_gain_to_split=8.8\n",
      "[LightGBM] [Warning] lambda_l2 is set=65, reg_lambda=0.0 will be ignored. Current value: lambda_l2=65\n",
      "Training until validation scores don't improve for 20 rounds\n"
     ]
    },
    {
     "name": "stderr",
     "output_type": "stream",
     "text": [
      "[I 2023-09-10 06:31:44,194] Trial 93 finished with value: 0.6851339545719277 and parameters: {'n_estimators': 100, 'learning_rate': 0.30000000000000004, 'num_leaves': 180, 'max_depth': 5, 'min_data_in_leaf': 100, 'lambda_l1': 15, 'lambda_l2': 55, 'min_gain_to_split': 9.9, 'bagging_fraction': 1.0, 'bagging_freq': 1, 'feature_fraction': 0.9}. Best is trial 21 with value: 0.8300815375655213.\n"
     ]
    },
    {
     "name": "stdout",
     "output_type": "stream",
     "text": [
      "Training until validation scores don't improve for 20 rounds\n",
      "Early stopping, best iteration is:\n",
      "[1]\tvalid_0's auc: 0.685134\tvalid_0's binary_logloss: 0.660569\n"
     ]
    },
    {
     "name": "stderr",
     "output_type": "stream",
     "text": [
      "[I 2023-09-10 06:31:44,453] Trial 94 finished with value: 0.6851339545719277 and parameters: {'n_estimators': 100, 'learning_rate': 0.30000000000000004, 'num_leaves': 220, 'max_depth': 4, 'min_data_in_leaf': 100, 'lambda_l1': 15, 'lambda_l2': 55, 'min_gain_to_split': 10.100000000000001, 'bagging_fraction': 1.0, 'bagging_freq': 1, 'feature_fraction': 0.9}. Best is trial 21 with value: 0.8300815375655213.\n"
     ]
    },
    {
     "name": "stdout",
     "output_type": "stream",
     "text": [
      "[LightGBM] [Warning] lambda_l1 is set=15, reg_alpha=0.0 will be ignored. Current value: lambda_l1=15\n",
      "[LightGBM] [Warning] bagging_fraction is set=1.0, subsample=1.0 will be ignored. Current value: bagging_fraction=1.0\n",
      "[LightGBM] [Warning] feature_fraction is set=0.9, colsample_bytree=1.0 will be ignored. Current value: feature_fraction=0.9\n",
      "[LightGBM] [Warning] min_data_in_leaf is set=100, min_child_samples=20 will be ignored. Current value: min_data_in_leaf=100\n",
      "[LightGBM] [Warning] bagging_freq is set=1, subsample_freq=0 will be ignored. Current value: bagging_freq=1\n",
      "[LightGBM] [Warning] min_gain_to_split is set=10.100000000000001, min_split_gain=0.0 will be ignored. Current value: min_gain_to_split=10.100000000000001\n",
      "[LightGBM] [Warning] lambda_l2 is set=55, reg_lambda=0.0 will be ignored. Current value: lambda_l2=55\n",
      "Training until validation scores don't improve for 20 rounds\n",
      "Early stopping, best iteration is:\n",
      "[1]\tvalid_0's auc: 0.685134\tvalid_0's binary_logloss: 0.660569\n"
     ]
    },
    {
     "name": "stderr",
     "output_type": "stream",
     "text": [
      "[I 2023-09-10 06:31:44,735] Trial 95 finished with value: 0.640215492137449 and parameters: {'n_estimators': 100, 'learning_rate': 0.25, 'num_leaves': 200, 'max_depth': 3, 'min_data_in_leaf': 100, 'lambda_l1': 20, 'lambda_l2': 55, 'min_gain_to_split': 10.600000000000001, 'bagging_fraction': 1.0, 'bagging_freq': 1, 'feature_fraction': 0.9}. Best is trial 21 with value: 0.8300815375655213.\n"
     ]
    },
    {
     "name": "stdout",
     "output_type": "stream",
     "text": [
      "[LightGBM] [Warning] lambda_l1 is set=20, reg_alpha=0.0 will be ignored. Current value: lambda_l1=20\n",
      "[LightGBM] [Warning] bagging_fraction is set=1.0, subsample=1.0 will be ignored. Current value: bagging_fraction=1.0\n",
      "[LightGBM] [Warning] feature_fraction is set=0.9, colsample_bytree=1.0 will be ignored. Current value: feature_fraction=0.9\n",
      "[LightGBM] [Warning] min_data_in_leaf is set=100, min_child_samples=20 will be ignored. Current value: min_data_in_leaf=100\n",
      "[LightGBM] [Warning] bagging_freq is set=1, subsample_freq=0 will be ignored. Current value: bagging_freq=1\n",
      "[LightGBM] [Warning] min_gain_to_split is set=10.600000000000001, min_split_gain=0.0 will be ignored. Current value: min_gain_to_split=10.600000000000001\n",
      "[LightGBM] [Warning] lambda_l2 is set=55, reg_lambda=0.0 will be ignored. Current value: lambda_l2=55\n",
      "Training until validation scores don't improve for 20 rounds\n",
      "Early stopping, best iteration is:\n",
      "[1]\tvalid_0's auc: 0.640215\tvalid_0's binary_logloss: 0.666455\n"
     ]
    },
    {
     "name": "stderr",
     "output_type": "stream",
     "text": [
      "[I 2023-09-10 06:31:44,982] Trial 96 pruned. Trial was pruned at iteration 0.\n"
     ]
    },
    {
     "name": "stdout",
     "output_type": "stream",
     "text": [
      "[LightGBM] [Warning] lambda_l1 is set=25, reg_alpha=0.0 will be ignored. Current value: lambda_l1=25\n",
      "[LightGBM] [Warning] bagging_fraction is set=1.0, subsample=1.0 will be ignored. Current value: bagging_fraction=1.0\n",
      "[LightGBM] [Warning] feature_fraction is set=0.30000000000000004, colsample_bytree=1.0 will be ignored. Current value: feature_fraction=0.30000000000000004\n",
      "[LightGBM] [Warning] min_data_in_leaf is set=100, min_child_samples=20 will be ignored. Current value: min_data_in_leaf=100\n",
      "[LightGBM] [Warning] bagging_freq is set=1, subsample_freq=0 will be ignored. Current value: bagging_freq=1\n",
      "[LightGBM] [Warning] min_gain_to_split is set=10.5, min_split_gain=0.0 will be ignored. Current value: min_gain_to_split=10.5\n",
      "[LightGBM] [Warning] lambda_l2 is set=55, reg_lambda=0.0 will be ignored. Current value: lambda_l2=55\n"
     ]
    },
    {
     "name": "stderr",
     "output_type": "stream",
     "text": [
      "[I 2023-09-10 06:31:45,212] Trial 97 pruned. Trial was pruned at iteration 0.\n",
      "[I 2023-09-10 06:31:45,467] Trial 98 pruned. Trial was pruned at iteration 0.\n",
      "[I 2023-09-10 06:31:45,716] Trial 99 pruned. Trial was pruned at iteration 0.\n",
      "[I 2023-09-10 06:31:45,966] Trial 100 pruned. Trial was pruned at iteration 0.\n",
      "[I 2023-09-10 06:31:46,225] Trial 101 finished with value: 0.6851339545719277 and parameters: {'n_estimators': 100, 'learning_rate': 0.30000000000000004, 'num_leaves': 80, 'max_depth': 3, 'min_data_in_leaf': 100, 'lambda_l1': 15, 'lambda_l2': 55, 'min_gain_to_split': 11.700000000000001, 'bagging_fraction': 1.0, 'bagging_freq': 1, 'feature_fraction': 0.9}. Best is trial 21 with value: 0.8300815375655213.\n"
     ]
    },
    {
     "name": "stdout",
     "output_type": "stream",
     "text": [
      "Training until validation scores don't improve for 20 rounds\n",
      "Early stopping, best iteration is:\n",
      "[1]\tvalid_0's auc: 0.685134\tvalid_0's binary_logloss: 0.660569\n"
     ]
    },
    {
     "name": "stderr",
     "output_type": "stream",
     "text": [
      "[I 2023-09-10 06:31:46,449] Trial 102 pruned. Trial was pruned at iteration 0.\n"
     ]
    },
    {
     "name": "stdout",
     "output_type": "stream",
     "text": [
      "[LightGBM] [Warning] lambda_l1 is set=20, reg_alpha=0.0 will be ignored. Current value: lambda_l1=20\n",
      "[LightGBM] [Warning] bagging_fraction is set=1.0, subsample=1.0 will be ignored. Current value: bagging_fraction=1.0\n",
      "[LightGBM] [Warning] feature_fraction is set=0.9, colsample_bytree=1.0 will be ignored. Current value: feature_fraction=0.9\n",
      "[LightGBM] [Warning] min_data_in_leaf is set=500, min_child_samples=20 will be ignored. Current value: min_data_in_leaf=500\n",
      "[LightGBM] [Warning] bagging_freq is set=1, subsample_freq=0 will be ignored. Current value: bagging_freq=1\n",
      "[LightGBM] [Warning] min_gain_to_split is set=9.4, min_split_gain=0.0 will be ignored. Current value: min_gain_to_split=9.4\n",
      "[LightGBM] [Warning] lambda_l2 is set=55, reg_lambda=0.0 will be ignored. Current value: lambda_l2=55\n"
     ]
    },
    {
     "name": "stderr",
     "output_type": "stream",
     "text": [
      "[I 2023-09-10 06:31:46,713] Trial 103 finished with value: 0.6851339545719277 and parameters: {'n_estimators': 100, 'learning_rate': 0.30000000000000004, 'num_leaves': 180, 'max_depth': 3, 'min_data_in_leaf': 100, 'lambda_l1': 15, 'lambda_l2': 55, 'min_gain_to_split': 9.9, 'bagging_fraction': 1.0, 'bagging_freq': 1, 'feature_fraction': 0.9}. Best is trial 21 with value: 0.8300815375655213.\n"
     ]
    },
    {
     "name": "stdout",
     "output_type": "stream",
     "text": [
      "Training until validation scores don't improve for 20 rounds\n",
      "Early stopping, best iteration is:\n",
      "[1]\tvalid_0's auc: 0.685134\tvalid_0's binary_logloss: 0.660569\n"
     ]
    },
    {
     "name": "stderr",
     "output_type": "stream",
     "text": [
      "[I 2023-09-10 06:31:47,009] Trial 104 pruned. Trial was pruned at iteration 21.\n"
     ]
    },
    {
     "name": "stdout",
     "output_type": "stream",
     "text": [
      "[LightGBM] [Warning] lambda_l1 is set=15, reg_alpha=0.0 will be ignored. Current value: lambda_l1=15\n",
      "[LightGBM] [Warning] bagging_fraction is set=1.0, subsample=1.0 will be ignored. Current value: bagging_fraction=1.0\n",
      "[LightGBM] [Warning] feature_fraction is set=0.9, colsample_bytree=1.0 will be ignored. Current value: feature_fraction=0.9\n",
      "[LightGBM] [Warning] min_data_in_leaf is set=100, min_child_samples=20 will be ignored. Current value: min_data_in_leaf=100\n",
      "[LightGBM] [Warning] bagging_freq is set=1, subsample_freq=0 will be ignored. Current value: bagging_freq=1\n",
      "[LightGBM] [Warning] min_gain_to_split is set=9.9, min_split_gain=0.0 will be ignored. Current value: min_gain_to_split=9.9\n",
      "[LightGBM] [Warning] lambda_l2 is set=50, reg_lambda=0.0 will be ignored. Current value: lambda_l2=50\n",
      "Training until validation scores don't improve for 20 rounds\n"
     ]
    },
    {
     "name": "stderr",
     "output_type": "stream",
     "text": [
      "[I 2023-09-10 06:31:47,332] Trial 105 finished with value: 0.6851339545719277 and parameters: {'n_estimators': 100, 'learning_rate': 0.30000000000000004, 'num_leaves': 160, 'max_depth': 4, 'min_data_in_leaf': 100, 'lambda_l1': 15, 'lambda_l2': 60, 'min_gain_to_split': 10.100000000000001, 'bagging_fraction': 1.0, 'bagging_freq': 1, 'feature_fraction': 0.9}. Best is trial 21 with value: 0.8300815375655213.\n"
     ]
    },
    {
     "name": "stdout",
     "output_type": "stream",
     "text": [
      "Training until validation scores don't improve for 20 rounds\n",
      "Early stopping, best iteration is:\n",
      "[1]\tvalid_0's auc: 0.685134\tvalid_0's binary_logloss: 0.661099\n"
     ]
    },
    {
     "name": "stderr",
     "output_type": "stream",
     "text": [
      "[I 2023-09-10 06:31:47,623] Trial 106 pruned. Trial was pruned at iteration 21.\n"
     ]
    },
    {
     "name": "stdout",
     "output_type": "stream",
     "text": [
      "[LightGBM] [Warning] lambda_l1 is set=10, reg_alpha=0.0 will be ignored. Current value: lambda_l1=10\n",
      "[LightGBM] [Warning] bagging_fraction is set=1.0, subsample=1.0 will be ignored. Current value: bagging_fraction=1.0\n",
      "[LightGBM] [Warning] feature_fraction is set=0.9, colsample_bytree=1.0 will be ignored. Current value: feature_fraction=0.9\n",
      "[LightGBM] [Warning] min_data_in_leaf is set=100, min_child_samples=20 will be ignored. Current value: min_data_in_leaf=100\n",
      "[LightGBM] [Warning] bagging_freq is set=1, subsample_freq=0 will be ignored. Current value: bagging_freq=1\n",
      "[LightGBM] [Warning] min_gain_to_split is set=8.700000000000001, min_split_gain=0.0 will be ignored. Current value: min_gain_to_split=8.700000000000001\n",
      "[LightGBM] [Warning] lambda_l2 is set=45, reg_lambda=0.0 will be ignored. Current value: lambda_l2=45\n",
      "Training until validation scores don't improve for 20 rounds\n"
     ]
    },
    {
     "name": "stderr",
     "output_type": "stream",
     "text": [
      "[I 2023-09-10 06:31:47,903] Trial 107 pruned. Trial was pruned at iteration 21.\n"
     ]
    },
    {
     "name": "stdout",
     "output_type": "stream",
     "text": [
      "Training until validation scores don't improve for 20 rounds\n"
     ]
    },
    {
     "name": "stderr",
     "output_type": "stream",
     "text": [
      "[I 2023-09-10 06:31:48,205] Trial 108 finished with value: 0.6851339545719277 and parameters: {'n_estimators': 100, 'learning_rate': 0.30000000000000004, 'num_leaves': 240, 'max_depth': 5, 'min_data_in_leaf': 100, 'lambda_l1': 10, 'lambda_l2': 65, 'min_gain_to_split': 11.5, 'bagging_fraction': 1.0, 'bagging_freq': 1, 'feature_fraction': 0.8}. Best is trial 21 with value: 0.8300815375655213.\n"
     ]
    },
    {
     "name": "stdout",
     "output_type": "stream",
     "text": [
      "Training until validation scores don't improve for 20 rounds\n",
      "Early stopping, best iteration is:\n",
      "[1]\tvalid_0's auc: 0.685134\tvalid_0's binary_logloss: 0.660384\n"
     ]
    },
    {
     "name": "stderr",
     "output_type": "stream",
     "text": [
      "[I 2023-09-10 06:31:48,504] Trial 109 pruned. Trial was pruned at iteration 21.\n"
     ]
    },
    {
     "name": "stdout",
     "output_type": "stream",
     "text": [
      "[LightGBM] [Warning] lambda_l1 is set=20, reg_alpha=0.0 will be ignored. Current value: lambda_l1=20\n",
      "[LightGBM] [Warning] bagging_fraction is set=1.0, subsample=1.0 will be ignored. Current value: bagging_fraction=1.0\n",
      "[LightGBM] [Warning] feature_fraction is set=0.9, colsample_bytree=1.0 will be ignored. Current value: feature_fraction=0.9\n",
      "[LightGBM] [Warning] min_data_in_leaf is set=100, min_child_samples=20 will be ignored. Current value: min_data_in_leaf=100\n",
      "[LightGBM] [Warning] bagging_freq is set=1, subsample_freq=0 will be ignored. Current value: bagging_freq=1\n",
      "[LightGBM] [Warning] min_gain_to_split is set=3.5, min_split_gain=0.0 will be ignored. Current value: min_gain_to_split=3.5\n",
      "[LightGBM] [Warning] lambda_l2 is set=75, reg_lambda=0.0 will be ignored. Current value: lambda_l2=75\n",
      "Training until validation scores don't improve for 20 rounds\n"
     ]
    },
    {
     "name": "stderr",
     "output_type": "stream",
     "text": [
      "[I 2023-09-10 06:31:48,758] Trial 110 pruned. Trial was pruned at iteration 0.\n",
      "[I 2023-09-10 06:31:49,054] Trial 111 finished with value: 0.6851339545719277 and parameters: {'n_estimators': 100, 'learning_rate': 0.30000000000000004, 'num_leaves': 160, 'max_depth': 4, 'min_data_in_leaf': 100, 'lambda_l1': 15, 'lambda_l2': 60, 'min_gain_to_split': 9.700000000000001, 'bagging_fraction': 1.0, 'bagging_freq': 1, 'feature_fraction': 0.9}. Best is trial 21 with value: 0.8300815375655213.\n"
     ]
    },
    {
     "name": "stdout",
     "output_type": "stream",
     "text": [
      "Training until validation scores don't improve for 20 rounds\n",
      "Early stopping, best iteration is:\n",
      "[1]\tvalid_0's auc: 0.685134\tvalid_0's binary_logloss: 0.661099\n"
     ]
    },
    {
     "name": "stderr",
     "output_type": "stream",
     "text": [
      "[I 2023-09-10 06:31:49,350] Trial 112 finished with value: 0.6851339545719277 and parameters: {'n_estimators': 100, 'learning_rate': 0.30000000000000004, 'num_leaves': 220, 'max_depth': 4, 'min_data_in_leaf': 100, 'lambda_l1': 15, 'lambda_l2': 65, 'min_gain_to_split': 10.200000000000001, 'bagging_fraction': 1.0, 'bagging_freq': 1, 'feature_fraction': 0.9}. Best is trial 21 with value: 0.8300815375655213.\n"
     ]
    },
    {
     "name": "stdout",
     "output_type": "stream",
     "text": [
      "[LightGBM] [Warning] lambda_l1 is set=15, reg_alpha=0.0 will be ignored. Current value: lambda_l1=15\n",
      "[LightGBM] [Warning] bagging_fraction is set=1.0, subsample=1.0 will be ignored. Current value: bagging_fraction=1.0\n",
      "[LightGBM] [Warning] feature_fraction is set=0.9, colsample_bytree=1.0 will be ignored. Current value: feature_fraction=0.9\n",
      "[LightGBM] [Warning] min_data_in_leaf is set=100, min_child_samples=20 will be ignored. Current value: min_data_in_leaf=100\n",
      "[LightGBM] [Warning] bagging_freq is set=1, subsample_freq=0 will be ignored. Current value: bagging_freq=1\n",
      "[LightGBM] [Warning] min_gain_to_split is set=10.200000000000001, min_split_gain=0.0 will be ignored. Current value: min_gain_to_split=10.200000000000001\n",
      "[LightGBM] [Warning] lambda_l2 is set=65, reg_lambda=0.0 will be ignored. Current value: lambda_l2=65\n",
      "Training until validation scores don't improve for 20 rounds\n",
      "Early stopping, best iteration is:\n",
      "[1]\tvalid_0's auc: 0.685134\tvalid_0's binary_logloss: 0.661592\n"
     ]
    },
    {
     "name": "stderr",
     "output_type": "stream",
     "text": [
      "[I 2023-09-10 06:31:49,667] Trial 113 finished with value: 0.6851339545719277 and parameters: {'n_estimators': 100, 'learning_rate': 0.30000000000000004, 'num_leaves': 180, 'max_depth': 5, 'min_data_in_leaf': 100, 'lambda_l1': 15, 'lambda_l2': 60, 'min_gain_to_split': 11.0, 'bagging_fraction': 1.0, 'bagging_freq': 1, 'feature_fraction': 0.9}. Best is trial 21 with value: 0.8300815375655213.\n"
     ]
    },
    {
     "name": "stdout",
     "output_type": "stream",
     "text": [
      "[LightGBM] [Warning] lambda_l1 is set=15, reg_alpha=0.0 will be ignored. Current value: lambda_l1=15\n",
      "[LightGBM] [Warning] bagging_fraction is set=1.0, subsample=1.0 will be ignored. Current value: bagging_fraction=1.0\n",
      "[LightGBM] [Warning] feature_fraction is set=0.9, colsample_bytree=1.0 will be ignored. Current value: feature_fraction=0.9\n",
      "[LightGBM] [Warning] min_data_in_leaf is set=100, min_child_samples=20 will be ignored. Current value: min_data_in_leaf=100\n",
      "[LightGBM] [Warning] bagging_freq is set=1, subsample_freq=0 will be ignored. Current value: bagging_freq=1\n",
      "[LightGBM] [Warning] min_gain_to_split is set=11.0, min_split_gain=0.0 will be ignored. Current value: min_gain_to_split=11.0\n",
      "[LightGBM] [Warning] lambda_l2 is set=60, reg_lambda=0.0 will be ignored. Current value: lambda_l2=60\n",
      "Training until validation scores don't improve for 20 rounds\n",
      "Early stopping, best iteration is:\n",
      "[1]\tvalid_0's auc: 0.685134\tvalid_0's binary_logloss: 0.661099\n"
     ]
    },
    {
     "name": "stderr",
     "output_type": "stream",
     "text": [
      "[I 2023-09-10 06:31:49,898] Trial 114 pruned. Trial was pruned at iteration 0.\n"
     ]
    },
    {
     "name": "stdout",
     "output_type": "stream",
     "text": [
      "[LightGBM] [Warning] lambda_l1 is set=45, reg_alpha=0.0 will be ignored. Current value: lambda_l1=45\n",
      "[LightGBM] [Warning] bagging_fraction is set=1.0, subsample=1.0 will be ignored. Current value: bagging_fraction=1.0\n",
      "[LightGBM] [Warning] feature_fraction is set=0.9, colsample_bytree=1.0 will be ignored. Current value: feature_fraction=0.9\n",
      "[LightGBM] [Warning] min_data_in_leaf is set=100, min_child_samples=20 will be ignored. Current value: min_data_in_leaf=100\n",
      "[LightGBM] [Warning] bagging_freq is set=1, subsample_freq=0 will be ignored. Current value: bagging_freq=1\n",
      "[LightGBM] [Warning] min_gain_to_split is set=11.8, min_split_gain=0.0 will be ignored. Current value: min_gain_to_split=11.8\n",
      "[LightGBM] [Warning] lambda_l2 is set=55, reg_lambda=0.0 will be ignored. Current value: lambda_l2=55\n"
     ]
    },
    {
     "name": "stderr",
     "output_type": "stream",
     "text": [
      "[I 2023-09-10 06:31:50,178] Trial 115 pruned. Trial was pruned at iteration 21.\n"
     ]
    },
    {
     "name": "stdout",
     "output_type": "stream",
     "text": [
      "Training until validation scores don't improve for 20 rounds\n"
     ]
    },
    {
     "name": "stderr",
     "output_type": "stream",
     "text": [
      "[I 2023-09-10 06:31:50,430] Trial 116 pruned. Trial was pruned at iteration 21.\n"
     ]
    },
    {
     "name": "stdout",
     "output_type": "stream",
     "text": [
      "Training until validation scores don't improve for 20 rounds\n"
     ]
    },
    {
     "name": "stderr",
     "output_type": "stream",
     "text": [
      "[I 2023-09-10 06:31:50,676] Trial 117 pruned. Trial was pruned at iteration 21.\n"
     ]
    },
    {
     "name": "stdout",
     "output_type": "stream",
     "text": [
      "Training until validation scores don't improve for 20 rounds\n"
     ]
    },
    {
     "name": "stderr",
     "output_type": "stream",
     "text": [
      "[I 2023-09-10 06:31:50,931] Trial 118 pruned. Trial was pruned at iteration 21.\n"
     ]
    },
    {
     "name": "stdout",
     "output_type": "stream",
     "text": [
      "Training until validation scores don't improve for 20 rounds\n"
     ]
    },
    {
     "name": "stderr",
     "output_type": "stream",
     "text": [
      "[I 2023-09-10 06:31:51,196] Trial 119 pruned. Trial was pruned at iteration 21.\n"
     ]
    },
    {
     "name": "stdout",
     "output_type": "stream",
     "text": [
      "Training until validation scores don't improve for 20 rounds\n"
     ]
    },
    {
     "name": "stderr",
     "output_type": "stream",
     "text": [
      "[I 2023-09-10 06:31:51,473] Trial 120 pruned. Trial was pruned at iteration 21.\n"
     ]
    },
    {
     "name": "stdout",
     "output_type": "stream",
     "text": [
      "Training until validation scores don't improve for 20 rounds\n"
     ]
    },
    {
     "name": "stderr",
     "output_type": "stream",
     "text": [
      "[I 2023-09-10 06:31:51,750] Trial 121 finished with value: 0.6851339545719277 and parameters: {'n_estimators': 100, 'learning_rate': 0.30000000000000004, 'num_leaves': 240, 'max_depth': 5, 'min_data_in_leaf': 100, 'lambda_l1': 10, 'lambda_l2': 65, 'min_gain_to_split': 11.600000000000001, 'bagging_fraction': 1.0, 'bagging_freq': 1, 'feature_fraction': 0.8}. Best is trial 21 with value: 0.8300815375655213.\n"
     ]
    },
    {
     "name": "stdout",
     "output_type": "stream",
     "text": [
      "Training until validation scores don't improve for 20 rounds\n",
      "Early stopping, best iteration is:\n",
      "[1]\tvalid_0's auc: 0.685134\tvalid_0's binary_logloss: 0.660384\n"
     ]
    },
    {
     "name": "stderr",
     "output_type": "stream",
     "text": [
      "[I 2023-09-10 06:31:52,052] Trial 122 finished with value: 0.6851339545719277 and parameters: {'n_estimators': 100, 'learning_rate': 0.30000000000000004, 'num_leaves': 260, 'max_depth': 5, 'min_data_in_leaf': 100, 'lambda_l1': 10, 'lambda_l2': 65, 'min_gain_to_split': 11.100000000000001, 'bagging_fraction': 1.0, 'bagging_freq': 1, 'feature_fraction': 0.9}. Best is trial 21 with value: 0.8300815375655213.\n"
     ]
    },
    {
     "name": "stdout",
     "output_type": "stream",
     "text": [
      "[LightGBM] [Warning] lambda_l1 is set=10, reg_alpha=0.0 will be ignored. Current value: lambda_l1=10\n",
      "[LightGBM] [Warning] bagging_fraction is set=1.0, subsample=1.0 will be ignored. Current value: bagging_fraction=1.0\n",
      "[LightGBM] [Warning] feature_fraction is set=0.9, colsample_bytree=1.0 will be ignored. Current value: feature_fraction=0.9\n",
      "[LightGBM] [Warning] min_data_in_leaf is set=100, min_child_samples=20 will be ignored. Current value: min_data_in_leaf=100\n",
      "[LightGBM] [Warning] bagging_freq is set=1, subsample_freq=0 will be ignored. Current value: bagging_freq=1\n",
      "[LightGBM] [Warning] min_gain_to_split is set=11.100000000000001, min_split_gain=0.0 will be ignored. Current value: min_gain_to_split=11.100000000000001\n",
      "[LightGBM] [Warning] lambda_l2 is set=65, reg_lambda=0.0 will be ignored. Current value: lambda_l2=65\n",
      "Training until validation scores don't improve for 20 rounds\n",
      "Early stopping, best iteration is:\n",
      "[1]\tvalid_0's auc: 0.685134\tvalid_0's binary_logloss: 0.660384\n"
     ]
    },
    {
     "name": "stderr",
     "output_type": "stream",
     "text": [
      "[I 2023-09-10 06:31:52,308] Trial 123 pruned. Trial was pruned at iteration 0.\n"
     ]
    },
    {
     "name": "stdout",
     "output_type": "stream",
     "text": [
      "[LightGBM] [Warning] lambda_l1 is set=20, reg_alpha=0.0 will be ignored. Current value: lambda_l1=20\n",
      "[LightGBM] [Warning] bagging_fraction is set=1.0, subsample=1.0 will be ignored. Current value: bagging_fraction=1.0\n",
      "[LightGBM] [Warning] feature_fraction is set=0.9, colsample_bytree=1.0 will be ignored. Current value: feature_fraction=0.9\n",
      "[LightGBM] [Warning] min_data_in_leaf is set=100, min_child_samples=20 will be ignored. Current value: min_data_in_leaf=100\n",
      "[LightGBM] [Warning] bagging_freq is set=1, subsample_freq=0 will be ignored. Current value: bagging_freq=1\n",
      "[LightGBM] [Warning] min_gain_to_split is set=12.4, min_split_gain=0.0 will be ignored. Current value: min_gain_to_split=12.4\n",
      "[LightGBM] [Warning] lambda_l2 is set=65, reg_lambda=0.0 will be ignored. Current value: lambda_l2=65\n"
     ]
    },
    {
     "name": "stderr",
     "output_type": "stream",
     "text": [
      "[I 2023-09-10 06:31:52,564] Trial 124 pruned. Trial was pruned at iteration 21.\n"
     ]
    },
    {
     "name": "stdout",
     "output_type": "stream",
     "text": [
      "Training until validation scores don't improve for 20 rounds\n"
     ]
    },
    {
     "name": "stderr",
     "output_type": "stream",
     "text": [
      "[I 2023-09-10 06:31:52,886] Trial 125 finished with value: 0.6932877111240536 and parameters: {'n_estimators': 100, 'learning_rate': 0.5, 'num_leaves': 160, 'max_depth': 5, 'min_data_in_leaf': 100, 'lambda_l1': 10, 'lambda_l2': 55, 'min_gain_to_split': 9.600000000000001, 'bagging_fraction': 1.0, 'bagging_freq': 1, 'feature_fraction': 0.9}. Best is trial 21 with value: 0.8300815375655213.\n"
     ]
    },
    {
     "name": "stdout",
     "output_type": "stream",
     "text": [
      "Training until validation scores don't improve for 20 rounds\n",
      "Early stopping, best iteration is:\n",
      "[1]\tvalid_0's auc: 0.693288\tvalid_0's binary_logloss: 0.649752\n"
     ]
    },
    {
     "name": "stderr",
     "output_type": "stream",
     "text": [
      "[I 2023-09-10 06:31:53,170] Trial 126 pruned. Trial was pruned at iteration 21.\n"
     ]
    },
    {
     "name": "stdout",
     "output_type": "stream",
     "text": [
      "[LightGBM] [Warning] lambda_l1 is set=5, reg_alpha=0.0 will be ignored. Current value: lambda_l1=5\n",
      "[LightGBM] [Warning] bagging_fraction is set=1.0, subsample=1.0 will be ignored. Current value: bagging_fraction=1.0\n",
      "[LightGBM] [Warning] feature_fraction is set=0.9, colsample_bytree=1.0 will be ignored. Current value: feature_fraction=0.9\n",
      "[LightGBM] [Warning] min_data_in_leaf is set=100, min_child_samples=20 will be ignored. Current value: min_data_in_leaf=100\n",
      "[LightGBM] [Warning] bagging_freq is set=1, subsample_freq=0 will be ignored. Current value: bagging_freq=1\n",
      "[LightGBM] [Warning] min_gain_to_split is set=9.700000000000001, min_split_gain=0.0 will be ignored. Current value: min_gain_to_split=9.700000000000001\n",
      "[LightGBM] [Warning] lambda_l2 is set=55, reg_lambda=0.0 will be ignored. Current value: lambda_l2=55\n",
      "Training until validation scores don't improve for 20 rounds\n"
     ]
    },
    {
     "name": "stderr",
     "output_type": "stream",
     "text": [
      "[I 2023-09-10 06:31:53,499] Trial 127 pruned. Trial was pruned at iteration 21.\n"
     ]
    },
    {
     "name": "stdout",
     "output_type": "stream",
     "text": [
      "Training until validation scores don't improve for 20 rounds\n"
     ]
    },
    {
     "name": "stderr",
     "output_type": "stream",
     "text": [
      "[I 2023-09-10 06:31:53,777] Trial 128 pruned. Trial was pruned at iteration 21.\n"
     ]
    },
    {
     "name": "stdout",
     "output_type": "stream",
     "text": [
      "Training until validation scores don't improve for 20 rounds\n"
     ]
    },
    {
     "name": "stderr",
     "output_type": "stream",
     "text": [
      "[I 2023-09-10 06:31:54,073] Trial 129 pruned. Trial was pruned at iteration 21.\n"
     ]
    },
    {
     "name": "stdout",
     "output_type": "stream",
     "text": [
      "Training until validation scores don't improve for 20 rounds\n"
     ]
    },
    {
     "name": "stderr",
     "output_type": "stream",
     "text": [
      "[I 2023-09-10 06:31:54,309] Trial 130 pruned. Trial was pruned at iteration 0.\n",
      "[I 2023-09-10 06:31:54,562] Trial 131 pruned. Trial was pruned at iteration 21.\n"
     ]
    },
    {
     "name": "stdout",
     "output_type": "stream",
     "text": [
      "Training until validation scores don't improve for 20 rounds\n"
     ]
    },
    {
     "name": "stderr",
     "output_type": "stream",
     "text": [
      "[I 2023-09-10 06:31:54,833] Trial 132 finished with value: 0.6932877111240536 and parameters: {'n_estimators': 100, 'learning_rate': 0.5, 'num_leaves': 180, 'max_depth': 5, 'min_data_in_leaf': 100, 'lambda_l1': 10, 'lambda_l2': 55, 'min_gain_to_split': 9.600000000000001, 'bagging_fraction': 1.0, 'bagging_freq': 1, 'feature_fraction': 0.9}. Best is trial 21 with value: 0.8300815375655213.\n"
     ]
    },
    {
     "name": "stdout",
     "output_type": "stream",
     "text": [
      "Training until validation scores don't improve for 20 rounds\n",
      "Early stopping, best iteration is:\n",
      "[1]\tvalid_0's auc: 0.693288\tvalid_0's binary_logloss: 0.649752\n"
     ]
    },
    {
     "name": "stderr",
     "output_type": "stream",
     "text": [
      "[I 2023-09-10 06:31:55,122] Trial 133 pruned. Trial was pruned at iteration 21.\n"
     ]
    },
    {
     "name": "stdout",
     "output_type": "stream",
     "text": [
      "[LightGBM] [Warning] lambda_l1 is set=5, reg_alpha=0.0 will be ignored. Current value: lambda_l1=5\n",
      "[LightGBM] [Warning] bagging_fraction is set=1.0, subsample=1.0 will be ignored. Current value: bagging_fraction=1.0\n",
      "[LightGBM] [Warning] feature_fraction is set=0.9, colsample_bytree=1.0 will be ignored. Current value: feature_fraction=0.9\n",
      "[LightGBM] [Warning] min_data_in_leaf is set=100, min_child_samples=20 will be ignored. Current value: min_data_in_leaf=100\n",
      "[LightGBM] [Warning] bagging_freq is set=1, subsample_freq=0 will be ignored. Current value: bagging_freq=1\n",
      "[LightGBM] [Warning] min_gain_to_split is set=10.3, min_split_gain=0.0 will be ignored. Current value: min_gain_to_split=10.3\n",
      "[LightGBM] [Warning] lambda_l2 is set=55, reg_lambda=0.0 will be ignored. Current value: lambda_l2=55\n",
      "Training until validation scores don't improve for 20 rounds\n"
     ]
    },
    {
     "name": "stderr",
     "output_type": "stream",
     "text": [
      "[I 2023-09-10 06:31:55,376] Trial 134 pruned. Trial was pruned at iteration 21.\n"
     ]
    },
    {
     "name": "stdout",
     "output_type": "stream",
     "text": [
      "Training until validation scores don't improve for 20 rounds\n"
     ]
    },
    {
     "name": "stderr",
     "output_type": "stream",
     "text": [
      "[I 2023-09-10 06:31:55,627] Trial 135 pruned. Trial was pruned at iteration 21.\n"
     ]
    },
    {
     "name": "stdout",
     "output_type": "stream",
     "text": [
      "Training until validation scores don't improve for 20 rounds\n"
     ]
    },
    {
     "name": "stderr",
     "output_type": "stream",
     "text": [
      "[I 2023-09-10 06:31:55,919] Trial 136 finished with value: 0.6851339545719277 and parameters: {'n_estimators': 100, 'learning_rate': 0.5, 'num_leaves': 460, 'max_depth': 5, 'min_data_in_leaf': 100, 'lambda_l1': 20, 'lambda_l2': 55, 'min_gain_to_split': 9.0, 'bagging_fraction': 1.0, 'bagging_freq': 1, 'feature_fraction': 0.9}. Best is trial 21 with value: 0.8300815375655213.\n"
     ]
    },
    {
     "name": "stdout",
     "output_type": "stream",
     "text": [
      "Training until validation scores don't improve for 20 rounds\n",
      "Early stopping, best iteration is:\n",
      "[1]\tvalid_0's auc: 0.685134\tvalid_0's binary_logloss: 0.653673\n"
     ]
    },
    {
     "name": "stderr",
     "output_type": "stream",
     "text": [
      "[I 2023-09-10 06:31:56,205] Trial 137 pruned. Trial was pruned at iteration 21.\n"
     ]
    },
    {
     "name": "stdout",
     "output_type": "stream",
     "text": [
      "[LightGBM] [Warning] lambda_l1 is set=10, reg_alpha=0.0 will be ignored. Current value: lambda_l1=10\n",
      "[LightGBM] [Warning] bagging_fraction is set=1.0, subsample=1.0 will be ignored. Current value: bagging_fraction=1.0\n",
      "[LightGBM] [Warning] feature_fraction is set=0.9, colsample_bytree=1.0 will be ignored. Current value: feature_fraction=0.9\n",
      "[LightGBM] [Warning] min_data_in_leaf is set=100, min_child_samples=20 will be ignored. Current value: min_data_in_leaf=100\n",
      "[LightGBM] [Warning] bagging_freq is set=1, subsample_freq=0 will be ignored. Current value: bagging_freq=1\n",
      "[LightGBM] [Warning] min_gain_to_split is set=8.200000000000001, min_split_gain=0.0 will be ignored. Current value: min_gain_to_split=8.200000000000001\n",
      "[LightGBM] [Warning] lambda_l2 is set=50, reg_lambda=0.0 will be ignored. Current value: lambda_l2=50\n",
      "Training until validation scores don't improve for 20 rounds\n"
     ]
    },
    {
     "name": "stderr",
     "output_type": "stream",
     "text": [
      "[I 2023-09-10 06:31:56,464] Trial 138 pruned. Trial was pruned at iteration 29.\n"
     ]
    },
    {
     "name": "stdout",
     "output_type": "stream",
     "text": [
      "Training until validation scores don't improve for 20 rounds\n"
     ]
    },
    {
     "name": "stderr",
     "output_type": "stream",
     "text": [
      "[I 2023-09-10 06:31:56,725] Trial 139 pruned. Trial was pruned at iteration 21.\n"
     ]
    },
    {
     "name": "stdout",
     "output_type": "stream",
     "text": [
      "Training until validation scores don't improve for 20 rounds\n"
     ]
    },
    {
     "name": "stderr",
     "output_type": "stream",
     "text": [
      "[I 2023-09-10 06:31:57,012] Trial 140 pruned. Trial was pruned at iteration 21.\n"
     ]
    },
    {
     "name": "stdout",
     "output_type": "stream",
     "text": [
      "Training until validation scores don't improve for 20 rounds\n"
     ]
    },
    {
     "name": "stderr",
     "output_type": "stream",
     "text": [
      "[I 2023-09-10 06:31:57,306] Trial 141 pruned. Trial was pruned at iteration 21.\n"
     ]
    },
    {
     "name": "stdout",
     "output_type": "stream",
     "text": [
      "Training until validation scores don't improve for 20 rounds\n"
     ]
    },
    {
     "name": "stderr",
     "output_type": "stream",
     "text": [
      "[I 2023-09-10 06:31:57,600] Trial 142 finished with value: 0.6932877111240536 and parameters: {'n_estimators': 100, 'learning_rate': 0.30000000000000004, 'num_leaves': 200, 'max_depth': 5, 'min_data_in_leaf': 100, 'lambda_l1': 10, 'lambda_l2': 55, 'min_gain_to_split': 12.200000000000001, 'bagging_fraction': 1.0, 'bagging_freq': 1, 'feature_fraction': 0.9}. Best is trial 21 with value: 0.8300815375655213.\n"
     ]
    },
    {
     "name": "stdout",
     "output_type": "stream",
     "text": [
      "Training until validation scores don't improve for 20 rounds\n",
      "Early stopping, best iteration is:\n",
      "[1]\tvalid_0's auc: 0.693288\tvalid_0's binary_logloss: 0.659276\n"
     ]
    },
    {
     "name": "stderr",
     "output_type": "stream",
     "text": [
      "[I 2023-09-10 06:31:57,890] Trial 143 pruned. Trial was pruned at iteration 21.\n"
     ]
    },
    {
     "name": "stdout",
     "output_type": "stream",
     "text": [
      "[LightGBM] [Warning] lambda_l1 is set=0, reg_alpha=0.0 will be ignored. Current value: lambda_l1=0\n",
      "[LightGBM] [Warning] bagging_fraction is set=1.0, subsample=1.0 will be ignored. Current value: bagging_fraction=1.0\n",
      "[LightGBM] [Warning] feature_fraction is set=0.9, colsample_bytree=1.0 will be ignored. Current value: feature_fraction=0.9\n",
      "[LightGBM] [Warning] min_data_in_leaf is set=100, min_child_samples=20 will be ignored. Current value: min_data_in_leaf=100\n",
      "[LightGBM] [Warning] bagging_freq is set=1, subsample_freq=0 will be ignored. Current value: bagging_freq=1\n",
      "[LightGBM] [Warning] min_gain_to_split is set=9.200000000000001, min_split_gain=0.0 will be ignored. Current value: min_gain_to_split=9.200000000000001\n",
      "[LightGBM] [Warning] lambda_l2 is set=50, reg_lambda=0.0 will be ignored. Current value: lambda_l2=50\n",
      "Training until validation scores don't improve for 20 rounds\n"
     ]
    },
    {
     "name": "stderr",
     "output_type": "stream",
     "text": [
      "[I 2023-09-10 06:31:58,188] Trial 144 finished with value: 0.6932877111240536 and parameters: {'n_estimators': 100, 'learning_rate': 0.25, 'num_leaves': 520, 'max_depth': 4, 'min_data_in_leaf': 100, 'lambda_l1': 10, 'lambda_l2': 55, 'min_gain_to_split': 12.0, 'bagging_fraction': 1.0, 'bagging_freq': 1, 'feature_fraction': 0.9}. Best is trial 21 with value: 0.8300815375655213.\n"
     ]
    },
    {
     "name": "stdout",
     "output_type": "stream",
     "text": [
      "Training until validation scores don't improve for 20 rounds\n",
      "Early stopping, best iteration is:\n",
      "[1]\tvalid_0's auc: 0.693288\tvalid_0's binary_logloss: 0.661844\n"
     ]
    },
    {
     "name": "stderr",
     "output_type": "stream",
     "text": [
      "[I 2023-09-10 06:31:58,460] Trial 145 pruned. Trial was pruned at iteration 0.\n"
     ]
    },
    {
     "name": "stdout",
     "output_type": "stream",
     "text": [
      "[LightGBM] [Warning] lambda_l1 is set=70, reg_alpha=0.0 will be ignored. Current value: lambda_l1=70\n",
      "[LightGBM] [Warning] bagging_fraction is set=0.5, subsample=1.0 will be ignored. Current value: bagging_fraction=0.5\n",
      "[LightGBM] [Warning] feature_fraction is set=0.9, colsample_bytree=1.0 will be ignored. Current value: feature_fraction=0.9\n",
      "[LightGBM] [Warning] min_data_in_leaf is set=100, min_child_samples=20 will be ignored. Current value: min_data_in_leaf=100\n",
      "[LightGBM] [Warning] bagging_freq is set=1, subsample_freq=0 will be ignored. Current value: bagging_freq=1\n",
      "[LightGBM] [Warning] min_gain_to_split is set=12.4, min_split_gain=0.0 will be ignored. Current value: min_gain_to_split=12.4\n",
      "[LightGBM] [Warning] lambda_l2 is set=55, reg_lambda=0.0 will be ignored. Current value: lambda_l2=55\n"
     ]
    },
    {
     "name": "stderr",
     "output_type": "stream",
     "text": [
      "[I 2023-09-10 06:31:58,765] Trial 146 finished with value: 0.6932877111240536 and parameters: {'n_estimators': 100, 'learning_rate': 0.5, 'num_leaves': 520, 'max_depth': 12, 'min_data_in_leaf': 100, 'lambda_l1': 10, 'lambda_l2': 50, 'min_gain_to_split': 12.0, 'bagging_fraction': 1.0, 'bagging_freq': 1, 'feature_fraction': 0.9}. Best is trial 21 with value: 0.8300815375655213.\n"
     ]
    },
    {
     "name": "stdout",
     "output_type": "stream",
     "text": [
      "Training until validation scores don't improve for 20 rounds\n",
      "Early stopping, best iteration is:\n",
      "[1]\tvalid_0's auc: 0.693288\tvalid_0's binary_logloss: 0.64884\n"
     ]
    },
    {
     "name": "stderr",
     "output_type": "stream",
     "text": [
      "[I 2023-09-10 06:31:59,036] Trial 147 pruned. Trial was pruned at iteration 21.\n"
     ]
    },
    {
     "name": "stdout",
     "output_type": "stream",
     "text": [
      "[LightGBM] [Warning] lambda_l1 is set=5, reg_alpha=0.0 will be ignored. Current value: lambda_l1=5\n",
      "[LightGBM] [Warning] bagging_fraction is set=1.0, subsample=1.0 will be ignored. Current value: bagging_fraction=1.0\n",
      "[LightGBM] [Warning] feature_fraction is set=0.9, colsample_bytree=1.0 will be ignored. Current value: feature_fraction=0.9\n",
      "[LightGBM] [Warning] min_data_in_leaf is set=100, min_child_samples=20 will be ignored. Current value: min_data_in_leaf=100\n",
      "[LightGBM] [Warning] bagging_freq is set=1, subsample_freq=0 will be ignored. Current value: bagging_freq=1\n",
      "[LightGBM] [Warning] min_gain_to_split is set=12.100000000000001, min_split_gain=0.0 will be ignored. Current value: min_gain_to_split=12.100000000000001\n",
      "[LightGBM] [Warning] lambda_l2 is set=45, reg_lambda=0.0 will be ignored. Current value: lambda_l2=45\n",
      "Training until validation scores don't improve for 20 rounds\n"
     ]
    },
    {
     "name": "stderr",
     "output_type": "stream",
     "text": [
      "[I 2023-09-10 06:31:59,341] Trial 148 finished with value: 0.6932877111240536 and parameters: {'n_estimators': 100, 'learning_rate': 0.15000000000000002, 'num_leaves': 540, 'max_depth': 5, 'min_data_in_leaf': 100, 'lambda_l1': 10, 'lambda_l2': 50, 'min_gain_to_split': 12.9, 'bagging_fraction': 1.0, 'bagging_freq': 1, 'feature_fraction': 0.9}. Best is trial 21 with value: 0.8300815375655213.\n"
     ]
    },
    {
     "name": "stdout",
     "output_type": "stream",
     "text": [
      "Training until validation scores don't improve for 20 rounds\n",
      "Early stopping, best iteration is:\n",
      "[1]\tvalid_0's auc: 0.693288\tvalid_0's binary_logloss: 0.666867\n"
     ]
    },
    {
     "name": "stderr",
     "output_type": "stream",
     "text": [
      "[I 2023-09-10 06:31:59,607] Trial 149 pruned. Trial was pruned at iteration 0.\n"
     ]
    },
    {
     "name": "stdout",
     "output_type": "stream",
     "text": [
      "[LightGBM] [Warning] lambda_l1 is set=10, reg_alpha=0.0 will be ignored. Current value: lambda_l1=10\n",
      "[LightGBM] [Warning] bagging_fraction is set=1.0, subsample=1.0 will be ignored. Current value: bagging_fraction=1.0\n",
      "[LightGBM] [Warning] feature_fraction is set=0.2, colsample_bytree=1.0 will be ignored. Current value: feature_fraction=0.2\n",
      "[LightGBM] [Warning] min_data_in_leaf is set=100, min_child_samples=20 will be ignored. Current value: min_data_in_leaf=100\n",
      "[LightGBM] [Warning] bagging_freq is set=1, subsample_freq=0 will be ignored. Current value: bagging_freq=1\n",
      "[LightGBM] [Warning] min_gain_to_split is set=13.3, min_split_gain=0.0 will be ignored. Current value: min_gain_to_split=13.3\n",
      "[LightGBM] [Warning] lambda_l2 is set=50, reg_lambda=0.0 will be ignored. Current value: lambda_l2=50\n"
     ]
    },
    {
     "name": "stderr",
     "output_type": "stream",
     "text": [
      "[I 2023-09-10 06:31:59,907] Trial 150 pruned. Trial was pruned at iteration 21.\n"
     ]
    },
    {
     "name": "stdout",
     "output_type": "stream",
     "text": [
      "Training until validation scores don't improve for 20 rounds\n"
     ]
    },
    {
     "name": "stderr",
     "output_type": "stream",
     "text": [
      "[I 2023-09-10 06:32:00,189] Trial 151 finished with value: 0.6932877111240536 and parameters: {'n_estimators': 100, 'learning_rate': 0.2, 'num_leaves': 540, 'max_depth': 12, 'min_data_in_leaf': 100, 'lambda_l1': 10, 'lambda_l2': 50, 'min_gain_to_split': 11.8, 'bagging_fraction': 1.0, 'bagging_freq': 1, 'feature_fraction': 0.9}. Best is trial 21 with value: 0.8300815375655213.\n"
     ]
    },
    {
     "name": "stdout",
     "output_type": "stream",
     "text": [
      "Training until validation scores don't improve for 20 rounds\n",
      "Early stopping, best iteration is:\n",
      "[1]\tvalid_0's auc: 0.693288\tvalid_0's binary_logloss: 0.66405\n"
     ]
    },
    {
     "name": "stderr",
     "output_type": "stream",
     "text": [
      "[I 2023-09-10 06:32:00,468] Trial 152 finished with value: 0.6932877111240536 and parameters: {'n_estimators': 100, 'learning_rate': 0.2, 'num_leaves': 540, 'max_depth': 11, 'min_data_in_leaf': 100, 'lambda_l1': 10, 'lambda_l2': 45, 'min_gain_to_split': 12.200000000000001, 'bagging_fraction': 1.0, 'bagging_freq': 1, 'feature_fraction': 0.9}. Best is trial 21 with value: 0.8300815375655213.\n"
     ]
    },
    {
     "name": "stdout",
     "output_type": "stream",
     "text": [
      "[LightGBM] [Warning] lambda_l1 is set=10, reg_alpha=0.0 will be ignored. Current value: lambda_l1=10\n",
      "[LightGBM] [Warning] bagging_fraction is set=1.0, subsample=1.0 will be ignored. Current value: bagging_fraction=1.0\n",
      "[LightGBM] [Warning] feature_fraction is set=0.9, colsample_bytree=1.0 will be ignored. Current value: feature_fraction=0.9\n",
      "[LightGBM] [Warning] min_data_in_leaf is set=100, min_child_samples=20 will be ignored. Current value: min_data_in_leaf=100\n",
      "[LightGBM] [Warning] bagging_freq is set=1, subsample_freq=0 will be ignored. Current value: bagging_freq=1\n",
      "[LightGBM] [Warning] min_gain_to_split is set=12.200000000000001, min_split_gain=0.0 will be ignored. Current value: min_gain_to_split=12.200000000000001\n",
      "[LightGBM] [Warning] lambda_l2 is set=45, reg_lambda=0.0 will be ignored. Current value: lambda_l2=45\n",
      "Training until validation scores don't improve for 20 rounds\n",
      "Early stopping, best iteration is:\n",
      "[1]\tvalid_0's auc: 0.693288\tvalid_0's binary_logloss: 0.663577\n"
     ]
    },
    {
     "name": "stderr",
     "output_type": "stream",
     "text": [
      "[I 2023-09-10 06:32:00,747] Trial 153 finished with value: 0.6932877111240536 and parameters: {'n_estimators': 100, 'learning_rate': 0.2, 'num_leaves': 540, 'max_depth': 12, 'min_data_in_leaf': 100, 'lambda_l1': 10, 'lambda_l2': 45, 'min_gain_to_split': 12.0, 'bagging_fraction': 1.0, 'bagging_freq': 1, 'feature_fraction': 0.9}. Best is trial 21 with value: 0.8300815375655213.\n"
     ]
    },
    {
     "name": "stdout",
     "output_type": "stream",
     "text": [
      "[LightGBM] [Warning] lambda_l1 is set=10, reg_alpha=0.0 will be ignored. Current value: lambda_l1=10\n",
      "[LightGBM] [Warning] bagging_fraction is set=1.0, subsample=1.0 will be ignored. Current value: bagging_fraction=1.0\n",
      "[LightGBM] [Warning] feature_fraction is set=0.9, colsample_bytree=1.0 will be ignored. Current value: feature_fraction=0.9\n",
      "[LightGBM] [Warning] min_data_in_leaf is set=100, min_child_samples=20 will be ignored. Current value: min_data_in_leaf=100\n",
      "[LightGBM] [Warning] bagging_freq is set=1, subsample_freq=0 will be ignored. Current value: bagging_freq=1\n",
      "[LightGBM] [Warning] min_gain_to_split is set=12.0, min_split_gain=0.0 will be ignored. Current value: min_gain_to_split=12.0\n",
      "[LightGBM] [Warning] lambda_l2 is set=45, reg_lambda=0.0 will be ignored. Current value: lambda_l2=45\n",
      "Training until validation scores don't improve for 20 rounds\n",
      "Early stopping, best iteration is:\n",
      "[1]\tvalid_0's auc: 0.693288\tvalid_0's binary_logloss: 0.663577\n"
     ]
    },
    {
     "name": "stderr",
     "output_type": "stream",
     "text": [
      "[I 2023-09-10 06:32:01,049] Trial 154 pruned. Trial was pruned at iteration 21.\n"
     ]
    },
    {
     "name": "stdout",
     "output_type": "stream",
     "text": [
      "[LightGBM] [Warning] lambda_l1 is set=5, reg_alpha=0.0 will be ignored. Current value: lambda_l1=5\n",
      "[LightGBM] [Warning] bagging_fraction is set=1.0, subsample=1.0 will be ignored. Current value: bagging_fraction=1.0\n",
      "[LightGBM] [Warning] feature_fraction is set=0.9, colsample_bytree=1.0 will be ignored. Current value: feature_fraction=0.9\n",
      "[LightGBM] [Warning] min_data_in_leaf is set=100, min_child_samples=20 will be ignored. Current value: min_data_in_leaf=100\n",
      "[LightGBM] [Warning] bagging_freq is set=1, subsample_freq=0 will be ignored. Current value: bagging_freq=1\n",
      "[LightGBM] [Warning] min_gain_to_split is set=12.100000000000001, min_split_gain=0.0 will be ignored. Current value: min_gain_to_split=12.100000000000001\n",
      "[LightGBM] [Warning] lambda_l2 is set=45, reg_lambda=0.0 will be ignored. Current value: lambda_l2=45\n",
      "Training until validation scores don't improve for 20 rounds\n"
     ]
    },
    {
     "name": "stderr",
     "output_type": "stream",
     "text": [
      "[I 2023-09-10 06:32:01,359] Trial 155 finished with value: 0.6932877111240536 and parameters: {'n_estimators': 100, 'learning_rate': 0.2, 'num_leaves': 540, 'max_depth': 12, 'min_data_in_leaf': 100, 'lambda_l1': 10, 'lambda_l2': 45, 'min_gain_to_split': 13.200000000000001, 'bagging_fraction': 1.0, 'bagging_freq': 1, 'feature_fraction': 0.9}. Best is trial 21 with value: 0.8300815375655213.\n"
     ]
    },
    {
     "name": "stdout",
     "output_type": "stream",
     "text": [
      "Training until validation scores don't improve for 20 rounds\n",
      "Early stopping, best iteration is:\n",
      "[1]\tvalid_0's auc: 0.693288\tvalid_0's binary_logloss: 0.663577\n"
     ]
    },
    {
     "name": "stderr",
     "output_type": "stream",
     "text": [
      "[I 2023-09-10 06:32:01,669] Trial 156 finished with value: 0.6932877111240536 and parameters: {'n_estimators': 100, 'learning_rate': 0.2, 'num_leaves': 600, 'max_depth': 12, 'min_data_in_leaf': 100, 'lambda_l1': 5, 'lambda_l2': 45, 'min_gain_to_split': 13.100000000000001, 'bagging_fraction': 1.0, 'bagging_freq': 1, 'feature_fraction': 0.9}. Best is trial 21 with value: 0.8300815375655213.\n"
     ]
    },
    {
     "name": "stdout",
     "output_type": "stream",
     "text": [
      "[LightGBM] [Warning] lambda_l1 is set=5, reg_alpha=0.0 will be ignored. Current value: lambda_l1=5\n",
      "[LightGBM] [Warning] bagging_fraction is set=1.0, subsample=1.0 will be ignored. Current value: bagging_fraction=1.0\n",
      "[LightGBM] [Warning] feature_fraction is set=0.9, colsample_bytree=1.0 will be ignored. Current value: feature_fraction=0.9\n",
      "[LightGBM] [Warning] min_data_in_leaf is set=100, min_child_samples=20 will be ignored. Current value: min_data_in_leaf=100\n",
      "[LightGBM] [Warning] bagging_freq is set=1, subsample_freq=0 will be ignored. Current value: bagging_freq=1\n",
      "[LightGBM] [Warning] min_gain_to_split is set=13.100000000000001, min_split_gain=0.0 will be ignored. Current value: min_gain_to_split=13.100000000000001\n",
      "[LightGBM] [Warning] lambda_l2 is set=45, reg_lambda=0.0 will be ignored. Current value: lambda_l2=45\n",
      "Training until validation scores don't improve for 20 rounds\n",
      "Early stopping, best iteration is:\n",
      "[1]\tvalid_0's auc: 0.693288\tvalid_0's binary_logloss: 0.662608\n"
     ]
    },
    {
     "name": "stderr",
     "output_type": "stream",
     "text": [
      "[I 2023-09-10 06:32:01,980] Trial 157 pruned. Trial was pruned at iteration 21.\n"
     ]
    },
    {
     "name": "stdout",
     "output_type": "stream",
     "text": [
      "[LightGBM] [Warning] lambda_l1 is set=5, reg_alpha=0.0 will be ignored. Current value: lambda_l1=5\n",
      "[LightGBM] [Warning] bagging_fraction is set=1.0, subsample=1.0 will be ignored. Current value: bagging_fraction=1.0\n",
      "[LightGBM] [Warning] feature_fraction is set=0.9, colsample_bytree=1.0 will be ignored. Current value: feature_fraction=0.9\n",
      "[LightGBM] [Warning] min_data_in_leaf is set=100, min_child_samples=20 will be ignored. Current value: min_data_in_leaf=100\n",
      "[LightGBM] [Warning] bagging_freq is set=1, subsample_freq=0 will be ignored. Current value: bagging_freq=1\n",
      "[LightGBM] [Warning] min_gain_to_split is set=12.9, min_split_gain=0.0 will be ignored. Current value: min_gain_to_split=12.9\n",
      "[LightGBM] [Warning] lambda_l2 is set=40, reg_lambda=0.0 will be ignored. Current value: lambda_l2=40\n",
      "Training until validation scores don't improve for 20 rounds\n"
     ]
    },
    {
     "name": "stderr",
     "output_type": "stream",
     "text": [
      "[I 2023-09-10 06:32:02,264] Trial 158 finished with value: 0.6932877111240536 and parameters: {'n_estimators': 100, 'learning_rate': 0.2, 'num_leaves': 540, 'max_depth': 12, 'min_data_in_leaf': 100, 'lambda_l1': 10, 'lambda_l2': 45, 'min_gain_to_split': 13.3, 'bagging_fraction': 1.0, 'bagging_freq': 1, 'feature_fraction': 0.9}. Best is trial 21 with value: 0.8300815375655213.\n"
     ]
    },
    {
     "name": "stdout",
     "output_type": "stream",
     "text": [
      "Training until validation scores don't improve for 20 rounds\n",
      "Early stopping, best iteration is:\n",
      "[1]\tvalid_0's auc: 0.693288\tvalid_0's binary_logloss: 0.663577\n"
     ]
    },
    {
     "name": "stderr",
     "output_type": "stream",
     "text": [
      "[I 2023-09-10 06:32:02,502] Trial 159 pruned. Trial was pruned at iteration 0.\n"
     ]
    },
    {
     "name": "stdout",
     "output_type": "stream",
     "text": [
      "[LightGBM] [Warning] lambda_l1 is set=0, reg_alpha=0.0 will be ignored. Current value: lambda_l1=0\n",
      "[LightGBM] [Warning] bagging_fraction is set=1.0, subsample=1.0 will be ignored. Current value: bagging_fraction=1.0\n",
      "[LightGBM] [Warning] feature_fraction is set=0.9, colsample_bytree=1.0 will be ignored. Current value: feature_fraction=0.9\n",
      "[LightGBM] [Warning] min_data_in_leaf is set=400, min_child_samples=20 will be ignored. Current value: min_data_in_leaf=400\n",
      "[LightGBM] [Warning] bagging_freq is set=1, subsample_freq=0 will be ignored. Current value: bagging_freq=1\n",
      "[LightGBM] [Warning] min_gain_to_split is set=13.700000000000001, min_split_gain=0.0 will be ignored. Current value: min_gain_to_split=13.700000000000001\n",
      "[LightGBM] [Warning] lambda_l2 is set=40, reg_lambda=0.0 will be ignored. Current value: lambda_l2=40\n"
     ]
    },
    {
     "name": "stderr",
     "output_type": "stream",
     "text": [
      "[I 2023-09-10 06:32:02,756] Trial 160 pruned. Trial was pruned at iteration 0.\n",
      "[I 2023-09-10 06:32:03,069] Trial 161 finished with value: 0.6932877111240536 and parameters: {'n_estimators': 100, 'learning_rate': 0.2, 'num_leaves': 540, 'max_depth': 12, 'min_data_in_leaf': 100, 'lambda_l1': 10, 'lambda_l2': 45, 'min_gain_to_split': 13.4, 'bagging_fraction': 1.0, 'bagging_freq': 1, 'feature_fraction': 0.9}. Best is trial 21 with value: 0.8300815375655213.\n"
     ]
    },
    {
     "name": "stdout",
     "output_type": "stream",
     "text": [
      "Training until validation scores don't improve for 20 rounds\n",
      "Early stopping, best iteration is:\n",
      "[1]\tvalid_0's auc: 0.693288\tvalid_0's binary_logloss: 0.663577\n"
     ]
    },
    {
     "name": "stderr",
     "output_type": "stream",
     "text": [
      "[I 2023-09-10 06:32:03,350] Trial 162 finished with value: 0.6932877111240536 and parameters: {'n_estimators': 100, 'learning_rate': 0.2, 'num_leaves': 520, 'max_depth': 12, 'min_data_in_leaf': 100, 'lambda_l1': 10, 'lambda_l2': 45, 'min_gain_to_split': 13.100000000000001, 'bagging_fraction': 1.0, 'bagging_freq': 1, 'feature_fraction': 0.9}. Best is trial 21 with value: 0.8300815375655213.\n"
     ]
    },
    {
     "name": "stdout",
     "output_type": "stream",
     "text": [
      "[LightGBM] [Warning] lambda_l1 is set=10, reg_alpha=0.0 will be ignored. Current value: lambda_l1=10\n",
      "[LightGBM] [Warning] bagging_fraction is set=1.0, subsample=1.0 will be ignored. Current value: bagging_fraction=1.0\n",
      "[LightGBM] [Warning] feature_fraction is set=0.9, colsample_bytree=1.0 will be ignored. Current value: feature_fraction=0.9\n",
      "[LightGBM] [Warning] min_data_in_leaf is set=100, min_child_samples=20 will be ignored. Current value: min_data_in_leaf=100\n",
      "[LightGBM] [Warning] bagging_freq is set=1, subsample_freq=0 will be ignored. Current value: bagging_freq=1\n",
      "[LightGBM] [Warning] min_gain_to_split is set=13.100000000000001, min_split_gain=0.0 will be ignored. Current value: min_gain_to_split=13.100000000000001\n",
      "[LightGBM] [Warning] lambda_l2 is set=45, reg_lambda=0.0 will be ignored. Current value: lambda_l2=45\n",
      "Training until validation scores don't improve for 20 rounds\n",
      "Early stopping, best iteration is:\n",
      "[1]\tvalid_0's auc: 0.693288\tvalid_0's binary_logloss: 0.663577\n"
     ]
    },
    {
     "name": "stderr",
     "output_type": "stream",
     "text": [
      "[I 2023-09-10 06:32:03,609] Trial 163 pruned. Trial was pruned at iteration 21.\n"
     ]
    },
    {
     "name": "stdout",
     "output_type": "stream",
     "text": [
      "[LightGBM] [Warning] lambda_l1 is set=10, reg_alpha=0.0 will be ignored. Current value: lambda_l1=10\n",
      "[LightGBM] [Warning] bagging_fraction is set=1.0, subsample=1.0 will be ignored. Current value: bagging_fraction=1.0\n",
      "[LightGBM] [Warning] feature_fraction is set=0.9, colsample_bytree=1.0 will be ignored. Current value: feature_fraction=0.9\n",
      "[LightGBM] [Warning] min_data_in_leaf is set=100, min_child_samples=20 will be ignored. Current value: min_data_in_leaf=100\n",
      "[LightGBM] [Warning] bagging_freq is set=1, subsample_freq=0 will be ignored. Current value: bagging_freq=1\n",
      "[LightGBM] [Warning] min_gain_to_split is set=12.5, min_split_gain=0.0 will be ignored. Current value: min_gain_to_split=12.5\n",
      "[LightGBM] [Warning] lambda_l2 is set=45, reg_lambda=0.0 will be ignored. Current value: lambda_l2=45\n",
      "Training until validation scores don't improve for 20 rounds\n"
     ]
    },
    {
     "name": "stderr",
     "output_type": "stream",
     "text": [
      "[I 2023-09-10 06:32:03,873] Trial 164 pruned. Trial was pruned at iteration 21.\n"
     ]
    },
    {
     "name": "stdout",
     "output_type": "stream",
     "text": [
      "Training until validation scores don't improve for 20 rounds\n"
     ]
    },
    {
     "name": "stderr",
     "output_type": "stream",
     "text": [
      "[I 2023-09-10 06:32:04,139] Trial 165 pruned. Trial was pruned at iteration 21.\n"
     ]
    },
    {
     "name": "stdout",
     "output_type": "stream",
     "text": [
      "Training until validation scores don't improve for 20 rounds\n"
     ]
    },
    {
     "name": "stderr",
     "output_type": "stream",
     "text": [
      "[I 2023-09-10 06:32:04,402] Trial 166 pruned. Trial was pruned at iteration 0.\n",
      "[I 2023-09-10 06:32:04,685] Trial 167 finished with value: 0.6932877111240536 and parameters: {'n_estimators': 600, 'learning_rate': 0.2, 'num_leaves': 460, 'max_depth': 12, 'min_data_in_leaf': 100, 'lambda_l1': 5, 'lambda_l2': 45, 'min_gain_to_split': 14.4, 'bagging_fraction': 1.0, 'bagging_freq': 1, 'feature_fraction': 0.9}. Best is trial 21 with value: 0.8300815375655213.\n"
     ]
    },
    {
     "name": "stdout",
     "output_type": "stream",
     "text": [
      "Training until validation scores don't improve for 20 rounds\n",
      "Early stopping, best iteration is:\n",
      "[1]\tvalid_0's auc: 0.693288\tvalid_0's binary_logloss: 0.662608\n"
     ]
    },
    {
     "name": "stderr",
     "output_type": "stream",
     "text": [
      "[I 2023-09-10 06:32:04,961] Trial 168 pruned. Trial was pruned at iteration 21.\n"
     ]
    },
    {
     "name": "stdout",
     "output_type": "stream",
     "text": [
      "[LightGBM] [Warning] lambda_l1 is set=10, reg_alpha=0.0 will be ignored. Current value: lambda_l1=10\n",
      "[LightGBM] [Warning] bagging_fraction is set=1.0, subsample=1.0 will be ignored. Current value: bagging_fraction=1.0\n",
      "[LightGBM] [Warning] feature_fraction is set=0.9, colsample_bytree=1.0 will be ignored. Current value: feature_fraction=0.9\n",
      "[LightGBM] [Warning] min_data_in_leaf is set=100, min_child_samples=20 will be ignored. Current value: min_data_in_leaf=100\n",
      "[LightGBM] [Warning] bagging_freq is set=1, subsample_freq=0 will be ignored. Current value: bagging_freq=1\n",
      "[LightGBM] [Warning] min_gain_to_split is set=11.9, min_split_gain=0.0 will be ignored. Current value: min_gain_to_split=11.9\n",
      "[LightGBM] [Warning] lambda_l2 is set=50, reg_lambda=0.0 will be ignored. Current value: lambda_l2=50\n",
      "Training until validation scores don't improve for 20 rounds\n"
     ]
    },
    {
     "name": "stderr",
     "output_type": "stream",
     "text": [
      "[I 2023-09-10 06:32:05,245] Trial 169 finished with value: 0.6932877111240536 and parameters: {'n_estimators': 100, 'learning_rate': 0.2, 'num_leaves': 520, 'max_depth': 12, 'min_data_in_leaf': 100, 'lambda_l1': 5, 'lambda_l2': 45, 'min_gain_to_split': 13.4, 'bagging_fraction': 1.0, 'bagging_freq': 1, 'feature_fraction': 0.8}. Best is trial 21 with value: 0.8300815375655213.\n"
     ]
    },
    {
     "name": "stdout",
     "output_type": "stream",
     "text": [
      "Training until validation scores don't improve for 20 rounds\n",
      "Early stopping, best iteration is:\n",
      "[1]\tvalid_0's auc: 0.693288\tvalid_0's binary_logloss: 0.662608\n"
     ]
    },
    {
     "name": "stderr",
     "output_type": "stream",
     "text": [
      "[I 2023-09-10 06:32:05,509] Trial 170 pruned. Trial was pruned at iteration 21.\n"
     ]
    },
    {
     "name": "stdout",
     "output_type": "stream",
     "text": [
      "[LightGBM] [Warning] lambda_l1 is set=0, reg_alpha=0.0 will be ignored. Current value: lambda_l1=0\n",
      "[LightGBM] [Warning] bagging_fraction is set=1.0, subsample=1.0 will be ignored. Current value: bagging_fraction=1.0\n",
      "[LightGBM] [Warning] feature_fraction is set=0.9, colsample_bytree=1.0 will be ignored. Current value: feature_fraction=0.9\n",
      "[LightGBM] [Warning] min_data_in_leaf is set=100, min_child_samples=20 will be ignored. Current value: min_data_in_leaf=100\n",
      "[LightGBM] [Warning] bagging_freq is set=1, subsample_freq=0 will be ignored. Current value: bagging_freq=1\n",
      "[LightGBM] [Warning] min_gain_to_split is set=12.3, min_split_gain=0.0 will be ignored. Current value: min_gain_to_split=12.3\n",
      "[LightGBM] [Warning] lambda_l2 is set=40, reg_lambda=0.0 will be ignored. Current value: lambda_l2=40\n",
      "Training until validation scores don't improve for 20 rounds\n"
     ]
    },
    {
     "name": "stderr",
     "output_type": "stream",
     "text": [
      "[I 2023-09-10 06:32:05,823] Trial 171 finished with value: 0.6932877111240536 and parameters: {'n_estimators': 100, 'learning_rate': 0.2, 'num_leaves': 540, 'max_depth': 12, 'min_data_in_leaf': 100, 'lambda_l1': 10, 'lambda_l2': 45, 'min_gain_to_split': 13.4, 'bagging_fraction': 1.0, 'bagging_freq': 1, 'feature_fraction': 0.9}. Best is trial 21 with value: 0.8300815375655213.\n"
     ]
    },
    {
     "name": "stdout",
     "output_type": "stream",
     "text": [
      "Training until validation scores don't improve for 20 rounds\n",
      "Early stopping, best iteration is:\n",
      "[1]\tvalid_0's auc: 0.693288\tvalid_0's binary_logloss: 0.663577\n"
     ]
    },
    {
     "name": "stderr",
     "output_type": "stream",
     "text": [
      "[I 2023-09-10 06:32:06,137] Trial 172 finished with value: 0.6932877111240536 and parameters: {'n_estimators': 100, 'learning_rate': 0.2, 'num_leaves': 560, 'max_depth': 12, 'min_data_in_leaf': 100, 'lambda_l1': 10, 'lambda_l2': 50, 'min_gain_to_split': 12.700000000000001, 'bagging_fraction': 1.0, 'bagging_freq': 1, 'feature_fraction': 0.9}. Best is trial 21 with value: 0.8300815375655213.\n"
     ]
    },
    {
     "name": "stdout",
     "output_type": "stream",
     "text": [
      "[LightGBM] [Warning] lambda_l1 is set=10, reg_alpha=0.0 will be ignored. Current value: lambda_l1=10\n",
      "[LightGBM] [Warning] bagging_fraction is set=1.0, subsample=1.0 will be ignored. Current value: bagging_fraction=1.0\n",
      "[LightGBM] [Warning] feature_fraction is set=0.9, colsample_bytree=1.0 will be ignored. Current value: feature_fraction=0.9\n",
      "[LightGBM] [Warning] min_data_in_leaf is set=100, min_child_samples=20 will be ignored. Current value: min_data_in_leaf=100\n",
      "[LightGBM] [Warning] bagging_freq is set=1, subsample_freq=0 will be ignored. Current value: bagging_freq=1\n",
      "[LightGBM] [Warning] min_gain_to_split is set=12.700000000000001, min_split_gain=0.0 will be ignored. Current value: min_gain_to_split=12.700000000000001\n",
      "[LightGBM] [Warning] lambda_l2 is set=50, reg_lambda=0.0 will be ignored. Current value: lambda_l2=50\n",
      "Training until validation scores don't improve for 20 rounds\n",
      "Early stopping, best iteration is:\n",
      "[1]\tvalid_0's auc: 0.693288\tvalid_0's binary_logloss: 0.66405\n"
     ]
    },
    {
     "name": "stderr",
     "output_type": "stream",
     "text": [
      "[I 2023-09-10 06:32:06,413] Trial 173 finished with value: 0.6932877111240536 and parameters: {'n_estimators': 100, 'learning_rate': 0.2, 'num_leaves': 500, 'max_depth': 12, 'min_data_in_leaf': 100, 'lambda_l1': 10, 'lambda_l2': 45, 'min_gain_to_split': 13.5, 'bagging_fraction': 1.0, 'bagging_freq': 1, 'feature_fraction': 0.9}. Best is trial 21 with value: 0.8300815375655213.\n"
     ]
    },
    {
     "name": "stdout",
     "output_type": "stream",
     "text": [
      "[LightGBM] [Warning] lambda_l1 is set=10, reg_alpha=0.0 will be ignored. Current value: lambda_l1=10\n",
      "[LightGBM] [Warning] bagging_fraction is set=1.0, subsample=1.0 will be ignored. Current value: bagging_fraction=1.0\n",
      "[LightGBM] [Warning] feature_fraction is set=0.9, colsample_bytree=1.0 will be ignored. Current value: feature_fraction=0.9\n",
      "[LightGBM] [Warning] min_data_in_leaf is set=100, min_child_samples=20 will be ignored. Current value: min_data_in_leaf=100\n",
      "[LightGBM] [Warning] bagging_freq is set=1, subsample_freq=0 will be ignored. Current value: bagging_freq=1\n",
      "[LightGBM] [Warning] min_gain_to_split is set=13.5, min_split_gain=0.0 will be ignored. Current value: min_gain_to_split=13.5\n",
      "[LightGBM] [Warning] lambda_l2 is set=45, reg_lambda=0.0 will be ignored. Current value: lambda_l2=45\n",
      "Training until validation scores don't improve for 20 rounds\n",
      "Early stopping, best iteration is:\n",
      "[1]\tvalid_0's auc: 0.693288\tvalid_0's binary_logloss: 0.663577\n"
     ]
    },
    {
     "name": "stderr",
     "output_type": "stream",
     "text": [
      "[I 2023-09-10 06:32:06,689] Trial 174 finished with value: 0.6932877111240536 and parameters: {'n_estimators': 100, 'learning_rate': 0.2, 'num_leaves': 580, 'max_depth': 12, 'min_data_in_leaf': 100, 'lambda_l1': 10, 'lambda_l2': 40, 'min_gain_to_split': 13.9, 'bagging_fraction': 1.0, 'bagging_freq': 1, 'feature_fraction': 0.9}. Best is trial 21 with value: 0.8300815375655213.\n"
     ]
    },
    {
     "name": "stdout",
     "output_type": "stream",
     "text": [
      "[LightGBM] [Warning] lambda_l1 is set=10, reg_alpha=0.0 will be ignored. Current value: lambda_l1=10\n",
      "[LightGBM] [Warning] bagging_fraction is set=1.0, subsample=1.0 will be ignored. Current value: bagging_fraction=1.0\n",
      "[LightGBM] [Warning] feature_fraction is set=0.9, colsample_bytree=1.0 will be ignored. Current value: feature_fraction=0.9\n",
      "[LightGBM] [Warning] min_data_in_leaf is set=100, min_child_samples=20 will be ignored. Current value: min_data_in_leaf=100\n",
      "[LightGBM] [Warning] bagging_freq is set=1, subsample_freq=0 will be ignored. Current value: bagging_freq=1\n",
      "[LightGBM] [Warning] min_gain_to_split is set=13.9, min_split_gain=0.0 will be ignored. Current value: min_gain_to_split=13.9\n",
      "[LightGBM] [Warning] lambda_l2 is set=40, reg_lambda=0.0 will be ignored. Current value: lambda_l2=40\n",
      "Training until validation scores don't improve for 20 rounds\n",
      "Early stopping, best iteration is:\n",
      "[1]\tvalid_0's auc: 0.693288\tvalid_0's binary_logloss: 0.663062\n"
     ]
    },
    {
     "name": "stderr",
     "output_type": "stream",
     "text": [
      "[I 2023-09-10 06:32:06,988] Trial 175 finished with value: 0.6932877111240536 and parameters: {'n_estimators': 100, 'learning_rate': 0.15000000000000002, 'num_leaves': 540, 'max_depth': 12, 'min_data_in_leaf': 100, 'lambda_l1': 5, 'lambda_l2': 50, 'min_gain_to_split': 13.100000000000001, 'bagging_fraction': 1.0, 'bagging_freq': 1, 'feature_fraction': 0.9}. Best is trial 21 with value: 0.8300815375655213.\n"
     ]
    },
    {
     "name": "stdout",
     "output_type": "stream",
     "text": [
      "[LightGBM] [Warning] lambda_l1 is set=5, reg_alpha=0.0 will be ignored. Current value: lambda_l1=5\n",
      "[LightGBM] [Warning] bagging_fraction is set=1.0, subsample=1.0 will be ignored. Current value: bagging_fraction=1.0\n",
      "[LightGBM] [Warning] feature_fraction is set=0.9, colsample_bytree=1.0 will be ignored. Current value: feature_fraction=0.9\n",
      "[LightGBM] [Warning] min_data_in_leaf is set=100, min_child_samples=20 will be ignored. Current value: min_data_in_leaf=100\n",
      "[LightGBM] [Warning] bagging_freq is set=1, subsample_freq=0 will be ignored. Current value: bagging_freq=1\n",
      "[LightGBM] [Warning] min_gain_to_split is set=13.100000000000001, min_split_gain=0.0 will be ignored. Current value: min_gain_to_split=13.100000000000001\n",
      "[LightGBM] [Warning] lambda_l2 is set=50, reg_lambda=0.0 will be ignored. Current value: lambda_l2=50\n",
      "Training until validation scores don't improve for 20 rounds\n",
      "Early stopping, best iteration is:\n",
      "[1]\tvalid_0's auc: 0.693288\tvalid_0's binary_logloss: 0.666148\n"
     ]
    },
    {
     "name": "stderr",
     "output_type": "stream",
     "text": [
      "[I 2023-09-10 06:32:07,248] Trial 176 pruned. Trial was pruned at iteration 21.\n"
     ]
    },
    {
     "name": "stdout",
     "output_type": "stream",
     "text": [
      "[LightGBM] [Warning] lambda_l1 is set=5, reg_alpha=0.0 will be ignored. Current value: lambda_l1=5\n",
      "[LightGBM] [Warning] bagging_fraction is set=1.0, subsample=1.0 will be ignored. Current value: bagging_fraction=1.0\n",
      "[LightGBM] [Warning] feature_fraction is set=0.9, colsample_bytree=1.0 will be ignored. Current value: feature_fraction=0.9\n",
      "[LightGBM] [Warning] min_data_in_leaf is set=100, min_child_samples=20 will be ignored. Current value: min_data_in_leaf=100\n",
      "[LightGBM] [Warning] bagging_freq is set=1, subsample_freq=0 will be ignored. Current value: bagging_freq=1\n",
      "[LightGBM] [Warning] min_gain_to_split is set=11.5, min_split_gain=0.0 will be ignored. Current value: min_gain_to_split=11.5\n",
      "[LightGBM] [Warning] lambda_l2 is set=45, reg_lambda=0.0 will be ignored. Current value: lambda_l2=45\n",
      "Training until validation scores don't improve for 20 rounds\n"
     ]
    },
    {
     "name": "stderr",
     "output_type": "stream",
     "text": [
      "[I 2023-09-10 06:32:07,534] Trial 177 finished with value: 0.6932877111240536 and parameters: {'n_estimators': 100, 'learning_rate': 0.1, 'num_leaves': 480, 'max_depth': 12, 'min_data_in_leaf': 100, 'lambda_l1': 10, 'lambda_l2': 50, 'min_gain_to_split': 11.9, 'bagging_fraction': 1.0, 'bagging_freq': 1, 'feature_fraction': 0.9}. Best is trial 21 with value: 0.8300815375655213.\n"
     ]
    },
    {
     "name": "stdout",
     "output_type": "stream",
     "text": [
      "Training until validation scores don't improve for 20 rounds\n",
      "Early stopping, best iteration is:\n",
      "[1]\tvalid_0's auc: 0.693288\tvalid_0's binary_logloss: 0.669764\n"
     ]
    },
    {
     "name": "stderr",
     "output_type": "stream",
     "text": [
      "[I 2023-09-10 06:32:07,787] Trial 178 pruned. Trial was pruned at iteration 0.\n"
     ]
    },
    {
     "name": "stdout",
     "output_type": "stream",
     "text": [
      "[LightGBM] [Warning] lambda_l1 is set=0, reg_alpha=0.0 will be ignored. Current value: lambda_l1=0\n",
      "[LightGBM] [Warning] bagging_fraction is set=0.4, subsample=1.0 will be ignored. Current value: bagging_fraction=0.4\n",
      "[LightGBM] [Warning] feature_fraction is set=0.5, colsample_bytree=1.0 will be ignored. Current value: feature_fraction=0.5\n",
      "[LightGBM] [Warning] min_data_in_leaf is set=100, min_child_samples=20 will be ignored. Current value: min_data_in_leaf=100\n",
      "[LightGBM] [Warning] bagging_freq is set=1, subsample_freq=0 will be ignored. Current value: bagging_freq=1\n",
      "[LightGBM] [Warning] min_gain_to_split is set=12.8, min_split_gain=0.0 will be ignored. Current value: min_gain_to_split=12.8\n",
      "[LightGBM] [Warning] lambda_l2 is set=50, reg_lambda=0.0 will be ignored. Current value: lambda_l2=50\n"
     ]
    },
    {
     "name": "stderr",
     "output_type": "stream",
     "text": [
      "[I 2023-09-10 06:32:08,068] Trial 179 pruned. Trial was pruned at iteration 29.\n"
     ]
    },
    {
     "name": "stdout",
     "output_type": "stream",
     "text": [
      "Training until validation scores don't improve for 20 rounds\n"
     ]
    },
    {
     "name": "stderr",
     "output_type": "stream",
     "text": [
      "[I 2023-09-10 06:32:08,334] Trial 180 pruned. Trial was pruned at iteration 21.\n"
     ]
    },
    {
     "name": "stdout",
     "output_type": "stream",
     "text": [
      "Training until validation scores don't improve for 20 rounds\n"
     ]
    },
    {
     "name": "stderr",
     "output_type": "stream",
     "text": [
      "[I 2023-09-10 06:32:08,628] Trial 181 finished with value: 0.6932877111240536 and parameters: {'n_estimators': 100, 'learning_rate': 0.2, 'num_leaves': 540, 'max_depth': 12, 'min_data_in_leaf': 100, 'lambda_l1': 10, 'lambda_l2': 45, 'min_gain_to_split': 13.200000000000001, 'bagging_fraction': 1.0, 'bagging_freq': 1, 'feature_fraction': 0.9}. Best is trial 21 with value: 0.8300815375655213.\n"
     ]
    },
    {
     "name": "stdout",
     "output_type": "stream",
     "text": [
      "Training until validation scores don't improve for 20 rounds\n",
      "Early stopping, best iteration is:\n",
      "[1]\tvalid_0's auc: 0.693288\tvalid_0's binary_logloss: 0.663577\n"
     ]
    },
    {
     "name": "stderr",
     "output_type": "stream",
     "text": [
      "[I 2023-09-10 06:32:08,940] Trial 182 finished with value: 0.6932877111240536 and parameters: {'n_estimators': 100, 'learning_rate': 0.2, 'num_leaves': 520, 'max_depth': 12, 'min_data_in_leaf': 100, 'lambda_l1': 10, 'lambda_l2': 45, 'min_gain_to_split': 13.8, 'bagging_fraction': 1.0, 'bagging_freq': 1, 'feature_fraction': 0.9}. Best is trial 21 with value: 0.8300815375655213.\n"
     ]
    },
    {
     "name": "stdout",
     "output_type": "stream",
     "text": [
      "[LightGBM] [Warning] lambda_l1 is set=10, reg_alpha=0.0 will be ignored. Current value: lambda_l1=10\n",
      "[LightGBM] [Warning] bagging_fraction is set=1.0, subsample=1.0 will be ignored. Current value: bagging_fraction=1.0\n",
      "[LightGBM] [Warning] feature_fraction is set=0.9, colsample_bytree=1.0 will be ignored. Current value: feature_fraction=0.9\n",
      "[LightGBM] [Warning] min_data_in_leaf is set=100, min_child_samples=20 will be ignored. Current value: min_data_in_leaf=100\n",
      "[LightGBM] [Warning] bagging_freq is set=1, subsample_freq=0 will be ignored. Current value: bagging_freq=1\n",
      "[LightGBM] [Warning] min_gain_to_split is set=13.8, min_split_gain=0.0 will be ignored. Current value: min_gain_to_split=13.8\n",
      "[LightGBM] [Warning] lambda_l2 is set=45, reg_lambda=0.0 will be ignored. Current value: lambda_l2=45\n",
      "Training until validation scores don't improve for 20 rounds\n",
      "Early stopping, best iteration is:\n",
      "[1]\tvalid_0's auc: 0.693288\tvalid_0's binary_logloss: 0.663577\n"
     ]
    },
    {
     "name": "stderr",
     "output_type": "stream",
     "text": [
      "[I 2023-09-10 06:32:09,199] Trial 183 pruned. Trial was pruned at iteration 21.\n"
     ]
    },
    {
     "name": "stdout",
     "output_type": "stream",
     "text": [
      "[LightGBM] [Warning] lambda_l1 is set=10, reg_alpha=0.0 will be ignored. Current value: lambda_l1=10\n",
      "[LightGBM] [Warning] bagging_fraction is set=1.0, subsample=1.0 will be ignored. Current value: bagging_fraction=1.0\n",
      "[LightGBM] [Warning] feature_fraction is set=0.9, colsample_bytree=1.0 will be ignored. Current value: feature_fraction=0.9\n",
      "[LightGBM] [Warning] min_data_in_leaf is set=100, min_child_samples=20 will be ignored. Current value: min_data_in_leaf=100\n",
      "[LightGBM] [Warning] bagging_freq is set=1, subsample_freq=0 will be ignored. Current value: bagging_freq=1\n",
      "[LightGBM] [Warning] min_gain_to_split is set=12.200000000000001, min_split_gain=0.0 will be ignored. Current value: min_gain_to_split=12.200000000000001\n",
      "[LightGBM] [Warning] lambda_l2 is set=50, reg_lambda=0.0 will be ignored. Current value: lambda_l2=50\n",
      "Training until validation scores don't improve for 20 rounds\n"
     ]
    },
    {
     "name": "stderr",
     "output_type": "stream",
     "text": [
      "[I 2023-09-10 06:32:09,487] Trial 184 finished with value: 0.6932877111240536 and parameters: {'n_estimators': 100, 'learning_rate': 0.2, 'num_leaves': 600, 'max_depth': 12, 'min_data_in_leaf': 100, 'lambda_l1': 5, 'lambda_l2': 50, 'min_gain_to_split': 13.0, 'bagging_fraction': 1.0, 'bagging_freq': 1, 'feature_fraction': 0.9}. Best is trial 21 with value: 0.8300815375655213.\n"
     ]
    },
    {
     "name": "stdout",
     "output_type": "stream",
     "text": [
      "Training until validation scores don't improve for 20 rounds\n",
      "Early stopping, best iteration is:\n",
      "[1]\tvalid_0's auc: 0.693288\tvalid_0's binary_logloss: 0.663118\n"
     ]
    },
    {
     "name": "stderr",
     "output_type": "stream",
     "text": [
      "[I 2023-09-10 06:32:09,773] Trial 185 pruned. Trial was pruned at iteration 21.\n"
     ]
    },
    {
     "name": "stdout",
     "output_type": "stream",
     "text": [
      "[LightGBM] [Warning] lambda_l1 is set=0, reg_alpha=0.0 will be ignored. Current value: lambda_l1=0\n",
      "[LightGBM] [Warning] bagging_fraction is set=1.0, subsample=1.0 will be ignored. Current value: bagging_fraction=1.0\n",
      "[LightGBM] [Warning] feature_fraction is set=0.9, colsample_bytree=1.0 will be ignored. Current value: feature_fraction=0.9\n",
      "[LightGBM] [Warning] min_data_in_leaf is set=100, min_child_samples=20 will be ignored. Current value: min_data_in_leaf=100\n",
      "[LightGBM] [Warning] bagging_freq is set=1, subsample_freq=0 will be ignored. Current value: bagging_freq=1\n",
      "[LightGBM] [Warning] min_gain_to_split is set=11.8, min_split_gain=0.0 will be ignored. Current value: min_gain_to_split=11.8\n",
      "[LightGBM] [Warning] lambda_l2 is set=40, reg_lambda=0.0 will be ignored. Current value: lambda_l2=40\n",
      "Training until validation scores don't improve for 20 rounds\n"
     ]
    },
    {
     "name": "stderr",
     "output_type": "stream",
     "text": [
      "[I 2023-09-10 06:32:10,058] Trial 186 finished with value: 0.6932877111240536 and parameters: {'n_estimators': 100, 'learning_rate': 0.5, 'num_leaves': 480, 'max_depth': 12, 'min_data_in_leaf': 100, 'lambda_l1': 5, 'lambda_l2': 45, 'min_gain_to_split': 12.600000000000001, 'bagging_fraction': 1.0, 'bagging_freq': 1, 'feature_fraction': 0.9}. Best is trial 21 with value: 0.8300815375655213.\n"
     ]
    },
    {
     "name": "stdout",
     "output_type": "stream",
     "text": [
      "Training until validation scores don't improve for 20 rounds\n",
      "Early stopping, best iteration is:\n",
      "[1]\tvalid_0's auc: 0.693288\tvalid_0's binary_logloss: 0.645874\n"
     ]
    },
    {
     "name": "stderr",
     "output_type": "stream",
     "text": [
      "[I 2023-09-10 06:32:10,342] Trial 187 finished with value: 0.6932877111240536 and parameters: {'n_estimators': 100, 'learning_rate': 0.2, 'num_leaves': 540, 'max_depth': 12, 'min_data_in_leaf': 100, 'lambda_l1': 10, 'lambda_l2': 50, 'min_gain_to_split': 13.700000000000001, 'bagging_fraction': 1.0, 'bagging_freq': 1, 'feature_fraction': 0.9}. Best is trial 21 with value: 0.8300815375655213.\n"
     ]
    },
    {
     "name": "stdout",
     "output_type": "stream",
     "text": [
      "[LightGBM] [Warning] lambda_l1 is set=10, reg_alpha=0.0 will be ignored. Current value: lambda_l1=10\n",
      "[LightGBM] [Warning] bagging_fraction is set=1.0, subsample=1.0 will be ignored. Current value: bagging_fraction=1.0\n",
      "[LightGBM] [Warning] feature_fraction is set=0.9, colsample_bytree=1.0 will be ignored. Current value: feature_fraction=0.9\n",
      "[LightGBM] [Warning] min_data_in_leaf is set=100, min_child_samples=20 will be ignored. Current value: min_data_in_leaf=100\n",
      "[LightGBM] [Warning] bagging_freq is set=1, subsample_freq=0 will be ignored. Current value: bagging_freq=1\n",
      "[LightGBM] [Warning] min_gain_to_split is set=13.700000000000001, min_split_gain=0.0 will be ignored. Current value: min_gain_to_split=13.700000000000001\n",
      "[LightGBM] [Warning] lambda_l2 is set=50, reg_lambda=0.0 will be ignored. Current value: lambda_l2=50\n",
      "Training until validation scores don't improve for 20 rounds\n",
      "Early stopping, best iteration is:\n",
      "[1]\tvalid_0's auc: 0.693288\tvalid_0's binary_logloss: 0.66405\n"
     ]
    },
    {
     "name": "stderr",
     "output_type": "stream",
     "text": [
      "[I 2023-09-10 06:32:10,621] Trial 188 finished with value: 0.6932877111240536 and parameters: {'n_estimators': 100, 'learning_rate': 0.5, 'num_leaves': 480, 'max_depth': 12, 'min_data_in_leaf': 100, 'lambda_l1': 10, 'lambda_l2': 45, 'min_gain_to_split': 11.3, 'bagging_fraction': 1.0, 'bagging_freq': 1, 'feature_fraction': 0.9}. Best is trial 21 with value: 0.8300815375655213.\n"
     ]
    },
    {
     "name": "stdout",
     "output_type": "stream",
     "text": [
      "[LightGBM] [Warning] lambda_l1 is set=10, reg_alpha=0.0 will be ignored. Current value: lambda_l1=10\n",
      "[LightGBM] [Warning] bagging_fraction is set=1.0, subsample=1.0 will be ignored. Current value: bagging_fraction=1.0\n",
      "[LightGBM] [Warning] feature_fraction is set=0.9, colsample_bytree=1.0 will be ignored. Current value: feature_fraction=0.9\n",
      "[LightGBM] [Warning] min_data_in_leaf is set=100, min_child_samples=20 will be ignored. Current value: min_data_in_leaf=100\n",
      "[LightGBM] [Warning] bagging_freq is set=1, subsample_freq=0 will be ignored. Current value: bagging_freq=1\n",
      "[LightGBM] [Warning] min_gain_to_split is set=11.3, min_split_gain=0.0 will be ignored. Current value: min_gain_to_split=11.3\n",
      "[LightGBM] [Warning] lambda_l2 is set=45, reg_lambda=0.0 will be ignored. Current value: lambda_l2=45\n",
      "Training until validation scores don't improve for 20 rounds\n",
      "Early stopping, best iteration is:\n",
      "[1]\tvalid_0's auc: 0.693288\tvalid_0's binary_logloss: 0.647859\n"
     ]
    },
    {
     "name": "stderr",
     "output_type": "stream",
     "text": [
      "[I 2023-09-10 06:32:10,882] Trial 189 pruned. Trial was pruned at iteration 21.\n"
     ]
    },
    {
     "name": "stdout",
     "output_type": "stream",
     "text": [
      "[LightGBM] [Warning] lambda_l1 is set=5, reg_alpha=0.0 will be ignored. Current value: lambda_l1=5\n",
      "[LightGBM] [Warning] bagging_fraction is set=1.0, subsample=1.0 will be ignored. Current value: bagging_fraction=1.0\n",
      "[LightGBM] [Warning] feature_fraction is set=0.9, colsample_bytree=1.0 will be ignored. Current value: feature_fraction=0.9\n",
      "[LightGBM] [Warning] min_data_in_leaf is set=100, min_child_samples=20 will be ignored. Current value: min_data_in_leaf=100\n",
      "[LightGBM] [Warning] bagging_freq is set=1, subsample_freq=0 will be ignored. Current value: bagging_freq=1\n",
      "[LightGBM] [Warning] min_gain_to_split is set=12.4, min_split_gain=0.0 will be ignored. Current value: min_gain_to_split=12.4\n",
      "[LightGBM] [Warning] lambda_l2 is set=50, reg_lambda=0.0 will be ignored. Current value: lambda_l2=50\n",
      "Training until validation scores don't improve for 20 rounds\n"
     ]
    },
    {
     "name": "stderr",
     "output_type": "stream",
     "text": [
      "[I 2023-09-10 06:32:11,150] Trial 190 pruned. Trial was pruned at iteration 21.\n"
     ]
    },
    {
     "name": "stdout",
     "output_type": "stream",
     "text": [
      "Training until validation scores don't improve for 20 rounds\n"
     ]
    },
    {
     "name": "stderr",
     "output_type": "stream",
     "text": [
      "[I 2023-09-10 06:32:11,483] Trial 191 finished with value: 0.6932877111240536 and parameters: {'n_estimators': 600, 'learning_rate': 0.2, 'num_leaves': 440, 'max_depth': 12, 'min_data_in_leaf': 100, 'lambda_l1': 5, 'lambda_l2': 45, 'min_gain_to_split': 12.9, 'bagging_fraction': 1.0, 'bagging_freq': 1, 'feature_fraction': 0.9}. Best is trial 21 with value: 0.8300815375655213.\n"
     ]
    },
    {
     "name": "stdout",
     "output_type": "stream",
     "text": [
      "Training until validation scores don't improve for 20 rounds\n",
      "Early stopping, best iteration is:\n",
      "[1]\tvalid_0's auc: 0.693288\tvalid_0's binary_logloss: 0.662608\n"
     ]
    },
    {
     "name": "stderr",
     "output_type": "stream",
     "text": [
      "[I 2023-09-10 06:32:11,793] Trial 192 finished with value: 0.6932877111240536 and parameters: {'n_estimators': 600, 'learning_rate': 0.2, 'num_leaves': 460, 'max_depth': 12, 'min_data_in_leaf': 100, 'lambda_l1': 10, 'lambda_l2': 45, 'min_gain_to_split': 14.4, 'bagging_fraction': 1.0, 'bagging_freq': 1, 'feature_fraction': 0.9}. Best is trial 21 with value: 0.8300815375655213.\n"
     ]
    },
    {
     "name": "stdout",
     "output_type": "stream",
     "text": [
      "[LightGBM] [Warning] lambda_l1 is set=10, reg_alpha=0.0 will be ignored. Current value: lambda_l1=10\n",
      "[LightGBM] [Warning] bagging_fraction is set=1.0, subsample=1.0 will be ignored. Current value: bagging_fraction=1.0\n",
      "[LightGBM] [Warning] feature_fraction is set=0.9, colsample_bytree=1.0 will be ignored. Current value: feature_fraction=0.9\n",
      "[LightGBM] [Warning] min_data_in_leaf is set=100, min_child_samples=20 will be ignored. Current value: min_data_in_leaf=100\n",
      "[LightGBM] [Warning] bagging_freq is set=1, subsample_freq=0 will be ignored. Current value: bagging_freq=1\n",
      "[LightGBM] [Warning] min_gain_to_split is set=14.4, min_split_gain=0.0 will be ignored. Current value: min_gain_to_split=14.4\n",
      "[LightGBM] [Warning] lambda_l2 is set=45, reg_lambda=0.0 will be ignored. Current value: lambda_l2=45\n",
      "Training until validation scores don't improve for 20 rounds\n",
      "Early stopping, best iteration is:\n",
      "[1]\tvalid_0's auc: 0.693288\tvalid_0's binary_logloss: 0.663577\n"
     ]
    },
    {
     "name": "stderr",
     "output_type": "stream",
     "text": [
      "[I 2023-09-10 06:32:12,057] Trial 193 pruned. Trial was pruned at iteration 21.\n"
     ]
    },
    {
     "name": "stdout",
     "output_type": "stream",
     "text": [
      "[LightGBM] [Warning] lambda_l1 is set=5, reg_alpha=0.0 will be ignored. Current value: lambda_l1=5\n",
      "[LightGBM] [Warning] bagging_fraction is set=1.0, subsample=1.0 will be ignored. Current value: bagging_fraction=1.0\n",
      "[LightGBM] [Warning] feature_fraction is set=0.9, colsample_bytree=1.0 will be ignored. Current value: feature_fraction=0.9\n",
      "[LightGBM] [Warning] min_data_in_leaf is set=100, min_child_samples=20 will be ignored. Current value: min_data_in_leaf=100\n",
      "[LightGBM] [Warning] bagging_freq is set=1, subsample_freq=0 will be ignored. Current value: bagging_freq=1\n",
      "[LightGBM] [Warning] min_gain_to_split is set=12.0, min_split_gain=0.0 will be ignored. Current value: min_gain_to_split=12.0\n",
      "[LightGBM] [Warning] lambda_l2 is set=40, reg_lambda=0.0 will be ignored. Current value: lambda_l2=40\n",
      "Training until validation scores don't improve for 20 rounds\n"
     ]
    },
    {
     "name": "stderr",
     "output_type": "stream",
     "text": [
      "[I 2023-09-10 06:32:12,333] Trial 194 pruned. Trial was pruned at iteration 0.\n",
      "[I 2023-09-10 06:32:12,654] Trial 195 pruned. Trial was pruned at iteration 21.\n"
     ]
    },
    {
     "name": "stdout",
     "output_type": "stream",
     "text": [
      "Training until validation scores don't improve for 20 rounds\n"
     ]
    },
    {
     "name": "stderr",
     "output_type": "stream",
     "text": [
      "[I 2023-09-10 06:32:12,987] Trial 196 finished with value: 0.6932877111240536 and parameters: {'n_estimators': 700, 'learning_rate': 0.5, 'num_leaves': 400, 'max_depth': 11, 'min_data_in_leaf': 100, 'lambda_l1': 10, 'lambda_l2': 50, 'min_gain_to_split': 14.700000000000001, 'bagging_fraction': 1.0, 'bagging_freq': 1, 'feature_fraction': 0.9}. Best is trial 21 with value: 0.8300815375655213.\n"
     ]
    },
    {
     "name": "stdout",
     "output_type": "stream",
     "text": [
      "Training until validation scores don't improve for 20 rounds\n",
      "Early stopping, best iteration is:\n",
      "[1]\tvalid_0's auc: 0.693288\tvalid_0's binary_logloss: 0.64884\n"
     ]
    },
    {
     "name": "stderr",
     "output_type": "stream",
     "text": [
      "[I 2023-09-10 06:32:13,309] Trial 197 finished with value: 0.6932877111240536 and parameters: {'n_estimators': 100, 'learning_rate': 0.15000000000000002, 'num_leaves': 500, 'max_depth': 12, 'min_data_in_leaf': 100, 'lambda_l1': 5, 'lambda_l2': 50, 'min_gain_to_split': 12.8, 'bagging_fraction': 1.0, 'bagging_freq': 1, 'feature_fraction': 0.9}. Best is trial 21 with value: 0.8300815375655213.\n"
     ]
    },
    {
     "name": "stdout",
     "output_type": "stream",
     "text": [
      "[LightGBM] [Warning] lambda_l1 is set=5, reg_alpha=0.0 will be ignored. Current value: lambda_l1=5\n",
      "[LightGBM] [Warning] bagging_fraction is set=1.0, subsample=1.0 will be ignored. Current value: bagging_fraction=1.0\n",
      "[LightGBM] [Warning] feature_fraction is set=0.9, colsample_bytree=1.0 will be ignored. Current value: feature_fraction=0.9\n",
      "[LightGBM] [Warning] min_data_in_leaf is set=100, min_child_samples=20 will be ignored. Current value: min_data_in_leaf=100\n",
      "[LightGBM] [Warning] bagging_freq is set=1, subsample_freq=0 will be ignored. Current value: bagging_freq=1\n",
      "[LightGBM] [Warning] min_gain_to_split is set=12.8, min_split_gain=0.0 will be ignored. Current value: min_gain_to_split=12.8\n",
      "[LightGBM] [Warning] lambda_l2 is set=50, reg_lambda=0.0 will be ignored. Current value: lambda_l2=50\n",
      "Training until validation scores don't improve for 20 rounds\n",
      "Early stopping, best iteration is:\n",
      "[1]\tvalid_0's auc: 0.693288\tvalid_0's binary_logloss: 0.666148\n"
     ]
    },
    {
     "name": "stderr",
     "output_type": "stream",
     "text": [
      "[I 2023-09-10 06:32:13,627] Trial 198 finished with value: 0.6932877111240536 and parameters: {'n_estimators': 100, 'learning_rate': 0.2, 'num_leaves': 520, 'max_depth': 12, 'min_data_in_leaf': 100, 'lambda_l1': 10, 'lambda_l2': 45, 'min_gain_to_split': 12.3, 'bagging_fraction': 1.0, 'bagging_freq': 1, 'feature_fraction': 0.9}. Best is trial 21 with value: 0.8300815375655213.\n"
     ]
    },
    {
     "name": "stdout",
     "output_type": "stream",
     "text": [
      "[LightGBM] [Warning] lambda_l1 is set=10, reg_alpha=0.0 will be ignored. Current value: lambda_l1=10\n",
      "[LightGBM] [Warning] bagging_fraction is set=1.0, subsample=1.0 will be ignored. Current value: bagging_fraction=1.0\n",
      "[LightGBM] [Warning] feature_fraction is set=0.9, colsample_bytree=1.0 will be ignored. Current value: feature_fraction=0.9\n",
      "[LightGBM] [Warning] min_data_in_leaf is set=100, min_child_samples=20 will be ignored. Current value: min_data_in_leaf=100\n",
      "[LightGBM] [Warning] bagging_freq is set=1, subsample_freq=0 will be ignored. Current value: bagging_freq=1\n",
      "[LightGBM] [Warning] min_gain_to_split is set=12.3, min_split_gain=0.0 will be ignored. Current value: min_gain_to_split=12.3\n",
      "[LightGBM] [Warning] lambda_l2 is set=45, reg_lambda=0.0 will be ignored. Current value: lambda_l2=45\n",
      "Training until validation scores don't improve for 20 rounds\n",
      "Early stopping, best iteration is:\n",
      "[1]\tvalid_0's auc: 0.693288\tvalid_0's binary_logloss: 0.663577\n"
     ]
    },
    {
     "name": "stderr",
     "output_type": "stream",
     "text": [
      "[I 2023-09-10 06:32:13,909] Trial 199 finished with value: 0.6932877111240536 and parameters: {'n_estimators': 100, 'learning_rate': 0.5, 'num_leaves': 540, 'max_depth': 11, 'min_data_in_leaf': 100, 'lambda_l1': 15, 'lambda_l2': 35, 'min_gain_to_split': 11.5, 'bagging_fraction': 1.0, 'bagging_freq': 1, 'feature_fraction': 0.9}. Best is trial 21 with value: 0.8300815375655213.\n"
     ]
    },
    {
     "name": "stdout",
     "output_type": "stream",
     "text": [
      "[LightGBM] [Warning] lambda_l1 is set=15, reg_alpha=0.0 will be ignored. Current value: lambda_l1=15\n",
      "[LightGBM] [Warning] bagging_fraction is set=1.0, subsample=1.0 will be ignored. Current value: bagging_fraction=1.0\n",
      "[LightGBM] [Warning] feature_fraction is set=0.9, colsample_bytree=1.0 will be ignored. Current value: feature_fraction=0.9\n",
      "[LightGBM] [Warning] min_data_in_leaf is set=100, min_child_samples=20 will be ignored. Current value: min_data_in_leaf=100\n",
      "[LightGBM] [Warning] bagging_freq is set=1, subsample_freq=0 will be ignored. Current value: bagging_freq=1\n",
      "[LightGBM] [Warning] min_gain_to_split is set=11.5, min_split_gain=0.0 will be ignored. Current value: min_gain_to_split=11.5\n",
      "[LightGBM] [Warning] lambda_l2 is set=35, reg_lambda=0.0 will be ignored. Current value: lambda_l2=35\n",
      "Training until validation scores don't improve for 20 rounds\n",
      "Early stopping, best iteration is:\n",
      "[1]\tvalid_0's auc: 0.693288\tvalid_0's binary_logloss: 0.647854\n"
     ]
    },
    {
     "name": "stderr",
     "output_type": "stream",
     "text": [
      "[I 2023-09-10 06:32:14,301] Trial 200 pruned. Trial was pruned at iteration 29.\n"
     ]
    },
    {
     "name": "stdout",
     "output_type": "stream",
     "text": [
      "[LightGBM] [Warning] lambda_l1 is set=0, reg_alpha=0.0 will be ignored. Current value: lambda_l1=0\n",
      "[LightGBM] [Warning] bagging_fraction is set=1.0, subsample=1.0 will be ignored. Current value: bagging_fraction=1.0\n",
      "[LightGBM] [Warning] feature_fraction is set=0.9, colsample_bytree=1.0 will be ignored. Current value: feature_fraction=0.9\n",
      "[LightGBM] [Warning] min_data_in_leaf is set=100, min_child_samples=20 will be ignored. Current value: min_data_in_leaf=100\n",
      "[LightGBM] [Warning] bagging_freq is set=1, subsample_freq=0 will be ignored. Current value: bagging_freq=1\n",
      "[LightGBM] [Warning] min_gain_to_split is set=2.9000000000000004, min_split_gain=0.0 will be ignored. Current value: min_gain_to_split=2.9000000000000004\n",
      "[LightGBM] [Warning] lambda_l2 is set=55, reg_lambda=0.0 will be ignored. Current value: lambda_l2=55\n",
      "Training until validation scores don't improve for 20 rounds\n"
     ]
    },
    {
     "name": "stderr",
     "output_type": "stream",
     "text": [
      "[I 2023-09-10 06:32:14,625] Trial 201 finished with value: 0.6932877111240536 and parameters: {'n_estimators': 100, 'learning_rate': 0.2, 'num_leaves': 520, 'max_depth': 12, 'min_data_in_leaf': 100, 'lambda_l1': 5, 'lambda_l2': 45, 'min_gain_to_split': 13.4, 'bagging_fraction': 1.0, 'bagging_freq': 1, 'feature_fraction': 0.8}. Best is trial 21 with value: 0.8300815375655213.\n"
     ]
    },
    {
     "name": "stdout",
     "output_type": "stream",
     "text": [
      "Training until validation scores don't improve for 20 rounds\n",
      "Early stopping, best iteration is:\n",
      "[1]\tvalid_0's auc: 0.693288\tvalid_0's binary_logloss: 0.662608\n"
     ]
    },
    {
     "name": "stderr",
     "output_type": "stream",
     "text": [
      "[I 2023-09-10 06:32:14,943] Trial 202 finished with value: 0.6932877111240536 and parameters: {'n_estimators': 700, 'learning_rate': 0.2, 'num_leaves': 560, 'max_depth': 12, 'min_data_in_leaf': 100, 'lambda_l1': 10, 'lambda_l2': 45, 'min_gain_to_split': 13.200000000000001, 'bagging_fraction': 1.0, 'bagging_freq': 1, 'feature_fraction': 0.8}. Best is trial 21 with value: 0.8300815375655213.\n"
     ]
    },
    {
     "name": "stdout",
     "output_type": "stream",
     "text": [
      "[LightGBM] [Warning] lambda_l1 is set=10, reg_alpha=0.0 will be ignored. Current value: lambda_l1=10\n",
      "[LightGBM] [Warning] bagging_fraction is set=1.0, subsample=1.0 will be ignored. Current value: bagging_fraction=1.0\n",
      "[LightGBM] [Warning] feature_fraction is set=0.8, colsample_bytree=1.0 will be ignored. Current value: feature_fraction=0.8\n",
      "[LightGBM] [Warning] min_data_in_leaf is set=100, min_child_samples=20 will be ignored. Current value: min_data_in_leaf=100\n",
      "[LightGBM] [Warning] bagging_freq is set=1, subsample_freq=0 will be ignored. Current value: bagging_freq=1\n",
      "[LightGBM] [Warning] min_gain_to_split is set=13.200000000000001, min_split_gain=0.0 will be ignored. Current value: min_gain_to_split=13.200000000000001\n",
      "[LightGBM] [Warning] lambda_l2 is set=45, reg_lambda=0.0 will be ignored. Current value: lambda_l2=45\n",
      "Training until validation scores don't improve for 20 rounds\n",
      "Early stopping, best iteration is:\n",
      "[1]\tvalid_0's auc: 0.693288\tvalid_0's binary_logloss: 0.663577\n"
     ]
    },
    {
     "name": "stderr",
     "output_type": "stream",
     "text": [
      "[I 2023-09-10 06:32:15,263] Trial 203 pruned. Trial was pruned at iteration 29.\n"
     ]
    },
    {
     "name": "stdout",
     "output_type": "stream",
     "text": [
      "[LightGBM] [Warning] lambda_l1 is set=5, reg_alpha=0.0 will be ignored. Current value: lambda_l1=5\n",
      "[LightGBM] [Warning] bagging_fraction is set=1.0, subsample=1.0 will be ignored. Current value: bagging_fraction=1.0\n",
      "[LightGBM] [Warning] feature_fraction is set=0.9, colsample_bytree=1.0 will be ignored. Current value: feature_fraction=0.9\n",
      "[LightGBM] [Warning] min_data_in_leaf is set=100, min_child_samples=20 will be ignored. Current value: min_data_in_leaf=100\n",
      "[LightGBM] [Warning] bagging_freq is set=1, subsample_freq=0 will be ignored. Current value: bagging_freq=1\n",
      "[LightGBM] [Warning] min_gain_to_split is set=4.4, min_split_gain=0.0 will be ignored. Current value: min_gain_to_split=4.4\n",
      "[LightGBM] [Warning] lambda_l2 is set=40, reg_lambda=0.0 will be ignored. Current value: lambda_l2=40\n",
      "Training until validation scores don't improve for 20 rounds\n"
     ]
    },
    {
     "name": "stderr",
     "output_type": "stream",
     "text": [
      "[I 2023-09-10 06:32:15,554] Trial 204 finished with value: 0.6932877111240536 and parameters: {'n_estimators': 1000, 'learning_rate': 0.2, 'num_leaves': 500, 'max_depth': 12, 'min_data_in_leaf': 100, 'lambda_l1': 5, 'lambda_l2': 45, 'min_gain_to_split': 13.600000000000001, 'bagging_fraction': 1.0, 'bagging_freq': 1, 'feature_fraction': 0.9}. Best is trial 21 with value: 0.8300815375655213.\n"
     ]
    },
    {
     "name": "stdout",
     "output_type": "stream",
     "text": [
      "Training until validation scores don't improve for 20 rounds\n",
      "Early stopping, best iteration is:\n",
      "[1]\tvalid_0's auc: 0.693288\tvalid_0's binary_logloss: 0.662608\n"
     ]
    },
    {
     "name": "stderr",
     "output_type": "stream",
     "text": [
      "[I 2023-09-10 06:32:15,840] Trial 205 finished with value: 0.6932877111240536 and parameters: {'n_estimators': 100, 'learning_rate': 0.5, 'num_leaves': 540, 'max_depth': 5, 'min_data_in_leaf': 100, 'lambda_l1': 10, 'lambda_l2': 50, 'min_gain_to_split': 12.600000000000001, 'bagging_fraction': 1.0, 'bagging_freq': 1, 'feature_fraction': 0.9}. Best is trial 21 with value: 0.8300815375655213.\n"
     ]
    },
    {
     "name": "stdout",
     "output_type": "stream",
     "text": [
      "[LightGBM] [Warning] lambda_l1 is set=10, reg_alpha=0.0 will be ignored. Current value: lambda_l1=10\n",
      "[LightGBM] [Warning] bagging_fraction is set=1.0, subsample=1.0 will be ignored. Current value: bagging_fraction=1.0\n",
      "[LightGBM] [Warning] feature_fraction is set=0.9, colsample_bytree=1.0 will be ignored. Current value: feature_fraction=0.9\n",
      "[LightGBM] [Warning] min_data_in_leaf is set=100, min_child_samples=20 will be ignored. Current value: min_data_in_leaf=100\n",
      "[LightGBM] [Warning] bagging_freq is set=1, subsample_freq=0 will be ignored. Current value: bagging_freq=1\n",
      "[LightGBM] [Warning] min_gain_to_split is set=12.600000000000001, min_split_gain=0.0 will be ignored. Current value: min_gain_to_split=12.600000000000001\n",
      "[LightGBM] [Warning] lambda_l2 is set=50, reg_lambda=0.0 will be ignored. Current value: lambda_l2=50\n",
      "Training until validation scores don't improve for 20 rounds\n",
      "Early stopping, best iteration is:\n",
      "[1]\tvalid_0's auc: 0.693288\tvalid_0's binary_logloss: 0.64884\n"
     ]
    },
    {
     "name": "stderr",
     "output_type": "stream",
     "text": [
      "[I 2023-09-10 06:32:16,107] Trial 206 pruned. Trial was pruned at iteration 21.\n"
     ]
    },
    {
     "name": "stdout",
     "output_type": "stream",
     "text": [
      "[LightGBM] [Warning] lambda_l1 is set=5, reg_alpha=0.0 will be ignored. Current value: lambda_l1=5\n",
      "[LightGBM] [Warning] bagging_fraction is set=1.0, subsample=1.0 will be ignored. Current value: bagging_fraction=1.0\n",
      "[LightGBM] [Warning] feature_fraction is set=0.9, colsample_bytree=1.0 will be ignored. Current value: feature_fraction=0.9\n",
      "[LightGBM] [Warning] min_data_in_leaf is set=100, min_child_samples=20 will be ignored. Current value: min_data_in_leaf=100\n",
      "[LightGBM] [Warning] bagging_freq is set=1, subsample_freq=0 will be ignored. Current value: bagging_freq=1\n",
      "[LightGBM] [Warning] min_gain_to_split is set=13.0, min_split_gain=0.0 will be ignored. Current value: min_gain_to_split=13.0\n",
      "[LightGBM] [Warning] lambda_l2 is set=40, reg_lambda=0.0 will be ignored. Current value: lambda_l2=40\n",
      "Training until validation scores don't improve for 20 rounds\n"
     ]
    },
    {
     "name": "stderr",
     "output_type": "stream",
     "text": [
      "[I 2023-09-10 06:32:16,431] Trial 207 pruned. Trial was pruned at iteration 21.\n"
     ]
    },
    {
     "name": "stdout",
     "output_type": "stream",
     "text": [
      "Training until validation scores don't improve for 20 rounds\n"
     ]
    },
    {
     "name": "stderr",
     "output_type": "stream",
     "text": [
      "[I 2023-09-10 06:32:16,708] Trial 208 pruned. Trial was pruned at iteration 0.\n",
      "[I 2023-09-10 06:32:17,003] Trial 209 pruned. Trial was pruned at iteration 21.\n"
     ]
    },
    {
     "name": "stdout",
     "output_type": "stream",
     "text": [
      "Training until validation scores don't improve for 20 rounds\n"
     ]
    },
    {
     "name": "stderr",
     "output_type": "stream",
     "text": [
      "[I 2023-09-10 06:32:17,291] Trial 210 finished with value: 0.6932877111240536 and parameters: {'n_estimators': 100, 'learning_rate': 0.2, 'num_leaves': 520, 'max_depth': 5, 'min_data_in_leaf': 100, 'lambda_l1': 5, 'lambda_l2': 55, 'min_gain_to_split': 12.100000000000001, 'bagging_fraction': 1.0, 'bagging_freq': 1, 'feature_fraction': 0.8}. Best is trial 21 with value: 0.8300815375655213.\n"
     ]
    },
    {
     "name": "stdout",
     "output_type": "stream",
     "text": [
      "Training until validation scores don't improve for 20 rounds\n",
      "Early stopping, best iteration is:\n",
      "[1]\tvalid_0's auc: 0.693288\tvalid_0's binary_logloss: 0.663589\n"
     ]
    },
    {
     "name": "stderr",
     "output_type": "stream",
     "text": [
      "[I 2023-09-10 06:32:17,593] Trial 211 finished with value: 0.6932877111240536 and parameters: {'n_estimators': 100, 'learning_rate': 0.2, 'num_leaves': 560, 'max_depth': 12, 'min_data_in_leaf': 100, 'lambda_l1': 10, 'lambda_l2': 45, 'min_gain_to_split': 13.4, 'bagging_fraction': 1.0, 'bagging_freq': 1, 'feature_fraction': 0.9}. Best is trial 21 with value: 0.8300815375655213.\n"
     ]
    },
    {
     "name": "stdout",
     "output_type": "stream",
     "text": [
      "[LightGBM] [Warning] lambda_l1 is set=10, reg_alpha=0.0 will be ignored. Current value: lambda_l1=10\n",
      "[LightGBM] [Warning] bagging_fraction is set=1.0, subsample=1.0 will be ignored. Current value: bagging_fraction=1.0\n",
      "[LightGBM] [Warning] feature_fraction is set=0.9, colsample_bytree=1.0 will be ignored. Current value: feature_fraction=0.9\n",
      "[LightGBM] [Warning] min_data_in_leaf is set=100, min_child_samples=20 will be ignored. Current value: min_data_in_leaf=100\n",
      "[LightGBM] [Warning] bagging_freq is set=1, subsample_freq=0 will be ignored. Current value: bagging_freq=1\n",
      "[LightGBM] [Warning] min_gain_to_split is set=13.4, min_split_gain=0.0 will be ignored. Current value: min_gain_to_split=13.4\n",
      "[LightGBM] [Warning] lambda_l2 is set=45, reg_lambda=0.0 will be ignored. Current value: lambda_l2=45\n",
      "Training until validation scores don't improve for 20 rounds\n",
      "Early stopping, best iteration is:\n",
      "[1]\tvalid_0's auc: 0.693288\tvalid_0's binary_logloss: 0.663577\n"
     ]
    },
    {
     "name": "stderr",
     "output_type": "stream",
     "text": [
      "[I 2023-09-10 06:32:17,911] Trial 212 finished with value: 0.6932877111240536 and parameters: {'n_estimators': 100, 'learning_rate': 0.2, 'num_leaves': 520, 'max_depth': 12, 'min_data_in_leaf': 100, 'lambda_l1': 10, 'lambda_l2': 45, 'min_gain_to_split': 13.5, 'bagging_fraction': 1.0, 'bagging_freq': 1, 'feature_fraction': 0.9}. Best is trial 21 with value: 0.8300815375655213.\n"
     ]
    },
    {
     "name": "stdout",
     "output_type": "stream",
     "text": [
      "[LightGBM] [Warning] lambda_l1 is set=10, reg_alpha=0.0 will be ignored. Current value: lambda_l1=10\n",
      "[LightGBM] [Warning] bagging_fraction is set=1.0, subsample=1.0 will be ignored. Current value: bagging_fraction=1.0\n",
      "[LightGBM] [Warning] feature_fraction is set=0.9, colsample_bytree=1.0 will be ignored. Current value: feature_fraction=0.9\n",
      "[LightGBM] [Warning] min_data_in_leaf is set=100, min_child_samples=20 will be ignored. Current value: min_data_in_leaf=100\n",
      "[LightGBM] [Warning] bagging_freq is set=1, subsample_freq=0 will be ignored. Current value: bagging_freq=1\n",
      "[LightGBM] [Warning] min_gain_to_split is set=13.5, min_split_gain=0.0 will be ignored. Current value: min_gain_to_split=13.5\n",
      "[LightGBM] [Warning] lambda_l2 is set=45, reg_lambda=0.0 will be ignored. Current value: lambda_l2=45\n",
      "Training until validation scores don't improve for 20 rounds\n",
      "Early stopping, best iteration is:\n",
      "[1]\tvalid_0's auc: 0.693288\tvalid_0's binary_logloss: 0.663577\n"
     ]
    },
    {
     "name": "stderr",
     "output_type": "stream",
     "text": [
      "[I 2023-09-10 06:32:18,227] Trial 213 finished with value: 0.6932877111240536 and parameters: {'n_estimators': 100, 'learning_rate': 0.2, 'num_leaves': 540, 'max_depth': 12, 'min_data_in_leaf': 100, 'lambda_l1': 10, 'lambda_l2': 45, 'min_gain_to_split': 14.0, 'bagging_fraction': 1.0, 'bagging_freq': 1, 'feature_fraction': 0.9}. Best is trial 21 with value: 0.8300815375655213.\n"
     ]
    },
    {
     "name": "stdout",
     "output_type": "stream",
     "text": [
      "[LightGBM] [Warning] lambda_l1 is set=10, reg_alpha=0.0 will be ignored. Current value: lambda_l1=10\n",
      "[LightGBM] [Warning] bagging_fraction is set=1.0, subsample=1.0 will be ignored. Current value: bagging_fraction=1.0\n",
      "[LightGBM] [Warning] feature_fraction is set=0.9, colsample_bytree=1.0 will be ignored. Current value: feature_fraction=0.9\n",
      "[LightGBM] [Warning] min_data_in_leaf is set=100, min_child_samples=20 will be ignored. Current value: min_data_in_leaf=100\n",
      "[LightGBM] [Warning] bagging_freq is set=1, subsample_freq=0 will be ignored. Current value: bagging_freq=1\n",
      "[LightGBM] [Warning] min_gain_to_split is set=14.0, min_split_gain=0.0 will be ignored. Current value: min_gain_to_split=14.0\n",
      "[LightGBM] [Warning] lambda_l2 is set=45, reg_lambda=0.0 will be ignored. Current value: lambda_l2=45\n",
      "Training until validation scores don't improve for 20 rounds\n",
      "Early stopping, best iteration is:\n",
      "[1]\tvalid_0's auc: 0.693288\tvalid_0's binary_logloss: 0.663577\n"
     ]
    },
    {
     "name": "stderr",
     "output_type": "stream",
     "text": [
      "[I 2023-09-10 06:32:18,511] Trial 214 pruned. Trial was pruned at iteration 0.\n"
     ]
    },
    {
     "name": "stdout",
     "output_type": "stream",
     "text": [
      "[LightGBM] [Warning] lambda_l1 is set=15, reg_alpha=0.0 will be ignored. Current value: lambda_l1=15\n",
      "[LightGBM] [Warning] bagging_fraction is set=1.0, subsample=1.0 will be ignored. Current value: bagging_fraction=1.0\n",
      "[LightGBM] [Warning] feature_fraction is set=0.9, colsample_bytree=1.0 will be ignored. Current value: feature_fraction=0.9\n",
      "[LightGBM] [Warning] min_data_in_leaf is set=100, min_child_samples=20 will be ignored. Current value: min_data_in_leaf=100\n",
      "[LightGBM] [Warning] bagging_freq is set=1, subsample_freq=0 will be ignored. Current value: bagging_freq=1\n",
      "[LightGBM] [Warning] min_gain_to_split is set=15.0, min_split_gain=0.0 will be ignored. Current value: min_gain_to_split=15.0\n",
      "[LightGBM] [Warning] lambda_l2 is set=40, reg_lambda=0.0 will be ignored. Current value: lambda_l2=40\n"
     ]
    },
    {
     "name": "stderr",
     "output_type": "stream",
     "text": [
      "[I 2023-09-10 06:32:18,818] Trial 215 pruned. Trial was pruned at iteration 21.\n"
     ]
    },
    {
     "name": "stdout",
     "output_type": "stream",
     "text": [
      "Training until validation scores don't improve for 20 rounds\n"
     ]
    },
    {
     "name": "stderr",
     "output_type": "stream",
     "text": [
      "[I 2023-09-10 06:32:19,115] Trial 216 pruned. Trial was pruned at iteration 21.\n"
     ]
    },
    {
     "name": "stdout",
     "output_type": "stream",
     "text": [
      "Training until validation scores don't improve for 20 rounds\n"
     ]
    },
    {
     "name": "stderr",
     "output_type": "stream",
     "text": [
      "[I 2023-09-10 06:32:19,402] Trial 217 finished with value: 0.6932877111240536 and parameters: {'n_estimators': 100, 'learning_rate': 0.2, 'num_leaves': 480, 'max_depth': 5, 'min_data_in_leaf': 100, 'lambda_l1': 5, 'lambda_l2': 45, 'min_gain_to_split': 12.9, 'bagging_fraction': 1.0, 'bagging_freq': 1, 'feature_fraction': 0.9}. Best is trial 21 with value: 0.8300815375655213.\n"
     ]
    },
    {
     "name": "stdout",
     "output_type": "stream",
     "text": [
      "Training until validation scores don't improve for 20 rounds\n",
      "Early stopping, best iteration is:\n",
      "[1]\tvalid_0's auc: 0.693288\tvalid_0's binary_logloss: 0.662608\n"
     ]
    },
    {
     "name": "stderr",
     "output_type": "stream",
     "text": [
      "[I 2023-09-10 06:32:19,727] Trial 218 finished with value: 0.6932877111240536 and parameters: {'n_estimators': 100, 'learning_rate': 0.5, 'num_leaves': 560, 'max_depth': 12, 'min_data_in_leaf': 100, 'lambda_l1': 5, 'lambda_l2': 45, 'min_gain_to_split': 13.700000000000001, 'bagging_fraction': 1.0, 'bagging_freq': 1, 'feature_fraction': 0.7}. Best is trial 21 with value: 0.8300815375655213.\n"
     ]
    },
    {
     "name": "stdout",
     "output_type": "stream",
     "text": [
      "[LightGBM] [Warning] lambda_l1 is set=5, reg_alpha=0.0 will be ignored. Current value: lambda_l1=5\n",
      "[LightGBM] [Warning] bagging_fraction is set=1.0, subsample=1.0 will be ignored. Current value: bagging_fraction=1.0\n",
      "[LightGBM] [Warning] feature_fraction is set=0.7, colsample_bytree=1.0 will be ignored. Current value: feature_fraction=0.7\n",
      "[LightGBM] [Warning] min_data_in_leaf is set=100, min_child_samples=20 will be ignored. Current value: min_data_in_leaf=100\n",
      "[LightGBM] [Warning] bagging_freq is set=1, subsample_freq=0 will be ignored. Current value: bagging_freq=1\n",
      "[LightGBM] [Warning] min_gain_to_split is set=13.700000000000001, min_split_gain=0.0 will be ignored. Current value: min_gain_to_split=13.700000000000001\n",
      "[LightGBM] [Warning] lambda_l2 is set=45, reg_lambda=0.0 will be ignored. Current value: lambda_l2=45\n",
      "Training until validation scores don't improve for 20 rounds\n",
      "Early stopping, best iteration is:\n",
      "[1]\tvalid_0's auc: 0.693288\tvalid_0's binary_logloss: 0.645874\n"
     ]
    },
    {
     "name": "stderr",
     "output_type": "stream",
     "text": [
      "[I 2023-09-10 06:32:20,038] Trial 219 pruned. Trial was pruned at iteration 21.\n"
     ]
    },
    {
     "name": "stdout",
     "output_type": "stream",
     "text": [
      "[LightGBM] [Warning] lambda_l1 is set=10, reg_alpha=0.0 will be ignored. Current value: lambda_l1=10\n",
      "[LightGBM] [Warning] bagging_fraction is set=1.0, subsample=1.0 will be ignored. Current value: bagging_fraction=1.0\n",
      "[LightGBM] [Warning] feature_fraction is set=0.9, colsample_bytree=1.0 will be ignored. Current value: feature_fraction=0.9\n",
      "[LightGBM] [Warning] min_data_in_leaf is set=100, min_child_samples=20 will be ignored. Current value: min_data_in_leaf=100\n",
      "[LightGBM] [Warning] bagging_freq is set=1, subsample_freq=0 will be ignored. Current value: bagging_freq=1\n",
      "[LightGBM] [Warning] min_gain_to_split is set=6.6000000000000005, min_split_gain=0.0 will be ignored. Current value: min_gain_to_split=6.6000000000000005\n",
      "[LightGBM] [Warning] lambda_l2 is set=55, reg_lambda=0.0 will be ignored. Current value: lambda_l2=55\n",
      "Training until validation scores don't improve for 20 rounds\n"
     ]
    },
    {
     "name": "stderr",
     "output_type": "stream",
     "text": [
      "[I 2023-09-10 06:32:20,316] Trial 220 pruned. Trial was pruned at iteration 0.\n",
      "[I 2023-09-10 06:32:20,609] Trial 221 finished with value: 0.6932877111240536 and parameters: {'n_estimators': 100, 'learning_rate': 0.2, 'num_leaves': 560, 'max_depth': 12, 'min_data_in_leaf': 100, 'lambda_l1': 10, 'lambda_l2': 50, 'min_gain_to_split': 12.700000000000001, 'bagging_fraction': 1.0, 'bagging_freq': 1, 'feature_fraction': 0.9}. Best is trial 21 with value: 0.8300815375655213.\n"
     ]
    },
    {
     "name": "stdout",
     "output_type": "stream",
     "text": [
      "Training until validation scores don't improve for 20 rounds\n",
      "Early stopping, best iteration is:\n",
      "[1]\tvalid_0's auc: 0.693288\tvalid_0's binary_logloss: 0.66405\n"
     ]
    },
    {
     "name": "stderr",
     "output_type": "stream",
     "text": [
      "[I 2023-09-10 06:32:20,934] Trial 222 finished with value: 0.6932877111240536 and parameters: {'n_estimators': 100, 'learning_rate': 0.2, 'num_leaves': 520, 'max_depth': 12, 'min_data_in_leaf': 100, 'lambda_l1': 10, 'lambda_l2': 45, 'min_gain_to_split': 12.700000000000001, 'bagging_fraction': 1.0, 'bagging_freq': 1, 'feature_fraction': 0.9}. Best is trial 21 with value: 0.8300815375655213.\n"
     ]
    },
    {
     "name": "stdout",
     "output_type": "stream",
     "text": [
      "[LightGBM] [Warning] lambda_l1 is set=10, reg_alpha=0.0 will be ignored. Current value: lambda_l1=10\n",
      "[LightGBM] [Warning] bagging_fraction is set=1.0, subsample=1.0 will be ignored. Current value: bagging_fraction=1.0\n",
      "[LightGBM] [Warning] feature_fraction is set=0.9, colsample_bytree=1.0 will be ignored. Current value: feature_fraction=0.9\n",
      "[LightGBM] [Warning] min_data_in_leaf is set=100, min_child_samples=20 will be ignored. Current value: min_data_in_leaf=100\n",
      "[LightGBM] [Warning] bagging_freq is set=1, subsample_freq=0 will be ignored. Current value: bagging_freq=1\n",
      "[LightGBM] [Warning] min_gain_to_split is set=12.700000000000001, min_split_gain=0.0 will be ignored. Current value: min_gain_to_split=12.700000000000001\n",
      "[LightGBM] [Warning] lambda_l2 is set=45, reg_lambda=0.0 will be ignored. Current value: lambda_l2=45\n",
      "Training until validation scores don't improve for 20 rounds\n",
      "Early stopping, best iteration is:\n",
      "[1]\tvalid_0's auc: 0.693288\tvalid_0's binary_logloss: 0.663577\n"
     ]
    },
    {
     "name": "stderr",
     "output_type": "stream",
     "text": [
      "[I 2023-09-10 06:32:21,204] Trial 223 pruned. Trial was pruned at iteration 21.\n"
     ]
    },
    {
     "name": "stdout",
     "output_type": "stream",
     "text": [
      "[LightGBM] [Warning] lambda_l1 is set=10, reg_alpha=0.0 will be ignored. Current value: lambda_l1=10\n",
      "[LightGBM] [Warning] bagging_fraction is set=1.0, subsample=1.0 will be ignored. Current value: bagging_fraction=1.0\n",
      "[LightGBM] [Warning] feature_fraction is set=0.9, colsample_bytree=1.0 will be ignored. Current value: feature_fraction=0.9\n",
      "[LightGBM] [Warning] min_data_in_leaf is set=100, min_child_samples=20 will be ignored. Current value: min_data_in_leaf=100\n",
      "[LightGBM] [Warning] bagging_freq is set=1, subsample_freq=0 will be ignored. Current value: bagging_freq=1\n",
      "[LightGBM] [Warning] min_gain_to_split is set=12.200000000000001, min_split_gain=0.0 will be ignored. Current value: min_gain_to_split=12.200000000000001\n",
      "[LightGBM] [Warning] lambda_l2 is set=50, reg_lambda=0.0 will be ignored. Current value: lambda_l2=50\n",
      "Training until validation scores don't improve for 20 rounds\n"
     ]
    },
    {
     "name": "stderr",
     "output_type": "stream",
     "text": [
      "[I 2023-09-10 06:32:21,455] Trial 224 pruned. Trial was pruned at iteration 0.\n",
      "[I 2023-09-10 06:32:21,760] Trial 225 finished with value: 0.6932877111240536 and parameters: {'n_estimators': 100, 'learning_rate': 0.2, 'num_leaves': 540, 'max_depth': 12, 'min_data_in_leaf': 100, 'lambda_l1': 10, 'lambda_l2': 40, 'min_gain_to_split': 13.100000000000001, 'bagging_fraction': 1.0, 'bagging_freq': 1, 'feature_fraction': 0.9}. Best is trial 21 with value: 0.8300815375655213.\n"
     ]
    },
    {
     "name": "stdout",
     "output_type": "stream",
     "text": [
      "Training until validation scores don't improve for 20 rounds\n",
      "Early stopping, best iteration is:\n",
      "[1]\tvalid_0's auc: 0.693288\tvalid_0's binary_logloss: 0.663062\n"
     ]
    },
    {
     "name": "stderr",
     "output_type": "stream",
     "text": [
      "[I 2023-09-10 06:32:22,089] Trial 226 finished with value: 0.6932877111240536 and parameters: {'n_estimators': 100, 'learning_rate': 0.5, 'num_leaves': 480, 'max_depth': 12, 'min_data_in_leaf': 100, 'lambda_l1': 5, 'lambda_l2': 50, 'min_gain_to_split': 14.100000000000001, 'bagging_fraction': 1.0, 'bagging_freq': 1, 'feature_fraction': 0.9}. Best is trial 21 with value: 0.8300815375655213.\n"
     ]
    },
    {
     "name": "stdout",
     "output_type": "stream",
     "text": [
      "[LightGBM] [Warning] lambda_l1 is set=5, reg_alpha=0.0 will be ignored. Current value: lambda_l1=5\n",
      "[LightGBM] [Warning] bagging_fraction is set=1.0, subsample=1.0 will be ignored. Current value: bagging_fraction=1.0\n",
      "[LightGBM] [Warning] feature_fraction is set=0.9, colsample_bytree=1.0 will be ignored. Current value: feature_fraction=0.9\n",
      "[LightGBM] [Warning] min_data_in_leaf is set=100, min_child_samples=20 will be ignored. Current value: min_data_in_leaf=100\n",
      "[LightGBM] [Warning] bagging_freq is set=1, subsample_freq=0 will be ignored. Current value: bagging_freq=1\n",
      "[LightGBM] [Warning] min_gain_to_split is set=14.100000000000001, min_split_gain=0.0 will be ignored. Current value: min_gain_to_split=14.100000000000001\n",
      "[LightGBM] [Warning] lambda_l2 is set=50, reg_lambda=0.0 will be ignored. Current value: lambda_l2=50\n",
      "Training until validation scores don't improve for 20 rounds\n",
      "Early stopping, best iteration is:\n",
      "[1]\tvalid_0's auc: 0.693288\tvalid_0's binary_logloss: 0.646914\n"
     ]
    },
    {
     "name": "stderr",
     "output_type": "stream",
     "text": [
      "[I 2023-09-10 06:32:22,364] Trial 227 pruned. Trial was pruned at iteration 0.\n"
     ]
    },
    {
     "name": "stdout",
     "output_type": "stream",
     "text": [
      "[LightGBM] [Warning] lambda_l1 is set=15, reg_alpha=0.0 will be ignored. Current value: lambda_l1=15\n",
      "[LightGBM] [Warning] bagging_fraction is set=1.0, subsample=1.0 will be ignored. Current value: bagging_fraction=1.0\n",
      "[LightGBM] [Warning] feature_fraction is set=0.6000000000000001, colsample_bytree=1.0 will be ignored. Current value: feature_fraction=0.6000000000000001\n",
      "[LightGBM] [Warning] min_data_in_leaf is set=100, min_child_samples=20 will be ignored. Current value: min_data_in_leaf=100\n",
      "[LightGBM] [Warning] bagging_freq is set=1, subsample_freq=0 will be ignored. Current value: bagging_freq=1\n",
      "[LightGBM] [Warning] min_gain_to_split is set=11.9, min_split_gain=0.0 will be ignored. Current value: min_gain_to_split=11.9\n",
      "[LightGBM] [Warning] lambda_l2 is set=55, reg_lambda=0.0 will be ignored. Current value: lambda_l2=55\n"
     ]
    },
    {
     "name": "stderr",
     "output_type": "stream",
     "text": [
      "[I 2023-09-10 06:32:22,697] Trial 228 pruned. Trial was pruned at iteration 29.\n"
     ]
    },
    {
     "name": "stdout",
     "output_type": "stream",
     "text": [
      "Training until validation scores don't improve for 20 rounds\n"
     ]
    },
    {
     "name": "stderr",
     "output_type": "stream",
     "text": [
      "[I 2023-09-10 06:32:22,960] Trial 229 pruned. Trial was pruned at iteration 0.\n",
      "[I 2023-09-10 06:32:23,219] Trial 230 pruned. Trial was pruned at iteration 0.\n",
      "[I 2023-09-10 06:32:23,510] Trial 231 finished with value: 0.6932877111240536 and parameters: {'n_estimators': 100, 'learning_rate': 0.2, 'num_leaves': 500, 'max_depth': 12, 'min_data_in_leaf': 100, 'lambda_l1': 10, 'lambda_l2': 45, 'min_gain_to_split': 13.4, 'bagging_fraction': 1.0, 'bagging_freq': 1, 'feature_fraction': 0.9}. Best is trial 21 with value: 0.8300815375655213.\n"
     ]
    },
    {
     "name": "stdout",
     "output_type": "stream",
     "text": [
      "Training until validation scores don't improve for 20 rounds\n",
      "Early stopping, best iteration is:\n",
      "[1]\tvalid_0's auc: 0.693288\tvalid_0's binary_logloss: 0.663577\n"
     ]
    },
    {
     "name": "stderr",
     "output_type": "stream",
     "text": [
      "[I 2023-09-10 06:32:23,807] Trial 232 finished with value: 0.6932877111240536 and parameters: {'n_estimators': 100, 'learning_rate': 0.2, 'num_leaves': 540, 'max_depth': 12, 'min_data_in_leaf': 100, 'lambda_l1': 10, 'lambda_l2': 45, 'min_gain_to_split': 13.0, 'bagging_fraction': 1.0, 'bagging_freq': 1, 'feature_fraction': 0.9}. Best is trial 21 with value: 0.8300815375655213.\n"
     ]
    },
    {
     "name": "stdout",
     "output_type": "stream",
     "text": [
      "[LightGBM] [Warning] lambda_l1 is set=10, reg_alpha=0.0 will be ignored. Current value: lambda_l1=10\n",
      "[LightGBM] [Warning] bagging_fraction is set=1.0, subsample=1.0 will be ignored. Current value: bagging_fraction=1.0\n",
      "[LightGBM] [Warning] feature_fraction is set=0.9, colsample_bytree=1.0 will be ignored. Current value: feature_fraction=0.9\n",
      "[LightGBM] [Warning] min_data_in_leaf is set=100, min_child_samples=20 will be ignored. Current value: min_data_in_leaf=100\n",
      "[LightGBM] [Warning] bagging_freq is set=1, subsample_freq=0 will be ignored. Current value: bagging_freq=1\n",
      "[LightGBM] [Warning] min_gain_to_split is set=13.0, min_split_gain=0.0 will be ignored. Current value: min_gain_to_split=13.0\n",
      "[LightGBM] [Warning] lambda_l2 is set=45, reg_lambda=0.0 will be ignored. Current value: lambda_l2=45\n",
      "Training until validation scores don't improve for 20 rounds\n",
      "Early stopping, best iteration is:\n",
      "[1]\tvalid_0's auc: 0.693288\tvalid_0's binary_logloss: 0.663577\n"
     ]
    },
    {
     "name": "stderr",
     "output_type": "stream",
     "text": [
      "[I 2023-09-10 06:32:24,070] Trial 233 pruned. Trial was pruned at iteration 0.\n"
     ]
    },
    {
     "name": "stdout",
     "output_type": "stream",
     "text": [
      "[LightGBM] [Warning] lambda_l1 is set=15, reg_alpha=0.0 will be ignored. Current value: lambda_l1=15\n",
      "[LightGBM] [Warning] bagging_fraction is set=1.0, subsample=1.0 will be ignored. Current value: bagging_fraction=1.0\n",
      "[LightGBM] [Warning] feature_fraction is set=0.9, colsample_bytree=1.0 will be ignored. Current value: feature_fraction=0.9\n",
      "[LightGBM] [Warning] min_data_in_leaf is set=100, min_child_samples=20 will be ignored. Current value: min_data_in_leaf=100\n",
      "[LightGBM] [Warning] bagging_freq is set=1, subsample_freq=0 will be ignored. Current value: bagging_freq=1\n",
      "[LightGBM] [Warning] min_gain_to_split is set=13.5, min_split_gain=0.0 will be ignored. Current value: min_gain_to_split=13.5\n",
      "[LightGBM] [Warning] lambda_l2 is set=45, reg_lambda=0.0 will be ignored. Current value: lambda_l2=45\n"
     ]
    },
    {
     "name": "stderr",
     "output_type": "stream",
     "text": [
      "[I 2023-09-10 06:32:24,452] Trial 234 finished with value: 0.6932877111240536 and parameters: {'n_estimators': 100, 'learning_rate': 0.2, 'num_leaves': 460, 'max_depth': 12, 'min_data_in_leaf': 100, 'lambda_l1': 10, 'lambda_l2': 50, 'min_gain_to_split': 12.8, 'bagging_fraction': 1.0, 'bagging_freq': 1, 'feature_fraction': 0.9}. Best is trial 21 with value: 0.8300815375655213.\n"
     ]
    },
    {
     "name": "stdout",
     "output_type": "stream",
     "text": [
      "Training until validation scores don't improve for 20 rounds\n",
      "Early stopping, best iteration is:\n",
      "[1]\tvalid_0's auc: 0.693288\tvalid_0's binary_logloss: 0.66405\n"
     ]
    },
    {
     "name": "stderr",
     "output_type": "stream",
     "text": [
      "[I 2023-09-10 06:32:24,718] Trial 235 pruned. Trial was pruned at iteration 0.\n"
     ]
    },
    {
     "name": "stdout",
     "output_type": "stream",
     "text": [
      "[LightGBM] [Warning] lambda_l1 is set=10, reg_alpha=0.0 will be ignored. Current value: lambda_l1=10\n",
      "[LightGBM] [Warning] bagging_fraction is set=0.7, subsample=1.0 will be ignored. Current value: bagging_fraction=0.7\n",
      "[LightGBM] [Warning] feature_fraction is set=0.9, colsample_bytree=1.0 will be ignored. Current value: feature_fraction=0.9\n",
      "[LightGBM] [Warning] min_data_in_leaf is set=100, min_child_samples=20 will be ignored. Current value: min_data_in_leaf=100\n",
      "[LightGBM] [Warning] bagging_freq is set=1, subsample_freq=0 will be ignored. Current value: bagging_freq=1\n",
      "[LightGBM] [Warning] min_gain_to_split is set=14.600000000000001, min_split_gain=0.0 will be ignored. Current value: min_gain_to_split=14.600000000000001\n",
      "[LightGBM] [Warning] lambda_l2 is set=75, reg_lambda=0.0 will be ignored. Current value: lambda_l2=75\n"
     ]
    },
    {
     "name": "stderr",
     "output_type": "stream",
     "text": [
      "[I 2023-09-10 06:32:24,997] Trial 236 pruned. Trial was pruned at iteration 21.\n"
     ]
    },
    {
     "name": "stdout",
     "output_type": "stream",
     "text": [
      "Training until validation scores don't improve for 20 rounds\n"
     ]
    },
    {
     "name": "stderr",
     "output_type": "stream",
     "text": [
      "[I 2023-09-10 06:32:25,274] Trial 237 pruned. Trial was pruned at iteration 21.\n"
     ]
    },
    {
     "name": "stdout",
     "output_type": "stream",
     "text": [
      "Training until validation scores don't improve for 20 rounds\n"
     ]
    },
    {
     "name": "stderr",
     "output_type": "stream",
     "text": [
      "[I 2023-09-10 06:32:25,535] Trial 238 pruned. Trial was pruned at iteration 0.\n",
      "[I 2023-09-10 06:32:25,826] Trial 239 finished with value: 0.6932877111240536 and parameters: {'n_estimators': 100, 'learning_rate': 0.25, 'num_leaves': 500, 'max_depth': 12, 'min_data_in_leaf': 100, 'lambda_l1': 5, 'lambda_l2': 60, 'min_gain_to_split': 14.200000000000001, 'bagging_fraction': 1.0, 'bagging_freq': 1, 'feature_fraction': 0.9}. Best is trial 21 with value: 0.8300815375655213.\n"
     ]
    },
    {
     "name": "stdout",
     "output_type": "stream",
     "text": [
      "Training until validation scores don't improve for 20 rounds\n",
      "Early stopping, best iteration is:\n",
      "[1]\tvalid_0's auc: 0.693288\tvalid_0's binary_logloss: 0.661282\n"
     ]
    },
    {
     "name": "stderr",
     "output_type": "stream",
     "text": [
      "[I 2023-09-10 06:32:26,079] Trial 240 pruned. Trial was pruned at iteration 0.\n"
     ]
    },
    {
     "name": "stdout",
     "output_type": "stream",
     "text": [
      "[LightGBM] [Warning] lambda_l1 is set=0, reg_alpha=0.0 will be ignored. Current value: lambda_l1=0\n",
      "[LightGBM] [Warning] bagging_fraction is set=1.0, subsample=1.0 will be ignored. Current value: bagging_fraction=1.0\n",
      "[LightGBM] [Warning] feature_fraction is set=0.9, colsample_bytree=1.0 will be ignored. Current value: feature_fraction=0.9\n",
      "[LightGBM] [Warning] min_data_in_leaf is set=300, min_child_samples=20 will be ignored. Current value: min_data_in_leaf=300\n",
      "[LightGBM] [Warning] bagging_freq is set=1, subsample_freq=0 will be ignored. Current value: bagging_freq=1\n",
      "[LightGBM] [Warning] min_gain_to_split is set=13.8, min_split_gain=0.0 will be ignored. Current value: min_gain_to_split=13.8\n",
      "[LightGBM] [Warning] lambda_l2 is set=45, reg_lambda=0.0 will be ignored. Current value: lambda_l2=45\n"
     ]
    },
    {
     "name": "stderr",
     "output_type": "stream",
     "text": [
      "[I 2023-09-10 06:32:26,376] Trial 241 finished with value: 0.6932877111240536 and parameters: {'n_estimators': 100, 'learning_rate': 0.2, 'num_leaves': 580, 'max_depth': 12, 'min_data_in_leaf': 100, 'lambda_l1': 10, 'lambda_l2': 40, 'min_gain_to_split': 13.600000000000001, 'bagging_fraction': 1.0, 'bagging_freq': 1, 'feature_fraction': 0.9}. Best is trial 21 with value: 0.8300815375655213.\n"
     ]
    },
    {
     "name": "stdout",
     "output_type": "stream",
     "text": [
      "Training until validation scores don't improve for 20 rounds\n",
      "Early stopping, best iteration is:\n",
      "[1]\tvalid_0's auc: 0.693288\tvalid_0's binary_logloss: 0.663062\n"
     ]
    },
    {
     "name": "stderr",
     "output_type": "stream",
     "text": [
      "[I 2023-09-10 06:32:26,674] Trial 242 finished with value: 0.6932877111240536 and parameters: {'n_estimators': 800, 'learning_rate': 0.2, 'num_leaves': 540, 'max_depth': 12, 'min_data_in_leaf': 100, 'lambda_l1': 10, 'lambda_l2': 40, 'min_gain_to_split': 13.9, 'bagging_fraction': 1.0, 'bagging_freq': 1, 'feature_fraction': 0.9}. Best is trial 21 with value: 0.8300815375655213.\n"
     ]
    },
    {
     "name": "stdout",
     "output_type": "stream",
     "text": [
      "[LightGBM] [Warning] lambda_l1 is set=10, reg_alpha=0.0 will be ignored. Current value: lambda_l1=10\n",
      "[LightGBM] [Warning] bagging_fraction is set=1.0, subsample=1.0 will be ignored. Current value: bagging_fraction=1.0\n",
      "[LightGBM] [Warning] feature_fraction is set=0.9, colsample_bytree=1.0 will be ignored. Current value: feature_fraction=0.9\n",
      "[LightGBM] [Warning] min_data_in_leaf is set=100, min_child_samples=20 will be ignored. Current value: min_data_in_leaf=100\n",
      "[LightGBM] [Warning] bagging_freq is set=1, subsample_freq=0 will be ignored. Current value: bagging_freq=1\n",
      "[LightGBM] [Warning] min_gain_to_split is set=13.9, min_split_gain=0.0 will be ignored. Current value: min_gain_to_split=13.9\n",
      "[LightGBM] [Warning] lambda_l2 is set=40, reg_lambda=0.0 will be ignored. Current value: lambda_l2=40\n",
      "Training until validation scores don't improve for 20 rounds\n",
      "Early stopping, best iteration is:\n",
      "[1]\tvalid_0's auc: 0.693288\tvalid_0's binary_logloss: 0.663062\n"
     ]
    },
    {
     "name": "stderr",
     "output_type": "stream",
     "text": [
      "[I 2023-09-10 06:32:26,970] Trial 243 pruned. Trial was pruned at iteration 21.\n"
     ]
    },
    {
     "name": "stdout",
     "output_type": "stream",
     "text": [
      "[LightGBM] [Warning] lambda_l1 is set=10, reg_alpha=0.0 will be ignored. Current value: lambda_l1=10\n",
      "[LightGBM] [Warning] bagging_fraction is set=1.0, subsample=1.0 will be ignored. Current value: bagging_fraction=1.0\n",
      "[LightGBM] [Warning] feature_fraction is set=0.9, colsample_bytree=1.0 will be ignored. Current value: feature_fraction=0.9\n",
      "[LightGBM] [Warning] min_data_in_leaf is set=100, min_child_samples=20 will be ignored. Current value: min_data_in_leaf=100\n",
      "[LightGBM] [Warning] bagging_freq is set=1, subsample_freq=0 will be ignored. Current value: bagging_freq=1\n",
      "[LightGBM] [Warning] min_gain_to_split is set=13.3, min_split_gain=0.0 will be ignored. Current value: min_gain_to_split=13.3\n",
      "[LightGBM] [Warning] lambda_l2 is set=15, reg_lambda=0.0 will be ignored. Current value: lambda_l2=15\n",
      "Training until validation scores don't improve for 20 rounds\n"
     ]
    },
    {
     "name": "stderr",
     "output_type": "stream",
     "text": [
      "[I 2023-09-10 06:32:27,270] Trial 244 finished with value: 0.6932877111240536 and parameters: {'n_estimators': 100, 'learning_rate': 0.2, 'num_leaves': 520, 'max_depth': 12, 'min_data_in_leaf': 100, 'lambda_l1': 10, 'lambda_l2': 45, 'min_gain_to_split': 13.200000000000001, 'bagging_fraction': 1.0, 'bagging_freq': 1, 'feature_fraction': 0.9}. Best is trial 21 with value: 0.8300815375655213.\n"
     ]
    },
    {
     "name": "stdout",
     "output_type": "stream",
     "text": [
      "Training until validation scores don't improve for 20 rounds\n",
      "Early stopping, best iteration is:\n",
      "[1]\tvalid_0's auc: 0.693288\tvalid_0's binary_logloss: 0.663577\n"
     ]
    },
    {
     "name": "stderr",
     "output_type": "stream",
     "text": [
      "[I 2023-09-10 06:32:27,533] Trial 245 pruned. Trial was pruned at iteration 0.\n"
     ]
    },
    {
     "name": "stdout",
     "output_type": "stream",
     "text": [
      "[LightGBM] [Warning] lambda_l1 is set=15, reg_alpha=0.0 will be ignored. Current value: lambda_l1=15\n",
      "[LightGBM] [Warning] bagging_fraction is set=1.0, subsample=1.0 will be ignored. Current value: bagging_fraction=1.0\n",
      "[LightGBM] [Warning] feature_fraction is set=0.9, colsample_bytree=1.0 will be ignored. Current value: feature_fraction=0.9\n",
      "[LightGBM] [Warning] min_data_in_leaf is set=100, min_child_samples=20 will be ignored. Current value: min_data_in_leaf=100\n",
      "[LightGBM] [Warning] bagging_freq is set=1, subsample_freq=0 will be ignored. Current value: bagging_freq=1\n",
      "[LightGBM] [Warning] min_gain_to_split is set=13.9, min_split_gain=0.0 will be ignored. Current value: min_gain_to_split=13.9\n",
      "[LightGBM] [Warning] lambda_l2 is set=35, reg_lambda=0.0 will be ignored. Current value: lambda_l2=35\n"
     ]
    },
    {
     "name": "stderr",
     "output_type": "stream",
     "text": [
      "[I 2023-09-10 06:32:27,833] Trial 246 finished with value: 0.6932877111240536 and parameters: {'n_estimators': 100, 'learning_rate': 0.2, 'num_leaves': 540, 'max_depth': 10, 'min_data_in_leaf': 100, 'lambda_l1': 5, 'lambda_l2': 50, 'min_gain_to_split': 12.9, 'bagging_fraction': 1.0, 'bagging_freq': 1, 'feature_fraction': 0.9}. Best is trial 21 with value: 0.8300815375655213.\n"
     ]
    },
    {
     "name": "stdout",
     "output_type": "stream",
     "text": [
      "Training until validation scores don't improve for 20 rounds\n",
      "Early stopping, best iteration is:\n",
      "[1]\tvalid_0's auc: 0.693288\tvalid_0's binary_logloss: 0.663118\n"
     ]
    },
    {
     "name": "stderr",
     "output_type": "stream",
     "text": [
      "[I 2023-09-10 06:32:28,130] Trial 247 finished with value: 0.6932877111240536 and parameters: {'n_estimators': 100, 'learning_rate': 0.15000000000000002, 'num_leaves': 460, 'max_depth': 12, 'min_data_in_leaf': 100, 'lambda_l1': 10, 'lambda_l2': 40, 'min_gain_to_split': 11.8, 'bagging_fraction': 1.0, 'bagging_freq': 1, 'feature_fraction': 0.9}. Best is trial 21 with value: 0.8300815375655213.\n"
     ]
    },
    {
     "name": "stdout",
     "output_type": "stream",
     "text": [
      "[LightGBM] [Warning] lambda_l1 is set=10, reg_alpha=0.0 will be ignored. Current value: lambda_l1=10\n",
      "[LightGBM] [Warning] bagging_fraction is set=1.0, subsample=1.0 will be ignored. Current value: bagging_fraction=1.0\n",
      "[LightGBM] [Warning] feature_fraction is set=0.9, colsample_bytree=1.0 will be ignored. Current value: feature_fraction=0.9\n",
      "[LightGBM] [Warning] min_data_in_leaf is set=100, min_child_samples=20 will be ignored. Current value: min_data_in_leaf=100\n",
      "[LightGBM] [Warning] bagging_freq is set=1, subsample_freq=0 will be ignored. Current value: bagging_freq=1\n",
      "[LightGBM] [Warning] min_gain_to_split is set=11.8, min_split_gain=0.0 will be ignored. Current value: min_gain_to_split=11.8\n",
      "[LightGBM] [Warning] lambda_l2 is set=40, reg_lambda=0.0 will be ignored. Current value: lambda_l2=40\n",
      "Training until validation scores don't improve for 20 rounds\n",
      "Early stopping, best iteration is:\n",
      "[1]\tvalid_0's auc: 0.693288\tvalid_0's binary_logloss: 0.666104\n"
     ]
    },
    {
     "name": "stderr",
     "output_type": "stream",
     "text": [
      "[I 2023-09-10 06:32:28,410] Trial 248 pruned. Trial was pruned at iteration 0.\n"
     ]
    },
    {
     "name": "stdout",
     "output_type": "stream",
     "text": [
      "[LightGBM] [Warning] lambda_l1 is set=15, reg_alpha=0.0 will be ignored. Current value: lambda_l1=15\n",
      "[LightGBM] [Warning] bagging_fraction is set=1.0, subsample=1.0 will be ignored. Current value: bagging_fraction=1.0\n",
      "[LightGBM] [Warning] feature_fraction is set=0.9, colsample_bytree=1.0 will be ignored. Current value: feature_fraction=0.9\n",
      "[LightGBM] [Warning] min_data_in_leaf is set=100, min_child_samples=20 will be ignored. Current value: min_data_in_leaf=100\n",
      "[LightGBM] [Warning] bagging_freq is set=1, subsample_freq=0 will be ignored. Current value: bagging_freq=1\n",
      "[LightGBM] [Warning] min_gain_to_split is set=11.3, min_split_gain=0.0 will be ignored. Current value: min_gain_to_split=11.3\n",
      "[LightGBM] [Warning] lambda_l2 is set=50, reg_lambda=0.0 will be ignored. Current value: lambda_l2=50\n"
     ]
    },
    {
     "name": "stderr",
     "output_type": "stream",
     "text": [
      "[I 2023-09-10 06:32:28,691] Trial 249 pruned. Trial was pruned at iteration 21.\n"
     ]
    },
    {
     "name": "stdout",
     "output_type": "stream",
     "text": [
      "Training until validation scores don't improve for 20 rounds\n"
     ]
    },
    {
     "name": "stderr",
     "output_type": "stream",
     "text": [
      "[I 2023-09-10 06:32:29,024] Trial 250 finished with value: 0.6932877111240536 and parameters: {'n_estimators': 100, 'learning_rate': 0.2, 'num_leaves': 520, 'max_depth': 12, 'min_data_in_leaf': 100, 'lambda_l1': 5, 'lambda_l2': 45, 'min_gain_to_split': 13.4, 'bagging_fraction': 1.0, 'bagging_freq': 1, 'feature_fraction': 0.9}. Best is trial 21 with value: 0.8300815375655213.\n"
     ]
    },
    {
     "name": "stdout",
     "output_type": "stream",
     "text": [
      "Training until validation scores don't improve for 20 rounds\n",
      "Early stopping, best iteration is:\n",
      "[1]\tvalid_0's auc: 0.693288\tvalid_0's binary_logloss: 0.662608\n"
     ]
    },
    {
     "name": "stderr",
     "output_type": "stream",
     "text": [
      "[I 2023-09-10 06:32:29,345] Trial 251 finished with value: 0.6932877111240536 and parameters: {'n_estimators': 100, 'learning_rate': 0.5, 'num_leaves': 560, 'max_depth': 5, 'min_data_in_leaf': 100, 'lambda_l1': 10, 'lambda_l2': 50, 'min_gain_to_split': 14.4, 'bagging_fraction': 1.0, 'bagging_freq': 1, 'feature_fraction': 0.9}. Best is trial 21 with value: 0.8300815375655213.\n"
     ]
    },
    {
     "name": "stdout",
     "output_type": "stream",
     "text": [
      "[LightGBM] [Warning] lambda_l1 is set=10, reg_alpha=0.0 will be ignored. Current value: lambda_l1=10\n",
      "[LightGBM] [Warning] bagging_fraction is set=1.0, subsample=1.0 will be ignored. Current value: bagging_fraction=1.0\n",
      "[LightGBM] [Warning] feature_fraction is set=0.9, colsample_bytree=1.0 will be ignored. Current value: feature_fraction=0.9\n",
      "[LightGBM] [Warning] min_data_in_leaf is set=100, min_child_samples=20 will be ignored. Current value: min_data_in_leaf=100\n",
      "[LightGBM] [Warning] bagging_freq is set=1, subsample_freq=0 will be ignored. Current value: bagging_freq=1\n",
      "[LightGBM] [Warning] min_gain_to_split is set=14.4, min_split_gain=0.0 will be ignored. Current value: min_gain_to_split=14.4\n",
      "[LightGBM] [Warning] lambda_l2 is set=50, reg_lambda=0.0 will be ignored. Current value: lambda_l2=50\n",
      "Training until validation scores don't improve for 20 rounds\n",
      "Early stopping, best iteration is:\n",
      "[1]\tvalid_0's auc: 0.693288\tvalid_0's binary_logloss: 0.64884\n"
     ]
    },
    {
     "name": "stderr",
     "output_type": "stream",
     "text": [
      "[I 2023-09-10 06:32:29,601] Trial 252 pruned. Trial was pruned at iteration 0.\n"
     ]
    },
    {
     "name": "stdout",
     "output_type": "stream",
     "text": [
      "[LightGBM] [Warning] lambda_l1 is set=80, reg_alpha=0.0 will be ignored. Current value: lambda_l1=80\n",
      "[LightGBM] [Warning] bagging_fraction is set=0.6000000000000001, subsample=1.0 will be ignored. Current value: bagging_fraction=0.6000000000000001\n",
      "[LightGBM] [Warning] feature_fraction is set=0.9, colsample_bytree=1.0 will be ignored. Current value: feature_fraction=0.9\n",
      "[LightGBM] [Warning] min_data_in_leaf is set=100, min_child_samples=20 will be ignored. Current value: min_data_in_leaf=100\n",
      "[LightGBM] [Warning] bagging_freq is set=1, subsample_freq=0 will be ignored. Current value: bagging_freq=1\n",
      "[LightGBM] [Warning] min_gain_to_split is set=13.100000000000001, min_split_gain=0.0 will be ignored. Current value: min_gain_to_split=13.100000000000001\n",
      "[LightGBM] [Warning] lambda_l2 is set=60, reg_lambda=0.0 will be ignored. Current value: lambda_l2=60\n"
     ]
    },
    {
     "name": "stderr",
     "output_type": "stream",
     "text": [
      "[I 2023-09-10 06:32:29,885] Trial 253 pruned. Trial was pruned at iteration 0.\n",
      "[I 2023-09-10 06:32:30,163] Trial 254 pruned. Trial was pruned at iteration 21.\n"
     ]
    },
    {
     "name": "stdout",
     "output_type": "stream",
     "text": [
      "Training until validation scores don't improve for 20 rounds\n"
     ]
    },
    {
     "name": "stderr",
     "output_type": "stream",
     "text": [
      "[I 2023-09-10 06:32:30,447] Trial 255 pruned. Trial was pruned at iteration 21.\n"
     ]
    },
    {
     "name": "stdout",
     "output_type": "stream",
     "text": [
      "Training until validation scores don't improve for 20 rounds\n"
     ]
    },
    {
     "name": "stderr",
     "output_type": "stream",
     "text": [
      "[I 2023-09-10 06:32:30,749] Trial 256 finished with value: 0.6932877111240536 and parameters: {'n_estimators': 100, 'learning_rate': 0.2, 'num_leaves': 500, 'max_depth': 5, 'min_data_in_leaf': 100, 'lambda_l1': 10, 'lambda_l2': 50, 'min_gain_to_split': 14.0, 'bagging_fraction': 1.0, 'bagging_freq': 1, 'feature_fraction': 0.9}. Best is trial 21 with value: 0.8300815375655213.\n"
     ]
    },
    {
     "name": "stdout",
     "output_type": "stream",
     "text": [
      "Training until validation scores don't improve for 20 rounds\n",
      "Early stopping, best iteration is:\n",
      "[1]\tvalid_0's auc: 0.693288\tvalid_0's binary_logloss: 0.66405\n"
     ]
    },
    {
     "name": "stderr",
     "output_type": "stream",
     "text": [
      "[I 2023-09-10 06:32:31,013] Trial 257 pruned. Trial was pruned at iteration 0.\n"
     ]
    },
    {
     "name": "stdout",
     "output_type": "stream",
     "text": [
      "[LightGBM] [Warning] lambda_l1 is set=15, reg_alpha=0.0 will be ignored. Current value: lambda_l1=15\n",
      "[LightGBM] [Warning] bagging_fraction is set=1.0, subsample=1.0 will be ignored. Current value: bagging_fraction=1.0\n",
      "[LightGBM] [Warning] feature_fraction is set=0.9, colsample_bytree=1.0 will be ignored. Current value: feature_fraction=0.9\n",
      "[LightGBM] [Warning] min_data_in_leaf is set=100, min_child_samples=20 will be ignored. Current value: min_data_in_leaf=100\n",
      "[LightGBM] [Warning] bagging_freq is set=1, subsample_freq=0 will be ignored. Current value: bagging_freq=1\n",
      "[LightGBM] [Warning] min_gain_to_split is set=5.1000000000000005, min_split_gain=0.0 will be ignored. Current value: min_gain_to_split=5.1000000000000005\n",
      "[LightGBM] [Warning] lambda_l2 is set=55, reg_lambda=0.0 will be ignored. Current value: lambda_l2=55\n"
     ]
    },
    {
     "name": "stderr",
     "output_type": "stream",
     "text": [
      "[I 2023-09-10 06:32:31,294] Trial 258 pruned. Trial was pruned at iteration 21.\n"
     ]
    },
    {
     "name": "stdout",
     "output_type": "stream",
     "text": [
      "Training until validation scores don't improve for 20 rounds\n"
     ]
    },
    {
     "name": "stderr",
     "output_type": "stream",
     "text": [
      "[I 2023-09-10 06:32:31,575] Trial 259 pruned. Trial was pruned at iteration 21.\n"
     ]
    },
    {
     "name": "stdout",
     "output_type": "stream",
     "text": [
      "Training until validation scores don't improve for 20 rounds\n"
     ]
    },
    {
     "name": "stderr",
     "output_type": "stream",
     "text": [
      "[I 2023-09-10 06:32:31,859] Trial 260 pruned. Trial was pruned at iteration 21.\n"
     ]
    },
    {
     "name": "stdout",
     "output_type": "stream",
     "text": [
      "Training until validation scores don't improve for 20 rounds\n"
     ]
    },
    {
     "name": "stderr",
     "output_type": "stream",
     "text": [
      "[I 2023-09-10 06:32:32,149] Trial 261 pruned. Trial was pruned at iteration 29.\n"
     ]
    },
    {
     "name": "stdout",
     "output_type": "stream",
     "text": [
      "Training until validation scores don't improve for 20 rounds\n"
     ]
    },
    {
     "name": "stderr",
     "output_type": "stream",
     "text": [
      "[I 2023-09-10 06:32:32,477] Trial 262 finished with value: 0.6932877111240536 and parameters: {'n_estimators': 100, 'learning_rate': 0.5, 'num_leaves': 620, 'max_depth': 12, 'min_data_in_leaf': 100, 'lambda_l1': 10, 'lambda_l2': 55, 'min_gain_to_split': 13.4, 'bagging_fraction': 1.0, 'bagging_freq': 1, 'feature_fraction': 0.9}. Best is trial 21 with value: 0.8300815375655213.\n"
     ]
    },
    {
     "name": "stdout",
     "output_type": "stream",
     "text": [
      "Training until validation scores don't improve for 20 rounds\n",
      "Early stopping, best iteration is:\n",
      "[1]\tvalid_0's auc: 0.693288\tvalid_0's binary_logloss: 0.649752\n"
     ]
    },
    {
     "name": "stderr",
     "output_type": "stream",
     "text": [
      "[I 2023-09-10 06:32:32,766] Trial 263 pruned. Trial was pruned at iteration 0.\n"
     ]
    },
    {
     "name": "stdout",
     "output_type": "stream",
     "text": [
      "[LightGBM] [Warning] lambda_l1 is set=15, reg_alpha=0.0 will be ignored. Current value: lambda_l1=15\n",
      "[LightGBM] [Warning] bagging_fraction is set=1.0, subsample=1.0 will be ignored. Current value: bagging_fraction=1.0\n",
      "[LightGBM] [Warning] feature_fraction is set=0.9, colsample_bytree=1.0 will be ignored. Current value: feature_fraction=0.9\n",
      "[LightGBM] [Warning] min_data_in_leaf is set=100, min_child_samples=20 will be ignored. Current value: min_data_in_leaf=100\n",
      "[LightGBM] [Warning] bagging_freq is set=1, subsample_freq=0 will be ignored. Current value: bagging_freq=1\n",
      "[LightGBM] [Warning] min_gain_to_split is set=11.9, min_split_gain=0.0 will be ignored. Current value: min_gain_to_split=11.9\n",
      "[LightGBM] [Warning] lambda_l2 is set=50, reg_lambda=0.0 will be ignored. Current value: lambda_l2=50\n"
     ]
    },
    {
     "name": "stderr",
     "output_type": "stream",
     "text": [
      "[I 2023-09-10 06:32:33,083] Trial 264 pruned. Trial was pruned at iteration 21.\n"
     ]
    },
    {
     "name": "stdout",
     "output_type": "stream",
     "text": [
      "Training until validation scores don't improve for 20 rounds\n"
     ]
    },
    {
     "name": "stderr",
     "output_type": "stream",
     "text": [
      "[I 2023-09-10 06:32:33,399] Trial 265 pruned. Trial was pruned at iteration 21.\n"
     ]
    },
    {
     "name": "stdout",
     "output_type": "stream",
     "text": [
      "Training until validation scores don't improve for 20 rounds\n"
     ]
    },
    {
     "name": "stderr",
     "output_type": "stream",
     "text": [
      "[I 2023-09-10 06:32:33,730] Trial 266 finished with value: 0.6932877111240536 and parameters: {'n_estimators': 600, 'learning_rate': 0.5, 'num_leaves': 460, 'max_depth': 12, 'min_data_in_leaf': 100, 'lambda_l1': 5, 'lambda_l2': 55, 'min_gain_to_split': 12.600000000000001, 'bagging_fraction': 1.0, 'bagging_freq': 1, 'feature_fraction': 0.9}. Best is trial 21 with value: 0.8300815375655213.\n"
     ]
    },
    {
     "name": "stdout",
     "output_type": "stream",
     "text": [
      "Training until validation scores don't improve for 20 rounds\n",
      "Early stopping, best iteration is:\n",
      "[1]\tvalid_0's auc: 0.693288\tvalid_0's binary_logloss: 0.647882\n"
     ]
    },
    {
     "name": "stderr",
     "output_type": "stream",
     "text": [
      "[I 2023-09-10 06:32:34,060] Trial 267 finished with value: 0.6932877111240536 and parameters: {'n_estimators': 100, 'learning_rate': 0.25, 'num_leaves': 540, 'max_depth': 12, 'min_data_in_leaf': 100, 'lambda_l1': 10, 'lambda_l2': 40, 'min_gain_to_split': 13.600000000000001, 'bagging_fraction': 1.0, 'bagging_freq': 1, 'feature_fraction': 0.9}. Best is trial 21 with value: 0.8300815375655213.\n"
     ]
    },
    {
     "name": "stdout",
     "output_type": "stream",
     "text": [
      "[LightGBM] [Warning] lambda_l1 is set=10, reg_alpha=0.0 will be ignored. Current value: lambda_l1=10\n",
      "[LightGBM] [Warning] bagging_fraction is set=1.0, subsample=1.0 will be ignored. Current value: bagging_fraction=1.0\n",
      "[LightGBM] [Warning] feature_fraction is set=0.9, colsample_bytree=1.0 will be ignored. Current value: feature_fraction=0.9\n",
      "[LightGBM] [Warning] min_data_in_leaf is set=100, min_child_samples=20 will be ignored. Current value: min_data_in_leaf=100\n",
      "[LightGBM] [Warning] bagging_freq is set=1, subsample_freq=0 will be ignored. Current value: bagging_freq=1\n",
      "[LightGBM] [Warning] min_gain_to_split is set=13.600000000000001, min_split_gain=0.0 will be ignored. Current value: min_gain_to_split=13.600000000000001\n",
      "[LightGBM] [Warning] lambda_l2 is set=40, reg_lambda=0.0 will be ignored. Current value: lambda_l2=40\n",
      "Training until validation scores don't improve for 20 rounds\n",
      "Early stopping, best iteration is:\n",
      "[1]\tvalid_0's auc: 0.693288\tvalid_0's binary_logloss: 0.660115\n"
     ]
    },
    {
     "name": "stderr",
     "output_type": "stream",
     "text": [
      "[I 2023-09-10 06:32:34,389] Trial 268 finished with value: 0.6932877111240536 and parameters: {'n_estimators': 100, 'learning_rate': 0.5, 'num_leaves': 720, 'max_depth': 5, 'min_data_in_leaf': 100, 'lambda_l1': 10, 'lambda_l2': 45, 'min_gain_to_split': 11.0, 'bagging_fraction': 0.9000000000000001, 'bagging_freq': 1, 'feature_fraction': 0.5}. Best is trial 21 with value: 0.8300815375655213.\n"
     ]
    },
    {
     "name": "stdout",
     "output_type": "stream",
     "text": [
      "[LightGBM] [Warning] lambda_l1 is set=10, reg_alpha=0.0 will be ignored. Current value: lambda_l1=10\n",
      "[LightGBM] [Warning] bagging_fraction is set=0.9000000000000001, subsample=1.0 will be ignored. Current value: bagging_fraction=0.9000000000000001\n",
      "[LightGBM] [Warning] feature_fraction is set=0.5, colsample_bytree=1.0 will be ignored. Current value: feature_fraction=0.5\n",
      "[LightGBM] [Warning] min_data_in_leaf is set=100, min_child_samples=20 will be ignored. Current value: min_data_in_leaf=100\n",
      "[LightGBM] [Warning] bagging_freq is set=1, subsample_freq=0 will be ignored. Current value: bagging_freq=1\n",
      "[LightGBM] [Warning] min_gain_to_split is set=11.0, min_split_gain=0.0 will be ignored. Current value: min_gain_to_split=11.0\n",
      "[LightGBM] [Warning] lambda_l2 is set=45, reg_lambda=0.0 will be ignored. Current value: lambda_l2=45\n",
      "Training until validation scores don't improve for 20 rounds\n",
      "Early stopping, best iteration is:\n",
      "[1]\tvalid_0's auc: 0.693288\tvalid_0's binary_logloss: 0.649061\n"
     ]
    },
    {
     "name": "stderr",
     "output_type": "stream",
     "text": [
      "[I 2023-09-10 06:32:34,668] Trial 269 pruned. Trial was pruned at iteration 0.\n"
     ]
    },
    {
     "name": "stdout",
     "output_type": "stream",
     "text": [
      "[LightGBM] [Warning] lambda_l1 is set=15, reg_alpha=0.0 will be ignored. Current value: lambda_l1=15\n",
      "[LightGBM] [Warning] bagging_fraction is set=1.0, subsample=1.0 will be ignored. Current value: bagging_fraction=1.0\n",
      "[LightGBM] [Warning] feature_fraction is set=0.9, colsample_bytree=1.0 will be ignored. Current value: feature_fraction=0.9\n",
      "[LightGBM] [Warning] min_data_in_leaf is set=100, min_child_samples=20 will be ignored. Current value: min_data_in_leaf=100\n",
      "[LightGBM] [Warning] bagging_freq is set=1, subsample_freq=0 will be ignored. Current value: bagging_freq=1\n",
      "[LightGBM] [Warning] min_gain_to_split is set=12.8, min_split_gain=0.0 will be ignored. Current value: min_gain_to_split=12.8\n",
      "[LightGBM] [Warning] lambda_l2 is set=50, reg_lambda=0.0 will be ignored. Current value: lambda_l2=50\n"
     ]
    },
    {
     "name": "stderr",
     "output_type": "stream",
     "text": [
      "[I 2023-09-10 06:32:34,988] Trial 270 pruned. Trial was pruned at iteration 21.\n"
     ]
    },
    {
     "name": "stdout",
     "output_type": "stream",
     "text": [
      "Training until validation scores don't improve for 20 rounds\n"
     ]
    },
    {
     "name": "stderr",
     "output_type": "stream",
     "text": [
      "[I 2023-09-10 06:32:35,284] Trial 271 pruned. Trial was pruned at iteration 29.\n"
     ]
    },
    {
     "name": "stdout",
     "output_type": "stream",
     "text": [
      "Training until validation scores don't improve for 20 rounds\n"
     ]
    },
    {
     "name": "stderr",
     "output_type": "stream",
     "text": [
      "[I 2023-09-10 06:32:35,580] Trial 272 pruned. Trial was pruned at iteration 21.\n"
     ]
    },
    {
     "name": "stdout",
     "output_type": "stream",
     "text": [
      "Training until validation scores don't improve for 20 rounds\n"
     ]
    },
    {
     "name": "stderr",
     "output_type": "stream",
     "text": [
      "[I 2023-09-10 06:32:35,841] Trial 273 pruned. Trial was pruned at iteration 0.\n",
      "[I 2023-09-10 06:32:36,108] Trial 274 pruned. Trial was pruned at iteration 0.\n",
      "[I 2023-09-10 06:32:36,398] Trial 275 pruned. Trial was pruned at iteration 0.\n",
      "[I 2023-09-10 06:32:36,689] Trial 276 pruned. Trial was pruned at iteration 0.\n",
      "[I 2023-09-10 06:32:37,056] Trial 277 finished with value: 0.6932877111240536 and parameters: {'n_estimators': 100, 'learning_rate': 0.25, 'num_leaves': 560, 'max_depth': 12, 'min_data_in_leaf': 100, 'lambda_l1': 10, 'lambda_l2': 50, 'min_gain_to_split': 13.8, 'bagging_fraction': 1.0, 'bagging_freq': 1, 'feature_fraction': 0.7}. Best is trial 21 with value: 0.8300815375655213.\n"
     ]
    },
    {
     "name": "stdout",
     "output_type": "stream",
     "text": [
      "Training until validation scores don't improve for 20 rounds\n",
      "Early stopping, best iteration is:\n",
      "[1]\tvalid_0's auc: 0.693288\tvalid_0's binary_logloss: 0.661313\n"
     ]
    },
    {
     "name": "stderr",
     "output_type": "stream",
     "text": [
      "[I 2023-09-10 06:32:37,342] Trial 278 pruned. Trial was pruned at iteration 21.\n"
     ]
    },
    {
     "name": "stdout",
     "output_type": "stream",
     "text": [
      "[LightGBM] [Warning] lambda_l1 is set=0, reg_alpha=0.0 will be ignored. Current value: lambda_l1=0\n",
      "[LightGBM] [Warning] bagging_fraction is set=1.0, subsample=1.0 will be ignored. Current value: bagging_fraction=1.0\n",
      "[LightGBM] [Warning] feature_fraction is set=0.8, colsample_bytree=1.0 will be ignored. Current value: feature_fraction=0.8\n",
      "[LightGBM] [Warning] min_data_in_leaf is set=100, min_child_samples=20 will be ignored. Current value: min_data_in_leaf=100\n",
      "[LightGBM] [Warning] bagging_freq is set=1, subsample_freq=0 will be ignored. Current value: bagging_freq=1\n",
      "[LightGBM] [Warning] min_gain_to_split is set=12.0, min_split_gain=0.0 will be ignored. Current value: min_gain_to_split=12.0\n",
      "[LightGBM] [Warning] lambda_l2 is set=40, reg_lambda=0.0 will be ignored. Current value: lambda_l2=40\n",
      "Training until validation scores don't improve for 20 rounds\n"
     ]
    },
    {
     "name": "stderr",
     "output_type": "stream",
     "text": [
      "[I 2023-09-10 06:32:37,645] Trial 279 finished with value: 0.6932877111240536 and parameters: {'n_estimators': 100, 'learning_rate': 0.2, 'num_leaves': 520, 'max_depth': 12, 'min_data_in_leaf': 100, 'lambda_l1': 10, 'lambda_l2': 55, 'min_gain_to_split': 13.4, 'bagging_fraction': 1.0, 'bagging_freq': 1, 'feature_fraction': 0.9}. Best is trial 21 with value: 0.8300815375655213.\n"
     ]
    },
    {
     "name": "stdout",
     "output_type": "stream",
     "text": [
      "Training until validation scores don't improve for 20 rounds\n",
      "Early stopping, best iteration is:\n",
      "[1]\tvalid_0's auc: 0.693288\tvalid_0's binary_logloss: 0.664486\n"
     ]
    },
    {
     "name": "stderr",
     "output_type": "stream",
     "text": [
      "[I 2023-09-10 06:32:37,949] Trial 280 finished with value: 0.6932877111240536 and parameters: {'n_estimators': 100, 'learning_rate': 0.2, 'num_leaves': 460, 'max_depth': 12, 'min_data_in_leaf': 100, 'lambda_l1': 15, 'lambda_l2': 40, 'min_gain_to_split': 12.9, 'bagging_fraction': 1.0, 'bagging_freq': 1, 'feature_fraction': 0.9}. Best is trial 21 with value: 0.8300815375655213.\n"
     ]
    },
    {
     "name": "stdout",
     "output_type": "stream",
     "text": [
      "[LightGBM] [Warning] lambda_l1 is set=15, reg_alpha=0.0 will be ignored. Current value: lambda_l1=15\n",
      "[LightGBM] [Warning] bagging_fraction is set=1.0, subsample=1.0 will be ignored. Current value: bagging_fraction=1.0\n",
      "[LightGBM] [Warning] feature_fraction is set=0.9, colsample_bytree=1.0 will be ignored. Current value: feature_fraction=0.9\n",
      "[LightGBM] [Warning] min_data_in_leaf is set=100, min_child_samples=20 will be ignored. Current value: min_data_in_leaf=100\n",
      "[LightGBM] [Warning] bagging_freq is set=1, subsample_freq=0 will be ignored. Current value: bagging_freq=1\n",
      "[LightGBM] [Warning] min_gain_to_split is set=12.9, min_split_gain=0.0 will be ignored. Current value: min_gain_to_split=12.9\n",
      "[LightGBM] [Warning] lambda_l2 is set=40, reg_lambda=0.0 will be ignored. Current value: lambda_l2=40\n",
      "Training until validation scores don't improve for 20 rounds\n",
      "Early stopping, best iteration is:\n",
      "[1]\tvalid_0's auc: 0.693288\tvalid_0's binary_logloss: 0.664084\n"
     ]
    },
    {
     "name": "stderr",
     "output_type": "stream",
     "text": [
      "[I 2023-09-10 06:32:38,211] Trial 281 pruned. Trial was pruned at iteration 0.\n"
     ]
    },
    {
     "name": "stdout",
     "output_type": "stream",
     "text": [
      "[LightGBM] [Warning] lambda_l1 is set=5, reg_alpha=0.0 will be ignored. Current value: lambda_l1=5\n",
      "[LightGBM] [Warning] bagging_fraction is set=0.2, subsample=1.0 will be ignored. Current value: bagging_fraction=0.2\n",
      "[LightGBM] [Warning] feature_fraction is set=0.9, colsample_bytree=1.0 will be ignored. Current value: feature_fraction=0.9\n",
      "[LightGBM] [Warning] min_data_in_leaf is set=100, min_child_samples=20 will be ignored. Current value: min_data_in_leaf=100\n",
      "[LightGBM] [Warning] bagging_freq is set=1, subsample_freq=0 will be ignored. Current value: bagging_freq=1\n",
      "[LightGBM] [Warning] min_gain_to_split is set=12.600000000000001, min_split_gain=0.0 will be ignored. Current value: min_gain_to_split=12.600000000000001\n",
      "[LightGBM] [Warning] lambda_l2 is set=70, reg_lambda=0.0 will be ignored. Current value: lambda_l2=70\n"
     ]
    },
    {
     "name": "stderr",
     "output_type": "stream",
     "text": [
      "[I 2023-09-10 06:32:38,541] Trial 282 finished with value: 0.6932877111240536 and parameters: {'n_estimators': 200, 'learning_rate': 0.5, 'num_leaves': 500, 'max_depth': 9, 'min_data_in_leaf': 100, 'lambda_l1': 10, 'lambda_l2': 50, 'min_gain_to_split': 12.3, 'bagging_fraction': 1.0, 'bagging_freq': 1, 'feature_fraction': 0.9}. Best is trial 21 with value: 0.8300815375655213.\n"
     ]
    },
    {
     "name": "stdout",
     "output_type": "stream",
     "text": [
      "Training until validation scores don't improve for 20 rounds\n",
      "Early stopping, best iteration is:\n",
      "[1]\tvalid_0's auc: 0.693288\tvalid_0's binary_logloss: 0.64884\n"
     ]
    },
    {
     "name": "stderr",
     "output_type": "stream",
     "text": [
      "[I 2023-09-10 06:32:38,836] Trial 283 pruned. Trial was pruned at iteration 21.\n"
     ]
    },
    {
     "name": "stdout",
     "output_type": "stream",
     "text": [
      "[LightGBM] [Warning] lambda_l1 is set=5, reg_alpha=0.0 will be ignored. Current value: lambda_l1=5\n",
      "[LightGBM] [Warning] bagging_fraction is set=1.0, subsample=1.0 will be ignored. Current value: bagging_fraction=1.0\n",
      "[LightGBM] [Warning] feature_fraction is set=0.9, colsample_bytree=1.0 will be ignored. Current value: feature_fraction=0.9\n",
      "[LightGBM] [Warning] min_data_in_leaf is set=100, min_child_samples=20 will be ignored. Current value: min_data_in_leaf=100\n",
      "[LightGBM] [Warning] bagging_freq is set=1, subsample_freq=0 will be ignored. Current value: bagging_freq=1\n",
      "[LightGBM] [Warning] min_gain_to_split is set=11.4, min_split_gain=0.0 will be ignored. Current value: min_gain_to_split=11.4\n",
      "[LightGBM] [Warning] lambda_l2 is set=60, reg_lambda=0.0 will be ignored. Current value: lambda_l2=60\n",
      "Training until validation scores don't improve for 20 rounds\n"
     ]
    },
    {
     "name": "stderr",
     "output_type": "stream",
     "text": [
      "[I 2023-09-10 06:32:39,155] Trial 284 pruned. Trial was pruned at iteration 21.\n"
     ]
    },
    {
     "name": "stdout",
     "output_type": "stream",
     "text": [
      "Training until validation scores don't improve for 20 rounds\n"
     ]
    },
    {
     "name": "stderr",
     "output_type": "stream",
     "text": [
      "[I 2023-09-10 06:32:39,440] Trial 285 pruned. Trial was pruned at iteration 0.\n",
      "[I 2023-09-10 06:32:39,725] Trial 286 pruned. Trial was pruned at iteration 21.\n"
     ]
    },
    {
     "name": "stdout",
     "output_type": "stream",
     "text": [
      "Training until validation scores don't improve for 20 rounds\n"
     ]
    },
    {
     "name": "stderr",
     "output_type": "stream",
     "text": [
      "[I 2023-09-10 06:32:40,019] Trial 287 pruned. Trial was pruned at iteration 0.\n",
      "[I 2023-09-10 06:32:40,302] Trial 288 pruned. Trial was pruned at iteration 21.\n"
     ]
    },
    {
     "name": "stdout",
     "output_type": "stream",
     "text": [
      "Training until validation scores don't improve for 20 rounds\n"
     ]
    },
    {
     "name": "stderr",
     "output_type": "stream",
     "text": [
      "[I 2023-09-10 06:32:40,567] Trial 289 pruned. Trial was pruned at iteration 0.\n",
      "[I 2023-09-10 06:32:40,868] Trial 290 finished with value: 0.6932877111240536 and parameters: {'n_estimators': 100, 'learning_rate': 0.2, 'num_leaves': 600, 'max_depth': 12, 'min_data_in_leaf': 100, 'lambda_l1': 10, 'lambda_l2': 40, 'min_gain_to_split': 13.3, 'bagging_fraction': 1.0, 'bagging_freq': 1, 'feature_fraction': 0.9}. Best is trial 21 with value: 0.8300815375655213.\n"
     ]
    },
    {
     "name": "stdout",
     "output_type": "stream",
     "text": [
      "Training until validation scores don't improve for 20 rounds\n",
      "Early stopping, best iteration is:\n",
      "[1]\tvalid_0's auc: 0.693288\tvalid_0's binary_logloss: 0.663062\n"
     ]
    },
    {
     "name": "stderr",
     "output_type": "stream",
     "text": [
      "[I 2023-09-10 06:32:41,170] Trial 291 finished with value: 0.6932877111240536 and parameters: {'n_estimators': 100, 'learning_rate': 0.2, 'num_leaves': 500, 'max_depth': 6, 'min_data_in_leaf': 100, 'lambda_l1': 5, 'lambda_l2': 45, 'min_gain_to_split': 14.100000000000001, 'bagging_fraction': 1.0, 'bagging_freq': 1, 'feature_fraction': 0.9}. Best is trial 21 with value: 0.8300815375655213.\n"
     ]
    },
    {
     "name": "stdout",
     "output_type": "stream",
     "text": [
      "[LightGBM] [Warning] lambda_l1 is set=5, reg_alpha=0.0 will be ignored. Current value: lambda_l1=5\n",
      "[LightGBM] [Warning] bagging_fraction is set=1.0, subsample=1.0 will be ignored. Current value: bagging_fraction=1.0\n",
      "[LightGBM] [Warning] feature_fraction is set=0.9, colsample_bytree=1.0 will be ignored. Current value: feature_fraction=0.9\n",
      "[LightGBM] [Warning] min_data_in_leaf is set=100, min_child_samples=20 will be ignored. Current value: min_data_in_leaf=100\n",
      "[LightGBM] [Warning] bagging_freq is set=1, subsample_freq=0 will be ignored. Current value: bagging_freq=1\n",
      "[LightGBM] [Warning] min_gain_to_split is set=14.100000000000001, min_split_gain=0.0 will be ignored. Current value: min_gain_to_split=14.100000000000001\n",
      "[LightGBM] [Warning] lambda_l2 is set=45, reg_lambda=0.0 will be ignored. Current value: lambda_l2=45\n",
      "Training until validation scores don't improve for 20 rounds\n",
      "Early stopping, best iteration is:\n",
      "[1]\tvalid_0's auc: 0.693288\tvalid_0's binary_logloss: 0.662608\n"
     ]
    },
    {
     "name": "stderr",
     "output_type": "stream",
     "text": [
      "[I 2023-09-10 06:32:41,450] Trial 292 pruned. Trial was pruned at iteration 21.\n"
     ]
    },
    {
     "name": "stdout",
     "output_type": "stream",
     "text": [
      "[LightGBM] [Warning] lambda_l1 is set=10, reg_alpha=0.0 will be ignored. Current value: lambda_l1=10\n",
      "[LightGBM] [Warning] bagging_fraction is set=1.0, subsample=1.0 will be ignored. Current value: bagging_fraction=1.0\n",
      "[LightGBM] [Warning] feature_fraction is set=0.9, colsample_bytree=1.0 will be ignored. Current value: feature_fraction=0.9\n",
      "[LightGBM] [Warning] min_data_in_leaf is set=100, min_child_samples=20 will be ignored. Current value: min_data_in_leaf=100\n",
      "[LightGBM] [Warning] bagging_freq is set=1, subsample_freq=0 will be ignored. Current value: bagging_freq=1\n",
      "[LightGBM] [Warning] min_gain_to_split is set=7.2, min_split_gain=0.0 will be ignored. Current value: min_gain_to_split=7.2\n",
      "[LightGBM] [Warning] lambda_l2 is set=50, reg_lambda=0.0 will be ignored. Current value: lambda_l2=50\n",
      "Training until validation scores don't improve for 20 rounds\n"
     ]
    },
    {
     "name": "stderr",
     "output_type": "stream",
     "text": [
      "[I 2023-09-10 06:32:41,721] Trial 293 pruned. Trial was pruned at iteration 0.\n",
      "[I 2023-09-10 06:32:42,028] Trial 294 finished with value: 0.8086051252184042 and parameters: {'n_estimators': 100, 'learning_rate': 0.5, 'num_leaves': 540, 'max_depth': 5, 'min_data_in_leaf': 100, 'lambda_l1': 0, 'lambda_l2': 45, 'min_gain_to_split': 7.9, 'bagging_fraction': 1.0, 'bagging_freq': 1, 'feature_fraction': 0.9}. Best is trial 21 with value: 0.8300815375655213.\n"
     ]
    },
    {
     "name": "stdout",
     "output_type": "stream",
     "text": [
      "Training until validation scores don't improve for 20 rounds\n",
      "Early stopping, best iteration is:\n",
      "[8]\tvalid_0's auc: 0.808605\tvalid_0's binary_logloss: 0.575031\n"
     ]
    },
    {
     "name": "stderr",
     "output_type": "stream",
     "text": [
      "[I 2023-09-10 06:32:42,300] Trial 295 pruned. Trial was pruned at iteration 0.\n"
     ]
    },
    {
     "name": "stdout",
     "output_type": "stream",
     "text": [
      "[LightGBM] [Warning] lambda_l1 is set=0, reg_alpha=0.0 will be ignored. Current value: lambda_l1=0\n",
      "[LightGBM] [Warning] bagging_fraction is set=0.30000000000000004, subsample=1.0 will be ignored. Current value: bagging_fraction=0.30000000000000004\n",
      "[LightGBM] [Warning] feature_fraction is set=0.9, colsample_bytree=1.0 will be ignored. Current value: feature_fraction=0.9\n",
      "[LightGBM] [Warning] min_data_in_leaf is set=100, min_child_samples=20 will be ignored. Current value: min_data_in_leaf=100\n",
      "[LightGBM] [Warning] bagging_freq is set=1, subsample_freq=0 will be ignored. Current value: bagging_freq=1\n",
      "[LightGBM] [Warning] min_gain_to_split is set=8.4, min_split_gain=0.0 will be ignored. Current value: min_gain_to_split=8.4\n",
      "[LightGBM] [Warning] lambda_l2 is set=45, reg_lambda=0.0 will be ignored. Current value: lambda_l2=45\n"
     ]
    },
    {
     "name": "stderr",
     "output_type": "stream",
     "text": [
      "[I 2023-09-10 06:32:42,587] Trial 296 pruned. Trial was pruned at iteration 21.\n"
     ]
    },
    {
     "name": "stdout",
     "output_type": "stream",
     "text": [
      "Training until validation scores don't improve for 20 rounds\n"
     ]
    },
    {
     "name": "stderr",
     "output_type": "stream",
     "text": [
      "[I 2023-09-10 06:32:42,859] Trial 297 pruned. Trial was pruned at iteration 0.\n",
      "[I 2023-09-10 06:32:43,146] Trial 298 pruned. Trial was pruned at iteration 21.\n"
     ]
    },
    {
     "name": "stdout",
     "output_type": "stream",
     "text": [
      "Training until validation scores don't improve for 20 rounds\n"
     ]
    },
    {
     "name": "stderr",
     "output_type": "stream",
     "text": [
      "[I 2023-09-10 06:32:43,463] Trial 299 pruned. Trial was pruned at iteration 21.\n"
     ]
    },
    {
     "name": "stdout",
     "output_type": "stream",
     "text": [
      "Training until validation scores don't improve for 20 rounds\n"
     ]
    },
    {
     "name": "stderr",
     "output_type": "stream",
     "text": [
      "[I 2023-09-10 06:32:43,731] Trial 300 pruned. Trial was pruned at iteration 0.\n",
      "[I 2023-09-10 06:32:44,014] Trial 301 pruned. Trial was pruned at iteration 21.\n"
     ]
    },
    {
     "name": "stdout",
     "output_type": "stream",
     "text": [
      "Training until validation scores don't improve for 20 rounds\n"
     ]
    },
    {
     "name": "stderr",
     "output_type": "stream",
     "text": [
      "[I 2023-09-10 06:32:44,312] Trial 302 finished with value: 0.6932877111240536 and parameters: {'n_estimators': 900, 'learning_rate': 0.15000000000000002, 'num_leaves': 840, 'max_depth': 6, 'min_data_in_leaf': 100, 'lambda_l1': 5, 'lambda_l2': 45, 'min_gain_to_split': 12.9, 'bagging_fraction': 1.0, 'bagging_freq': 1, 'feature_fraction': 0.9}. Best is trial 21 with value: 0.8300815375655213.\n"
     ]
    },
    {
     "name": "stdout",
     "output_type": "stream",
     "text": [
      "Training until validation scores don't improve for 20 rounds\n",
      "Early stopping, best iteration is:\n",
      "[1]\tvalid_0's auc: 0.693288\tvalid_0's binary_logloss: 0.665753\n"
     ]
    },
    {
     "name": "stderr",
     "output_type": "stream",
     "text": [
      "[I 2023-09-10 06:32:44,599] Trial 303 pruned. Trial was pruned at iteration 21.\n"
     ]
    },
    {
     "name": "stdout",
     "output_type": "stream",
     "text": [
      "[LightGBM] [Warning] lambda_l1 is set=0, reg_alpha=0.0 will be ignored. Current value: lambda_l1=0\n",
      "[LightGBM] [Warning] bagging_fraction is set=1.0, subsample=1.0 will be ignored. Current value: bagging_fraction=1.0\n",
      "[LightGBM] [Warning] feature_fraction is set=0.8, colsample_bytree=1.0 will be ignored. Current value: feature_fraction=0.8\n",
      "[LightGBM] [Warning] min_data_in_leaf is set=100, min_child_samples=20 will be ignored. Current value: min_data_in_leaf=100\n",
      "[LightGBM] [Warning] bagging_freq is set=1, subsample_freq=0 will be ignored. Current value: bagging_freq=1\n",
      "[LightGBM] [Warning] min_gain_to_split is set=12.600000000000001, min_split_gain=0.0 will be ignored. Current value: min_gain_to_split=12.600000000000001\n",
      "[LightGBM] [Warning] lambda_l2 is set=55, reg_lambda=0.0 will be ignored. Current value: lambda_l2=55\n",
      "Training until validation scores don't improve for 20 rounds\n"
     ]
    },
    {
     "name": "stderr",
     "output_type": "stream",
     "text": [
      "[I 2023-09-10 06:32:44,889] Trial 304 pruned. Trial was pruned at iteration 21.\n"
     ]
    },
    {
     "name": "stdout",
     "output_type": "stream",
     "text": [
      "Training until validation scores don't improve for 20 rounds\n"
     ]
    },
    {
     "name": "stderr",
     "output_type": "stream",
     "text": [
      "[I 2023-09-10 06:32:45,149] Trial 305 pruned. Trial was pruned at iteration 0.\n",
      "[I 2023-09-10 06:32:45,431] Trial 306 pruned. Trial was pruned at iteration 21.\n"
     ]
    },
    {
     "name": "stdout",
     "output_type": "stream",
     "text": [
      "Training until validation scores don't improve for 20 rounds\n"
     ]
    },
    {
     "name": "stderr",
     "output_type": "stream",
     "text": [
      "[I 2023-09-10 06:32:45,728] Trial 307 pruned. Trial was pruned at iteration 21.\n"
     ]
    },
    {
     "name": "stdout",
     "output_type": "stream",
     "text": [
      "Training until validation scores don't improve for 20 rounds\n"
     ]
    },
    {
     "name": "stderr",
     "output_type": "stream",
     "text": [
      "[I 2023-09-10 06:32:46,031] Trial 308 finished with value: 0.6932877111240536 and parameters: {'n_estimators': 100, 'learning_rate': 0.2, 'num_leaves': 560, 'max_depth': 5, 'min_data_in_leaf': 100, 'lambda_l1': 10, 'lambda_l2': 45, 'min_gain_to_split': 9.600000000000001, 'bagging_fraction': 1.0, 'bagging_freq': 1, 'feature_fraction': 0.9}. Best is trial 21 with value: 0.8300815375655213.\n"
     ]
    },
    {
     "name": "stdout",
     "output_type": "stream",
     "text": [
      "Training until validation scores don't improve for 20 rounds\n",
      "Early stopping, best iteration is:\n",
      "[1]\tvalid_0's auc: 0.693288\tvalid_0's binary_logloss: 0.663577\n"
     ]
    },
    {
     "name": "stderr",
     "output_type": "stream",
     "text": [
      "[I 2023-09-10 06:32:46,319] Trial 309 pruned. Trial was pruned at iteration 21.\n"
     ]
    },
    {
     "name": "stdout",
     "output_type": "stream",
     "text": [
      "[LightGBM] [Warning] lambda_l1 is set=0, reg_alpha=0.0 will be ignored. Current value: lambda_l1=0\n",
      "[LightGBM] [Warning] bagging_fraction is set=1.0, subsample=1.0 will be ignored. Current value: bagging_fraction=1.0\n",
      "[LightGBM] [Warning] feature_fraction is set=0.9, colsample_bytree=1.0 will be ignored. Current value: feature_fraction=0.9\n",
      "[LightGBM] [Warning] min_data_in_leaf is set=100, min_child_samples=20 will be ignored. Current value: min_data_in_leaf=100\n",
      "[LightGBM] [Warning] bagging_freq is set=1, subsample_freq=0 will be ignored. Current value: bagging_freq=1\n",
      "[LightGBM] [Warning] min_gain_to_split is set=12.100000000000001, min_split_gain=0.0 will be ignored. Current value: min_gain_to_split=12.100000000000001\n",
      "[LightGBM] [Warning] lambda_l2 is set=50, reg_lambda=0.0 will be ignored. Current value: lambda_l2=50\n",
      "Training until validation scores don't improve for 20 rounds\n"
     ]
    },
    {
     "name": "stderr",
     "output_type": "stream",
     "text": [
      "[I 2023-09-10 06:32:46,593] Trial 310 pruned. Trial was pruned at iteration 0.\n",
      "[I 2023-09-10 06:32:46,883] Trial 311 pruned. Trial was pruned at iteration 21.\n"
     ]
    },
    {
     "name": "stdout",
     "output_type": "stream",
     "text": [
      "Training until validation scores don't improve for 20 rounds\n"
     ]
    },
    {
     "name": "stderr",
     "output_type": "stream",
     "text": [
      "[I 2023-09-10 06:32:47,159] Trial 312 pruned. Trial was pruned at iteration 0.\n",
      "[I 2023-09-10 06:32:47,463] Trial 313 finished with value: 0.6932877111240536 and parameters: {'n_estimators': 100, 'learning_rate': 0.5, 'num_leaves': 540, 'max_depth': 11, 'min_data_in_leaf': 100, 'lambda_l1': 10, 'lambda_l2': 45, 'min_gain_to_split': 13.200000000000001, 'bagging_fraction': 1.0, 'bagging_freq': 1, 'feature_fraction': 0.9}. Best is trial 21 with value: 0.8300815375655213.\n"
     ]
    },
    {
     "name": "stdout",
     "output_type": "stream",
     "text": [
      "Training until validation scores don't improve for 20 rounds\n",
      "Early stopping, best iteration is:\n",
      "[1]\tvalid_0's auc: 0.693288\tvalid_0's binary_logloss: 0.647859\n"
     ]
    },
    {
     "name": "stderr",
     "output_type": "stream",
     "text": [
      "[I 2023-09-10 06:32:47,735] Trial 314 pruned. Trial was pruned at iteration 0.\n"
     ]
    },
    {
     "name": "stdout",
     "output_type": "stream",
     "text": [
      "[LightGBM] [Warning] lambda_l1 is set=15, reg_alpha=0.0 will be ignored. Current value: lambda_l1=15\n",
      "[LightGBM] [Warning] bagging_fraction is set=1.0, subsample=1.0 will be ignored. Current value: bagging_fraction=1.0\n",
      "[LightGBM] [Warning] feature_fraction is set=0.9, colsample_bytree=1.0 will be ignored. Current value: feature_fraction=0.9\n",
      "[LightGBM] [Warning] min_data_in_leaf is set=100, min_child_samples=20 will be ignored. Current value: min_data_in_leaf=100\n",
      "[LightGBM] [Warning] bagging_freq is set=1, subsample_freq=0 will be ignored. Current value: bagging_freq=1\n",
      "[LightGBM] [Warning] min_gain_to_split is set=12.4, min_split_gain=0.0 will be ignored. Current value: min_gain_to_split=12.4\n",
      "[LightGBM] [Warning] lambda_l2 is set=50, reg_lambda=0.0 will be ignored. Current value: lambda_l2=50\n"
     ]
    },
    {
     "name": "stderr",
     "output_type": "stream",
     "text": [
      "[I 2023-09-10 06:32:48,025] Trial 315 pruned. Trial was pruned at iteration 21.\n"
     ]
    },
    {
     "name": "stdout",
     "output_type": "stream",
     "text": [
      "Training until validation scores don't improve for 20 rounds\n"
     ]
    },
    {
     "name": "stderr",
     "output_type": "stream",
     "text": [
      "[I 2023-09-10 06:32:48,314] Trial 316 pruned. Trial was pruned at iteration 21.\n"
     ]
    },
    {
     "name": "stdout",
     "output_type": "stream",
     "text": [
      "Training until validation scores don't improve for 20 rounds\n"
     ]
    },
    {
     "name": "stderr",
     "output_type": "stream",
     "text": [
      "[I 2023-09-10 06:32:48,587] Trial 317 pruned. Trial was pruned at iteration 0.\n",
      "[I 2023-09-10 06:32:48,857] Trial 318 pruned. Trial was pruned at iteration 0.\n",
      "[I 2023-09-10 06:32:49,142] Trial 319 pruned. Trial was pruned at iteration 21.\n"
     ]
    },
    {
     "name": "stdout",
     "output_type": "stream",
     "text": [
      "Training until validation scores don't improve for 20 rounds\n"
     ]
    },
    {
     "name": "stderr",
     "output_type": "stream",
     "text": [
      "[I 2023-09-10 06:32:49,475] Trial 320 finished with value: 0.6932877111240536 and parameters: {'n_estimators': 100, 'learning_rate': 0.2, 'num_leaves': 580, 'max_depth': 12, 'min_data_in_leaf': 100, 'lambda_l1': 10, 'lambda_l2': 55, 'min_gain_to_split': 12.8, 'bagging_fraction': 1.0, 'bagging_freq': 1, 'feature_fraction': 0.9}. Best is trial 21 with value: 0.8300815375655213.\n"
     ]
    },
    {
     "name": "stdout",
     "output_type": "stream",
     "text": [
      "Training until validation scores don't improve for 20 rounds\n",
      "Early stopping, best iteration is:\n",
      "[1]\tvalid_0's auc: 0.693288\tvalid_0's binary_logloss: 0.664486\n"
     ]
    },
    {
     "name": "stderr",
     "output_type": "stream",
     "text": [
      "[I 2023-09-10 06:32:49,813] Trial 321 finished with value: 0.6932877111240536 and parameters: {'n_estimators': 100, 'learning_rate': 0.2, 'num_leaves': 540, 'max_depth': 10, 'min_data_in_leaf': 100, 'lambda_l1': 10, 'lambda_l2': 45, 'min_gain_to_split': 13.600000000000001, 'bagging_fraction': 1.0, 'bagging_freq': 1, 'feature_fraction': 0.9}. Best is trial 21 with value: 0.8300815375655213.\n"
     ]
    },
    {
     "name": "stdout",
     "output_type": "stream",
     "text": [
      "[LightGBM] [Warning] lambda_l1 is set=10, reg_alpha=0.0 will be ignored. Current value: lambda_l1=10\n",
      "[LightGBM] [Warning] bagging_fraction is set=1.0, subsample=1.0 will be ignored. Current value: bagging_fraction=1.0\n",
      "[LightGBM] [Warning] feature_fraction is set=0.9, colsample_bytree=1.0 will be ignored. Current value: feature_fraction=0.9\n",
      "[LightGBM] [Warning] min_data_in_leaf is set=100, min_child_samples=20 will be ignored. Current value: min_data_in_leaf=100\n",
      "[LightGBM] [Warning] bagging_freq is set=1, subsample_freq=0 will be ignored. Current value: bagging_freq=1\n",
      "[LightGBM] [Warning] min_gain_to_split is set=13.600000000000001, min_split_gain=0.0 will be ignored. Current value: min_gain_to_split=13.600000000000001\n",
      "[LightGBM] [Warning] lambda_l2 is set=45, reg_lambda=0.0 will be ignored. Current value: lambda_l2=45\n",
      "Training until validation scores don't improve for 20 rounds\n",
      "Early stopping, best iteration is:\n",
      "[1]\tvalid_0's auc: 0.693288\tvalid_0's binary_logloss: 0.663577\n"
     ]
    },
    {
     "name": "stderr",
     "output_type": "stream",
     "text": [
      "[I 2023-09-10 06:32:50,119] Trial 322 finished with value: 0.8038002329644729 and parameters: {'n_estimators': 600, 'learning_rate': 0.5, 'num_leaves': 180, 'max_depth': 12, 'min_data_in_leaf': 100, 'lambda_l1': 0, 'lambda_l2': 50, 'min_gain_to_split': 7.1000000000000005, 'bagging_fraction': 1.0, 'bagging_freq': 1, 'feature_fraction': 0.9}. Best is trial 21 with value: 0.8300815375655213.\n"
     ]
    },
    {
     "name": "stdout",
     "output_type": "stream",
     "text": [
      "[LightGBM] [Warning] lambda_l1 is set=0, reg_alpha=0.0 will be ignored. Current value: lambda_l1=0\n",
      "[LightGBM] [Warning] bagging_fraction is set=1.0, subsample=1.0 will be ignored. Current value: bagging_fraction=1.0\n",
      "[LightGBM] [Warning] feature_fraction is set=0.9, colsample_bytree=1.0 will be ignored. Current value: feature_fraction=0.9\n",
      "[LightGBM] [Warning] min_data_in_leaf is set=100, min_child_samples=20 will be ignored. Current value: min_data_in_leaf=100\n",
      "[LightGBM] [Warning] bagging_freq is set=1, subsample_freq=0 will be ignored. Current value: bagging_freq=1\n",
      "[LightGBM] [Warning] min_gain_to_split is set=7.1000000000000005, min_split_gain=0.0 will be ignored. Current value: min_gain_to_split=7.1000000000000005\n",
      "[LightGBM] [Warning] lambda_l2 is set=50, reg_lambda=0.0 will be ignored. Current value: lambda_l2=50\n",
      "Training until validation scores don't improve for 20 rounds\n",
      "Early stopping, best iteration is:\n",
      "[8]\tvalid_0's auc: 0.8038\tvalid_0's binary_logloss: 0.573799\n"
     ]
    },
    {
     "name": "stderr",
     "output_type": "stream",
     "text": [
      "[I 2023-09-10 06:32:50,455] Trial 323 finished with value: 0.8032906231799651 and parameters: {'n_estimators': 600, 'learning_rate': 0.5, 'num_leaves': 180, 'max_depth': 5, 'min_data_in_leaf': 100, 'lambda_l1': 0, 'lambda_l2': 50, 'min_gain_to_split': 9.1, 'bagging_fraction': 1.0, 'bagging_freq': 1, 'feature_fraction': 0.9}. Best is trial 21 with value: 0.8300815375655213.\n"
     ]
    },
    {
     "name": "stdout",
     "output_type": "stream",
     "text": [
      "[LightGBM] [Warning] lambda_l1 is set=0, reg_alpha=0.0 will be ignored. Current value: lambda_l1=0\n",
      "[LightGBM] [Warning] bagging_fraction is set=1.0, subsample=1.0 will be ignored. Current value: bagging_fraction=1.0\n",
      "[LightGBM] [Warning] feature_fraction is set=0.9, colsample_bytree=1.0 will be ignored. Current value: feature_fraction=0.9\n",
      "[LightGBM] [Warning] min_data_in_leaf is set=100, min_child_samples=20 will be ignored. Current value: min_data_in_leaf=100\n",
      "[LightGBM] [Warning] bagging_freq is set=1, subsample_freq=0 will be ignored. Current value: bagging_freq=1\n",
      "[LightGBM] [Warning] min_gain_to_split is set=9.1, min_split_gain=0.0 will be ignored. Current value: min_gain_to_split=9.1\n",
      "[LightGBM] [Warning] lambda_l2 is set=50, reg_lambda=0.0 will be ignored. Current value: lambda_l2=50\n",
      "Training until validation scores don't improve for 20 rounds\n",
      "Early stopping, best iteration is:\n",
      "[6]\tvalid_0's auc: 0.803291\tvalid_0's binary_logloss: 0.576405\n"
     ]
    },
    {
     "name": "stderr",
     "output_type": "stream",
     "text": [
      "[I 2023-09-10 06:32:50,741] Trial 324 pruned. Trial was pruned at iteration 21.\n"
     ]
    },
    {
     "name": "stdout",
     "output_type": "stream",
     "text": [
      "[LightGBM] [Warning] lambda_l1 is set=0, reg_alpha=0.0 will be ignored. Current value: lambda_l1=0\n",
      "[LightGBM] [Warning] bagging_fraction is set=1.0, subsample=1.0 will be ignored. Current value: bagging_fraction=1.0\n",
      "[LightGBM] [Warning] feature_fraction is set=0.9, colsample_bytree=1.0 will be ignored. Current value: feature_fraction=0.9\n",
      "[LightGBM] [Warning] min_data_in_leaf is set=100, min_child_samples=20 will be ignored. Current value: min_data_in_leaf=100\n",
      "[LightGBM] [Warning] bagging_freq is set=1, subsample_freq=0 will be ignored. Current value: bagging_freq=1\n",
      "[LightGBM] [Warning] min_gain_to_split is set=9.1, min_split_gain=0.0 will be ignored. Current value: min_gain_to_split=9.1\n",
      "[LightGBM] [Warning] lambda_l2 is set=70, reg_lambda=0.0 will be ignored. Current value: lambda_l2=70\n",
      "Training until validation scores don't improve for 20 rounds\n"
     ]
    },
    {
     "name": "stderr",
     "output_type": "stream",
     "text": [
      "[I 2023-09-10 06:32:51,015] Trial 325 pruned. Trial was pruned at iteration 0.\n",
      "[I 2023-09-10 06:32:51,309] Trial 326 pruned. Trial was pruned at iteration 29.\n"
     ]
    },
    {
     "name": "stdout",
     "output_type": "stream",
     "text": [
      "Training until validation scores don't improve for 20 rounds\n"
     ]
    },
    {
     "name": "stderr",
     "output_type": "stream",
     "text": [
      "[I 2023-09-10 06:32:51,604] Trial 327 pruned. Trial was pruned at iteration 29.\n"
     ]
    },
    {
     "name": "stdout",
     "output_type": "stream",
     "text": [
      "Training until validation scores don't improve for 20 rounds\n"
     ]
    },
    {
     "name": "stderr",
     "output_type": "stream",
     "text": [
      "[I 2023-09-10 06:32:51,906] Trial 328 pruned. Trial was pruned at iteration 0.\n",
      "[I 2023-09-10 06:32:52,202] Trial 329 pruned. Trial was pruned at iteration 21.\n"
     ]
    },
    {
     "name": "stdout",
     "output_type": "stream",
     "text": [
      "Training until validation scores don't improve for 20 rounds\n"
     ]
    },
    {
     "name": "stderr",
     "output_type": "stream",
     "text": [
      "[I 2023-09-10 06:32:52,481] Trial 330 pruned. Trial was pruned at iteration 0.\n",
      "[I 2023-09-10 06:32:52,807] Trial 331 pruned. Trial was pruned at iteration 21.\n"
     ]
    },
    {
     "name": "stdout",
     "output_type": "stream",
     "text": [
      "Training until validation scores don't improve for 20 rounds\n"
     ]
    },
    {
     "name": "stderr",
     "output_type": "stream",
     "text": [
      "[I 2023-09-10 06:32:53,134] Trial 332 pruned. Trial was pruned at iteration 21.\n"
     ]
    },
    {
     "name": "stdout",
     "output_type": "stream",
     "text": [
      "Training until validation scores don't improve for 20 rounds\n"
     ]
    },
    {
     "name": "stderr",
     "output_type": "stream",
     "text": [
      "[I 2023-09-10 06:32:53,483] Trial 333 finished with value: 0.8030722189866045 and parameters: {'n_estimators': 600, 'learning_rate': 0.5, 'num_leaves': 120, 'max_depth': 5, 'min_data_in_leaf': 100, 'lambda_l1': 0, 'lambda_l2': 55, 'min_gain_to_split': 6.7, 'bagging_fraction': 1.0, 'bagging_freq': 1, 'feature_fraction': 0.9}. Best is trial 21 with value: 0.8300815375655213.\n"
     ]
    },
    {
     "name": "stdout",
     "output_type": "stream",
     "text": [
      "Training until validation scores don't improve for 20 rounds\n",
      "Early stopping, best iteration is:\n",
      "[9]\tvalid_0's auc: 0.803072\tvalid_0's binary_logloss: 0.576857\n"
     ]
    },
    {
     "name": "stderr",
     "output_type": "stream",
     "text": [
      "[I 2023-09-10 06:32:53,814] Trial 334 pruned. Trial was pruned at iteration 21.\n"
     ]
    },
    {
     "name": "stdout",
     "output_type": "stream",
     "text": [
      "[LightGBM] [Warning] lambda_l1 is set=0, reg_alpha=0.0 will be ignored. Current value: lambda_l1=0\n",
      "[LightGBM] [Warning] bagging_fraction is set=1.0, subsample=1.0 will be ignored. Current value: bagging_fraction=1.0\n",
      "[LightGBM] [Warning] feature_fraction is set=0.9, colsample_bytree=1.0 will be ignored. Current value: feature_fraction=0.9\n",
      "[LightGBM] [Warning] min_data_in_leaf is set=100, min_child_samples=20 will be ignored. Current value: min_data_in_leaf=100\n",
      "[LightGBM] [Warning] bagging_freq is set=1, subsample_freq=0 will be ignored. Current value: bagging_freq=1\n",
      "[LightGBM] [Warning] min_gain_to_split is set=6.9, min_split_gain=0.0 will be ignored. Current value: min_gain_to_split=6.9\n",
      "[LightGBM] [Warning] lambda_l2 is set=60, reg_lambda=0.0 will be ignored. Current value: lambda_l2=60\n",
      "Training until validation scores don't improve for 20 rounds\n"
     ]
    },
    {
     "name": "stderr",
     "output_type": "stream",
     "text": [
      "[I 2023-09-10 06:32:54,141] Trial 335 pruned. Trial was pruned at iteration 21.\n"
     ]
    },
    {
     "name": "stdout",
     "output_type": "stream",
     "text": [
      "Training until validation scores don't improve for 20 rounds\n"
     ]
    },
    {
     "name": "stderr",
     "output_type": "stream",
     "text": [
      "[I 2023-09-10 06:32:54,431] Trial 336 pruned. Trial was pruned at iteration 21.\n"
     ]
    },
    {
     "name": "stdout",
     "output_type": "stream",
     "text": [
      "Training until validation scores don't improve for 20 rounds\n"
     ]
    },
    {
     "name": "stderr",
     "output_type": "stream",
     "text": [
      "[I 2023-09-10 06:32:54,758] Trial 337 pruned. Trial was pruned at iteration 21.\n"
     ]
    },
    {
     "name": "stdout",
     "output_type": "stream",
     "text": [
      "Training until validation scores don't improve for 20 rounds\n"
     ]
    },
    {
     "name": "stderr",
     "output_type": "stream",
     "text": [
      "[I 2023-09-10 06:32:55,072] Trial 338 pruned. Trial was pruned at iteration 21.\n"
     ]
    },
    {
     "name": "stdout",
     "output_type": "stream",
     "text": [
      "Training until validation scores don't improve for 20 rounds\n"
     ]
    },
    {
     "name": "stderr",
     "output_type": "stream",
     "text": [
      "[I 2023-09-10 06:32:55,371] Trial 339 pruned. Trial was pruned at iteration 0.\n",
      "[I 2023-09-10 06:32:55,668] Trial 340 pruned. Trial was pruned at iteration 21.\n"
     ]
    },
    {
     "name": "stdout",
     "output_type": "stream",
     "text": [
      "Training until validation scores don't improve for 20 rounds\n"
     ]
    },
    {
     "name": "stderr",
     "output_type": "stream",
     "text": [
      "[I 2023-09-10 06:32:55,990] Trial 341 pruned. Trial was pruned at iteration 21.\n"
     ]
    },
    {
     "name": "stdout",
     "output_type": "stream",
     "text": [
      "Training until validation scores don't improve for 20 rounds\n"
     ]
    },
    {
     "name": "stderr",
     "output_type": "stream",
     "text": [
      "[I 2023-09-10 06:32:56,297] Trial 342 pruned. Trial was pruned at iteration 21.\n"
     ]
    },
    {
     "name": "stdout",
     "output_type": "stream",
     "text": [
      "Training until validation scores don't improve for 20 rounds\n"
     ]
    },
    {
     "name": "stderr",
     "output_type": "stream",
     "text": [
      "[I 2023-09-10 06:32:56,588] Trial 343 pruned. Trial was pruned at iteration 21.\n"
     ]
    },
    {
     "name": "stdout",
     "output_type": "stream",
     "text": [
      "Training until validation scores don't improve for 20 rounds\n"
     ]
    },
    {
     "name": "stderr",
     "output_type": "stream",
     "text": [
      "[I 2023-09-10 06:32:56,878] Trial 344 pruned. Trial was pruned at iteration 21.\n"
     ]
    },
    {
     "name": "stdout",
     "output_type": "stream",
     "text": [
      "Training until validation scores don't improve for 20 rounds\n"
     ]
    },
    {
     "name": "stderr",
     "output_type": "stream",
     "text": [
      "[I 2023-09-10 06:32:57,210] Trial 345 pruned. Trial was pruned at iteration 21.\n"
     ]
    },
    {
     "name": "stdout",
     "output_type": "stream",
     "text": [
      "Training until validation scores don't improve for 20 rounds\n"
     ]
    },
    {
     "name": "stderr",
     "output_type": "stream",
     "text": [
      "[I 2023-09-10 06:32:57,502] Trial 346 pruned. Trial was pruned at iteration 21.\n"
     ]
    },
    {
     "name": "stdout",
     "output_type": "stream",
     "text": [
      "Training until validation scores don't improve for 20 rounds\n"
     ]
    },
    {
     "name": "stderr",
     "output_type": "stream",
     "text": [
      "[I 2023-09-10 06:32:57,796] Trial 347 pruned. Trial was pruned at iteration 21.\n"
     ]
    },
    {
     "name": "stdout",
     "output_type": "stream",
     "text": [
      "Training until validation scores don't improve for 20 rounds\n"
     ]
    },
    {
     "name": "stderr",
     "output_type": "stream",
     "text": [
      "[I 2023-09-10 06:32:58,065] Trial 348 pruned. Trial was pruned at iteration 0.\n",
      "[I 2023-09-10 06:32:58,355] Trial 349 pruned. Trial was pruned at iteration 21.\n"
     ]
    },
    {
     "name": "stdout",
     "output_type": "stream",
     "text": [
      "Training until validation scores don't improve for 20 rounds\n"
     ]
    },
    {
     "name": "stderr",
     "output_type": "stream",
     "text": [
      "[I 2023-09-10 06:32:58,630] Trial 350 pruned. Trial was pruned at iteration 0.\n",
      "[I 2023-09-10 06:32:58,925] Trial 351 pruned. Trial was pruned at iteration 21.\n"
     ]
    },
    {
     "name": "stdout",
     "output_type": "stream",
     "text": [
      "Training until validation scores don't improve for 20 rounds\n"
     ]
    },
    {
     "name": "stderr",
     "output_type": "stream",
     "text": [
      "[I 2023-09-10 06:32:59,206] Trial 352 pruned. Trial was pruned at iteration 0.\n",
      "[I 2023-09-10 06:32:59,483] Trial 353 pruned. Trial was pruned at iteration 0.\n",
      "[I 2023-09-10 06:32:59,763] Trial 354 pruned. Trial was pruned at iteration 0.\n",
      "[I 2023-09-10 06:33:00,209] Trial 355 pruned. Trial was pruned at iteration 21.\n"
     ]
    },
    {
     "name": "stdout",
     "output_type": "stream",
     "text": [
      "Training until validation scores don't improve for 20 rounds\n"
     ]
    },
    {
     "name": "stderr",
     "output_type": "stream",
     "text": [
      "[I 2023-09-10 06:33:00,533] Trial 356 finished with value: 0.8032906231799651 and parameters: {'n_estimators': 100, 'learning_rate': 0.5, 'num_leaves': 500, 'max_depth': 12, 'min_data_in_leaf': 100, 'lambda_l1': 0, 'lambda_l2': 50, 'min_gain_to_split': 9.5, 'bagging_fraction': 1.0, 'bagging_freq': 1, 'feature_fraction': 0.9}. Best is trial 21 with value: 0.8300815375655213.\n"
     ]
    },
    {
     "name": "stdout",
     "output_type": "stream",
     "text": [
      "Training until validation scores don't improve for 20 rounds\n",
      "Early stopping, best iteration is:\n",
      "[6]\tvalid_0's auc: 0.803291\tvalid_0's binary_logloss: 0.576405\n"
     ]
    },
    {
     "name": "stderr",
     "output_type": "stream",
     "text": [
      "[I 2023-09-10 06:33:00,846] Trial 357 finished with value: 0.8032906231799651 and parameters: {'n_estimators': 200, 'learning_rate': 0.5, 'num_leaves': 440, 'max_depth': 12, 'min_data_in_leaf': 100, 'lambda_l1': 0, 'lambda_l2': 50, 'min_gain_to_split': 9.5, 'bagging_fraction': 1.0, 'bagging_freq': 1, 'feature_fraction': 0.9}. Best is trial 21 with value: 0.8300815375655213.\n"
     ]
    },
    {
     "name": "stdout",
     "output_type": "stream",
     "text": [
      "[LightGBM] [Warning] lambda_l1 is set=0, reg_alpha=0.0 will be ignored. Current value: lambda_l1=0\n",
      "[LightGBM] [Warning] bagging_fraction is set=1.0, subsample=1.0 will be ignored. Current value: bagging_fraction=1.0\n",
      "[LightGBM] [Warning] feature_fraction is set=0.9, colsample_bytree=1.0 will be ignored. Current value: feature_fraction=0.9\n",
      "[LightGBM] [Warning] min_data_in_leaf is set=100, min_child_samples=20 will be ignored. Current value: min_data_in_leaf=100\n",
      "[LightGBM] [Warning] bagging_freq is set=1, subsample_freq=0 will be ignored. Current value: bagging_freq=1\n",
      "[LightGBM] [Warning] min_gain_to_split is set=9.5, min_split_gain=0.0 will be ignored. Current value: min_gain_to_split=9.5\n",
      "[LightGBM] [Warning] lambda_l2 is set=50, reg_lambda=0.0 will be ignored. Current value: lambda_l2=50\n",
      "Training until validation scores don't improve for 20 rounds\n",
      "Early stopping, best iteration is:\n",
      "[6]\tvalid_0's auc: 0.803291\tvalid_0's binary_logloss: 0.576405\n"
     ]
    },
    {
     "name": "stderr",
     "output_type": "stream",
     "text": [
      "[I 2023-09-10 06:33:01,139] Trial 358 pruned. Trial was pruned at iteration 21.\n"
     ]
    },
    {
     "name": "stdout",
     "output_type": "stream",
     "text": [
      "[LightGBM] [Warning] lambda_l1 is set=0, reg_alpha=0.0 will be ignored. Current value: lambda_l1=0\n",
      "[LightGBM] [Warning] bagging_fraction is set=1.0, subsample=1.0 will be ignored. Current value: bagging_fraction=1.0\n",
      "[LightGBM] [Warning] feature_fraction is set=0.9, colsample_bytree=1.0 will be ignored. Current value: feature_fraction=0.9\n",
      "[LightGBM] [Warning] min_data_in_leaf is set=100, min_child_samples=20 will be ignored. Current value: min_data_in_leaf=100\n",
      "[LightGBM] [Warning] bagging_freq is set=1, subsample_freq=0 will be ignored. Current value: bagging_freq=1\n",
      "[LightGBM] [Warning] min_gain_to_split is set=10.0, min_split_gain=0.0 will be ignored. Current value: min_gain_to_split=10.0\n",
      "[LightGBM] [Warning] lambda_l2 is set=50, reg_lambda=0.0 will be ignored. Current value: lambda_l2=50\n",
      "Training until validation scores don't improve for 20 rounds\n"
     ]
    },
    {
     "name": "stderr",
     "output_type": "stream",
     "text": [
      "[I 2023-09-10 06:33:01,436] Trial 359 pruned. Trial was pruned at iteration 21.\n"
     ]
    },
    {
     "name": "stdout",
     "output_type": "stream",
     "text": [
      "Training until validation scores don't improve for 20 rounds\n"
     ]
    },
    {
     "name": "stderr",
     "output_type": "stream",
     "text": [
      "[I 2023-09-10 06:33:01,753] Trial 360 finished with value: 0.8032906231799651 and parameters: {'n_estimators': 200, 'learning_rate': 0.5, 'num_leaves': 500, 'max_depth': 5, 'min_data_in_leaf': 100, 'lambda_l1': 0, 'lambda_l2': 50, 'min_gain_to_split': 9.4, 'bagging_fraction': 1.0, 'bagging_freq': 1, 'feature_fraction': 0.9}. Best is trial 21 with value: 0.8300815375655213.\n"
     ]
    },
    {
     "name": "stdout",
     "output_type": "stream",
     "text": [
      "Training until validation scores don't improve for 20 rounds\n",
      "Early stopping, best iteration is:\n",
      "[6]\tvalid_0's auc: 0.803291\tvalid_0's binary_logloss: 0.576405\n"
     ]
    },
    {
     "name": "stderr",
     "output_type": "stream",
     "text": [
      "[I 2023-09-10 06:33:02,025] Trial 361 pruned. Trial was pruned at iteration 0.\n"
     ]
    },
    {
     "name": "stdout",
     "output_type": "stream",
     "text": [
      "[LightGBM] [Warning] lambda_l1 is set=0, reg_alpha=0.0 will be ignored. Current value: lambda_l1=0\n",
      "[LightGBM] [Warning] bagging_fraction is set=1.0, subsample=1.0 will be ignored. Current value: bagging_fraction=1.0\n",
      "[LightGBM] [Warning] feature_fraction is set=0.9, colsample_bytree=1.0 will be ignored. Current value: feature_fraction=0.9\n",
      "[LightGBM] [Warning] min_data_in_leaf is set=400, min_child_samples=20 will be ignored. Current value: min_data_in_leaf=400\n",
      "[LightGBM] [Warning] bagging_freq is set=1, subsample_freq=0 will be ignored. Current value: bagging_freq=1\n",
      "[LightGBM] [Warning] min_gain_to_split is set=9.0, min_split_gain=0.0 will be ignored. Current value: min_gain_to_split=9.0\n",
      "[LightGBM] [Warning] lambda_l2 is set=50, reg_lambda=0.0 will be ignored. Current value: lambda_l2=50\n"
     ]
    },
    {
     "name": "stderr",
     "output_type": "stream",
     "text": [
      "[I 2023-09-10 06:33:02,306] Trial 362 pruned. Trial was pruned at iteration 0.\n",
      "[I 2023-09-10 06:33:02,599] Trial 363 pruned. Trial was pruned at iteration 21.\n"
     ]
    },
    {
     "name": "stdout",
     "output_type": "stream",
     "text": [
      "Training until validation scores don't improve for 20 rounds\n"
     ]
    },
    {
     "name": "stderr",
     "output_type": "stream",
     "text": [
      "[I 2023-09-10 06:33:02,915] Trial 364 finished with value: 0.8031450203843914 and parameters: {'n_estimators': 200, 'learning_rate': 0.5, 'num_leaves': 460, 'max_depth': 5, 'min_data_in_leaf': 100, 'lambda_l1': 0, 'lambda_l2': 55, 'min_gain_to_split': 9.4, 'bagging_fraction': 1.0, 'bagging_freq': 1, 'feature_fraction': 0.9}. Best is trial 21 with value: 0.8300815375655213.\n"
     ]
    },
    {
     "name": "stdout",
     "output_type": "stream",
     "text": [
      "Training until validation scores don't improve for 20 rounds\n",
      "Early stopping, best iteration is:\n",
      "[6]\tvalid_0's auc: 0.803145\tvalid_0's binary_logloss: 0.578641\n"
     ]
    },
    {
     "name": "stderr",
     "output_type": "stream",
     "text": [
      "[I 2023-09-10 06:33:03,212] Trial 365 pruned. Trial was pruned at iteration 21.\n"
     ]
    },
    {
     "name": "stdout",
     "output_type": "stream",
     "text": [
      "[LightGBM] [Warning] lambda_l1 is set=0, reg_alpha=0.0 will be ignored. Current value: lambda_l1=0\n",
      "[LightGBM] [Warning] bagging_fraction is set=1.0, subsample=1.0 will be ignored. Current value: bagging_fraction=1.0\n",
      "[LightGBM] [Warning] feature_fraction is set=0.9, colsample_bytree=1.0 will be ignored. Current value: feature_fraction=0.9\n",
      "[LightGBM] [Warning] min_data_in_leaf is set=100, min_child_samples=20 will be ignored. Current value: min_data_in_leaf=100\n",
      "[LightGBM] [Warning] bagging_freq is set=1, subsample_freq=0 will be ignored. Current value: bagging_freq=1\n",
      "[LightGBM] [Warning] min_gain_to_split is set=9.5, min_split_gain=0.0 will be ignored. Current value: min_gain_to_split=9.5\n",
      "[LightGBM] [Warning] lambda_l2 is set=55, reg_lambda=0.0 will be ignored. Current value: lambda_l2=55\n",
      "Training until validation scores don't improve for 20 rounds\n"
     ]
    },
    {
     "name": "stderr",
     "output_type": "stream",
     "text": [
      "[I 2023-09-10 06:33:03,550] Trial 366 finished with value: 0.8060570762958649 and parameters: {'n_estimators': 200, 'learning_rate': 0.5, 'num_leaves': 460, 'max_depth': 5, 'min_data_in_leaf': 100, 'lambda_l1': 0, 'lambda_l2': 60, 'min_gain_to_split': 9.1, 'bagging_fraction': 1.0, 'bagging_freq': 1, 'feature_fraction': 0.9}. Best is trial 21 with value: 0.8300815375655213.\n"
     ]
    },
    {
     "name": "stdout",
     "output_type": "stream",
     "text": [
      "Training until validation scores don't improve for 20 rounds\n",
      "Early stopping, best iteration is:\n",
      "[6]\tvalid_0's auc: 0.806057\tvalid_0's binary_logloss: 0.58076\n"
     ]
    },
    {
     "name": "stderr",
     "output_type": "stream",
     "text": [
      "[I 2023-09-10 06:33:03,866] Trial 367 finished with value: 0.8060570762958649 and parameters: {'n_estimators': 200, 'learning_rate': 0.5, 'num_leaves': 420, 'max_depth': 5, 'min_data_in_leaf': 100, 'lambda_l1': 0, 'lambda_l2': 60, 'min_gain_to_split': 9.1, 'bagging_fraction': 1.0, 'bagging_freq': 1, 'feature_fraction': 0.9}. Best is trial 21 with value: 0.8300815375655213.\n"
     ]
    },
    {
     "name": "stdout",
     "output_type": "stream",
     "text": [
      "[LightGBM] [Warning] lambda_l1 is set=0, reg_alpha=0.0 will be ignored. Current value: lambda_l1=0\n",
      "[LightGBM] [Warning] bagging_fraction is set=1.0, subsample=1.0 will be ignored. Current value: bagging_fraction=1.0\n",
      "[LightGBM] [Warning] feature_fraction is set=0.9, colsample_bytree=1.0 will be ignored. Current value: feature_fraction=0.9\n",
      "[LightGBM] [Warning] min_data_in_leaf is set=100, min_child_samples=20 will be ignored. Current value: min_data_in_leaf=100\n",
      "[LightGBM] [Warning] bagging_freq is set=1, subsample_freq=0 will be ignored. Current value: bagging_freq=1\n",
      "[LightGBM] [Warning] min_gain_to_split is set=9.1, min_split_gain=0.0 will be ignored. Current value: min_gain_to_split=9.1\n",
      "[LightGBM] [Warning] lambda_l2 is set=60, reg_lambda=0.0 will be ignored. Current value: lambda_l2=60\n",
      "Training until validation scores don't improve for 20 rounds\n",
      "Early stopping, best iteration is:\n",
      "[6]\tvalid_0's auc: 0.806057\tvalid_0's binary_logloss: 0.58076\n"
     ]
    },
    {
     "name": "stderr",
     "output_type": "stream",
     "text": [
      "[I 2023-09-10 06:33:04,177] Trial 368 finished with value: 0.8025626092020967 and parameters: {'n_estimators': 200, 'learning_rate': 0.5, 'num_leaves': 440, 'max_depth': 5, 'min_data_in_leaf': 100, 'lambda_l1': 0, 'lambda_l2': 65, 'min_gain_to_split': 9.1, 'bagging_fraction': 1.0, 'bagging_freq': 1, 'feature_fraction': 0.9}. Best is trial 21 with value: 0.8300815375655213.\n"
     ]
    },
    {
     "name": "stdout",
     "output_type": "stream",
     "text": [
      "[LightGBM] [Warning] lambda_l1 is set=0, reg_alpha=0.0 will be ignored. Current value: lambda_l1=0\n",
      "[LightGBM] [Warning] bagging_fraction is set=1.0, subsample=1.0 will be ignored. Current value: bagging_fraction=1.0\n",
      "[LightGBM] [Warning] feature_fraction is set=0.9, colsample_bytree=1.0 will be ignored. Current value: feature_fraction=0.9\n",
      "[LightGBM] [Warning] min_data_in_leaf is set=100, min_child_samples=20 will be ignored. Current value: min_data_in_leaf=100\n",
      "[LightGBM] [Warning] bagging_freq is set=1, subsample_freq=0 will be ignored. Current value: bagging_freq=1\n",
      "[LightGBM] [Warning] min_gain_to_split is set=9.1, min_split_gain=0.0 will be ignored. Current value: min_gain_to_split=9.1\n",
      "[LightGBM] [Warning] lambda_l2 is set=65, reg_lambda=0.0 will be ignored. Current value: lambda_l2=65\n",
      "Training until validation scores don't improve for 20 rounds\n",
      "Early stopping, best iteration is:\n",
      "[6]\tvalid_0's auc: 0.802563\tvalid_0's binary_logloss: 0.582765\n"
     ]
    },
    {
     "name": "stderr",
     "output_type": "stream",
     "text": [
      "[I 2023-09-10 06:33:04,524] Trial 369 finished with value: 0.8025626092020967 and parameters: {'n_estimators': 200, 'learning_rate': 0.5, 'num_leaves': 440, 'max_depth': 5, 'min_data_in_leaf': 100, 'lambda_l1': 0, 'lambda_l2': 65, 'min_gain_to_split': 8.8, 'bagging_fraction': 1.0, 'bagging_freq': 1, 'feature_fraction': 0.9}. Best is trial 21 with value: 0.8300815375655213.\n"
     ]
    },
    {
     "name": "stdout",
     "output_type": "stream",
     "text": [
      "[LightGBM] [Warning] lambda_l1 is set=0, reg_alpha=0.0 will be ignored. Current value: lambda_l1=0\n",
      "[LightGBM] [Warning] bagging_fraction is set=1.0, subsample=1.0 will be ignored. Current value: bagging_fraction=1.0\n",
      "[LightGBM] [Warning] feature_fraction is set=0.9, colsample_bytree=1.0 will be ignored. Current value: feature_fraction=0.9\n",
      "[LightGBM] [Warning] min_data_in_leaf is set=100, min_child_samples=20 will be ignored. Current value: min_data_in_leaf=100\n",
      "[LightGBM] [Warning] bagging_freq is set=1, subsample_freq=0 will be ignored. Current value: bagging_freq=1\n",
      "[LightGBM] [Warning] min_gain_to_split is set=8.8, min_split_gain=0.0 will be ignored. Current value: min_gain_to_split=8.8\n",
      "[LightGBM] [Warning] lambda_l2 is set=65, reg_lambda=0.0 will be ignored. Current value: lambda_l2=65\n",
      "Training until validation scores don't improve for 20 rounds\n",
      "Early stopping, best iteration is:\n",
      "[6]\tvalid_0's auc: 0.802563\tvalid_0's binary_logloss: 0.582765\n"
     ]
    },
    {
     "name": "stderr",
     "output_type": "stream",
     "text": [
      "[I 2023-09-10 06:33:04,834] Trial 370 finished with value: 0.8025626092020967 and parameters: {'n_estimators': 200, 'learning_rate': 0.5, 'num_leaves': 420, 'max_depth': 5, 'min_data_in_leaf': 100, 'lambda_l1': 0, 'lambda_l2': 65, 'min_gain_to_split': 9.0, 'bagging_fraction': 1.0, 'bagging_freq': 1, 'feature_fraction': 0.9}. Best is trial 21 with value: 0.8300815375655213.\n"
     ]
    },
    {
     "name": "stdout",
     "output_type": "stream",
     "text": [
      "[LightGBM] [Warning] lambda_l1 is set=0, reg_alpha=0.0 will be ignored. Current value: lambda_l1=0\n",
      "[LightGBM] [Warning] bagging_fraction is set=1.0, subsample=1.0 will be ignored. Current value: bagging_fraction=1.0\n",
      "[LightGBM] [Warning] feature_fraction is set=0.9, colsample_bytree=1.0 will be ignored. Current value: feature_fraction=0.9\n",
      "[LightGBM] [Warning] min_data_in_leaf is set=100, min_child_samples=20 will be ignored. Current value: min_data_in_leaf=100\n",
      "[LightGBM] [Warning] bagging_freq is set=1, subsample_freq=0 will be ignored. Current value: bagging_freq=1\n",
      "[LightGBM] [Warning] min_gain_to_split is set=9.0, min_split_gain=0.0 will be ignored. Current value: min_gain_to_split=9.0\n",
      "[LightGBM] [Warning] lambda_l2 is set=65, reg_lambda=0.0 will be ignored. Current value: lambda_l2=65\n",
      "Training until validation scores don't improve for 20 rounds\n",
      "Early stopping, best iteration is:\n",
      "[6]\tvalid_0's auc: 0.802563\tvalid_0's binary_logloss: 0.582765\n"
     ]
    },
    {
     "name": "stderr",
     "output_type": "stream",
     "text": [
      "[I 2023-09-10 06:33:05,144] Trial 371 finished with value: 0.8025626092020967 and parameters: {'n_estimators': 200, 'learning_rate': 0.5, 'num_leaves': 400, 'max_depth': 5, 'min_data_in_leaf': 100, 'lambda_l1': 0, 'lambda_l2': 65, 'min_gain_to_split': 8.700000000000001, 'bagging_fraction': 1.0, 'bagging_freq': 1, 'feature_fraction': 0.9}. Best is trial 21 with value: 0.8300815375655213.\n"
     ]
    },
    {
     "name": "stdout",
     "output_type": "stream",
     "text": [
      "[LightGBM] [Warning] lambda_l1 is set=0, reg_alpha=0.0 will be ignored. Current value: lambda_l1=0\n",
      "[LightGBM] [Warning] bagging_fraction is set=1.0, subsample=1.0 will be ignored. Current value: bagging_fraction=1.0\n",
      "[LightGBM] [Warning] feature_fraction is set=0.9, colsample_bytree=1.0 will be ignored. Current value: feature_fraction=0.9\n",
      "[LightGBM] [Warning] min_data_in_leaf is set=100, min_child_samples=20 will be ignored. Current value: min_data_in_leaf=100\n",
      "[LightGBM] [Warning] bagging_freq is set=1, subsample_freq=0 will be ignored. Current value: bagging_freq=1\n",
      "[LightGBM] [Warning] min_gain_to_split is set=8.700000000000001, min_split_gain=0.0 will be ignored. Current value: min_gain_to_split=8.700000000000001\n",
      "[LightGBM] [Warning] lambda_l2 is set=65, reg_lambda=0.0 will be ignored. Current value: lambda_l2=65\n",
      "Training until validation scores don't improve for 20 rounds\n",
      "Early stopping, best iteration is:\n",
      "[6]\tvalid_0's auc: 0.802563\tvalid_0's binary_logloss: 0.582765\n"
     ]
    },
    {
     "name": "stderr",
     "output_type": "stream",
     "text": [
      "[I 2023-09-10 06:33:05,454] Trial 372 finished with value: 0.8025626092020967 and parameters: {'n_estimators': 200, 'learning_rate': 0.5, 'num_leaves': 420, 'max_depth': 5, 'min_data_in_leaf': 100, 'lambda_l1': 0, 'lambda_l2': 65, 'min_gain_to_split': 8.700000000000001, 'bagging_fraction': 1.0, 'bagging_freq': 1, 'feature_fraction': 0.9}. Best is trial 21 with value: 0.8300815375655213.\n"
     ]
    },
    {
     "name": "stdout",
     "output_type": "stream",
     "text": [
      "[LightGBM] [Warning] lambda_l1 is set=0, reg_alpha=0.0 will be ignored. Current value: lambda_l1=0\n",
      "[LightGBM] [Warning] bagging_fraction is set=1.0, subsample=1.0 will be ignored. Current value: bagging_fraction=1.0\n",
      "[LightGBM] [Warning] feature_fraction is set=0.9, colsample_bytree=1.0 will be ignored. Current value: feature_fraction=0.9\n",
      "[LightGBM] [Warning] min_data_in_leaf is set=100, min_child_samples=20 will be ignored. Current value: min_data_in_leaf=100\n",
      "[LightGBM] [Warning] bagging_freq is set=1, subsample_freq=0 will be ignored. Current value: bagging_freq=1\n",
      "[LightGBM] [Warning] min_gain_to_split is set=8.700000000000001, min_split_gain=0.0 will be ignored. Current value: min_gain_to_split=8.700000000000001\n",
      "[LightGBM] [Warning] lambda_l2 is set=65, reg_lambda=0.0 will be ignored. Current value: lambda_l2=65\n",
      "Training until validation scores don't improve for 20 rounds\n",
      "Early stopping, best iteration is:\n",
      "[6]\tvalid_0's auc: 0.802563\tvalid_0's binary_logloss: 0.582765\n"
     ]
    },
    {
     "name": "stderr",
     "output_type": "stream",
     "text": [
      "[I 2023-09-10 06:33:05,732] Trial 373 pruned. Trial was pruned at iteration 0.\n"
     ]
    },
    {
     "name": "stdout",
     "output_type": "stream",
     "text": [
      "[LightGBM] [Warning] lambda_l1 is set=0, reg_alpha=0.0 will be ignored. Current value: lambda_l1=0\n",
      "[LightGBM] [Warning] bagging_fraction is set=0.30000000000000004, subsample=1.0 will be ignored. Current value: bagging_fraction=0.30000000000000004\n",
      "[LightGBM] [Warning] feature_fraction is set=0.9, colsample_bytree=1.0 will be ignored. Current value: feature_fraction=0.9\n",
      "[LightGBM] [Warning] min_data_in_leaf is set=100, min_child_samples=20 will be ignored. Current value: min_data_in_leaf=100\n",
      "[LightGBM] [Warning] bagging_freq is set=1, subsample_freq=0 will be ignored. Current value: bagging_freq=1\n",
      "[LightGBM] [Warning] min_gain_to_split is set=8.700000000000001, min_split_gain=0.0 will be ignored. Current value: min_gain_to_split=8.700000000000001\n",
      "[LightGBM] [Warning] lambda_l2 is set=65, reg_lambda=0.0 will be ignored. Current value: lambda_l2=65\n"
     ]
    },
    {
     "name": "stderr",
     "output_type": "stream",
     "text": [
      "[I 2023-09-10 06:33:06,301] Trial 374 finished with value: 0.8025626092020967 and parameters: {'n_estimators': 200, 'learning_rate': 0.5, 'num_leaves': 400, 'max_depth': 5, 'min_data_in_leaf': 100, 'lambda_l1': 0, 'lambda_l2': 65, 'min_gain_to_split': 9.0, 'bagging_fraction': 1.0, 'bagging_freq': 1, 'feature_fraction': 0.9}. Best is trial 21 with value: 0.8300815375655213.\n"
     ]
    },
    {
     "name": "stdout",
     "output_type": "stream",
     "text": [
      "Training until validation scores don't improve for 20 rounds\n",
      "Early stopping, best iteration is:\n",
      "[6]\tvalid_0's auc: 0.802563\tvalid_0's binary_logloss: 0.582765\n"
     ]
    },
    {
     "name": "stderr",
     "output_type": "stream",
     "text": [
      "[I 2023-09-10 06:33:06,651] Trial 375 finished with value: 0.8025626092020967 and parameters: {'n_estimators': 200, 'learning_rate': 0.5, 'num_leaves': 400, 'max_depth': 5, 'min_data_in_leaf': 100, 'lambda_l1': 0, 'lambda_l2': 65, 'min_gain_to_split': 9.0, 'bagging_fraction': 1.0, 'bagging_freq': 1, 'feature_fraction': 0.9}. Best is trial 21 with value: 0.8300815375655213.\n"
     ]
    },
    {
     "name": "stdout",
     "output_type": "stream",
     "text": [
      "[LightGBM] [Warning] lambda_l1 is set=0, reg_alpha=0.0 will be ignored. Current value: lambda_l1=0\n",
      "[LightGBM] [Warning] bagging_fraction is set=1.0, subsample=1.0 will be ignored. Current value: bagging_fraction=1.0\n",
      "[LightGBM] [Warning] feature_fraction is set=0.9, colsample_bytree=1.0 will be ignored. Current value: feature_fraction=0.9\n",
      "[LightGBM] [Warning] min_data_in_leaf is set=100, min_child_samples=20 will be ignored. Current value: min_data_in_leaf=100\n",
      "[LightGBM] [Warning] bagging_freq is set=1, subsample_freq=0 will be ignored. Current value: bagging_freq=1\n",
      "[LightGBM] [Warning] min_gain_to_split is set=9.0, min_split_gain=0.0 will be ignored. Current value: min_gain_to_split=9.0\n",
      "[LightGBM] [Warning] lambda_l2 is set=65, reg_lambda=0.0 will be ignored. Current value: lambda_l2=65\n",
      "Training until validation scores don't improve for 20 rounds\n",
      "Early stopping, best iteration is:\n",
      "[6]\tvalid_0's auc: 0.802563\tvalid_0's binary_logloss: 0.582765\n"
     ]
    },
    {
     "name": "stderr",
     "output_type": "stream",
     "text": [
      "[I 2023-09-10 06:33:06,989] Trial 376 finished with value: 0.8025626092020967 and parameters: {'n_estimators': 200, 'learning_rate': 0.5, 'num_leaves': 360, 'max_depth': 5, 'min_data_in_leaf': 100, 'lambda_l1': 0, 'lambda_l2': 65, 'min_gain_to_split': 9.0, 'bagging_fraction': 1.0, 'bagging_freq': 1, 'feature_fraction': 0.9}. Best is trial 21 with value: 0.8300815375655213.\n"
     ]
    },
    {
     "name": "stdout",
     "output_type": "stream",
     "text": [
      "[LightGBM] [Warning] lambda_l1 is set=0, reg_alpha=0.0 will be ignored. Current value: lambda_l1=0\n",
      "[LightGBM] [Warning] bagging_fraction is set=1.0, subsample=1.0 will be ignored. Current value: bagging_fraction=1.0\n",
      "[LightGBM] [Warning] feature_fraction is set=0.9, colsample_bytree=1.0 will be ignored. Current value: feature_fraction=0.9\n",
      "[LightGBM] [Warning] min_data_in_leaf is set=100, min_child_samples=20 will be ignored. Current value: min_data_in_leaf=100\n",
      "[LightGBM] [Warning] bagging_freq is set=1, subsample_freq=0 will be ignored. Current value: bagging_freq=1\n",
      "[LightGBM] [Warning] min_gain_to_split is set=9.0, min_split_gain=0.0 will be ignored. Current value: min_gain_to_split=9.0\n",
      "[LightGBM] [Warning] lambda_l2 is set=65, reg_lambda=0.0 will be ignored. Current value: lambda_l2=65\n",
      "Training until validation scores don't improve for 20 rounds\n",
      "Early stopping, best iteration is:\n",
      "[6]\tvalid_0's auc: 0.802563\tvalid_0's binary_logloss: 0.582765\n"
     ]
    },
    {
     "name": "stderr",
     "output_type": "stream",
     "text": [
      "[I 2023-09-10 06:33:07,312] Trial 377 pruned. Trial was pruned at iteration 21.\n"
     ]
    },
    {
     "name": "stdout",
     "output_type": "stream",
     "text": [
      "[LightGBM] [Warning] lambda_l1 is set=0, reg_alpha=0.0 will be ignored. Current value: lambda_l1=0\n",
      "[LightGBM] [Warning] bagging_fraction is set=1.0, subsample=1.0 will be ignored. Current value: bagging_fraction=1.0\n",
      "[LightGBM] [Warning] feature_fraction is set=0.9, colsample_bytree=1.0 will be ignored. Current value: feature_fraction=0.9\n",
      "[LightGBM] [Warning] min_data_in_leaf is set=100, min_child_samples=20 will be ignored. Current value: min_data_in_leaf=100\n",
      "[LightGBM] [Warning] bagging_freq is set=1, subsample_freq=0 will be ignored. Current value: bagging_freq=1\n",
      "[LightGBM] [Warning] min_gain_to_split is set=9.0, min_split_gain=0.0 will be ignored. Current value: min_gain_to_split=9.0\n",
      "[LightGBM] [Warning] lambda_l2 is set=70, reg_lambda=0.0 will be ignored. Current value: lambda_l2=70\n",
      "Training until validation scores don't improve for 20 rounds\n"
     ]
    },
    {
     "name": "stderr",
     "output_type": "stream",
     "text": [
      "[I 2023-09-10 06:33:07,640] Trial 378 finished with value: 0.8025626092020967 and parameters: {'n_estimators': 200, 'learning_rate': 0.5, 'num_leaves': 380, 'max_depth': 5, 'min_data_in_leaf': 100, 'lambda_l1': 0, 'lambda_l2': 65, 'min_gain_to_split': 8.700000000000001, 'bagging_fraction': 1.0, 'bagging_freq': 1, 'feature_fraction': 0.9}. Best is trial 21 with value: 0.8300815375655213.\n"
     ]
    },
    {
     "name": "stdout",
     "output_type": "stream",
     "text": [
      "Training until validation scores don't improve for 20 rounds\n",
      "Early stopping, best iteration is:\n",
      "[6]\tvalid_0's auc: 0.802563\tvalid_0's binary_logloss: 0.582765\n"
     ]
    },
    {
     "name": "stderr",
     "output_type": "stream",
     "text": [
      "[I 2023-09-10 06:33:07,957] Trial 379 finished with value: 0.8025626092020967 and parameters: {'n_estimators': 200, 'learning_rate': 0.5, 'num_leaves': 380, 'max_depth': 5, 'min_data_in_leaf': 100, 'lambda_l1': 0, 'lambda_l2': 65, 'min_gain_to_split': 8.700000000000001, 'bagging_fraction': 1.0, 'bagging_freq': 1, 'feature_fraction': 0.9}. Best is trial 21 with value: 0.8300815375655213.\n"
     ]
    },
    {
     "name": "stdout",
     "output_type": "stream",
     "text": [
      "[LightGBM] [Warning] lambda_l1 is set=0, reg_alpha=0.0 will be ignored. Current value: lambda_l1=0\n",
      "[LightGBM] [Warning] bagging_fraction is set=1.0, subsample=1.0 will be ignored. Current value: bagging_fraction=1.0\n",
      "[LightGBM] [Warning] feature_fraction is set=0.9, colsample_bytree=1.0 will be ignored. Current value: feature_fraction=0.9\n",
      "[LightGBM] [Warning] min_data_in_leaf is set=100, min_child_samples=20 will be ignored. Current value: min_data_in_leaf=100\n",
      "[LightGBM] [Warning] bagging_freq is set=1, subsample_freq=0 will be ignored. Current value: bagging_freq=1\n",
      "[LightGBM] [Warning] min_gain_to_split is set=8.700000000000001, min_split_gain=0.0 will be ignored. Current value: min_gain_to_split=8.700000000000001\n",
      "[LightGBM] [Warning] lambda_l2 is set=65, reg_lambda=0.0 will be ignored. Current value: lambda_l2=65\n",
      "Training until validation scores don't improve for 20 rounds\n",
      "Early stopping, best iteration is:\n",
      "[6]\tvalid_0's auc: 0.802563\tvalid_0's binary_logloss: 0.582765\n"
     ]
    },
    {
     "name": "stderr",
     "output_type": "stream",
     "text": [
      "[I 2023-09-10 06:33:08,249] Trial 380 pruned. Trial was pruned at iteration 21.\n"
     ]
    },
    {
     "name": "stdout",
     "output_type": "stream",
     "text": [
      "[LightGBM] [Warning] lambda_l1 is set=0, reg_alpha=0.0 will be ignored. Current value: lambda_l1=0\n",
      "[LightGBM] [Warning] bagging_fraction is set=0.9000000000000001, subsample=1.0 will be ignored. Current value: bagging_fraction=0.9000000000000001\n",
      "[LightGBM] [Warning] feature_fraction is set=0.9, colsample_bytree=1.0 will be ignored. Current value: feature_fraction=0.9\n",
      "[LightGBM] [Warning] min_data_in_leaf is set=100, min_child_samples=20 will be ignored. Current value: min_data_in_leaf=100\n",
      "[LightGBM] [Warning] bagging_freq is set=1, subsample_freq=0 will be ignored. Current value: bagging_freq=1\n",
      "[LightGBM] [Warning] min_gain_to_split is set=8.8, min_split_gain=0.0 will be ignored. Current value: min_gain_to_split=8.8\n",
      "[LightGBM] [Warning] lambda_l2 is set=65, reg_lambda=0.0 will be ignored. Current value: lambda_l2=65\n",
      "Training until validation scores don't improve for 20 rounds\n"
     ]
    },
    {
     "name": "stderr",
     "output_type": "stream",
     "text": [
      "[I 2023-09-10 06:33:08,566] Trial 381 finished with value: 0.8025626092020967 and parameters: {'n_estimators': 200, 'learning_rate': 0.5, 'num_leaves': 400, 'max_depth': 5, 'min_data_in_leaf': 100, 'lambda_l1': 0, 'lambda_l2': 65, 'min_gain_to_split': 8.6, 'bagging_fraction': 1.0, 'bagging_freq': 1, 'feature_fraction': 0.9}. Best is trial 21 with value: 0.8300815375655213.\n"
     ]
    },
    {
     "name": "stdout",
     "output_type": "stream",
     "text": [
      "Training until validation scores don't improve for 20 rounds\n",
      "Early stopping, best iteration is:\n",
      "[6]\tvalid_0's auc: 0.802563\tvalid_0's binary_logloss: 0.582765\n"
     ]
    },
    {
     "name": "stderr",
     "output_type": "stream",
     "text": [
      "[I 2023-09-10 06:33:08,882] Trial 382 finished with value: 0.8025626092020967 and parameters: {'n_estimators': 200, 'learning_rate': 0.5, 'num_leaves': 400, 'max_depth': 5, 'min_data_in_leaf': 100, 'lambda_l1': 0, 'lambda_l2': 65, 'min_gain_to_split': 8.6, 'bagging_fraction': 1.0, 'bagging_freq': 1, 'feature_fraction': 0.9}. Best is trial 21 with value: 0.8300815375655213.\n"
     ]
    },
    {
     "name": "stdout",
     "output_type": "stream",
     "text": [
      "[LightGBM] [Warning] lambda_l1 is set=0, reg_alpha=0.0 will be ignored. Current value: lambda_l1=0\n",
      "[LightGBM] [Warning] bagging_fraction is set=1.0, subsample=1.0 will be ignored. Current value: bagging_fraction=1.0\n",
      "[LightGBM] [Warning] feature_fraction is set=0.9, colsample_bytree=1.0 will be ignored. Current value: feature_fraction=0.9\n",
      "[LightGBM] [Warning] min_data_in_leaf is set=100, min_child_samples=20 will be ignored. Current value: min_data_in_leaf=100\n",
      "[LightGBM] [Warning] bagging_freq is set=1, subsample_freq=0 will be ignored. Current value: bagging_freq=1\n",
      "[LightGBM] [Warning] min_gain_to_split is set=8.6, min_split_gain=0.0 will be ignored. Current value: min_gain_to_split=8.6\n",
      "[LightGBM] [Warning] lambda_l2 is set=65, reg_lambda=0.0 will be ignored. Current value: lambda_l2=65\n",
      "Training until validation scores don't improve for 20 rounds\n",
      "Early stopping, best iteration is:\n",
      "[6]\tvalid_0's auc: 0.802563\tvalid_0's binary_logloss: 0.582765\n"
     ]
    },
    {
     "name": "stderr",
     "output_type": "stream",
     "text": [
      "[I 2023-09-10 06:33:09,175] Trial 383 pruned. Trial was pruned at iteration 21.\n"
     ]
    },
    {
     "name": "stdout",
     "output_type": "stream",
     "text": [
      "[LightGBM] [Warning] lambda_l1 is set=0, reg_alpha=0.0 will be ignored. Current value: lambda_l1=0\n",
      "[LightGBM] [Warning] bagging_fraction is set=1.0, subsample=1.0 will be ignored. Current value: bagging_fraction=1.0\n",
      "[LightGBM] [Warning] feature_fraction is set=0.9, colsample_bytree=1.0 will be ignored. Current value: feature_fraction=0.9\n",
      "[LightGBM] [Warning] min_data_in_leaf is set=100, min_child_samples=20 will be ignored. Current value: min_data_in_leaf=100\n",
      "[LightGBM] [Warning] bagging_freq is set=1, subsample_freq=0 will be ignored. Current value: bagging_freq=1\n",
      "[LightGBM] [Warning] min_gain_to_split is set=8.6, min_split_gain=0.0 will be ignored. Current value: min_gain_to_split=8.6\n",
      "[LightGBM] [Warning] lambda_l2 is set=70, reg_lambda=0.0 will be ignored. Current value: lambda_l2=70\n",
      "Training until validation scores don't improve for 20 rounds\n"
     ]
    },
    {
     "name": "stderr",
     "output_type": "stream",
     "text": [
      "[I 2023-09-10 06:33:09,492] Trial 384 finished with value: 0.8025626092020967 and parameters: {'n_estimators': 200, 'learning_rate': 0.5, 'num_leaves': 380, 'max_depth': 5, 'min_data_in_leaf': 100, 'lambda_l1': 0, 'lambda_l2': 65, 'min_gain_to_split': 9.1, 'bagging_fraction': 1.0, 'bagging_freq': 1, 'feature_fraction': 0.9}. Best is trial 21 with value: 0.8300815375655213.\n"
     ]
    },
    {
     "name": "stdout",
     "output_type": "stream",
     "text": [
      "Training until validation scores don't improve for 20 rounds\n",
      "Early stopping, best iteration is:\n",
      "[6]\tvalid_0's auc: 0.802563\tvalid_0's binary_logloss: 0.582765\n"
     ]
    },
    {
     "name": "stderr",
     "output_type": "stream",
     "text": [
      "[I 2023-09-10 06:33:09,810] Trial 385 finished with value: 0.8025626092020967 and parameters: {'n_estimators': 200, 'learning_rate': 0.5, 'num_leaves': 380, 'max_depth': 5, 'min_data_in_leaf': 100, 'lambda_l1': 0, 'lambda_l2': 65, 'min_gain_to_split': 9.1, 'bagging_fraction': 1.0, 'bagging_freq': 1, 'feature_fraction': 0.9}. Best is trial 21 with value: 0.8300815375655213.\n"
     ]
    },
    {
     "name": "stdout",
     "output_type": "stream",
     "text": [
      "[LightGBM] [Warning] lambda_l1 is set=0, reg_alpha=0.0 will be ignored. Current value: lambda_l1=0\n",
      "[LightGBM] [Warning] bagging_fraction is set=1.0, subsample=1.0 will be ignored. Current value: bagging_fraction=1.0\n",
      "[LightGBM] [Warning] feature_fraction is set=0.9, colsample_bytree=1.0 will be ignored. Current value: feature_fraction=0.9\n",
      "[LightGBM] [Warning] min_data_in_leaf is set=100, min_child_samples=20 will be ignored. Current value: min_data_in_leaf=100\n",
      "[LightGBM] [Warning] bagging_freq is set=1, subsample_freq=0 will be ignored. Current value: bagging_freq=1\n",
      "[LightGBM] [Warning] min_gain_to_split is set=9.1, min_split_gain=0.0 will be ignored. Current value: min_gain_to_split=9.1\n",
      "[LightGBM] [Warning] lambda_l2 is set=65, reg_lambda=0.0 will be ignored. Current value: lambda_l2=65\n",
      "Training until validation scores don't improve for 20 rounds\n",
      "Early stopping, best iteration is:\n",
      "[6]\tvalid_0's auc: 0.802563\tvalid_0's binary_logloss: 0.582765\n"
     ]
    },
    {
     "name": "stderr",
     "output_type": "stream",
     "text": [
      "[I 2023-09-10 06:33:10,122] Trial 386 finished with value: 0.8025626092020967 and parameters: {'n_estimators': 200, 'learning_rate': 0.5, 'num_leaves': 360, 'max_depth': 5, 'min_data_in_leaf': 100, 'lambda_l1': 0, 'lambda_l2': 65, 'min_gain_to_split': 8.8, 'bagging_fraction': 1.0, 'bagging_freq': 1, 'feature_fraction': 0.9}. Best is trial 21 with value: 0.8300815375655213.\n"
     ]
    },
    {
     "name": "stdout",
     "output_type": "stream",
     "text": [
      "[LightGBM] [Warning] lambda_l1 is set=0, reg_alpha=0.0 will be ignored. Current value: lambda_l1=0\n",
      "[LightGBM] [Warning] bagging_fraction is set=1.0, subsample=1.0 will be ignored. Current value: bagging_fraction=1.0\n",
      "[LightGBM] [Warning] feature_fraction is set=0.9, colsample_bytree=1.0 will be ignored. Current value: feature_fraction=0.9\n",
      "[LightGBM] [Warning] min_data_in_leaf is set=100, min_child_samples=20 will be ignored. Current value: min_data_in_leaf=100\n",
      "[LightGBM] [Warning] bagging_freq is set=1, subsample_freq=0 will be ignored. Current value: bagging_freq=1\n",
      "[LightGBM] [Warning] min_gain_to_split is set=8.8, min_split_gain=0.0 will be ignored. Current value: min_gain_to_split=8.8\n",
      "[LightGBM] [Warning] lambda_l2 is set=65, reg_lambda=0.0 will be ignored. Current value: lambda_l2=65\n",
      "Training until validation scores don't improve for 20 rounds\n",
      "Early stopping, best iteration is:\n",
      "[6]\tvalid_0's auc: 0.802563\tvalid_0's binary_logloss: 0.582765\n"
     ]
    },
    {
     "name": "stderr",
     "output_type": "stream",
     "text": [
      "[I 2023-09-10 06:33:10,434] Trial 387 finished with value: 0.8025626092020967 and parameters: {'n_estimators': 200, 'learning_rate': 0.5, 'num_leaves': 400, 'max_depth': 5, 'min_data_in_leaf': 100, 'lambda_l1': 0, 'lambda_l2': 65, 'min_gain_to_split': 8.5, 'bagging_fraction': 1.0, 'bagging_freq': 1, 'feature_fraction': 0.9}. Best is trial 21 with value: 0.8300815375655213.\n"
     ]
    },
    {
     "name": "stdout",
     "output_type": "stream",
     "text": [
      "[LightGBM] [Warning] lambda_l1 is set=0, reg_alpha=0.0 will be ignored. Current value: lambda_l1=0\n",
      "[LightGBM] [Warning] bagging_fraction is set=1.0, subsample=1.0 will be ignored. Current value: bagging_fraction=1.0\n",
      "[LightGBM] [Warning] feature_fraction is set=0.9, colsample_bytree=1.0 will be ignored. Current value: feature_fraction=0.9\n",
      "[LightGBM] [Warning] min_data_in_leaf is set=100, min_child_samples=20 will be ignored. Current value: min_data_in_leaf=100\n",
      "[LightGBM] [Warning] bagging_freq is set=1, subsample_freq=0 will be ignored. Current value: bagging_freq=1\n",
      "[LightGBM] [Warning] min_gain_to_split is set=8.5, min_split_gain=0.0 will be ignored. Current value: min_gain_to_split=8.5\n",
      "[LightGBM] [Warning] lambda_l2 is set=65, reg_lambda=0.0 will be ignored. Current value: lambda_l2=65\n",
      "Training until validation scores don't improve for 20 rounds\n",
      "Early stopping, best iteration is:\n",
      "[6]\tvalid_0's auc: 0.802563\tvalid_0's binary_logloss: 0.582765\n"
     ]
    },
    {
     "name": "stderr",
     "output_type": "stream",
     "text": [
      "[I 2023-09-10 06:33:10,746] Trial 388 finished with value: 0.8025626092020967 and parameters: {'n_estimators': 200, 'learning_rate': 0.5, 'num_leaves': 340, 'max_depth': 5, 'min_data_in_leaf': 100, 'lambda_l1': 0, 'lambda_l2': 65, 'min_gain_to_split': 9.1, 'bagging_fraction': 1.0, 'bagging_freq': 1, 'feature_fraction': 0.9}. Best is trial 21 with value: 0.8300815375655213.\n"
     ]
    },
    {
     "name": "stdout",
     "output_type": "stream",
     "text": [
      "[LightGBM] [Warning] lambda_l1 is set=0, reg_alpha=0.0 will be ignored. Current value: lambda_l1=0\n",
      "[LightGBM] [Warning] bagging_fraction is set=1.0, subsample=1.0 will be ignored. Current value: bagging_fraction=1.0\n",
      "[LightGBM] [Warning] feature_fraction is set=0.9, colsample_bytree=1.0 will be ignored. Current value: feature_fraction=0.9\n",
      "[LightGBM] [Warning] min_data_in_leaf is set=100, min_child_samples=20 will be ignored. Current value: min_data_in_leaf=100\n",
      "[LightGBM] [Warning] bagging_freq is set=1, subsample_freq=0 will be ignored. Current value: bagging_freq=1\n",
      "[LightGBM] [Warning] min_gain_to_split is set=9.1, min_split_gain=0.0 will be ignored. Current value: min_gain_to_split=9.1\n",
      "[LightGBM] [Warning] lambda_l2 is set=65, reg_lambda=0.0 will be ignored. Current value: lambda_l2=65\n",
      "Training until validation scores don't improve for 20 rounds\n",
      "Early stopping, best iteration is:\n",
      "[6]\tvalid_0's auc: 0.802563\tvalid_0's binary_logloss: 0.582765\n"
     ]
    },
    {
     "name": "stderr",
     "output_type": "stream",
     "text": [
      "[I 2023-09-10 06:33:11,040] Trial 389 pruned. Trial was pruned at iteration 21.\n"
     ]
    },
    {
     "name": "stdout",
     "output_type": "stream",
     "text": [
      "[LightGBM] [Warning] lambda_l1 is set=0, reg_alpha=0.0 will be ignored. Current value: lambda_l1=0\n",
      "[LightGBM] [Warning] bagging_fraction is set=0.9000000000000001, subsample=1.0 will be ignored. Current value: bagging_fraction=0.9000000000000001\n",
      "[LightGBM] [Warning] feature_fraction is set=0.9, colsample_bytree=1.0 will be ignored. Current value: feature_fraction=0.9\n",
      "[LightGBM] [Warning] min_data_in_leaf is set=100, min_child_samples=20 will be ignored. Current value: min_data_in_leaf=100\n",
      "[LightGBM] [Warning] bagging_freq is set=1, subsample_freq=0 will be ignored. Current value: bagging_freq=1\n",
      "[LightGBM] [Warning] min_gain_to_split is set=8.9, min_split_gain=0.0 will be ignored. Current value: min_gain_to_split=8.9\n",
      "[LightGBM] [Warning] lambda_l2 is set=70, reg_lambda=0.0 will be ignored. Current value: lambda_l2=70\n",
      "Training until validation scores don't improve for 20 rounds\n"
     ]
    },
    {
     "name": "stderr",
     "output_type": "stream",
     "text": [
      "[I 2023-09-10 06:33:11,358] Trial 390 finished with value: 0.8025626092020967 and parameters: {'n_estimators': 200, 'learning_rate': 0.5, 'num_leaves': 420, 'max_depth': 5, 'min_data_in_leaf': 100, 'lambda_l1': 0, 'lambda_l2': 65, 'min_gain_to_split': 9.3, 'bagging_fraction': 1.0, 'bagging_freq': 1, 'feature_fraction': 0.9}. Best is trial 21 with value: 0.8300815375655213.\n"
     ]
    },
    {
     "name": "stdout",
     "output_type": "stream",
     "text": [
      "Training until validation scores don't improve for 20 rounds\n",
      "Early stopping, best iteration is:\n",
      "[6]\tvalid_0's auc: 0.802563\tvalid_0's binary_logloss: 0.582765\n"
     ]
    },
    {
     "name": "stderr",
     "output_type": "stream",
     "text": [
      "[I 2023-09-10 06:33:11,688] Trial 391 pruned. Trial was pruned at iteration 21.\n"
     ]
    },
    {
     "name": "stdout",
     "output_type": "stream",
     "text": [
      "[LightGBM] [Warning] lambda_l1 is set=0, reg_alpha=0.0 will be ignored. Current value: lambda_l1=0\n",
      "[LightGBM] [Warning] bagging_fraction is set=1.0, subsample=1.0 will be ignored. Current value: bagging_fraction=1.0\n",
      "[LightGBM] [Warning] feature_fraction is set=0.9, colsample_bytree=1.0 will be ignored. Current value: feature_fraction=0.9\n",
      "[LightGBM] [Warning] min_data_in_leaf is set=100, min_child_samples=20 will be ignored. Current value: min_data_in_leaf=100\n",
      "[LightGBM] [Warning] bagging_freq is set=1, subsample_freq=0 will be ignored. Current value: bagging_freq=1\n",
      "[LightGBM] [Warning] min_gain_to_split is set=8.6, min_split_gain=0.0 will be ignored. Current value: min_gain_to_split=8.6\n",
      "[LightGBM] [Warning] lambda_l2 is set=70, reg_lambda=0.0 will be ignored. Current value: lambda_l2=70\n",
      "Training until validation scores don't improve for 20 rounds\n"
     ]
    },
    {
     "name": "stderr",
     "output_type": "stream",
     "text": [
      "[I 2023-09-10 06:33:12,017] Trial 392 finished with value: 0.8025626092020967 and parameters: {'n_estimators': 200, 'learning_rate': 0.5, 'num_leaves': 380, 'max_depth': 5, 'min_data_in_leaf': 100, 'lambda_l1': 0, 'lambda_l2': 65, 'min_gain_to_split': 9.1, 'bagging_fraction': 1.0, 'bagging_freq': 1, 'feature_fraction': 0.9}. Best is trial 21 with value: 0.8300815375655213.\n"
     ]
    },
    {
     "name": "stdout",
     "output_type": "stream",
     "text": [
      "Training until validation scores don't improve for 20 rounds\n",
      "Early stopping, best iteration is:\n",
      "[6]\tvalid_0's auc: 0.802563\tvalid_0's binary_logloss: 0.582765\n"
     ]
    },
    {
     "name": "stderr",
     "output_type": "stream",
     "text": [
      "[I 2023-09-10 06:33:12,335] Trial 393 finished with value: 0.8025626092020967 and parameters: {'n_estimators': 200, 'learning_rate': 0.5, 'num_leaves': 420, 'max_depth': 5, 'min_data_in_leaf': 100, 'lambda_l1': 0, 'lambda_l2': 65, 'min_gain_to_split': 8.4, 'bagging_fraction': 1.0, 'bagging_freq': 1, 'feature_fraction': 0.9}. Best is trial 21 with value: 0.8300815375655213.\n"
     ]
    },
    {
     "name": "stdout",
     "output_type": "stream",
     "text": [
      "[LightGBM] [Warning] lambda_l1 is set=0, reg_alpha=0.0 will be ignored. Current value: lambda_l1=0\n",
      "[LightGBM] [Warning] bagging_fraction is set=1.0, subsample=1.0 will be ignored. Current value: bagging_fraction=1.0\n",
      "[LightGBM] [Warning] feature_fraction is set=0.9, colsample_bytree=1.0 will be ignored. Current value: feature_fraction=0.9\n",
      "[LightGBM] [Warning] min_data_in_leaf is set=100, min_child_samples=20 will be ignored. Current value: min_data_in_leaf=100\n",
      "[LightGBM] [Warning] bagging_freq is set=1, subsample_freq=0 will be ignored. Current value: bagging_freq=1\n",
      "[LightGBM] [Warning] min_gain_to_split is set=8.4, min_split_gain=0.0 will be ignored. Current value: min_gain_to_split=8.4\n",
      "[LightGBM] [Warning] lambda_l2 is set=65, reg_lambda=0.0 will be ignored. Current value: lambda_l2=65\n",
      "Training until validation scores don't improve for 20 rounds\n",
      "Early stopping, best iteration is:\n",
      "[6]\tvalid_0's auc: 0.802563\tvalid_0's binary_logloss: 0.582765\n"
     ]
    },
    {
     "name": "stderr",
     "output_type": "stream",
     "text": [
      "[I 2023-09-10 06:33:12,647] Trial 394 finished with value: 0.8025626092020967 and parameters: {'n_estimators': 200, 'learning_rate': 0.5, 'num_leaves': 420, 'max_depth': 5, 'min_data_in_leaf': 100, 'lambda_l1': 0, 'lambda_l2': 65, 'min_gain_to_split': 8.8, 'bagging_fraction': 1.0, 'bagging_freq': 1, 'feature_fraction': 0.9}. Best is trial 21 with value: 0.8300815375655213.\n"
     ]
    },
    {
     "name": "stdout",
     "output_type": "stream",
     "text": [
      "[LightGBM] [Warning] lambda_l1 is set=0, reg_alpha=0.0 will be ignored. Current value: lambda_l1=0\n",
      "[LightGBM] [Warning] bagging_fraction is set=1.0, subsample=1.0 will be ignored. Current value: bagging_fraction=1.0\n",
      "[LightGBM] [Warning] feature_fraction is set=0.9, colsample_bytree=1.0 will be ignored. Current value: feature_fraction=0.9\n",
      "[LightGBM] [Warning] min_data_in_leaf is set=100, min_child_samples=20 will be ignored. Current value: min_data_in_leaf=100\n",
      "[LightGBM] [Warning] bagging_freq is set=1, subsample_freq=0 will be ignored. Current value: bagging_freq=1\n",
      "[LightGBM] [Warning] min_gain_to_split is set=8.8, min_split_gain=0.0 will be ignored. Current value: min_gain_to_split=8.8\n",
      "[LightGBM] [Warning] lambda_l2 is set=65, reg_lambda=0.0 will be ignored. Current value: lambda_l2=65\n",
      "Training until validation scores don't improve for 20 rounds\n",
      "Early stopping, best iteration is:\n",
      "[6]\tvalid_0's auc: 0.802563\tvalid_0's binary_logloss: 0.582765\n"
     ]
    },
    {
     "name": "stderr",
     "output_type": "stream",
     "text": [
      "[I 2023-09-10 06:33:12,941] Trial 395 pruned. Trial was pruned at iteration 21.\n"
     ]
    },
    {
     "name": "stdout",
     "output_type": "stream",
     "text": [
      "[LightGBM] [Warning] lambda_l1 is set=0, reg_alpha=0.0 will be ignored. Current value: lambda_l1=0\n",
      "[LightGBM] [Warning] bagging_fraction is set=1.0, subsample=1.0 will be ignored. Current value: bagging_fraction=1.0\n",
      "[LightGBM] [Warning] feature_fraction is set=0.9, colsample_bytree=1.0 will be ignored. Current value: feature_fraction=0.9\n",
      "[LightGBM] [Warning] min_data_in_leaf is set=100, min_child_samples=20 will be ignored. Current value: min_data_in_leaf=100\n",
      "[LightGBM] [Warning] bagging_freq is set=1, subsample_freq=0 will be ignored. Current value: bagging_freq=1\n",
      "[LightGBM] [Warning] min_gain_to_split is set=9.4, min_split_gain=0.0 will be ignored. Current value: min_gain_to_split=9.4\n",
      "[LightGBM] [Warning] lambda_l2 is set=70, reg_lambda=0.0 will be ignored. Current value: lambda_l2=70\n",
      "Training until validation scores don't improve for 20 rounds\n"
     ]
    },
    {
     "name": "stderr",
     "output_type": "stream",
     "text": [
      "[I 2023-09-10 06:33:13,260] Trial 396 finished with value: 0.8025626092020967 and parameters: {'n_estimators': 300, 'learning_rate': 0.5, 'num_leaves': 380, 'max_depth': 5, 'min_data_in_leaf': 100, 'lambda_l1': 0, 'lambda_l2': 65, 'min_gain_to_split': 9.200000000000001, 'bagging_fraction': 1.0, 'bagging_freq': 1, 'feature_fraction': 0.9}. Best is trial 21 with value: 0.8300815375655213.\n"
     ]
    },
    {
     "name": "stdout",
     "output_type": "stream",
     "text": [
      "Training until validation scores don't improve for 20 rounds\n",
      "Early stopping, best iteration is:\n",
      "[6]\tvalid_0's auc: 0.802563\tvalid_0's binary_logloss: 0.582765\n"
     ]
    },
    {
     "name": "stderr",
     "output_type": "stream",
     "text": [
      "[I 2023-09-10 06:33:13,579] Trial 397 finished with value: 0.8025626092020967 and parameters: {'n_estimators': 200, 'learning_rate': 0.5, 'num_leaves': 400, 'max_depth': 5, 'min_data_in_leaf': 100, 'lambda_l1': 0, 'lambda_l2': 65, 'min_gain_to_split': 8.6, 'bagging_fraction': 1.0, 'bagging_freq': 1, 'feature_fraction': 0.9}. Best is trial 21 with value: 0.8300815375655213.\n"
     ]
    },
    {
     "name": "stdout",
     "output_type": "stream",
     "text": [
      "[LightGBM] [Warning] lambda_l1 is set=0, reg_alpha=0.0 will be ignored. Current value: lambda_l1=0\n",
      "[LightGBM] [Warning] bagging_fraction is set=1.0, subsample=1.0 will be ignored. Current value: bagging_fraction=1.0\n",
      "[LightGBM] [Warning] feature_fraction is set=0.9, colsample_bytree=1.0 will be ignored. Current value: feature_fraction=0.9\n",
      "[LightGBM] [Warning] min_data_in_leaf is set=100, min_child_samples=20 will be ignored. Current value: min_data_in_leaf=100\n",
      "[LightGBM] [Warning] bagging_freq is set=1, subsample_freq=0 will be ignored. Current value: bagging_freq=1\n",
      "[LightGBM] [Warning] min_gain_to_split is set=8.6, min_split_gain=0.0 will be ignored. Current value: min_gain_to_split=8.6\n",
      "[LightGBM] [Warning] lambda_l2 is set=65, reg_lambda=0.0 will be ignored. Current value: lambda_l2=65\n",
      "Training until validation scores don't improve for 20 rounds\n",
      "Early stopping, best iteration is:\n",
      "[6]\tvalid_0's auc: 0.802563\tvalid_0's binary_logloss: 0.582765\n"
     ]
    },
    {
     "name": "stderr",
     "output_type": "stream",
     "text": [
      "[I 2023-09-10 06:33:13,873] Trial 398 pruned. Trial was pruned at iteration 21.\n"
     ]
    },
    {
     "name": "stdout",
     "output_type": "stream",
     "text": [
      "[LightGBM] [Warning] lambda_l1 is set=0, reg_alpha=0.0 will be ignored. Current value: lambda_l1=0\n",
      "[LightGBM] [Warning] bagging_fraction is set=1.0, subsample=1.0 will be ignored. Current value: bagging_fraction=1.0\n",
      "[LightGBM] [Warning] feature_fraction is set=0.9, colsample_bytree=1.0 will be ignored. Current value: feature_fraction=0.9\n",
      "[LightGBM] [Warning] min_data_in_leaf is set=100, min_child_samples=20 will be ignored. Current value: min_data_in_leaf=100\n",
      "[LightGBM] [Warning] bagging_freq is set=1, subsample_freq=0 will be ignored. Current value: bagging_freq=1\n",
      "[LightGBM] [Warning] min_gain_to_split is set=8.9, min_split_gain=0.0 will be ignored. Current value: min_gain_to_split=8.9\n",
      "[LightGBM] [Warning] lambda_l2 is set=70, reg_lambda=0.0 will be ignored. Current value: lambda_l2=70\n",
      "Training until validation scores don't improve for 20 rounds\n"
     ]
    },
    {
     "name": "stderr",
     "output_type": "stream",
     "text": [
      "[I 2023-09-10 06:33:14,195] Trial 399 pruned. Trial was pruned at iteration 21.\n"
     ]
    },
    {
     "name": "stdout",
     "output_type": "stream",
     "text": [
      "Training until validation scores don't improve for 20 rounds\n"
     ]
    },
    {
     "name": "stderr",
     "output_type": "stream",
     "text": [
      "[I 2023-09-10 06:33:14,493] Trial 400 pruned. Trial was pruned at iteration 21.\n"
     ]
    },
    {
     "name": "stdout",
     "output_type": "stream",
     "text": [
      "Training until validation scores don't improve for 20 rounds\n"
     ]
    },
    {
     "name": "stderr",
     "output_type": "stream",
     "text": [
      "[I 2023-09-10 06:33:14,830] Trial 401 pruned. Trial was pruned at iteration 21.\n"
     ]
    },
    {
     "name": "stdout",
     "output_type": "stream",
     "text": [
      "Training until validation scores don't improve for 20 rounds\n"
     ]
    },
    {
     "name": "stderr",
     "output_type": "stream",
     "text": [
      "[I 2023-09-10 06:33:15,146] Trial 402 finished with value: 0.8025626092020967 and parameters: {'n_estimators': 200, 'learning_rate': 0.5, 'num_leaves': 440, 'max_depth': 5, 'min_data_in_leaf': 100, 'lambda_l1': 0, 'lambda_l2': 65, 'min_gain_to_split': 8.8, 'bagging_fraction': 1.0, 'bagging_freq': 1, 'feature_fraction': 0.9}. Best is trial 21 with value: 0.8300815375655213.\n"
     ]
    },
    {
     "name": "stdout",
     "output_type": "stream",
     "text": [
      "Training until validation scores don't improve for 20 rounds\n",
      "Early stopping, best iteration is:\n",
      "[6]\tvalid_0's auc: 0.802563\tvalid_0's binary_logloss: 0.582765\n"
     ]
    },
    {
     "name": "stderr",
     "output_type": "stream",
     "text": [
      "[I 2023-09-10 06:33:15,447] Trial 403 pruned. Trial was pruned at iteration 21.\n"
     ]
    },
    {
     "name": "stdout",
     "output_type": "stream",
     "text": [
      "[LightGBM] [Warning] lambda_l1 is set=0, reg_alpha=0.0 will be ignored. Current value: lambda_l1=0\n",
      "[LightGBM] [Warning] bagging_fraction is set=1.0, subsample=1.0 will be ignored. Current value: bagging_fraction=1.0\n",
      "[LightGBM] [Warning] feature_fraction is set=0.9, colsample_bytree=1.0 will be ignored. Current value: feature_fraction=0.9\n",
      "[LightGBM] [Warning] min_data_in_leaf is set=100, min_child_samples=20 will be ignored. Current value: min_data_in_leaf=100\n",
      "[LightGBM] [Warning] bagging_freq is set=1, subsample_freq=0 will be ignored. Current value: bagging_freq=1\n",
      "[LightGBM] [Warning] min_gain_to_split is set=8.4, min_split_gain=0.0 will be ignored. Current value: min_gain_to_split=8.4\n",
      "[LightGBM] [Warning] lambda_l2 is set=70, reg_lambda=0.0 will be ignored. Current value: lambda_l2=70\n",
      "Training until validation scores don't improve for 20 rounds\n"
     ]
    },
    {
     "name": "stderr",
     "output_type": "stream",
     "text": [
      "[I 2023-09-10 06:33:15,784] Trial 404 pruned. Trial was pruned at iteration 21.\n"
     ]
    },
    {
     "name": "stdout",
     "output_type": "stream",
     "text": [
      "Training until validation scores don't improve for 20 rounds\n"
     ]
    },
    {
     "name": "stderr",
     "output_type": "stream",
     "text": [
      "[I 2023-09-10 06:33:16,138] Trial 405 finished with value: 0.8025626092020967 and parameters: {'n_estimators': 200, 'learning_rate': 0.5, 'num_leaves': 420, 'max_depth': 5, 'min_data_in_leaf': 100, 'lambda_l1': 0, 'lambda_l2': 65, 'min_gain_to_split': 9.1, 'bagging_fraction': 1.0, 'bagging_freq': 1, 'feature_fraction': 0.9}. Best is trial 21 with value: 0.8300815375655213.\n"
     ]
    },
    {
     "name": "stdout",
     "output_type": "stream",
     "text": [
      "Training until validation scores don't improve for 20 rounds\n",
      "Early stopping, best iteration is:\n",
      "[6]\tvalid_0's auc: 0.802563\tvalid_0's binary_logloss: 0.582765\n"
     ]
    },
    {
     "name": "stderr",
     "output_type": "stream",
     "text": [
      "[I 2023-09-10 06:33:16,446] Trial 406 pruned. Trial was pruned at iteration 21.\n"
     ]
    },
    {
     "name": "stdout",
     "output_type": "stream",
     "text": [
      "[LightGBM] [Warning] lambda_l1 is set=0, reg_alpha=0.0 will be ignored. Current value: lambda_l1=0\n",
      "[LightGBM] [Warning] bagging_fraction is set=0.9000000000000001, subsample=1.0 will be ignored. Current value: bagging_fraction=0.9000000000000001\n",
      "[LightGBM] [Warning] feature_fraction is set=0.9, colsample_bytree=1.0 will be ignored. Current value: feature_fraction=0.9\n",
      "[LightGBM] [Warning] min_data_in_leaf is set=100, min_child_samples=20 will be ignored. Current value: min_data_in_leaf=100\n",
      "[LightGBM] [Warning] bagging_freq is set=1, subsample_freq=0 will be ignored. Current value: bagging_freq=1\n",
      "[LightGBM] [Warning] min_gain_to_split is set=8.700000000000001, min_split_gain=0.0 will be ignored. Current value: min_gain_to_split=8.700000000000001\n",
      "[LightGBM] [Warning] lambda_l2 is set=60, reg_lambda=0.0 will be ignored. Current value: lambda_l2=60\n",
      "Training until validation scores don't improve for 20 rounds\n"
     ]
    },
    {
     "name": "stderr",
     "output_type": "stream",
     "text": [
      "[I 2023-09-10 06:33:16,754] Trial 407 pruned. Trial was pruned at iteration 21.\n"
     ]
    },
    {
     "name": "stdout",
     "output_type": "stream",
     "text": [
      "Training until validation scores don't improve for 20 rounds\n"
     ]
    },
    {
     "name": "stderr",
     "output_type": "stream",
     "text": [
      "[I 2023-09-10 06:33:17,118] Trial 408 finished with value: 0.8025626092020967 and parameters: {'n_estimators': 200, 'learning_rate': 0.5, 'num_leaves': 440, 'max_depth': 5, 'min_data_in_leaf': 100, 'lambda_l1': 0, 'lambda_l2': 65, 'min_gain_to_split': 8.4, 'bagging_fraction': 1.0, 'bagging_freq': 1, 'feature_fraction': 0.9}. Best is trial 21 with value: 0.8300815375655213.\n"
     ]
    },
    {
     "name": "stdout",
     "output_type": "stream",
     "text": [
      "Training until validation scores don't improve for 20 rounds\n",
      "Early stopping, best iteration is:\n",
      "[6]\tvalid_0's auc: 0.802563\tvalid_0's binary_logloss: 0.582765\n"
     ]
    },
    {
     "name": "stderr",
     "output_type": "stream",
     "text": [
      "[I 2023-09-10 06:33:17,537] Trial 409 pruned. Trial was pruned at iteration 21.\n"
     ]
    },
    {
     "name": "stdout",
     "output_type": "stream",
     "text": [
      "[LightGBM] [Warning] lambda_l1 is set=0, reg_alpha=0.0 will be ignored. Current value: lambda_l1=0\n",
      "[LightGBM] [Warning] bagging_fraction is set=1.0, subsample=1.0 will be ignored. Current value: bagging_fraction=1.0\n",
      "[LightGBM] [Warning] feature_fraction is set=0.9, colsample_bytree=1.0 will be ignored. Current value: feature_fraction=0.9\n",
      "[LightGBM] [Warning] min_data_in_leaf is set=100, min_child_samples=20 will be ignored. Current value: min_data_in_leaf=100\n",
      "[LightGBM] [Warning] bagging_freq is set=1, subsample_freq=0 will be ignored. Current value: bagging_freq=1\n",
      "[LightGBM] [Warning] min_gain_to_split is set=8.9, min_split_gain=0.0 will be ignored. Current value: min_gain_to_split=8.9\n",
      "[LightGBM] [Warning] lambda_l2 is set=70, reg_lambda=0.0 will be ignored. Current value: lambda_l2=70\n",
      "Training until validation scores don't improve for 20 rounds\n"
     ]
    },
    {
     "name": "stderr",
     "output_type": "stream",
     "text": [
      "[I 2023-09-10 06:33:17,893] Trial 410 finished with value: 0.8025626092020967 and parameters: {'n_estimators': 200, 'learning_rate': 0.5, 'num_leaves': 340, 'max_depth': 5, 'min_data_in_leaf': 100, 'lambda_l1': 0, 'lambda_l2': 65, 'min_gain_to_split': 9.3, 'bagging_fraction': 1.0, 'bagging_freq': 1, 'feature_fraction': 0.9}. Best is trial 21 with value: 0.8300815375655213.\n"
     ]
    },
    {
     "name": "stdout",
     "output_type": "stream",
     "text": [
      "Training until validation scores don't improve for 20 rounds\n",
      "Early stopping, best iteration is:\n",
      "[6]\tvalid_0's auc: 0.802563\tvalid_0's binary_logloss: 0.582765\n"
     ]
    },
    {
     "name": "stderr",
     "output_type": "stream",
     "text": [
      "[I 2023-09-10 06:33:18,182] Trial 411 pruned. Trial was pruned at iteration 0.\n"
     ]
    },
    {
     "name": "stdout",
     "output_type": "stream",
     "text": [
      "[LightGBM] [Warning] lambda_l1 is set=0, reg_alpha=0.0 will be ignored. Current value: lambda_l1=0\n",
      "[LightGBM] [Warning] bagging_fraction is set=1.0, subsample=1.0 will be ignored. Current value: bagging_fraction=1.0\n",
      "[LightGBM] [Warning] feature_fraction is set=0.9, colsample_bytree=1.0 will be ignored. Current value: feature_fraction=0.9\n",
      "[LightGBM] [Warning] min_data_in_leaf is set=200, min_child_samples=20 will be ignored. Current value: min_data_in_leaf=200\n",
      "[LightGBM] [Warning] bagging_freq is set=1, subsample_freq=0 will be ignored. Current value: bagging_freq=1\n",
      "[LightGBM] [Warning] min_gain_to_split is set=8.6, min_split_gain=0.0 will be ignored. Current value: min_gain_to_split=8.6\n",
      "[LightGBM] [Warning] lambda_l2 is set=60, reg_lambda=0.0 will be ignored. Current value: lambda_l2=60\n"
     ]
    },
    {
     "name": "stderr",
     "output_type": "stream",
     "text": [
      "[I 2023-09-10 06:33:18,485] Trial 412 pruned. Trial was pruned at iteration 0.\n",
      "[I 2023-09-10 06:33:18,808] Trial 413 pruned. Trial was pruned at iteration 21.\n"
     ]
    },
    {
     "name": "stdout",
     "output_type": "stream",
     "text": [
      "Training until validation scores don't improve for 20 rounds\n"
     ]
    },
    {
     "name": "stderr",
     "output_type": "stream",
     "text": [
      "[I 2023-09-10 06:33:19,130] Trial 414 pruned. Trial was pruned at iteration 21.\n"
     ]
    },
    {
     "name": "stdout",
     "output_type": "stream",
     "text": [
      "Training until validation scores don't improve for 20 rounds\n"
     ]
    },
    {
     "name": "stderr",
     "output_type": "stream",
     "text": [
      "[I 2023-09-10 06:33:19,463] Trial 415 pruned. Trial was pruned at iteration 21.\n"
     ]
    },
    {
     "name": "stdout",
     "output_type": "stream",
     "text": [
      "Training until validation scores don't improve for 20 rounds\n"
     ]
    },
    {
     "name": "stderr",
     "output_type": "stream",
     "text": [
      "[I 2023-09-10 06:33:19,763] Trial 416 pruned. Trial was pruned at iteration 21.\n"
     ]
    },
    {
     "name": "stdout",
     "output_type": "stream",
     "text": [
      "Training until validation scores don't improve for 20 rounds\n"
     ]
    },
    {
     "name": "stderr",
     "output_type": "stream",
     "text": [
      "[I 2023-09-10 06:33:20,117] Trial 417 finished with value: 0.8060570762958649 and parameters: {'n_estimators': 200, 'learning_rate': 0.5, 'num_leaves': 440, 'max_depth': 5, 'min_data_in_leaf': 100, 'lambda_l1': 0, 'lambda_l2': 60, 'min_gain_to_split': 8.8, 'bagging_fraction': 1.0, 'bagging_freq': 1, 'feature_fraction': 0.9}. Best is trial 21 with value: 0.8300815375655213.\n"
     ]
    },
    {
     "name": "stdout",
     "output_type": "stream",
     "text": [
      "Training until validation scores don't improve for 20 rounds\n",
      "Early stopping, best iteration is:\n",
      "[6]\tvalid_0's auc: 0.806057\tvalid_0's binary_logloss: 0.58076\n"
     ]
    },
    {
     "name": "stderr",
     "output_type": "stream",
     "text": [
      "[I 2023-09-10 06:33:20,475] Trial 418 finished with value: 0.8060570762958649 and parameters: {'n_estimators': 200, 'learning_rate': 0.5, 'num_leaves': 440, 'max_depth': 5, 'min_data_in_leaf': 100, 'lambda_l1': 0, 'lambda_l2': 60, 'min_gain_to_split': 8.700000000000001, 'bagging_fraction': 1.0, 'bagging_freq': 1, 'feature_fraction': 0.9}. Best is trial 21 with value: 0.8300815375655213.\n"
     ]
    },
    {
     "name": "stdout",
     "output_type": "stream",
     "text": [
      "[LightGBM] [Warning] lambda_l1 is set=0, reg_alpha=0.0 will be ignored. Current value: lambda_l1=0\n",
      "[LightGBM] [Warning] bagging_fraction is set=1.0, subsample=1.0 will be ignored. Current value: bagging_fraction=1.0\n",
      "[LightGBM] [Warning] feature_fraction is set=0.9, colsample_bytree=1.0 will be ignored. Current value: feature_fraction=0.9\n",
      "[LightGBM] [Warning] min_data_in_leaf is set=100, min_child_samples=20 will be ignored. Current value: min_data_in_leaf=100\n",
      "[LightGBM] [Warning] bagging_freq is set=1, subsample_freq=0 will be ignored. Current value: bagging_freq=1\n",
      "[LightGBM] [Warning] min_gain_to_split is set=8.700000000000001, min_split_gain=0.0 will be ignored. Current value: min_gain_to_split=8.700000000000001\n",
      "[LightGBM] [Warning] lambda_l2 is set=60, reg_lambda=0.0 will be ignored. Current value: lambda_l2=60\n",
      "Training until validation scores don't improve for 20 rounds\n",
      "Early stopping, best iteration is:\n",
      "[6]\tvalid_0's auc: 0.806057\tvalid_0's binary_logloss: 0.58076\n"
     ]
    },
    {
     "name": "stderr",
     "output_type": "stream",
     "text": [
      "[I 2023-09-10 06:33:20,906] Trial 419 finished with value: 0.8060570762958649 and parameters: {'n_estimators': 300, 'learning_rate': 0.5, 'num_leaves': 440, 'max_depth': 6, 'min_data_in_leaf': 100, 'lambda_l1': 0, 'lambda_l2': 60, 'min_gain_to_split': 8.8, 'bagging_fraction': 1.0, 'bagging_freq': 1, 'feature_fraction': 0.9}. Best is trial 21 with value: 0.8300815375655213.\n"
     ]
    },
    {
     "name": "stdout",
     "output_type": "stream",
     "text": [
      "[LightGBM] [Warning] lambda_l1 is set=0, reg_alpha=0.0 will be ignored. Current value: lambda_l1=0\n",
      "[LightGBM] [Warning] bagging_fraction is set=1.0, subsample=1.0 will be ignored. Current value: bagging_fraction=1.0\n",
      "[LightGBM] [Warning] feature_fraction is set=0.9, colsample_bytree=1.0 will be ignored. Current value: feature_fraction=0.9\n",
      "[LightGBM] [Warning] min_data_in_leaf is set=100, min_child_samples=20 will be ignored. Current value: min_data_in_leaf=100\n",
      "[LightGBM] [Warning] bagging_freq is set=1, subsample_freq=0 will be ignored. Current value: bagging_freq=1\n",
      "[LightGBM] [Warning] min_gain_to_split is set=8.8, min_split_gain=0.0 will be ignored. Current value: min_gain_to_split=8.8\n",
      "[LightGBM] [Warning] lambda_l2 is set=60, reg_lambda=0.0 will be ignored. Current value: lambda_l2=60\n",
      "Training until validation scores don't improve for 20 rounds\n",
      "Early stopping, best iteration is:\n",
      "[6]\tvalid_0's auc: 0.806057\tvalid_0's binary_logloss: 0.58076\n"
     ]
    },
    {
     "name": "stderr",
     "output_type": "stream",
     "text": [
      "[I 2023-09-10 06:33:21,214] Trial 420 pruned. Trial was pruned at iteration 21.\n"
     ]
    },
    {
     "name": "stdout",
     "output_type": "stream",
     "text": [
      "[LightGBM] [Warning] lambda_l1 is set=0, reg_alpha=0.0 will be ignored. Current value: lambda_l1=0\n",
      "[LightGBM] [Warning] bagging_fraction is set=0.9000000000000001, subsample=1.0 will be ignored. Current value: bagging_fraction=0.9000000000000001\n",
      "[LightGBM] [Warning] feature_fraction is set=0.9, colsample_bytree=1.0 will be ignored. Current value: feature_fraction=0.9\n",
      "[LightGBM] [Warning] min_data_in_leaf is set=100, min_child_samples=20 will be ignored. Current value: min_data_in_leaf=100\n",
      "[LightGBM] [Warning] bagging_freq is set=1, subsample_freq=0 will be ignored. Current value: bagging_freq=1\n",
      "[LightGBM] [Warning] min_gain_to_split is set=9.4, min_split_gain=0.0 will be ignored. Current value: min_gain_to_split=9.4\n",
      "[LightGBM] [Warning] lambda_l2 is set=60, reg_lambda=0.0 will be ignored. Current value: lambda_l2=60\n",
      "Training until validation scores don't improve for 20 rounds\n"
     ]
    },
    {
     "name": "stderr",
     "output_type": "stream",
     "text": [
      "[I 2023-09-10 06:33:21,491] Trial 421 pruned. Trial was pruned at iteration 0.\n",
      "[I 2023-09-10 06:33:21,828] Trial 422 pruned. Trial was pruned at iteration 21.\n"
     ]
    },
    {
     "name": "stdout",
     "output_type": "stream",
     "text": [
      "Training until validation scores don't improve for 20 rounds\n"
     ]
    },
    {
     "name": "stderr",
     "output_type": "stream",
     "text": [
      "[I 2023-09-10 06:33:22,189] Trial 423 pruned. Trial was pruned at iteration 21.\n"
     ]
    },
    {
     "name": "stdout",
     "output_type": "stream",
     "text": [
      "Training until validation scores don't improve for 20 rounds\n"
     ]
    },
    {
     "name": "stderr",
     "output_type": "stream",
     "text": [
      "[I 2023-09-10 06:33:22,537] Trial 424 finished with value: 0.8060570762958649 and parameters: {'n_estimators': 200, 'learning_rate': 0.5, 'num_leaves': 440, 'max_depth': 5, 'min_data_in_leaf': 100, 'lambda_l1': 0, 'lambda_l2': 60, 'min_gain_to_split': 8.8, 'bagging_fraction': 1.0, 'bagging_freq': 1, 'feature_fraction': 0.9}. Best is trial 21 with value: 0.8300815375655213.\n"
     ]
    },
    {
     "name": "stdout",
     "output_type": "stream",
     "text": [
      "Training until validation scores don't improve for 20 rounds\n",
      "Early stopping, best iteration is:\n",
      "[6]\tvalid_0's auc: 0.806057\tvalid_0's binary_logloss: 0.58076\n"
     ]
    },
    {
     "name": "stderr",
     "output_type": "stream",
     "text": [
      "[I 2023-09-10 06:33:22,827] Trial 425 pruned. Trial was pruned at iteration 0.\n"
     ]
    },
    {
     "name": "stdout",
     "output_type": "stream",
     "text": [
      "[LightGBM] [Warning] lambda_l1 is set=0, reg_alpha=0.0 will be ignored. Current value: lambda_l1=0\n",
      "[LightGBM] [Warning] bagging_fraction is set=0.7, subsample=1.0 will be ignored. Current value: bagging_fraction=0.7\n",
      "[LightGBM] [Warning] feature_fraction is set=0.9, colsample_bytree=1.0 will be ignored. Current value: feature_fraction=0.9\n",
      "[LightGBM] [Warning] min_data_in_leaf is set=100, min_child_samples=20 will be ignored. Current value: min_data_in_leaf=100\n",
      "[LightGBM] [Warning] bagging_freq is set=1, subsample_freq=0 will be ignored. Current value: bagging_freq=1\n",
      "[LightGBM] [Warning] min_gain_to_split is set=9.1, min_split_gain=0.0 will be ignored. Current value: min_gain_to_split=9.1\n",
      "[LightGBM] [Warning] lambda_l2 is set=60, reg_lambda=0.0 will be ignored. Current value: lambda_l2=60\n"
     ]
    },
    {
     "name": "stderr",
     "output_type": "stream",
     "text": [
      "[I 2023-09-10 06:33:23,161] Trial 426 pruned. Trial was pruned at iteration 21.\n"
     ]
    },
    {
     "name": "stdout",
     "output_type": "stream",
     "text": [
      "Training until validation scores don't improve for 20 rounds\n"
     ]
    },
    {
     "name": "stderr",
     "output_type": "stream",
     "text": [
      "[I 2023-09-10 06:33:23,463] Trial 427 pruned. Trial was pruned at iteration 21.\n"
     ]
    },
    {
     "name": "stdout",
     "output_type": "stream",
     "text": [
      "Training until validation scores don't improve for 20 rounds\n"
     ]
    },
    {
     "name": "stderr",
     "output_type": "stream",
     "text": [
      "[I 2023-09-10 06:33:23,738] Trial 428 pruned. Trial was pruned at iteration 0.\n",
      "[I 2023-09-10 06:33:24,088] Trial 429 pruned. Trial was pruned at iteration 21.\n"
     ]
    },
    {
     "name": "stdout",
     "output_type": "stream",
     "text": [
      "Training until validation scores don't improve for 20 rounds\n"
     ]
    },
    {
     "name": "stderr",
     "output_type": "stream",
     "text": [
      "[I 2023-09-10 06:33:24,448] Trial 430 pruned. Trial was pruned at iteration 21.\n"
     ]
    },
    {
     "name": "stdout",
     "output_type": "stream",
     "text": [
      "Training until validation scores don't improve for 20 rounds\n"
     ]
    },
    {
     "name": "stderr",
     "output_type": "stream",
     "text": [
      "[I 2023-09-10 06:33:24,733] Trial 431 pruned. Trial was pruned at iteration 0.\n",
      "[I 2023-09-10 06:33:25,054] Trial 432 finished with value: 0.8025626092020967 and parameters: {'n_estimators': 200, 'learning_rate': 0.5, 'num_leaves': 460, 'max_depth': 5, 'min_data_in_leaf': 100, 'lambda_l1': 0, 'lambda_l2': 65, 'min_gain_to_split': 9.200000000000001, 'bagging_fraction': 1.0, 'bagging_freq': 1, 'feature_fraction': 0.9}. Best is trial 21 with value: 0.8300815375655213.\n"
     ]
    },
    {
     "name": "stdout",
     "output_type": "stream",
     "text": [
      "Training until validation scores don't improve for 20 rounds\n",
      "Early stopping, best iteration is:\n",
      "[6]\tvalid_0's auc: 0.802563\tvalid_0's binary_logloss: 0.582765\n"
     ]
    },
    {
     "name": "stderr",
     "output_type": "stream",
     "text": [
      "[I 2023-09-10 06:33:25,380] Trial 433 finished with value: 0.8025626092020967 and parameters: {'n_estimators': 200, 'learning_rate': 0.5, 'num_leaves': 420, 'max_depth': 5, 'min_data_in_leaf': 100, 'lambda_l1': 0, 'lambda_l2': 65, 'min_gain_to_split': 8.5, 'bagging_fraction': 1.0, 'bagging_freq': 1, 'feature_fraction': 0.9}. Best is trial 21 with value: 0.8300815375655213.\n"
     ]
    },
    {
     "name": "stdout",
     "output_type": "stream",
     "text": [
      "[LightGBM] [Warning] lambda_l1 is set=0, reg_alpha=0.0 will be ignored. Current value: lambda_l1=0\n",
      "[LightGBM] [Warning] bagging_fraction is set=1.0, subsample=1.0 will be ignored. Current value: bagging_fraction=1.0\n",
      "[LightGBM] [Warning] feature_fraction is set=0.9, colsample_bytree=1.0 will be ignored. Current value: feature_fraction=0.9\n",
      "[LightGBM] [Warning] min_data_in_leaf is set=100, min_child_samples=20 will be ignored. Current value: min_data_in_leaf=100\n",
      "[LightGBM] [Warning] bagging_freq is set=1, subsample_freq=0 will be ignored. Current value: bagging_freq=1\n",
      "[LightGBM] [Warning] min_gain_to_split is set=8.5, min_split_gain=0.0 will be ignored. Current value: min_gain_to_split=8.5\n",
      "[LightGBM] [Warning] lambda_l2 is set=65, reg_lambda=0.0 will be ignored. Current value: lambda_l2=65\n",
      "Training until validation scores don't improve for 20 rounds\n",
      "Early stopping, best iteration is:\n",
      "[6]\tvalid_0's auc: 0.802563\tvalid_0's binary_logloss: 0.582765\n"
     ]
    },
    {
     "name": "stderr",
     "output_type": "stream",
     "text": [
      "[I 2023-09-10 06:33:25,710] Trial 434 pruned. Trial was pruned at iteration 21.\n"
     ]
    },
    {
     "name": "stdout",
     "output_type": "stream",
     "text": [
      "[LightGBM] [Warning] lambda_l1 is set=0, reg_alpha=0.0 will be ignored. Current value: lambda_l1=0\n",
      "[LightGBM] [Warning] bagging_fraction is set=1.0, subsample=1.0 will be ignored. Current value: bagging_fraction=1.0\n",
      "[LightGBM] [Warning] feature_fraction is set=0.9, colsample_bytree=1.0 will be ignored. Current value: feature_fraction=0.9\n",
      "[LightGBM] [Warning] min_data_in_leaf is set=100, min_child_samples=20 will be ignored. Current value: min_data_in_leaf=100\n",
      "[LightGBM] [Warning] bagging_freq is set=1, subsample_freq=0 will be ignored. Current value: bagging_freq=1\n",
      "[LightGBM] [Warning] min_gain_to_split is set=8.0, min_split_gain=0.0 will be ignored. Current value: min_gain_to_split=8.0\n",
      "[LightGBM] [Warning] lambda_l2 is set=60, reg_lambda=0.0 will be ignored. Current value: lambda_l2=60\n",
      "Training until validation scores don't improve for 20 rounds\n"
     ]
    },
    {
     "name": "stderr",
     "output_type": "stream",
     "text": [
      "[I 2023-09-10 06:33:26,046] Trial 435 pruned. Trial was pruned at iteration 21.\n"
     ]
    },
    {
     "name": "stdout",
     "output_type": "stream",
     "text": [
      "Training until validation scores don't improve for 20 rounds\n"
     ]
    },
    {
     "name": "stderr",
     "output_type": "stream",
     "text": [
      "[I 2023-09-10 06:33:26,378] Trial 436 pruned. Trial was pruned at iteration 21.\n"
     ]
    },
    {
     "name": "stdout",
     "output_type": "stream",
     "text": [
      "Training until validation scores don't improve for 20 rounds\n"
     ]
    },
    {
     "name": "stderr",
     "output_type": "stream",
     "text": [
      "[I 2023-09-10 06:33:26,705] Trial 437 pruned. Trial was pruned at iteration 21.\n"
     ]
    },
    {
     "name": "stdout",
     "output_type": "stream",
     "text": [
      "Training until validation scores don't improve for 20 rounds\n"
     ]
    },
    {
     "name": "stderr",
     "output_type": "stream",
     "text": [
      "[I 2023-09-10 06:33:27,017] Trial 438 pruned. Trial was pruned at iteration 21.\n"
     ]
    },
    {
     "name": "stdout",
     "output_type": "stream",
     "text": [
      "Training until validation scores don't improve for 20 rounds\n"
     ]
    },
    {
     "name": "stderr",
     "output_type": "stream",
     "text": [
      "[I 2023-09-10 06:33:27,320] Trial 439 pruned. Trial was pruned at iteration 21.\n"
     ]
    },
    {
     "name": "stdout",
     "output_type": "stream",
     "text": [
      "Training until validation scores don't improve for 20 rounds\n"
     ]
    },
    {
     "name": "stderr",
     "output_type": "stream",
     "text": [
      "[I 2023-09-10 06:33:27,624] Trial 440 pruned. Trial was pruned at iteration 21.\n"
     ]
    },
    {
     "name": "stdout",
     "output_type": "stream",
     "text": [
      "Training until validation scores don't improve for 20 rounds\n"
     ]
    },
    {
     "name": "stderr",
     "output_type": "stream",
     "text": [
      "[I 2023-09-10 06:33:27,910] Trial 441 pruned. Trial was pruned at iteration 0.\n",
      "[I 2023-09-10 06:33:28,188] Trial 442 pruned. Trial was pruned at iteration 0.\n",
      "[I 2023-09-10 06:33:28,473] Trial 443 pruned. Trial was pruned at iteration 0.\n",
      "[I 2023-09-10 06:33:28,776] Trial 444 pruned. Trial was pruned at iteration 21.\n"
     ]
    },
    {
     "name": "stdout",
     "output_type": "stream",
     "text": [
      "Training until validation scores don't improve for 20 rounds\n"
     ]
    },
    {
     "name": "stderr",
     "output_type": "stream",
     "text": [
      "[I 2023-09-10 06:33:29,143] Trial 445 finished with value: 0.8025626092020967 and parameters: {'n_estimators': 200, 'learning_rate': 0.5, 'num_leaves': 460, 'max_depth': 5, 'min_data_in_leaf': 100, 'lambda_l1': 0, 'lambda_l2': 65, 'min_gain_to_split': 8.6, 'bagging_fraction': 1.0, 'bagging_freq': 1, 'feature_fraction': 0.9}. Best is trial 21 with value: 0.8300815375655213.\n"
     ]
    },
    {
     "name": "stdout",
     "output_type": "stream",
     "text": [
      "Training until validation scores don't improve for 20 rounds\n",
      "Early stopping, best iteration is:\n",
      "[6]\tvalid_0's auc: 0.802563\tvalid_0's binary_logloss: 0.582765\n"
     ]
    },
    {
     "name": "stderr",
     "output_type": "stream",
     "text": [
      "[I 2023-09-10 06:33:29,525] Trial 446 pruned. Trial was pruned at iteration 21.\n"
     ]
    },
    {
     "name": "stdout",
     "output_type": "stream",
     "text": [
      "[LightGBM] [Warning] lambda_l1 is set=5, reg_alpha=0.0 will be ignored. Current value: lambda_l1=5\n",
      "[LightGBM] [Warning] bagging_fraction is set=1.0, subsample=1.0 will be ignored. Current value: bagging_fraction=1.0\n",
      "[LightGBM] [Warning] feature_fraction is set=0.9, colsample_bytree=1.0 will be ignored. Current value: feature_fraction=0.9\n",
      "[LightGBM] [Warning] min_data_in_leaf is set=100, min_child_samples=20 will be ignored. Current value: min_data_in_leaf=100\n",
      "[LightGBM] [Warning] bagging_freq is set=1, subsample_freq=0 will be ignored. Current value: bagging_freq=1\n",
      "[LightGBM] [Warning] min_gain_to_split is set=9.3, min_split_gain=0.0 will be ignored. Current value: min_gain_to_split=9.3\n",
      "[LightGBM] [Warning] lambda_l2 is set=60, reg_lambda=0.0 will be ignored. Current value: lambda_l2=60\n",
      "Training until validation scores don't improve for 20 rounds\n"
     ]
    },
    {
     "name": "stderr",
     "output_type": "stream",
     "text": [
      "[I 2023-09-10 06:33:29,842] Trial 447 pruned. Trial was pruned at iteration 0.\n",
      "[I 2023-09-10 06:33:30,187] Trial 448 pruned. Trial was pruned at iteration 21.\n"
     ]
    },
    {
     "name": "stdout",
     "output_type": "stream",
     "text": [
      "Training until validation scores don't improve for 20 rounds\n"
     ]
    },
    {
     "name": "stderr",
     "output_type": "stream",
     "text": [
      "[I 2023-09-10 06:33:30,599] Trial 449 pruned. Trial was pruned at iteration 29.\n"
     ]
    },
    {
     "name": "stdout",
     "output_type": "stream",
     "text": [
      "Training until validation scores don't improve for 20 rounds\n"
     ]
    },
    {
     "name": "stderr",
     "output_type": "stream",
     "text": [
      "[I 2023-09-10 06:33:30,940] Trial 450 pruned. Trial was pruned at iteration 0.\n",
      "[I 2023-09-10 06:33:31,257] Trial 451 pruned. Trial was pruned at iteration 0.\n",
      "[I 2023-09-10 06:33:31,561] Trial 452 pruned. Trial was pruned at iteration 21.\n"
     ]
    },
    {
     "name": "stdout",
     "output_type": "stream",
     "text": [
      "Training until validation scores don't improve for 20 rounds\n"
     ]
    },
    {
     "name": "stderr",
     "output_type": "stream",
     "text": [
      "[I 2023-09-10 06:33:31,850] Trial 453 pruned. Trial was pruned at iteration 0.\n",
      "[I 2023-09-10 06:33:32,156] Trial 454 pruned. Trial was pruned at iteration 21.\n"
     ]
    },
    {
     "name": "stdout",
     "output_type": "stream",
     "text": [
      "Training until validation scores don't improve for 20 rounds\n"
     ]
    },
    {
     "name": "stderr",
     "output_type": "stream",
     "text": [
      "[I 2023-09-10 06:33:32,508] Trial 455 finished with value: 0.8060570762958649 and parameters: {'n_estimators': 200, 'learning_rate': 0.5, 'num_leaves': 480, 'max_depth': 5, 'min_data_in_leaf': 100, 'lambda_l1': 0, 'lambda_l2': 60, 'min_gain_to_split': 8.8, 'bagging_fraction': 1.0, 'bagging_freq': 1, 'feature_fraction': 0.9}. Best is trial 21 with value: 0.8300815375655213.\n"
     ]
    },
    {
     "name": "stdout",
     "output_type": "stream",
     "text": [
      "Training until validation scores don't improve for 20 rounds\n",
      "Early stopping, best iteration is:\n",
      "[6]\tvalid_0's auc: 0.806057\tvalid_0's binary_logloss: 0.58076\n"
     ]
    },
    {
     "name": "stderr",
     "output_type": "stream",
     "text": [
      "[I 2023-09-10 06:33:32,829] Trial 456 pruned. Trial was pruned at iteration 0.\n"
     ]
    },
    {
     "name": "stdout",
     "output_type": "stream",
     "text": [
      "[LightGBM] [Warning] lambda_l1 is set=0, reg_alpha=0.0 will be ignored. Current value: lambda_l1=0\n",
      "[LightGBM] [Warning] bagging_fraction is set=0.2, subsample=1.0 will be ignored. Current value: bagging_fraction=0.2\n",
      "[LightGBM] [Warning] feature_fraction is set=0.9, colsample_bytree=1.0 will be ignored. Current value: feature_fraction=0.9\n",
      "[LightGBM] [Warning] min_data_in_leaf is set=100, min_child_samples=20 will be ignored. Current value: min_data_in_leaf=100\n",
      "[LightGBM] [Warning] bagging_freq is set=1, subsample_freq=0 will be ignored. Current value: bagging_freq=1\n",
      "[LightGBM] [Warning] min_gain_to_split is set=9.200000000000001, min_split_gain=0.0 will be ignored. Current value: min_gain_to_split=9.200000000000001\n",
      "[LightGBM] [Warning] lambda_l2 is set=60, reg_lambda=0.0 will be ignored. Current value: lambda_l2=60\n"
     ]
    },
    {
     "name": "stderr",
     "output_type": "stream",
     "text": [
      "[I 2023-09-10 06:33:33,184] Trial 457 pruned. Trial was pruned at iteration 21.\n"
     ]
    },
    {
     "name": "stdout",
     "output_type": "stream",
     "text": [
      "Training until validation scores don't improve for 20 rounds\n"
     ]
    },
    {
     "name": "stderr",
     "output_type": "stream",
     "text": [
      "[I 2023-09-10 06:33:33,521] Trial 458 pruned. Trial was pruned at iteration 21.\n"
     ]
    },
    {
     "name": "stdout",
     "output_type": "stream",
     "text": [
      "Training until validation scores don't improve for 20 rounds\n"
     ]
    },
    {
     "name": "stderr",
     "output_type": "stream",
     "text": [
      "[I 2023-09-10 06:33:33,878] Trial 459 pruned. Trial was pruned at iteration 21.\n"
     ]
    },
    {
     "name": "stdout",
     "output_type": "stream",
     "text": [
      "Training until validation scores don't improve for 20 rounds\n"
     ]
    },
    {
     "name": "stderr",
     "output_type": "stream",
     "text": [
      "[I 2023-09-10 06:33:34,257] Trial 460 finished with value: 0.8025626092020967 and parameters: {'n_estimators': 300, 'learning_rate': 0.5, 'num_leaves': 440, 'max_depth': 5, 'min_data_in_leaf': 100, 'lambda_l1': 0, 'lambda_l2': 65, 'min_gain_to_split': 9.3, 'bagging_fraction': 1.0, 'bagging_freq': 1, 'feature_fraction': 0.9}. Best is trial 21 with value: 0.8300815375655213.\n"
     ]
    },
    {
     "name": "stdout",
     "output_type": "stream",
     "text": [
      "Training until validation scores don't improve for 20 rounds\n",
      "Early stopping, best iteration is:\n",
      "[6]\tvalid_0's auc: 0.802563\tvalid_0's binary_logloss: 0.582765\n"
     ]
    },
    {
     "name": "stderr",
     "output_type": "stream",
     "text": [
      "[I 2023-09-10 06:33:34,628] Trial 461 pruned. Trial was pruned at iteration 29.\n"
     ]
    },
    {
     "name": "stdout",
     "output_type": "stream",
     "text": [
      "[LightGBM] [Warning] lambda_l1 is set=0, reg_alpha=0.0 will be ignored. Current value: lambda_l1=0\n",
      "[LightGBM] [Warning] bagging_fraction is set=1.0, subsample=1.0 will be ignored. Current value: bagging_fraction=1.0\n",
      "[LightGBM] [Warning] feature_fraction is set=0.9, colsample_bytree=1.0 will be ignored. Current value: feature_fraction=0.9\n",
      "[LightGBM] [Warning] min_data_in_leaf is set=100, min_child_samples=20 will be ignored. Current value: min_data_in_leaf=100\n",
      "[LightGBM] [Warning] bagging_freq is set=1, subsample_freq=0 will be ignored. Current value: bagging_freq=1\n",
      "[LightGBM] [Warning] min_gain_to_split is set=0.8, min_split_gain=0.0 will be ignored. Current value: min_gain_to_split=0.8\n",
      "[LightGBM] [Warning] lambda_l2 is set=60, reg_lambda=0.0 will be ignored. Current value: lambda_l2=60\n",
      "Training until validation scores don't improve for 20 rounds\n"
     ]
    },
    {
     "name": "stderr",
     "output_type": "stream",
     "text": [
      "[I 2023-09-10 06:33:34,920] Trial 462 pruned. Trial was pruned at iteration 0.\n",
      "[I 2023-09-10 06:33:35,257] Trial 463 pruned. Trial was pruned at iteration 21.\n"
     ]
    },
    {
     "name": "stdout",
     "output_type": "stream",
     "text": [
      "Training until validation scores don't improve for 20 rounds\n"
     ]
    },
    {
     "name": "stderr",
     "output_type": "stream",
     "text": [
      "[I 2023-09-10 06:33:35,567] Trial 464 pruned. Trial was pruned at iteration 0.\n",
      "[I 2023-09-10 06:33:35,910] Trial 465 pruned. Trial was pruned at iteration 21.\n"
     ]
    },
    {
     "name": "stdout",
     "output_type": "stream",
     "text": [
      "Training until validation scores don't improve for 20 rounds\n"
     ]
    },
    {
     "name": "stderr",
     "output_type": "stream",
     "text": [
      "[I 2023-09-10 06:33:36,253] Trial 466 pruned. Trial was pruned at iteration 21.\n"
     ]
    },
    {
     "name": "stdout",
     "output_type": "stream",
     "text": [
      "Training until validation scores don't improve for 20 rounds\n"
     ]
    },
    {
     "name": "stderr",
     "output_type": "stream",
     "text": [
      "[I 2023-09-10 06:33:36,595] Trial 467 pruned. Trial was pruned at iteration 21.\n"
     ]
    },
    {
     "name": "stdout",
     "output_type": "stream",
     "text": [
      "Training until validation scores don't improve for 20 rounds\n"
     ]
    },
    {
     "name": "stderr",
     "output_type": "stream",
     "text": [
      "[I 2023-09-10 06:33:36,963] Trial 468 pruned. Trial was pruned at iteration 21.\n"
     ]
    },
    {
     "name": "stdout",
     "output_type": "stream",
     "text": [
      "Training until validation scores don't improve for 20 rounds\n"
     ]
    },
    {
     "name": "stderr",
     "output_type": "stream",
     "text": [
      "[I 2023-09-10 06:33:37,329] Trial 469 finished with value: 0.8025626092020967 and parameters: {'n_estimators': 200, 'learning_rate': 0.5, 'num_leaves': 440, 'max_depth': 5, 'min_data_in_leaf': 100, 'lambda_l1': 0, 'lambda_l2': 65, 'min_gain_to_split': 8.9, 'bagging_fraction': 1.0, 'bagging_freq': 1, 'feature_fraction': 0.9}. Best is trial 21 with value: 0.8300815375655213.\n"
     ]
    },
    {
     "name": "stdout",
     "output_type": "stream",
     "text": [
      "Training until validation scores don't improve for 20 rounds\n",
      "Early stopping, best iteration is:\n",
      "[6]\tvalid_0's auc: 0.802563\tvalid_0's binary_logloss: 0.582765\n"
     ]
    },
    {
     "name": "stderr",
     "output_type": "stream",
     "text": [
      "[I 2023-09-10 06:33:37,643] Trial 470 pruned. Trial was pruned at iteration 0.\n"
     ]
    },
    {
     "name": "stdout",
     "output_type": "stream",
     "text": [
      "[LightGBM] [Warning] lambda_l1 is set=5, reg_alpha=0.0 will be ignored. Current value: lambda_l1=5\n",
      "[LightGBM] [Warning] bagging_fraction is set=1.0, subsample=1.0 will be ignored. Current value: bagging_fraction=1.0\n",
      "[LightGBM] [Warning] feature_fraction is set=0.8, colsample_bytree=1.0 will be ignored. Current value: feature_fraction=0.8\n",
      "[LightGBM] [Warning] min_data_in_leaf is set=100, min_child_samples=20 will be ignored. Current value: min_data_in_leaf=100\n",
      "[LightGBM] [Warning] bagging_freq is set=1, subsample_freq=0 will be ignored. Current value: bagging_freq=1\n",
      "[LightGBM] [Warning] min_gain_to_split is set=8.4, min_split_gain=0.0 will be ignored. Current value: min_gain_to_split=8.4\n",
      "[LightGBM] [Warning] lambda_l2 is set=70, reg_lambda=0.0 will be ignored. Current value: lambda_l2=70\n"
     ]
    },
    {
     "name": "stderr",
     "output_type": "stream",
     "text": [
      "[I 2023-09-10 06:33:38,006] Trial 471 finished with value: 0.8060570762958649 and parameters: {'n_estimators': 200, 'learning_rate': 0.5, 'num_leaves': 420, 'max_depth': 5, 'min_data_in_leaf': 100, 'lambda_l1': 0, 'lambda_l2': 60, 'min_gain_to_split': 9.200000000000001, 'bagging_fraction': 1.0, 'bagging_freq': 1, 'feature_fraction': 0.9}. Best is trial 21 with value: 0.8300815375655213.\n"
     ]
    },
    {
     "name": "stdout",
     "output_type": "stream",
     "text": [
      "Training until validation scores don't improve for 20 rounds\n",
      "Early stopping, best iteration is:\n",
      "[6]\tvalid_0's auc: 0.806057\tvalid_0's binary_logloss: 0.58076\n"
     ]
    },
    {
     "name": "stderr",
     "output_type": "stream",
     "text": [
      "[I 2023-09-10 06:33:38,316] Trial 472 pruned. Trial was pruned at iteration 21.\n"
     ]
    },
    {
     "name": "stdout",
     "output_type": "stream",
     "text": [
      "[LightGBM] [Warning] lambda_l1 is set=5, reg_alpha=0.0 will be ignored. Current value: lambda_l1=5\n",
      "[LightGBM] [Warning] bagging_fraction is set=1.0, subsample=1.0 will be ignored. Current value: bagging_fraction=1.0\n",
      "[LightGBM] [Warning] feature_fraction is set=0.9, colsample_bytree=1.0 will be ignored. Current value: feature_fraction=0.9\n",
      "[LightGBM] [Warning] min_data_in_leaf is set=100, min_child_samples=20 will be ignored. Current value: min_data_in_leaf=100\n",
      "[LightGBM] [Warning] bagging_freq is set=1, subsample_freq=0 will be ignored. Current value: bagging_freq=1\n",
      "[LightGBM] [Warning] min_gain_to_split is set=10.0, min_split_gain=0.0 will be ignored. Current value: min_gain_to_split=10.0\n",
      "[LightGBM] [Warning] lambda_l2 is set=60, reg_lambda=0.0 will be ignored. Current value: lambda_l2=60\n",
      "Training until validation scores don't improve for 20 rounds\n"
     ]
    },
    {
     "name": "stderr",
     "output_type": "stream",
     "text": [
      "[I 2023-09-10 06:33:38,682] Trial 473 finished with value: 0.8060570762958649 and parameters: {'n_estimators': 300, 'learning_rate': 0.5, 'num_leaves': 420, 'max_depth': 5, 'min_data_in_leaf': 100, 'lambda_l1': 0, 'lambda_l2': 60, 'min_gain_to_split': 9.4, 'bagging_fraction': 1.0, 'bagging_freq': 1, 'feature_fraction': 0.9}. Best is trial 21 with value: 0.8300815375655213.\n"
     ]
    },
    {
     "name": "stdout",
     "output_type": "stream",
     "text": [
      "Training until validation scores don't improve for 20 rounds\n",
      "Early stopping, best iteration is:\n",
      "[6]\tvalid_0's auc: 0.806057\tvalid_0's binary_logloss: 0.58076\n"
     ]
    },
    {
     "name": "stderr",
     "output_type": "stream",
     "text": [
      "[I 2023-09-10 06:33:38,970] Trial 474 pruned. Trial was pruned at iteration 0.\n"
     ]
    },
    {
     "name": "stdout",
     "output_type": "stream",
     "text": [
      "[LightGBM] [Warning] lambda_l1 is set=0, reg_alpha=0.0 will be ignored. Current value: lambda_l1=0\n",
      "[LightGBM] [Warning] bagging_fraction is set=1.0, subsample=1.0 will be ignored. Current value: bagging_fraction=1.0\n",
      "[LightGBM] [Warning] feature_fraction is set=0.9, colsample_bytree=1.0 will be ignored. Current value: feature_fraction=0.9\n",
      "[LightGBM] [Warning] min_data_in_leaf is set=400, min_child_samples=20 will be ignored. Current value: min_data_in_leaf=400\n",
      "[LightGBM] [Warning] bagging_freq is set=1, subsample_freq=0 will be ignored. Current value: bagging_freq=1\n",
      "[LightGBM] [Warning] min_gain_to_split is set=9.5, min_split_gain=0.0 will be ignored. Current value: min_gain_to_split=9.5\n",
      "[LightGBM] [Warning] lambda_l2 is set=60, reg_lambda=0.0 will be ignored. Current value: lambda_l2=60\n"
     ]
    },
    {
     "name": "stderr",
     "output_type": "stream",
     "text": [
      "[I 2023-09-10 06:33:39,290] Trial 475 pruned. Trial was pruned at iteration 0.\n",
      "[I 2023-09-10 06:33:39,589] Trial 476 pruned. Trial was pruned at iteration 0.\n",
      "[I 2023-09-10 06:33:39,971] Trial 477 finished with value: 0.8067850902737332 and parameters: {'n_estimators': 300, 'learning_rate': 0.5, 'num_leaves': 480, 'max_depth': 5, 'min_data_in_leaf': 100, 'lambda_l1': 0, 'lambda_l2': 5, 'min_gain_to_split': 9.3, 'bagging_fraction': 1.0, 'bagging_freq': 1, 'feature_fraction': 0.9}. Best is trial 21 with value: 0.8300815375655213.\n"
     ]
    },
    {
     "name": "stdout",
     "output_type": "stream",
     "text": [
      "Training until validation scores don't improve for 20 rounds\n",
      "Early stopping, best iteration is:\n",
      "[5]\tvalid_0's auc: 0.806785\tvalid_0's binary_logloss: 0.555286\n"
     ]
    },
    {
     "name": "stderr",
     "output_type": "stream",
     "text": [
      "[I 2023-09-10 06:33:40,290] Trial 478 pruned. Trial was pruned at iteration 0.\n"
     ]
    },
    {
     "name": "stdout",
     "output_type": "stream",
     "text": [
      "[LightGBM] [Warning] lambda_l1 is set=0, reg_alpha=0.0 will be ignored. Current value: lambda_l1=0\n",
      "[LightGBM] [Warning] bagging_fraction is set=1.0, subsample=1.0 will be ignored. Current value: bagging_fraction=1.0\n",
      "[LightGBM] [Warning] feature_fraction is set=0.2, colsample_bytree=1.0 will be ignored. Current value: feature_fraction=0.2\n",
      "[LightGBM] [Warning] min_data_in_leaf is set=100, min_child_samples=20 will be ignored. Current value: min_data_in_leaf=100\n",
      "[LightGBM] [Warning] bagging_freq is set=1, subsample_freq=0 will be ignored. Current value: bagging_freq=1\n",
      "[LightGBM] [Warning] min_gain_to_split is set=9.700000000000001, min_split_gain=0.0 will be ignored. Current value: min_gain_to_split=9.700000000000001\n",
      "[LightGBM] [Warning] lambda_l2 is set=55, reg_lambda=0.0 will be ignored. Current value: lambda_l2=55\n"
     ]
    },
    {
     "name": "stderr",
     "output_type": "stream",
     "text": [
      "[I 2023-09-10 06:33:40,591] Trial 479 pruned. Trial was pruned at iteration 21.\n"
     ]
    },
    {
     "name": "stdout",
     "output_type": "stream",
     "text": [
      "Training until validation scores don't improve for 20 rounds\n"
     ]
    },
    {
     "name": "stderr",
     "output_type": "stream",
     "text": [
      "[I 2023-09-10 06:33:40,897] Trial 480 pruned. Trial was pruned at iteration 0.\n",
      "[I 2023-09-10 06:33:41,252] Trial 481 pruned. Trial was pruned at iteration 21.\n"
     ]
    },
    {
     "name": "stdout",
     "output_type": "stream",
     "text": [
      "Training until validation scores don't improve for 20 rounds\n"
     ]
    },
    {
     "name": "stderr",
     "output_type": "stream",
     "text": [
      "[I 2023-09-10 06:33:41,593] Trial 482 pruned. Trial was pruned at iteration 21.\n"
     ]
    },
    {
     "name": "stdout",
     "output_type": "stream",
     "text": [
      "Training until validation scores don't improve for 20 rounds\n"
     ]
    },
    {
     "name": "stderr",
     "output_type": "stream",
     "text": [
      "[I 2023-09-10 06:33:41,979] Trial 483 pruned. Trial was pruned at iteration 29.\n"
     ]
    },
    {
     "name": "stdout",
     "output_type": "stream",
     "text": [
      "Training until validation scores don't improve for 20 rounds\n"
     ]
    },
    {
     "name": "stderr",
     "output_type": "stream",
     "text": [
      "[I 2023-09-10 06:33:42,343] Trial 484 finished with value: 0.8043098427489809 and parameters: {'n_estimators': 300, 'learning_rate': 0.5, 'num_leaves': 500, 'max_depth': 6, 'min_data_in_leaf': 100, 'lambda_l1': 0, 'lambda_l2': 15, 'min_gain_to_split': 9.8, 'bagging_fraction': 1.0, 'bagging_freq': 1, 'feature_fraction': 0.9}. Best is trial 21 with value: 0.8300815375655213.\n"
     ]
    },
    {
     "name": "stdout",
     "output_type": "stream",
     "text": [
      "Training until validation scores don't improve for 20 rounds\n",
      "Early stopping, best iteration is:\n",
      "[8]\tvalid_0's auc: 0.80431\tvalid_0's binary_logloss: 0.564109\n"
     ]
    },
    {
     "name": "stderr",
     "output_type": "stream",
     "text": [
      "[I 2023-09-10 06:33:42,715] Trial 485 finished with value: 0.8079499126383226 and parameters: {'n_estimators': 500, 'learning_rate': 0.45000000000000007, 'num_leaves': 500, 'max_depth': 6, 'min_data_in_leaf': 100, 'lambda_l1': 0, 'lambda_l2': 10, 'min_gain_to_split': 9.700000000000001, 'bagging_fraction': 1.0, 'bagging_freq': 1, 'feature_fraction': 0.9}. Best is trial 21 with value: 0.8300815375655213.\n"
     ]
    },
    {
     "name": "stdout",
     "output_type": "stream",
     "text": [
      "[LightGBM] [Warning] lambda_l1 is set=0, reg_alpha=0.0 will be ignored. Current value: lambda_l1=0\n",
      "[LightGBM] [Warning] bagging_fraction is set=1.0, subsample=1.0 will be ignored. Current value: bagging_fraction=1.0\n",
      "[LightGBM] [Warning] feature_fraction is set=0.9, colsample_bytree=1.0 will be ignored. Current value: feature_fraction=0.9\n",
      "[LightGBM] [Warning] min_data_in_leaf is set=100, min_child_samples=20 will be ignored. Current value: min_data_in_leaf=100\n",
      "[LightGBM] [Warning] bagging_freq is set=1, subsample_freq=0 will be ignored. Current value: bagging_freq=1\n",
      "[LightGBM] [Warning] min_gain_to_split is set=9.700000000000001, min_split_gain=0.0 will be ignored. Current value: min_gain_to_split=9.700000000000001\n",
      "[LightGBM] [Warning] lambda_l2 is set=10, reg_lambda=0.0 will be ignored. Current value: lambda_l2=10\n",
      "Training until validation scores don't improve for 20 rounds\n",
      "Early stopping, best iteration is:\n",
      "[5]\tvalid_0's auc: 0.80795\tvalid_0's binary_logloss: 0.563717\n"
     ]
    },
    {
     "name": "stderr",
     "output_type": "stream",
     "text": [
      "[I 2023-09-10 06:33:43,041] Trial 486 finished with value: 0.806421083284799 and parameters: {'n_estimators': 500, 'learning_rate': 0.45000000000000007, 'num_leaves': 500, 'max_depth': 6, 'min_data_in_leaf': 100, 'lambda_l1': 5, 'lambda_l2': 10, 'min_gain_to_split': 10.3, 'bagging_fraction': 1.0, 'bagging_freq': 1, 'feature_fraction': 0.9}. Best is trial 21 with value: 0.8300815375655213.\n"
     ]
    },
    {
     "name": "stdout",
     "output_type": "stream",
     "text": [
      "[LightGBM] [Warning] lambda_l1 is set=5, reg_alpha=0.0 will be ignored. Current value: lambda_l1=5\n",
      "[LightGBM] [Warning] bagging_fraction is set=1.0, subsample=1.0 will be ignored. Current value: bagging_fraction=1.0\n",
      "[LightGBM] [Warning] feature_fraction is set=0.9, colsample_bytree=1.0 will be ignored. Current value: feature_fraction=0.9\n",
      "[LightGBM] [Warning] min_data_in_leaf is set=100, min_child_samples=20 will be ignored. Current value: min_data_in_leaf=100\n",
      "[LightGBM] [Warning] bagging_freq is set=1, subsample_freq=0 will be ignored. Current value: bagging_freq=1\n",
      "[LightGBM] [Warning] min_gain_to_split is set=10.3, min_split_gain=0.0 will be ignored. Current value: min_gain_to_split=10.3\n",
      "[LightGBM] [Warning] lambda_l2 is set=10, reg_lambda=0.0 will be ignored. Current value: lambda_l2=10\n",
      "Training until validation scores don't improve for 20 rounds\n",
      "Early stopping, best iteration is:\n",
      "[5]\tvalid_0's auc: 0.806421\tvalid_0's binary_logloss: 0.574825\n"
     ]
    },
    {
     "name": "stderr",
     "output_type": "stream",
     "text": [
      "[I 2023-09-10 06:33:43,350] Trial 487 pruned. Trial was pruned at iteration 21.\n"
     ]
    },
    {
     "name": "stdout",
     "output_type": "stream",
     "text": [
      "[LightGBM] [Warning] lambda_l1 is set=5, reg_alpha=0.0 will be ignored. Current value: lambda_l1=5\n",
      "[LightGBM] [Warning] bagging_fraction is set=1.0, subsample=1.0 will be ignored. Current value: bagging_fraction=1.0\n",
      "[LightGBM] [Warning] feature_fraction is set=0.9, colsample_bytree=1.0 will be ignored. Current value: feature_fraction=0.9\n",
      "[LightGBM] [Warning] min_data_in_leaf is set=100, min_child_samples=20 will be ignored. Current value: min_data_in_leaf=100\n",
      "[LightGBM] [Warning] bagging_freq is set=1, subsample_freq=0 will be ignored. Current value: bagging_freq=1\n",
      "[LightGBM] [Warning] min_gain_to_split is set=10.5, min_split_gain=0.0 will be ignored. Current value: min_gain_to_split=10.5\n",
      "[LightGBM] [Warning] lambda_l2 is set=5, reg_lambda=0.0 will be ignored. Current value: lambda_l2=5\n",
      "Training until validation scores don't improve for 20 rounds\n"
     ]
    },
    {
     "name": "stderr",
     "output_type": "stream",
     "text": [
      "[I 2023-09-10 06:33:43,699] Trial 488 pruned. Trial was pruned at iteration 21.\n"
     ]
    },
    {
     "name": "stdout",
     "output_type": "stream",
     "text": [
      "Training until validation scores don't improve for 20 rounds\n"
     ]
    },
    {
     "name": "stderr",
     "output_type": "stream",
     "text": [
      "[I 2023-09-10 06:33:44,042] Trial 489 pruned. Trial was pruned at iteration 21.\n"
     ]
    },
    {
     "name": "stdout",
     "output_type": "stream",
     "text": [
      "Training until validation scores don't improve for 20 rounds\n"
     ]
    },
    {
     "name": "stderr",
     "output_type": "stream",
     "text": [
      "[I 2023-09-10 06:33:44,389] Trial 490 pruned. Trial was pruned at iteration 21.\n"
     ]
    },
    {
     "name": "stdout",
     "output_type": "stream",
     "text": [
      "Training until validation scores don't improve for 20 rounds\n"
     ]
    },
    {
     "name": "stderr",
     "output_type": "stream",
     "text": [
      "[I 2023-09-10 06:33:44,742] Trial 491 finished with value: 0.8095515433896331 and parameters: {'n_estimators': 400, 'learning_rate': 0.5, 'num_leaves': 500, 'max_depth': 6, 'min_data_in_leaf': 100, 'lambda_l1': 0, 'lambda_l2': 10, 'min_gain_to_split': 10.4, 'bagging_fraction': 1.0, 'bagging_freq': 1, 'feature_fraction': 0.9}. Best is trial 21 with value: 0.8300815375655213.\n"
     ]
    },
    {
     "name": "stdout",
     "output_type": "stream",
     "text": [
      "Training until validation scores don't improve for 20 rounds\n",
      "Early stopping, best iteration is:\n",
      "[5]\tvalid_0's auc: 0.809552\tvalid_0's binary_logloss: 0.557822\n"
     ]
    },
    {
     "name": "stderr",
     "output_type": "stream",
     "text": [
      "[I 2023-09-10 06:33:45,111] Trial 492 finished with value: 0.8080955154338963 and parameters: {'n_estimators': 500, 'learning_rate': 0.4, 'num_leaves': 500, 'max_depth': 6, 'min_data_in_leaf': 100, 'lambda_l1': 0, 'lambda_l2': 5, 'min_gain_to_split': 10.0, 'bagging_fraction': 1.0, 'bagging_freq': 1, 'feature_fraction': 0.9}. Best is trial 21 with value: 0.8300815375655213.\n"
     ]
    },
    {
     "name": "stdout",
     "output_type": "stream",
     "text": [
      "[LightGBM] [Warning] lambda_l1 is set=0, reg_alpha=0.0 will be ignored. Current value: lambda_l1=0\n",
      "[LightGBM] [Warning] bagging_fraction is set=1.0, subsample=1.0 will be ignored. Current value: bagging_fraction=1.0\n",
      "[LightGBM] [Warning] feature_fraction is set=0.9, colsample_bytree=1.0 will be ignored. Current value: feature_fraction=0.9\n",
      "[LightGBM] [Warning] min_data_in_leaf is set=100, min_child_samples=20 will be ignored. Current value: min_data_in_leaf=100\n",
      "[LightGBM] [Warning] bagging_freq is set=1, subsample_freq=0 will be ignored. Current value: bagging_freq=1\n",
      "[LightGBM] [Warning] min_gain_to_split is set=10.0, min_split_gain=0.0 will be ignored. Current value: min_gain_to_split=10.0\n",
      "[LightGBM] [Warning] lambda_l2 is set=5, reg_lambda=0.0 will be ignored. Current value: lambda_l2=5\n",
      "Training until validation scores don't improve for 20 rounds\n",
      "Early stopping, best iteration is:\n",
      "[5]\tvalid_0's auc: 0.808096\tvalid_0's binary_logloss: 0.564674\n"
     ]
    },
    {
     "name": "stderr",
     "output_type": "stream",
     "text": [
      "[I 2023-09-10 06:33:45,424] Trial 493 pruned. Trial was pruned at iteration 0.\n"
     ]
    },
    {
     "name": "stdout",
     "output_type": "stream",
     "text": [
      "[LightGBM] [Warning] lambda_l1 is set=60, reg_alpha=0.0 will be ignored. Current value: lambda_l1=60\n",
      "[LightGBM] [Warning] bagging_fraction is set=0.7, subsample=1.0 will be ignored. Current value: bagging_fraction=0.7\n",
      "[LightGBM] [Warning] feature_fraction is set=0.30000000000000004, colsample_bytree=1.0 will be ignored. Current value: feature_fraction=0.30000000000000004\n",
      "[LightGBM] [Warning] min_data_in_leaf is set=100, min_child_samples=20 will be ignored. Current value: min_data_in_leaf=100\n",
      "[LightGBM] [Warning] bagging_freq is set=1, subsample_freq=0 will be ignored. Current value: bagging_freq=1\n",
      "[LightGBM] [Warning] min_gain_to_split is set=10.8, min_split_gain=0.0 will be ignored. Current value: min_gain_to_split=10.8\n",
      "[LightGBM] [Warning] lambda_l2 is set=5, reg_lambda=0.0 will be ignored. Current value: lambda_l2=5\n"
     ]
    },
    {
     "name": "stderr",
     "output_type": "stream",
     "text": [
      "[I 2023-09-10 06:33:45,773] Trial 494 pruned. Trial was pruned at iteration 21.\n"
     ]
    },
    {
     "name": "stdout",
     "output_type": "stream",
     "text": [
      "Training until validation scores don't improve for 20 rounds\n"
     ]
    },
    {
     "name": "stderr",
     "output_type": "stream",
     "text": [
      "[I 2023-09-10 06:33:46,086] Trial 495 pruned. Trial was pruned at iteration 21.\n"
     ]
    },
    {
     "name": "stdout",
     "output_type": "stream",
     "text": [
      "Training until validation scores don't improve for 20 rounds\n"
     ]
    },
    {
     "name": "stderr",
     "output_type": "stream",
     "text": [
      "[I 2023-09-10 06:33:46,418] Trial 496 finished with value: 0.807367501456028 and parameters: {'n_estimators': 500, 'learning_rate': 0.4, 'num_leaves': 500, 'max_depth': 6, 'min_data_in_leaf': 100, 'lambda_l1': 0, 'lambda_l2': 5, 'min_gain_to_split': 10.3, 'bagging_fraction': 1.0, 'bagging_freq': 1, 'feature_fraction': 0.8}. Best is trial 21 with value: 0.8300815375655213.\n"
     ]
    },
    {
     "name": "stdout",
     "output_type": "stream",
     "text": [
      "Training until validation scores don't improve for 20 rounds\n",
      "Early stopping, best iteration is:\n",
      "[6]\tvalid_0's auc: 0.807368\tvalid_0's binary_logloss: 0.561962\n"
     ]
    },
    {
     "name": "stderr",
     "output_type": "stream",
     "text": [
      "[I 2023-09-10 06:33:46,755] Trial 497 finished with value: 0.8056202679091439 and parameters: {'n_estimators': 500, 'learning_rate': 0.45000000000000007, 'num_leaves': 500, 'max_depth': 6, 'min_data_in_leaf': 100, 'lambda_l1': 0, 'lambda_l2': 10, 'min_gain_to_split': 10.4, 'bagging_fraction': 1.0, 'bagging_freq': 1, 'feature_fraction': 0.8}. Best is trial 21 with value: 0.8300815375655213.\n"
     ]
    },
    {
     "name": "stdout",
     "output_type": "stream",
     "text": [
      "[LightGBM] [Warning] lambda_l1 is set=0, reg_alpha=0.0 will be ignored. Current value: lambda_l1=0\n",
      "[LightGBM] [Warning] bagging_fraction is set=1.0, subsample=1.0 will be ignored. Current value: bagging_fraction=1.0\n",
      "[LightGBM] [Warning] feature_fraction is set=0.8, colsample_bytree=1.0 will be ignored. Current value: feature_fraction=0.8\n",
      "[LightGBM] [Warning] min_data_in_leaf is set=100, min_child_samples=20 will be ignored. Current value: min_data_in_leaf=100\n",
      "[LightGBM] [Warning] bagging_freq is set=1, subsample_freq=0 will be ignored. Current value: bagging_freq=1\n",
      "[LightGBM] [Warning] min_gain_to_split is set=10.4, min_split_gain=0.0 will be ignored. Current value: min_gain_to_split=10.4\n",
      "[LightGBM] [Warning] lambda_l2 is set=10, reg_lambda=0.0 will be ignored. Current value: lambda_l2=10\n",
      "Training until validation scores don't improve for 20 rounds\n",
      "Early stopping, best iteration is:\n",
      "[6]\tvalid_0's auc: 0.80562\tvalid_0's binary_logloss: 0.560925\n"
     ]
    },
    {
     "name": "stderr",
     "output_type": "stream",
     "text": [
      "[I 2023-09-10 06:33:47,085] Trial 498 finished with value: 0.8102795573675015 and parameters: {'n_estimators': 500, 'learning_rate': 0.4, 'num_leaves': 500, 'max_depth': 6, 'min_data_in_leaf': 100, 'lambda_l1': 5, 'lambda_l2': 5, 'min_gain_to_split': 10.8, 'bagging_fraction': 1.0, 'bagging_freq': 1, 'feature_fraction': 0.8}. Best is trial 21 with value: 0.8300815375655213.\n"
     ]
    },
    {
     "name": "stdout",
     "output_type": "stream",
     "text": [
      "[LightGBM] [Warning] lambda_l1 is set=5, reg_alpha=0.0 will be ignored. Current value: lambda_l1=5\n",
      "[LightGBM] [Warning] bagging_fraction is set=1.0, subsample=1.0 will be ignored. Current value: bagging_fraction=1.0\n",
      "[LightGBM] [Warning] feature_fraction is set=0.8, colsample_bytree=1.0 will be ignored. Current value: feature_fraction=0.8\n",
      "[LightGBM] [Warning] min_data_in_leaf is set=100, min_child_samples=20 will be ignored. Current value: min_data_in_leaf=100\n",
      "[LightGBM] [Warning] bagging_freq is set=1, subsample_freq=0 will be ignored. Current value: bagging_freq=1\n",
      "[LightGBM] [Warning] min_gain_to_split is set=10.8, min_split_gain=0.0 will be ignored. Current value: min_gain_to_split=10.8\n",
      "[LightGBM] [Warning] lambda_l2 is set=5, reg_lambda=0.0 will be ignored. Current value: lambda_l2=5\n",
      "Training until validation scores don't improve for 20 rounds\n",
      "Early stopping, best iteration is:\n",
      "[5]\tvalid_0's auc: 0.81028\tvalid_0's binary_logloss: 0.573117\n"
     ]
    },
    {
     "name": "stderr",
     "output_type": "stream",
     "text": [
      "[I 2023-09-10 06:33:47,396] Trial 499 pruned. Trial was pruned at iteration 21.\n"
     ]
    },
    {
     "name": "stdout",
     "output_type": "stream",
     "text": [
      "[LightGBM] [Warning] lambda_l1 is set=5, reg_alpha=0.0 will be ignored. Current value: lambda_l1=5\n",
      "[LightGBM] [Warning] bagging_fraction is set=1.0, subsample=1.0 will be ignored. Current value: bagging_fraction=1.0\n",
      "[LightGBM] [Warning] feature_fraction is set=0.8, colsample_bytree=1.0 will be ignored. Current value: feature_fraction=0.8\n",
      "[LightGBM] [Warning] min_data_in_leaf is set=100, min_child_samples=20 will be ignored. Current value: min_data_in_leaf=100\n",
      "[LightGBM] [Warning] bagging_freq is set=1, subsample_freq=0 will be ignored. Current value: bagging_freq=1\n",
      "[LightGBM] [Warning] min_gain_to_split is set=10.4, min_split_gain=0.0 will be ignored. Current value: min_gain_to_split=10.4\n",
      "[LightGBM] [Warning] lambda_l2 is set=5, reg_lambda=0.0 will be ignored. Current value: lambda_l2=5\n",
      "Training until validation scores don't improve for 20 rounds\n"
     ]
    },
    {
     "name": "stderr",
     "output_type": "stream",
     "text": [
      "[I 2023-09-10 06:33:47,766] Trial 500 finished with value: 0.8051834595224229 and parameters: {'n_estimators': 500, 'learning_rate': 0.4, 'num_leaves': 500, 'max_depth': 6, 'min_data_in_leaf': 100, 'lambda_l1': 5, 'lambda_l2': 5, 'min_gain_to_split': 10.3, 'bagging_fraction': 1.0, 'bagging_freq': 1, 'feature_fraction': 0.8}. Best is trial 21 with value: 0.8300815375655213.\n"
     ]
    },
    {
     "name": "stdout",
     "output_type": "stream",
     "text": [
      "Training until validation scores don't improve for 20 rounds\n",
      "Early stopping, best iteration is:\n",
      "[5]\tvalid_0's auc: 0.805183\tvalid_0's binary_logloss: 0.573623\n"
     ]
    },
    {
     "name": "stderr",
     "output_type": "stream",
     "text": [
      "[I 2023-09-10 06:33:48,134] Trial 501 finished with value: 0.8075859056493885 and parameters: {'n_estimators': 500, 'learning_rate': 0.4, 'num_leaves': 500, 'max_depth': 6, 'min_data_in_leaf': 100, 'lambda_l1': 5, 'lambda_l2': 5, 'min_gain_to_split': 10.9, 'bagging_fraction': 1.0, 'bagging_freq': 1, 'feature_fraction': 0.8}. Best is trial 21 with value: 0.8300815375655213.\n"
     ]
    },
    {
     "name": "stdout",
     "output_type": "stream",
     "text": [
      "[LightGBM] [Warning] lambda_l1 is set=5, reg_alpha=0.0 will be ignored. Current value: lambda_l1=5\n",
      "[LightGBM] [Warning] bagging_fraction is set=1.0, subsample=1.0 will be ignored. Current value: bagging_fraction=1.0\n",
      "[LightGBM] [Warning] feature_fraction is set=0.8, colsample_bytree=1.0 will be ignored. Current value: feature_fraction=0.8\n",
      "[LightGBM] [Warning] min_data_in_leaf is set=100, min_child_samples=20 will be ignored. Current value: min_data_in_leaf=100\n",
      "[LightGBM] [Warning] bagging_freq is set=1, subsample_freq=0 will be ignored. Current value: bagging_freq=1\n",
      "[LightGBM] [Warning] min_gain_to_split is set=10.9, min_split_gain=0.0 will be ignored. Current value: min_gain_to_split=10.9\n",
      "[LightGBM] [Warning] lambda_l2 is set=5, reg_lambda=0.0 will be ignored. Current value: lambda_l2=5\n",
      "Training until validation scores don't improve for 20 rounds\n",
      "Early stopping, best iteration is:\n",
      "[5]\tvalid_0's auc: 0.807586\tvalid_0's binary_logloss: 0.574727\n"
     ]
    },
    {
     "name": "stderr",
     "output_type": "stream",
     "text": [
      "[I 2023-09-10 06:33:48,471] Trial 502 pruned. Trial was pruned at iteration 21.\n"
     ]
    },
    {
     "name": "stdout",
     "output_type": "stream",
     "text": [
      "[LightGBM] [Warning] lambda_l1 is set=5, reg_alpha=0.0 will be ignored. Current value: lambda_l1=5\n",
      "[LightGBM] [Warning] bagging_fraction is set=1.0, subsample=1.0 will be ignored. Current value: bagging_fraction=1.0\n",
      "[LightGBM] [Warning] feature_fraction is set=0.8, colsample_bytree=1.0 will be ignored. Current value: feature_fraction=0.8\n",
      "[LightGBM] [Warning] min_data_in_leaf is set=100, min_child_samples=20 will be ignored. Current value: min_data_in_leaf=100\n",
      "[LightGBM] [Warning] bagging_freq is set=1, subsample_freq=0 will be ignored. Current value: bagging_freq=1\n",
      "[LightGBM] [Warning] min_gain_to_split is set=10.700000000000001, min_split_gain=0.0 will be ignored. Current value: min_gain_to_split=10.700000000000001\n",
      "[LightGBM] [Warning] lambda_l2 is set=10, reg_lambda=0.0 will be ignored. Current value: lambda_l2=10\n",
      "Training until validation scores don't improve for 20 rounds\n"
     ]
    },
    {
     "name": "stderr",
     "output_type": "stream",
     "text": [
      "[I 2023-09-10 06:33:48,829] Trial 503 finished with value: 0.8102795573675015 and parameters: {'n_estimators': 500, 'learning_rate': 0.4, 'num_leaves': 500, 'max_depth': 6, 'min_data_in_leaf': 100, 'lambda_l1': 5, 'lambda_l2': 5, 'min_gain_to_split': 10.8, 'bagging_fraction': 1.0, 'bagging_freq': 1, 'feature_fraction': 0.8}. Best is trial 21 with value: 0.8300815375655213.\n"
     ]
    },
    {
     "name": "stdout",
     "output_type": "stream",
     "text": [
      "Training until validation scores don't improve for 20 rounds\n",
      "Early stopping, best iteration is:\n",
      "[5]\tvalid_0's auc: 0.81028\tvalid_0's binary_logloss: 0.573117\n"
     ]
    },
    {
     "name": "stderr",
     "output_type": "stream",
     "text": [
      "[I 2023-09-10 06:33:49,169] Trial 504 finished with value: 0.8075859056493885 and parameters: {'n_estimators': 500, 'learning_rate': 0.4, 'num_leaves': 520, 'max_depth': 6, 'min_data_in_leaf': 100, 'lambda_l1': 5, 'lambda_l2': 5, 'min_gain_to_split': 11.100000000000001, 'bagging_fraction': 1.0, 'bagging_freq': 1, 'feature_fraction': 0.8}. Best is trial 21 with value: 0.8300815375655213.\n"
     ]
    },
    {
     "name": "stdout",
     "output_type": "stream",
     "text": [
      "[LightGBM] [Warning] lambda_l1 is set=5, reg_alpha=0.0 will be ignored. Current value: lambda_l1=5\n",
      "[LightGBM] [Warning] bagging_fraction is set=1.0, subsample=1.0 will be ignored. Current value: bagging_fraction=1.0\n",
      "[LightGBM] [Warning] feature_fraction is set=0.8, colsample_bytree=1.0 will be ignored. Current value: feature_fraction=0.8\n",
      "[LightGBM] [Warning] min_data_in_leaf is set=100, min_child_samples=20 will be ignored. Current value: min_data_in_leaf=100\n",
      "[LightGBM] [Warning] bagging_freq is set=1, subsample_freq=0 will be ignored. Current value: bagging_freq=1\n",
      "[LightGBM] [Warning] min_gain_to_split is set=11.100000000000001, min_split_gain=0.0 will be ignored. Current value: min_gain_to_split=11.100000000000001\n",
      "[LightGBM] [Warning] lambda_l2 is set=5, reg_lambda=0.0 will be ignored. Current value: lambda_l2=5\n",
      "Training until validation scores don't improve for 20 rounds\n",
      "Early stopping, best iteration is:\n",
      "[5]\tvalid_0's auc: 0.807586\tvalid_0's binary_logloss: 0.574727\n"
     ]
    },
    {
     "name": "stderr",
     "output_type": "stream",
     "text": [
      "[I 2023-09-10 06:33:49,485] Trial 505 pruned. Trial was pruned at iteration 21.\n"
     ]
    },
    {
     "name": "stdout",
     "output_type": "stream",
     "text": [
      "[LightGBM] [Warning] lambda_l1 is set=5, reg_alpha=0.0 will be ignored. Current value: lambda_l1=5\n",
      "[LightGBM] [Warning] bagging_fraction is set=0.9000000000000001, subsample=1.0 will be ignored. Current value: bagging_fraction=0.9000000000000001\n",
      "[LightGBM] [Warning] feature_fraction is set=0.8, colsample_bytree=1.0 will be ignored. Current value: feature_fraction=0.8\n",
      "[LightGBM] [Warning] min_data_in_leaf is set=100, min_child_samples=20 will be ignored. Current value: min_data_in_leaf=100\n",
      "[LightGBM] [Warning] bagging_freq is set=1, subsample_freq=0 will be ignored. Current value: bagging_freq=1\n",
      "[LightGBM] [Warning] min_gain_to_split is set=10.8, min_split_gain=0.0 will be ignored. Current value: min_gain_to_split=10.8\n",
      "[LightGBM] [Warning] lambda_l2 is set=5, reg_lambda=0.0 will be ignored. Current value: lambda_l2=5\n",
      "Training until validation scores don't improve for 20 rounds\n"
     ]
    },
    {
     "name": "stderr",
     "output_type": "stream",
     "text": [
      "[I 2023-09-10 06:33:49,806] Trial 506 pruned. Trial was pruned at iteration 21.\n"
     ]
    },
    {
     "name": "stdout",
     "output_type": "stream",
     "text": [
      "Training until validation scores don't improve for 20 rounds\n"
     ]
    },
    {
     "name": "stderr",
     "output_type": "stream",
     "text": [
      "[I 2023-09-10 06:33:50,147] Trial 507 finished with value: 0.8078771112405359 and parameters: {'n_estimators': 500, 'learning_rate': 0.4, 'num_leaves': 520, 'max_depth': 6, 'min_data_in_leaf': 100, 'lambda_l1': 5, 'lambda_l2': 0, 'min_gain_to_split': 10.8, 'bagging_fraction': 1.0, 'bagging_freq': 1, 'feature_fraction': 0.8}. Best is trial 21 with value: 0.8300815375655213.\n"
     ]
    },
    {
     "name": "stdout",
     "output_type": "stream",
     "text": [
      "Training until validation scores don't improve for 20 rounds\n",
      "Early stopping, best iteration is:\n",
      "[5]\tvalid_0's auc: 0.807877\tvalid_0's binary_logloss: 0.566394\n"
     ]
    },
    {
     "name": "stderr",
     "output_type": "stream",
     "text": [
      "[I 2023-09-10 06:33:50,470] Trial 508 pruned. Trial was pruned at iteration 21.\n"
     ]
    },
    {
     "name": "stdout",
     "output_type": "stream",
     "text": [
      "[LightGBM] [Warning] lambda_l1 is set=5, reg_alpha=0.0 will be ignored. Current value: lambda_l1=5\n",
      "[LightGBM] [Warning] bagging_fraction is set=1.0, subsample=1.0 will be ignored. Current value: bagging_fraction=1.0\n",
      "[LightGBM] [Warning] feature_fraction is set=0.8, colsample_bytree=1.0 will be ignored. Current value: feature_fraction=0.8\n",
      "[LightGBM] [Warning] min_data_in_leaf is set=100, min_child_samples=20 will be ignored. Current value: min_data_in_leaf=100\n",
      "[LightGBM] [Warning] bagging_freq is set=1, subsample_freq=0 will be ignored. Current value: bagging_freq=1\n",
      "[LightGBM] [Warning] min_gain_to_split is set=11.0, min_split_gain=0.0 will be ignored. Current value: min_gain_to_split=11.0\n",
      "[LightGBM] [Warning] lambda_l2 is set=0, reg_lambda=0.0 will be ignored. Current value: lambda_l2=0\n",
      "Training until validation scores don't improve for 20 rounds\n"
     ]
    },
    {
     "name": "stderr",
     "output_type": "stream",
     "text": [
      "[I 2023-09-10 06:33:50,790] Trial 509 pruned. Trial was pruned at iteration 21.\n"
     ]
    },
    {
     "name": "stdout",
     "output_type": "stream",
     "text": [
      "Training until validation scores don't improve for 20 rounds\n"
     ]
    },
    {
     "name": "stderr",
     "output_type": "stream",
     "text": [
      "[I 2023-09-10 06:33:51,129] Trial 510 finished with value: 0.8075859056493885 and parameters: {'n_estimators': 500, 'learning_rate': 0.4, 'num_leaves': 520, 'max_depth': 6, 'min_data_in_leaf': 100, 'lambda_l1': 5, 'lambda_l2': 5, 'min_gain_to_split': 10.9, 'bagging_fraction': 1.0, 'bagging_freq': 1, 'feature_fraction': 0.8}. Best is trial 21 with value: 0.8300815375655213.\n"
     ]
    },
    {
     "name": "stdout",
     "output_type": "stream",
     "text": [
      "Training until validation scores don't improve for 20 rounds\n",
      "Early stopping, best iteration is:\n",
      "[5]\tvalid_0's auc: 0.807586\tvalid_0's binary_logloss: 0.574727\n"
     ]
    },
    {
     "name": "stderr",
     "output_type": "stream",
     "text": [
      "[I 2023-09-10 06:33:51,469] Trial 511 finished with value: 0.8075859056493885 and parameters: {'n_estimators': 500, 'learning_rate': 0.4, 'num_leaves': 520, 'max_depth': 6, 'min_data_in_leaf': 100, 'lambda_l1': 5, 'lambda_l2': 5, 'min_gain_to_split': 10.9, 'bagging_fraction': 1.0, 'bagging_freq': 1, 'feature_fraction': 0.8}. Best is trial 21 with value: 0.8300815375655213.\n"
     ]
    },
    {
     "name": "stdout",
     "output_type": "stream",
     "text": [
      "[LightGBM] [Warning] lambda_l1 is set=5, reg_alpha=0.0 will be ignored. Current value: lambda_l1=5\n",
      "[LightGBM] [Warning] bagging_fraction is set=1.0, subsample=1.0 will be ignored. Current value: bagging_fraction=1.0\n",
      "[LightGBM] [Warning] feature_fraction is set=0.8, colsample_bytree=1.0 will be ignored. Current value: feature_fraction=0.8\n",
      "[LightGBM] [Warning] min_data_in_leaf is set=100, min_child_samples=20 will be ignored. Current value: min_data_in_leaf=100\n",
      "[LightGBM] [Warning] bagging_freq is set=1, subsample_freq=0 will be ignored. Current value: bagging_freq=1\n",
      "[LightGBM] [Warning] min_gain_to_split is set=10.9, min_split_gain=0.0 will be ignored. Current value: min_gain_to_split=10.9\n",
      "[LightGBM] [Warning] lambda_l2 is set=5, reg_lambda=0.0 will be ignored. Current value: lambda_l2=5\n",
      "Training until validation scores don't improve for 20 rounds\n",
      "Early stopping, best iteration is:\n",
      "[5]\tvalid_0's auc: 0.807586\tvalid_0's binary_logloss: 0.574727\n"
     ]
    },
    {
     "name": "stderr",
     "output_type": "stream",
     "text": [
      "[I 2023-09-10 06:33:51,833] Trial 512 pruned. Trial was pruned at iteration 21.\n"
     ]
    },
    {
     "name": "stdout",
     "output_type": "stream",
     "text": [
      "[LightGBM] [Warning] lambda_l1 is set=5, reg_alpha=0.0 will be ignored. Current value: lambda_l1=5\n",
      "[LightGBM] [Warning] bagging_fraction is set=1.0, subsample=1.0 will be ignored. Current value: bagging_fraction=1.0\n",
      "[LightGBM] [Warning] feature_fraction is set=0.8, colsample_bytree=1.0 will be ignored. Current value: feature_fraction=0.8\n",
      "[LightGBM] [Warning] min_data_in_leaf is set=100, min_child_samples=20 will be ignored. Current value: min_data_in_leaf=100\n",
      "[LightGBM] [Warning] bagging_freq is set=1, subsample_freq=0 will be ignored. Current value: bagging_freq=1\n",
      "[LightGBM] [Warning] min_gain_to_split is set=10.8, min_split_gain=0.0 will be ignored. Current value: min_gain_to_split=10.8\n",
      "[LightGBM] [Warning] lambda_l2 is set=10, reg_lambda=0.0 will be ignored. Current value: lambda_l2=10\n",
      "Training until validation scores don't improve for 20 rounds\n"
     ]
    },
    {
     "name": "stderr",
     "output_type": "stream",
     "text": [
      "[I 2023-09-10 06:33:52,185] Trial 513 finished with value: 0.8075859056493885 and parameters: {'n_estimators': 500, 'learning_rate': 0.4, 'num_leaves': 520, 'max_depth': 6, 'min_data_in_leaf': 100, 'lambda_l1': 5, 'lambda_l2': 5, 'min_gain_to_split': 11.100000000000001, 'bagging_fraction': 1.0, 'bagging_freq': 1, 'feature_fraction': 0.8}. Best is trial 21 with value: 0.8300815375655213.\n"
     ]
    },
    {
     "name": "stdout",
     "output_type": "stream",
     "text": [
      "Training until validation scores don't improve for 20 rounds\n",
      "Early stopping, best iteration is:\n",
      "[5]\tvalid_0's auc: 0.807586\tvalid_0's binary_logloss: 0.574727\n"
     ]
    },
    {
     "name": "stderr",
     "output_type": "stream",
     "text": [
      "[I 2023-09-10 06:33:52,529] Trial 514 pruned. Trial was pruned at iteration 21.\n"
     ]
    },
    {
     "name": "stdout",
     "output_type": "stream",
     "text": [
      "[LightGBM] [Warning] lambda_l1 is set=5, reg_alpha=0.0 will be ignored. Current value: lambda_l1=5\n",
      "[LightGBM] [Warning] bagging_fraction is set=1.0, subsample=1.0 will be ignored. Current value: bagging_fraction=1.0\n",
      "[LightGBM] [Warning] feature_fraction is set=0.8, colsample_bytree=1.0 will be ignored. Current value: feature_fraction=0.8\n",
      "[LightGBM] [Warning] min_data_in_leaf is set=100, min_child_samples=20 will be ignored. Current value: min_data_in_leaf=100\n",
      "[LightGBM] [Warning] bagging_freq is set=1, subsample_freq=0 will be ignored. Current value: bagging_freq=1\n",
      "[LightGBM] [Warning] min_gain_to_split is set=11.100000000000001, min_split_gain=0.0 will be ignored. Current value: min_gain_to_split=11.100000000000001\n",
      "[LightGBM] [Warning] lambda_l2 is set=0, reg_lambda=0.0 will be ignored. Current value: lambda_l2=0\n",
      "Training until validation scores don't improve for 20 rounds\n"
     ]
    },
    {
     "name": "stderr",
     "output_type": "stream",
     "text": [
      "[I 2023-09-10 06:33:52,939] Trial 515 finished with value: 0.8075859056493885 and parameters: {'n_estimators': 500, 'learning_rate': 0.4, 'num_leaves': 520, 'max_depth': 6, 'min_data_in_leaf': 100, 'lambda_l1': 5, 'lambda_l2': 5, 'min_gain_to_split': 11.0, 'bagging_fraction': 1.0, 'bagging_freq': 1, 'feature_fraction': 0.8}. Best is trial 21 with value: 0.8300815375655213.\n"
     ]
    },
    {
     "name": "stdout",
     "output_type": "stream",
     "text": [
      "Training until validation scores don't improve for 20 rounds\n",
      "Early stopping, best iteration is:\n",
      "[5]\tvalid_0's auc: 0.807586\tvalid_0's binary_logloss: 0.574727\n"
     ]
    },
    {
     "name": "stderr",
     "output_type": "stream",
     "text": [
      "[I 2023-09-10 06:33:53,260] Trial 516 pruned. Trial was pruned at iteration 21.\n"
     ]
    },
    {
     "name": "stdout",
     "output_type": "stream",
     "text": [
      "[LightGBM] [Warning] lambda_l1 is set=5, reg_alpha=0.0 will be ignored. Current value: lambda_l1=5\n",
      "[LightGBM] [Warning] bagging_fraction is set=0.9000000000000001, subsample=1.0 will be ignored. Current value: bagging_fraction=0.9000000000000001\n",
      "[LightGBM] [Warning] feature_fraction is set=0.8, colsample_bytree=1.0 will be ignored. Current value: feature_fraction=0.8\n",
      "[LightGBM] [Warning] min_data_in_leaf is set=100, min_child_samples=20 will be ignored. Current value: min_data_in_leaf=100\n",
      "[LightGBM] [Warning] bagging_freq is set=1, subsample_freq=0 will be ignored. Current value: bagging_freq=1\n",
      "[LightGBM] [Warning] min_gain_to_split is set=11.0, min_split_gain=0.0 will be ignored. Current value: min_gain_to_split=11.0\n",
      "[LightGBM] [Warning] lambda_l2 is set=5, reg_lambda=0.0 will be ignored. Current value: lambda_l2=5\n",
      "Training until validation scores don't improve for 20 rounds\n"
     ]
    },
    {
     "name": "stderr",
     "output_type": "stream",
     "text": [
      "[I 2023-09-10 06:33:53,656] Trial 517 finished with value: 0.8038730343622598 and parameters: {'n_estimators': 500, 'learning_rate': 0.4, 'num_leaves': 520, 'max_depth': 6, 'min_data_in_leaf': 100, 'lambda_l1': 5, 'lambda_l2': 5, 'min_gain_to_split': 10.700000000000001, 'bagging_fraction': 1.0, 'bagging_freq': 1, 'feature_fraction': 0.8}. Best is trial 21 with value: 0.8300815375655213.\n"
     ]
    },
    {
     "name": "stdout",
     "output_type": "stream",
     "text": [
      "Training until validation scores don't improve for 20 rounds\n",
      "Early stopping, best iteration is:\n",
      "[5]\tvalid_0's auc: 0.803873\tvalid_0's binary_logloss: 0.574284\n"
     ]
    },
    {
     "name": "stderr",
     "output_type": "stream",
     "text": [
      "[I 2023-09-10 06:33:54,010] Trial 518 pruned. Trial was pruned at iteration 21.\n"
     ]
    },
    {
     "name": "stdout",
     "output_type": "stream",
     "text": [
      "[LightGBM] [Warning] lambda_l1 is set=5, reg_alpha=0.0 will be ignored. Current value: lambda_l1=5\n",
      "[LightGBM] [Warning] bagging_fraction is set=1.0, subsample=1.0 will be ignored. Current value: bagging_fraction=1.0\n",
      "[LightGBM] [Warning] feature_fraction is set=0.8, colsample_bytree=1.0 will be ignored. Current value: feature_fraction=0.8\n",
      "[LightGBM] [Warning] min_data_in_leaf is set=100, min_child_samples=20 will be ignored. Current value: min_data_in_leaf=100\n",
      "[LightGBM] [Warning] bagging_freq is set=1, subsample_freq=0 will be ignored. Current value: bagging_freq=1\n",
      "[LightGBM] [Warning] min_gain_to_split is set=11.3, min_split_gain=0.0 will be ignored. Current value: min_gain_to_split=11.3\n",
      "[LightGBM] [Warning] lambda_l2 is set=5, reg_lambda=0.0 will be ignored. Current value: lambda_l2=5\n",
      "Training until validation scores don't improve for 20 rounds\n"
     ]
    },
    {
     "name": "stderr",
     "output_type": "stream",
     "text": [
      "[I 2023-09-10 06:33:54,372] Trial 519 finished with value: 0.8078771112405359 and parameters: {'n_estimators': 500, 'learning_rate': 0.4, 'num_leaves': 520, 'max_depth': 6, 'min_data_in_leaf': 100, 'lambda_l1': 5, 'lambda_l2': 0, 'min_gain_to_split': 10.8, 'bagging_fraction': 1.0, 'bagging_freq': 1, 'feature_fraction': 0.8}. Best is trial 21 with value: 0.8300815375655213.\n"
     ]
    },
    {
     "name": "stdout",
     "output_type": "stream",
     "text": [
      "Training until validation scores don't improve for 20 rounds\n",
      "Early stopping, best iteration is:\n",
      "[5]\tvalid_0's auc: 0.807877\tvalid_0's binary_logloss: 0.566394\n"
     ]
    },
    {
     "name": "stderr",
     "output_type": "stream",
     "text": [
      "[I 2023-09-10 06:33:54,697] Trial 520 pruned. Trial was pruned at iteration 0.\n"
     ]
    },
    {
     "name": "stdout",
     "output_type": "stream",
     "text": [
      "[LightGBM] [Warning] lambda_l1 is set=5, reg_alpha=0.0 will be ignored. Current value: lambda_l1=5\n",
      "[LightGBM] [Warning] bagging_fraction is set=1.0, subsample=1.0 will be ignored. Current value: bagging_fraction=1.0\n",
      "[LightGBM] [Warning] feature_fraction is set=0.8, colsample_bytree=1.0 will be ignored. Current value: feature_fraction=0.8\n",
      "[LightGBM] [Warning] min_data_in_leaf is set=200, min_child_samples=20 will be ignored. Current value: min_data_in_leaf=200\n",
      "[LightGBM] [Warning] bagging_freq is set=1, subsample_freq=0 will be ignored. Current value: bagging_freq=1\n",
      "[LightGBM] [Warning] min_gain_to_split is set=11.0, min_split_gain=0.0 will be ignored. Current value: min_gain_to_split=11.0\n",
      "[LightGBM] [Warning] lambda_l2 is set=0, reg_lambda=0.0 will be ignored. Current value: lambda_l2=0\n"
     ]
    },
    {
     "name": "stderr",
     "output_type": "stream",
     "text": [
      "[I 2023-09-10 06:33:55,087] Trial 521 finished with value: 0.8078771112405359 and parameters: {'n_estimators': 500, 'learning_rate': 0.4, 'num_leaves': 520, 'max_depth': 6, 'min_data_in_leaf': 100, 'lambda_l1': 5, 'lambda_l2': 0, 'min_gain_to_split': 10.8, 'bagging_fraction': 1.0, 'bagging_freq': 1, 'feature_fraction': 0.8}. Best is trial 21 with value: 0.8300815375655213.\n"
     ]
    },
    {
     "name": "stdout",
     "output_type": "stream",
     "text": [
      "Training until validation scores don't improve for 20 rounds\n",
      "Early stopping, best iteration is:\n",
      "[5]\tvalid_0's auc: 0.807877\tvalid_0's binary_logloss: 0.566394\n"
     ]
    },
    {
     "name": "stderr",
     "output_type": "stream",
     "text": [
      "[I 2023-09-10 06:33:55,430] Trial 522 finished with value: 0.8078771112405359 and parameters: {'n_estimators': 500, 'learning_rate': 0.4, 'num_leaves': 540, 'max_depth': 6, 'min_data_in_leaf': 100, 'lambda_l1': 5, 'lambda_l2': 0, 'min_gain_to_split': 10.700000000000001, 'bagging_fraction': 1.0, 'bagging_freq': 1, 'feature_fraction': 0.8}. Best is trial 21 with value: 0.8300815375655213.\n"
     ]
    },
    {
     "name": "stdout",
     "output_type": "stream",
     "text": [
      "[LightGBM] [Warning] lambda_l1 is set=5, reg_alpha=0.0 will be ignored. Current value: lambda_l1=5\n",
      "[LightGBM] [Warning] bagging_fraction is set=1.0, subsample=1.0 will be ignored. Current value: bagging_fraction=1.0\n",
      "[LightGBM] [Warning] feature_fraction is set=0.8, colsample_bytree=1.0 will be ignored. Current value: feature_fraction=0.8\n",
      "[LightGBM] [Warning] min_data_in_leaf is set=100, min_child_samples=20 will be ignored. Current value: min_data_in_leaf=100\n",
      "[LightGBM] [Warning] bagging_freq is set=1, subsample_freq=0 will be ignored. Current value: bagging_freq=1\n",
      "[LightGBM] [Warning] min_gain_to_split is set=10.700000000000001, min_split_gain=0.0 will be ignored. Current value: min_gain_to_split=10.700000000000001\n",
      "[LightGBM] [Warning] lambda_l2 is set=0, reg_lambda=0.0 will be ignored. Current value: lambda_l2=0\n",
      "Training until validation scores don't improve for 20 rounds\n",
      "Early stopping, best iteration is:\n",
      "[5]\tvalid_0's auc: 0.807877\tvalid_0's binary_logloss: 0.566394\n"
     ]
    },
    {
     "name": "stderr",
     "output_type": "stream",
     "text": [
      "[I 2023-09-10 06:33:55,735] Trial 523 pruned. Trial was pruned at iteration 0.\n"
     ]
    },
    {
     "name": "stdout",
     "output_type": "stream",
     "text": [
      "[LightGBM] [Warning] lambda_l1 is set=50, reg_alpha=0.0 will be ignored. Current value: lambda_l1=50\n",
      "[LightGBM] [Warning] bagging_fraction is set=1.0, subsample=1.0 will be ignored. Current value: bagging_fraction=1.0\n",
      "[LightGBM] [Warning] feature_fraction is set=0.8, colsample_bytree=1.0 will be ignored. Current value: feature_fraction=0.8\n",
      "[LightGBM] [Warning] min_data_in_leaf is set=100, min_child_samples=20 will be ignored. Current value: min_data_in_leaf=100\n",
      "[LightGBM] [Warning] bagging_freq is set=1, subsample_freq=0 will be ignored. Current value: bagging_freq=1\n",
      "[LightGBM] [Warning] min_gain_to_split is set=10.8, min_split_gain=0.0 will be ignored. Current value: min_gain_to_split=10.8\n",
      "[LightGBM] [Warning] lambda_l2 is set=0, reg_lambda=0.0 will be ignored. Current value: lambda_l2=0\n"
     ]
    },
    {
     "name": "stderr",
     "output_type": "stream",
     "text": [
      "[I 2023-09-10 06:33:56,124] Trial 524 pruned. Trial was pruned at iteration 21.\n"
     ]
    },
    {
     "name": "stdout",
     "output_type": "stream",
     "text": [
      "Training until validation scores don't improve for 20 rounds\n"
     ]
    },
    {
     "name": "stderr",
     "output_type": "stream",
     "text": [
      "[I 2023-09-10 06:33:56,428] Trial 525 pruned. Trial was pruned at iteration 0.\n",
      "[I 2023-09-10 06:33:56,788] Trial 526 pruned. Trial was pruned at iteration 21.\n"
     ]
    },
    {
     "name": "stdout",
     "output_type": "stream",
     "text": [
      "Training until validation scores don't improve for 20 rounds\n"
     ]
    },
    {
     "name": "stderr",
     "output_type": "stream",
     "text": [
      "[I 2023-09-10 06:33:57,168] Trial 527 finished with value: 0.8038730343622598 and parameters: {'n_estimators': 500, 'learning_rate': 0.4, 'num_leaves': 540, 'max_depth': 6, 'min_data_in_leaf': 100, 'lambda_l1': 5, 'lambda_l2': 5, 'min_gain_to_split': 10.700000000000001, 'bagging_fraction': 1.0, 'bagging_freq': 1, 'feature_fraction': 0.8}. Best is trial 21 with value: 0.8300815375655213.\n"
     ]
    },
    {
     "name": "stdout",
     "output_type": "stream",
     "text": [
      "Training until validation scores don't improve for 20 rounds\n",
      "Early stopping, best iteration is:\n",
      "[5]\tvalid_0's auc: 0.803873\tvalid_0's binary_logloss: 0.574284\n"
     ]
    },
    {
     "name": "stderr",
     "output_type": "stream",
     "text": [
      "[I 2023-09-10 06:33:57,526] Trial 528 pruned. Trial was pruned at iteration 21.\n"
     ]
    },
    {
     "name": "stdout",
     "output_type": "stream",
     "text": [
      "[LightGBM] [Warning] lambda_l1 is set=5, reg_alpha=0.0 will be ignored. Current value: lambda_l1=5\n",
      "[LightGBM] [Warning] bagging_fraction is set=1.0, subsample=1.0 will be ignored. Current value: bagging_fraction=1.0\n",
      "[LightGBM] [Warning] feature_fraction is set=0.8, colsample_bytree=1.0 will be ignored. Current value: feature_fraction=0.8\n",
      "[LightGBM] [Warning] min_data_in_leaf is set=100, min_child_samples=20 will be ignored. Current value: min_data_in_leaf=100\n",
      "[LightGBM] [Warning] bagging_freq is set=1, subsample_freq=0 will be ignored. Current value: bagging_freq=1\n",
      "[LightGBM] [Warning] min_gain_to_split is set=11.200000000000001, min_split_gain=0.0 will be ignored. Current value: min_gain_to_split=11.200000000000001\n",
      "[LightGBM] [Warning] lambda_l2 is set=0, reg_lambda=0.0 will be ignored. Current value: lambda_l2=0\n",
      "Training until validation scores don't improve for 20 rounds\n"
     ]
    },
    {
     "name": "stderr",
     "output_type": "stream",
     "text": [
      "[I 2023-09-10 06:33:57,857] Trial 529 pruned. Trial was pruned at iteration 0.\n",
      "[I 2023-09-10 06:33:58,213] Trial 530 pruned. Trial was pruned at iteration 21.\n"
     ]
    },
    {
     "name": "stdout",
     "output_type": "stream",
     "text": [
      "Training until validation scores don't improve for 20 rounds\n"
     ]
    },
    {
     "name": "stderr",
     "output_type": "stream",
     "text": [
      "[I 2023-09-10 06:33:58,511] Trial 531 pruned. Trial was pruned at iteration 0.\n",
      "[I 2023-09-10 06:33:58,862] Trial 532 pruned. Trial was pruned at iteration 21.\n"
     ]
    },
    {
     "name": "stdout",
     "output_type": "stream",
     "text": [
      "Training until validation scores don't improve for 20 rounds\n"
     ]
    },
    {
     "name": "stderr",
     "output_type": "stream",
     "text": [
      "[I 2023-09-10 06:33:59,245] Trial 533 pruned. Trial was pruned at iteration 21.\n"
     ]
    },
    {
     "name": "stdout",
     "output_type": "stream",
     "text": [
      "Training until validation scores don't improve for 20 rounds\n"
     ]
    },
    {
     "name": "stderr",
     "output_type": "stream",
     "text": [
      "[I 2023-09-10 06:33:59,574] Trial 534 pruned. Trial was pruned at iteration 0.\n",
      "[I 2023-09-10 06:33:59,902] Trial 535 pruned. Trial was pruned at iteration 0.\n",
      "[I 2023-09-10 06:34:00,312] Trial 536 finished with value: 0.8078771112405359 and parameters: {'n_estimators': 500, 'learning_rate': 0.4, 'num_leaves': 540, 'max_depth': 6, 'min_data_in_leaf': 100, 'lambda_l1': 5, 'lambda_l2': 0, 'min_gain_to_split': 10.8, 'bagging_fraction': 1.0, 'bagging_freq': 1, 'feature_fraction': 0.8}. Best is trial 21 with value: 0.8300815375655213.\n"
     ]
    },
    {
     "name": "stdout",
     "output_type": "stream",
     "text": [
      "Training until validation scores don't improve for 20 rounds\n",
      "Early stopping, best iteration is:\n",
      "[5]\tvalid_0's auc: 0.807877\tvalid_0's binary_logloss: 0.566394\n"
     ]
    },
    {
     "name": "stderr",
     "output_type": "stream",
     "text": [
      "[I 2023-09-10 06:34:00,690] Trial 537 finished with value: 0.8078771112405359 and parameters: {'n_estimators': 500, 'learning_rate': 0.4, 'num_leaves': 560, 'max_depth': 6, 'min_data_in_leaf': 100, 'lambda_l1': 5, 'lambda_l2': 0, 'min_gain_to_split': 10.8, 'bagging_fraction': 1.0, 'bagging_freq': 1, 'feature_fraction': 0.8}. Best is trial 21 with value: 0.8300815375655213.\n"
     ]
    },
    {
     "name": "stdout",
     "output_type": "stream",
     "text": [
      "[LightGBM] [Warning] lambda_l1 is set=5, reg_alpha=0.0 will be ignored. Current value: lambda_l1=5\n",
      "[LightGBM] [Warning] bagging_fraction is set=1.0, subsample=1.0 will be ignored. Current value: bagging_fraction=1.0\n",
      "[LightGBM] [Warning] feature_fraction is set=0.8, colsample_bytree=1.0 will be ignored. Current value: feature_fraction=0.8\n",
      "[LightGBM] [Warning] min_data_in_leaf is set=100, min_child_samples=20 will be ignored. Current value: min_data_in_leaf=100\n",
      "[LightGBM] [Warning] bagging_freq is set=1, subsample_freq=0 will be ignored. Current value: bagging_freq=1\n",
      "[LightGBM] [Warning] min_gain_to_split is set=10.8, min_split_gain=0.0 will be ignored. Current value: min_gain_to_split=10.8\n",
      "[LightGBM] [Warning] lambda_l2 is set=0, reg_lambda=0.0 will be ignored. Current value: lambda_l2=0\n",
      "Training until validation scores don't improve for 20 rounds\n",
      "Early stopping, best iteration is:\n",
      "[5]\tvalid_0's auc: 0.807877\tvalid_0's binary_logloss: 0.566394\n"
     ]
    },
    {
     "name": "stderr",
     "output_type": "stream",
     "text": [
      "[I 2023-09-10 06:34:01,062] Trial 538 finished with value: 0.8078771112405359 and parameters: {'n_estimators': 500, 'learning_rate': 0.4, 'num_leaves': 560, 'max_depth': 6, 'min_data_in_leaf': 100, 'lambda_l1': 5, 'lambda_l2': 0, 'min_gain_to_split': 10.8, 'bagging_fraction': 1.0, 'bagging_freq': 1, 'feature_fraction': 0.7}. Best is trial 21 with value: 0.8300815375655213.\n"
     ]
    },
    {
     "name": "stdout",
     "output_type": "stream",
     "text": [
      "[LightGBM] [Warning] lambda_l1 is set=5, reg_alpha=0.0 will be ignored. Current value: lambda_l1=5\n",
      "[LightGBM] [Warning] bagging_fraction is set=1.0, subsample=1.0 will be ignored. Current value: bagging_fraction=1.0\n",
      "[LightGBM] [Warning] feature_fraction is set=0.7, colsample_bytree=1.0 will be ignored. Current value: feature_fraction=0.7\n",
      "[LightGBM] [Warning] min_data_in_leaf is set=100, min_child_samples=20 will be ignored. Current value: min_data_in_leaf=100\n",
      "[LightGBM] [Warning] bagging_freq is set=1, subsample_freq=0 will be ignored. Current value: bagging_freq=1\n",
      "[LightGBM] [Warning] min_gain_to_split is set=10.8, min_split_gain=0.0 will be ignored. Current value: min_gain_to_split=10.8\n",
      "[LightGBM] [Warning] lambda_l2 is set=0, reg_lambda=0.0 will be ignored. Current value: lambda_l2=0\n",
      "Training until validation scores don't improve for 20 rounds\n",
      "Early stopping, best iteration is:\n",
      "[5]\tvalid_0's auc: 0.807877\tvalid_0's binary_logloss: 0.566394\n"
     ]
    },
    {
     "name": "stderr",
     "output_type": "stream",
     "text": [
      "[I 2023-09-10 06:34:01,435] Trial 539 finished with value: 0.8078771112405359 and parameters: {'n_estimators': 500, 'learning_rate': 0.4, 'num_leaves': 580, 'max_depth': 6, 'min_data_in_leaf': 100, 'lambda_l1': 5, 'lambda_l2': 0, 'min_gain_to_split': 10.8, 'bagging_fraction': 1.0, 'bagging_freq': 1, 'feature_fraction': 0.7}. Best is trial 21 with value: 0.8300815375655213.\n"
     ]
    },
    {
     "name": "stdout",
     "output_type": "stream",
     "text": [
      "[LightGBM] [Warning] lambda_l1 is set=5, reg_alpha=0.0 will be ignored. Current value: lambda_l1=5\n",
      "[LightGBM] [Warning] bagging_fraction is set=1.0, subsample=1.0 will be ignored. Current value: bagging_fraction=1.0\n",
      "[LightGBM] [Warning] feature_fraction is set=0.7, colsample_bytree=1.0 will be ignored. Current value: feature_fraction=0.7\n",
      "[LightGBM] [Warning] min_data_in_leaf is set=100, min_child_samples=20 will be ignored. Current value: min_data_in_leaf=100\n",
      "[LightGBM] [Warning] bagging_freq is set=1, subsample_freq=0 will be ignored. Current value: bagging_freq=1\n",
      "[LightGBM] [Warning] min_gain_to_split is set=10.8, min_split_gain=0.0 will be ignored. Current value: min_gain_to_split=10.8\n",
      "[LightGBM] [Warning] lambda_l2 is set=0, reg_lambda=0.0 will be ignored. Current value: lambda_l2=0\n",
      "Training until validation scores don't improve for 20 rounds\n",
      "Early stopping, best iteration is:\n",
      "[5]\tvalid_0's auc: 0.807877\tvalid_0's binary_logloss: 0.566394\n"
     ]
    },
    {
     "name": "stderr",
     "output_type": "stream",
     "text": [
      "[I 2023-09-10 06:34:01,729] Trial 540 pruned. Trial was pruned at iteration 0.\n"
     ]
    },
    {
     "name": "stdout",
     "output_type": "stream",
     "text": [
      "[LightGBM] [Warning] lambda_l1 is set=5, reg_alpha=0.0 will be ignored. Current value: lambda_l1=5\n",
      "[LightGBM] [Warning] bagging_fraction is set=1.0, subsample=1.0 will be ignored. Current value: bagging_fraction=1.0\n",
      "[LightGBM] [Warning] feature_fraction is set=0.7, colsample_bytree=1.0 will be ignored. Current value: feature_fraction=0.7\n",
      "[LightGBM] [Warning] min_data_in_leaf is set=300, min_child_samples=20 will be ignored. Current value: min_data_in_leaf=300\n",
      "[LightGBM] [Warning] bagging_freq is set=1, subsample_freq=0 will be ignored. Current value: bagging_freq=1\n",
      "[LightGBM] [Warning] min_gain_to_split is set=10.8, min_split_gain=0.0 will be ignored. Current value: min_gain_to_split=10.8\n",
      "[LightGBM] [Warning] lambda_l2 is set=0, reg_lambda=0.0 will be ignored. Current value: lambda_l2=0\n"
     ]
    },
    {
     "name": "stderr",
     "output_type": "stream",
     "text": [
      "[I 2023-09-10 06:34:02,088] Trial 541 pruned. Trial was pruned at iteration 21.\n"
     ]
    },
    {
     "name": "stdout",
     "output_type": "stream",
     "text": [
      "Training until validation scores don't improve for 20 rounds\n"
     ]
    },
    {
     "name": "stderr",
     "output_type": "stream",
     "text": [
      "[I 2023-09-10 06:34:02,413] Trial 542 pruned. Trial was pruned at iteration 21.\n"
     ]
    },
    {
     "name": "stdout",
     "output_type": "stream",
     "text": [
      "Training until validation scores don't improve for 20 rounds\n"
     ]
    },
    {
     "name": "stderr",
     "output_type": "stream",
     "text": [
      "[I 2023-09-10 06:34:02,783] Trial 543 pruned. Trial was pruned at iteration 21.\n"
     ]
    },
    {
     "name": "stdout",
     "output_type": "stream",
     "text": [
      "Training until validation scores don't improve for 20 rounds\n"
     ]
    },
    {
     "name": "stderr",
     "output_type": "stream",
     "text": [
      "[I 2023-09-10 06:34:03,138] Trial 544 pruned. Trial was pruned at iteration 21.\n"
     ]
    },
    {
     "name": "stdout",
     "output_type": "stream",
     "text": [
      "Training until validation scores don't improve for 20 rounds\n"
     ]
    },
    {
     "name": "stderr",
     "output_type": "stream",
     "text": [
      "[I 2023-09-10 06:34:03,485] Trial 545 finished with value: 0.8078771112405359 and parameters: {'n_estimators': 500, 'learning_rate': 0.4, 'num_leaves': 560, 'max_depth': 6, 'min_data_in_leaf': 100, 'lambda_l1': 5, 'lambda_l2': 0, 'min_gain_to_split': 10.9, 'bagging_fraction': 1.0, 'bagging_freq': 1, 'feature_fraction': 0.8}. Best is trial 21 with value: 0.8300815375655213.\n"
     ]
    },
    {
     "name": "stdout",
     "output_type": "stream",
     "text": [
      "Training until validation scores don't improve for 20 rounds\n",
      "Early stopping, best iteration is:\n",
      "[5]\tvalid_0's auc: 0.807877\tvalid_0's binary_logloss: 0.566394\n"
     ]
    },
    {
     "name": "stderr",
     "output_type": "stream",
     "text": [
      "[I 2023-09-10 06:34:03,869] Trial 546 finished with value: 0.8078771112405359 and parameters: {'n_estimators': 500, 'learning_rate': 0.4, 'num_leaves': 580, 'max_depth': 6, 'min_data_in_leaf': 100, 'lambda_l1': 5, 'lambda_l2': 0, 'min_gain_to_split': 10.9, 'bagging_fraction': 1.0, 'bagging_freq': 1, 'feature_fraction': 0.8}. Best is trial 21 with value: 0.8300815375655213.\n"
     ]
    },
    {
     "name": "stdout",
     "output_type": "stream",
     "text": [
      "[LightGBM] [Warning] lambda_l1 is set=5, reg_alpha=0.0 will be ignored. Current value: lambda_l1=5\n",
      "[LightGBM] [Warning] bagging_fraction is set=1.0, subsample=1.0 will be ignored. Current value: bagging_fraction=1.0\n",
      "[LightGBM] [Warning] feature_fraction is set=0.8, colsample_bytree=1.0 will be ignored. Current value: feature_fraction=0.8\n",
      "[LightGBM] [Warning] min_data_in_leaf is set=100, min_child_samples=20 will be ignored. Current value: min_data_in_leaf=100\n",
      "[LightGBM] [Warning] bagging_freq is set=1, subsample_freq=0 will be ignored. Current value: bagging_freq=1\n",
      "[LightGBM] [Warning] min_gain_to_split is set=10.9, min_split_gain=0.0 will be ignored. Current value: min_gain_to_split=10.9\n",
      "[LightGBM] [Warning] lambda_l2 is set=0, reg_lambda=0.0 will be ignored. Current value: lambda_l2=0\n",
      "Training until validation scores don't improve for 20 rounds\n",
      "Early stopping, best iteration is:\n",
      "[5]\tvalid_0's auc: 0.807877\tvalid_0's binary_logloss: 0.566394\n"
     ]
    },
    {
     "name": "stderr",
     "output_type": "stream",
     "text": [
      "[I 2023-09-10 06:34:04,246] Trial 547 pruned. Trial was pruned at iteration 21.\n"
     ]
    },
    {
     "name": "stdout",
     "output_type": "stream",
     "text": [
      "[LightGBM] [Warning] lambda_l1 is set=5, reg_alpha=0.0 will be ignored. Current value: lambda_l1=5\n",
      "[LightGBM] [Warning] bagging_fraction is set=1.0, subsample=1.0 will be ignored. Current value: bagging_fraction=1.0\n",
      "[LightGBM] [Warning] feature_fraction is set=0.8, colsample_bytree=1.0 will be ignored. Current value: feature_fraction=0.8\n",
      "[LightGBM] [Warning] min_data_in_leaf is set=100, min_child_samples=20 will be ignored. Current value: min_data_in_leaf=100\n",
      "[LightGBM] [Warning] bagging_freq is set=1, subsample_freq=0 will be ignored. Current value: bagging_freq=1\n",
      "[LightGBM] [Warning] min_gain_to_split is set=11.200000000000001, min_split_gain=0.0 will be ignored. Current value: min_gain_to_split=11.200000000000001\n",
      "[LightGBM] [Warning] lambda_l2 is set=0, reg_lambda=0.0 will be ignored. Current value: lambda_l2=0\n",
      "Training until validation scores don't improve for 20 rounds\n"
     ]
    },
    {
     "name": "stderr",
     "output_type": "stream",
     "text": [
      "[I 2023-09-10 06:34:04,609] Trial 548 finished with value: 0.8078771112405359 and parameters: {'n_estimators': 500, 'learning_rate': 0.4, 'num_leaves': 600, 'max_depth': 6, 'min_data_in_leaf': 100, 'lambda_l1': 5, 'lambda_l2': 0, 'min_gain_to_split': 10.9, 'bagging_fraction': 1.0, 'bagging_freq': 1, 'feature_fraction': 0.8}. Best is trial 21 with value: 0.8300815375655213.\n"
     ]
    },
    {
     "name": "stdout",
     "output_type": "stream",
     "text": [
      "Training until validation scores don't improve for 20 rounds\n",
      "Early stopping, best iteration is:\n",
      "[5]\tvalid_0's auc: 0.807877\tvalid_0's binary_logloss: 0.566394\n"
     ]
    },
    {
     "name": "stderr",
     "output_type": "stream",
     "text": [
      "[I 2023-09-10 06:34:04,993] Trial 549 finished with value: 0.8078771112405359 and parameters: {'n_estimators': 500, 'learning_rate': 0.4, 'num_leaves': 580, 'max_depth': 6, 'min_data_in_leaf': 100, 'lambda_l1': 5, 'lambda_l2': 0, 'min_gain_to_split': 10.8, 'bagging_fraction': 1.0, 'bagging_freq': 1, 'feature_fraction': 0.8}. Best is trial 21 with value: 0.8300815375655213.\n"
     ]
    },
    {
     "name": "stdout",
     "output_type": "stream",
     "text": [
      "[LightGBM] [Warning] lambda_l1 is set=5, reg_alpha=0.0 will be ignored. Current value: lambda_l1=5\n",
      "[LightGBM] [Warning] bagging_fraction is set=1.0, subsample=1.0 will be ignored. Current value: bagging_fraction=1.0\n",
      "[LightGBM] [Warning] feature_fraction is set=0.8, colsample_bytree=1.0 will be ignored. Current value: feature_fraction=0.8\n",
      "[LightGBM] [Warning] min_data_in_leaf is set=100, min_child_samples=20 will be ignored. Current value: min_data_in_leaf=100\n",
      "[LightGBM] [Warning] bagging_freq is set=1, subsample_freq=0 will be ignored. Current value: bagging_freq=1\n",
      "[LightGBM] [Warning] min_gain_to_split is set=10.8, min_split_gain=0.0 will be ignored. Current value: min_gain_to_split=10.8\n",
      "[LightGBM] [Warning] lambda_l2 is set=0, reg_lambda=0.0 will be ignored. Current value: lambda_l2=0\n",
      "Training until validation scores don't improve for 20 rounds\n",
      "Early stopping, best iteration is:\n",
      "[5]\tvalid_0's auc: 0.807877\tvalid_0's binary_logloss: 0.566394\n"
     ]
    },
    {
     "name": "stderr",
     "output_type": "stream",
     "text": [
      "[I 2023-09-10 06:34:05,336] Trial 550 finished with value: 0.8078771112405359 and parameters: {'n_estimators': 500, 'learning_rate': 0.4, 'num_leaves': 600, 'max_depth': 6, 'min_data_in_leaf': 100, 'lambda_l1': 5, 'lambda_l2': 0, 'min_gain_to_split': 10.9, 'bagging_fraction': 1.0, 'bagging_freq': 1, 'feature_fraction': 0.8}. Best is trial 21 with value: 0.8300815375655213.\n"
     ]
    },
    {
     "name": "stdout",
     "output_type": "stream",
     "text": [
      "[LightGBM] [Warning] lambda_l1 is set=5, reg_alpha=0.0 will be ignored. Current value: lambda_l1=5\n",
      "[LightGBM] [Warning] bagging_fraction is set=1.0, subsample=1.0 will be ignored. Current value: bagging_fraction=1.0\n",
      "[LightGBM] [Warning] feature_fraction is set=0.8, colsample_bytree=1.0 will be ignored. Current value: feature_fraction=0.8\n",
      "[LightGBM] [Warning] min_data_in_leaf is set=100, min_child_samples=20 will be ignored. Current value: min_data_in_leaf=100\n",
      "[LightGBM] [Warning] bagging_freq is set=1, subsample_freq=0 will be ignored. Current value: bagging_freq=1\n",
      "[LightGBM] [Warning] min_gain_to_split is set=10.9, min_split_gain=0.0 will be ignored. Current value: min_gain_to_split=10.9\n",
      "[LightGBM] [Warning] lambda_l2 is set=0, reg_lambda=0.0 will be ignored. Current value: lambda_l2=0\n",
      "Training until validation scores don't improve for 20 rounds\n",
      "Early stopping, best iteration is:\n",
      "[5]\tvalid_0's auc: 0.807877\tvalid_0's binary_logloss: 0.566394\n"
     ]
    },
    {
     "name": "stderr",
     "output_type": "stream",
     "text": [
      "[I 2023-09-10 06:34:05,659] Trial 551 pruned. Trial was pruned at iteration 21.\n"
     ]
    },
    {
     "name": "stdout",
     "output_type": "stream",
     "text": [
      "[LightGBM] [Warning] lambda_l1 is set=5, reg_alpha=0.0 will be ignored. Current value: lambda_l1=5\n",
      "[LightGBM] [Warning] bagging_fraction is set=1.0, subsample=1.0 will be ignored. Current value: bagging_fraction=1.0\n",
      "[LightGBM] [Warning] feature_fraction is set=0.8, colsample_bytree=1.0 will be ignored. Current value: feature_fraction=0.8\n",
      "[LightGBM] [Warning] min_data_in_leaf is set=100, min_child_samples=20 will be ignored. Current value: min_data_in_leaf=100\n",
      "[LightGBM] [Warning] bagging_freq is set=1, subsample_freq=0 will be ignored. Current value: bagging_freq=1\n",
      "[LightGBM] [Warning] min_gain_to_split is set=11.5, min_split_gain=0.0 will be ignored. Current value: min_gain_to_split=11.5\n",
      "[LightGBM] [Warning] lambda_l2 is set=0, reg_lambda=0.0 will be ignored. Current value: lambda_l2=0\n",
      "Training until validation scores don't improve for 20 rounds\n"
     ]
    },
    {
     "name": "stderr",
     "output_type": "stream",
     "text": [
      "[I 2023-09-10 06:34:06,098] Trial 552 finished with value: 0.8078771112405359 and parameters: {'n_estimators': 500, 'learning_rate': 0.4, 'num_leaves': 600, 'max_depth': 6, 'min_data_in_leaf': 100, 'lambda_l1': 5, 'lambda_l2': 0, 'min_gain_to_split': 10.8, 'bagging_fraction': 1.0, 'bagging_freq': 1, 'feature_fraction': 0.8}. Best is trial 21 with value: 0.8300815375655213.\n"
     ]
    },
    {
     "name": "stdout",
     "output_type": "stream",
     "text": [
      "Training until validation scores don't improve for 20 rounds\n",
      "Early stopping, best iteration is:\n",
      "[5]\tvalid_0's auc: 0.807877\tvalid_0's binary_logloss: 0.566394\n"
     ]
    },
    {
     "name": "stderr",
     "output_type": "stream",
     "text": [
      "[I 2023-09-10 06:34:06,463] Trial 553 pruned. Trial was pruned at iteration 21.\n"
     ]
    },
    {
     "name": "stdout",
     "output_type": "stream",
     "text": [
      "[LightGBM] [Warning] lambda_l1 is set=10, reg_alpha=0.0 will be ignored. Current value: lambda_l1=10\n",
      "[LightGBM] [Warning] bagging_fraction is set=1.0, subsample=1.0 will be ignored. Current value: bagging_fraction=1.0\n",
      "[LightGBM] [Warning] feature_fraction is set=0.8, colsample_bytree=1.0 will be ignored. Current value: feature_fraction=0.8\n",
      "[LightGBM] [Warning] min_data_in_leaf is set=100, min_child_samples=20 will be ignored. Current value: min_data_in_leaf=100\n",
      "[LightGBM] [Warning] bagging_freq is set=1, subsample_freq=0 will be ignored. Current value: bagging_freq=1\n",
      "[LightGBM] [Warning] min_gain_to_split is set=10.8, min_split_gain=0.0 will be ignored. Current value: min_gain_to_split=10.8\n",
      "[LightGBM] [Warning] lambda_l2 is set=0, reg_lambda=0.0 will be ignored. Current value: lambda_l2=0\n",
      "Training until validation scores don't improve for 20 rounds\n"
     ]
    },
    {
     "name": "stderr",
     "output_type": "stream",
     "text": [
      "[I 2023-09-10 06:34:06,850] Trial 554 finished with value: 0.8066394874781595 and parameters: {'n_estimators': 500, 'learning_rate': 0.35, 'num_leaves': 640, 'max_depth': 6, 'min_data_in_leaf': 100, 'lambda_l1': 5, 'lambda_l2': 0, 'min_gain_to_split': 10.700000000000001, 'bagging_fraction': 1.0, 'bagging_freq': 1, 'feature_fraction': 0.8}. Best is trial 21 with value: 0.8300815375655213.\n"
     ]
    },
    {
     "name": "stdout",
     "output_type": "stream",
     "text": [
      "Training until validation scores don't improve for 20 rounds\n",
      "Early stopping, best iteration is:\n",
      "[5]\tvalid_0's auc: 0.806639\tvalid_0's binary_logloss: 0.575398\n"
     ]
    },
    {
     "name": "stderr",
     "output_type": "stream",
     "text": [
      "[I 2023-09-10 06:34:07,234] Trial 555 finished with value: 0.8078771112405359 and parameters: {'n_estimators': 500, 'learning_rate': 0.4, 'num_leaves': 600, 'max_depth': 7, 'min_data_in_leaf': 100, 'lambda_l1': 5, 'lambda_l2': 0, 'min_gain_to_split': 10.9, 'bagging_fraction': 1.0, 'bagging_freq': 1, 'feature_fraction': 0.8}. Best is trial 21 with value: 0.8300815375655213.\n"
     ]
    },
    {
     "name": "stdout",
     "output_type": "stream",
     "text": [
      "[LightGBM] [Warning] lambda_l1 is set=5, reg_alpha=0.0 will be ignored. Current value: lambda_l1=5\n",
      "[LightGBM] [Warning] bagging_fraction is set=1.0, subsample=1.0 will be ignored. Current value: bagging_fraction=1.0\n",
      "[LightGBM] [Warning] feature_fraction is set=0.8, colsample_bytree=1.0 will be ignored. Current value: feature_fraction=0.8\n",
      "[LightGBM] [Warning] min_data_in_leaf is set=100, min_child_samples=20 will be ignored. Current value: min_data_in_leaf=100\n",
      "[LightGBM] [Warning] bagging_freq is set=1, subsample_freq=0 will be ignored. Current value: bagging_freq=1\n",
      "[LightGBM] [Warning] min_gain_to_split is set=10.9, min_split_gain=0.0 will be ignored. Current value: min_gain_to_split=10.9\n",
      "[LightGBM] [Warning] lambda_l2 is set=0, reg_lambda=0.0 will be ignored. Current value: lambda_l2=0\n",
      "Training until validation scores don't improve for 20 rounds\n",
      "Early stopping, best iteration is:\n",
      "[5]\tvalid_0's auc: 0.807877\tvalid_0's binary_logloss: 0.566394\n"
     ]
    },
    {
     "name": "stderr",
     "output_type": "stream",
     "text": [
      "[I 2023-09-10 06:34:07,570] Trial 556 pruned. Trial was pruned at iteration 21.\n"
     ]
    },
    {
     "name": "stdout",
     "output_type": "stream",
     "text": [
      "[LightGBM] [Warning] lambda_l1 is set=5, reg_alpha=0.0 will be ignored. Current value: lambda_l1=5\n",
      "[LightGBM] [Warning] bagging_fraction is set=0.9000000000000001, subsample=1.0 will be ignored. Current value: bagging_fraction=0.9000000000000001\n",
      "[LightGBM] [Warning] feature_fraction is set=0.8, colsample_bytree=1.0 will be ignored. Current value: feature_fraction=0.8\n",
      "[LightGBM] [Warning] min_data_in_leaf is set=100, min_child_samples=20 will be ignored. Current value: min_data_in_leaf=100\n",
      "[LightGBM] [Warning] bagging_freq is set=1, subsample_freq=0 will be ignored. Current value: bagging_freq=1\n",
      "[LightGBM] [Warning] min_gain_to_split is set=11.4, min_split_gain=0.0 will be ignored. Current value: min_gain_to_split=11.4\n",
      "[LightGBM] [Warning] lambda_l2 is set=0, reg_lambda=0.0 will be ignored. Current value: lambda_l2=0\n",
      "Training until validation scores don't improve for 20 rounds\n"
     ]
    },
    {
     "name": "stderr",
     "output_type": "stream",
     "text": [
      "[I 2023-09-10 06:34:07,933] Trial 557 pruned. Trial was pruned at iteration 21.\n"
     ]
    },
    {
     "name": "stdout",
     "output_type": "stream",
     "text": [
      "Training until validation scores don't improve for 20 rounds\n"
     ]
    },
    {
     "name": "stderr",
     "output_type": "stream",
     "text": [
      "[I 2023-09-10 06:34:08,308] Trial 558 finished with value: 0.8078771112405359 and parameters: {'n_estimators': 500, 'learning_rate': 0.4, 'num_leaves': 600, 'max_depth': 6, 'min_data_in_leaf': 100, 'lambda_l1': 5, 'lambda_l2': 0, 'min_gain_to_split': 10.700000000000001, 'bagging_fraction': 1.0, 'bagging_freq': 1, 'feature_fraction': 0.8}. Best is trial 21 with value: 0.8300815375655213.\n"
     ]
    },
    {
     "name": "stdout",
     "output_type": "stream",
     "text": [
      "Training until validation scores don't improve for 20 rounds\n",
      "Early stopping, best iteration is:\n",
      "[5]\tvalid_0's auc: 0.807877\tvalid_0's binary_logloss: 0.566394\n"
     ]
    },
    {
     "name": "stderr",
     "output_type": "stream",
     "text": [
      "[I 2023-09-10 06:34:08,656] Trial 559 finished with value: 0.8078771112405359 and parameters: {'n_estimators': 400, 'learning_rate': 0.4, 'num_leaves': 600, 'max_depth': 6, 'min_data_in_leaf': 100, 'lambda_l1': 5, 'lambda_l2': 0, 'min_gain_to_split': 10.600000000000001, 'bagging_fraction': 1.0, 'bagging_freq': 1, 'feature_fraction': 0.8}. Best is trial 21 with value: 0.8300815375655213.\n"
     ]
    },
    {
     "name": "stdout",
     "output_type": "stream",
     "text": [
      "[LightGBM] [Warning] lambda_l1 is set=5, reg_alpha=0.0 will be ignored. Current value: lambda_l1=5\n",
      "[LightGBM] [Warning] bagging_fraction is set=1.0, subsample=1.0 will be ignored. Current value: bagging_fraction=1.0\n",
      "[LightGBM] [Warning] feature_fraction is set=0.8, colsample_bytree=1.0 will be ignored. Current value: feature_fraction=0.8\n",
      "[LightGBM] [Warning] min_data_in_leaf is set=100, min_child_samples=20 will be ignored. Current value: min_data_in_leaf=100\n",
      "[LightGBM] [Warning] bagging_freq is set=1, subsample_freq=0 will be ignored. Current value: bagging_freq=1\n",
      "[LightGBM] [Warning] min_gain_to_split is set=10.600000000000001, min_split_gain=0.0 will be ignored. Current value: min_gain_to_split=10.600000000000001\n",
      "[LightGBM] [Warning] lambda_l2 is set=0, reg_lambda=0.0 will be ignored. Current value: lambda_l2=0\n",
      "Training until validation scores don't improve for 20 rounds\n",
      "Early stopping, best iteration is:\n",
      "[5]\tvalid_0's auc: 0.807877\tvalid_0's binary_logloss: 0.566394\n"
     ]
    },
    {
     "name": "stderr",
     "output_type": "stream",
     "text": [
      "[I 2023-09-10 06:34:09,011] Trial 560 pruned. Trial was pruned at iteration 21.\n"
     ]
    },
    {
     "name": "stdout",
     "output_type": "stream",
     "text": [
      "[LightGBM] [Warning] lambda_l1 is set=10, reg_alpha=0.0 will be ignored. Current value: lambda_l1=10\n",
      "[LightGBM] [Warning] bagging_fraction is set=1.0, subsample=1.0 will be ignored. Current value: bagging_fraction=1.0\n",
      "[LightGBM] [Warning] feature_fraction is set=0.7, colsample_bytree=1.0 will be ignored. Current value: feature_fraction=0.7\n",
      "[LightGBM] [Warning] min_data_in_leaf is set=100, min_child_samples=20 will be ignored. Current value: min_data_in_leaf=100\n",
      "[LightGBM] [Warning] bagging_freq is set=1, subsample_freq=0 will be ignored. Current value: bagging_freq=1\n",
      "[LightGBM] [Warning] min_gain_to_split is set=10.600000000000001, min_split_gain=0.0 will be ignored. Current value: min_gain_to_split=10.600000000000001\n",
      "[LightGBM] [Warning] lambda_l2 is set=0, reg_lambda=0.0 will be ignored. Current value: lambda_l2=0\n",
      "Training until validation scores don't improve for 20 rounds\n"
     ]
    },
    {
     "name": "stderr",
     "output_type": "stream",
     "text": [
      "[I 2023-09-10 06:34:09,398] Trial 561 finished with value: 0.8078771112405359 and parameters: {'n_estimators': 500, 'learning_rate': 0.4, 'num_leaves': 620, 'max_depth': 6, 'min_data_in_leaf': 100, 'lambda_l1': 5, 'lambda_l2': 0, 'min_gain_to_split': 10.600000000000001, 'bagging_fraction': 1.0, 'bagging_freq': 1, 'feature_fraction': 0.8}. Best is trial 21 with value: 0.8300815375655213.\n"
     ]
    },
    {
     "name": "stdout",
     "output_type": "stream",
     "text": [
      "Training until validation scores don't improve for 20 rounds\n",
      "Early stopping, best iteration is:\n",
      "[5]\tvalid_0's auc: 0.807877\tvalid_0's binary_logloss: 0.566394\n"
     ]
    },
    {
     "name": "stderr",
     "output_type": "stream",
     "text": [
      "[I 2023-09-10 06:34:09,781] Trial 562 finished with value: 0.8078771112405359 and parameters: {'n_estimators': 400, 'learning_rate': 0.4, 'num_leaves': 640, 'max_depth': 6, 'min_data_in_leaf': 100, 'lambda_l1': 5, 'lambda_l2': 0, 'min_gain_to_split': 10.5, 'bagging_fraction': 1.0, 'bagging_freq': 1, 'feature_fraction': 0.8}. Best is trial 21 with value: 0.8300815375655213.\n"
     ]
    },
    {
     "name": "stdout",
     "output_type": "stream",
     "text": [
      "[LightGBM] [Warning] lambda_l1 is set=5, reg_alpha=0.0 will be ignored. Current value: lambda_l1=5\n",
      "[LightGBM] [Warning] bagging_fraction is set=1.0, subsample=1.0 will be ignored. Current value: bagging_fraction=1.0\n",
      "[LightGBM] [Warning] feature_fraction is set=0.8, colsample_bytree=1.0 will be ignored. Current value: feature_fraction=0.8\n",
      "[LightGBM] [Warning] min_data_in_leaf is set=100, min_child_samples=20 will be ignored. Current value: min_data_in_leaf=100\n",
      "[LightGBM] [Warning] bagging_freq is set=1, subsample_freq=0 will be ignored. Current value: bagging_freq=1\n",
      "[LightGBM] [Warning] min_gain_to_split is set=10.5, min_split_gain=0.0 will be ignored. Current value: min_gain_to_split=10.5\n",
      "[LightGBM] [Warning] lambda_l2 is set=0, reg_lambda=0.0 will be ignored. Current value: lambda_l2=0\n",
      "Training until validation scores don't improve for 20 rounds\n",
      "Early stopping, best iteration is:\n",
      "[5]\tvalid_0's auc: 0.807877\tvalid_0's binary_logloss: 0.566394\n"
     ]
    },
    {
     "name": "stderr",
     "output_type": "stream",
     "text": [
      "[I 2023-09-10 06:34:10,087] Trial 563 pruned. Trial was pruned at iteration 0.\n"
     ]
    },
    {
     "name": "stdout",
     "output_type": "stream",
     "text": [
      "[LightGBM] [Warning] lambda_l1 is set=70, reg_alpha=0.0 will be ignored. Current value: lambda_l1=70\n",
      "[LightGBM] [Warning] bagging_fraction is set=0.5, subsample=1.0 will be ignored. Current value: bagging_fraction=0.5\n",
      "[LightGBM] [Warning] feature_fraction is set=0.7, colsample_bytree=1.0 will be ignored. Current value: feature_fraction=0.7\n",
      "[LightGBM] [Warning] min_data_in_leaf is set=100, min_child_samples=20 will be ignored. Current value: min_data_in_leaf=100\n",
      "[LightGBM] [Warning] bagging_freq is set=1, subsample_freq=0 will be ignored. Current value: bagging_freq=1\n",
      "[LightGBM] [Warning] min_gain_to_split is set=10.200000000000001, min_split_gain=0.0 will be ignored. Current value: min_gain_to_split=10.200000000000001\n",
      "[LightGBM] [Warning] lambda_l2 is set=0, reg_lambda=0.0 will be ignored. Current value: lambda_l2=0\n"
     ]
    },
    {
     "name": "stderr",
     "output_type": "stream",
     "text": [
      "[I 2023-09-10 06:34:10,417] Trial 564 pruned. Trial was pruned at iteration 21.\n"
     ]
    },
    {
     "name": "stdout",
     "output_type": "stream",
     "text": [
      "Training until validation scores don't improve for 20 rounds\n"
     ]
    },
    {
     "name": "stderr",
     "output_type": "stream",
     "text": [
      "[I 2023-09-10 06:34:10,779] Trial 565 finished with value: 0.8078771112405359 and parameters: {'n_estimators': 500, 'learning_rate': 0.4, 'num_leaves': 640, 'max_depth': 6, 'min_data_in_leaf': 100, 'lambda_l1': 5, 'lambda_l2': 0, 'min_gain_to_split': 10.5, 'bagging_fraction': 1.0, 'bagging_freq': 1, 'feature_fraction': 0.8}. Best is trial 21 with value: 0.8300815375655213.\n"
     ]
    },
    {
     "name": "stdout",
     "output_type": "stream",
     "text": [
      "Training until validation scores don't improve for 20 rounds\n",
      "Early stopping, best iteration is:\n",
      "[5]\tvalid_0's auc: 0.807877\tvalid_0's binary_logloss: 0.566394\n"
     ]
    },
    {
     "name": "stderr",
     "output_type": "stream",
     "text": [
      "[I 2023-09-10 06:34:11,111] Trial 566 pruned. Trial was pruned at iteration 21.\n"
     ]
    },
    {
     "name": "stdout",
     "output_type": "stream",
     "text": [
      "[LightGBM] [Warning] lambda_l1 is set=5, reg_alpha=0.0 will be ignored. Current value: lambda_l1=5\n",
      "[LightGBM] [Warning] bagging_fraction is set=1.0, subsample=1.0 will be ignored. Current value: bagging_fraction=1.0\n",
      "[LightGBM] [Warning] feature_fraction is set=0.8, colsample_bytree=1.0 will be ignored. Current value: feature_fraction=0.8\n",
      "[LightGBM] [Warning] min_data_in_leaf is set=100, min_child_samples=20 will be ignored. Current value: min_data_in_leaf=100\n",
      "[LightGBM] [Warning] bagging_freq is set=1, subsample_freq=0 will be ignored. Current value: bagging_freq=1\n",
      "[LightGBM] [Warning] min_gain_to_split is set=11.200000000000001, min_split_gain=0.0 will be ignored. Current value: min_gain_to_split=11.200000000000001\n",
      "[LightGBM] [Warning] lambda_l2 is set=0, reg_lambda=0.0 will be ignored. Current value: lambda_l2=0\n",
      "Training until validation scores don't improve for 20 rounds\n"
     ]
    },
    {
     "name": "stderr",
     "output_type": "stream",
     "text": [
      "[I 2023-09-10 06:34:11,417] Trial 567 pruned. Trial was pruned at iteration 0.\n",
      "[I 2023-09-10 06:34:11,744] Trial 568 pruned. Trial was pruned at iteration 21.\n"
     ]
    },
    {
     "name": "stdout",
     "output_type": "stream",
     "text": [
      "Training until validation scores don't improve for 20 rounds\n"
     ]
    },
    {
     "name": "stderr",
     "output_type": "stream",
     "text": [
      "[I 2023-09-10 06:34:12,072] Trial 569 pruned. Trial was pruned at iteration 21.\n"
     ]
    },
    {
     "name": "stdout",
     "output_type": "stream",
     "text": [
      "Training until validation scores don't improve for 20 rounds\n"
     ]
    },
    {
     "name": "stderr",
     "output_type": "stream",
     "text": [
      "[I 2023-09-10 06:34:12,397] Trial 570 pruned. Trial was pruned at iteration 21.\n"
     ]
    },
    {
     "name": "stdout",
     "output_type": "stream",
     "text": [
      "Training until validation scores don't improve for 20 rounds\n"
     ]
    },
    {
     "name": "stderr",
     "output_type": "stream",
     "text": [
      "[I 2023-09-10 06:34:12,758] Trial 571 pruned. Trial was pruned at iteration 21.\n"
     ]
    },
    {
     "name": "stdout",
     "output_type": "stream",
     "text": [
      "Training until validation scores don't improve for 20 rounds\n"
     ]
    },
    {
     "name": "stderr",
     "output_type": "stream",
     "text": [
      "[I 2023-09-10 06:34:13,087] Trial 572 pruned. Trial was pruned at iteration 21.\n"
     ]
    },
    {
     "name": "stdout",
     "output_type": "stream",
     "text": [
      "Training until validation scores don't improve for 20 rounds\n"
     ]
    },
    {
     "name": "stderr",
     "output_type": "stream",
     "text": [
      "[I 2023-09-10 06:34:13,414] Trial 573 pruned. Trial was pruned at iteration 21.\n"
     ]
    },
    {
     "name": "stdout",
     "output_type": "stream",
     "text": [
      "Training until validation scores don't improve for 20 rounds\n"
     ]
    },
    {
     "name": "stderr",
     "output_type": "stream",
     "text": [
      "[I 2023-09-10 06:34:13,763] Trial 574 finished with value: 0.8078771112405359 and parameters: {'n_estimators': 500, 'learning_rate': 0.4, 'num_leaves': 600, 'max_depth': 6, 'min_data_in_leaf': 100, 'lambda_l1': 5, 'lambda_l2': 0, 'min_gain_to_split': 10.600000000000001, 'bagging_fraction': 1.0, 'bagging_freq': 1, 'feature_fraction': 0.8}. Best is trial 21 with value: 0.8300815375655213.\n"
     ]
    },
    {
     "name": "stdout",
     "output_type": "stream",
     "text": [
      "Training until validation scores don't improve for 20 rounds\n",
      "Early stopping, best iteration is:\n",
      "[5]\tvalid_0's auc: 0.807877\tvalid_0's binary_logloss: 0.566394\n"
     ]
    },
    {
     "name": "stderr",
     "output_type": "stream",
     "text": [
      "[I 2023-09-10 06:34:14,140] Trial 575 pruned. Trial was pruned at iteration 21.\n"
     ]
    },
    {
     "name": "stdout",
     "output_type": "stream",
     "text": [
      "[LightGBM] [Warning] lambda_l1 is set=5, reg_alpha=0.0 will be ignored. Current value: lambda_l1=5\n",
      "[LightGBM] [Warning] bagging_fraction is set=1.0, subsample=1.0 will be ignored. Current value: bagging_fraction=1.0\n",
      "[LightGBM] [Warning] feature_fraction is set=0.6000000000000001, colsample_bytree=1.0 will be ignored. Current value: feature_fraction=0.6000000000000001\n",
      "[LightGBM] [Warning] min_data_in_leaf is set=100, min_child_samples=20 will be ignored. Current value: min_data_in_leaf=100\n",
      "[LightGBM] [Warning] bagging_freq is set=1, subsample_freq=0 will be ignored. Current value: bagging_freq=1\n",
      "[LightGBM] [Warning] min_gain_to_split is set=11.0, min_split_gain=0.0 will be ignored. Current value: min_gain_to_split=11.0\n",
      "[LightGBM] [Warning] lambda_l2 is set=0, reg_lambda=0.0 will be ignored. Current value: lambda_l2=0\n",
      "Training until validation scores don't improve for 20 rounds\n"
     ]
    },
    {
     "name": "stderr",
     "output_type": "stream",
     "text": [
      "[I 2023-09-10 06:34:14,513] Trial 576 pruned. Trial was pruned at iteration 21.\n"
     ]
    },
    {
     "name": "stdout",
     "output_type": "stream",
     "text": [
      "Training until validation scores don't improve for 20 rounds\n"
     ]
    },
    {
     "name": "stderr",
     "output_type": "stream",
     "text": [
      "[I 2023-09-10 06:34:14,897] Trial 577 finished with value: 0.8078771112405359 and parameters: {'n_estimators': 400, 'learning_rate': 0.4, 'num_leaves': 600, 'max_depth': 6, 'min_data_in_leaf': 100, 'lambda_l1': 5, 'lambda_l2': 0, 'min_gain_to_split': 10.9, 'bagging_fraction': 1.0, 'bagging_freq': 1, 'feature_fraction': 0.8}. Best is trial 21 with value: 0.8300815375655213.\n"
     ]
    },
    {
     "name": "stdout",
     "output_type": "stream",
     "text": [
      "Training until validation scores don't improve for 20 rounds\n",
      "Early stopping, best iteration is:\n",
      "[5]\tvalid_0's auc: 0.807877\tvalid_0's binary_logloss: 0.566394\n"
     ]
    },
    {
     "name": "stderr",
     "output_type": "stream",
     "text": [
      "[I 2023-09-10 06:34:15,280] Trial 578 finished with value: 0.8078771112405359 and parameters: {'n_estimators': 500, 'learning_rate': 0.4, 'num_leaves': 580, 'max_depth': 7, 'min_data_in_leaf': 100, 'lambda_l1': 5, 'lambda_l2': 0, 'min_gain_to_split': 10.5, 'bagging_fraction': 1.0, 'bagging_freq': 1, 'feature_fraction': 0.8}. Best is trial 21 with value: 0.8300815375655213.\n"
     ]
    },
    {
     "name": "stdout",
     "output_type": "stream",
     "text": [
      "[LightGBM] [Warning] lambda_l1 is set=5, reg_alpha=0.0 will be ignored. Current value: lambda_l1=5\n",
      "[LightGBM] [Warning] bagging_fraction is set=1.0, subsample=1.0 will be ignored. Current value: bagging_fraction=1.0\n",
      "[LightGBM] [Warning] feature_fraction is set=0.8, colsample_bytree=1.0 will be ignored. Current value: feature_fraction=0.8\n",
      "[LightGBM] [Warning] min_data_in_leaf is set=100, min_child_samples=20 will be ignored. Current value: min_data_in_leaf=100\n",
      "[LightGBM] [Warning] bagging_freq is set=1, subsample_freq=0 will be ignored. Current value: bagging_freq=1\n",
      "[LightGBM] [Warning] min_gain_to_split is set=10.5, min_split_gain=0.0 will be ignored. Current value: min_gain_to_split=10.5\n",
      "[LightGBM] [Warning] lambda_l2 is set=0, reg_lambda=0.0 will be ignored. Current value: lambda_l2=0\n",
      "Training until validation scores don't improve for 20 rounds\n",
      "Early stopping, best iteration is:\n",
      "[5]\tvalid_0's auc: 0.807877\tvalid_0's binary_logloss: 0.566394\n"
     ]
    },
    {
     "name": "stderr",
     "output_type": "stream",
     "text": [
      "[I 2023-09-10 06:34:15,615] Trial 579 pruned. Trial was pruned at iteration 0.\n"
     ]
    },
    {
     "name": "stdout",
     "output_type": "stream",
     "text": [
      "[LightGBM] [Warning] lambda_l1 is set=5, reg_alpha=0.0 will be ignored. Current value: lambda_l1=5\n",
      "[LightGBM] [Warning] bagging_fraction is set=0.2, subsample=1.0 will be ignored. Current value: bagging_fraction=0.2\n",
      "[LightGBM] [Warning] feature_fraction is set=0.8, colsample_bytree=1.0 will be ignored. Current value: feature_fraction=0.8\n",
      "[LightGBM] [Warning] min_data_in_leaf is set=100, min_child_samples=20 will be ignored. Current value: min_data_in_leaf=100\n",
      "[LightGBM] [Warning] bagging_freq is set=1, subsample_freq=0 will be ignored. Current value: bagging_freq=1\n",
      "[LightGBM] [Warning] min_gain_to_split is set=11.200000000000001, min_split_gain=0.0 will be ignored. Current value: min_gain_to_split=11.200000000000001\n",
      "[LightGBM] [Warning] lambda_l2 is set=0, reg_lambda=0.0 will be ignored. Current value: lambda_l2=0\n"
     ]
    },
    {
     "name": "stderr",
     "output_type": "stream",
     "text": [
      "[I 2023-09-10 06:34:16,013] Trial 580 pruned. Trial was pruned at iteration 21.\n"
     ]
    },
    {
     "name": "stdout",
     "output_type": "stream",
     "text": [
      "Training until validation scores don't improve for 20 rounds\n"
     ]
    },
    {
     "name": "stderr",
     "output_type": "stream",
     "text": [
      "[I 2023-09-10 06:34:16,401] Trial 581 finished with value: 0.8078771112405359 and parameters: {'n_estimators': 500, 'learning_rate': 0.4, 'num_leaves': 660, 'max_depth': 6, 'min_data_in_leaf': 100, 'lambda_l1': 5, 'lambda_l2': 0, 'min_gain_to_split': 10.700000000000001, 'bagging_fraction': 1.0, 'bagging_freq': 1, 'feature_fraction': 0.8}. Best is trial 21 with value: 0.8300815375655213.\n"
     ]
    },
    {
     "name": "stdout",
     "output_type": "stream",
     "text": [
      "Training until validation scores don't improve for 20 rounds\n",
      "Early stopping, best iteration is:\n",
      "[5]\tvalid_0's auc: 0.807877\tvalid_0's binary_logloss: 0.566394\n"
     ]
    },
    {
     "name": "stderr",
     "output_type": "stream",
     "text": [
      "[I 2023-09-10 06:34:16,737] Trial 582 pruned. Trial was pruned at iteration 21.\n"
     ]
    },
    {
     "name": "stdout",
     "output_type": "stream",
     "text": [
      "[LightGBM] [Warning] lambda_l1 is set=5, reg_alpha=0.0 will be ignored. Current value: lambda_l1=5\n",
      "[LightGBM] [Warning] bagging_fraction is set=0.9000000000000001, subsample=1.0 will be ignored. Current value: bagging_fraction=0.9000000000000001\n",
      "[LightGBM] [Warning] feature_fraction is set=0.8, colsample_bytree=1.0 will be ignored. Current value: feature_fraction=0.8\n",
      "[LightGBM] [Warning] min_data_in_leaf is set=100, min_child_samples=20 will be ignored. Current value: min_data_in_leaf=100\n",
      "[LightGBM] [Warning] bagging_freq is set=1, subsample_freq=0 will be ignored. Current value: bagging_freq=1\n",
      "[LightGBM] [Warning] min_gain_to_split is set=5.6000000000000005, min_split_gain=0.0 will be ignored. Current value: min_gain_to_split=5.6000000000000005\n",
      "[LightGBM] [Warning] lambda_l2 is set=30, reg_lambda=0.0 will be ignored. Current value: lambda_l2=30\n",
      "Training until validation scores don't improve for 20 rounds\n"
     ]
    },
    {
     "name": "stderr",
     "output_type": "stream",
     "text": [
      "[I 2023-09-10 06:34:17,070] Trial 583 pruned. Trial was pruned at iteration 21.\n"
     ]
    },
    {
     "name": "stdout",
     "output_type": "stream",
     "text": [
      "Training until validation scores don't improve for 20 rounds\n"
     ]
    },
    {
     "name": "stderr",
     "output_type": "stream",
     "text": [
      "[I 2023-09-10 06:34:17,401] Trial 584 pruned. Trial was pruned at iteration 21.\n"
     ]
    },
    {
     "name": "stdout",
     "output_type": "stream",
     "text": [
      "Training until validation scores don't improve for 20 rounds\n"
     ]
    },
    {
     "name": "stderr",
     "output_type": "stream",
     "text": [
      "[I 2023-09-10 06:34:17,715] Trial 585 pruned. Trial was pruned at iteration 0.\n",
      "[I 2023-09-10 06:34:18,045] Trial 586 pruned. Trial was pruned at iteration 21.\n"
     ]
    },
    {
     "name": "stdout",
     "output_type": "stream",
     "text": [
      "Training until validation scores don't improve for 20 rounds\n"
     ]
    },
    {
     "name": "stderr",
     "output_type": "stream",
     "text": [
      "[I 2023-09-10 06:34:18,410] Trial 587 pruned. Trial was pruned at iteration 21.\n"
     ]
    },
    {
     "name": "stdout",
     "output_type": "stream",
     "text": [
      "Training until validation scores don't improve for 20 rounds\n"
     ]
    },
    {
     "name": "stderr",
     "output_type": "stream",
     "text": [
      "[I 2023-09-10 06:34:18,773] Trial 588 pruned. Trial was pruned at iteration 21.\n"
     ]
    },
    {
     "name": "stdout",
     "output_type": "stream",
     "text": [
      "Training until validation scores don't improve for 20 rounds\n"
     ]
    },
    {
     "name": "stderr",
     "output_type": "stream",
     "text": [
      "[I 2023-09-10 06:34:19,104] Trial 589 pruned. Trial was pruned at iteration 21.\n"
     ]
    },
    {
     "name": "stdout",
     "output_type": "stream",
     "text": [
      "Training until validation scores don't improve for 20 rounds\n"
     ]
    },
    {
     "name": "stderr",
     "output_type": "stream",
     "text": [
      "[I 2023-09-10 06:34:19,437] Trial 590 pruned. Trial was pruned at iteration 21.\n"
     ]
    },
    {
     "name": "stdout",
     "output_type": "stream",
     "text": [
      "Training until validation scores don't improve for 20 rounds\n"
     ]
    },
    {
     "name": "stderr",
     "output_type": "stream",
     "text": [
      "[I 2023-09-10 06:34:19,769] Trial 591 pruned. Trial was pruned at iteration 21.\n"
     ]
    },
    {
     "name": "stdout",
     "output_type": "stream",
     "text": [
      "Training until validation scores don't improve for 20 rounds\n"
     ]
    },
    {
     "name": "stderr",
     "output_type": "stream",
     "text": [
      "[I 2023-09-10 06:34:20,082] Trial 592 pruned. Trial was pruned at iteration 0.\n",
      "[I 2023-09-10 06:34:20,413] Trial 593 pruned. Trial was pruned at iteration 21.\n"
     ]
    },
    {
     "name": "stdout",
     "output_type": "stream",
     "text": [
      "Training until validation scores don't improve for 20 rounds\n"
     ]
    },
    {
     "name": "stderr",
     "output_type": "stream",
     "text": [
      "[I 2023-09-10 06:34:20,776] Trial 594 pruned. Trial was pruned at iteration 21.\n"
     ]
    },
    {
     "name": "stdout",
     "output_type": "stream",
     "text": [
      "Training until validation scores don't improve for 20 rounds\n"
     ]
    },
    {
     "name": "stderr",
     "output_type": "stream",
     "text": [
      "[I 2023-09-10 06:34:21,108] Trial 595 pruned. Trial was pruned at iteration 0.\n",
      "[I 2023-09-10 06:34:21,469] Trial 596 finished with value: 0.8078771112405359 and parameters: {'n_estimators': 500, 'learning_rate': 0.4, 'num_leaves': 600, 'max_depth': 6, 'min_data_in_leaf': 100, 'lambda_l1': 5, 'lambda_l2': 0, 'min_gain_to_split': 10.700000000000001, 'bagging_fraction': 1.0, 'bagging_freq': 1, 'feature_fraction': 0.8}. Best is trial 21 with value: 0.8300815375655213.\n"
     ]
    },
    {
     "name": "stdout",
     "output_type": "stream",
     "text": [
      "Training until validation scores don't improve for 20 rounds\n",
      "Early stopping, best iteration is:\n",
      "[5]\tvalid_0's auc: 0.807877\tvalid_0's binary_logloss: 0.566394\n"
     ]
    },
    {
     "name": "stderr",
     "output_type": "stream",
     "text": [
      "[I 2023-09-10 06:34:21,806] Trial 597 pruned. Trial was pruned at iteration 21.\n"
     ]
    },
    {
     "name": "stdout",
     "output_type": "stream",
     "text": [
      "[LightGBM] [Warning] lambda_l1 is set=10, reg_alpha=0.0 will be ignored. Current value: lambda_l1=10\n",
      "[LightGBM] [Warning] bagging_fraction is set=1.0, subsample=1.0 will be ignored. Current value: bagging_fraction=1.0\n",
      "[LightGBM] [Warning] feature_fraction is set=0.8, colsample_bytree=1.0 will be ignored. Current value: feature_fraction=0.8\n",
      "[LightGBM] [Warning] min_data_in_leaf is set=100, min_child_samples=20 will be ignored. Current value: min_data_in_leaf=100\n",
      "[LightGBM] [Warning] bagging_freq is set=1, subsample_freq=0 will be ignored. Current value: bagging_freq=1\n",
      "[LightGBM] [Warning] min_gain_to_split is set=11.5, min_split_gain=0.0 will be ignored. Current value: min_gain_to_split=11.5\n",
      "[LightGBM] [Warning] lambda_l2 is set=5, reg_lambda=0.0 will be ignored. Current value: lambda_l2=5\n",
      "Training until validation scores don't improve for 20 rounds\n"
     ]
    },
    {
     "name": "stderr",
     "output_type": "stream",
     "text": [
      "[I 2023-09-10 06:34:22,141] Trial 598 pruned. Trial was pruned at iteration 21.\n"
     ]
    },
    {
     "name": "stdout",
     "output_type": "stream",
     "text": [
      "Training until validation scores don't improve for 20 rounds\n"
     ]
    },
    {
     "name": "stderr",
     "output_type": "stream",
     "text": [
      "[I 2023-09-10 06:34:22,478] Trial 599 pruned. Trial was pruned at iteration 21.\n"
     ]
    },
    {
     "name": "stdout",
     "output_type": "stream",
     "text": [
      "Training until validation scores don't improve for 20 rounds\n"
     ]
    },
    {
     "name": "stderr",
     "output_type": "stream",
     "text": [
      "[I 2023-09-10 06:34:22,946] Trial 600 finished with value: 0.8078771112405359 and parameters: {'n_estimators': 500, 'learning_rate': 0.4, 'num_leaves': 560, 'max_depth': 7, 'min_data_in_leaf': 100, 'lambda_l1': 5, 'lambda_l2': 0, 'min_gain_to_split': 10.600000000000001, 'bagging_fraction': 1.0, 'bagging_freq': 1, 'feature_fraction': 0.8}. Best is trial 21 with value: 0.8300815375655213.\n"
     ]
    },
    {
     "name": "stdout",
     "output_type": "stream",
     "text": [
      "Training until validation scores don't improve for 20 rounds\n",
      "Early stopping, best iteration is:\n",
      "[5]\tvalid_0's auc: 0.807877\tvalid_0's binary_logloss: 0.566394\n"
     ]
    },
    {
     "name": "stderr",
     "output_type": "stream",
     "text": [
      "[I 2023-09-10 06:34:23,361] Trial 601 pruned. Trial was pruned at iteration 21.\n"
     ]
    },
    {
     "name": "stdout",
     "output_type": "stream",
     "text": [
      "[LightGBM] [Warning] lambda_l1 is set=10, reg_alpha=0.0 will be ignored. Current value: lambda_l1=10\n",
      "[LightGBM] [Warning] bagging_fraction is set=1.0, subsample=1.0 will be ignored. Current value: bagging_fraction=1.0\n",
      "[LightGBM] [Warning] feature_fraction is set=0.8, colsample_bytree=1.0 will be ignored. Current value: feature_fraction=0.8\n",
      "[LightGBM] [Warning] min_data_in_leaf is set=100, min_child_samples=20 will be ignored. Current value: min_data_in_leaf=100\n",
      "[LightGBM] [Warning] bagging_freq is set=1, subsample_freq=0 will be ignored. Current value: bagging_freq=1\n",
      "[LightGBM] [Warning] min_gain_to_split is set=11.200000000000001, min_split_gain=0.0 will be ignored. Current value: min_gain_to_split=11.200000000000001\n",
      "[LightGBM] [Warning] lambda_l2 is set=0, reg_lambda=0.0 will be ignored. Current value: lambda_l2=0\n",
      "Training until validation scores don't improve for 20 rounds\n"
     ]
    },
    {
     "name": "stderr",
     "output_type": "stream",
     "text": [
      "[I 2023-09-10 06:34:23,753] Trial 602 finished with value: 0.8062754804892254 and parameters: {'n_estimators': 500, 'learning_rate': 0.4, 'num_leaves': 580, 'max_depth': 6, 'min_data_in_leaf': 100, 'lambda_l1': 5, 'lambda_l2': 5, 'min_gain_to_split': 10.8, 'bagging_fraction': 1.0, 'bagging_freq': 1, 'feature_fraction': 0.7}. Best is trial 21 with value: 0.8300815375655213.\n"
     ]
    },
    {
     "name": "stdout",
     "output_type": "stream",
     "text": [
      "Training until validation scores don't improve for 20 rounds\n",
      "Early stopping, best iteration is:\n",
      "[5]\tvalid_0's auc: 0.806275\tvalid_0's binary_logloss: 0.574081\n"
     ]
    },
    {
     "name": "stderr",
     "output_type": "stream",
     "text": [
      "[I 2023-09-10 06:34:24,094] Trial 603 pruned. Trial was pruned at iteration 21.\n"
     ]
    },
    {
     "name": "stdout",
     "output_type": "stream",
     "text": [
      "[LightGBM] [Warning] lambda_l1 is set=5, reg_alpha=0.0 will be ignored. Current value: lambda_l1=5\n",
      "[LightGBM] [Warning] bagging_fraction is set=1.0, subsample=1.0 will be ignored. Current value: bagging_fraction=1.0\n",
      "[LightGBM] [Warning] feature_fraction is set=0.6000000000000001, colsample_bytree=1.0 will be ignored. Current value: feature_fraction=0.6000000000000001\n",
      "[LightGBM] [Warning] min_data_in_leaf is set=100, min_child_samples=20 will be ignored. Current value: min_data_in_leaf=100\n",
      "[LightGBM] [Warning] bagging_freq is set=1, subsample_freq=0 will be ignored. Current value: bagging_freq=1\n",
      "[LightGBM] [Warning] min_gain_to_split is set=10.100000000000001, min_split_gain=0.0 will be ignored. Current value: min_gain_to_split=10.100000000000001\n",
      "[LightGBM] [Warning] lambda_l2 is set=5, reg_lambda=0.0 will be ignored. Current value: lambda_l2=5\n",
      "Training until validation scores don't improve for 20 rounds\n"
     ]
    },
    {
     "name": "stderr",
     "output_type": "stream",
     "text": [
      "[I 2023-09-10 06:34:24,467] Trial 604 pruned. Trial was pruned at iteration 21.\n"
     ]
    },
    {
     "name": "stdout",
     "output_type": "stream",
     "text": [
      "Training until validation scores don't improve for 20 rounds\n"
     ]
    },
    {
     "name": "stderr",
     "output_type": "stream",
     "text": [
      "[I 2023-09-10 06:34:24,801] Trial 605 pruned. Trial was pruned at iteration 21.\n"
     ]
    },
    {
     "name": "stdout",
     "output_type": "stream",
     "text": [
      "Training until validation scores don't improve for 20 rounds\n"
     ]
    },
    {
     "name": "stderr",
     "output_type": "stream",
     "text": [
      "[I 2023-09-10 06:34:25,121] Trial 606 pruned. Trial was pruned at iteration 0.\n",
      "[I 2023-09-10 06:34:25,426] Trial 607 pruned. Trial was pruned at iteration 0.\n",
      "[I 2023-09-10 06:34:25,770] Trial 608 pruned. Trial was pruned at iteration 21.\n"
     ]
    },
    {
     "name": "stdout",
     "output_type": "stream",
     "text": [
      "Training until validation scores don't improve for 20 rounds\n"
     ]
    },
    {
     "name": "stderr",
     "output_type": "stream",
     "text": [
      "[I 2023-09-10 06:34:26,091] Trial 609 pruned. Trial was pruned at iteration 0.\n",
      "[I 2023-09-10 06:34:26,408] Trial 610 pruned. Trial was pruned at iteration 0.\n",
      "[I 2023-09-10 06:34:26,769] Trial 611 finished with value: 0.8051834595224229 and parameters: {'n_estimators': 400, 'learning_rate': 0.4, 'num_leaves': 600, 'max_depth': 6, 'min_data_in_leaf': 100, 'lambda_l1': 5, 'lambda_l2': 5, 'min_gain_to_split': 10.100000000000001, 'bagging_fraction': 1.0, 'bagging_freq': 1, 'feature_fraction': 0.8}. Best is trial 21 with value: 0.8300815375655213.\n"
     ]
    },
    {
     "name": "stdout",
     "output_type": "stream",
     "text": [
      "Training until validation scores don't improve for 20 rounds\n",
      "Early stopping, best iteration is:\n",
      "[5]\tvalid_0's auc: 0.805183\tvalid_0's binary_logloss: 0.573623\n"
     ]
    },
    {
     "name": "stderr",
     "output_type": "stream",
     "text": [
      "[I 2023-09-10 06:34:27,114] Trial 612 pruned. Trial was pruned at iteration 21.\n"
     ]
    },
    {
     "name": "stdout",
     "output_type": "stream",
     "text": [
      "[LightGBM] [Warning] lambda_l1 is set=5, reg_alpha=0.0 will be ignored. Current value: lambda_l1=5\n",
      "[LightGBM] [Warning] bagging_fraction is set=1.0, subsample=1.0 will be ignored. Current value: bagging_fraction=1.0\n",
      "[LightGBM] [Warning] feature_fraction is set=0.8, colsample_bytree=1.0 will be ignored. Current value: feature_fraction=0.8\n",
      "[LightGBM] [Warning] min_data_in_leaf is set=100, min_child_samples=20 will be ignored. Current value: min_data_in_leaf=100\n",
      "[LightGBM] [Warning] bagging_freq is set=1, subsample_freq=0 will be ignored. Current value: bagging_freq=1\n",
      "[LightGBM] [Warning] min_gain_to_split is set=11.200000000000001, min_split_gain=0.0 will be ignored. Current value: min_gain_to_split=11.200000000000001\n",
      "[LightGBM] [Warning] lambda_l2 is set=0, reg_lambda=0.0 will be ignored. Current value: lambda_l2=0\n",
      "Training until validation scores don't improve for 20 rounds\n"
     ]
    },
    {
     "name": "stderr",
     "output_type": "stream",
     "text": [
      "[I 2023-09-10 06:34:27,479] Trial 613 pruned. Trial was pruned at iteration 21.\n"
     ]
    },
    {
     "name": "stdout",
     "output_type": "stream",
     "text": [
      "Training until validation scores don't improve for 20 rounds\n"
     ]
    },
    {
     "name": "stderr",
     "output_type": "stream",
     "text": [
      "[I 2023-09-10 06:34:27,813] Trial 614 pruned. Trial was pruned at iteration 21.\n"
     ]
    },
    {
     "name": "stdout",
     "output_type": "stream",
     "text": [
      "Training until validation scores don't improve for 20 rounds\n"
     ]
    },
    {
     "name": "stderr",
     "output_type": "stream",
     "text": [
      "[I 2023-09-10 06:34:28,151] Trial 615 pruned. Trial was pruned at iteration 21.\n"
     ]
    },
    {
     "name": "stdout",
     "output_type": "stream",
     "text": [
      "Training until validation scores don't improve for 20 rounds\n"
     ]
    },
    {
     "name": "stderr",
     "output_type": "stream",
     "text": [
      "[I 2023-09-10 06:34:28,493] Trial 616 pruned. Trial was pruned at iteration 21.\n"
     ]
    },
    {
     "name": "stdout",
     "output_type": "stream",
     "text": [
      "Training until validation scores don't improve for 20 rounds\n"
     ]
    },
    {
     "name": "stderr",
     "output_type": "stream",
     "text": [
      "[I 2023-09-10 06:34:28,832] Trial 617 pruned. Trial was pruned at iteration 0.\n",
      "[I 2023-09-10 06:34:29,192] Trial 618 finished with value: 0.8208357600465929 and parameters: {'n_estimators': 500, 'learning_rate': 0.4, 'num_leaves': 620, 'max_depth': 6, 'min_data_in_leaf': 100, 'lambda_l1': 5, 'lambda_l2': 0, 'min_gain_to_split': 2.6, 'bagging_fraction': 1.0, 'bagging_freq': 1, 'feature_fraction': 0.8}. Best is trial 21 with value: 0.8300815375655213.\n"
     ]
    },
    {
     "name": "stdout",
     "output_type": "stream",
     "text": [
      "Training until validation scores don't improve for 20 rounds\n",
      "Early stopping, best iteration is:\n",
      "[9]\tvalid_0's auc: 0.820836\tvalid_0's binary_logloss: 0.537539\n"
     ]
    },
    {
     "name": "stderr",
     "output_type": "stream",
     "text": [
      "[I 2023-09-10 06:34:29,530] Trial 619 pruned. Trial was pruned at iteration 21.\n"
     ]
    },
    {
     "name": "stdout",
     "output_type": "stream",
     "text": [
      "[LightGBM] [Warning] lambda_l1 is set=10, reg_alpha=0.0 will be ignored. Current value: lambda_l1=10\n",
      "[LightGBM] [Warning] bagging_fraction is set=1.0, subsample=1.0 will be ignored. Current value: bagging_fraction=1.0\n",
      "[LightGBM] [Warning] feature_fraction is set=0.8, colsample_bytree=1.0 will be ignored. Current value: feature_fraction=0.8\n",
      "[LightGBM] [Warning] min_data_in_leaf is set=100, min_child_samples=20 will be ignored. Current value: min_data_in_leaf=100\n",
      "[LightGBM] [Warning] bagging_freq is set=1, subsample_freq=0 will be ignored. Current value: bagging_freq=1\n",
      "[LightGBM] [Warning] min_gain_to_split is set=10.3, min_split_gain=0.0 will be ignored. Current value: min_gain_to_split=10.3\n",
      "[LightGBM] [Warning] lambda_l2 is set=10, reg_lambda=0.0 will be ignored. Current value: lambda_l2=10\n",
      "Training until validation scores don't improve for 20 rounds\n"
     ]
    },
    {
     "name": "stderr",
     "output_type": "stream",
     "text": [
      "[I 2023-09-10 06:34:29,899] Trial 620 finished with value: 0.8345224228305184 and parameters: {'n_estimators': 1000, 'learning_rate': 0.4, 'num_leaves': 540, 'max_depth': 7, 'min_data_in_leaf': 100, 'lambda_l1': 5, 'lambda_l2': 0, 'min_gain_to_split': 0.4, 'bagging_fraction': 1.0, 'bagging_freq': 1, 'feature_fraction': 0.8}. Best is trial 620 with value: 0.8345224228305184.\n"
     ]
    },
    {
     "name": "stdout",
     "output_type": "stream",
     "text": [
      "Training until validation scores don't improve for 20 rounds\n",
      "Early stopping, best iteration is:\n",
      "[11]\tvalid_0's auc: 0.834522\tvalid_0's binary_logloss: 0.518392\n",
      "[LightGBM] [Warning] lambda_l1 is set=5, reg_alpha=0.0 will be ignored. Current value: lambda_l1=5\n",
      "[LightGBM] [Warning] bagging_fraction is set=1.0, subsample=1.0 will be ignored. Current value: bagging_fraction=1.0\n",
      "[LightGBM] [Warning] feature_fraction is set=0.7, colsample_bytree=1.0 will be ignored. Current value: feature_fraction=0.7\n",
      "[LightGBM] [Warning] min_data_in_leaf is set=100, min_child_samples=20 will be ignored. Current value: min_data_in_leaf=100\n",
      "[LightGBM] [Warning] bagging_freq is set=1, subsample_freq=0 will be ignored. Current value: bagging_freq=1\n",
      "[LightGBM] [Warning] min_gain_to_split is set=1.4000000000000001, min_split_gain=0.0 will be ignored. Current value: min_gain_to_split=1.4000000000000001\n",
      "[LightGBM] [Warning] lambda_l2 is set=5, reg_lambda=0.0 will be ignored. Current value: lambda_l2=5\n",
      "Training until validation scores don't improve for 20 rounds\n"
     ]
    },
    {
     "name": "stderr",
     "output_type": "stream",
     "text": [
      "[I 2023-09-10 06:34:30,433] Trial 621 finished with value: 0.8288439138031451 and parameters: {'n_estimators': 800, 'learning_rate': 0.4, 'num_leaves': 540, 'max_depth': 8, 'min_data_in_leaf': 100, 'lambda_l1': 5, 'lambda_l2': 5, 'min_gain_to_split': 1.4000000000000001, 'bagging_fraction': 1.0, 'bagging_freq': 1, 'feature_fraction': 0.7}. Best is trial 620 with value: 0.8345224228305184.\n"
     ]
    },
    {
     "name": "stdout",
     "output_type": "stream",
     "text": [
      "Early stopping, best iteration is:\n",
      "[6]\tvalid_0's auc: 0.828844\tvalid_0's binary_logloss: 0.539673\n"
     ]
    },
    {
     "name": "stderr",
     "output_type": "stream",
     "text": [
      "[I 2023-09-10 06:34:30,778] Trial 622 pruned. Trial was pruned at iteration 0.\n"
     ]
    },
    {
     "name": "stdout",
     "output_type": "stream",
     "text": [
      "[LightGBM] [Warning] lambda_l1 is set=5, reg_alpha=0.0 will be ignored. Current value: lambda_l1=5\n",
      "[LightGBM] [Warning] bagging_fraction is set=0.30000000000000004, subsample=1.0 will be ignored. Current value: bagging_fraction=0.30000000000000004\n",
      "[LightGBM] [Warning] feature_fraction is set=0.7, colsample_bytree=1.0 will be ignored. Current value: feature_fraction=0.7\n",
      "[LightGBM] [Warning] min_data_in_leaf is set=100, min_child_samples=20 will be ignored. Current value: min_data_in_leaf=100\n",
      "[LightGBM] [Warning] bagging_freq is set=1, subsample_freq=0 will be ignored. Current value: bagging_freq=1\n",
      "[LightGBM] [Warning] min_gain_to_split is set=0.8, min_split_gain=0.0 will be ignored. Current value: min_gain_to_split=0.8\n",
      "[LightGBM] [Warning] lambda_l2 is set=5, reg_lambda=0.0 will be ignored. Current value: lambda_l2=5\n"
     ]
    },
    {
     "name": "stderr",
     "output_type": "stream",
     "text": [
      "[I 2023-09-10 06:34:31,186] Trial 623 pruned. Trial was pruned at iteration 29.\n"
     ]
    },
    {
     "name": "stdout",
     "output_type": "stream",
     "text": [
      "Training until validation scores don't improve for 20 rounds\n"
     ]
    },
    {
     "name": "stderr",
     "output_type": "stream",
     "text": [
      "[I 2023-09-10 06:34:31,504] Trial 624 pruned. Trial was pruned at iteration 0.\n",
      "[I 2023-09-10 06:34:31,923] Trial 625 finished with value: 0.8386721025043681 and parameters: {'n_estimators': 500, 'learning_rate': 0.4, 'num_leaves': 540, 'max_depth': 8, 'min_data_in_leaf': 100, 'lambda_l1': 5, 'lambda_l2': 5, 'min_gain_to_split': 0.4, 'bagging_fraction': 1.0, 'bagging_freq': 1, 'feature_fraction': 0.7}. Best is trial 625 with value: 0.8386721025043681.\n"
     ]
    },
    {
     "name": "stdout",
     "output_type": "stream",
     "text": [
      "Training until validation scores don't improve for 20 rounds\n",
      "Early stopping, best iteration is:\n",
      "[14]\tvalid_0's auc: 0.838672\tvalid_0's binary_logloss: 0.515958\n"
     ]
    },
    {
     "name": "stderr",
     "output_type": "stream",
     "text": [
      "[I 2023-09-10 06:34:32,277] Trial 626 pruned. Trial was pruned at iteration 28.\n"
     ]
    },
    {
     "name": "stdout",
     "output_type": "stream",
     "text": [
      "[LightGBM] [Warning] lambda_l1 is set=5, reg_alpha=0.0 will be ignored. Current value: lambda_l1=5\n",
      "[LightGBM] [Warning] bagging_fraction is set=1.0, subsample=1.0 will be ignored. Current value: bagging_fraction=1.0\n",
      "[LightGBM] [Warning] feature_fraction is set=0.7, colsample_bytree=1.0 will be ignored. Current value: feature_fraction=0.7\n",
      "[LightGBM] [Warning] min_data_in_leaf is set=100, min_child_samples=20 will be ignored. Current value: min_data_in_leaf=100\n",
      "[LightGBM] [Warning] bagging_freq is set=1, subsample_freq=0 will be ignored. Current value: bagging_freq=1\n",
      "[LightGBM] [Warning] min_gain_to_split is set=0.30000000000000004, min_split_gain=0.0 will be ignored. Current value: min_gain_to_split=0.30000000000000004\n",
      "[LightGBM] [Warning] lambda_l2 is set=10, reg_lambda=0.0 will be ignored. Current value: lambda_l2=10\n",
      "Training until validation scores don't improve for 20 rounds\n"
     ]
    },
    {
     "name": "stderr",
     "output_type": "stream",
     "text": [
      "[I 2023-09-10 06:34:32,629] Trial 627 pruned. Trial was pruned at iteration 28.\n"
     ]
    },
    {
     "name": "stdout",
     "output_type": "stream",
     "text": [
      "Training until validation scores don't improve for 20 rounds\n"
     ]
    },
    {
     "name": "stderr",
     "output_type": "stream",
     "text": [
      "[I 2023-09-10 06:34:32,977] Trial 628 pruned. Trial was pruned at iteration 29.\n"
     ]
    },
    {
     "name": "stdout",
     "output_type": "stream",
     "text": [
      "Training until validation scores don't improve for 20 rounds\n"
     ]
    },
    {
     "name": "stderr",
     "output_type": "stream",
     "text": [
      "[I 2023-09-10 06:34:33,388] Trial 629 finished with value: 0.8288439138031451 and parameters: {'n_estimators': 800, 'learning_rate': 0.4, 'num_leaves': 540, 'max_depth': 8, 'min_data_in_leaf': 100, 'lambda_l1': 5, 'lambda_l2': 5, 'min_gain_to_split': 1.4000000000000001, 'bagging_fraction': 1.0, 'bagging_freq': 1, 'feature_fraction': 0.7}. Best is trial 625 with value: 0.8386721025043681.\n"
     ]
    },
    {
     "name": "stdout",
     "output_type": "stream",
     "text": [
      "Training until validation scores don't improve for 20 rounds\n",
      "Early stopping, best iteration is:\n",
      "[6]\tvalid_0's auc: 0.828844\tvalid_0's binary_logloss: 0.539673\n",
      "[LightGBM] [Warning] lambda_l1 is set=5, reg_alpha=0.0 will be ignored. Current value: lambda_l1=5\n",
      "[LightGBM] [Warning] bagging_fraction is set=1.0, subsample=1.0 will be ignored. Current value: bagging_fraction=1.0\n",
      "[LightGBM] [Warning] feature_fraction is set=0.7, colsample_bytree=1.0 will be ignored. Current value: feature_fraction=0.7\n",
      "[LightGBM] [Warning] min_data_in_leaf is set=100, min_child_samples=20 will be ignored. Current value: min_data_in_leaf=100\n",
      "[LightGBM] [Warning] bagging_freq is set=1, subsample_freq=0 will be ignored. Current value: bagging_freq=1\n",
      "[LightGBM] [Warning] min_gain_to_split is set=0.0, min_split_gain=0.0 will be ignored. Current value: min_gain_to_split=0.0\n",
      "[LightGBM] [Warning] lambda_l2 is set=10, reg_lambda=0.0 will be ignored. Current value: lambda_l2=10\n",
      "Training until validation scores don't improve for 20 rounds\n"
     ]
    },
    {
     "name": "stderr",
     "output_type": "stream",
     "text": [
      "[I 2023-09-10 06:34:33,926] Trial 630 finished with value: 0.8389633080955154 and parameters: {'n_estimators': 800, 'learning_rate': 0.4, 'num_leaves': 540, 'max_depth': 8, 'min_data_in_leaf': 100, 'lambda_l1': 5, 'lambda_l2': 10, 'min_gain_to_split': 0.0, 'bagging_fraction': 1.0, 'bagging_freq': 1, 'feature_fraction': 0.7}. Best is trial 630 with value: 0.8389633080955154.\n"
     ]
    },
    {
     "name": "stdout",
     "output_type": "stream",
     "text": [
      "Early stopping, best iteration is:\n",
      "[42]\tvalid_0's auc: 0.838963\tvalid_0's binary_logloss: 0.502387\n"
     ]
    },
    {
     "name": "stderr",
     "output_type": "stream",
     "text": [
      "[I 2023-09-10 06:34:34,245] Trial 631 pruned. Trial was pruned at iteration 0.\n"
     ]
    },
    {
     "name": "stdout",
     "output_type": "stream",
     "text": [
      "[LightGBM] [Warning] lambda_l1 is set=10, reg_alpha=0.0 will be ignored. Current value: lambda_l1=10\n",
      "[LightGBM] [Warning] bagging_fraction is set=0.7, subsample=1.0 will be ignored. Current value: bagging_fraction=0.7\n",
      "[LightGBM] [Warning] feature_fraction is set=0.7, colsample_bytree=1.0 will be ignored. Current value: feature_fraction=0.7\n",
      "[LightGBM] [Warning] min_data_in_leaf is set=100, min_child_samples=20 will be ignored. Current value: min_data_in_leaf=100\n",
      "[LightGBM] [Warning] bagging_freq is set=1, subsample_freq=0 will be ignored. Current value: bagging_freq=1\n",
      "[LightGBM] [Warning] min_gain_to_split is set=0.1, min_split_gain=0.0 will be ignored. Current value: min_gain_to_split=0.1\n",
      "[LightGBM] [Warning] lambda_l2 is set=10, reg_lambda=0.0 will be ignored. Current value: lambda_l2=10\n"
     ]
    },
    {
     "name": "stderr",
     "output_type": "stream",
     "text": [
      "[I 2023-09-10 06:34:34,594] Trial 632 pruned. Trial was pruned at iteration 28.\n"
     ]
    },
    {
     "name": "stdout",
     "output_type": "stream",
     "text": [
      "Training until validation scores don't improve for 20 rounds\n"
     ]
    },
    {
     "name": "stderr",
     "output_type": "stream",
     "text": [
      "[I 2023-09-10 06:34:34,946] Trial 633 pruned. Trial was pruned at iteration 29.\n"
     ]
    },
    {
     "name": "stdout",
     "output_type": "stream",
     "text": [
      "Training until validation scores don't improve for 20 rounds\n"
     ]
    },
    {
     "name": "stderr",
     "output_type": "stream",
     "text": [
      "[I 2023-09-10 06:34:35,294] Trial 634 pruned. Trial was pruned at iteration 28.\n"
     ]
    },
    {
     "name": "stdout",
     "output_type": "stream",
     "text": [
      "Training until validation scores don't improve for 20 rounds\n"
     ]
    },
    {
     "name": "stderr",
     "output_type": "stream",
     "text": [
      "[I 2023-09-10 06:34:35,640] Trial 635 pruned. Trial was pruned at iteration 21.\n"
     ]
    },
    {
     "name": "stdout",
     "output_type": "stream",
     "text": [
      "Training until validation scores don't improve for 20 rounds\n"
     ]
    },
    {
     "name": "stderr",
     "output_type": "stream",
     "text": [
      "[I 2023-09-10 06:34:36,008] Trial 636 pruned. Trial was pruned at iteration 31.\n"
     ]
    },
    {
     "name": "stdout",
     "output_type": "stream",
     "text": [
      "Training until validation scores don't improve for 20 rounds\n"
     ]
    },
    {
     "name": "stderr",
     "output_type": "stream",
     "text": [
      "[I 2023-09-10 06:34:36,398] Trial 637 pruned. Trial was pruned at iteration 29.\n"
     ]
    },
    {
     "name": "stdout",
     "output_type": "stream",
     "text": [
      "Training until validation scores don't improve for 20 rounds\n"
     ]
    },
    {
     "name": "stderr",
     "output_type": "stream",
     "text": [
      "[I 2023-09-10 06:34:36,900] Trial 638 pruned. Trial was pruned at iteration 28.\n"
     ]
    },
    {
     "name": "stdout",
     "output_type": "stream",
     "text": [
      "Training until validation scores don't improve for 20 rounds\n"
     ]
    },
    {
     "name": "stderr",
     "output_type": "stream",
     "text": [
      "[I 2023-09-10 06:34:37,316] Trial 639 finished with value: 0.8288439138031451 and parameters: {'n_estimators': 900, 'learning_rate': 0.4, 'num_leaves': 520, 'max_depth': 8, 'min_data_in_leaf': 100, 'lambda_l1': 5, 'lambda_l2': 5, 'min_gain_to_split': 1.1, 'bagging_fraction': 1.0, 'bagging_freq': 1, 'feature_fraction': 0.7}. Best is trial 630 with value: 0.8389633080955154.\n"
     ]
    },
    {
     "name": "stdout",
     "output_type": "stream",
     "text": [
      "Training until validation scores don't improve for 20 rounds\n",
      "Early stopping, best iteration is:\n",
      "[6]\tvalid_0's auc: 0.828844\tvalid_0's binary_logloss: 0.539673\n"
     ]
    },
    {
     "name": "stderr",
     "output_type": "stream",
     "text": [
      "[I 2023-09-10 06:34:37,710] Trial 640 pruned. Trial was pruned at iteration 28.\n"
     ]
    },
    {
     "name": "stdout",
     "output_type": "stream",
     "text": [
      "[LightGBM] [Warning] lambda_l1 is set=10, reg_alpha=0.0 will be ignored. Current value: lambda_l1=10\n",
      "[LightGBM] [Warning] bagging_fraction is set=1.0, subsample=1.0 will be ignored. Current value: bagging_fraction=1.0\n",
      "[LightGBM] [Warning] feature_fraction is set=0.7, colsample_bytree=1.0 will be ignored. Current value: feature_fraction=0.7\n",
      "[LightGBM] [Warning] min_data_in_leaf is set=100, min_child_samples=20 will be ignored. Current value: min_data_in_leaf=100\n",
      "[LightGBM] [Warning] bagging_freq is set=1, subsample_freq=0 will be ignored. Current value: bagging_freq=1\n",
      "[LightGBM] [Warning] min_gain_to_split is set=2.0, min_split_gain=0.0 will be ignored. Current value: min_gain_to_split=2.0\n",
      "[LightGBM] [Warning] lambda_l2 is set=10, reg_lambda=0.0 will be ignored. Current value: lambda_l2=10\n",
      "Training until validation scores don't improve for 20 rounds\n"
     ]
    },
    {
     "name": "stderr",
     "output_type": "stream",
     "text": [
      "[I 2023-09-10 06:34:38,146] Trial 641 finished with value: 0.8288439138031451 and parameters: {'n_estimators': 1000, 'learning_rate': 0.4, 'num_leaves': 520, 'max_depth': 8, 'min_data_in_leaf': 100, 'lambda_l1': 5, 'lambda_l2': 5, 'min_gain_to_split': 1.3, 'bagging_fraction': 1.0, 'bagging_freq': 1, 'feature_fraction': 0.7}. Best is trial 630 with value: 0.8389633080955154.\n"
     ]
    },
    {
     "name": "stdout",
     "output_type": "stream",
     "text": [
      "Training until validation scores don't improve for 20 rounds\n",
      "Early stopping, best iteration is:\n",
      "[6]\tvalid_0's auc: 0.828844\tvalid_0's binary_logloss: 0.539673\n"
     ]
    },
    {
     "name": "stderr",
     "output_type": "stream",
     "text": [
      "[I 2023-09-10 06:34:38,618] Trial 642 pruned. Trial was pruned at iteration 28.\n"
     ]
    },
    {
     "name": "stdout",
     "output_type": "stream",
     "text": [
      "[LightGBM] [Warning] lambda_l1 is set=5, reg_alpha=0.0 will be ignored. Current value: lambda_l1=5\n",
      "[LightGBM] [Warning] bagging_fraction is set=1.0, subsample=1.0 will be ignored. Current value: bagging_fraction=1.0\n",
      "[LightGBM] [Warning] feature_fraction is set=0.7, colsample_bytree=1.0 will be ignored. Current value: feature_fraction=0.7\n",
      "[LightGBM] [Warning] min_data_in_leaf is set=100, min_child_samples=20 will be ignored. Current value: min_data_in_leaf=100\n",
      "[LightGBM] [Warning] bagging_freq is set=1, subsample_freq=0 will be ignored. Current value: bagging_freq=1\n",
      "[LightGBM] [Warning] min_gain_to_split is set=1.3, min_split_gain=0.0 will be ignored. Current value: min_gain_to_split=1.3\n",
      "[LightGBM] [Warning] lambda_l2 is set=10, reg_lambda=0.0 will be ignored. Current value: lambda_l2=10\n",
      "Training until validation scores don't improve for 20 rounds\n"
     ]
    },
    {
     "name": "stderr",
     "output_type": "stream",
     "text": [
      "[I 2023-09-10 06:34:38,981] Trial 643 pruned. Trial was pruned at iteration 28.\n"
     ]
    },
    {
     "name": "stdout",
     "output_type": "stream",
     "text": [
      "Training until validation scores don't improve for 20 rounds\n"
     ]
    },
    {
     "name": "stderr",
     "output_type": "stream",
     "text": [
      "[I 2023-09-10 06:34:39,274] Trial 644 pruned. Trial was pruned at iteration 0.\n",
      "[I 2023-09-10 06:34:39,841] Trial 645 pruned. Trial was pruned at iteration 29.\n"
     ]
    },
    {
     "name": "stdout",
     "output_type": "stream",
     "text": [
      "Training until validation scores don't improve for 20 rounds\n"
     ]
    },
    {
     "name": "stderr",
     "output_type": "stream",
     "text": [
      "[I 2023-09-10 06:34:40,281] Trial 646 pruned. Trial was pruned at iteration 28.\n"
     ]
    },
    {
     "name": "stdout",
     "output_type": "stream",
     "text": [
      "Training until validation scores don't improve for 20 rounds\n"
     ]
    },
    {
     "name": "stderr",
     "output_type": "stream",
     "text": [
      "[I 2023-09-10 06:34:40,670] Trial 647 pruned. Trial was pruned at iteration 29.\n"
     ]
    },
    {
     "name": "stdout",
     "output_type": "stream",
     "text": [
      "Training until validation scores don't improve for 20 rounds\n"
     ]
    },
    {
     "name": "stderr",
     "output_type": "stream",
     "text": [
      "[I 2023-09-10 06:34:41,058] Trial 648 pruned. Trial was pruned at iteration 28.\n"
     ]
    },
    {
     "name": "stdout",
     "output_type": "stream",
     "text": [
      "Training until validation scores don't improve for 20 rounds\n"
     ]
    },
    {
     "name": "stderr",
     "output_type": "stream",
     "text": [
      "[I 2023-09-10 06:34:41,413] Trial 649 pruned. Trial was pruned at iteration 21.\n"
     ]
    },
    {
     "name": "stdout",
     "output_type": "stream",
     "text": [
      "Training until validation scores don't improve for 20 rounds\n"
     ]
    },
    {
     "name": "stderr",
     "output_type": "stream",
     "text": [
      "[I 2023-09-10 06:34:41,776] Trial 650 pruned. Trial was pruned at iteration 28.\n"
     ]
    },
    {
     "name": "stdout",
     "output_type": "stream",
     "text": [
      "Training until validation scores don't improve for 20 rounds\n"
     ]
    },
    {
     "name": "stderr",
     "output_type": "stream",
     "text": [
      "[I 2023-09-10 06:34:42,116] Trial 651 pruned. Trial was pruned at iteration 0.\n",
      "[I 2023-09-10 06:34:42,496] Trial 652 pruned. Trial was pruned at iteration 0.\n",
      "[I 2023-09-10 06:34:42,906] Trial 653 pruned. Trial was pruned at iteration 29.\n"
     ]
    },
    {
     "name": "stdout",
     "output_type": "stream",
     "text": [
      "Training until validation scores don't improve for 20 rounds\n"
     ]
    },
    {
     "name": "stderr",
     "output_type": "stream",
     "text": [
      "[I 2023-09-10 06:34:43,260] Trial 654 pruned. Trial was pruned at iteration 0.\n",
      "[I 2023-09-10 06:34:43,703] Trial 655 finished with value: 0.8370704717530577 and parameters: {'n_estimators': 800, 'learning_rate': 0.4, 'num_leaves': 500, 'max_depth': 8, 'min_data_in_leaf': 100, 'lambda_l1': 5, 'lambda_l2': 5, 'min_gain_to_split': 0.7000000000000001, 'bagging_fraction': 1.0, 'bagging_freq': 1, 'feature_fraction': 0.7}. Best is trial 630 with value: 0.8389633080955154.\n"
     ]
    },
    {
     "name": "stdout",
     "output_type": "stream",
     "text": [
      "Training until validation scores don't improve for 20 rounds\n",
      "Early stopping, best iteration is:\n",
      "[22]\tvalid_0's auc: 0.83707\tvalid_0's binary_logloss: 0.515653\n"
     ]
    },
    {
     "name": "stderr",
     "output_type": "stream",
     "text": [
      "[I 2023-09-10 06:34:44,052] Trial 656 pruned. Trial was pruned at iteration 0.\n"
     ]
    },
    {
     "name": "stdout",
     "output_type": "stream",
     "text": [
      "[LightGBM] [Warning] lambda_l1 is set=100, reg_alpha=0.0 will be ignored. Current value: lambda_l1=100\n",
      "[LightGBM] [Warning] bagging_fraction is set=1.0, subsample=1.0 will be ignored. Current value: bagging_fraction=1.0\n",
      "[LightGBM] [Warning] feature_fraction is set=0.7, colsample_bytree=1.0 will be ignored. Current value: feature_fraction=0.7\n",
      "[LightGBM] [Warning] min_data_in_leaf is set=100, min_child_samples=20 will be ignored. Current value: min_data_in_leaf=100\n",
      "[LightGBM] [Warning] bagging_freq is set=1, subsample_freq=0 will be ignored. Current value: bagging_freq=1\n",
      "[LightGBM] [Warning] min_gain_to_split is set=0.5, min_split_gain=0.0 will be ignored. Current value: min_gain_to_split=0.5\n",
      "[LightGBM] [Warning] lambda_l2 is set=85, reg_lambda=0.0 will be ignored. Current value: lambda_l2=85\n"
     ]
    },
    {
     "name": "stderr",
     "output_type": "stream",
     "text": [
      "[I 2023-09-10 06:34:44,376] Trial 657 pruned. Trial was pruned at iteration 0.\n",
      "[I 2023-09-10 06:34:44,720] Trial 658 pruned. Trial was pruned at iteration 0.\n",
      "[I 2023-09-10 06:34:45,104] Trial 659 finished with value: 0.8255678509027373 and parameters: {'n_estimators': 800, 'learning_rate': 0.4, 'num_leaves': 520, 'max_depth': 8, 'min_data_in_leaf': 100, 'lambda_l1': 5, 'lambda_l2': 5, 'min_gain_to_split': 1.8, 'bagging_fraction': 1.0, 'bagging_freq': 1, 'feature_fraction': 0.6000000000000001}. Best is trial 630 with value: 0.8389633080955154.\n"
     ]
    },
    {
     "name": "stdout",
     "output_type": "stream",
     "text": [
      "Training until validation scores don't improve for 20 rounds\n",
      "Early stopping, best iteration is:\n",
      "[6]\tvalid_0's auc: 0.825568\tvalid_0's binary_logloss: 0.542333\n"
     ]
    },
    {
     "name": "stderr",
     "output_type": "stream",
     "text": [
      "[I 2023-09-10 06:34:45,467] Trial 660 pruned. Trial was pruned at iteration 28.\n"
     ]
    },
    {
     "name": "stdout",
     "output_type": "stream",
     "text": [
      "[LightGBM] [Warning] lambda_l1 is set=5, reg_alpha=0.0 will be ignored. Current value: lambda_l1=5\n",
      "[LightGBM] [Warning] bagging_fraction is set=1.0, subsample=1.0 will be ignored. Current value: bagging_fraction=1.0\n",
      "[LightGBM] [Warning] feature_fraction is set=0.6000000000000001, colsample_bytree=1.0 will be ignored. Current value: feature_fraction=0.6000000000000001\n",
      "[LightGBM] [Warning] min_data_in_leaf is set=100, min_child_samples=20 will be ignored. Current value: min_data_in_leaf=100\n",
      "[LightGBM] [Warning] bagging_freq is set=1, subsample_freq=0 will be ignored. Current value: bagging_freq=1\n",
      "[LightGBM] [Warning] min_gain_to_split is set=1.9000000000000001, min_split_gain=0.0 will be ignored. Current value: min_gain_to_split=1.9000000000000001\n",
      "[LightGBM] [Warning] lambda_l2 is set=5, reg_lambda=0.0 will be ignored. Current value: lambda_l2=5\n",
      "Training until validation scores don't improve for 20 rounds\n"
     ]
    },
    {
     "name": "stderr",
     "output_type": "stream",
     "text": [
      "[I 2023-09-10 06:34:45,829] Trial 661 pruned. Trial was pruned at iteration 28.\n"
     ]
    },
    {
     "name": "stdout",
     "output_type": "stream",
     "text": [
      "Training until validation scores don't improve for 20 rounds\n"
     ]
    },
    {
     "name": "stderr",
     "output_type": "stream",
     "text": [
      "[I 2023-09-10 06:34:46,182] Trial 662 pruned. Trial was pruned at iteration 26.\n"
     ]
    },
    {
     "name": "stdout",
     "output_type": "stream",
     "text": [
      "Training until validation scores don't improve for 20 rounds\n"
     ]
    },
    {
     "name": "stderr",
     "output_type": "stream",
     "text": [
      "[I 2023-09-10 06:34:46,574] Trial 663 pruned. Trial was pruned at iteration 28.\n"
     ]
    },
    {
     "name": "stdout",
     "output_type": "stream",
     "text": [
      "Training until validation scores don't improve for 20 rounds\n"
     ]
    },
    {
     "name": "stderr",
     "output_type": "stream",
     "text": [
      "[I 2023-09-10 06:34:46,993] Trial 664 pruned. Trial was pruned at iteration 26.\n"
     ]
    },
    {
     "name": "stdout",
     "output_type": "stream",
     "text": [
      "Training until validation scores don't improve for 20 rounds\n"
     ]
    },
    {
     "name": "stderr",
     "output_type": "stream",
     "text": [
      "[I 2023-09-10 06:34:47,332] Trial 665 pruned. Trial was pruned at iteration 28.\n"
     ]
    },
    {
     "name": "stdout",
     "output_type": "stream",
     "text": [
      "Training until validation scores don't improve for 20 rounds\n"
     ]
    },
    {
     "name": "stderr",
     "output_type": "stream",
     "text": [
      "[I 2023-09-10 06:34:47,686] Trial 666 pruned. Trial was pruned at iteration 0.\n",
      "[I 2023-09-10 06:34:48,064] Trial 667 pruned. Trial was pruned at iteration 34.\n"
     ]
    },
    {
     "name": "stdout",
     "output_type": "stream",
     "text": [
      "Training until validation scores don't improve for 20 rounds\n"
     ]
    },
    {
     "name": "stderr",
     "output_type": "stream",
     "text": [
      "[I 2023-09-10 06:34:48,385] Trial 668 pruned. Trial was pruned at iteration 0.\n",
      "[I 2023-09-10 06:34:48,761] Trial 669 pruned. Trial was pruned at iteration 28.\n"
     ]
    },
    {
     "name": "stdout",
     "output_type": "stream",
     "text": [
      "Training until validation scores don't improve for 20 rounds\n"
     ]
    },
    {
     "name": "stderr",
     "output_type": "stream",
     "text": [
      "[I 2023-09-10 06:34:49,271] Trial 670 pruned. Trial was pruned at iteration 29.\n"
     ]
    },
    {
     "name": "stdout",
     "output_type": "stream",
     "text": [
      "Training until validation scores don't improve for 20 rounds\n"
     ]
    },
    {
     "name": "stderr",
     "output_type": "stream",
     "text": [
      "[I 2023-09-10 06:34:49,643] Trial 671 pruned. Trial was pruned at iteration 28.\n"
     ]
    },
    {
     "name": "stdout",
     "output_type": "stream",
     "text": [
      "Training until validation scores don't improve for 20 rounds\n"
     ]
    },
    {
     "name": "stderr",
     "output_type": "stream",
     "text": [
      "[I 2023-09-10 06:34:50,067] Trial 672 pruned. Trial was pruned at iteration 28.\n"
     ]
    },
    {
     "name": "stdout",
     "output_type": "stream",
     "text": [
      "Training until validation scores don't improve for 20 rounds\n"
     ]
    },
    {
     "name": "stderr",
     "output_type": "stream",
     "text": [
      "[I 2023-09-10 06:34:50,460] Trial 673 pruned. Trial was pruned at iteration 26.\n"
     ]
    },
    {
     "name": "stdout",
     "output_type": "stream",
     "text": [
      "Training until validation scores don't improve for 20 rounds\n"
     ]
    },
    {
     "name": "stderr",
     "output_type": "stream",
     "text": [
      "[I 2023-09-10 06:34:50,810] Trial 674 pruned. Trial was pruned at iteration 0.\n",
      "[I 2023-09-10 06:34:51,174] Trial 675 pruned. Trial was pruned at iteration 29.\n"
     ]
    },
    {
     "name": "stdout",
     "output_type": "stream",
     "text": [
      "Training until validation scores don't improve for 20 rounds\n"
     ]
    },
    {
     "name": "stderr",
     "output_type": "stream",
     "text": [
      "[I 2023-09-10 06:34:51,533] Trial 676 pruned. Trial was pruned at iteration 28.\n"
     ]
    },
    {
     "name": "stdout",
     "output_type": "stream",
     "text": [
      "Training until validation scores don't improve for 20 rounds\n"
     ]
    },
    {
     "name": "stderr",
     "output_type": "stream",
     "text": [
      "[I 2023-09-10 06:34:51,913] Trial 677 pruned. Trial was pruned at iteration 28.\n"
     ]
    },
    {
     "name": "stdout",
     "output_type": "stream",
     "text": [
      "Training until validation scores don't improve for 20 rounds\n"
     ]
    },
    {
     "name": "stderr",
     "output_type": "stream",
     "text": [
      "[I 2023-09-10 06:34:52,269] Trial 678 pruned. Trial was pruned at iteration 28.\n"
     ]
    },
    {
     "name": "stdout",
     "output_type": "stream",
     "text": [
      "Training until validation scores don't improve for 20 rounds\n"
     ]
    },
    {
     "name": "stderr",
     "output_type": "stream",
     "text": [
      "[I 2023-09-10 06:34:52,627] Trial 679 pruned. Trial was pruned at iteration 28.\n"
     ]
    },
    {
     "name": "stdout",
     "output_type": "stream",
     "text": [
      "Training until validation scores don't improve for 20 rounds\n"
     ]
    },
    {
     "name": "stderr",
     "output_type": "stream",
     "text": [
      "[I 2023-09-10 06:34:52,988] Trial 680 pruned. Trial was pruned at iteration 28.\n"
     ]
    },
    {
     "name": "stdout",
     "output_type": "stream",
     "text": [
      "Training until validation scores don't improve for 20 rounds\n"
     ]
    },
    {
     "name": "stderr",
     "output_type": "stream",
     "text": [
      "[I 2023-09-10 06:34:53,344] Trial 681 pruned. Trial was pruned at iteration 26.\n"
     ]
    },
    {
     "name": "stdout",
     "output_type": "stream",
     "text": [
      "Training until validation scores don't improve for 20 rounds\n"
     ]
    },
    {
     "name": "stderr",
     "output_type": "stream",
     "text": [
      "[I 2023-09-10 06:34:53,674] Trial 682 pruned. Trial was pruned at iteration 0.\n",
      "[I 2023-09-10 06:34:54,032] Trial 683 pruned. Trial was pruned at iteration 0.\n",
      "[I 2023-09-10 06:34:54,449] Trial 684 finished with value: 0.8288439138031451 and parameters: {'n_estimators': 900, 'learning_rate': 0.4, 'num_leaves': 540, 'max_depth': 8, 'min_data_in_leaf': 100, 'lambda_l1': 5, 'lambda_l2': 5, 'min_gain_to_split': 1.1, 'bagging_fraction': 1.0, 'bagging_freq': 1, 'feature_fraction': 0.7}. Best is trial 630 with value: 0.8389633080955154.\n"
     ]
    },
    {
     "name": "stdout",
     "output_type": "stream",
     "text": [
      "Training until validation scores don't improve for 20 rounds\n",
      "Early stopping, best iteration is:\n",
      "[6]\tvalid_0's auc: 0.828844\tvalid_0's binary_logloss: 0.539673\n"
     ]
    },
    {
     "name": "stderr",
     "output_type": "stream",
     "text": [
      "[I 2023-09-10 06:34:54,856] Trial 685 pruned. Trial was pruned at iteration 28.\n"
     ]
    },
    {
     "name": "stdout",
     "output_type": "stream",
     "text": [
      "[LightGBM] [Warning] lambda_l1 is set=0, reg_alpha=0.0 will be ignored. Current value: lambda_l1=0\n",
      "[LightGBM] [Warning] bagging_fraction is set=1.0, subsample=1.0 will be ignored. Current value: bagging_fraction=1.0\n",
      "[LightGBM] [Warning] feature_fraction is set=0.7, colsample_bytree=1.0 will be ignored. Current value: feature_fraction=0.7\n",
      "[LightGBM] [Warning] min_data_in_leaf is set=100, min_child_samples=20 will be ignored. Current value: min_data_in_leaf=100\n",
      "[LightGBM] [Warning] bagging_freq is set=1, subsample_freq=0 will be ignored. Current value: bagging_freq=1\n",
      "[LightGBM] [Warning] min_gain_to_split is set=1.1, min_split_gain=0.0 will be ignored. Current value: min_gain_to_split=1.1\n",
      "[LightGBM] [Warning] lambda_l2 is set=10, reg_lambda=0.0 will be ignored. Current value: lambda_l2=10\n",
      "Training until validation scores don't improve for 20 rounds\n"
     ]
    },
    {
     "name": "stderr",
     "output_type": "stream",
     "text": [
      "[I 2023-09-10 06:34:55,214] Trial 686 pruned. Trial was pruned at iteration 26.\n"
     ]
    },
    {
     "name": "stdout",
     "output_type": "stream",
     "text": [
      "Training until validation scores don't improve for 20 rounds\n"
     ]
    },
    {
     "name": "stderr",
     "output_type": "stream",
     "text": [
      "[I 2023-09-10 06:34:55,545] Trial 687 pruned. Trial was pruned at iteration 0.\n",
      "[I 2023-09-10 06:34:55,972] Trial 688 pruned. Trial was pruned at iteration 26.\n"
     ]
    },
    {
     "name": "stdout",
     "output_type": "stream",
     "text": [
      "Training until validation scores don't improve for 20 rounds\n"
     ]
    },
    {
     "name": "stderr",
     "output_type": "stream",
     "text": [
      "[I 2023-09-10 06:34:56,354] Trial 689 pruned. Trial was pruned at iteration 28.\n"
     ]
    },
    {
     "name": "stdout",
     "output_type": "stream",
     "text": [
      "Training until validation scores don't improve for 20 rounds\n"
     ]
    },
    {
     "name": "stderr",
     "output_type": "stream",
     "text": [
      "[I 2023-09-10 06:34:56,743] Trial 690 finished with value: 0.828843913803145 and parameters: {'n_estimators': 900, 'learning_rate': 0.4, 'num_leaves': 720, 'max_depth': 8, 'min_data_in_leaf': 100, 'lambda_l1': 0, 'lambda_l2': 5, 'min_gain_to_split': 1.7000000000000002, 'bagging_fraction': 1.0, 'bagging_freq': 1, 'feature_fraction': 0.5}. Best is trial 630 with value: 0.8389633080955154.\n"
     ]
    },
    {
     "name": "stdout",
     "output_type": "stream",
     "text": [
      "Training until validation scores don't improve for 20 rounds\n",
      "Early stopping, best iteration is:\n",
      "[8]\tvalid_0's auc: 0.828844\tvalid_0's binary_logloss: 0.527787\n"
     ]
    },
    {
     "name": "stderr",
     "output_type": "stream",
     "text": [
      "[I 2023-09-10 06:34:57,181] Trial 691 finished with value: 0.835541642399534 and parameters: {'n_estimators': 900, 'learning_rate': 0.4, 'num_leaves': 740, 'max_depth': 8, 'min_data_in_leaf': 100, 'lambda_l1': 0, 'lambda_l2': 10, 'min_gain_to_split': 1.8, 'bagging_fraction': 1.0, 'bagging_freq': 1, 'feature_fraction': 0.5}. Best is trial 630 with value: 0.8389633080955154.\n"
     ]
    },
    {
     "name": "stdout",
     "output_type": "stream",
     "text": [
      "[LightGBM] [Warning] lambda_l1 is set=0, reg_alpha=0.0 will be ignored. Current value: lambda_l1=0\n",
      "[LightGBM] [Warning] bagging_fraction is set=1.0, subsample=1.0 will be ignored. Current value: bagging_fraction=1.0\n",
      "[LightGBM] [Warning] feature_fraction is set=0.5, colsample_bytree=1.0 will be ignored. Current value: feature_fraction=0.5\n",
      "[LightGBM] [Warning] min_data_in_leaf is set=100, min_child_samples=20 will be ignored. Current value: min_data_in_leaf=100\n",
      "[LightGBM] [Warning] bagging_freq is set=1, subsample_freq=0 will be ignored. Current value: bagging_freq=1\n",
      "[LightGBM] [Warning] min_gain_to_split is set=1.8, min_split_gain=0.0 will be ignored. Current value: min_gain_to_split=1.8\n",
      "[LightGBM] [Warning] lambda_l2 is set=10, reg_lambda=0.0 will be ignored. Current value: lambda_l2=10\n",
      "Training until validation scores don't improve for 20 rounds\n",
      "Early stopping, best iteration is:\n",
      "[8]\tvalid_0's auc: 0.835542\tvalid_0's binary_logloss: 0.531216\n"
     ]
    },
    {
     "name": "stderr",
     "output_type": "stream",
     "text": [
      "[I 2023-09-10 06:34:57,581] Trial 692 finished with value: 0.835541642399534 and parameters: {'n_estimators': 900, 'learning_rate': 0.4, 'num_leaves': 720, 'max_depth': 8, 'min_data_in_leaf': 100, 'lambda_l1': 0, 'lambda_l2': 10, 'min_gain_to_split': 1.8, 'bagging_fraction': 1.0, 'bagging_freq': 1, 'feature_fraction': 0.5}. Best is trial 630 with value: 0.8389633080955154.\n"
     ]
    },
    {
     "name": "stdout",
     "output_type": "stream",
     "text": [
      "[LightGBM] [Warning] lambda_l1 is set=0, reg_alpha=0.0 will be ignored. Current value: lambda_l1=0\n",
      "[LightGBM] [Warning] bagging_fraction is set=1.0, subsample=1.0 will be ignored. Current value: bagging_fraction=1.0\n",
      "[LightGBM] [Warning] feature_fraction is set=0.5, colsample_bytree=1.0 will be ignored. Current value: feature_fraction=0.5\n",
      "[LightGBM] [Warning] min_data_in_leaf is set=100, min_child_samples=20 will be ignored. Current value: min_data_in_leaf=100\n",
      "[LightGBM] [Warning] bagging_freq is set=1, subsample_freq=0 will be ignored. Current value: bagging_freq=1\n",
      "[LightGBM] [Warning] min_gain_to_split is set=1.8, min_split_gain=0.0 will be ignored. Current value: min_gain_to_split=1.8\n",
      "[LightGBM] [Warning] lambda_l2 is set=10, reg_lambda=0.0 will be ignored. Current value: lambda_l2=10\n",
      "Training until validation scores don't improve for 20 rounds\n",
      "Early stopping, best iteration is:\n",
      "[8]\tvalid_0's auc: 0.835542\tvalid_0's binary_logloss: 0.531216\n"
     ]
    },
    {
     "name": "stderr",
     "output_type": "stream",
     "text": [
      "[I 2023-09-10 06:34:58,044] Trial 693 finished with value: 0.8345224228305184 and parameters: {'n_estimators': 900, 'learning_rate': 0.4, 'num_leaves': 480, 'max_depth': 9, 'min_data_in_leaf': 100, 'lambda_l1': 0, 'lambda_l2': 15, 'min_gain_to_split': 2.2, 'bagging_fraction': 1.0, 'bagging_freq': 1, 'feature_fraction': 0.5}. Best is trial 630 with value: 0.8389633080955154.\n"
     ]
    },
    {
     "name": "stdout",
     "output_type": "stream",
     "text": [
      "[LightGBM] [Warning] lambda_l1 is set=0, reg_alpha=0.0 will be ignored. Current value: lambda_l1=0\n",
      "[LightGBM] [Warning] bagging_fraction is set=1.0, subsample=1.0 will be ignored. Current value: bagging_fraction=1.0\n",
      "[LightGBM] [Warning] feature_fraction is set=0.5, colsample_bytree=1.0 will be ignored. Current value: feature_fraction=0.5\n",
      "[LightGBM] [Warning] min_data_in_leaf is set=100, min_child_samples=20 will be ignored. Current value: min_data_in_leaf=100\n",
      "[LightGBM] [Warning] bagging_freq is set=1, subsample_freq=0 will be ignored. Current value: bagging_freq=1\n",
      "[LightGBM] [Warning] min_gain_to_split is set=2.2, min_split_gain=0.0 will be ignored. Current value: min_gain_to_split=2.2\n",
      "[LightGBM] [Warning] lambda_l2 is set=15, reg_lambda=0.0 will be ignored. Current value: lambda_l2=15\n",
      "Training until validation scores don't improve for 20 rounds\n",
      "Early stopping, best iteration is:\n",
      "[8]\tvalid_0's auc: 0.834522\tvalid_0's binary_logloss: 0.533084\n"
     ]
    },
    {
     "name": "stderr",
     "output_type": "stream",
     "text": [
      "[I 2023-09-10 06:34:58,505] Trial 694 finished with value: 0.8336488060570763 and parameters: {'n_estimators': 900, 'learning_rate': 0.45000000000000007, 'num_leaves': 740, 'max_depth': 9, 'min_data_in_leaf': 100, 'lambda_l1': 0, 'lambda_l2': 15, 'min_gain_to_split': 1.9000000000000001, 'bagging_fraction': 1.0, 'bagging_freq': 1, 'feature_fraction': 0.5}. Best is trial 630 with value: 0.8389633080955154.\n"
     ]
    },
    {
     "name": "stdout",
     "output_type": "stream",
     "text": [
      "[LightGBM] [Warning] lambda_l1 is set=0, reg_alpha=0.0 will be ignored. Current value: lambda_l1=0\n",
      "[LightGBM] [Warning] bagging_fraction is set=1.0, subsample=1.0 will be ignored. Current value: bagging_fraction=1.0\n",
      "[LightGBM] [Warning] feature_fraction is set=0.5, colsample_bytree=1.0 will be ignored. Current value: feature_fraction=0.5\n",
      "[LightGBM] [Warning] min_data_in_leaf is set=100, min_child_samples=20 will be ignored. Current value: min_data_in_leaf=100\n",
      "[LightGBM] [Warning] bagging_freq is set=1, subsample_freq=0 will be ignored. Current value: bagging_freq=1\n",
      "[LightGBM] [Warning] min_gain_to_split is set=1.9000000000000001, min_split_gain=0.0 will be ignored. Current value: min_gain_to_split=1.9000000000000001\n",
      "[LightGBM] [Warning] lambda_l2 is set=15, reg_lambda=0.0 will be ignored. Current value: lambda_l2=15\n",
      "Training until validation scores don't improve for 20 rounds\n",
      "Early stopping, best iteration is:\n",
      "[9]\tvalid_0's auc: 0.833649\tvalid_0's binary_logloss: 0.52985\n"
     ]
    },
    {
     "name": "stderr",
     "output_type": "stream",
     "text": [
      "[I 2023-09-10 06:34:58,947] Trial 695 pruned. Trial was pruned at iteration 29.\n"
     ]
    },
    {
     "name": "stdout",
     "output_type": "stream",
     "text": [
      "[LightGBM] [Warning] lambda_l1 is set=0, reg_alpha=0.0 will be ignored. Current value: lambda_l1=0\n",
      "[LightGBM] [Warning] bagging_fraction is set=1.0, subsample=1.0 will be ignored. Current value: bagging_fraction=1.0\n",
      "[LightGBM] [Warning] feature_fraction is set=0.5, colsample_bytree=1.0 will be ignored. Current value: feature_fraction=0.5\n",
      "[LightGBM] [Warning] min_data_in_leaf is set=100, min_child_samples=20 will be ignored. Current value: min_data_in_leaf=100\n",
      "[LightGBM] [Warning] bagging_freq is set=1, subsample_freq=0 will be ignored. Current value: bagging_freq=1\n",
      "[LightGBM] [Warning] min_gain_to_split is set=2.2, min_split_gain=0.0 will be ignored. Current value: min_gain_to_split=2.2\n",
      "[LightGBM] [Warning] lambda_l2 is set=15, reg_lambda=0.0 will be ignored. Current value: lambda_l2=15\n",
      "Training until validation scores don't improve for 20 rounds\n"
     ]
    },
    {
     "name": "stderr",
     "output_type": "stream",
     "text": [
      "[I 2023-09-10 06:34:59,345] Trial 696 finished with value: 0.8336488060570763 and parameters: {'n_estimators': 900, 'learning_rate': 0.45000000000000007, 'num_leaves': 740, 'max_depth': 9, 'min_data_in_leaf': 100, 'lambda_l1': 0, 'lambda_l2': 15, 'min_gain_to_split': 1.9000000000000001, 'bagging_fraction': 1.0, 'bagging_freq': 1, 'feature_fraction': 0.5}. Best is trial 630 with value: 0.8389633080955154.\n"
     ]
    },
    {
     "name": "stdout",
     "output_type": "stream",
     "text": [
      "Training until validation scores don't improve for 20 rounds\n",
      "Early stopping, best iteration is:\n",
      "[9]\tvalid_0's auc: 0.833649\tvalid_0's binary_logloss: 0.52985\n"
     ]
    },
    {
     "name": "stderr",
     "output_type": "stream",
     "text": [
      "[I 2023-09-10 06:34:59,767] Trial 697 pruned. Trial was pruned at iteration 29.\n"
     ]
    },
    {
     "name": "stdout",
     "output_type": "stream",
     "text": [
      "[LightGBM] [Warning] lambda_l1 is set=0, reg_alpha=0.0 will be ignored. Current value: lambda_l1=0\n",
      "[LightGBM] [Warning] bagging_fraction is set=1.0, subsample=1.0 will be ignored. Current value: bagging_fraction=1.0\n",
      "[LightGBM] [Warning] feature_fraction is set=0.5, colsample_bytree=1.0 will be ignored. Current value: feature_fraction=0.5\n",
      "[LightGBM] [Warning] min_data_in_leaf is set=100, min_child_samples=20 will be ignored. Current value: min_data_in_leaf=100\n",
      "[LightGBM] [Warning] bagging_freq is set=1, subsample_freq=0 will be ignored. Current value: bagging_freq=1\n",
      "[LightGBM] [Warning] min_gain_to_split is set=2.6, min_split_gain=0.0 will be ignored. Current value: min_gain_to_split=2.6\n",
      "[LightGBM] [Warning] lambda_l2 is set=20, reg_lambda=0.0 will be ignored. Current value: lambda_l2=20\n",
      "Training until validation scores don't improve for 20 rounds\n"
     ]
    },
    {
     "name": "stderr",
     "output_type": "stream",
     "text": [
      "[I 2023-09-10 06:35:00,093] Trial 698 pruned. Trial was pruned at iteration 0.\n",
      "[I 2023-09-10 06:35:00,466] Trial 699 pruned. Trial was pruned at iteration 29.\n"
     ]
    },
    {
     "name": "stdout",
     "output_type": "stream",
     "text": [
      "Training until validation scores don't improve for 20 rounds\n"
     ]
    },
    {
     "name": "stderr",
     "output_type": "stream",
     "text": [
      "[I 2023-09-10 06:35:00,844] Trial 700 pruned. Trial was pruned at iteration 28.\n"
     ]
    },
    {
     "name": "stdout",
     "output_type": "stream",
     "text": [
      "Training until validation scores don't improve for 20 rounds\n"
     ]
    },
    {
     "name": "stderr",
     "output_type": "stream",
     "text": [
      "[I 2023-09-10 06:35:01,219] Trial 701 pruned. Trial was pruned at iteration 28.\n"
     ]
    },
    {
     "name": "stdout",
     "output_type": "stream",
     "text": [
      "Training until validation scores don't improve for 20 rounds\n"
     ]
    },
    {
     "name": "stderr",
     "output_type": "stream",
     "text": [
      "[I 2023-09-10 06:35:01,594] Trial 702 pruned. Trial was pruned at iteration 26.\n"
     ]
    },
    {
     "name": "stdout",
     "output_type": "stream",
     "text": [
      "Training until validation scores don't improve for 20 rounds\n"
     ]
    },
    {
     "name": "stderr",
     "output_type": "stream",
     "text": [
      "[I 2023-09-10 06:35:02,014] Trial 703 finished with value: 0.8336488060570763 and parameters: {'n_estimators': 900, 'learning_rate': 0.45000000000000007, 'num_leaves': 780, 'max_depth': 9, 'min_data_in_leaf': 100, 'lambda_l1': 0, 'lambda_l2': 15, 'min_gain_to_split': 1.9000000000000001, 'bagging_fraction': 1.0, 'bagging_freq': 1, 'feature_fraction': 0.5}. Best is trial 630 with value: 0.8389633080955154.\n"
     ]
    },
    {
     "name": "stdout",
     "output_type": "stream",
     "text": [
      "Training until validation scores don't improve for 20 rounds\n",
      "Early stopping, best iteration is:\n",
      "[9]\tvalid_0's auc: 0.833649\tvalid_0's binary_logloss: 0.52985\n",
      "[LightGBM] [Warning] lambda_l1 is set=0, reg_alpha=0.0 will be ignored. Current value: lambda_l1=0\n",
      "[LightGBM] [Warning] bagging_fraction is set=1.0, subsample=1.0 will be ignored. Current value: bagging_fraction=1.0\n",
      "[LightGBM] [Warning] feature_fraction is set=0.5, colsample_bytree=1.0 will be ignored. Current value: feature_fraction=0.5\n",
      "[LightGBM] [Warning] min_data_in_leaf is set=100, min_child_samples=20 will be ignored. Current value: min_data_in_leaf=100\n",
      "[LightGBM] [Warning] bagging_freq is set=1, subsample_freq=0 will be ignored. Current value: bagging_freq=1\n",
      "[LightGBM] [Warning] min_gain_to_split is set=1.9000000000000001, min_split_gain=0.0 will be ignored. Current value: min_gain_to_split=1.9000000000000001\n",
      "[LightGBM] [Warning] lambda_l2 is set=15, reg_lambda=0.0 will be ignored. Current value: lambda_l2=15\n",
      "Training until validation scores don't improve for 20 rounds\n",
      "Early stopping, best iteration is:\n",
      "[9]\tvalid_0's auc: 0.833649\tvalid_0's binary_logloss: 0.52985"
     ]
    },
    {
     "name": "stderr",
     "output_type": "stream",
     "text": [
      "[I 2023-09-10 06:35:02,529] Trial 704 finished with value: 0.8336488060570763 and parameters: {'n_estimators': 900, 'learning_rate': 0.45000000000000007, 'num_leaves': 720, 'max_depth': 9, 'min_data_in_leaf': 100, 'lambda_l1': 0, 'lambda_l2': 15, 'min_gain_to_split': 1.9000000000000001, 'bagging_fraction': 1.0, 'bagging_freq': 1, 'feature_fraction': 0.5}. Best is trial 630 with value: 0.8389633080955154.\n"
     ]
    },
    {
     "name": "stdout",
     "output_type": "stream",
     "text": []
    },
    {
     "name": "stderr",
     "output_type": "stream",
     "text": [
      "[I 2023-09-10 06:35:02,960] Trial 705 pruned. Trial was pruned at iteration 26.\n"
     ]
    },
    {
     "name": "stdout",
     "output_type": "stream",
     "text": [
      "[LightGBM] [Warning] lambda_l1 is set=0, reg_alpha=0.0 will be ignored. Current value: lambda_l1=0\n",
      "[LightGBM] [Warning] bagging_fraction is set=1.0, subsample=1.0 will be ignored. Current value: bagging_fraction=1.0\n",
      "[LightGBM] [Warning] feature_fraction is set=0.5, colsample_bytree=1.0 will be ignored. Current value: feature_fraction=0.5\n",
      "[LightGBM] [Warning] min_data_in_leaf is set=100, min_child_samples=20 will be ignored. Current value: min_data_in_leaf=100\n",
      "[LightGBM] [Warning] bagging_freq is set=1, subsample_freq=0 will be ignored. Current value: bagging_freq=1\n",
      "[LightGBM] [Warning] min_gain_to_split is set=2.0, min_split_gain=0.0 will be ignored. Current value: min_gain_to_split=2.0\n",
      "[LightGBM] [Warning] lambda_l2 is set=20, reg_lambda=0.0 will be ignored. Current value: lambda_l2=20\n",
      "Training until validation scores don't improve for 20 rounds\n"
     ]
    },
    {
     "name": "stderr",
     "output_type": "stream",
     "text": [
      "[I 2023-09-10 06:35:03,412] Trial 706 finished with value: 0.8336488060570763 and parameters: {'n_estimators': 900, 'learning_rate': 0.45000000000000007, 'num_leaves': 760, 'max_depth': 9, 'min_data_in_leaf': 100, 'lambda_l1': 0, 'lambda_l2': 15, 'min_gain_to_split': 1.9000000000000001, 'bagging_fraction': 1.0, 'bagging_freq': 1, 'feature_fraction': 0.5}. Best is trial 630 with value: 0.8389633080955154.\n"
     ]
    },
    {
     "name": "stdout",
     "output_type": "stream",
     "text": [
      "Training until validation scores don't improve for 20 rounds\n",
      "Early stopping, best iteration is:\n",
      "[9]\tvalid_0's auc: 0.833649\tvalid_0's binary_logloss: 0.52985\n"
     ]
    },
    {
     "name": "stderr",
     "output_type": "stream",
     "text": [
      "[I 2023-09-10 06:35:03,836] Trial 707 pruned. Trial was pruned at iteration 28.\n"
     ]
    },
    {
     "name": "stdout",
     "output_type": "stream",
     "text": [
      "[LightGBM] [Warning] lambda_l1 is set=0, reg_alpha=0.0 will be ignored. Current value: lambda_l1=0\n",
      "[LightGBM] [Warning] bagging_fraction is set=1.0, subsample=1.0 will be ignored. Current value: bagging_fraction=1.0\n",
      "[LightGBM] [Warning] feature_fraction is set=0.5, colsample_bytree=1.0 will be ignored. Current value: feature_fraction=0.5\n",
      "[LightGBM] [Warning] min_data_in_leaf is set=100, min_child_samples=20 will be ignored. Current value: min_data_in_leaf=100\n",
      "[LightGBM] [Warning] bagging_freq is set=1, subsample_freq=0 will be ignored. Current value: bagging_freq=1\n",
      "[LightGBM] [Warning] min_gain_to_split is set=2.3000000000000003, min_split_gain=0.0 will be ignored. Current value: min_gain_to_split=2.3000000000000003\n",
      "[LightGBM] [Warning] lambda_l2 is set=15, reg_lambda=0.0 will be ignored. Current value: lambda_l2=15\n",
      "Training until validation scores don't improve for 20 rounds\n"
     ]
    },
    {
     "name": "stderr",
     "output_type": "stream",
     "text": [
      "[I 2023-09-10 06:35:04,182] Trial 708 pruned. Trial was pruned at iteration 5.\n"
     ]
    },
    {
     "name": "stdout",
     "output_type": "stream",
     "text": [
      "Training until validation scores don't improve for 20 rounds\n"
     ]
    },
    {
     "name": "stderr",
     "output_type": "stream",
     "text": [
      "[I 2023-09-10 06:35:04,519] Trial 709 pruned. Trial was pruned at iteration 4.\n"
     ]
    },
    {
     "name": "stdout",
     "output_type": "stream",
     "text": [
      "Training until validation scores don't improve for 20 rounds\n"
     ]
    },
    {
     "name": "stderr",
     "output_type": "stream",
     "text": [
      "[I 2023-09-10 06:35:04,915] Trial 710 finished with value: 0.8336488060570763 and parameters: {'n_estimators': 900, 'learning_rate': 0.45000000000000007, 'num_leaves': 780, 'max_depth': 9, 'min_data_in_leaf': 100, 'lambda_l1': 0, 'lambda_l2': 15, 'min_gain_to_split': 1.9000000000000001, 'bagging_fraction': 1.0, 'bagging_freq': 1, 'feature_fraction': 0.5}. Best is trial 630 with value: 0.8389633080955154.\n"
     ]
    },
    {
     "name": "stdout",
     "output_type": "stream",
     "text": [
      "Training until validation scores don't improve for 20 rounds\n",
      "Early stopping, best iteration is:\n",
      "[9]\tvalid_0's auc: 0.833649\tvalid_0's binary_logloss: 0.52985\n"
     ]
    },
    {
     "name": "stderr",
     "output_type": "stream",
     "text": [
      "[I 2023-09-10 06:35:05,309] Trial 711 finished with value: 0.8336488060570763 and parameters: {'n_estimators': 900, 'learning_rate': 0.45000000000000007, 'num_leaves': 800, 'max_depth': 9, 'min_data_in_leaf': 100, 'lambda_l1': 0, 'lambda_l2': 15, 'min_gain_to_split': 1.9000000000000001, 'bagging_fraction': 1.0, 'bagging_freq': 1, 'feature_fraction': 0.5}. Best is trial 630 with value: 0.8389633080955154.\n"
     ]
    },
    {
     "name": "stdout",
     "output_type": "stream",
     "text": [
      "[LightGBM] [Warning] lambda_l1 is set=0, reg_alpha=0.0 will be ignored. Current value: lambda_l1=0\n",
      "[LightGBM] [Warning] bagging_fraction is set=1.0, subsample=1.0 will be ignored. Current value: bagging_fraction=1.0\n",
      "[LightGBM] [Warning] feature_fraction is set=0.5, colsample_bytree=1.0 will be ignored. Current value: feature_fraction=0.5\n",
      "[LightGBM] [Warning] min_data_in_leaf is set=100, min_child_samples=20 will be ignored. Current value: min_data_in_leaf=100\n",
      "[LightGBM] [Warning] bagging_freq is set=1, subsample_freq=0 will be ignored. Current value: bagging_freq=1\n",
      "[LightGBM] [Warning] min_gain_to_split is set=1.9000000000000001, min_split_gain=0.0 will be ignored. Current value: min_gain_to_split=1.9000000000000001\n",
      "[LightGBM] [Warning] lambda_l2 is set=15, reg_lambda=0.0 will be ignored. Current value: lambda_l2=15\n",
      "Training until validation scores don't improve for 20 rounds\n",
      "Early stopping, best iteration is:\n",
      "[9]\tvalid_0's auc: 0.833649\tvalid_0's binary_logloss: 0.52985\n"
     ]
    },
    {
     "name": "stderr",
     "output_type": "stream",
     "text": [
      "[I 2023-09-10 06:35:05,656] Trial 712 pruned. Trial was pruned at iteration 5.\n"
     ]
    },
    {
     "name": "stdout",
     "output_type": "stream",
     "text": [
      "[LightGBM] [Warning] lambda_l1 is set=0, reg_alpha=0.0 will be ignored. Current value: lambda_l1=0\n",
      "[LightGBM] [Warning] bagging_fraction is set=1.0, subsample=1.0 will be ignored. Current value: bagging_fraction=1.0\n",
      "[LightGBM] [Warning] feature_fraction is set=0.5, colsample_bytree=1.0 will be ignored. Current value: feature_fraction=0.5\n",
      "[LightGBM] [Warning] min_data_in_leaf is set=100, min_child_samples=20 will be ignored. Current value: min_data_in_leaf=100\n",
      "[LightGBM] [Warning] bagging_freq is set=1, subsample_freq=0 will be ignored. Current value: bagging_freq=1\n",
      "[LightGBM] [Warning] min_gain_to_split is set=1.9000000000000001, min_split_gain=0.0 will be ignored. Current value: min_gain_to_split=1.9000000000000001\n",
      "[LightGBM] [Warning] lambda_l2 is set=20, reg_lambda=0.0 will be ignored. Current value: lambda_l2=20\n",
      "Training until validation scores don't improve for 20 rounds\n"
     ]
    },
    {
     "name": "stderr",
     "output_type": "stream",
     "text": [
      "[I 2023-09-10 06:35:06,030] Trial 713 pruned. Trial was pruned at iteration 26.\n"
     ]
    },
    {
     "name": "stdout",
     "output_type": "stream",
     "text": [
      "Training until validation scores don't improve for 20 rounds\n"
     ]
    },
    {
     "name": "stderr",
     "output_type": "stream",
     "text": [
      "[I 2023-09-10 06:35:06,408] Trial 714 pruned. Trial was pruned at iteration 29.\n"
     ]
    },
    {
     "name": "stdout",
     "output_type": "stream",
     "text": [
      "Training until validation scores don't improve for 20 rounds\n"
     ]
    },
    {
     "name": "stderr",
     "output_type": "stream",
     "text": [
      "[I 2023-09-10 06:35:06,807] Trial 715 finished with value: 0.8336488060570763 and parameters: {'n_estimators': 900, 'learning_rate': 0.45000000000000007, 'num_leaves': 720, 'max_depth': 9, 'min_data_in_leaf': 100, 'lambda_l1': 0, 'lambda_l2': 15, 'min_gain_to_split': 1.8, 'bagging_fraction': 1.0, 'bagging_freq': 1, 'feature_fraction': 0.5}. Best is trial 630 with value: 0.8389633080955154.\n"
     ]
    },
    {
     "name": "stdout",
     "output_type": "stream",
     "text": [
      "Training until validation scores don't improve for 20 rounds\n",
      "Early stopping, best iteration is:\n",
      "[9]\tvalid_0's auc: 0.833649\tvalid_0's binary_logloss: 0.52985\n"
     ]
    },
    {
     "name": "stderr",
     "output_type": "stream",
     "text": [
      "[I 2023-09-10 06:35:07,151] Trial 716 pruned. Trial was pruned at iteration 5.\n"
     ]
    },
    {
     "name": "stdout",
     "output_type": "stream",
     "text": [
      "[LightGBM] [Warning] lambda_l1 is set=0, reg_alpha=0.0 will be ignored. Current value: lambda_l1=0\n",
      "[LightGBM] [Warning] bagging_fraction is set=0.8, subsample=1.0 will be ignored. Current value: bagging_fraction=0.8\n",
      "[LightGBM] [Warning] feature_fraction is set=0.5, colsample_bytree=1.0 will be ignored. Current value: feature_fraction=0.5\n",
      "[LightGBM] [Warning] min_data_in_leaf is set=100, min_child_samples=20 will be ignored. Current value: min_data_in_leaf=100\n",
      "[LightGBM] [Warning] bagging_freq is set=1, subsample_freq=0 will be ignored. Current value: bagging_freq=1\n",
      "[LightGBM] [Warning] min_gain_to_split is set=1.8, min_split_gain=0.0 will be ignored. Current value: min_gain_to_split=1.8\n",
      "[LightGBM] [Warning] lambda_l2 is set=20, reg_lambda=0.0 will be ignored. Current value: lambda_l2=20\n",
      "Training until validation scores don't improve for 20 rounds\n"
     ]
    },
    {
     "name": "stderr",
     "output_type": "stream",
     "text": [
      "[I 2023-09-10 06:35:07,530] Trial 717 pruned. Trial was pruned at iteration 26.\n"
     ]
    },
    {
     "name": "stdout",
     "output_type": "stream",
     "text": [
      "Training until validation scores don't improve for 20 rounds\n"
     ]
    },
    {
     "name": "stderr",
     "output_type": "stream",
     "text": [
      "[I 2023-09-10 06:35:07,878] Trial 718 pruned. Trial was pruned at iteration 5.\n"
     ]
    },
    {
     "name": "stdout",
     "output_type": "stream",
     "text": [
      "Training until validation scores don't improve for 20 rounds\n"
     ]
    },
    {
     "name": "stderr",
     "output_type": "stream",
     "text": [
      "[I 2023-09-10 06:35:08,276] Trial 719 finished with value: 0.8336488060570763 and parameters: {'n_estimators': 900, 'learning_rate': 0.45000000000000007, 'num_leaves': 760, 'max_depth': 9, 'min_data_in_leaf': 100, 'lambda_l1': 0, 'lambda_l2': 15, 'min_gain_to_split': 1.9000000000000001, 'bagging_fraction': 1.0, 'bagging_freq': 1, 'feature_fraction': 0.5}. Best is trial 630 with value: 0.8389633080955154.\n"
     ]
    },
    {
     "name": "stdout",
     "output_type": "stream",
     "text": [
      "Training until validation scores don't improve for 20 rounds\n",
      "Early stopping, best iteration is:\n",
      "[9]\tvalid_0's auc: 0.833649\tvalid_0's binary_logloss: 0.52985\n"
     ]
    },
    {
     "name": "stderr",
     "output_type": "stream",
     "text": [
      "[I 2023-09-10 06:35:08,672] Trial 720 finished with value: 0.8336488060570763 and parameters: {'n_estimators': 900, 'learning_rate': 0.45000000000000007, 'num_leaves': 760, 'max_depth': 9, 'min_data_in_leaf': 100, 'lambda_l1': 0, 'lambda_l2': 15, 'min_gain_to_split': 1.8, 'bagging_fraction': 1.0, 'bagging_freq': 1, 'feature_fraction': 0.5}. Best is trial 630 with value: 0.8389633080955154.\n"
     ]
    },
    {
     "name": "stdout",
     "output_type": "stream",
     "text": [
      "[LightGBM] [Warning] lambda_l1 is set=0, reg_alpha=0.0 will be ignored. Current value: lambda_l1=0\n",
      "[LightGBM] [Warning] bagging_fraction is set=1.0, subsample=1.0 will be ignored. Current value: bagging_fraction=1.0\n",
      "[LightGBM] [Warning] feature_fraction is set=0.5, colsample_bytree=1.0 will be ignored. Current value: feature_fraction=0.5\n",
      "[LightGBM] [Warning] min_data_in_leaf is set=100, min_child_samples=20 will be ignored. Current value: min_data_in_leaf=100\n",
      "[LightGBM] [Warning] bagging_freq is set=1, subsample_freq=0 will be ignored. Current value: bagging_freq=1\n",
      "[LightGBM] [Warning] min_gain_to_split is set=1.8, min_split_gain=0.0 will be ignored. Current value: min_gain_to_split=1.8\n",
      "[LightGBM] [Warning] lambda_l2 is set=15, reg_lambda=0.0 will be ignored. Current value: lambda_l2=15\n",
      "Training until validation scores don't improve for 20 rounds\n",
      "Early stopping, best iteration is:\n",
      "[9]\tvalid_0's auc: 0.833649\tvalid_0's binary_logloss: 0.52985\n"
     ]
    },
    {
     "name": "stderr",
     "output_type": "stream",
     "text": [
      "[I 2023-09-10 06:35:09,067] Trial 721 finished with value: 0.8336488060570763 and parameters: {'n_estimators': 900, 'learning_rate': 0.45000000000000007, 'num_leaves': 760, 'max_depth': 9, 'min_data_in_leaf': 100, 'lambda_l1': 0, 'lambda_l2': 15, 'min_gain_to_split': 1.9000000000000001, 'bagging_fraction': 1.0, 'bagging_freq': 1, 'feature_fraction': 0.5}. Best is trial 630 with value: 0.8389633080955154.\n"
     ]
    },
    {
     "name": "stdout",
     "output_type": "stream",
     "text": [
      "[LightGBM] [Warning] lambda_l1 is set=0, reg_alpha=0.0 will be ignored. Current value: lambda_l1=0\n",
      "[LightGBM] [Warning] bagging_fraction is set=1.0, subsample=1.0 will be ignored. Current value: bagging_fraction=1.0\n",
      "[LightGBM] [Warning] feature_fraction is set=0.5, colsample_bytree=1.0 will be ignored. Current value: feature_fraction=0.5\n",
      "[LightGBM] [Warning] min_data_in_leaf is set=100, min_child_samples=20 will be ignored. Current value: min_data_in_leaf=100\n",
      "[LightGBM] [Warning] bagging_freq is set=1, subsample_freq=0 will be ignored. Current value: bagging_freq=1\n",
      "[LightGBM] [Warning] min_gain_to_split is set=1.9000000000000001, min_split_gain=0.0 will be ignored. Current value: min_gain_to_split=1.9000000000000001\n",
      "[LightGBM] [Warning] lambda_l2 is set=15, reg_lambda=0.0 will be ignored. Current value: lambda_l2=15\n",
      "Training until validation scores don't improve for 20 rounds\n",
      "Early stopping, best iteration is:\n",
      "[9]\tvalid_0's auc: 0.833649\tvalid_0's binary_logloss: 0.52985\n"
     ]
    },
    {
     "name": "stderr",
     "output_type": "stream",
     "text": [
      "[I 2023-09-10 06:35:09,492] Trial 722 pruned. Trial was pruned at iteration 26.\n"
     ]
    },
    {
     "name": "stdout",
     "output_type": "stream",
     "text": [
      "[LightGBM] [Warning] lambda_l1 is set=0, reg_alpha=0.0 will be ignored. Current value: lambda_l1=0\n",
      "[LightGBM] [Warning] bagging_fraction is set=1.0, subsample=1.0 will be ignored. Current value: bagging_fraction=1.0\n",
      "[LightGBM] [Warning] feature_fraction is set=0.5, colsample_bytree=1.0 will be ignored. Current value: feature_fraction=0.5\n",
      "[LightGBM] [Warning] min_data_in_leaf is set=100, min_child_samples=20 will be ignored. Current value: min_data_in_leaf=100\n",
      "[LightGBM] [Warning] bagging_freq is set=1, subsample_freq=0 will be ignored. Current value: bagging_freq=1\n",
      "[LightGBM] [Warning] min_gain_to_split is set=1.4000000000000001, min_split_gain=0.0 will be ignored. Current value: min_gain_to_split=1.4000000000000001\n",
      "[LightGBM] [Warning] lambda_l2 is set=15, reg_lambda=0.0 will be ignored. Current value: lambda_l2=15\n",
      "Training until validation scores don't improve for 20 rounds\n"
     ]
    },
    {
     "name": "stderr",
     "output_type": "stream",
     "text": [
      "[I 2023-09-10 06:35:09,841] Trial 723 pruned. Trial was pruned at iteration 5.\n"
     ]
    },
    {
     "name": "stdout",
     "output_type": "stream",
     "text": [
      "Training until validation scores don't improve for 20 rounds\n"
     ]
    },
    {
     "name": "stderr",
     "output_type": "stream",
     "text": [
      "[I 2023-09-10 06:35:10,243] Trial 724 finished with value: 0.8300087361677344 and parameters: {'n_estimators': 900, 'learning_rate': 0.45000000000000007, 'num_leaves': 760, 'max_depth': 9, 'min_data_in_leaf': 100, 'lambda_l1': 0, 'lambda_l2': 15, 'min_gain_to_split': 1.6, 'bagging_fraction': 1.0, 'bagging_freq': 1, 'feature_fraction': 0.5}. Best is trial 630 with value: 0.8389633080955154.\n"
     ]
    },
    {
     "name": "stdout",
     "output_type": "stream",
     "text": [
      "Training until validation scores don't improve for 20 rounds\n",
      "Early stopping, best iteration is:\n",
      "[8]\tvalid_0's auc: 0.830009\tvalid_0's binary_logloss: 0.536291\n"
     ]
    },
    {
     "name": "stderr",
     "output_type": "stream",
     "text": [
      "[I 2023-09-10 06:35:10,667] Trial 725 pruned. Trial was pruned at iteration 28.\n"
     ]
    },
    {
     "name": "stdout",
     "output_type": "stream",
     "text": [
      "[LightGBM] [Warning] lambda_l1 is set=0, reg_alpha=0.0 will be ignored. Current value: lambda_l1=0\n",
      "[LightGBM] [Warning] bagging_fraction is set=1.0, subsample=1.0 will be ignored. Current value: bagging_fraction=1.0\n",
      "[LightGBM] [Warning] feature_fraction is set=0.5, colsample_bytree=1.0 will be ignored. Current value: feature_fraction=0.5\n",
      "[LightGBM] [Warning] min_data_in_leaf is set=100, min_child_samples=20 will be ignored. Current value: min_data_in_leaf=100\n",
      "[LightGBM] [Warning] bagging_freq is set=1, subsample_freq=0 will be ignored. Current value: bagging_freq=1\n",
      "[LightGBM] [Warning] min_gain_to_split is set=2.3000000000000003, min_split_gain=0.0 will be ignored. Current value: min_gain_to_split=2.3000000000000003\n",
      "[LightGBM] [Warning] lambda_l2 is set=15, reg_lambda=0.0 will be ignored. Current value: lambda_l2=15\n",
      "Training until validation scores don't improve for 20 rounds\n"
     ]
    },
    {
     "name": "stderr",
     "output_type": "stream",
     "text": [
      "[I 2023-09-10 06:35:11,104] Trial 726 pruned. Trial was pruned at iteration 26.\n"
     ]
    },
    {
     "name": "stdout",
     "output_type": "stream",
     "text": [
      "Training until validation scores don't improve for 20 rounds\n"
     ]
    },
    {
     "name": "stderr",
     "output_type": "stream",
     "text": [
      "[I 2023-09-10 06:35:11,483] Trial 727 pruned. Trial was pruned at iteration 5.\n"
     ]
    },
    {
     "name": "stdout",
     "output_type": "stream",
     "text": [
      "Training until validation scores don't improve for 20 rounds\n"
     ]
    },
    {
     "name": "stderr",
     "output_type": "stream",
     "text": [
      "[I 2023-09-10 06:35:11,993] Trial 728 finished with value: 0.8300087361677344 and parameters: {'n_estimators': 900, 'learning_rate': 0.45000000000000007, 'num_leaves': 840, 'max_depth': 10, 'min_data_in_leaf': 100, 'lambda_l1': 0, 'lambda_l2': 15, 'min_gain_to_split': 1.6, 'bagging_fraction': 1.0, 'bagging_freq': 1, 'feature_fraction': 0.5}. Best is trial 630 with value: 0.8389633080955154.\n"
     ]
    },
    {
     "name": "stdout",
     "output_type": "stream",
     "text": [
      "Training until validation scores don't improve for 20 rounds\n",
      "Early stopping, best iteration is:\n",
      "[8]\tvalid_0's auc: 0.830009\tvalid_0's binary_logloss: 0.536291\n"
     ]
    },
    {
     "name": "stderr",
     "output_type": "stream",
     "text": [
      "[I 2023-09-10 06:35:12,346] Trial 729 pruned. Trial was pruned at iteration 0.\n"
     ]
    },
    {
     "name": "stdout",
     "output_type": "stream",
     "text": [
      "[LightGBM] [Warning] lambda_l1 is set=0, reg_alpha=0.0 will be ignored. Current value: lambda_l1=0\n",
      "[LightGBM] [Warning] bagging_fraction is set=0.4, subsample=1.0 will be ignored. Current value: bagging_fraction=0.4\n",
      "[LightGBM] [Warning] feature_fraction is set=0.5, colsample_bytree=1.0 will be ignored. Current value: feature_fraction=0.5\n",
      "[LightGBM] [Warning] min_data_in_leaf is set=100, min_child_samples=20 will be ignored. Current value: min_data_in_leaf=100\n",
      "[LightGBM] [Warning] bagging_freq is set=1, subsample_freq=0 will be ignored. Current value: bagging_freq=1\n",
      "[LightGBM] [Warning] min_gain_to_split is set=1.7000000000000002, min_split_gain=0.0 will be ignored. Current value: min_gain_to_split=1.7000000000000002\n",
      "[LightGBM] [Warning] lambda_l2 is set=15, reg_lambda=0.0 will be ignored. Current value: lambda_l2=15\n"
     ]
    },
    {
     "name": "stderr",
     "output_type": "stream",
     "text": [
      "[I 2023-09-10 06:35:12,678] Trial 730 pruned. Trial was pruned at iteration 0.\n",
      "[I 2023-09-10 06:35:13,094] Trial 731 finished with value: 0.8329207920792079 and parameters: {'n_estimators': 900, 'learning_rate': 0.45000000000000007, 'num_leaves': 820, 'max_depth': 9, 'min_data_in_leaf': 100, 'lambda_l1': 0, 'lambda_l2': 15, 'min_gain_to_split': 1.5, 'bagging_fraction': 1.0, 'bagging_freq': 1, 'feature_fraction': 0.5}. Best is trial 630 with value: 0.8389633080955154.\n"
     ]
    },
    {
     "name": "stdout",
     "output_type": "stream",
     "text": [
      "Training until validation scores don't improve for 20 rounds\n",
      "Early stopping, best iteration is:\n",
      "[9]\tvalid_0's auc: 0.832921\tvalid_0's binary_logloss: 0.518439\n"
     ]
    },
    {
     "name": "stderr",
     "output_type": "stream",
     "text": [
      "[I 2023-09-10 06:35:13,470] Trial 732 pruned. Trial was pruned at iteration 5.\n"
     ]
    },
    {
     "name": "stdout",
     "output_type": "stream",
     "text": [
      "[LightGBM] [Warning] lambda_l1 is set=0, reg_alpha=0.0 will be ignored. Current value: lambda_l1=0\n",
      "[LightGBM] [Warning] bagging_fraction is set=1.0, subsample=1.0 will be ignored. Current value: bagging_fraction=1.0\n",
      "[LightGBM] [Warning] feature_fraction is set=0.5, colsample_bytree=1.0 will be ignored. Current value: feature_fraction=0.5\n",
      "[LightGBM] [Warning] min_data_in_leaf is set=100, min_child_samples=20 will be ignored. Current value: min_data_in_leaf=100\n",
      "[LightGBM] [Warning] bagging_freq is set=1, subsample_freq=0 will be ignored. Current value: bagging_freq=1\n",
      "[LightGBM] [Warning] min_gain_to_split is set=2.8000000000000003, min_split_gain=0.0 will be ignored. Current value: min_gain_to_split=2.8000000000000003\n",
      "[LightGBM] [Warning] lambda_l2 is set=20, reg_lambda=0.0 will be ignored. Current value: lambda_l2=20\n",
      "Training until validation scores don't improve for 20 rounds\n"
     ]
    },
    {
     "name": "stderr",
     "output_type": "stream",
     "text": [
      "[I 2023-09-10 06:35:13,872] Trial 733 finished with value: 0.8336488060570763 and parameters: {'n_estimators': 900, 'learning_rate': 0.45000000000000007, 'num_leaves': 780, 'max_depth': 9, 'min_data_in_leaf': 100, 'lambda_l1': 0, 'lambda_l2': 15, 'min_gain_to_split': 1.9000000000000001, 'bagging_fraction': 1.0, 'bagging_freq': 1, 'feature_fraction': 0.5}. Best is trial 630 with value: 0.8389633080955154.\n"
     ]
    },
    {
     "name": "stdout",
     "output_type": "stream",
     "text": [
      "Training until validation scores don't improve for 20 rounds\n",
      "Early stopping, best iteration is:\n",
      "[9]\tvalid_0's auc: 0.833649\tvalid_0's binary_logloss: 0.52985\n"
     ]
    },
    {
     "name": "stderr",
     "output_type": "stream",
     "text": [
      "[I 2023-09-10 06:35:14,240] Trial 734 pruned. Trial was pruned at iteration 0.\n"
     ]
    },
    {
     "name": "stdout",
     "output_type": "stream",
     "text": [
      "[LightGBM] [Warning] lambda_l1 is set=0, reg_alpha=0.0 will be ignored. Current value: lambda_l1=0\n",
      "[LightGBM] [Warning] bagging_fraction is set=0.5, subsample=1.0 will be ignored. Current value: bagging_fraction=0.5\n",
      "[LightGBM] [Warning] feature_fraction is set=0.5, colsample_bytree=1.0 will be ignored. Current value: feature_fraction=0.5\n",
      "[LightGBM] [Warning] min_data_in_leaf is set=100, min_child_samples=20 will be ignored. Current value: min_data_in_leaf=100\n",
      "[LightGBM] [Warning] bagging_freq is set=1, subsample_freq=0 will be ignored. Current value: bagging_freq=1\n",
      "[LightGBM] [Warning] min_gain_to_split is set=2.0, min_split_gain=0.0 will be ignored. Current value: min_gain_to_split=2.0\n",
      "[LightGBM] [Warning] lambda_l2 is set=15, reg_lambda=0.0 will be ignored. Current value: lambda_l2=15\n"
     ]
    },
    {
     "name": "stderr",
     "output_type": "stream",
     "text": [
      "[I 2023-09-10 06:35:14,635] Trial 735 pruned. Trial was pruned at iteration 5.\n"
     ]
    },
    {
     "name": "stdout",
     "output_type": "stream",
     "text": [
      "Training until validation scores don't improve for 20 rounds\n"
     ]
    },
    {
     "name": "stderr",
     "output_type": "stream",
     "text": [
      "[I 2023-09-10 06:35:15,078] Trial 736 pruned. Trial was pruned at iteration 28.\n"
     ]
    },
    {
     "name": "stdout",
     "output_type": "stream",
     "text": [
      "Training until validation scores don't improve for 20 rounds\n"
     ]
    },
    {
     "name": "stderr",
     "output_type": "stream",
     "text": [
      "[I 2023-09-10 06:35:15,525] Trial 737 finished with value: 0.8336488060570763 and parameters: {'n_estimators': 900, 'learning_rate': 0.45000000000000007, 'num_leaves': 860, 'max_depth': 9, 'min_data_in_leaf': 100, 'lambda_l1': 0, 'lambda_l2': 15, 'min_gain_to_split': 2.0, 'bagging_fraction': 1.0, 'bagging_freq': 1, 'feature_fraction': 0.5}. Best is trial 630 with value: 0.8389633080955154.\n"
     ]
    },
    {
     "name": "stdout",
     "output_type": "stream",
     "text": [
      "Training until validation scores don't improve for 20 rounds\n",
      "Early stopping, best iteration is:\n",
      "[9]\tvalid_0's auc: 0.833649\tvalid_0's binary_logloss: 0.52985\n"
     ]
    },
    {
     "name": "stderr",
     "output_type": "stream",
     "text": [
      "[I 2023-09-10 06:35:15,932] Trial 738 finished with value: 0.8336488060570763 and parameters: {'n_estimators': 900, 'learning_rate': 0.45000000000000007, 'num_leaves': 880, 'max_depth': 9, 'min_data_in_leaf': 100, 'lambda_l1': 0, 'lambda_l2': 15, 'min_gain_to_split': 2.0, 'bagging_fraction': 1.0, 'bagging_freq': 1, 'feature_fraction': 0.5}. Best is trial 630 with value: 0.8389633080955154.\n"
     ]
    },
    {
     "name": "stdout",
     "output_type": "stream",
     "text": [
      "[LightGBM] [Warning] lambda_l1 is set=0, reg_alpha=0.0 will be ignored. Current value: lambda_l1=0\n",
      "[LightGBM] [Warning] bagging_fraction is set=1.0, subsample=1.0 will be ignored. Current value: bagging_fraction=1.0\n",
      "[LightGBM] [Warning] feature_fraction is set=0.5, colsample_bytree=1.0 will be ignored. Current value: feature_fraction=0.5\n",
      "[LightGBM] [Warning] min_data_in_leaf is set=100, min_child_samples=20 will be ignored. Current value: min_data_in_leaf=100\n",
      "[LightGBM] [Warning] bagging_freq is set=1, subsample_freq=0 will be ignored. Current value: bagging_freq=1\n",
      "[LightGBM] [Warning] min_gain_to_split is set=2.0, min_split_gain=0.0 will be ignored. Current value: min_gain_to_split=2.0\n",
      "[LightGBM] [Warning] lambda_l2 is set=15, reg_lambda=0.0 will be ignored. Current value: lambda_l2=15\n",
      "Training until validation scores don't improve for 20 rounds\n",
      "Early stopping, best iteration is:\n",
      "[9]\tvalid_0's auc: 0.833649\tvalid_0's binary_logloss: 0.52985\n"
     ]
    },
    {
     "name": "stderr",
     "output_type": "stream",
     "text": [
      "[I 2023-09-10 06:35:16,285] Trial 739 pruned. Trial was pruned at iteration 4.\n"
     ]
    },
    {
     "name": "stdout",
     "output_type": "stream",
     "text": [
      "[LightGBM] [Warning] lambda_l1 is set=0, reg_alpha=0.0 will be ignored. Current value: lambda_l1=0\n",
      "[LightGBM] [Warning] bagging_fraction is set=1.0, subsample=1.0 will be ignored. Current value: bagging_fraction=1.0\n",
      "[LightGBM] [Warning] feature_fraction is set=0.5, colsample_bytree=1.0 will be ignored. Current value: feature_fraction=0.5\n",
      "[LightGBM] [Warning] min_data_in_leaf is set=200, min_child_samples=20 will be ignored. Current value: min_data_in_leaf=200\n",
      "[LightGBM] [Warning] bagging_freq is set=1, subsample_freq=0 will be ignored. Current value: bagging_freq=1\n",
      "[LightGBM] [Warning] min_gain_to_split is set=2.1, min_split_gain=0.0 will be ignored. Current value: min_gain_to_split=2.1\n",
      "[LightGBM] [Warning] lambda_l2 is set=15, reg_lambda=0.0 will be ignored. Current value: lambda_l2=15\n",
      "Training until validation scores don't improve for 20 rounds\n"
     ]
    },
    {
     "name": "stderr",
     "output_type": "stream",
     "text": [
      "[I 2023-09-10 06:35:16,716] Trial 740 pruned. Trial was pruned at iteration 26.\n"
     ]
    },
    {
     "name": "stdout",
     "output_type": "stream",
     "text": [
      "Training until validation scores don't improve for 20 rounds\n"
     ]
    },
    {
     "name": "stderr",
     "output_type": "stream",
     "text": [
      "[I 2023-09-10 06:35:17,061] Trial 741 pruned. Trial was pruned at iteration 0.\n",
      "[I 2023-09-10 06:35:17,517] Trial 742 finished with value: 0.8336488060570763 and parameters: {'n_estimators': 900, 'learning_rate': 0.45000000000000007, 'num_leaves': 860, 'max_depth': 9, 'min_data_in_leaf': 100, 'lambda_l1': 0, 'lambda_l2': 15, 'min_gain_to_split': 1.9000000000000001, 'bagging_fraction': 1.0, 'bagging_freq': 1, 'feature_fraction': 0.5}. Best is trial 630 with value: 0.8389633080955154.\n"
     ]
    },
    {
     "name": "stdout",
     "output_type": "stream",
     "text": [
      "Training until validation scores don't improve for 20 rounds\n",
      "Early stopping, best iteration is:\n",
      "[9]\tvalid_0's auc: 0.833649\tvalid_0's binary_logloss: 0.52985\n"
     ]
    },
    {
     "name": "stderr",
     "output_type": "stream",
     "text": [
      "[I 2023-09-10 06:35:17,971] Trial 743 finished with value: 0.8336488060570763 and parameters: {'n_estimators': 900, 'learning_rate': 0.45000000000000007, 'num_leaves': 860, 'max_depth': 9, 'min_data_in_leaf': 100, 'lambda_l1': 0, 'lambda_l2': 15, 'min_gain_to_split': 2.0, 'bagging_fraction': 1.0, 'bagging_freq': 1, 'feature_fraction': 0.5}. Best is trial 630 with value: 0.8389633080955154.\n"
     ]
    },
    {
     "name": "stdout",
     "output_type": "stream",
     "text": [
      "[LightGBM] [Warning] lambda_l1 is set=0, reg_alpha=0.0 will be ignored. Current value: lambda_l1=0\n",
      "[LightGBM] [Warning] bagging_fraction is set=1.0, subsample=1.0 will be ignored. Current value: bagging_fraction=1.0\n",
      "[LightGBM] [Warning] feature_fraction is set=0.5, colsample_bytree=1.0 will be ignored. Current value: feature_fraction=0.5\n",
      "[LightGBM] [Warning] min_data_in_leaf is set=100, min_child_samples=20 will be ignored. Current value: min_data_in_leaf=100\n",
      "[LightGBM] [Warning] bagging_freq is set=1, subsample_freq=0 will be ignored. Current value: bagging_freq=1\n",
      "[LightGBM] [Warning] min_gain_to_split is set=2.0, min_split_gain=0.0 will be ignored. Current value: min_gain_to_split=2.0\n",
      "[LightGBM] [Warning] lambda_l2 is set=15, reg_lambda=0.0 will be ignored. Current value: lambda_l2=15\n",
      "Training until validation scores don't improve for 20 rounds\n",
      "Early stopping, best iteration is:\n",
      "[9]\tvalid_0's auc: 0.833649\tvalid_0's binary_logloss: 0.52985\n"
     ]
    },
    {
     "name": "stderr",
     "output_type": "stream",
     "text": [
      "[I 2023-09-10 06:35:18,328] Trial 744 pruned. Trial was pruned at iteration 5.\n"
     ]
    },
    {
     "name": "stdout",
     "output_type": "stream",
     "text": [
      "[LightGBM] [Warning] lambda_l1 is set=0, reg_alpha=0.0 will be ignored. Current value: lambda_l1=0\n",
      "[LightGBM] [Warning] bagging_fraction is set=1.0, subsample=1.0 will be ignored. Current value: bagging_fraction=1.0\n",
      "[LightGBM] [Warning] feature_fraction is set=0.5, colsample_bytree=1.0 will be ignored. Current value: feature_fraction=0.5\n",
      "[LightGBM] [Warning] min_data_in_leaf is set=100, min_child_samples=20 will be ignored. Current value: min_data_in_leaf=100\n",
      "[LightGBM] [Warning] bagging_freq is set=1, subsample_freq=0 will be ignored. Current value: bagging_freq=1\n",
      "[LightGBM] [Warning] min_gain_to_split is set=2.0, min_split_gain=0.0 will be ignored. Current value: min_gain_to_split=2.0\n",
      "[LightGBM] [Warning] lambda_l2 is set=20, reg_lambda=0.0 will be ignored. Current value: lambda_l2=20\n",
      "Training until validation scores don't improve for 20 rounds\n"
     ]
    },
    {
     "name": "stderr",
     "output_type": "stream",
     "text": [
      "[I 2023-09-10 06:35:18,679] Trial 745 pruned. Trial was pruned at iteration 5.\n"
     ]
    },
    {
     "name": "stdout",
     "output_type": "stream",
     "text": [
      "Training until validation scores don't improve for 20 rounds\n"
     ]
    },
    {
     "name": "stderr",
     "output_type": "stream",
     "text": [
      "[I 2023-09-10 06:35:19,033] Trial 746 pruned. Trial was pruned at iteration 5.\n"
     ]
    },
    {
     "name": "stdout",
     "output_type": "stream",
     "text": [
      "Training until validation scores don't improve for 20 rounds\n"
     ]
    },
    {
     "name": "stderr",
     "output_type": "stream",
     "text": [
      "[I 2023-09-10 06:35:19,387] Trial 747 pruned. Trial was pruned at iteration 5.\n"
     ]
    },
    {
     "name": "stdout",
     "output_type": "stream",
     "text": [
      "Training until validation scores don't improve for 20 rounds\n"
     ]
    },
    {
     "name": "stderr",
     "output_type": "stream",
     "text": [
      "[I 2023-09-10 06:35:19,792] Trial 748 finished with value: 0.8336488060570763 and parameters: {'n_estimators': 900, 'learning_rate': 0.45000000000000007, 'num_leaves': 700, 'max_depth': 9, 'min_data_in_leaf': 100, 'lambda_l1': 0, 'lambda_l2': 15, 'min_gain_to_split': 1.9000000000000001, 'bagging_fraction': 1.0, 'bagging_freq': 1, 'feature_fraction': 0.5}. Best is trial 630 with value: 0.8389633080955154.\n"
     ]
    },
    {
     "name": "stdout",
     "output_type": "stream",
     "text": [
      "Training until validation scores don't improve for 20 rounds\n",
      "Early stopping, best iteration is:\n",
      "[9]\tvalid_0's auc: 0.833649\tvalid_0's binary_logloss: 0.52985\n"
     ]
    },
    {
     "name": "stderr",
     "output_type": "stream",
     "text": [
      "[I 2023-09-10 06:35:20,193] Trial 749 finished with value: 0.8336488060570763 and parameters: {'n_estimators': 900, 'learning_rate': 0.45000000000000007, 'num_leaves': 720, 'max_depth': 9, 'min_data_in_leaf': 100, 'lambda_l1': 0, 'lambda_l2': 15, 'min_gain_to_split': 1.9000000000000001, 'bagging_fraction': 1.0, 'bagging_freq': 1, 'feature_fraction': 0.5}. Best is trial 630 with value: 0.8389633080955154.\n"
     ]
    },
    {
     "name": "stdout",
     "output_type": "stream",
     "text": [
      "[LightGBM] [Warning] lambda_l1 is set=0, reg_alpha=0.0 will be ignored. Current value: lambda_l1=0\n",
      "[LightGBM] [Warning] bagging_fraction is set=1.0, subsample=1.0 will be ignored. Current value: bagging_fraction=1.0\n",
      "[LightGBM] [Warning] feature_fraction is set=0.5, colsample_bytree=1.0 will be ignored. Current value: feature_fraction=0.5\n",
      "[LightGBM] [Warning] min_data_in_leaf is set=100, min_child_samples=20 will be ignored. Current value: min_data_in_leaf=100\n",
      "[LightGBM] [Warning] bagging_freq is set=1, subsample_freq=0 will be ignored. Current value: bagging_freq=1\n",
      "[LightGBM] [Warning] min_gain_to_split is set=1.9000000000000001, min_split_gain=0.0 will be ignored. Current value: min_gain_to_split=1.9000000000000001\n",
      "[LightGBM] [Warning] lambda_l2 is set=15, reg_lambda=0.0 will be ignored. Current value: lambda_l2=15\n",
      "Training until validation scores don't improve for 20 rounds\n",
      "Early stopping, best iteration is:\n",
      "[9]\tvalid_0's auc: 0.833649\tvalid_0's binary_logloss: 0.52985\n"
     ]
    },
    {
     "name": "stderr",
     "output_type": "stream",
     "text": [
      "[I 2023-09-10 06:35:20,594] Trial 750 finished with value: 0.8336488060570763 and parameters: {'n_estimators': 900, 'learning_rate': 0.45000000000000007, 'num_leaves': 700, 'max_depth': 9, 'min_data_in_leaf': 100, 'lambda_l1': 0, 'lambda_l2': 15, 'min_gain_to_split': 1.9000000000000001, 'bagging_fraction': 1.0, 'bagging_freq': 1, 'feature_fraction': 0.5}. Best is trial 630 with value: 0.8389633080955154.\n"
     ]
    },
    {
     "name": "stdout",
     "output_type": "stream",
     "text": [
      "[LightGBM] [Warning] lambda_l1 is set=0, reg_alpha=0.0 will be ignored. Current value: lambda_l1=0\n",
      "[LightGBM] [Warning] bagging_fraction is set=1.0, subsample=1.0 will be ignored. Current value: bagging_fraction=1.0\n",
      "[LightGBM] [Warning] feature_fraction is set=0.5, colsample_bytree=1.0 will be ignored. Current value: feature_fraction=0.5\n",
      "[LightGBM] [Warning] min_data_in_leaf is set=100, min_child_samples=20 will be ignored. Current value: min_data_in_leaf=100\n",
      "[LightGBM] [Warning] bagging_freq is set=1, subsample_freq=0 will be ignored. Current value: bagging_freq=1\n",
      "[LightGBM] [Warning] min_gain_to_split is set=1.9000000000000001, min_split_gain=0.0 will be ignored. Current value: min_gain_to_split=1.9000000000000001\n",
      "[LightGBM] [Warning] lambda_l2 is set=15, reg_lambda=0.0 will be ignored. Current value: lambda_l2=15\n",
      "Training until validation scores don't improve for 20 rounds\n",
      "Early stopping, best iteration is:\n",
      "[9]\tvalid_0's auc: 0.833649\tvalid_0's binary_logloss: 0.52985\n"
     ]
    },
    {
     "name": "stderr",
     "output_type": "stream",
     "text": [
      "[I 2023-09-10 06:35:20,973] Trial 751 pruned. Trial was pruned at iteration 26.\n"
     ]
    },
    {
     "name": "stdout",
     "output_type": "stream",
     "text": [
      "[LightGBM] [Warning] lambda_l1 is set=0, reg_alpha=0.0 will be ignored. Current value: lambda_l1=0\n",
      "[LightGBM] [Warning] bagging_fraction is set=1.0, subsample=1.0 will be ignored. Current value: bagging_fraction=1.0\n",
      "[LightGBM] [Warning] feature_fraction is set=0.5, colsample_bytree=1.0 will be ignored. Current value: feature_fraction=0.5\n",
      "[LightGBM] [Warning] min_data_in_leaf is set=100, min_child_samples=20 will be ignored. Current value: min_data_in_leaf=100\n",
      "[LightGBM] [Warning] bagging_freq is set=1, subsample_freq=0 will be ignored. Current value: bagging_freq=1\n",
      "[LightGBM] [Warning] min_gain_to_split is set=3.0, min_split_gain=0.0 will be ignored. Current value: min_gain_to_split=3.0\n",
      "[LightGBM] [Warning] lambda_l2 is set=15, reg_lambda=0.0 will be ignored. Current value: lambda_l2=15\n",
      "Training until validation scores don't improve for 20 rounds\n"
     ]
    },
    {
     "name": "stderr",
     "output_type": "stream",
     "text": [
      "[I 2023-09-10 06:35:21,327] Trial 752 pruned. Trial was pruned at iteration 5.\n"
     ]
    },
    {
     "name": "stdout",
     "output_type": "stream",
     "text": [
      "Training until validation scores don't improve for 20 rounds\n"
     ]
    },
    {
     "name": "stderr",
     "output_type": "stream",
     "text": [
      "[I 2023-09-10 06:35:21,734] Trial 753 finished with value: 0.8336488060570763 and parameters: {'n_estimators': 900, 'learning_rate': 0.45000000000000007, 'num_leaves': 700, 'max_depth': 9, 'min_data_in_leaf': 100, 'lambda_l1': 0, 'lambda_l2': 15, 'min_gain_to_split': 1.9000000000000001, 'bagging_fraction': 1.0, 'bagging_freq': 1, 'feature_fraction': 0.5}. Best is trial 630 with value: 0.8389633080955154.\n"
     ]
    },
    {
     "name": "stdout",
     "output_type": "stream",
     "text": [
      "Training until validation scores don't improve for 20 rounds\n",
      "Early stopping, best iteration is:\n",
      "[9]\tvalid_0's auc: 0.833649\tvalid_0's binary_logloss: 0.52985\n"
     ]
    },
    {
     "name": "stderr",
     "output_type": "stream",
     "text": [
      "[I 2023-09-10 06:35:22,119] Trial 754 pruned. Trial was pruned at iteration 29.\n"
     ]
    },
    {
     "name": "stdout",
     "output_type": "stream",
     "text": [
      "[LightGBM] [Warning] lambda_l1 is set=0, reg_alpha=0.0 will be ignored. Current value: lambda_l1=0\n",
      "[LightGBM] [Warning] bagging_fraction is set=1.0, subsample=1.0 will be ignored. Current value: bagging_fraction=1.0\n",
      "[LightGBM] [Warning] feature_fraction is set=0.5, colsample_bytree=1.0 will be ignored. Current value: feature_fraction=0.5\n",
      "[LightGBM] [Warning] min_data_in_leaf is set=100, min_child_samples=20 will be ignored. Current value: min_data_in_leaf=100\n",
      "[LightGBM] [Warning] bagging_freq is set=1, subsample_freq=0 will be ignored. Current value: bagging_freq=1\n",
      "[LightGBM] [Warning] min_gain_to_split is set=2.2, min_split_gain=0.0 will be ignored. Current value: min_gain_to_split=2.2\n",
      "[LightGBM] [Warning] lambda_l2 is set=15, reg_lambda=0.0 will be ignored. Current value: lambda_l2=15\n",
      "Training until validation scores don't improve for 20 rounds\n"
     ]
    },
    {
     "name": "stderr",
     "output_type": "stream",
     "text": [
      "[I 2023-09-10 06:35:22,501] Trial 755 pruned. Trial was pruned at iteration 26.\n"
     ]
    },
    {
     "name": "stdout",
     "output_type": "stream",
     "text": [
      "Training until validation scores don't improve for 20 rounds\n"
     ]
    },
    {
     "name": "stderr",
     "output_type": "stream",
     "text": [
      "[I 2023-09-10 06:35:22,859] Trial 756 pruned. Trial was pruned at iteration 5.\n"
     ]
    },
    {
     "name": "stdout",
     "output_type": "stream",
     "text": [
      "Training until validation scores don't improve for 20 rounds\n"
     ]
    },
    {
     "name": "stderr",
     "output_type": "stream",
     "text": [
      "[I 2023-09-10 06:35:23,274] Trial 757 pruned. Trial was pruned at iteration 26.\n"
     ]
    },
    {
     "name": "stdout",
     "output_type": "stream",
     "text": [
      "Training until validation scores don't improve for 20 rounds\n"
     ]
    },
    {
     "name": "stderr",
     "output_type": "stream",
     "text": [
      "[I 2023-09-10 06:35:23,670] Trial 758 pruned. Trial was pruned at iteration 5.\n"
     ]
    },
    {
     "name": "stdout",
     "output_type": "stream",
     "text": [
      "Training until validation scores don't improve for 20 rounds\n"
     ]
    },
    {
     "name": "stderr",
     "output_type": "stream",
     "text": [
      "[I 2023-09-10 06:35:24,129] Trial 759 finished with value: 0.8336488060570763 and parameters: {'n_estimators': 900, 'learning_rate': 0.45000000000000007, 'num_leaves': 800, 'max_depth': 9, 'min_data_in_leaf': 100, 'lambda_l1': 0, 'lambda_l2': 15, 'min_gain_to_split': 1.8, 'bagging_fraction': 1.0, 'bagging_freq': 1, 'feature_fraction': 0.5}. Best is trial 630 with value: 0.8389633080955154.\n"
     ]
    },
    {
     "name": "stdout",
     "output_type": "stream",
     "text": [
      "Training until validation scores don't improve for 20 rounds\n",
      "Early stopping, best iteration is:\n",
      "[9]\tvalid_0's auc: 0.833649\tvalid_0's binary_logloss: 0.52985\n"
     ]
    },
    {
     "name": "stderr",
     "output_type": "stream",
     "text": [
      "[I 2023-09-10 06:35:24,479] Trial 760 pruned. Trial was pruned at iteration 0.\n"
     ]
    },
    {
     "name": "stdout",
     "output_type": "stream",
     "text": [
      "[LightGBM] [Warning] lambda_l1 is set=0, reg_alpha=0.0 will be ignored. Current value: lambda_l1=0\n",
      "[LightGBM] [Warning] bagging_fraction is set=1.0, subsample=1.0 will be ignored. Current value: bagging_fraction=1.0\n",
      "[LightGBM] [Warning] feature_fraction is set=0.5, colsample_bytree=1.0 will be ignored. Current value: feature_fraction=0.5\n",
      "[LightGBM] [Warning] min_data_in_leaf is set=300, min_child_samples=20 will be ignored. Current value: min_data_in_leaf=300\n",
      "[LightGBM] [Warning] bagging_freq is set=1, subsample_freq=0 will be ignored. Current value: bagging_freq=1\n",
      "[LightGBM] [Warning] min_gain_to_split is set=2.1, min_split_gain=0.0 will be ignored. Current value: min_gain_to_split=2.1\n",
      "[LightGBM] [Warning] lambda_l2 is set=25, reg_lambda=0.0 will be ignored. Current value: lambda_l2=25\n"
     ]
    },
    {
     "name": "stderr",
     "output_type": "stream",
     "text": [
      "[I 2023-09-10 06:35:24,915] Trial 761 pruned. Trial was pruned at iteration 26.\n"
     ]
    },
    {
     "name": "stdout",
     "output_type": "stream",
     "text": [
      "Training until validation scores don't improve for 20 rounds\n"
     ]
    },
    {
     "name": "stderr",
     "output_type": "stream",
     "text": [
      "[I 2023-09-10 06:35:25,282] Trial 762 pruned. Trial was pruned at iteration 5.\n"
     ]
    },
    {
     "name": "stdout",
     "output_type": "stream",
     "text": [
      "Training until validation scores don't improve for 20 rounds\n"
     ]
    },
    {
     "name": "stderr",
     "output_type": "stream",
     "text": [
      "[I 2023-09-10 06:35:25,668] Trial 763 pruned. Trial was pruned at iteration 27.\n"
     ]
    },
    {
     "name": "stdout",
     "output_type": "stream",
     "text": [
      "Training until validation scores don't improve for 20 rounds\n"
     ]
    },
    {
     "name": "stderr",
     "output_type": "stream",
     "text": [
      "[I 2023-09-10 06:35:26,078] Trial 764 finished with value: 0.8336488060570763 and parameters: {'n_estimators': 900, 'learning_rate': 0.45000000000000007, 'num_leaves': 780, 'max_depth': 9, 'min_data_in_leaf': 100, 'lambda_l1': 0, 'lambda_l2': 15, 'min_gain_to_split': 1.9000000000000001, 'bagging_fraction': 1.0, 'bagging_freq': 1, 'feature_fraction': 0.5}. Best is trial 630 with value: 0.8389633080955154.\n"
     ]
    },
    {
     "name": "stdout",
     "output_type": "stream",
     "text": [
      "Training until validation scores don't improve for 20 rounds\n",
      "Early stopping, best iteration is:\n",
      "[9]\tvalid_0's auc: 0.833649\tvalid_0's binary_logloss: 0.52985\n"
     ]
    },
    {
     "name": "stderr",
     "output_type": "stream",
     "text": [
      "[I 2023-09-10 06:35:26,432] Trial 765 pruned. Trial was pruned at iteration 5.\n"
     ]
    },
    {
     "name": "stdout",
     "output_type": "stream",
     "text": [
      "[LightGBM] [Warning] lambda_l1 is set=0, reg_alpha=0.0 will be ignored. Current value: lambda_l1=0\n",
      "[LightGBM] [Warning] bagging_fraction is set=1.0, subsample=1.0 will be ignored. Current value: bagging_fraction=1.0\n",
      "[LightGBM] [Warning] feature_fraction is set=0.5, colsample_bytree=1.0 will be ignored. Current value: feature_fraction=0.5\n",
      "[LightGBM] [Warning] min_data_in_leaf is set=100, min_child_samples=20 will be ignored. Current value: min_data_in_leaf=100\n",
      "[LightGBM] [Warning] bagging_freq is set=1, subsample_freq=0 will be ignored. Current value: bagging_freq=1\n",
      "[LightGBM] [Warning] min_gain_to_split is set=1.6, min_split_gain=0.0 will be ignored. Current value: min_gain_to_split=1.6\n",
      "[LightGBM] [Warning] lambda_l2 is set=20, reg_lambda=0.0 will be ignored. Current value: lambda_l2=20\n",
      "Training until validation scores don't improve for 20 rounds\n"
     ]
    },
    {
     "name": "stderr",
     "output_type": "stream",
     "text": [
      "[I 2023-09-10 06:35:26,818] Trial 766 pruned. Trial was pruned at iteration 26.\n"
     ]
    },
    {
     "name": "stdout",
     "output_type": "stream",
     "text": [
      "Training until validation scores don't improve for 20 rounds\n"
     ]
    },
    {
     "name": "stderr",
     "output_type": "stream",
     "text": [
      "[I 2023-09-10 06:35:27,208] Trial 767 pruned. Trial was pruned at iteration 29.\n"
     ]
    },
    {
     "name": "stdout",
     "output_type": "stream",
     "text": [
      "Training until validation scores don't improve for 20 rounds\n"
     ]
    },
    {
     "name": "stderr",
     "output_type": "stream",
     "text": [
      "[I 2023-09-10 06:35:27,565] Trial 768 pruned. Trial was pruned at iteration 5.\n"
     ]
    },
    {
     "name": "stdout",
     "output_type": "stream",
     "text": [
      "Training until validation scores don't improve for 20 rounds\n"
     ]
    },
    {
     "name": "stderr",
     "output_type": "stream",
     "text": [
      "[I 2023-09-10 06:35:27,949] Trial 769 pruned. Trial was pruned at iteration 26.\n"
     ]
    },
    {
     "name": "stdout",
     "output_type": "stream",
     "text": [
      "Training until validation scores don't improve for 20 rounds\n"
     ]
    },
    {
     "name": "stderr",
     "output_type": "stream",
     "text": [
      "[I 2023-09-10 06:35:28,305] Trial 770 pruned. Trial was pruned at iteration 5.\n"
     ]
    },
    {
     "name": "stdout",
     "output_type": "stream",
     "text": [
      "Training until validation scores don't improve for 20 rounds\n"
     ]
    },
    {
     "name": "stderr",
     "output_type": "stream",
     "text": [
      "[I 2023-09-10 06:35:28,655] Trial 771 pruned. Trial was pruned at iteration 0.\n",
      "[I 2023-09-10 06:35:29,002] Trial 772 pruned. Trial was pruned at iteration 0.\n",
      "[I 2023-09-10 06:35:29,359] Trial 773 pruned. Trial was pruned at iteration 5.\n"
     ]
    },
    {
     "name": "stdout",
     "output_type": "stream",
     "text": [
      "Training until validation scores don't improve for 20 rounds\n"
     ]
    },
    {
     "name": "stderr",
     "output_type": "stream",
     "text": [
      "[I 2023-09-10 06:35:29,777] Trial 774 pruned. Trial was pruned at iteration 26.\n"
     ]
    },
    {
     "name": "stdout",
     "output_type": "stream",
     "text": [
      "Training until validation scores don't improve for 20 rounds\n"
     ]
    },
    {
     "name": "stderr",
     "output_type": "stream",
     "text": [
      "[I 2023-09-10 06:35:30,185] Trial 775 finished with value: 0.8300087361677344 and parameters: {'n_estimators': 900, 'learning_rate': 0.45000000000000007, 'num_leaves': 700, 'max_depth': 9, 'min_data_in_leaf': 100, 'lambda_l1': 0, 'lambda_l2': 15, 'min_gain_to_split': 1.6, 'bagging_fraction': 1.0, 'bagging_freq': 1, 'feature_fraction': 0.5}. Best is trial 630 with value: 0.8389633080955154.\n"
     ]
    },
    {
     "name": "stdout",
     "output_type": "stream",
     "text": [
      "Training until validation scores don't improve for 20 rounds\n",
      "Early stopping, best iteration is:\n",
      "[8]\tvalid_0's auc: 0.830009\tvalid_0's binary_logloss: 0.536291\n"
     ]
    },
    {
     "name": "stderr",
     "output_type": "stream",
     "text": [
      "[I 2023-09-10 06:35:30,530] Trial 776 pruned. Trial was pruned at iteration 0.\n"
     ]
    },
    {
     "name": "stdout",
     "output_type": "stream",
     "text": [
      "[LightGBM] [Warning] lambda_l1 is set=90, reg_alpha=0.0 will be ignored. Current value: lambda_l1=90\n",
      "[LightGBM] [Warning] bagging_fraction is set=1.0, subsample=1.0 will be ignored. Current value: bagging_fraction=1.0\n",
      "[LightGBM] [Warning] feature_fraction is set=0.4, colsample_bytree=1.0 will be ignored. Current value: feature_fraction=0.4\n",
      "[LightGBM] [Warning] min_data_in_leaf is set=100, min_child_samples=20 will be ignored. Current value: min_data_in_leaf=100\n",
      "[LightGBM] [Warning] bagging_freq is set=1, subsample_freq=0 will be ignored. Current value: bagging_freq=1\n",
      "[LightGBM] [Warning] min_gain_to_split is set=2.0, min_split_gain=0.0 will be ignored. Current value: min_gain_to_split=2.0\n",
      "[LightGBM] [Warning] lambda_l2 is set=10, reg_lambda=0.0 will be ignored. Current value: lambda_l2=10\n"
     ]
    },
    {
     "name": "stderr",
     "output_type": "stream",
     "text": [
      "[I 2023-09-10 06:35:30,888] Trial 777 pruned. Trial was pruned at iteration 5.\n"
     ]
    },
    {
     "name": "stdout",
     "output_type": "stream",
     "text": [
      "Training until validation scores don't improve for 20 rounds\n"
     ]
    },
    {
     "name": "stderr",
     "output_type": "stream",
     "text": [
      "[I 2023-09-10 06:35:31,274] Trial 778 pruned. Trial was pruned at iteration 27.\n"
     ]
    },
    {
     "name": "stdout",
     "output_type": "stream",
     "text": [
      "Training until validation scores don't improve for 20 rounds\n"
     ]
    },
    {
     "name": "stderr",
     "output_type": "stream",
     "text": [
      "[I 2023-09-10 06:35:31,682] Trial 779 finished with value: 0.8336488060570763 and parameters: {'n_estimators': 900, 'learning_rate': 0.45000000000000007, 'num_leaves': 760, 'max_depth': 9, 'min_data_in_leaf': 100, 'lambda_l1': 0, 'lambda_l2': 15, 'min_gain_to_split': 1.9000000000000001, 'bagging_fraction': 1.0, 'bagging_freq': 1, 'feature_fraction': 0.5}. Best is trial 630 with value: 0.8389633080955154.\n"
     ]
    },
    {
     "name": "stdout",
     "output_type": "stream",
     "text": [
      "Training until validation scores don't improve for 20 rounds\n",
      "Early stopping, best iteration is:\n",
      "[9]\tvalid_0's auc: 0.833649\tvalid_0's binary_logloss: 0.52985\n"
     ]
    },
    {
     "name": "stderr",
     "output_type": "stream",
     "text": [
      "[I 2023-09-10 06:35:32,065] Trial 780 pruned. Trial was pruned at iteration 26.\n"
     ]
    },
    {
     "name": "stdout",
     "output_type": "stream",
     "text": [
      "[LightGBM] [Warning] lambda_l1 is set=0, reg_alpha=0.0 will be ignored. Current value: lambda_l1=0\n",
      "[LightGBM] [Warning] bagging_fraction is set=1.0, subsample=1.0 will be ignored. Current value: bagging_fraction=1.0\n",
      "[LightGBM] [Warning] feature_fraction is set=0.5, colsample_bytree=1.0 will be ignored. Current value: feature_fraction=0.5\n",
      "[LightGBM] [Warning] min_data_in_leaf is set=100, min_child_samples=20 will be ignored. Current value: min_data_in_leaf=100\n",
      "[LightGBM] [Warning] bagging_freq is set=1, subsample_freq=0 will be ignored. Current value: bagging_freq=1\n",
      "[LightGBM] [Warning] min_gain_to_split is set=1.6, min_split_gain=0.0 will be ignored. Current value: min_gain_to_split=1.6\n",
      "[LightGBM] [Warning] lambda_l2 is set=10, reg_lambda=0.0 will be ignored. Current value: lambda_l2=10\n",
      "Training until validation scores don't improve for 20 rounds\n"
     ]
    },
    {
     "name": "stderr",
     "output_type": "stream",
     "text": [
      "[I 2023-09-10 06:35:32,450] Trial 781 pruned. Trial was pruned at iteration 26.\n"
     ]
    },
    {
     "name": "stdout",
     "output_type": "stream",
     "text": [
      "Training until validation scores don't improve for 20 rounds\n"
     ]
    },
    {
     "name": "stderr",
     "output_type": "stream",
     "text": [
      "[I 2023-09-10 06:35:32,807] Trial 782 pruned. Trial was pruned at iteration 5.\n"
     ]
    },
    {
     "name": "stdout",
     "output_type": "stream",
     "text": [
      "Training until validation scores don't improve for 20 rounds\n"
     ]
    },
    {
     "name": "stderr",
     "output_type": "stream",
     "text": [
      "[I 2023-09-10 06:35:33,334] Trial 783 pruned. Trial was pruned at iteration 5.\n"
     ]
    },
    {
     "name": "stdout",
     "output_type": "stream",
     "text": [
      "Training until validation scores don't improve for 20 rounds\n"
     ]
    },
    {
     "name": "stderr",
     "output_type": "stream",
     "text": [
      "[I 2023-09-10 06:35:33,749] Trial 784 pruned. Trial was pruned at iteration 29.\n"
     ]
    },
    {
     "name": "stdout",
     "output_type": "stream",
     "text": [
      "Training until validation scores don't improve for 20 rounds\n"
     ]
    },
    {
     "name": "stderr",
     "output_type": "stream",
     "text": [
      "[I 2023-09-10 06:35:34,103] Trial 785 pruned. Trial was pruned at iteration 0.\n",
      "[I 2023-09-10 06:35:34,472] Trial 786 pruned. Trial was pruned at iteration 5.\n"
     ]
    },
    {
     "name": "stdout",
     "output_type": "stream",
     "text": [
      "Training until validation scores don't improve for 20 rounds\n"
     ]
    },
    {
     "name": "stderr",
     "output_type": "stream",
     "text": [
      "[I 2023-09-10 06:35:34,861] Trial 787 pruned. Trial was pruned at iteration 26.\n"
     ]
    },
    {
     "name": "stdout",
     "output_type": "stream",
     "text": [
      "Training until validation scores don't improve for 20 rounds\n"
     ]
    },
    {
     "name": "stderr",
     "output_type": "stream",
     "text": [
      "[I 2023-09-10 06:35:35,247] Trial 788 pruned. Trial was pruned at iteration 26.\n"
     ]
    },
    {
     "name": "stdout",
     "output_type": "stream",
     "text": [
      "Training until validation scores don't improve for 20 rounds\n"
     ]
    },
    {
     "name": "stderr",
     "output_type": "stream",
     "text": [
      "[I 2023-09-10 06:35:35,651] Trial 789 finished with value: 0.8257862550960978 and parameters: {'n_estimators': 900, 'learning_rate': 0.45000000000000007, 'num_leaves': 720, 'max_depth': 9, 'min_data_in_leaf': 100, 'lambda_l1': 0, 'lambda_l2': 15, 'min_gain_to_split': 2.5, 'bagging_fraction': 1.0, 'bagging_freq': 1, 'feature_fraction': 0.5}. Best is trial 630 with value: 0.8389633080955154.\n"
     ]
    },
    {
     "name": "stdout",
     "output_type": "stream",
     "text": [
      "Training until validation scores don't improve for 20 rounds\n",
      "Early stopping, best iteration is:\n",
      "[6]\tvalid_0's auc: 0.825786\tvalid_0's binary_logloss: 0.535279\n"
     ]
    },
    {
     "name": "stderr",
     "output_type": "stream",
     "text": [
      "[I 2023-09-10 06:35:36,060] Trial 790 finished with value: 0.8336488060570763 and parameters: {'n_estimators': 900, 'learning_rate': 0.45000000000000007, 'num_leaves': 740, 'max_depth': 9, 'min_data_in_leaf': 100, 'lambda_l1': 0, 'lambda_l2': 15, 'min_gain_to_split': 1.9000000000000001, 'bagging_fraction': 1.0, 'bagging_freq': 1, 'feature_fraction': 0.5}. Best is trial 630 with value: 0.8389633080955154.\n"
     ]
    },
    {
     "name": "stdout",
     "output_type": "stream",
     "text": [
      "[LightGBM] [Warning] lambda_l1 is set=0, reg_alpha=0.0 will be ignored. Current value: lambda_l1=0\n",
      "[LightGBM] [Warning] bagging_fraction is set=1.0, subsample=1.0 will be ignored. Current value: bagging_fraction=1.0\n",
      "[LightGBM] [Warning] feature_fraction is set=0.5, colsample_bytree=1.0 will be ignored. Current value: feature_fraction=0.5\n",
      "[LightGBM] [Warning] min_data_in_leaf is set=100, min_child_samples=20 will be ignored. Current value: min_data_in_leaf=100\n",
      "[LightGBM] [Warning] bagging_freq is set=1, subsample_freq=0 will be ignored. Current value: bagging_freq=1\n",
      "[LightGBM] [Warning] min_gain_to_split is set=1.9000000000000001, min_split_gain=0.0 will be ignored. Current value: min_gain_to_split=1.9000000000000001\n",
      "[LightGBM] [Warning] lambda_l2 is set=15, reg_lambda=0.0 will be ignored. Current value: lambda_l2=15\n",
      "Training until validation scores don't improve for 20 rounds\n",
      "Early stopping, best iteration is:\n",
      "[9]\tvalid_0's auc: 0.833649\tvalid_0's binary_logloss: 0.52985\n"
     ]
    },
    {
     "name": "stderr",
     "output_type": "stream",
     "text": [
      "[I 2023-09-10 06:35:36,445] Trial 791 pruned. Trial was pruned at iteration 26.\n"
     ]
    },
    {
     "name": "stdout",
     "output_type": "stream",
     "text": [
      "[LightGBM] [Warning] lambda_l1 is set=0, reg_alpha=0.0 will be ignored. Current value: lambda_l1=0\n",
      "[LightGBM] [Warning] bagging_fraction is set=1.0, subsample=1.0 will be ignored. Current value: bagging_fraction=1.0\n",
      "[LightGBM] [Warning] feature_fraction is set=0.5, colsample_bytree=1.0 will be ignored. Current value: feature_fraction=0.5\n",
      "[LightGBM] [Warning] min_data_in_leaf is set=100, min_child_samples=20 will be ignored. Current value: min_data_in_leaf=100\n",
      "[LightGBM] [Warning] bagging_freq is set=1, subsample_freq=0 will be ignored. Current value: bagging_freq=1\n",
      "[LightGBM] [Warning] min_gain_to_split is set=1.4000000000000001, min_split_gain=0.0 will be ignored. Current value: min_gain_to_split=1.4000000000000001\n",
      "[LightGBM] [Warning] lambda_l2 is set=10, reg_lambda=0.0 will be ignored. Current value: lambda_l2=10\n",
      "Training until validation scores don't improve for 20 rounds\n"
     ]
    },
    {
     "name": "stderr",
     "output_type": "stream",
     "text": [
      "[I 2023-09-10 06:35:36,789] Trial 792 pruned. Trial was pruned at iteration 2.\n"
     ]
    },
    {
     "name": "stdout",
     "output_type": "stream",
     "text": [
      "Training until validation scores don't improve for 20 rounds\n"
     ]
    },
    {
     "name": "stderr",
     "output_type": "stream",
     "text": [
      "[I 2023-09-10 06:35:37,194] Trial 793 finished with value: 0.8214909726266744 and parameters: {'n_estimators': 1000, 'learning_rate': 0.45000000000000007, 'num_leaves': 840, 'max_depth': 9, 'min_data_in_leaf': 100, 'lambda_l1': 0, 'lambda_l2': 10, 'min_gain_to_split': 2.7, 'bagging_fraction': 1.0, 'bagging_freq': 1, 'feature_fraction': 0.5}. Best is trial 630 with value: 0.8389633080955154.\n"
     ]
    },
    {
     "name": "stdout",
     "output_type": "stream",
     "text": [
      "Training until validation scores don't improve for 20 rounds\n",
      "Early stopping, best iteration is:\n",
      "[5]\tvalid_0's auc: 0.821491\tvalid_0's binary_logloss: 0.544792\n"
     ]
    },
    {
     "name": "stderr",
     "output_type": "stream",
     "text": [
      "[I 2023-09-10 06:35:37,584] Trial 794 pruned. Trial was pruned at iteration 26.\n"
     ]
    },
    {
     "name": "stdout",
     "output_type": "stream",
     "text": [
      "[LightGBM] [Warning] lambda_l1 is set=0, reg_alpha=0.0 will be ignored. Current value: lambda_l1=0\n",
      "[LightGBM] [Warning] bagging_fraction is set=1.0, subsample=1.0 will be ignored. Current value: bagging_fraction=1.0\n",
      "[LightGBM] [Warning] feature_fraction is set=0.5, colsample_bytree=1.0 will be ignored. Current value: feature_fraction=0.5\n",
      "[LightGBM] [Warning] min_data_in_leaf is set=100, min_child_samples=20 will be ignored. Current value: min_data_in_leaf=100\n",
      "[LightGBM] [Warning] bagging_freq is set=1, subsample_freq=0 will be ignored. Current value: bagging_freq=1\n",
      "[LightGBM] [Warning] min_gain_to_split is set=1.7000000000000002, min_split_gain=0.0 will be ignored. Current value: min_gain_to_split=1.7000000000000002\n",
      "[LightGBM] [Warning] lambda_l2 is set=15, reg_lambda=0.0 will be ignored. Current value: lambda_l2=15\n",
      "Training until validation scores don't improve for 20 rounds\n"
     ]
    },
    {
     "name": "stderr",
     "output_type": "stream",
     "text": [
      "[I 2023-09-10 06:35:38,054] Trial 795 finished with value: 0.8220005824111822 and parameters: {'n_estimators': 900, 'learning_rate': 0.45000000000000007, 'num_leaves': 740, 'max_depth': 9, 'min_data_in_leaf': 100, 'lambda_l1': 0, 'lambda_l2': 15, 'min_gain_to_split': 1.2000000000000002, 'bagging_fraction': 1.0, 'bagging_freq': 1, 'feature_fraction': 0.5}. Best is trial 630 with value: 0.8389633080955154.\n"
     ]
    },
    {
     "name": "stdout",
     "output_type": "stream",
     "text": [
      "Training until validation scores don't improve for 20 rounds\n",
      "Early stopping, best iteration is:\n",
      "[6]\tvalid_0's auc: 0.822001\tvalid_0's binary_logloss: 0.5424\n"
     ]
    },
    {
     "name": "stderr",
     "output_type": "stream",
     "text": [
      "[I 2023-09-10 06:35:38,443] Trial 796 pruned. Trial was pruned at iteration 5.\n"
     ]
    },
    {
     "name": "stdout",
     "output_type": "stream",
     "text": [
      "[LightGBM] [Warning] lambda_l1 is set=0, reg_alpha=0.0 will be ignored. Current value: lambda_l1=0\n",
      "[LightGBM] [Warning] bagging_fraction is set=1.0, subsample=1.0 will be ignored. Current value: bagging_fraction=1.0\n",
      "[LightGBM] [Warning] feature_fraction is set=0.5, colsample_bytree=1.0 will be ignored. Current value: feature_fraction=0.5\n",
      "[LightGBM] [Warning] min_data_in_leaf is set=100, min_child_samples=20 will be ignored. Current value: min_data_in_leaf=100\n",
      "[LightGBM] [Warning] bagging_freq is set=1, subsample_freq=0 will be ignored. Current value: bagging_freq=1\n",
      "[LightGBM] [Warning] min_gain_to_split is set=2.0, min_split_gain=0.0 will be ignored. Current value: min_gain_to_split=2.0\n",
      "[LightGBM] [Warning] lambda_l2 is set=20, reg_lambda=0.0 will be ignored. Current value: lambda_l2=20\n",
      "Training until validation scores don't improve for 20 rounds\n"
     ]
    },
    {
     "name": "stderr",
     "output_type": "stream",
     "text": [
      "[I 2023-09-10 06:35:38,864] Trial 797 pruned. Trial was pruned at iteration 26.\n"
     ]
    },
    {
     "name": "stdout",
     "output_type": "stream",
     "text": [
      "Training until validation scores don't improve for 20 rounds\n"
     ]
    },
    {
     "name": "stderr",
     "output_type": "stream",
     "text": [
      "[I 2023-09-10 06:35:39,324] Trial 798 finished with value: 0.8214909726266744 and parameters: {'n_estimators': 900, 'learning_rate': 0.45000000000000007, 'num_leaves': 820, 'max_depth': 9, 'min_data_in_leaf': 100, 'lambda_l1': 0, 'lambda_l2': 10, 'min_gain_to_split': 2.3000000000000003, 'bagging_fraction': 1.0, 'bagging_freq': 1, 'feature_fraction': 0.5}. Best is trial 630 with value: 0.8389633080955154.\n"
     ]
    },
    {
     "name": "stdout",
     "output_type": "stream",
     "text": [
      "Training until validation scores don't improve for 20 rounds\n",
      "Early stopping, best iteration is:\n",
      "[5]\tvalid_0's auc: 0.821491\tvalid_0's binary_logloss: 0.544792\n"
     ]
    },
    {
     "name": "stderr",
     "output_type": "stream",
     "text": [
      "[I 2023-09-10 06:35:39,787] Trial 799 finished with value: 0.8336488060570763 and parameters: {'n_estimators': 900, 'learning_rate': 0.45000000000000007, 'num_leaves': 880, 'max_depth': 9, 'min_data_in_leaf': 100, 'lambda_l1': 0, 'lambda_l2': 15, 'min_gain_to_split': 1.9000000000000001, 'bagging_fraction': 1.0, 'bagging_freq': 1, 'feature_fraction': 0.5}. Best is trial 630 with value: 0.8389633080955154.\n"
     ]
    },
    {
     "name": "stdout",
     "output_type": "stream",
     "text": [
      "[LightGBM] [Warning] lambda_l1 is set=0, reg_alpha=0.0 will be ignored. Current value: lambda_l1=0\n",
      "[LightGBM] [Warning] bagging_fraction is set=1.0, subsample=1.0 will be ignored. Current value: bagging_fraction=1.0\n",
      "[LightGBM] [Warning] feature_fraction is set=0.5, colsample_bytree=1.0 will be ignored. Current value: feature_fraction=0.5\n",
      "[LightGBM] [Warning] min_data_in_leaf is set=100, min_child_samples=20 will be ignored. Current value: min_data_in_leaf=100\n",
      "[LightGBM] [Warning] bagging_freq is set=1, subsample_freq=0 will be ignored. Current value: bagging_freq=1\n",
      "[LightGBM] [Warning] min_gain_to_split is set=1.9000000000000001, min_split_gain=0.0 will be ignored. Current value: min_gain_to_split=1.9000000000000001\n",
      "[LightGBM] [Warning] lambda_l2 is set=15, reg_lambda=0.0 will be ignored. Current value: lambda_l2=15\n",
      "Training until validation scores don't improve for 20 rounds\n",
      "Early stopping, best iteration is:\n",
      "[9]\tvalid_0's auc: 0.833649\tvalid_0's binary_logloss: 0.52985\n",
      "[LightGBM] [Warning] lambda_l1 is set=0, reg_alpha=0.0 will be ignored. Current value: lambda_l1=0\n",
      "[LightGBM] [Warning] bagging_fraction is set=1.0, subsample=1.0 will be ignored. Current value: bagging_fraction=1.0\n",
      "[LightGBM] [Warning] feature_fraction is set=0.5, colsample_bytree=1.0 will be ignored. Current value: feature_fraction=0.5\n",
      "[LightGBM] [Warning] min_data_in_leaf is set=100, min_child_samples=20 will be ignored. Current value: min_data_in_leaf=100\n",
      "[LightGBM] [Warning] bagging_freq is set=1, subsample_freq=0 will be ignored. Current value: bagging_freq=1\n",
      "[LightGBM] [Warning] min_gain_to_split is set=0.0, min_split_gain=0.0 will be ignored. Current value: min_gain_to_split=0.0\n",
      "[LightGBM] [Warning] lambda_l2 is set=10, reg_lambda=0.0 will be ignored. Current value: lambda_l2=10\n",
      "Training until validation scores don't improve for 20 rounds\n"
     ]
    },
    {
     "name": "stderr",
     "output_type": "stream",
     "text": [
      "[I 2023-09-10 06:35:40,598] Trial 800 finished with value: 0.8648806057076297 and parameters: {'n_estimators': 900, 'learning_rate': 0.45000000000000007, 'num_leaves': 940, 'max_depth': 9, 'min_data_in_leaf': 100, 'lambda_l1': 0, 'lambda_l2': 10, 'min_gain_to_split': 0.0, 'bagging_fraction': 1.0, 'bagging_freq': 1, 'feature_fraction': 0.5}. Best is trial 800 with value: 0.8648806057076297.\n"
     ]
    },
    {
     "name": "stdout",
     "output_type": "stream",
     "text": [
      "Early stopping, best iteration is:\n",
      "[73]\tvalid_0's auc: 0.864881\tvalid_0's binary_logloss: 0.463423\n"
     ]
    },
    {
     "name": "stderr",
     "output_type": "stream",
     "text": [
      "[I 2023-09-10 06:35:41,001] Trial 801 pruned. Trial was pruned at iteration 5.\n"
     ]
    },
    {
     "name": "stdout",
     "output_type": "stream",
     "text": [
      "[LightGBM] [Warning] lambda_l1 is set=0, reg_alpha=0.0 will be ignored. Current value: lambda_l1=0\n",
      "[LightGBM] [Warning] bagging_fraction is set=0.9000000000000001, subsample=1.0 will be ignored. Current value: bagging_fraction=0.9000000000000001\n",
      "[LightGBM] [Warning] feature_fraction is set=0.5, colsample_bytree=1.0 will be ignored. Current value: feature_fraction=0.5\n",
      "[LightGBM] [Warning] min_data_in_leaf is set=100, min_child_samples=20 will be ignored. Current value: min_data_in_leaf=100\n",
      "[LightGBM] [Warning] bagging_freq is set=1, subsample_freq=0 will be ignored. Current value: bagging_freq=1\n",
      "[LightGBM] [Warning] min_gain_to_split is set=0.30000000000000004, min_split_gain=0.0 will be ignored. Current value: min_gain_to_split=0.30000000000000004\n",
      "[LightGBM] [Warning] lambda_l2 is set=10, reg_lambda=0.0 will be ignored. Current value: lambda_l2=10\n",
      "Training until validation scores don't improve for 20 rounds\n"
     ]
    },
    {
     "name": "stderr",
     "output_type": "stream",
     "text": [
      "[I 2023-09-10 06:35:41,423] Trial 802 pruned. Trial was pruned at iteration 26.\n"
     ]
    },
    {
     "name": "stdout",
     "output_type": "stream",
     "text": [
      "Training until validation scores don't improve for 20 rounds\n",
      "Training until validation scores don't improve for 20 rounds\n"
     ]
    },
    {
     "name": "stderr",
     "output_type": "stream",
     "text": [
      "[I 2023-09-10 06:35:42,264] Trial 803 finished with value: 0.8648806057076297 and parameters: {'n_estimators': 900, 'learning_rate': 0.45000000000000007, 'num_leaves': 900, 'max_depth': 9, 'min_data_in_leaf': 100, 'lambda_l1': 0, 'lambda_l2': 10, 'min_gain_to_split': 0.0, 'bagging_fraction': 1.0, 'bagging_freq': 1, 'feature_fraction': 0.5}. Best is trial 800 with value: 0.8648806057076297.\n"
     ]
    },
    {
     "name": "stdout",
     "output_type": "stream",
     "text": [
      "Early stopping, best iteration is:\n",
      "[73]\tvalid_0's auc: 0.864881\tvalid_0's binary_logloss: 0.463423\n"
     ]
    },
    {
     "name": "stderr",
     "output_type": "stream",
     "text": [
      "[I 2023-09-10 06:35:42,648] Trial 804 pruned. Trial was pruned at iteration 5.\n"
     ]
    },
    {
     "name": "stdout",
     "output_type": "stream",
     "text": [
      "[LightGBM] [Warning] lambda_l1 is set=0, reg_alpha=0.0 will be ignored. Current value: lambda_l1=0\n",
      "[LightGBM] [Warning] bagging_fraction is set=0.9000000000000001, subsample=1.0 will be ignored. Current value: bagging_fraction=0.9000000000000001\n",
      "[LightGBM] [Warning] feature_fraction is set=0.5, colsample_bytree=1.0 will be ignored. Current value: feature_fraction=0.5\n",
      "[LightGBM] [Warning] min_data_in_leaf is set=100, min_child_samples=20 will be ignored. Current value: min_data_in_leaf=100\n",
      "[LightGBM] [Warning] bagging_freq is set=1, subsample_freq=0 will be ignored. Current value: bagging_freq=1\n",
      "[LightGBM] [Warning] min_gain_to_split is set=0.1, min_split_gain=0.0 will be ignored. Current value: min_gain_to_split=0.1\n",
      "[LightGBM] [Warning] lambda_l2 is set=10, reg_lambda=0.0 will be ignored. Current value: lambda_l2=10\n",
      "Training until validation scores don't improve for 20 rounds\n"
     ]
    },
    {
     "name": "stderr",
     "output_type": "stream",
     "text": [
      "[I 2023-09-10 06:35:42,990] Trial 805 pruned. Trial was pruned at iteration 0.\n",
      "[I 2023-09-10 06:35:43,342] Trial 806 pruned. Trial was pruned at iteration 0.\n",
      "[I 2023-09-10 06:35:43,736] Trial 807 pruned. Trial was pruned at iteration 26.\n"
     ]
    },
    {
     "name": "stdout",
     "output_type": "stream",
     "text": [
      "Training until validation scores don't improve for 20 rounds\n"
     ]
    },
    {
     "name": "stderr",
     "output_type": "stream",
     "text": [
      "[I 2023-09-10 06:35:44,146] Trial 808 pruned. Trial was pruned at iteration 26.\n"
     ]
    },
    {
     "name": "stdout",
     "output_type": "stream",
     "text": [
      "Training until validation scores don't improve for 20 rounds\n"
     ]
    },
    {
     "name": "stderr",
     "output_type": "stream",
     "text": [
      "[I 2023-09-10 06:35:44,567] Trial 809 pruned. Trial was pruned at iteration 29.\n"
     ]
    },
    {
     "name": "stdout",
     "output_type": "stream",
     "text": [
      "Training until validation scores don't improve for 20 rounds\n"
     ]
    },
    {
     "name": "stderr",
     "output_type": "stream",
     "text": [
      "[I 2023-09-10 06:35:44,977] Trial 810 finished with value: 0.8266598718695398 and parameters: {'n_estimators': 1000, 'learning_rate': 0.45000000000000007, 'num_leaves': 880, 'max_depth': 9, 'min_data_in_leaf': 100, 'lambda_l1': 0, 'lambda_l2': 10, 'min_gain_to_split': 4.6000000000000005, 'bagging_fraction': 1.0, 'bagging_freq': 1, 'feature_fraction': 0.5}. Best is trial 800 with value: 0.8648806057076297.\n"
     ]
    },
    {
     "name": "stdout",
     "output_type": "stream",
     "text": [
      "Training until validation scores don't improve for 20 rounds\n",
      "Early stopping, best iteration is:\n",
      "[5]\tvalid_0's auc: 0.82666\tvalid_0's binary_logloss: 0.545993\n",
      "[LightGBM] [Warning] lambda_l1 is set=0, reg_alpha=0.0 will be ignored. Current value: lambda_l1=0\n",
      "[LightGBM] [Warning] bagging_fraction is set=1.0, subsample=1.0 will be ignored. Current value: bagging_fraction=1.0\n",
      "[LightGBM] [Warning] feature_fraction is set=0.5, colsample_bytree=1.0 will be ignored. Current value: feature_fraction=0.5\n",
      "[LightGBM] [Warning] min_data_in_leaf is set=100, min_child_samples=20 will be ignored. Current value: min_data_in_leaf=100\n",
      "[LightGBM] [Warning] bagging_freq is set=1, subsample_freq=0 will be ignored. Current value: bagging_freq=1\n",
      "[LightGBM] [Warning] min_gain_to_split is set=0.0, min_split_gain=0.0 will be ignored. Current value: min_gain_to_split=0.0\n",
      "[LightGBM] [Warning] lambda_l2 is set=20, reg_lambda=0.0 will be ignored. Current value: lambda_l2=20\n",
      "Training until validation scores don't improve for 20 rounds\n"
     ]
    },
    {
     "name": "stderr",
     "output_type": "stream",
     "text": [
      "[I 2023-09-10 06:35:45,502] Trial 811 pruned. Trial was pruned at iteration 42.\n",
      "[I 2023-09-10 06:35:45,903] Trial 812 pruned. Trial was pruned at iteration 29.\n"
     ]
    },
    {
     "name": "stdout",
     "output_type": "stream",
     "text": [
      "Training until validation scores don't improve for 20 rounds\n"
     ]
    },
    {
     "name": "stderr",
     "output_type": "stream",
     "text": [
      "[I 2023-09-10 06:35:46,258] Trial 813 pruned. Trial was pruned at iteration 0.\n",
      "[I 2023-09-10 06:35:46,651] Trial 814 pruned. Trial was pruned at iteration 26.\n"
     ]
    },
    {
     "name": "stdout",
     "output_type": "stream",
     "text": [
      "Training until validation scores don't improve for 20 rounds\n"
     ]
    },
    {
     "name": "stderr",
     "output_type": "stream",
     "text": [
      "[I 2023-09-10 06:35:47,017] Trial 815 pruned. Trial was pruned at iteration 5.\n"
     ]
    },
    {
     "name": "stdout",
     "output_type": "stream",
     "text": [
      "Training until validation scores don't improve for 20 rounds\n"
     ]
    },
    {
     "name": "stderr",
     "output_type": "stream",
     "text": [
      "[I 2023-09-10 06:35:47,552] Trial 816 finished with value: 0.8648806057076297 and parameters: {'n_estimators': 900, 'learning_rate': 0.45000000000000007, 'num_leaves': 780, 'max_depth': 9, 'min_data_in_leaf': 100, 'lambda_l1': 0, 'lambda_l2': 10, 'min_gain_to_split': 0.0, 'bagging_fraction': 1.0, 'bagging_freq': 1, 'feature_fraction': 0.5}. Best is trial 800 with value: 0.8648806057076297.\n"
     ]
    },
    {
     "name": "stdout",
     "output_type": "stream",
     "text": [
      "Training until validation scores don't improve for 20 rounds\n",
      "Early stopping, best iteration is:\n",
      "[73]\tvalid_0's auc: 0.864881\tvalid_0's binary_logloss: 0.463423\n",
      "[LightGBM] [Warning] lambda_l1 is set=0, reg_alpha=0.0 will be ignored. Current value: lambda_l1=0\n",
      "[LightGBM] [Warning] bagging_fraction is set=1.0, subsample=1.0 will be ignored. Current value: bagging_fraction=1.0\n",
      "[LightGBM] [Warning] feature_fraction is set=0.5, colsample_bytree=1.0 will be ignored. Current value: feature_fraction=0.5\n",
      "[LightGBM] [Warning] min_data_in_leaf is set=100, min_child_samples=20 will be ignored. Current value: min_data_in_leaf=100\n",
      "[LightGBM] [Warning] bagging_freq is set=1, subsample_freq=0 will be ignored. Current value: bagging_freq=1\n",
      "[LightGBM] [Warning] min_gain_to_split is set=0.0, min_split_gain=0.0 will be ignored. Current value: min_gain_to_split=0.0\n",
      "[LightGBM] [Warning] lambda_l2 is set=10, reg_lambda=0.0 will be ignored. Current value: lambda_l2=10\n",
      "Training until validation scores don't improve for 20 rounds\n",
      "Early stopping, best iteration is:\n",
      "[73]\tvalid_0's auc: 0.864881\tvalid_0's binary_logloss: 0.463423\n"
     ]
    },
    {
     "name": "stderr",
     "output_type": "stream",
     "text": [
      "[I 2023-09-10 06:35:48,085] Trial 817 finished with value: 0.8648806057076297 and parameters: {'n_estimators': 1000, 'learning_rate': 0.45000000000000007, 'num_leaves': 780, 'max_depth': 9, 'min_data_in_leaf': 100, 'lambda_l1': 0, 'lambda_l2': 10, 'min_gain_to_split': 0.0, 'bagging_fraction': 1.0, 'bagging_freq': 1, 'feature_fraction': 0.5}. Best is trial 800 with value: 0.8648806057076297.\n",
      "[I 2023-09-10 06:35:48,445] Trial 818 pruned. Trial was pruned at iteration 5.\n"
     ]
    },
    {
     "name": "stdout",
     "output_type": "stream",
     "text": [
      "[LightGBM] [Warning] lambda_l1 is set=0, reg_alpha=0.0 will be ignored. Current value: lambda_l1=0\n",
      "[LightGBM] [Warning] bagging_fraction is set=1.0, subsample=1.0 will be ignored. Current value: bagging_fraction=1.0\n",
      "[LightGBM] [Warning] feature_fraction is set=0.4, colsample_bytree=1.0 will be ignored. Current value: feature_fraction=0.4\n",
      "[LightGBM] [Warning] min_data_in_leaf is set=100, min_child_samples=20 will be ignored. Current value: min_data_in_leaf=100\n",
      "[LightGBM] [Warning] bagging_freq is set=1, subsample_freq=0 will be ignored. Current value: bagging_freq=1\n",
      "[LightGBM] [Warning] min_gain_to_split is set=0.2, min_split_gain=0.0 will be ignored. Current value: min_gain_to_split=0.2\n",
      "[LightGBM] [Warning] lambda_l2 is set=10, reg_lambda=0.0 will be ignored. Current value: lambda_l2=10\n",
      "Training until validation scores don't improve for 20 rounds\n"
     ]
    },
    {
     "name": "stderr",
     "output_type": "stream",
     "text": [
      "[I 2023-09-10 06:35:48,810] Trial 819 pruned. Trial was pruned at iteration 5.\n"
     ]
    },
    {
     "name": "stdout",
     "output_type": "stream",
     "text": [
      "Training until validation scores don't improve for 20 rounds\n"
     ]
    },
    {
     "name": "stderr",
     "output_type": "stream",
     "text": [
      "[I 2023-09-10 06:35:49,348] Trial 820 finished with value: 0.8648806057076297 and parameters: {'n_estimators': 1000, 'learning_rate': 0.45000000000000007, 'num_leaves': 800, 'max_depth': 9, 'min_data_in_leaf': 100, 'lambda_l1': 0, 'lambda_l2': 10, 'min_gain_to_split': 0.0, 'bagging_fraction': 1.0, 'bagging_freq': 1, 'feature_fraction': 0.5}. Best is trial 800 with value: 0.8648806057076297.\n"
     ]
    },
    {
     "name": "stdout",
     "output_type": "stream",
     "text": [
      "Training until validation scores don't improve for 20 rounds\n",
      "Early stopping, best iteration is:\n",
      "[73]\tvalid_0's auc: 0.864881\tvalid_0's binary_logloss: 0.463423\n"
     ]
    },
    {
     "name": "stderr",
     "output_type": "stream",
     "text": [
      "[I 2023-09-10 06:35:49,710] Trial 821 pruned. Trial was pruned at iteration 5.\n"
     ]
    },
    {
     "name": "stdout",
     "output_type": "stream",
     "text": [
      "[LightGBM] [Warning] lambda_l1 is set=0, reg_alpha=0.0 will be ignored. Current value: lambda_l1=0\n",
      "[LightGBM] [Warning] bagging_fraction is set=0.9000000000000001, subsample=1.0 will be ignored. Current value: bagging_fraction=0.9000000000000001\n",
      "[LightGBM] [Warning] feature_fraction is set=0.5, colsample_bytree=1.0 will be ignored. Current value: feature_fraction=0.5\n",
      "[LightGBM] [Warning] min_data_in_leaf is set=100, min_child_samples=20 will be ignored. Current value: min_data_in_leaf=100\n",
      "[LightGBM] [Warning] bagging_freq is set=1, subsample_freq=0 will be ignored. Current value: bagging_freq=1\n",
      "[LightGBM] [Warning] min_gain_to_split is set=0.30000000000000004, min_split_gain=0.0 will be ignored. Current value: min_gain_to_split=0.30000000000000004\n",
      "[LightGBM] [Warning] lambda_l2 is set=10, reg_lambda=0.0 will be ignored. Current value: lambda_l2=10\n",
      "Training until validation scores don't improve for 20 rounds\n",
      "Training until validation scores don't improve for 20 rounds\n"
     ]
    },
    {
     "name": "stderr",
     "output_type": "stream",
     "text": [
      "[I 2023-09-10 06:35:50,724] Trial 822 finished with value: 0.8648806057076297 and parameters: {'n_estimators': 1000, 'learning_rate': 0.45000000000000007, 'num_leaves': 800, 'max_depth': 9, 'min_data_in_leaf': 100, 'lambda_l1': 0, 'lambda_l2': 10, 'min_gain_to_split': 0.0, 'bagging_fraction': 1.0, 'bagging_freq': 1, 'feature_fraction': 0.5}. Best is trial 800 with value: 0.8648806057076297.\n"
     ]
    },
    {
     "name": "stdout",
     "output_type": "stream",
     "text": [
      "Early stopping, best iteration is:\n",
      "[73]\tvalid_0's auc: 0.864881\tvalid_0's binary_logloss: 0.463423\n",
      "[LightGBM] [Warning] lambda_l1 is set=0, reg_alpha=0.0 will be ignored. Current value: lambda_l1=0\n",
      "[LightGBM] [Warning] bagging_fraction is set=1.0, subsample=1.0 will be ignored. Current value: bagging_fraction=1.0\n",
      "[LightGBM] [Warning] feature_fraction is set=0.5, colsample_bytree=1.0 will be ignored. Current value: feature_fraction=0.5\n",
      "[LightGBM] [Warning] min_data_in_leaf is set=100, min_child_samples=20 will be ignored. Current value: min_data_in_leaf=100\n",
      "[LightGBM] [Warning] bagging_freq is set=1, subsample_freq=0 will be ignored. Current value: bagging_freq=1\n",
      "[LightGBM] [Warning] min_gain_to_split is set=0.0, min_split_gain=0.0 will be ignored. Current value: min_gain_to_split=0.0\n",
      "[LightGBM] [Warning] lambda_l2 is set=10, reg_lambda=0.0 will be ignored. Current value: lambda_l2=10\n",
      "Training until validation scores don't improve for 20 rounds\n"
     ]
    },
    {
     "name": "stderr",
     "output_type": "stream",
     "text": [
      "[I 2023-09-10 06:35:51,326] Trial 823 finished with value: 0.8648806057076297 and parameters: {'n_estimators': 1000, 'learning_rate': 0.45000000000000007, 'num_leaves': 800, 'max_depth': 9, 'min_data_in_leaf': 100, 'lambda_l1': 0, 'lambda_l2': 10, 'min_gain_to_split': 0.0, 'bagging_fraction': 1.0, 'bagging_freq': 1, 'feature_fraction': 0.5}. Best is trial 800 with value: 0.8648806057076297.\n"
     ]
    },
    {
     "name": "stdout",
     "output_type": "stream",
     "text": [
      "Early stopping, best iteration is:\n",
      "[73]\tvalid_0's auc: 0.864881\tvalid_0's binary_logloss: 0.463423\n"
     ]
    },
    {
     "name": "stderr",
     "output_type": "stream",
     "text": [
      "[I 2023-09-10 06:35:51,669] Trial 824 pruned. Trial was pruned at iteration 0.\n"
     ]
    },
    {
     "name": "stdout",
     "output_type": "stream",
     "text": [
      "[LightGBM] [Warning] lambda_l1 is set=0, reg_alpha=0.0 will be ignored. Current value: lambda_l1=0\n",
      "[LightGBM] [Warning] bagging_fraction is set=1.0, subsample=1.0 will be ignored. Current value: bagging_fraction=1.0\n",
      "[LightGBM] [Warning] feature_fraction is set=0.5, colsample_bytree=1.0 will be ignored. Current value: feature_fraction=0.5\n",
      "[LightGBM] [Warning] min_data_in_leaf is set=300, min_child_samples=20 will be ignored. Current value: min_data_in_leaf=300\n",
      "[LightGBM] [Warning] bagging_freq is set=1, subsample_freq=0 will be ignored. Current value: bagging_freq=1\n",
      "[LightGBM] [Warning] min_gain_to_split is set=0.1, min_split_gain=0.0 will be ignored. Current value: min_gain_to_split=0.1\n",
      "[LightGBM] [Warning] lambda_l2 is set=10, reg_lambda=0.0 will be ignored. Current value: lambda_l2=10\n"
     ]
    },
    {
     "name": "stderr",
     "output_type": "stream",
     "text": [
      "[I 2023-09-10 06:35:52,017] Trial 825 pruned. Trial was pruned at iteration 0.\n",
      "[I 2023-09-10 06:35:52,561] Trial 826 finished with value: 0.8648806057076297 and parameters: {'n_estimators': 1000, 'learning_rate': 0.45000000000000007, 'num_leaves': 800, 'max_depth': 9, 'min_data_in_leaf': 100, 'lambda_l1': 0, 'lambda_l2': 10, 'min_gain_to_split': 0.0, 'bagging_fraction': 1.0, 'bagging_freq': 1, 'feature_fraction': 0.5}. Best is trial 800 with value: 0.8648806057076297.\n"
     ]
    },
    {
     "name": "stdout",
     "output_type": "stream",
     "text": [
      "Training until validation scores don't improve for 20 rounds\n",
      "Early stopping, best iteration is:\n",
      "[73]\tvalid_0's auc: 0.864881\tvalid_0's binary_logloss: 0.463423\n",
      "[LightGBM] [Warning] lambda_l1 is set=0, reg_alpha=0.0 will be ignored. Current value: lambda_l1=0\n",
      "[LightGBM] [Warning] bagging_fraction is set=1.0, subsample=1.0 will be ignored. Current value: bagging_fraction=1.0\n",
      "[LightGBM] [Warning] feature_fraction is set=0.5, colsample_bytree=1.0 will be ignored. Current value: feature_fraction=0.5\n",
      "[LightGBM] [Warning] min_data_in_leaf is set=100, min_child_samples=20 will be ignored. Current value: min_data_in_leaf=100\n",
      "[LightGBM] [Warning] bagging_freq is set=1, subsample_freq=0 will be ignored. Current value: bagging_freq=1\n",
      "[LightGBM] [Warning] min_gain_to_split is set=0.0, min_split_gain=0.0 will be ignored. Current value: min_gain_to_split=0.0\n",
      "[LightGBM] [Warning] lambda_l2 is set=10, reg_lambda=0.0 will be ignored. Current value: lambda_l2=10\n",
      "Training until validation scores don't improve for 20 rounds\n"
     ]
    },
    {
     "name": "stderr",
     "output_type": "stream",
     "text": [
      "[I 2023-09-10 06:35:53,098] Trial 827 finished with value: 0.8648806057076297 and parameters: {'n_estimators': 1000, 'learning_rate': 0.45000000000000007, 'num_leaves': 800, 'max_depth': 9, 'min_data_in_leaf': 100, 'lambda_l1': 0, 'lambda_l2': 10, 'min_gain_to_split': 0.0, 'bagging_fraction': 1.0, 'bagging_freq': 1, 'feature_fraction': 0.5}. Best is trial 800 with value: 0.8648806057076297.\n"
     ]
    },
    {
     "name": "stdout",
     "output_type": "stream",
     "text": [
      "Early stopping, best iteration is:\n",
      "[73]\tvalid_0's auc: 0.864881\tvalid_0's binary_logloss: 0.463423\n"
     ]
    },
    {
     "name": "stderr",
     "output_type": "stream",
     "text": [
      "[I 2023-09-10 06:35:53,495] Trial 828 pruned. Trial was pruned at iteration 26.\n"
     ]
    },
    {
     "name": "stdout",
     "output_type": "stream",
     "text": [
      "[LightGBM] [Warning] lambda_l1 is set=0, reg_alpha=0.0 will be ignored. Current value: lambda_l1=0\n",
      "[LightGBM] [Warning] bagging_fraction is set=1.0, subsample=1.0 will be ignored. Current value: bagging_fraction=1.0\n",
      "[LightGBM] [Warning] feature_fraction is set=0.5, colsample_bytree=1.0 will be ignored. Current value: feature_fraction=0.5\n",
      "[LightGBM] [Warning] min_data_in_leaf is set=100, min_child_samples=20 will be ignored. Current value: min_data_in_leaf=100\n",
      "[LightGBM] [Warning] bagging_freq is set=1, subsample_freq=0 will be ignored. Current value: bagging_freq=1\n",
      "[LightGBM] [Warning] min_gain_to_split is set=0.4, min_split_gain=0.0 will be ignored. Current value: min_gain_to_split=0.4\n",
      "[LightGBM] [Warning] lambda_l2 is set=10, reg_lambda=0.0 will be ignored. Current value: lambda_l2=10\n",
      "Training until validation scores don't improve for 20 rounds\n"
     ]
    },
    {
     "name": "stderr",
     "output_type": "stream",
     "text": [
      "[I 2023-09-10 06:35:53,852] Trial 829 pruned. Trial was pruned at iteration 0.\n",
      "[I 2023-09-10 06:35:54,392] Trial 830 finished with value: 0.8648806057076297 and parameters: {'n_estimators': 1000, 'learning_rate': 0.45000000000000007, 'num_leaves': 780, 'max_depth': 9, 'min_data_in_leaf': 100, 'lambda_l1': 0, 'lambda_l2': 10, 'min_gain_to_split': 0.0, 'bagging_fraction': 1.0, 'bagging_freq': 1, 'feature_fraction': 0.5}. Best is trial 800 with value: 0.8648806057076297.\n"
     ]
    },
    {
     "name": "stdout",
     "output_type": "stream",
     "text": [
      "Training until validation scores don't improve for 20 rounds\n",
      "Early stopping, best iteration is:\n",
      "[73]\tvalid_0's auc: 0.864881\tvalid_0's binary_logloss: 0.463423\n"
     ]
    },
    {
     "name": "stderr",
     "output_type": "stream",
     "text": [
      "[I 2023-09-10 06:35:54,787] Trial 831 pruned. Trial was pruned at iteration 26.\n"
     ]
    },
    {
     "name": "stdout",
     "output_type": "stream",
     "text": [
      "[LightGBM] [Warning] lambda_l1 is set=0, reg_alpha=0.0 will be ignored. Current value: lambda_l1=0\n",
      "[LightGBM] [Warning] bagging_fraction is set=1.0, subsample=1.0 will be ignored. Current value: bagging_fraction=1.0\n",
      "[LightGBM] [Warning] feature_fraction is set=0.5, colsample_bytree=1.0 will be ignored. Current value: feature_fraction=0.5\n",
      "[LightGBM] [Warning] min_data_in_leaf is set=100, min_child_samples=20 will be ignored. Current value: min_data_in_leaf=100\n",
      "[LightGBM] [Warning] bagging_freq is set=1, subsample_freq=0 will be ignored. Current value: bagging_freq=1\n",
      "[LightGBM] [Warning] min_gain_to_split is set=0.5, min_split_gain=0.0 will be ignored. Current value: min_gain_to_split=0.5\n",
      "[LightGBM] [Warning] lambda_l2 is set=10, reg_lambda=0.0 will be ignored. Current value: lambda_l2=10\n",
      "Training until validation scores don't improve for 20 rounds\n"
     ]
    },
    {
     "name": "stderr",
     "output_type": "stream",
     "text": [
      "[I 2023-09-10 06:35:55,214] Trial 832 pruned. Trial was pruned at iteration 49.\n"
     ]
    },
    {
     "name": "stdout",
     "output_type": "stream",
     "text": [
      "Training until validation scores don't improve for 20 rounds\n"
     ]
    },
    {
     "name": "stderr",
     "output_type": "stream",
     "text": [
      "[I 2023-09-10 06:35:55,755] Trial 833 finished with value: 0.8648806057076297 and parameters: {'n_estimators': 1000, 'learning_rate': 0.45000000000000007, 'num_leaves': 800, 'max_depth': 9, 'min_data_in_leaf': 100, 'lambda_l1': 0, 'lambda_l2': 10, 'min_gain_to_split': 0.0, 'bagging_fraction': 1.0, 'bagging_freq': 1, 'feature_fraction': 0.5}. Best is trial 800 with value: 0.8648806057076297.\n"
     ]
    },
    {
     "name": "stdout",
     "output_type": "stream",
     "text": [
      "Training until validation scores don't improve for 20 rounds\n",
      "Early stopping, best iteration is:\n",
      "[73]\tvalid_0's auc: 0.864881\tvalid_0's binary_logloss: 0.463423\n",
      "[LightGBM] [Warning] lambda_l1 is set=0, reg_alpha=0.0 will be ignored. Current value: lambda_l1=0\n",
      "[LightGBM] [Warning] bagging_fraction is set=1.0, subsample=1.0 will be ignored. Current value: bagging_fraction=1.0\n",
      "[LightGBM] [Warning] feature_fraction is set=0.5, colsample_bytree=1.0 will be ignored. Current value: feature_fraction=0.5\n",
      "[LightGBM] [Warning] min_data_in_leaf is set=100, min_child_samples=20 will be ignored. Current value: min_data_in_leaf=100\n",
      "[LightGBM] [Warning] bagging_freq is set=1, subsample_freq=0 will be ignored. Current value: bagging_freq=1\n",
      "[LightGBM] [Warning] min_gain_to_split is set=0.0, min_split_gain=0.0 will be ignored. Current value: min_gain_to_split=0.0\n",
      "[LightGBM] [Warning] lambda_l2 is set=10, reg_lambda=0.0 will be ignored. Current value: lambda_l2=10\n",
      "Training until validation scores don't improve for 20 rounds\n"
     ]
    },
    {
     "name": "stderr",
     "output_type": "stream",
     "text": [
      "[I 2023-09-10 06:35:56,522] Trial 834 finished with value: 0.8648806057076297 and parameters: {'n_estimators': 1000, 'learning_rate': 0.45000000000000007, 'num_leaves': 820, 'max_depth': 9, 'min_data_in_leaf': 100, 'lambda_l1': 0, 'lambda_l2': 10, 'min_gain_to_split': 0.0, 'bagging_fraction': 1.0, 'bagging_freq': 1, 'feature_fraction': 0.5}. Best is trial 800 with value: 0.8648806057076297.\n"
     ]
    },
    {
     "name": "stdout",
     "output_type": "stream",
     "text": [
      "Early stopping, best iteration is:\n",
      "[73]\tvalid_0's auc: 0.864881\tvalid_0's binary_logloss: 0.463423\n"
     ]
    },
    {
     "name": "stderr",
     "output_type": "stream",
     "text": [
      "[I 2023-09-10 06:35:56,887] Trial 835 pruned. Trial was pruned at iteration 5.\n"
     ]
    },
    {
     "name": "stdout",
     "output_type": "stream",
     "text": [
      "[LightGBM] [Warning] lambda_l1 is set=0, reg_alpha=0.0 will be ignored. Current value: lambda_l1=0\n",
      "[LightGBM] [Warning] bagging_fraction is set=0.9000000000000001, subsample=1.0 will be ignored. Current value: bagging_fraction=0.9000000000000001\n",
      "[LightGBM] [Warning] feature_fraction is set=0.5, colsample_bytree=1.0 will be ignored. Current value: feature_fraction=0.5\n",
      "[LightGBM] [Warning] min_data_in_leaf is set=100, min_child_samples=20 will be ignored. Current value: min_data_in_leaf=100\n",
      "[LightGBM] [Warning] bagging_freq is set=1, subsample_freq=0 will be ignored. Current value: bagging_freq=1\n",
      "[LightGBM] [Warning] min_gain_to_split is set=0.4, min_split_gain=0.0 will be ignored. Current value: min_gain_to_split=0.4\n",
      "[LightGBM] [Warning] lambda_l2 is set=10, reg_lambda=0.0 will be ignored. Current value: lambda_l2=10\n",
      "Training until validation scores don't improve for 20 rounds\n"
     ]
    },
    {
     "name": "stderr",
     "output_type": "stream",
     "text": [
      "[I 2023-09-10 06:35:57,436] Trial 836 finished with value: 0.8648806057076297 and parameters: {'n_estimators': 1000, 'learning_rate': 0.45000000000000007, 'num_leaves': 800, 'max_depth': 9, 'min_data_in_leaf': 100, 'lambda_l1': 0, 'lambda_l2': 10, 'min_gain_to_split': 0.0, 'bagging_fraction': 1.0, 'bagging_freq': 1, 'feature_fraction': 0.5}. Best is trial 800 with value: 0.8648806057076297.\n"
     ]
    },
    {
     "name": "stdout",
     "output_type": "stream",
     "text": [
      "Training until validation scores don't improve for 20 rounds\n",
      "Early stopping, best iteration is:\n",
      "[73]\tvalid_0's auc: 0.864881\tvalid_0's binary_logloss: 0.463423\n"
     ]
    },
    {
     "name": "stderr",
     "output_type": "stream",
     "text": [
      "[I 2023-09-10 06:35:57,796] Trial 837 pruned. Trial was pruned at iteration 0.\n"
     ]
    },
    {
     "name": "stdout",
     "output_type": "stream",
     "text": [
      "[LightGBM] [Warning] lambda_l1 is set=35, reg_alpha=0.0 will be ignored. Current value: lambda_l1=35\n",
      "[LightGBM] [Warning] bagging_fraction is set=1.0, subsample=1.0 will be ignored. Current value: bagging_fraction=1.0\n",
      "[LightGBM] [Warning] feature_fraction is set=0.5, colsample_bytree=1.0 will be ignored. Current value: feature_fraction=0.5\n",
      "[LightGBM] [Warning] min_data_in_leaf is set=100, min_child_samples=20 will be ignored. Current value: min_data_in_leaf=100\n",
      "[LightGBM] [Warning] bagging_freq is set=1, subsample_freq=0 will be ignored. Current value: bagging_freq=1\n",
      "[LightGBM] [Warning] min_gain_to_split is set=0.0, min_split_gain=0.0 will be ignored. Current value: min_gain_to_split=0.0\n",
      "[LightGBM] [Warning] lambda_l2 is set=10, reg_lambda=0.0 will be ignored. Current value: lambda_l2=10\n"
     ]
    },
    {
     "name": "stderr",
     "output_type": "stream",
     "text": [
      "[I 2023-09-10 06:35:58,189] Trial 838 pruned. Trial was pruned at iteration 0.\n",
      "[I 2023-09-10 06:35:58,724] Trial 839 finished with value: 0.8530867792661619 and parameters: {'n_estimators': 1000, 'learning_rate': 0.45000000000000007, 'num_leaves': 800, 'max_depth': 9, 'min_data_in_leaf': 100, 'lambda_l1': 0, 'lambda_l2': 10, 'min_gain_to_split': 0.0, 'bagging_fraction': 1.0, 'bagging_freq': 1, 'feature_fraction': 0.6000000000000001}. Best is trial 800 with value: 0.8648806057076297.\n"
     ]
    },
    {
     "name": "stdout",
     "output_type": "stream",
     "text": [
      "Training until validation scores don't improve for 20 rounds\n",
      "Early stopping, best iteration is:\n",
      "[23]\tvalid_0's auc: 0.853087\tvalid_0's binary_logloss: 0.485935\n"
     ]
    },
    {
     "name": "stderr",
     "output_type": "stream",
     "text": [
      "[I 2023-09-10 06:35:59,119] Trial 840 pruned. Trial was pruned at iteration 4.\n"
     ]
    },
    {
     "name": "stdout",
     "output_type": "stream",
     "text": [
      "[LightGBM] [Warning] lambda_l1 is set=0, reg_alpha=0.0 will be ignored. Current value: lambda_l1=0\n",
      "[LightGBM] [Warning] bagging_fraction is set=0.8, subsample=1.0 will be ignored. Current value: bagging_fraction=0.8\n",
      "[LightGBM] [Warning] feature_fraction is set=0.5, colsample_bytree=1.0 will be ignored. Current value: feature_fraction=0.5\n",
      "[LightGBM] [Warning] min_data_in_leaf is set=100, min_child_samples=20 will be ignored. Current value: min_data_in_leaf=100\n",
      "[LightGBM] [Warning] bagging_freq is set=1, subsample_freq=0 will be ignored. Current value: bagging_freq=1\n",
      "[LightGBM] [Warning] min_gain_to_split is set=0.0, min_split_gain=0.0 will be ignored. Current value: min_gain_to_split=0.0\n",
      "[LightGBM] [Warning] lambda_l2 is set=10, reg_lambda=0.0 will be ignored. Current value: lambda_l2=10\n",
      "Training until validation scores don't improve for 20 rounds\n"
     ]
    },
    {
     "name": "stderr",
     "output_type": "stream",
     "text": [
      "[I 2023-09-10 06:35:59,643] Trial 841 pruned. Trial was pruned at iteration 29.\n"
     ]
    },
    {
     "name": "stdout",
     "output_type": "stream",
     "text": [
      "Training until validation scores don't improve for 20 rounds\n"
     ]
    },
    {
     "name": "stderr",
     "output_type": "stream",
     "text": [
      "[I 2023-09-10 06:36:00,186] Trial 842 finished with value: 0.8530867792661619 and parameters: {'n_estimators': 1000, 'learning_rate': 0.45000000000000007, 'num_leaves': 820, 'max_depth': 9, 'min_data_in_leaf': 100, 'lambda_l1': 0, 'lambda_l2': 10, 'min_gain_to_split': 0.0, 'bagging_fraction': 1.0, 'bagging_freq': 1, 'feature_fraction': 0.6000000000000001}. Best is trial 800 with value: 0.8648806057076297.\n"
     ]
    },
    {
     "name": "stdout",
     "output_type": "stream",
     "text": [
      "Training until validation scores don't improve for 20 rounds\n",
      "Early stopping, best iteration is:\n",
      "[23]\tvalid_0's auc: 0.853087\tvalid_0's binary_logloss: 0.485935\n"
     ]
    },
    {
     "name": "stderr",
     "output_type": "stream",
     "text": [
      "[I 2023-09-10 06:36:00,743] Trial 843 finished with value: 0.8530867792661619 and parameters: {'n_estimators': 1000, 'learning_rate': 0.45000000000000007, 'num_leaves': 820, 'max_depth': 9, 'min_data_in_leaf': 100, 'lambda_l1': 0, 'lambda_l2': 10, 'min_gain_to_split': 0.0, 'bagging_fraction': 1.0, 'bagging_freq': 1, 'feature_fraction': 0.6000000000000001}. Best is trial 800 with value: 0.8648806057076297.\n"
     ]
    },
    {
     "name": "stdout",
     "output_type": "stream",
     "text": [
      "[LightGBM] [Warning] lambda_l1 is set=0, reg_alpha=0.0 will be ignored. Current value: lambda_l1=0\n",
      "[LightGBM] [Warning] bagging_fraction is set=1.0, subsample=1.0 will be ignored. Current value: bagging_fraction=1.0\n",
      "[LightGBM] [Warning] feature_fraction is set=0.6000000000000001, colsample_bytree=1.0 will be ignored. Current value: feature_fraction=0.6000000000000001\n",
      "[LightGBM] [Warning] min_data_in_leaf is set=100, min_child_samples=20 will be ignored. Current value: min_data_in_leaf=100\n",
      "[LightGBM] [Warning] bagging_freq is set=1, subsample_freq=0 will be ignored. Current value: bagging_freq=1\n",
      "[LightGBM] [Warning] min_gain_to_split is set=0.0, min_split_gain=0.0 will be ignored. Current value: min_gain_to_split=0.0\n",
      "[LightGBM] [Warning] lambda_l2 is set=10, reg_lambda=0.0 will be ignored. Current value: lambda_l2=10\n",
      "Training until validation scores don't improve for 20 rounds\n",
      "Early stopping, best iteration is:\n",
      "[23]\tvalid_0's auc: 0.853087\tvalid_0's binary_logloss: 0.485935\n"
     ]
    },
    {
     "name": "stderr",
     "output_type": "stream",
     "text": [
      "[I 2023-09-10 06:36:01,171] Trial 844 pruned. Trial was pruned at iteration 29.\n"
     ]
    },
    {
     "name": "stdout",
     "output_type": "stream",
     "text": [
      "[LightGBM] [Warning] lambda_l1 is set=0, reg_alpha=0.0 will be ignored. Current value: lambda_l1=0\n",
      "[LightGBM] [Warning] bagging_fraction is set=1.0, subsample=1.0 will be ignored. Current value: bagging_fraction=1.0\n",
      "[LightGBM] [Warning] feature_fraction is set=0.6000000000000001, colsample_bytree=1.0 will be ignored. Current value: feature_fraction=0.6000000000000001\n",
      "[LightGBM] [Warning] min_data_in_leaf is set=100, min_child_samples=20 will be ignored. Current value: min_data_in_leaf=100\n",
      "[LightGBM] [Warning] bagging_freq is set=1, subsample_freq=0 will be ignored. Current value: bagging_freq=1\n",
      "[LightGBM] [Warning] min_gain_to_split is set=0.4, min_split_gain=0.0 will be ignored. Current value: min_gain_to_split=0.4\n",
      "[LightGBM] [Warning] lambda_l2 is set=10, reg_lambda=0.0 will be ignored. Current value: lambda_l2=10\n",
      "Training until validation scores don't improve for 20 rounds\n"
     ]
    },
    {
     "name": "stderr",
     "output_type": "stream",
     "text": [
      "[I 2023-09-10 06:36:01,517] Trial 845 pruned. Trial was pruned at iteration 0.\n",
      "[I 2023-09-10 06:36:01,924] Trial 846 pruned. Trial was pruned at iteration 0.\n",
      "[I 2023-09-10 06:36:02,321] Trial 847 pruned. Trial was pruned at iteration 29.\n"
     ]
    },
    {
     "name": "stdout",
     "output_type": "stream",
     "text": [
      "Training until validation scores don't improve for 20 rounds\n"
     ]
    },
    {
     "name": "stderr",
     "output_type": "stream",
     "text": [
      "[I 2023-09-10 06:36:02,739] Trial 848 pruned. Trial was pruned at iteration 41.\n"
     ]
    },
    {
     "name": "stdout",
     "output_type": "stream",
     "text": [
      "Training until validation scores don't improve for 20 rounds\n"
     ]
    },
    {
     "name": "stderr",
     "output_type": "stream",
     "text": [
      "[I 2023-09-10 06:36:03,138] Trial 849 pruned. Trial was pruned at iteration 29.\n"
     ]
    },
    {
     "name": "stdout",
     "output_type": "stream",
     "text": [
      "Training until validation scores don't improve for 20 rounds\n"
     ]
    },
    {
     "name": "stderr",
     "output_type": "stream",
     "text": [
      "[I 2023-09-10 06:36:03,586] Trial 850 finished with value: 0.8530867792661619 and parameters: {'n_estimators': 1000, 'learning_rate': 0.45000000000000007, 'num_leaves': 820, 'max_depth': 9, 'min_data_in_leaf': 100, 'lambda_l1': 0, 'lambda_l2': 10, 'min_gain_to_split': 0.0, 'bagging_fraction': 1.0, 'bagging_freq': 1, 'feature_fraction': 0.6000000000000001}. Best is trial 800 with value: 0.8648806057076297.\n"
     ]
    },
    {
     "name": "stdout",
     "output_type": "stream",
     "text": [
      "Training until validation scores don't improve for 20 rounds\n",
      "Early stopping, best iteration is:\n",
      "[23]\tvalid_0's auc: 0.853087\tvalid_0's binary_logloss: 0.485935\n"
     ]
    },
    {
     "name": "stderr",
     "output_type": "stream",
     "text": [
      "[I 2023-09-10 06:36:04,028] Trial 851 finished with value: 0.8530867792661619 and parameters: {'n_estimators': 1000, 'learning_rate': 0.45000000000000007, 'num_leaves': 820, 'max_depth': 9, 'min_data_in_leaf': 100, 'lambda_l1': 0, 'lambda_l2': 10, 'min_gain_to_split': 0.0, 'bagging_fraction': 1.0, 'bagging_freq': 1, 'feature_fraction': 0.6000000000000001}. Best is trial 800 with value: 0.8648806057076297.\n"
     ]
    },
    {
     "name": "stdout",
     "output_type": "stream",
     "text": [
      "[LightGBM] [Warning] lambda_l1 is set=0, reg_alpha=0.0 will be ignored. Current value: lambda_l1=0\n",
      "[LightGBM] [Warning] bagging_fraction is set=1.0, subsample=1.0 will be ignored. Current value: bagging_fraction=1.0\n",
      "[LightGBM] [Warning] feature_fraction is set=0.6000000000000001, colsample_bytree=1.0 will be ignored. Current value: feature_fraction=0.6000000000000001\n",
      "[LightGBM] [Warning] min_data_in_leaf is set=100, min_child_samples=20 will be ignored. Current value: min_data_in_leaf=100\n",
      "[LightGBM] [Warning] bagging_freq is set=1, subsample_freq=0 will be ignored. Current value: bagging_freq=1\n",
      "[LightGBM] [Warning] min_gain_to_split is set=0.0, min_split_gain=0.0 will be ignored. Current value: min_gain_to_split=0.0\n",
      "[LightGBM] [Warning] lambda_l2 is set=10, reg_lambda=0.0 will be ignored. Current value: lambda_l2=10\n",
      "Training until validation scores don't improve for 20 rounds\n",
      "Early stopping, best iteration is:\n",
      "[23]\tvalid_0's auc: 0.853087\tvalid_0's binary_logloss: 0.485935\n"
     ]
    },
    {
     "name": "stderr",
     "output_type": "stream",
     "text": [
      "[I 2023-09-10 06:36:04,387] Trial 852 pruned. Trial was pruned at iteration 0.\n"
     ]
    },
    {
     "name": "stdout",
     "output_type": "stream",
     "text": [
      "[LightGBM] [Warning] lambda_l1 is set=0, reg_alpha=0.0 will be ignored. Current value: lambda_l1=0\n",
      "[LightGBM] [Warning] bagging_fraction is set=0.5, subsample=1.0 will be ignored. Current value: bagging_fraction=0.5\n",
      "[LightGBM] [Warning] feature_fraction is set=0.6000000000000001, colsample_bytree=1.0 will be ignored. Current value: feature_fraction=0.6000000000000001\n",
      "[LightGBM] [Warning] min_data_in_leaf is set=100, min_child_samples=20 will be ignored. Current value: min_data_in_leaf=100\n",
      "[LightGBM] [Warning] bagging_freq is set=1, subsample_freq=0 will be ignored. Current value: bagging_freq=1\n",
      "[LightGBM] [Warning] min_gain_to_split is set=0.6000000000000001, min_split_gain=0.0 will be ignored. Current value: min_gain_to_split=0.6000000000000001\n",
      "[LightGBM] [Warning] lambda_l2 is set=10, reg_lambda=0.0 will be ignored. Current value: lambda_l2=10\n"
     ]
    },
    {
     "name": "stderr",
     "output_type": "stream",
     "text": [
      "[I 2023-09-10 06:36:04,748] Trial 853 pruned. Trial was pruned at iteration 0.\n",
      "[I 2023-09-10 06:36:05,226] Trial 854 pruned. Trial was pruned at iteration 29.\n"
     ]
    },
    {
     "name": "stdout",
     "output_type": "stream",
     "text": [
      "Training until validation scores don't improve for 20 rounds\n"
     ]
    },
    {
     "name": "stderr",
     "output_type": "stream",
     "text": [
      "[I 2023-09-10 06:36:05,785] Trial 855 finished with value: 0.8530867792661619 and parameters: {'n_estimators': 1000, 'learning_rate': 0.45000000000000007, 'num_leaves': 800, 'max_depth': 9, 'min_data_in_leaf': 100, 'lambda_l1': 0, 'lambda_l2': 10, 'min_gain_to_split': 0.0, 'bagging_fraction': 1.0, 'bagging_freq': 1, 'feature_fraction': 0.6000000000000001}. Best is trial 800 with value: 0.8648806057076297.\n"
     ]
    },
    {
     "name": "stdout",
     "output_type": "stream",
     "text": [
      "Training until validation scores don't improve for 20 rounds\n",
      "Early stopping, best iteration is:\n",
      "[23]\tvalid_0's auc: 0.853087\tvalid_0's binary_logloss: 0.485935\n",
      "[LightGBM] [Warning] lambda_l1 is set=0, reg_alpha=0.0 will be ignored. Current value: lambda_l1=0\n",
      "[LightGBM] [Warning] bagging_fraction is set=1.0, subsample=1.0 will be ignored. Current value: bagging_fraction=1.0\n",
      "[LightGBM] [Warning] feature_fraction is set=0.6000000000000001, colsample_bytree=1.0 will be ignored. Current value: feature_fraction=0.6000000000000001\n",
      "[LightGBM] [Warning] min_data_in_leaf is set=100, min_child_samples=20 will be ignored. Current value: min_data_in_leaf=100\n",
      "[LightGBM] [Warning] bagging_freq is set=1, subsample_freq=0 will be ignored. Current value: bagging_freq=1\n",
      "[LightGBM] [Warning] min_gain_to_split is set=0.0, min_split_gain=0.0 will be ignored. Current value: min_gain_to_split=0.0\n",
      "[LightGBM] [Warning] lambda_l2 is set=10, reg_lambda=0.0 will be ignored. Current value: lambda_l2=10\n",
      "Training until validation scores don't improve for 20 rounds\n"
     ]
    },
    {
     "name": "stderr",
     "output_type": "stream",
     "text": [
      "[I 2023-09-10 06:36:06,342] Trial 856 finished with value: 0.8530867792661619 and parameters: {'n_estimators': 1000, 'learning_rate': 0.45000000000000007, 'num_leaves': 800, 'max_depth': 9, 'min_data_in_leaf': 100, 'lambda_l1': 0, 'lambda_l2': 10, 'min_gain_to_split': 0.0, 'bagging_fraction': 1.0, 'bagging_freq': 1, 'feature_fraction': 0.6000000000000001}. Best is trial 800 with value: 0.8648806057076297.\n"
     ]
    },
    {
     "name": "stdout",
     "output_type": "stream",
     "text": [
      "Early stopping, best iteration is:\n",
      "[23]\tvalid_0's auc: 0.853087\tvalid_0's binary_logloss: 0.485935\n",
      "[LightGBM] [Warning] lambda_l1 is set=0, reg_alpha=0.0 will be ignored. Current value: lambda_l1=0\n",
      "[LightGBM] [Warning] bagging_fraction is set=1.0, subsample=1.0 will be ignored. Current value: bagging_fraction=1.0\n",
      "[LightGBM] [Warning] feature_fraction is set=0.6000000000000001, colsample_bytree=1.0 will be ignored. Current value: feature_fraction=0.6000000000000001\n",
      "[LightGBM] [Warning] min_data_in_leaf is set=100, min_child_samples=20 will be ignored. Current value: min_data_in_leaf=100\n",
      "[LightGBM] [Warning] bagging_freq is set=1, subsample_freq=0 will be ignored. Current value: bagging_freq=1\n",
      "[LightGBM] [Warning] min_gain_to_split is set=0.0, min_split_gain=0.0 will be ignored. Current value: min_gain_to_split=0.0\n",
      "[LightGBM] [Warning] lambda_l2 is set=10, reg_lambda=0.0 will be ignored. Current value: lambda_l2=10\n",
      "Training until validation scores don't improve for 20 rounds\n"
     ]
    },
    {
     "name": "stderr",
     "output_type": "stream",
     "text": [
      "[I 2023-09-10 06:36:06,881] Trial 857 finished with value: 0.8530867792661619 and parameters: {'n_estimators': 1000, 'learning_rate': 0.45000000000000007, 'num_leaves': 800, 'max_depth': 9, 'min_data_in_leaf': 100, 'lambda_l1': 0, 'lambda_l2': 10, 'min_gain_to_split': 0.0, 'bagging_fraction': 1.0, 'bagging_freq': 1, 'feature_fraction': 0.6000000000000001}. Best is trial 800 with value: 0.8648806057076297.\n"
     ]
    },
    {
     "name": "stdout",
     "output_type": "stream",
     "text": [
      "Early stopping, best iteration is:\n",
      "[23]\tvalid_0's auc: 0.853087\tvalid_0's binary_logloss: 0.485935\n"
     ]
    },
    {
     "name": "stderr",
     "output_type": "stream",
     "text": [
      "[I 2023-09-10 06:36:07,332] Trial 858 finished with value: 0.8530867792661619 and parameters: {'n_estimators': 1000, 'learning_rate': 0.45000000000000007, 'num_leaves': 800, 'max_depth': 9, 'min_data_in_leaf': 100, 'lambda_l1': 0, 'lambda_l2': 10, 'min_gain_to_split': 0.0, 'bagging_fraction': 1.0, 'bagging_freq': 1, 'feature_fraction': 0.6000000000000001}. Best is trial 800 with value: 0.8648806057076297.\n"
     ]
    },
    {
     "name": "stdout",
     "output_type": "stream",
     "text": [
      "[LightGBM] [Warning] lambda_l1 is set=0, reg_alpha=0.0 will be ignored. Current value: lambda_l1=0\n",
      "[LightGBM] [Warning] bagging_fraction is set=1.0, subsample=1.0 will be ignored. Current value: bagging_fraction=1.0\n",
      "[LightGBM] [Warning] feature_fraction is set=0.6000000000000001, colsample_bytree=1.0 will be ignored. Current value: feature_fraction=0.6000000000000001\n",
      "[LightGBM] [Warning] min_data_in_leaf is set=100, min_child_samples=20 will be ignored. Current value: min_data_in_leaf=100\n",
      "[LightGBM] [Warning] bagging_freq is set=1, subsample_freq=0 will be ignored. Current value: bagging_freq=1\n",
      "[LightGBM] [Warning] min_gain_to_split is set=0.0, min_split_gain=0.0 will be ignored. Current value: min_gain_to_split=0.0\n",
      "[LightGBM] [Warning] lambda_l2 is set=10, reg_lambda=0.0 will be ignored. Current value: lambda_l2=10\n",
      "Training until validation scores don't improve for 20 rounds\n",
      "Early stopping, best iteration is:\n",
      "[23]\tvalid_0's auc: 0.853087\tvalid_0's binary_logloss: 0.485935\n"
     ]
    },
    {
     "name": "stderr",
     "output_type": "stream",
     "text": [
      "[I 2023-09-10 06:36:07,722] Trial 859 pruned. Trial was pruned at iteration 0.\n"
     ]
    },
    {
     "name": "stdout",
     "output_type": "stream",
     "text": [
      "[LightGBM] [Warning] lambda_l1 is set=0, reg_alpha=0.0 will be ignored. Current value: lambda_l1=0\n",
      "[LightGBM] [Warning] bagging_fraction is set=1.0, subsample=1.0 will be ignored. Current value: bagging_fraction=1.0\n",
      "[LightGBM] [Warning] feature_fraction is set=0.6000000000000001, colsample_bytree=1.0 will be ignored. Current value: feature_fraction=0.6000000000000001\n",
      "[LightGBM] [Warning] min_data_in_leaf is set=300, min_child_samples=20 will be ignored. Current value: min_data_in_leaf=300\n",
      "[LightGBM] [Warning] bagging_freq is set=1, subsample_freq=0 will be ignored. Current value: bagging_freq=1\n",
      "[LightGBM] [Warning] min_gain_to_split is set=0.0, min_split_gain=0.0 will be ignored. Current value: min_gain_to_split=0.0\n",
      "[LightGBM] [Warning] lambda_l2 is set=10, reg_lambda=0.0 will be ignored. Current value: lambda_l2=10\n"
     ]
    },
    {
     "name": "stderr",
     "output_type": "stream",
     "text": [
      "[I 2023-09-10 06:36:08,294] Trial 860 finished with value: 0.8530867792661619 and parameters: {'n_estimators': 1000, 'learning_rate': 0.45000000000000007, 'num_leaves': 800, 'max_depth': 10, 'min_data_in_leaf': 100, 'lambda_l1': 0, 'lambda_l2': 10, 'min_gain_to_split': 0.0, 'bagging_fraction': 1.0, 'bagging_freq': 1, 'feature_fraction': 0.6000000000000001}. Best is trial 800 with value: 0.8648806057076297.\n"
     ]
    },
    {
     "name": "stdout",
     "output_type": "stream",
     "text": [
      "Training until validation scores don't improve for 20 rounds\n",
      "Early stopping, best iteration is:\n",
      "[23]\tvalid_0's auc: 0.853087\tvalid_0's binary_logloss: 0.485935\n"
     ]
    },
    {
     "name": "stderr",
     "output_type": "stream",
     "text": [
      "[I 2023-09-10 06:36:08,668] Trial 861 pruned. Trial was pruned at iteration 5.\n"
     ]
    },
    {
     "name": "stdout",
     "output_type": "stream",
     "text": [
      "[LightGBM] [Warning] lambda_l1 is set=20, reg_alpha=0.0 will be ignored. Current value: lambda_l1=20\n",
      "[LightGBM] [Warning] bagging_fraction is set=1.0, subsample=1.0 will be ignored. Current value: bagging_fraction=1.0\n",
      "[LightGBM] [Warning] feature_fraction is set=0.6000000000000001, colsample_bytree=1.0 will be ignored. Current value: feature_fraction=0.6000000000000001\n",
      "[LightGBM] [Warning] min_data_in_leaf is set=100, min_child_samples=20 will be ignored. Current value: min_data_in_leaf=100\n",
      "[LightGBM] [Warning] bagging_freq is set=1, subsample_freq=0 will be ignored. Current value: bagging_freq=1\n",
      "[LightGBM] [Warning] min_gain_to_split is set=0.0, min_split_gain=0.0 will be ignored. Current value: min_gain_to_split=0.0\n",
      "[LightGBM] [Warning] lambda_l2 is set=10, reg_lambda=0.0 will be ignored. Current value: lambda_l2=10\n",
      "Training until validation scores don't improve for 20 rounds\n"
     ]
    },
    {
     "name": "stderr",
     "output_type": "stream",
     "text": [
      "[I 2023-09-10 06:36:09,027] Trial 862 pruned. Trial was pruned at iteration 2.\n"
     ]
    },
    {
     "name": "stdout",
     "output_type": "stream",
     "text": [
      "Training until validation scores don't improve for 20 rounds\n"
     ]
    },
    {
     "name": "stderr",
     "output_type": "stream",
     "text": [
      "[I 2023-09-10 06:36:09,476] Trial 863 finished with value: 0.8530867792661619 and parameters: {'n_estimators': 1000, 'learning_rate': 0.45000000000000007, 'num_leaves': 800, 'max_depth': 10, 'min_data_in_leaf': 100, 'lambda_l1': 0, 'lambda_l2': 10, 'min_gain_to_split': 0.0, 'bagging_fraction': 1.0, 'bagging_freq': 1, 'feature_fraction': 0.6000000000000001}. Best is trial 800 with value: 0.8648806057076297.\n"
     ]
    },
    {
     "name": "stdout",
     "output_type": "stream",
     "text": [
      "Training until validation scores don't improve for 20 rounds\n",
      "Early stopping, best iteration is:\n",
      "[23]\tvalid_0's auc: 0.853087\tvalid_0's binary_logloss: 0.485935\n",
      "[LightGBM] [Warning] lambda_l1 is set=0, reg_alpha=0.0 will be ignored. Current value: lambda_l1=0\n",
      "[LightGBM] [Warning] bagging_fraction is set=1.0, subsample=1.0 will be ignored. Current value: bagging_fraction=1.0\n",
      "[LightGBM] [Warning] feature_fraction is set=0.6000000000000001, colsample_bytree=1.0 will be ignored. Current value: feature_fraction=0.6000000000000001\n",
      "[LightGBM] [Warning] min_data_in_leaf is set=100, min_child_samples=20 will be ignored. Current value: min_data_in_leaf=100\n",
      "[LightGBM] [Warning] bagging_freq is set=1, subsample_freq=0 will be ignored. Current value: bagging_freq=1\n",
      "[LightGBM] [Warning] min_gain_to_split is set=0.0, min_split_gain=0.0 will be ignored. Current value: min_gain_to_split=0.0\n",
      "[LightGBM] [Warning] lambda_l2 is set=10, reg_lambda=0.0 will be ignored. Current value: lambda_l2=10\n",
      "Training until validation scores don't improve for 20 rounds\n"
     ]
    },
    {
     "name": "stderr",
     "output_type": "stream",
     "text": [
      "[I 2023-09-10 06:36:10,027] Trial 864 finished with value: 0.8530867792661619 and parameters: {'n_estimators': 1000, 'learning_rate': 0.45000000000000007, 'num_leaves': 800, 'max_depth': 10, 'min_data_in_leaf': 100, 'lambda_l1': 0, 'lambda_l2': 10, 'min_gain_to_split': 0.0, 'bagging_fraction': 1.0, 'bagging_freq': 1, 'feature_fraction': 0.6000000000000001}. Best is trial 800 with value: 0.8648806057076297.\n"
     ]
    },
    {
     "name": "stdout",
     "output_type": "stream",
     "text": [
      "Early stopping, best iteration is:\n",
      "[23]\tvalid_0's auc: 0.853087\tvalid_0's binary_logloss: 0.485935\n"
     ]
    },
    {
     "name": "stderr",
     "output_type": "stream",
     "text": [
      "[I 2023-09-10 06:36:10,476] Trial 865 finished with value: 0.8527955736750146 and parameters: {'n_estimators': 1000, 'learning_rate': 0.45000000000000007, 'num_leaves': 800, 'max_depth': 10, 'min_data_in_leaf': 100, 'lambda_l1': 0, 'lambda_l2': 10, 'min_gain_to_split': 0.0, 'bagging_fraction': 0.9000000000000001, 'bagging_freq': 1, 'feature_fraction': 0.6000000000000001}. Best is trial 800 with value: 0.8648806057076297.\n"
     ]
    },
    {
     "name": "stdout",
     "output_type": "stream",
     "text": [
      "[LightGBM] [Warning] lambda_l1 is set=0, reg_alpha=0.0 will be ignored. Current value: lambda_l1=0\n",
      "[LightGBM] [Warning] bagging_fraction is set=0.9000000000000001, subsample=1.0 will be ignored. Current value: bagging_fraction=0.9000000000000001\n",
      "[LightGBM] [Warning] feature_fraction is set=0.6000000000000001, colsample_bytree=1.0 will be ignored. Current value: feature_fraction=0.6000000000000001\n",
      "[LightGBM] [Warning] min_data_in_leaf is set=100, min_child_samples=20 will be ignored. Current value: min_data_in_leaf=100\n",
      "[LightGBM] [Warning] bagging_freq is set=1, subsample_freq=0 will be ignored. Current value: bagging_freq=1\n",
      "[LightGBM] [Warning] min_gain_to_split is set=0.0, min_split_gain=0.0 will be ignored. Current value: min_gain_to_split=0.0\n",
      "[LightGBM] [Warning] lambda_l2 is set=10, reg_lambda=0.0 will be ignored. Current value: lambda_l2=10\n",
      "Training until validation scores don't improve for 20 rounds\n",
      "Early stopping, best iteration is:\n",
      "[25]\tvalid_0's auc: 0.852796\tvalid_0's binary_logloss: 0.491847\n"
     ]
    },
    {
     "name": "stderr",
     "output_type": "stream",
     "text": [
      "[I 2023-09-10 06:36:10,876] Trial 866 pruned. Trial was pruned at iteration 29.\n"
     ]
    },
    {
     "name": "stdout",
     "output_type": "stream",
     "text": [
      "[LightGBM] [Warning] lambda_l1 is set=0, reg_alpha=0.0 will be ignored. Current value: lambda_l1=0\n",
      "[LightGBM] [Warning] bagging_fraction is set=1.0, subsample=1.0 will be ignored. Current value: bagging_fraction=1.0\n",
      "[LightGBM] [Warning] feature_fraction is set=0.6000000000000001, colsample_bytree=1.0 will be ignored. Current value: feature_fraction=0.6000000000000001\n",
      "[LightGBM] [Warning] min_data_in_leaf is set=100, min_child_samples=20 will be ignored. Current value: min_data_in_leaf=100\n",
      "[LightGBM] [Warning] bagging_freq is set=1, subsample_freq=0 will be ignored. Current value: bagging_freq=1\n",
      "[LightGBM] [Warning] min_gain_to_split is set=0.4, min_split_gain=0.0 will be ignored. Current value: min_gain_to_split=0.4\n",
      "[LightGBM] [Warning] lambda_l2 is set=10, reg_lambda=0.0 will be ignored. Current value: lambda_l2=10\n",
      "Training until validation scores don't improve for 20 rounds\n"
     ]
    },
    {
     "name": "stderr",
     "output_type": "stream",
     "text": [
      "[I 2023-09-10 06:36:11,325] Trial 867 finished with value: 0.8530867792661619 and parameters: {'n_estimators': 1000, 'learning_rate': 0.45000000000000007, 'num_leaves': 800, 'max_depth': 10, 'min_data_in_leaf': 100, 'lambda_l1': 0, 'lambda_l2': 10, 'min_gain_to_split': 0.0, 'bagging_fraction': 1.0, 'bagging_freq': 1, 'feature_fraction': 0.6000000000000001}. Best is trial 800 with value: 0.8648806057076297.\n"
     ]
    },
    {
     "name": "stdout",
     "output_type": "stream",
     "text": [
      "Training until validation scores don't improve for 20 rounds\n",
      "Early stopping, best iteration is:\n",
      "[23]\tvalid_0's auc: 0.853087\tvalid_0's binary_logloss: 0.485935\n"
     ]
    },
    {
     "name": "stderr",
     "output_type": "stream",
     "text": [
      "[I 2023-09-10 06:36:11,769] Trial 868 pruned. Trial was pruned at iteration 29.\n"
     ]
    },
    {
     "name": "stdout",
     "output_type": "stream",
     "text": [
      "[LightGBM] [Warning] lambda_l1 is set=0, reg_alpha=0.0 will be ignored. Current value: lambda_l1=0\n",
      "[LightGBM] [Warning] bagging_fraction is set=1.0, subsample=1.0 will be ignored. Current value: bagging_fraction=1.0\n",
      "[LightGBM] [Warning] feature_fraction is set=0.6000000000000001, colsample_bytree=1.0 will be ignored. Current value: feature_fraction=0.6000000000000001\n",
      "[LightGBM] [Warning] min_data_in_leaf is set=100, min_child_samples=20 will be ignored. Current value: min_data_in_leaf=100\n",
      "[LightGBM] [Warning] bagging_freq is set=1, subsample_freq=0 will be ignored. Current value: bagging_freq=1\n",
      "[LightGBM] [Warning] min_gain_to_split is set=0.30000000000000004, min_split_gain=0.0 will be ignored. Current value: min_gain_to_split=0.30000000000000004\n",
      "[LightGBM] [Warning] lambda_l2 is set=10, reg_lambda=0.0 will be ignored. Current value: lambda_l2=10\n",
      "Training until validation scores don't improve for 20 rounds\n"
     ]
    },
    {
     "name": "stderr",
     "output_type": "stream",
     "text": [
      "[I 2023-09-10 06:36:12,173] Trial 869 pruned. Trial was pruned at iteration 29.\n"
     ]
    },
    {
     "name": "stdout",
     "output_type": "stream",
     "text": [
      "Training until validation scores don't improve for 20 rounds\n"
     ]
    },
    {
     "name": "stderr",
     "output_type": "stream",
     "text": [
      "[I 2023-09-10 06:36:12,626] Trial 870 finished with value: 0.8530867792661619 and parameters: {'n_estimators': 1000, 'learning_rate': 0.45000000000000007, 'num_leaves': 820, 'max_depth': 10, 'min_data_in_leaf': 100, 'lambda_l1': 0, 'lambda_l2': 10, 'min_gain_to_split': 0.0, 'bagging_fraction': 1.0, 'bagging_freq': 1, 'feature_fraction': 0.6000000000000001}. Best is trial 800 with value: 0.8648806057076297.\n"
     ]
    },
    {
     "name": "stdout",
     "output_type": "stream",
     "text": [
      "Training until validation scores don't improve for 20 rounds\n",
      "Early stopping, best iteration is:\n",
      "[23]\tvalid_0's auc: 0.853087\tvalid_0's binary_logloss: 0.485935\n"
     ]
    },
    {
     "name": "stderr",
     "output_type": "stream",
     "text": [
      "[I 2023-09-10 06:36:13,003] Trial 871 pruned. Trial was pruned at iteration 0.\n"
     ]
    },
    {
     "name": "stdout",
     "output_type": "stream",
     "text": [
      "[LightGBM] [Warning] lambda_l1 is set=85, reg_alpha=0.0 will be ignored. Current value: lambda_l1=85\n",
      "[LightGBM] [Warning] bagging_fraction is set=1.0, subsample=1.0 will be ignored. Current value: bagging_fraction=1.0\n",
      "[LightGBM] [Warning] feature_fraction is set=0.6000000000000001, colsample_bytree=1.0 will be ignored. Current value: feature_fraction=0.6000000000000001\n",
      "[LightGBM] [Warning] min_data_in_leaf is set=100, min_child_samples=20 will be ignored. Current value: min_data_in_leaf=100\n",
      "[LightGBM] [Warning] bagging_freq is set=1, subsample_freq=0 will be ignored. Current value: bagging_freq=1\n",
      "[LightGBM] [Warning] min_gain_to_split is set=0.30000000000000004, min_split_gain=0.0 will be ignored. Current value: min_gain_to_split=0.30000000000000004\n",
      "[LightGBM] [Warning] lambda_l2 is set=10, reg_lambda=0.0 will be ignored. Current value: lambda_l2=10\n"
     ]
    },
    {
     "name": "stderr",
     "output_type": "stream",
     "text": [
      "[I 2023-09-10 06:36:13,471] Trial 872 pruned. Trial was pruned at iteration 29.\n"
     ]
    },
    {
     "name": "stdout",
     "output_type": "stream",
     "text": [
      "Training until validation scores don't improve for 20 rounds\n"
     ]
    },
    {
     "name": "stderr",
     "output_type": "stream",
     "text": [
      "[I 2023-09-10 06:36:13,879] Trial 873 pruned. Trial was pruned at iteration 29.\n"
     ]
    },
    {
     "name": "stdout",
     "output_type": "stream",
     "text": [
      "Training until validation scores don't improve for 20 rounds\n"
     ]
    },
    {
     "name": "stderr",
     "output_type": "stream",
     "text": [
      "[I 2023-09-10 06:36:14,288] Trial 874 pruned. Trial was pruned at iteration 0.\n",
      "[I 2023-09-10 06:36:14,858] Trial 875 pruned. Trial was pruned at iteration 29.\n"
     ]
    },
    {
     "name": "stdout",
     "output_type": "stream",
     "text": [
      "Training until validation scores don't improve for 20 rounds\n"
     ]
    },
    {
     "name": "stderr",
     "output_type": "stream",
     "text": [
      "[I 2023-09-10 06:36:15,322] Trial 876 pruned. Trial was pruned at iteration 29.\n"
     ]
    },
    {
     "name": "stdout",
     "output_type": "stream",
     "text": [
      "Training until validation scores don't improve for 20 rounds\n"
     ]
    },
    {
     "name": "stderr",
     "output_type": "stream",
     "text": [
      "[I 2023-09-10 06:36:15,801] Trial 877 finished with value: 0.8530867792661619 and parameters: {'n_estimators': 1000, 'learning_rate': 0.45000000000000007, 'num_leaves': 840, 'max_depth': 10, 'min_data_in_leaf': 100, 'lambda_l1': 0, 'lambda_l2': 10, 'min_gain_to_split': 0.0, 'bagging_fraction': 1.0, 'bagging_freq': 1, 'feature_fraction': 0.6000000000000001}. Best is trial 800 with value: 0.8648806057076297.\n"
     ]
    },
    {
     "name": "stdout",
     "output_type": "stream",
     "text": [
      "Training until validation scores don't improve for 20 rounds\n",
      "Early stopping, best iteration is:\n",
      "[23]\tvalid_0's auc: 0.853087\tvalid_0's binary_logloss: 0.485935\n"
     ]
    },
    {
     "name": "stderr",
     "output_type": "stream",
     "text": [
      "[I 2023-09-10 06:36:16,248] Trial 878 pruned. Trial was pruned at iteration 29.\n"
     ]
    },
    {
     "name": "stdout",
     "output_type": "stream",
     "text": [
      "[LightGBM] [Warning] lambda_l1 is set=0, reg_alpha=0.0 will be ignored. Current value: lambda_l1=0\n",
      "[LightGBM] [Warning] bagging_fraction is set=1.0, subsample=1.0 will be ignored. Current value: bagging_fraction=1.0\n",
      "[LightGBM] [Warning] feature_fraction is set=0.6000000000000001, colsample_bytree=1.0 will be ignored. Current value: feature_fraction=0.6000000000000001\n",
      "[LightGBM] [Warning] min_data_in_leaf is set=100, min_child_samples=20 will be ignored. Current value: min_data_in_leaf=100\n",
      "[LightGBM] [Warning] bagging_freq is set=1, subsample_freq=0 will be ignored. Current value: bagging_freq=1\n",
      "[LightGBM] [Warning] min_gain_to_split is set=0.30000000000000004, min_split_gain=0.0 will be ignored. Current value: min_gain_to_split=0.30000000000000004\n",
      "[LightGBM] [Warning] lambda_l2 is set=10, reg_lambda=0.0 will be ignored. Current value: lambda_l2=10\n",
      "Training until validation scores don't improve for 20 rounds\n"
     ]
    },
    {
     "name": "stderr",
     "output_type": "stream",
     "text": [
      "[I 2023-09-10 06:36:16,684] Trial 879 pruned. Trial was pruned at iteration 26.\n"
     ]
    },
    {
     "name": "stdout",
     "output_type": "stream",
     "text": [
      "Training until validation scores don't improve for 20 rounds\n"
     ]
    },
    {
     "name": "stderr",
     "output_type": "stream",
     "text": [
      "[I 2023-09-10 06:36:17,243] Trial 880 finished with value: 0.8530867792661619 and parameters: {'n_estimators': 1000, 'learning_rate': 0.45000000000000007, 'num_leaves': 800, 'max_depth': 9, 'min_data_in_leaf': 100, 'lambda_l1': 0, 'lambda_l2': 10, 'min_gain_to_split': 0.0, 'bagging_fraction': 1.0, 'bagging_freq': 1, 'feature_fraction': 0.6000000000000001}. Best is trial 800 with value: 0.8648806057076297.\n"
     ]
    },
    {
     "name": "stdout",
     "output_type": "stream",
     "text": [
      "Training until validation scores don't improve for 20 rounds\n",
      "Early stopping, best iteration is:\n",
      "[23]\tvalid_0's auc: 0.853087\tvalid_0's binary_logloss: 0.485935\n"
     ]
    },
    {
     "name": "stderr",
     "output_type": "stream",
     "text": [
      "[I 2023-09-10 06:36:17,704] Trial 881 pruned. Trial was pruned at iteration 29.\n"
     ]
    },
    {
     "name": "stdout",
     "output_type": "stream",
     "text": [
      "[LightGBM] [Warning] lambda_l1 is set=0, reg_alpha=0.0 will be ignored. Current value: lambda_l1=0\n",
      "[LightGBM] [Warning] bagging_fraction is set=1.0, subsample=1.0 will be ignored. Current value: bagging_fraction=1.0\n",
      "[LightGBM] [Warning] feature_fraction is set=0.6000000000000001, colsample_bytree=1.0 will be ignored. Current value: feature_fraction=0.6000000000000001\n",
      "[LightGBM] [Warning] min_data_in_leaf is set=100, min_child_samples=20 will be ignored. Current value: min_data_in_leaf=100\n",
      "[LightGBM] [Warning] bagging_freq is set=1, subsample_freq=0 will be ignored. Current value: bagging_freq=1\n",
      "[LightGBM] [Warning] min_gain_to_split is set=0.30000000000000004, min_split_gain=0.0 will be ignored. Current value: min_gain_to_split=0.30000000000000004\n",
      "[LightGBM] [Warning] lambda_l2 is set=10, reg_lambda=0.0 will be ignored. Current value: lambda_l2=10\n",
      "Training until validation scores don't improve for 20 rounds\n"
     ]
    },
    {
     "name": "stderr",
     "output_type": "stream",
     "text": [
      "[I 2023-09-10 06:36:18,105] Trial 882 pruned. Trial was pruned at iteration 28.\n"
     ]
    },
    {
     "name": "stdout",
     "output_type": "stream",
     "text": [
      "Training until validation scores don't improve for 20 rounds\n"
     ]
    },
    {
     "name": "stderr",
     "output_type": "stream",
     "text": [
      "[I 2023-09-10 06:36:18,552] Trial 883 finished with value: 0.8530867792661619 and parameters: {'n_estimators': 1000, 'learning_rate': 0.45000000000000007, 'num_leaves': 840, 'max_depth': 9, 'min_data_in_leaf': 100, 'lambda_l1': 0, 'lambda_l2': 10, 'min_gain_to_split': 0.0, 'bagging_fraction': 1.0, 'bagging_freq': 1, 'feature_fraction': 0.6000000000000001}. Best is trial 800 with value: 0.8648806057076297.\n"
     ]
    },
    {
     "name": "stdout",
     "output_type": "stream",
     "text": [
      "Training until validation scores don't improve for 20 rounds\n",
      "Early stopping, best iteration is:\n",
      "[23]\tvalid_0's auc: 0.853087\tvalid_0's binary_logloss: 0.485935\n"
     ]
    },
    {
     "name": "stderr",
     "output_type": "stream",
     "text": [
      "[I 2023-09-10 06:36:18,951] Trial 884 pruned. Trial was pruned at iteration 29.\n"
     ]
    },
    {
     "name": "stdout",
     "output_type": "stream",
     "text": [
      "[LightGBM] [Warning] lambda_l1 is set=0, reg_alpha=0.0 will be ignored. Current value: lambda_l1=0\n",
      "[LightGBM] [Warning] bagging_fraction is set=1.0, subsample=1.0 will be ignored. Current value: bagging_fraction=1.0\n",
      "[LightGBM] [Warning] feature_fraction is set=0.6000000000000001, colsample_bytree=1.0 will be ignored. Current value: feature_fraction=0.6000000000000001\n",
      "[LightGBM] [Warning] min_data_in_leaf is set=100, min_child_samples=20 will be ignored. Current value: min_data_in_leaf=100\n",
      "[LightGBM] [Warning] bagging_freq is set=1, subsample_freq=0 will be ignored. Current value: bagging_freq=1\n",
      "[LightGBM] [Warning] min_gain_to_split is set=0.30000000000000004, min_split_gain=0.0 will be ignored. Current value: min_gain_to_split=0.30000000000000004\n",
      "[LightGBM] [Warning] lambda_l2 is set=10, reg_lambda=0.0 will be ignored. Current value: lambda_l2=10\n",
      "Training until validation scores don't improve for 20 rounds\n"
     ]
    },
    {
     "name": "stderr",
     "output_type": "stream",
     "text": [
      "[I 2023-09-10 06:36:19,400] Trial 885 finished with value: 0.8530867792661619 and parameters: {'n_estimators': 1000, 'learning_rate': 0.45000000000000007, 'num_leaves': 780, 'max_depth': 9, 'min_data_in_leaf': 100, 'lambda_l1': 0, 'lambda_l2': 10, 'min_gain_to_split': 0.0, 'bagging_fraction': 1.0, 'bagging_freq': 1, 'feature_fraction': 0.6000000000000001}. Best is trial 800 with value: 0.8648806057076297.\n"
     ]
    },
    {
     "name": "stdout",
     "output_type": "stream",
     "text": [
      "Training until validation scores don't improve for 20 rounds\n",
      "Early stopping, best iteration is:\n",
      "[23]\tvalid_0's auc: 0.853087\tvalid_0's binary_logloss: 0.485935\n"
     ]
    },
    {
     "name": "stderr",
     "output_type": "stream",
     "text": [
      "[I 2023-09-10 06:36:19,778] Trial 886 pruned. Trial was pruned at iteration 0.\n"
     ]
    },
    {
     "name": "stdout",
     "output_type": "stream",
     "text": [
      "[LightGBM] [Warning] lambda_l1 is set=0, reg_alpha=0.0 will be ignored. Current value: lambda_l1=0\n",
      "[LightGBM] [Warning] bagging_fraction is set=0.6000000000000001, subsample=1.0 will be ignored. Current value: bagging_fraction=0.6000000000000001\n",
      "[LightGBM] [Warning] feature_fraction is set=0.6000000000000001, colsample_bytree=1.0 will be ignored. Current value: feature_fraction=0.6000000000000001\n",
      "[LightGBM] [Warning] min_data_in_leaf is set=100, min_child_samples=20 will be ignored. Current value: min_data_in_leaf=100\n",
      "[LightGBM] [Warning] bagging_freq is set=1, subsample_freq=0 will be ignored. Current value: bagging_freq=1\n",
      "[LightGBM] [Warning] min_gain_to_split is set=0.6000000000000001, min_split_gain=0.0 will be ignored. Current value: min_gain_to_split=0.6000000000000001\n",
      "[LightGBM] [Warning] lambda_l2 is set=10, reg_lambda=0.0 will be ignored. Current value: lambda_l2=10\n"
     ]
    },
    {
     "name": "stderr",
     "output_type": "stream",
     "text": [
      "[I 2023-09-10 06:36:20,268] Trial 887 pruned. Trial was pruned at iteration 29.\n"
     ]
    },
    {
     "name": "stdout",
     "output_type": "stream",
     "text": [
      "Training until validation scores don't improve for 20 rounds\n"
     ]
    },
    {
     "name": "stderr",
     "output_type": "stream",
     "text": [
      "[I 2023-09-10 06:36:20,607] Trial 888 pruned. Trial was pruned at iteration 0.\n"
     ]
    },
    {
     "name": "stdout",
     "output_type": "stream",
     "text": [
      "Training until validation scores don't improve for 20 rounds\n"
     ]
    },
    {
     "name": "stderr",
     "output_type": "stream",
     "text": [
      "[I 2023-09-10 06:36:21,274] Trial 889 finished with value: 0.8530867792661619 and parameters: {'n_estimators': 1000, 'learning_rate': 0.45000000000000007, 'num_leaves': 840, 'max_depth': 9, 'min_data_in_leaf': 100, 'lambda_l1': 0, 'lambda_l2': 10, 'min_gain_to_split': 0.0, 'bagging_fraction': 1.0, 'bagging_freq': 1, 'feature_fraction': 0.6000000000000001}. Best is trial 800 with value: 0.8648806057076297.\n"
     ]
    },
    {
     "name": "stdout",
     "output_type": "stream",
     "text": [
      "Early stopping, best iteration is:\n",
      "[23]\tvalid_0's auc: 0.853087\tvalid_0's binary_logloss: 0.485935\n"
     ]
    },
    {
     "name": "stderr",
     "output_type": "stream",
     "text": [
      "[I 2023-09-10 06:36:21,749] Trial 890 pruned. Trial was pruned at iteration 28.\n"
     ]
    },
    {
     "name": "stdout",
     "output_type": "stream",
     "text": [
      "[LightGBM] [Warning] lambda_l1 is set=0, reg_alpha=0.0 will be ignored. Current value: lambda_l1=0\n",
      "[LightGBM] [Warning] bagging_fraction is set=1.0, subsample=1.0 will be ignored. Current value: bagging_fraction=1.0\n",
      "[LightGBM] [Warning] feature_fraction is set=0.6000000000000001, colsample_bytree=1.0 will be ignored. Current value: feature_fraction=0.6000000000000001\n",
      "[LightGBM] [Warning] min_data_in_leaf is set=100, min_child_samples=20 will be ignored. Current value: min_data_in_leaf=100\n",
      "[LightGBM] [Warning] bagging_freq is set=1, subsample_freq=0 will be ignored. Current value: bagging_freq=1\n",
      "[LightGBM] [Warning] min_gain_to_split is set=0.6000000000000001, min_split_gain=0.0 will be ignored. Current value: min_gain_to_split=0.6000000000000001\n",
      "[LightGBM] [Warning] lambda_l2 is set=10, reg_lambda=0.0 will be ignored. Current value: lambda_l2=10\n",
      "Training until validation scores don't improve for 20 rounds\n"
     ]
    },
    {
     "name": "stderr",
     "output_type": "stream",
     "text": [
      "[I 2023-09-10 06:36:22,126] Trial 891 pruned. Trial was pruned at iteration 0.\n",
      "[I 2023-09-10 06:36:22,608] Trial 892 pruned. Trial was pruned at iteration 28.\n"
     ]
    },
    {
     "name": "stdout",
     "output_type": "stream",
     "text": [
      "Training until validation scores don't improve for 20 rounds\n"
     ]
    },
    {
     "name": "stderr",
     "output_type": "stream",
     "text": [
      "[I 2023-09-10 06:36:23,165] Trial 893 finished with value: 0.8530867792661619 and parameters: {'n_estimators': 1000, 'learning_rate': 0.45000000000000007, 'num_leaves': 780, 'max_depth': 9, 'min_data_in_leaf': 100, 'lambda_l1': 0, 'lambda_l2': 10, 'min_gain_to_split': 0.0, 'bagging_fraction': 1.0, 'bagging_freq': 1, 'feature_fraction': 0.6000000000000001}. Best is trial 800 with value: 0.8648806057076297.\n"
     ]
    },
    {
     "name": "stdout",
     "output_type": "stream",
     "text": [
      "Training until validation scores don't improve for 20 rounds\n",
      "Early stopping, best iteration is:\n",
      "[23]\tvalid_0's auc: 0.853087\tvalid_0's binary_logloss: 0.485935\n"
     ]
    },
    {
     "name": "stderr",
     "output_type": "stream",
     "text": [
      "[I 2023-09-10 06:36:23,671] Trial 894 pruned. Trial was pruned at iteration 29.\n"
     ]
    },
    {
     "name": "stdout",
     "output_type": "stream",
     "text": [
      "[LightGBM] [Warning] lambda_l1 is set=0, reg_alpha=0.0 will be ignored. Current value: lambda_l1=0\n",
      "[LightGBM] [Warning] bagging_fraction is set=1.0, subsample=1.0 will be ignored. Current value: bagging_fraction=1.0\n",
      "[LightGBM] [Warning] feature_fraction is set=0.6000000000000001, colsample_bytree=1.0 will be ignored. Current value: feature_fraction=0.6000000000000001\n",
      "[LightGBM] [Warning] min_data_in_leaf is set=100, min_child_samples=20 will be ignored. Current value: min_data_in_leaf=100\n",
      "[LightGBM] [Warning] bagging_freq is set=1, subsample_freq=0 will be ignored. Current value: bagging_freq=1\n",
      "[LightGBM] [Warning] min_gain_to_split is set=0.30000000000000004, min_split_gain=0.0 will be ignored. Current value: min_gain_to_split=0.30000000000000004\n",
      "[LightGBM] [Warning] lambda_l2 is set=10, reg_lambda=0.0 will be ignored. Current value: lambda_l2=10\n",
      "Training until validation scores don't improve for 20 rounds\n"
     ]
    },
    {
     "name": "stderr",
     "output_type": "stream",
     "text": [
      "[I 2023-09-10 06:36:24,237] Trial 895 finished with value: 0.8530867792661619 and parameters: {'n_estimators': 1000, 'learning_rate': 0.45000000000000007, 'num_leaves': 800, 'max_depth': 9, 'min_data_in_leaf': 100, 'lambda_l1': 0, 'lambda_l2': 10, 'min_gain_to_split': 0.0, 'bagging_fraction': 1.0, 'bagging_freq': 1, 'feature_fraction': 0.6000000000000001}. Best is trial 800 with value: 0.8648806057076297.\n"
     ]
    },
    {
     "name": "stdout",
     "output_type": "stream",
     "text": [
      "Training until validation scores don't improve for 20 rounds\n",
      "Early stopping, best iteration is:\n",
      "[23]\tvalid_0's auc: 0.853087\tvalid_0's binary_logloss: 0.485935\n"
     ]
    },
    {
     "name": "stderr",
     "output_type": "stream",
     "text": [
      "[I 2023-09-10 06:36:24,704] Trial 896 pruned. Trial was pruned at iteration 28.\n"
     ]
    },
    {
     "name": "stdout",
     "output_type": "stream",
     "text": [
      "[LightGBM] [Warning] lambda_l1 is set=0, reg_alpha=0.0 will be ignored. Current value: lambda_l1=0\n",
      "[LightGBM] [Warning] bagging_fraction is set=1.0, subsample=1.0 will be ignored. Current value: bagging_fraction=1.0\n",
      "[LightGBM] [Warning] feature_fraction is set=0.6000000000000001, colsample_bytree=1.0 will be ignored. Current value: feature_fraction=0.6000000000000001\n",
      "[LightGBM] [Warning] min_data_in_leaf is set=100, min_child_samples=20 will be ignored. Current value: min_data_in_leaf=100\n",
      "[LightGBM] [Warning] bagging_freq is set=1, subsample_freq=0 will be ignored. Current value: bagging_freq=1\n",
      "[LightGBM] [Warning] min_gain_to_split is set=0.5, min_split_gain=0.0 will be ignored. Current value: min_gain_to_split=0.5\n",
      "[LightGBM] [Warning] lambda_l2 is set=10, reg_lambda=0.0 will be ignored. Current value: lambda_l2=10\n",
      "Training until validation scores don't improve for 20 rounds\n"
     ]
    },
    {
     "name": "stderr",
     "output_type": "stream",
     "text": [
      "[I 2023-09-10 06:36:25,107] Trial 897 pruned. Trial was pruned at iteration 29.\n"
     ]
    },
    {
     "name": "stdout",
     "output_type": "stream",
     "text": [
      "Training until validation scores don't improve for 20 rounds\n"
     ]
    },
    {
     "name": "stderr",
     "output_type": "stream",
     "text": [
      "[I 2023-09-10 06:36:25,562] Trial 898 pruned. Trial was pruned at iteration 28.\n"
     ]
    },
    {
     "name": "stdout",
     "output_type": "stream",
     "text": [
      "Training until validation scores don't improve for 20 rounds\n"
     ]
    },
    {
     "name": "stderr",
     "output_type": "stream",
     "text": [
      "[I 2023-09-10 06:36:26,028] Trial 899 finished with value: 0.8530867792661619 and parameters: {'n_estimators': 1000, 'learning_rate': 0.45000000000000007, 'num_leaves': 820, 'max_depth': 9, 'min_data_in_leaf': 100, 'lambda_l1': 0, 'lambda_l2': 10, 'min_gain_to_split': 0.0, 'bagging_fraction': 1.0, 'bagging_freq': 1, 'feature_fraction': 0.6000000000000001}. Best is trial 800 with value: 0.8648806057076297.\n"
     ]
    },
    {
     "name": "stdout",
     "output_type": "stream",
     "text": [
      "Training until validation scores don't improve for 20 rounds\n",
      "Early stopping, best iteration is:\n",
      "[23]\tvalid_0's auc: 0.853087\tvalid_0's binary_logloss: 0.485935\n"
     ]
    },
    {
     "name": "stderr",
     "output_type": "stream",
     "text": [
      "[I 2023-09-10 06:36:26,432] Trial 900 pruned. Trial was pruned at iteration 29.\n"
     ]
    },
    {
     "name": "stdout",
     "output_type": "stream",
     "text": [
      "[LightGBM] [Warning] lambda_l1 is set=0, reg_alpha=0.0 will be ignored. Current value: lambda_l1=0\n",
      "[LightGBM] [Warning] bagging_fraction is set=0.9000000000000001, subsample=1.0 will be ignored. Current value: bagging_fraction=0.9000000000000001\n",
      "[LightGBM] [Warning] feature_fraction is set=0.6000000000000001, colsample_bytree=1.0 will be ignored. Current value: feature_fraction=0.6000000000000001\n",
      "[LightGBM] [Warning] min_data_in_leaf is set=100, min_child_samples=20 will be ignored. Current value: min_data_in_leaf=100\n",
      "[LightGBM] [Warning] bagging_freq is set=1, subsample_freq=0 will be ignored. Current value: bagging_freq=1\n",
      "[LightGBM] [Warning] min_gain_to_split is set=0.5, min_split_gain=0.0 will be ignored. Current value: min_gain_to_split=0.5\n",
      "[LightGBM] [Warning] lambda_l2 is set=10, reg_lambda=0.0 will be ignored. Current value: lambda_l2=10\n",
      "Training until validation scores don't improve for 20 rounds\n",
      "Training until validation scores don't improve for 20 rounds\n"
     ]
    },
    {
     "name": "stderr",
     "output_type": "stream",
     "text": [
      "[I 2023-09-10 06:36:27,145] Trial 901 pruned. Trial was pruned at iteration 29.\n",
      "[I 2023-09-10 06:36:27,604] Trial 902 finished with value: 0.8530867792661619 and parameters: {'n_estimators': 1000, 'learning_rate': 0.45000000000000007, 'num_leaves': 840, 'max_depth': 9, 'min_data_in_leaf': 100, 'lambda_l1': 0, 'lambda_l2': 10, 'min_gain_to_split': 0.0, 'bagging_fraction': 1.0, 'bagging_freq': 1, 'feature_fraction': 0.6000000000000001}. Best is trial 800 with value: 0.8648806057076297.\n"
     ]
    },
    {
     "name": "stdout",
     "output_type": "stream",
     "text": [
      "Training until validation scores don't improve for 20 rounds\n",
      "Early stopping, best iteration is:\n",
      "[23]\tvalid_0's auc: 0.853087\tvalid_0's binary_logloss: 0.485935\n"
     ]
    },
    {
     "name": "stderr",
     "output_type": "stream",
     "text": [
      "[I 2023-09-10 06:36:28,067] Trial 903 pruned. Trial was pruned at iteration 26.\n"
     ]
    },
    {
     "name": "stdout",
     "output_type": "stream",
     "text": [
      "[LightGBM] [Warning] lambda_l1 is set=0, reg_alpha=0.0 will be ignored. Current value: lambda_l1=0\n",
      "[LightGBM] [Warning] bagging_fraction is set=1.0, subsample=1.0 will be ignored. Current value: bagging_fraction=1.0\n",
      "[LightGBM] [Warning] feature_fraction is set=0.6000000000000001, colsample_bytree=1.0 will be ignored. Current value: feature_fraction=0.6000000000000001\n",
      "[LightGBM] [Warning] min_data_in_leaf is set=100, min_child_samples=20 will be ignored. Current value: min_data_in_leaf=100\n",
      "[LightGBM] [Warning] bagging_freq is set=1, subsample_freq=0 will be ignored. Current value: bagging_freq=1\n",
      "[LightGBM] [Warning] min_gain_to_split is set=0.7000000000000001, min_split_gain=0.0 will be ignored. Current value: min_gain_to_split=0.7000000000000001\n",
      "[LightGBM] [Warning] lambda_l2 is set=10, reg_lambda=0.0 will be ignored. Current value: lambda_l2=10\n",
      "Training until validation scores don't improve for 20 rounds\n"
     ]
    },
    {
     "name": "stderr",
     "output_type": "stream",
     "text": [
      "[I 2023-09-10 06:36:28,474] Trial 904 pruned. Trial was pruned at iteration 29.\n"
     ]
    },
    {
     "name": "stdout",
     "output_type": "stream",
     "text": [
      "Training until validation scores don't improve for 20 rounds\n"
     ]
    },
    {
     "name": "stderr",
     "output_type": "stream",
     "text": [
      "[I 2023-09-10 06:36:28,926] Trial 905 finished with value: 0.8530867792661619 and parameters: {'n_estimators': 1000, 'learning_rate': 0.45000000000000007, 'num_leaves': 780, 'max_depth': 9, 'min_data_in_leaf': 100, 'lambda_l1': 0, 'lambda_l2': 10, 'min_gain_to_split': 0.0, 'bagging_fraction': 1.0, 'bagging_freq': 1, 'feature_fraction': 0.6000000000000001}. Best is trial 800 with value: 0.8648806057076297.\n"
     ]
    },
    {
     "name": "stdout",
     "output_type": "stream",
     "text": [
      "Training until validation scores don't improve for 20 rounds\n",
      "Early stopping, best iteration is:\n",
      "[23]\tvalid_0's auc: 0.853087\tvalid_0's binary_logloss: 0.485935\n"
     ]
    },
    {
     "name": "stderr",
     "output_type": "stream",
     "text": [
      "[I 2023-09-10 06:36:29,348] Trial 906 pruned. Trial was pruned at iteration 28.\n"
     ]
    },
    {
     "name": "stdout",
     "output_type": "stream",
     "text": [
      "[LightGBM] [Warning] lambda_l1 is set=0, reg_alpha=0.0 will be ignored. Current value: lambda_l1=0\n",
      "[LightGBM] [Warning] bagging_fraction is set=1.0, subsample=1.0 will be ignored. Current value: bagging_fraction=1.0\n",
      "[LightGBM] [Warning] feature_fraction is set=0.6000000000000001, colsample_bytree=1.0 will be ignored. Current value: feature_fraction=0.6000000000000001\n",
      "[LightGBM] [Warning] min_data_in_leaf is set=100, min_child_samples=20 will be ignored. Current value: min_data_in_leaf=100\n",
      "[LightGBM] [Warning] bagging_freq is set=1, subsample_freq=0 will be ignored. Current value: bagging_freq=1\n",
      "[LightGBM] [Warning] min_gain_to_split is set=0.6000000000000001, min_split_gain=0.0 will be ignored. Current value: min_gain_to_split=0.6000000000000001\n",
      "[LightGBM] [Warning] lambda_l2 is set=10, reg_lambda=0.0 will be ignored. Current value: lambda_l2=10\n",
      "Training until validation scores don't improve for 20 rounds\n"
     ]
    },
    {
     "name": "stderr",
     "output_type": "stream",
     "text": [
      "[I 2023-09-10 06:36:29,806] Trial 907 pruned. Trial was pruned at iteration 29.\n"
     ]
    },
    {
     "name": "stdout",
     "output_type": "stream",
     "text": [
      "Training until validation scores don't improve for 20 rounds\n"
     ]
    },
    {
     "name": "stderr",
     "output_type": "stream",
     "text": [
      "[I 2023-09-10 06:36:30,298] Trial 908 finished with value: 0.8530867792661619 and parameters: {'n_estimators': 1000, 'learning_rate': 0.45000000000000007, 'num_leaves': 980, 'max_depth': 10, 'min_data_in_leaf': 100, 'lambda_l1': 0, 'lambda_l2': 10, 'min_gain_to_split': 0.0, 'bagging_fraction': 1.0, 'bagging_freq': 1, 'feature_fraction': 0.6000000000000001}. Best is trial 800 with value: 0.8648806057076297.\n"
     ]
    },
    {
     "name": "stdout",
     "output_type": "stream",
     "text": [
      "Training until validation scores don't improve for 20 rounds\n",
      "Early stopping, best iteration is:\n",
      "[23]\tvalid_0's auc: 0.853087\tvalid_0's binary_logloss: 0.485935\n"
     ]
    },
    {
     "name": "stderr",
     "output_type": "stream",
     "text": [
      "[I 2023-09-10 06:36:30,795] Trial 909 pruned. Trial was pruned at iteration 29.\n"
     ]
    },
    {
     "name": "stdout",
     "output_type": "stream",
     "text": [
      "[LightGBM] [Warning] lambda_l1 is set=0, reg_alpha=0.0 will be ignored. Current value: lambda_l1=0\n",
      "[LightGBM] [Warning] bagging_fraction is set=1.0, subsample=1.0 will be ignored. Current value: bagging_fraction=1.0\n",
      "[LightGBM] [Warning] feature_fraction is set=0.6000000000000001, colsample_bytree=1.0 will be ignored. Current value: feature_fraction=0.6000000000000001\n",
      "[LightGBM] [Warning] min_data_in_leaf is set=100, min_child_samples=20 will be ignored. Current value: min_data_in_leaf=100\n",
      "[LightGBM] [Warning] bagging_freq is set=1, subsample_freq=0 will be ignored. Current value: bagging_freq=1\n",
      "[LightGBM] [Warning] min_gain_to_split is set=0.30000000000000004, min_split_gain=0.0 will be ignored. Current value: min_gain_to_split=0.30000000000000004\n",
      "[LightGBM] [Warning] lambda_l2 is set=10, reg_lambda=0.0 will be ignored. Current value: lambda_l2=10\n",
      "Training until validation scores don't improve for 20 rounds\n"
     ]
    },
    {
     "name": "stderr",
     "output_type": "stream",
     "text": [
      "[I 2023-09-10 06:36:31,260] Trial 910 pruned. Trial was pruned at iteration 28.\n"
     ]
    },
    {
     "name": "stdout",
     "output_type": "stream",
     "text": [
      "Training until validation scores don't improve for 20 rounds\n"
     ]
    },
    {
     "name": "stderr",
     "output_type": "stream",
     "text": [
      "[I 2023-09-10 06:36:31,754] Trial 911 finished with value: 0.8530867792661619 and parameters: {'n_estimators': 1000, 'learning_rate': 0.45000000000000007, 'num_leaves': 860, 'max_depth': 9, 'min_data_in_leaf': 100, 'lambda_l1': 0, 'lambda_l2': 10, 'min_gain_to_split': 0.0, 'bagging_fraction': 1.0, 'bagging_freq': 1, 'feature_fraction': 0.6000000000000001}. Best is trial 800 with value: 0.8648806057076297.\n"
     ]
    },
    {
     "name": "stdout",
     "output_type": "stream",
     "text": [
      "Training until validation scores don't improve for 20 rounds\n",
      "Early stopping, best iteration is:\n",
      "[23]\tvalid_0's auc: 0.853087\tvalid_0's binary_logloss: 0.485935\n"
     ]
    },
    {
     "name": "stderr",
     "output_type": "stream",
     "text": [
      "[I 2023-09-10 06:36:32,132] Trial 912 pruned. Trial was pruned at iteration 0.\n"
     ]
    },
    {
     "name": "stdout",
     "output_type": "stream",
     "text": [
      "[LightGBM] [Warning] lambda_l1 is set=0, reg_alpha=0.0 will be ignored. Current value: lambda_l1=0\n",
      "[LightGBM] [Warning] bagging_fraction is set=0.4, subsample=1.0 will be ignored. Current value: bagging_fraction=0.4\n",
      "[LightGBM] [Warning] feature_fraction is set=0.6000000000000001, colsample_bytree=1.0 will be ignored. Current value: feature_fraction=0.6000000000000001\n",
      "[LightGBM] [Warning] min_data_in_leaf is set=100, min_child_samples=20 will be ignored. Current value: min_data_in_leaf=100\n",
      "[LightGBM] [Warning] bagging_freq is set=1, subsample_freq=0 will be ignored. Current value: bagging_freq=1\n",
      "[LightGBM] [Warning] min_gain_to_split is set=0.5, min_split_gain=0.0 will be ignored. Current value: min_gain_to_split=0.5\n",
      "[LightGBM] [Warning] lambda_l2 is set=10, reg_lambda=0.0 will be ignored. Current value: lambda_l2=10\n"
     ]
    },
    {
     "name": "stderr",
     "output_type": "stream",
     "text": [
      "[I 2023-09-10 06:36:32,540] Trial 913 pruned. Trial was pruned at iteration 29.\n"
     ]
    },
    {
     "name": "stdout",
     "output_type": "stream",
     "text": [
      "Training until validation scores don't improve for 20 rounds\n"
     ]
    },
    {
     "name": "stderr",
     "output_type": "stream",
     "text": [
      "[I 2023-09-10 06:36:32,955] Trial 914 pruned. Trial was pruned at iteration 29.\n"
     ]
    },
    {
     "name": "stdout",
     "output_type": "stream",
     "text": [
      "Training until validation scores don't improve for 20 rounds\n"
     ]
    },
    {
     "name": "stderr",
     "output_type": "stream",
     "text": [
      "[I 2023-09-10 06:36:33,363] Trial 915 pruned. Trial was pruned at iteration 5.\n"
     ]
    },
    {
     "name": "stdout",
     "output_type": "stream",
     "text": [
      "Training until validation scores don't improve for 20 rounds\n"
     ]
    },
    {
     "name": "stderr",
     "output_type": "stream",
     "text": [
      "[I 2023-09-10 06:36:33,819] Trial 916 pruned. Trial was pruned at iteration 25.\n"
     ]
    },
    {
     "name": "stdout",
     "output_type": "stream",
     "text": [
      "Training until validation scores don't improve for 20 rounds\n"
     ]
    },
    {
     "name": "stderr",
     "output_type": "stream",
     "text": [
      "[I 2023-09-10 06:36:34,253] Trial 917 pruned. Trial was pruned at iteration 29.\n"
     ]
    },
    {
     "name": "stdout",
     "output_type": "stream",
     "text": [
      "Training until validation scores don't improve for 20 rounds\n"
     ]
    },
    {
     "name": "stderr",
     "output_type": "stream",
     "text": [
      "[I 2023-09-10 06:36:34,644] Trial 918 pruned. Trial was pruned at iteration 0.\n",
      "[I 2023-09-10 06:36:35,020] Trial 919 pruned. Trial was pruned at iteration 2.\n"
     ]
    },
    {
     "name": "stdout",
     "output_type": "stream",
     "text": [
      "Training until validation scores don't improve for 20 rounds\n"
     ]
    },
    {
     "name": "stderr",
     "output_type": "stream",
     "text": [
      "[I 2023-09-10 06:36:35,422] Trial 920 pruned. Trial was pruned at iteration 25.\n"
     ]
    },
    {
     "name": "stdout",
     "output_type": "stream",
     "text": [
      "Training until validation scores don't improve for 20 rounds\n"
     ]
    },
    {
     "name": "stderr",
     "output_type": "stream",
     "text": [
      "[I 2023-09-10 06:36:35,876] Trial 921 finished with value: 0.8530867792661619 and parameters: {'n_estimators': 1000, 'learning_rate': 0.45000000000000007, 'num_leaves': 860, 'max_depth': 9, 'min_data_in_leaf': 100, 'lambda_l1': 0, 'lambda_l2': 10, 'min_gain_to_split': 0.0, 'bagging_fraction': 1.0, 'bagging_freq': 1, 'feature_fraction': 0.6000000000000001}. Best is trial 800 with value: 0.8648806057076297.\n"
     ]
    },
    {
     "name": "stdout",
     "output_type": "stream",
     "text": [
      "Training until validation scores don't improve for 20 rounds\n",
      "Early stopping, best iteration is:\n",
      "[23]\tvalid_0's auc: 0.853087\tvalid_0's binary_logloss: 0.485935\n"
     ]
    },
    {
     "name": "stderr",
     "output_type": "stream",
     "text": [
      "[I 2023-09-10 06:36:36,249] Trial 922 pruned. Trial was pruned at iteration 5.\n"
     ]
    },
    {
     "name": "stdout",
     "output_type": "stream",
     "text": [
      "[LightGBM] [Warning] lambda_l1 is set=5, reg_alpha=0.0 will be ignored. Current value: lambda_l1=5\n",
      "[LightGBM] [Warning] bagging_fraction is set=0.9000000000000001, subsample=1.0 will be ignored. Current value: bagging_fraction=0.9000000000000001\n",
      "[LightGBM] [Warning] feature_fraction is set=0.6000000000000001, colsample_bytree=1.0 will be ignored. Current value: feature_fraction=0.6000000000000001\n",
      "[LightGBM] [Warning] min_data_in_leaf is set=100, min_child_samples=20 will be ignored. Current value: min_data_in_leaf=100\n",
      "[LightGBM] [Warning] bagging_freq is set=1, subsample_freq=0 will be ignored. Current value: bagging_freq=1\n",
      "[LightGBM] [Warning] min_gain_to_split is set=0.2, min_split_gain=0.0 will be ignored. Current value: min_gain_to_split=0.2\n",
      "[LightGBM] [Warning] lambda_l2 is set=10, reg_lambda=0.0 will be ignored. Current value: lambda_l2=10\n",
      "Training until validation scores don't improve for 20 rounds\n"
     ]
    },
    {
     "name": "stderr",
     "output_type": "stream",
     "text": [
      "[I 2023-09-10 06:36:36,654] Trial 923 pruned. Trial was pruned at iteration 27.\n"
     ]
    },
    {
     "name": "stdout",
     "output_type": "stream",
     "text": [
      "Training until validation scores don't improve for 20 rounds\n"
     ]
    },
    {
     "name": "stderr",
     "output_type": "stream",
     "text": [
      "[I 2023-09-10 06:36:37,066] Trial 924 pruned. Trial was pruned at iteration 26.\n"
     ]
    },
    {
     "name": "stdout",
     "output_type": "stream",
     "text": [
      "Training until validation scores don't improve for 20 rounds\n"
     ]
    },
    {
     "name": "stderr",
     "output_type": "stream",
     "text": [
      "[I 2023-09-10 06:36:37,520] Trial 925 finished with value: 0.8530867792661619 and parameters: {'n_estimators': 1000, 'learning_rate': 0.45000000000000007, 'num_leaves': 800, 'max_depth': 9, 'min_data_in_leaf': 100, 'lambda_l1': 0, 'lambda_l2': 10, 'min_gain_to_split': 0.0, 'bagging_fraction': 1.0, 'bagging_freq': 1, 'feature_fraction': 0.6000000000000001}. Best is trial 800 with value: 0.8648806057076297.\n"
     ]
    },
    {
     "name": "stdout",
     "output_type": "stream",
     "text": [
      "Training until validation scores don't improve for 20 rounds\n",
      "Early stopping, best iteration is:\n",
      "[23]\tvalid_0's auc: 0.853087\tvalid_0's binary_logloss: 0.485935\n"
     ]
    },
    {
     "name": "stderr",
     "output_type": "stream",
     "text": [
      "[I 2023-09-10 06:36:37,918] Trial 926 pruned. Trial was pruned at iteration 25.\n"
     ]
    },
    {
     "name": "stdout",
     "output_type": "stream",
     "text": [
      "[LightGBM] [Warning] lambda_l1 is set=5, reg_alpha=0.0 will be ignored. Current value: lambda_l1=5\n",
      "[LightGBM] [Warning] bagging_fraction is set=1.0, subsample=1.0 will be ignored. Current value: bagging_fraction=1.0\n",
      "[LightGBM] [Warning] feature_fraction is set=0.6000000000000001, colsample_bytree=1.0 will be ignored. Current value: feature_fraction=0.6000000000000001\n",
      "[LightGBM] [Warning] min_data_in_leaf is set=100, min_child_samples=20 will be ignored. Current value: min_data_in_leaf=100\n",
      "[LightGBM] [Warning] bagging_freq is set=1, subsample_freq=0 will be ignored. Current value: bagging_freq=1\n",
      "[LightGBM] [Warning] min_gain_to_split is set=0.5, min_split_gain=0.0 will be ignored. Current value: min_gain_to_split=0.5\n",
      "[LightGBM] [Warning] lambda_l2 is set=10, reg_lambda=0.0 will be ignored. Current value: lambda_l2=10\n",
      "Training until validation scores don't improve for 20 rounds\n"
     ]
    },
    {
     "name": "stderr",
     "output_type": "stream",
     "text": [
      "[I 2023-09-10 06:36:38,292] Trial 927 pruned. Trial was pruned at iteration 5.\n"
     ]
    },
    {
     "name": "stdout",
     "output_type": "stream",
     "text": [
      "Training until validation scores don't improve for 20 rounds\n"
     ]
    },
    {
     "name": "stderr",
     "output_type": "stream",
     "text": [
      "[I 2023-09-10 06:36:38,708] Trial 928 pruned. Trial was pruned at iteration 29.\n"
     ]
    },
    {
     "name": "stdout",
     "output_type": "stream",
     "text": [
      "Training until validation scores don't improve for 20 rounds\n"
     ]
    },
    {
     "name": "stderr",
     "output_type": "stream",
     "text": [
      "[I 2023-09-10 06:36:39,108] Trial 929 pruned. Trial was pruned at iteration 25.\n"
     ]
    },
    {
     "name": "stdout",
     "output_type": "stream",
     "text": [
      "Training until validation scores don't improve for 20 rounds\n"
     ]
    },
    {
     "name": "stderr",
     "output_type": "stream",
     "text": [
      "[I 2023-09-10 06:36:39,603] Trial 930 pruned. Trial was pruned at iteration 29.\n"
     ]
    },
    {
     "name": "stdout",
     "output_type": "stream",
     "text": [
      "Training until validation scores don't improve for 20 rounds\n"
     ]
    },
    {
     "name": "stderr",
     "output_type": "stream",
     "text": [
      "[I 2023-09-10 06:36:40,213] Trial 931 pruned. Trial was pruned at iteration 29.\n"
     ]
    },
    {
     "name": "stdout",
     "output_type": "stream",
     "text": [
      "Training until validation scores don't improve for 20 rounds\n"
     ]
    },
    {
     "name": "stderr",
     "output_type": "stream",
     "text": [
      "[I 2023-09-10 06:36:40,663] Trial 932 pruned. Trial was pruned at iteration 25.\n"
     ]
    },
    {
     "name": "stdout",
     "output_type": "stream",
     "text": [
      "Training until validation scores don't improve for 20 rounds\n"
     ]
    },
    {
     "name": "stderr",
     "output_type": "stream",
     "text": [
      "[I 2023-09-10 06:36:41,061] Trial 933 pruned. Trial was pruned at iteration 29.\n"
     ]
    },
    {
     "name": "stdout",
     "output_type": "stream",
     "text": [
      "Training until validation scores don't improve for 20 rounds\n"
     ]
    },
    {
     "name": "stderr",
     "output_type": "stream",
     "text": [
      "[I 2023-09-10 06:36:41,537] Trial 934 pruned. Trial was pruned at iteration 26.\n"
     ]
    },
    {
     "name": "stdout",
     "output_type": "stream",
     "text": [
      "Training until validation scores don't improve for 20 rounds\n"
     ]
    },
    {
     "name": "stderr",
     "output_type": "stream",
     "text": [
      "[I 2023-09-10 06:36:42,024] Trial 935 pruned. Trial was pruned at iteration 26.\n"
     ]
    },
    {
     "name": "stdout",
     "output_type": "stream",
     "text": [
      "Training until validation scores don't improve for 20 rounds\n"
     ]
    },
    {
     "name": "stderr",
     "output_type": "stream",
     "text": [
      "[I 2023-09-10 06:36:42,433] Trial 936 pruned. Trial was pruned at iteration 27.\n"
     ]
    },
    {
     "name": "stdout",
     "output_type": "stream",
     "text": [
      "Training until validation scores don't improve for 20 rounds\n"
     ]
    },
    {
     "name": "stderr",
     "output_type": "stream",
     "text": [
      "[I 2023-09-10 06:36:42,965] Trial 937 pruned. Trial was pruned at iteration 25.\n"
     ]
    },
    {
     "name": "stdout",
     "output_type": "stream",
     "text": [
      "Training until validation scores don't improve for 20 rounds\n"
     ]
    },
    {
     "name": "stderr",
     "output_type": "stream",
     "text": [
      "[I 2023-09-10 06:36:43,447] Trial 938 pruned. Trial was pruned at iteration 26.\n"
     ]
    },
    {
     "name": "stdout",
     "output_type": "stream",
     "text": [
      "Training until validation scores don't improve for 20 rounds\n"
     ]
    },
    {
     "name": "stderr",
     "output_type": "stream",
     "text": [
      "[I 2023-09-10 06:36:43,927] Trial 939 pruned. Trial was pruned at iteration 29.\n"
     ]
    },
    {
     "name": "stdout",
     "output_type": "stream",
     "text": [
      "Training until validation scores don't improve for 20 rounds\n"
     ]
    },
    {
     "name": "stderr",
     "output_type": "stream",
     "text": [
      "[I 2023-09-10 06:36:44,357] Trial 940 pruned. Trial was pruned at iteration 25.\n"
     ]
    },
    {
     "name": "stdout",
     "output_type": "stream",
     "text": [
      "Training until validation scores don't improve for 20 rounds\n"
     ]
    },
    {
     "name": "stderr",
     "output_type": "stream",
     "text": [
      "[I 2023-09-10 06:36:44,736] Trial 941 pruned. Trial was pruned at iteration 5.\n"
     ]
    },
    {
     "name": "stdout",
     "output_type": "stream",
     "text": [
      "Training until validation scores don't improve for 20 rounds\n"
     ]
    },
    {
     "name": "stderr",
     "output_type": "stream",
     "text": [
      "[I 2023-09-10 06:36:45,147] Trial 942 pruned. Trial was pruned at iteration 27.\n"
     ]
    },
    {
     "name": "stdout",
     "output_type": "stream",
     "text": [
      "Training until validation scores don't improve for 20 rounds\n"
     ]
    },
    {
     "name": "stderr",
     "output_type": "stream",
     "text": [
      "[I 2023-09-10 06:36:45,558] Trial 943 pruned. Trial was pruned at iteration 29.\n"
     ]
    },
    {
     "name": "stdout",
     "output_type": "stream",
     "text": [
      "Training until validation scores don't improve for 20 rounds\n"
     ]
    },
    {
     "name": "stderr",
     "output_type": "stream",
     "text": [
      "[I 2023-09-10 06:36:45,942] Trial 944 pruned. Trial was pruned at iteration 2.\n"
     ]
    },
    {
     "name": "stdout",
     "output_type": "stream",
     "text": [
      "Training until validation scores don't improve for 20 rounds\n"
     ]
    },
    {
     "name": "stderr",
     "output_type": "stream",
     "text": [
      "[I 2023-09-10 06:36:46,400] Trial 945 finished with value: 0.8530867792661619 and parameters: {'n_estimators': 1000, 'learning_rate': 0.45000000000000007, 'num_leaves': 860, 'max_depth': 9, 'min_data_in_leaf': 100, 'lambda_l1': 0, 'lambda_l2': 10, 'min_gain_to_split': 0.0, 'bagging_fraction': 1.0, 'bagging_freq': 1, 'feature_fraction': 0.6000000000000001}. Best is trial 800 with value: 0.8648806057076297.\n"
     ]
    },
    {
     "name": "stdout",
     "output_type": "stream",
     "text": [
      "Training until validation scores don't improve for 20 rounds\n",
      "Early stopping, best iteration is:\n",
      "[23]\tvalid_0's auc: 0.853087\tvalid_0's binary_logloss: 0.485935\n"
     ]
    },
    {
     "name": "stderr",
     "output_type": "stream",
     "text": [
      "[I 2023-09-10 06:36:46,834] Trial 946 pruned. Trial was pruned at iteration 29.\n"
     ]
    },
    {
     "name": "stdout",
     "output_type": "stream",
     "text": [
      "[LightGBM] [Warning] lambda_l1 is set=0, reg_alpha=0.0 will be ignored. Current value: lambda_l1=0\n",
      "[LightGBM] [Warning] bagging_fraction is set=1.0, subsample=1.0 will be ignored. Current value: bagging_fraction=1.0\n",
      "[LightGBM] [Warning] feature_fraction is set=0.6000000000000001, colsample_bytree=1.0 will be ignored. Current value: feature_fraction=0.6000000000000001\n",
      "[LightGBM] [Warning] min_data_in_leaf is set=100, min_child_samples=20 will be ignored. Current value: min_data_in_leaf=100\n",
      "[LightGBM] [Warning] bagging_freq is set=1, subsample_freq=0 will be ignored. Current value: bagging_freq=1\n",
      "[LightGBM] [Warning] min_gain_to_split is set=0.30000000000000004, min_split_gain=0.0 will be ignored. Current value: min_gain_to_split=0.30000000000000004\n",
      "[LightGBM] [Warning] lambda_l2 is set=10, reg_lambda=0.0 will be ignored. Current value: lambda_l2=10\n",
      "Training until validation scores don't improve for 20 rounds\n"
     ]
    },
    {
     "name": "stderr",
     "output_type": "stream",
     "text": [
      "[I 2023-09-10 06:36:47,285] Trial 947 pruned. Trial was pruned at iteration 5.\n"
     ]
    },
    {
     "name": "stdout",
     "output_type": "stream",
     "text": [
      "Training until validation scores don't improve for 20 rounds\n"
     ]
    },
    {
     "name": "stderr",
     "output_type": "stream",
     "text": [
      "[I 2023-09-10 06:36:47,755] Trial 948 pruned. Trial was pruned at iteration 26.\n"
     ]
    },
    {
     "name": "stdout",
     "output_type": "stream",
     "text": [
      "Training until validation scores don't improve for 20 rounds\n"
     ]
    },
    {
     "name": "stderr",
     "output_type": "stream",
     "text": [
      "[I 2023-09-10 06:36:48,124] Trial 949 pruned. Trial was pruned at iteration 0.\n",
      "[I 2023-09-10 06:36:48,649] Trial 950 pruned. Trial was pruned at iteration 26.\n"
     ]
    },
    {
     "name": "stdout",
     "output_type": "stream",
     "text": [
      "Training until validation scores don't improve for 20 rounds\n"
     ]
    },
    {
     "name": "stderr",
     "output_type": "stream",
     "text": [
      "[I 2023-09-10 06:36:49,047] Trial 951 pruned. Trial was pruned at iteration 0.\n",
      "[I 2023-09-10 06:36:49,515] Trial 952 finished with value: 0.8530867792661619 and parameters: {'n_estimators': 1000, 'learning_rate': 0.45000000000000007, 'num_leaves': 840, 'max_depth': 11, 'min_data_in_leaf': 100, 'lambda_l1': 0, 'lambda_l2': 10, 'min_gain_to_split': 0.0, 'bagging_fraction': 1.0, 'bagging_freq': 1, 'feature_fraction': 0.6000000000000001}. Best is trial 800 with value: 0.8648806057076297.\n"
     ]
    },
    {
     "name": "stdout",
     "output_type": "stream",
     "text": [
      "Training until validation scores don't improve for 20 rounds\n",
      "Early stopping, best iteration is:\n",
      "[23]\tvalid_0's auc: 0.853087\tvalid_0's binary_logloss: 0.485935\n"
     ]
    },
    {
     "name": "stderr",
     "output_type": "stream",
     "text": [
      "[I 2023-09-10 06:36:49,894] Trial 953 pruned. Trial was pruned at iteration 4.\n"
     ]
    },
    {
     "name": "stdout",
     "output_type": "stream",
     "text": [
      "[LightGBM] [Warning] lambda_l1 is set=5, reg_alpha=0.0 will be ignored. Current value: lambda_l1=5\n",
      "[LightGBM] [Warning] bagging_fraction is set=1.0, subsample=1.0 will be ignored. Current value: bagging_fraction=1.0\n",
      "[LightGBM] [Warning] feature_fraction is set=0.4, colsample_bytree=1.0 will be ignored. Current value: feature_fraction=0.4\n",
      "[LightGBM] [Warning] min_data_in_leaf is set=100, min_child_samples=20 will be ignored. Current value: min_data_in_leaf=100\n",
      "[LightGBM] [Warning] bagging_freq is set=1, subsample_freq=0 will be ignored. Current value: bagging_freq=1\n",
      "[LightGBM] [Warning] min_gain_to_split is set=0.30000000000000004, min_split_gain=0.0 will be ignored. Current value: min_gain_to_split=0.30000000000000004\n",
      "[LightGBM] [Warning] lambda_l2 is set=30, reg_lambda=0.0 will be ignored. Current value: lambda_l2=30\n",
      "Training until validation scores don't improve for 20 rounds\n"
     ]
    },
    {
     "name": "stderr",
     "output_type": "stream",
     "text": [
      "[I 2023-09-10 06:36:50,321] Trial 954 pruned. Trial was pruned at iteration 29.\n"
     ]
    },
    {
     "name": "stdout",
     "output_type": "stream",
     "text": [
      "Training until validation scores don't improve for 20 rounds\n"
     ]
    },
    {
     "name": "stderr",
     "output_type": "stream",
     "text": [
      "[I 2023-09-10 06:36:50,732] Trial 955 pruned. Trial was pruned at iteration 26.\n"
     ]
    },
    {
     "name": "stdout",
     "output_type": "stream",
     "text": [
      "Training until validation scores don't improve for 20 rounds\n"
     ]
    },
    {
     "name": "stderr",
     "output_type": "stream",
     "text": [
      "[I 2023-09-10 06:36:51,187] Trial 956 pruned. Trial was pruned at iteration 25.\n"
     ]
    },
    {
     "name": "stdout",
     "output_type": "stream",
     "text": [
      "Training until validation scores don't improve for 20 rounds\n"
     ]
    },
    {
     "name": "stderr",
     "output_type": "stream",
     "text": [
      "[I 2023-09-10 06:36:51,563] Trial 957 pruned. Trial was pruned at iteration 0.\n",
      "[I 2023-09-10 06:36:52,094] Trial 958 pruned. Trial was pruned at iteration 26.\n"
     ]
    },
    {
     "name": "stdout",
     "output_type": "stream",
     "text": [
      "Training until validation scores don't improve for 20 rounds\n"
     ]
    },
    {
     "name": "stderr",
     "output_type": "stream",
     "text": [
      "[I 2023-09-10 06:36:52,504] Trial 959 pruned. Trial was pruned at iteration 27.\n"
     ]
    },
    {
     "name": "stdout",
     "output_type": "stream",
     "text": [
      "Training until validation scores don't improve for 20 rounds\n"
     ]
    },
    {
     "name": "stderr",
     "output_type": "stream",
     "text": [
      "[I 2023-09-10 06:36:52,925] Trial 960 pruned. Trial was pruned at iteration 5.\n"
     ]
    },
    {
     "name": "stdout",
     "output_type": "stream",
     "text": [
      "Training until validation scores don't improve for 20 rounds\n"
     ]
    },
    {
     "name": "stderr",
     "output_type": "stream",
     "text": [
      "[I 2023-09-10 06:36:53,338] Trial 961 pruned. Trial was pruned at iteration 27.\n"
     ]
    },
    {
     "name": "stdout",
     "output_type": "stream",
     "text": [
      "Training until validation scores don't improve for 20 rounds\n"
     ]
    },
    {
     "name": "stderr",
     "output_type": "stream",
     "text": [
      "[I 2023-09-10 06:36:53,723] Trial 962 pruned. Trial was pruned at iteration 5.\n"
     ]
    },
    {
     "name": "stdout",
     "output_type": "stream",
     "text": [
      "Training until validation scores don't improve for 20 rounds\n"
     ]
    },
    {
     "name": "stderr",
     "output_type": "stream",
     "text": [
      "[I 2023-09-10 06:36:54,213] Trial 963 pruned. Trial was pruned at iteration 29.\n"
     ]
    },
    {
     "name": "stdout",
     "output_type": "stream",
     "text": [
      "Training until validation scores don't improve for 20 rounds\n"
     ]
    },
    {
     "name": "stderr",
     "output_type": "stream",
     "text": [
      "[I 2023-09-10 06:36:54,686] Trial 964 pruned. Trial was pruned at iteration 25.\n"
     ]
    },
    {
     "name": "stdout",
     "output_type": "stream",
     "text": [
      "Training until validation scores don't improve for 20 rounds\n"
     ]
    },
    {
     "name": "stderr",
     "output_type": "stream",
     "text": [
      "[I 2023-09-10 06:36:55,105] Trial 965 pruned. Trial was pruned at iteration 29.\n"
     ]
    },
    {
     "name": "stdout",
     "output_type": "stream",
     "text": [
      "Training until validation scores don't improve for 20 rounds\n"
     ]
    },
    {
     "name": "stderr",
     "output_type": "stream",
     "text": [
      "[I 2023-09-10 06:36:55,778] Trial 966 pruned. Trial was pruned at iteration 26.\n"
     ]
    },
    {
     "name": "stdout",
     "output_type": "stream",
     "text": [
      "Training until validation scores don't improve for 20 rounds\n"
     ]
    },
    {
     "name": "stderr",
     "output_type": "stream",
     "text": [
      "[I 2023-09-10 06:36:56,206] Trial 967 pruned. Trial was pruned at iteration 26.\n"
     ]
    },
    {
     "name": "stdout",
     "output_type": "stream",
     "text": [
      "Training until validation scores don't improve for 20 rounds\n"
     ]
    },
    {
     "name": "stderr",
     "output_type": "stream",
     "text": [
      "[I 2023-09-10 06:36:56,589] Trial 968 pruned. Trial was pruned at iteration 5.\n"
     ]
    },
    {
     "name": "stdout",
     "output_type": "stream",
     "text": [
      "Training until validation scores don't improve for 20 rounds\n"
     ]
    },
    {
     "name": "stderr",
     "output_type": "stream",
     "text": [
      "[I 2023-09-10 06:36:57,060] Trial 969 pruned. Trial was pruned at iteration 25.\n"
     ]
    },
    {
     "name": "stdout",
     "output_type": "stream",
     "text": [
      "Training until validation scores don't improve for 20 rounds\n"
     ]
    },
    {
     "name": "stderr",
     "output_type": "stream",
     "text": [
      "[I 2023-09-10 06:36:57,474] Trial 970 pruned. Trial was pruned at iteration 26.\n"
     ]
    },
    {
     "name": "stdout",
     "output_type": "stream",
     "text": [
      "Training until validation scores don't improve for 20 rounds\n"
     ]
    },
    {
     "name": "stderr",
     "output_type": "stream",
     "text": [
      "[I 2023-09-10 06:36:57,905] Trial 971 pruned. Trial was pruned at iteration 29.\n"
     ]
    },
    {
     "name": "stdout",
     "output_type": "stream",
     "text": [
      "Training until validation scores don't improve for 20 rounds\n"
     ]
    },
    {
     "name": "stderr",
     "output_type": "stream",
     "text": [
      "[I 2023-09-10 06:36:58,307] Trial 972 pruned. Trial was pruned at iteration 0.\n",
      "[I 2023-09-10 06:36:58,815] Trial 973 pruned. Trial was pruned at iteration 26.\n"
     ]
    },
    {
     "name": "stdout",
     "output_type": "stream",
     "text": [
      "Training until validation scores don't improve for 20 rounds\n"
     ]
    },
    {
     "name": "stderr",
     "output_type": "stream",
     "text": [
      "[I 2023-09-10 06:36:59,192] Trial 974 pruned. Trial was pruned at iteration 0.\n",
      "[I 2023-09-10 06:36:59,683] Trial 975 pruned. Trial was pruned at iteration 26.\n"
     ]
    },
    {
     "name": "stdout",
     "output_type": "stream",
     "text": [
      "Training until validation scores don't improve for 20 rounds\n"
     ]
    },
    {
     "name": "stderr",
     "output_type": "stream",
     "text": [
      "[I 2023-09-10 06:37:00,097] Trial 976 pruned. Trial was pruned at iteration 5.\n"
     ]
    },
    {
     "name": "stdout",
     "output_type": "stream",
     "text": [
      "Training until validation scores don't improve for 20 rounds\n"
     ]
    },
    {
     "name": "stderr",
     "output_type": "stream",
     "text": [
      "[I 2023-09-10 06:37:00,495] Trial 977 pruned. Trial was pruned at iteration 5.\n"
     ]
    },
    {
     "name": "stdout",
     "output_type": "stream",
     "text": [
      "Training until validation scores don't improve for 20 rounds\n"
     ]
    },
    {
     "name": "stderr",
     "output_type": "stream",
     "text": [
      "[I 2023-09-10 06:37:00,932] Trial 978 pruned. Trial was pruned at iteration 26.\n"
     ]
    },
    {
     "name": "stdout",
     "output_type": "stream",
     "text": [
      "Training until validation scores don't improve for 20 rounds\n"
     ]
    },
    {
     "name": "stderr",
     "output_type": "stream",
     "text": [
      "[I 2023-09-10 06:37:01,310] Trial 979 pruned. Trial was pruned at iteration 0.\n",
      "[I 2023-09-10 06:37:01,732] Trial 980 pruned. Trial was pruned at iteration 5.\n"
     ]
    },
    {
     "name": "stdout",
     "output_type": "stream",
     "text": [
      "Training until validation scores don't improve for 20 rounds\n"
     ]
    },
    {
     "name": "stderr",
     "output_type": "stream",
     "text": [
      "[I 2023-09-10 06:37:02,151] Trial 981 pruned. Trial was pruned at iteration 26.\n"
     ]
    },
    {
     "name": "stdout",
     "output_type": "stream",
     "text": [
      "Training until validation scores don't improve for 20 rounds\n"
     ]
    },
    {
     "name": "stderr",
     "output_type": "stream",
     "text": [
      "[I 2023-09-10 06:37:02,585] Trial 982 pruned. Trial was pruned at iteration 29.\n"
     ]
    },
    {
     "name": "stdout",
     "output_type": "stream",
     "text": [
      "Training until validation scores don't improve for 20 rounds\n"
     ]
    },
    {
     "name": "stderr",
     "output_type": "stream",
     "text": [
      "[I 2023-09-10 06:37:03,008] Trial 983 pruned. Trial was pruned at iteration 25.\n"
     ]
    },
    {
     "name": "stdout",
     "output_type": "stream",
     "text": [
      "Training until validation scores don't improve for 20 rounds\n"
     ]
    },
    {
     "name": "stderr",
     "output_type": "stream",
     "text": [
      "[I 2023-09-10 06:37:03,407] Trial 984 pruned. Trial was pruned at iteration 5.\n"
     ]
    },
    {
     "name": "stdout",
     "output_type": "stream",
     "text": [
      "Training until validation scores don't improve for 20 rounds\n"
     ]
    },
    {
     "name": "stderr",
     "output_type": "stream",
     "text": [
      "[I 2023-09-10 06:37:03,837] Trial 985 pruned. Trial was pruned at iteration 28.\n"
     ]
    },
    {
     "name": "stdout",
     "output_type": "stream",
     "text": [
      "Training until validation scores don't improve for 20 rounds\n"
     ]
    },
    {
     "name": "stderr",
     "output_type": "stream",
     "text": [
      "[I 2023-09-10 06:37:04,259] Trial 986 pruned. Trial was pruned at iteration 5.\n"
     ]
    },
    {
     "name": "stdout",
     "output_type": "stream",
     "text": [
      "Training until validation scores don't improve for 20 rounds\n"
     ]
    },
    {
     "name": "stderr",
     "output_type": "stream",
     "text": [
      "[I 2023-09-10 06:37:04,685] Trial 987 pruned. Trial was pruned at iteration 26.\n"
     ]
    },
    {
     "name": "stdout",
     "output_type": "stream",
     "text": [
      "Training until validation scores don't improve for 20 rounds\n"
     ]
    },
    {
     "name": "stderr",
     "output_type": "stream",
     "text": [
      "[I 2023-09-10 06:37:05,061] Trial 988 pruned. Trial was pruned at iteration 4.\n"
     ]
    },
    {
     "name": "stdout",
     "output_type": "stream",
     "text": [
      "Training until validation scores don't improve for 20 rounds\n"
     ]
    },
    {
     "name": "stderr",
     "output_type": "stream",
     "text": [
      "[I 2023-09-10 06:37:05,464] Trial 989 pruned. Trial was pruned at iteration 0.\n",
      "[I 2023-09-10 06:37:05,915] Trial 990 pruned. Trial was pruned at iteration 26.\n"
     ]
    },
    {
     "name": "stdout",
     "output_type": "stream",
     "text": [
      "Training until validation scores don't improve for 20 rounds\n"
     ]
    },
    {
     "name": "stderr",
     "output_type": "stream",
     "text": [
      "[I 2023-09-10 06:37:06,296] Trial 991 pruned. Trial was pruned at iteration 0.\n",
      "[I 2023-09-10 06:37:06,669] Trial 992 pruned. Trial was pruned at iteration 0.\n",
      "[I 2023-09-10 06:37:07,079] Trial 993 pruned. Trial was pruned at iteration 25.\n"
     ]
    },
    {
     "name": "stdout",
     "output_type": "stream",
     "text": [
      "Training until validation scores don't improve for 20 rounds\n"
     ]
    },
    {
     "name": "stderr",
     "output_type": "stream",
     "text": [
      "[I 2023-09-10 06:37:07,599] Trial 994 pruned. Trial was pruned at iteration 26.\n"
     ]
    },
    {
     "name": "stdout",
     "output_type": "stream",
     "text": [
      "Training until validation scores don't improve for 20 rounds\n"
     ]
    },
    {
     "name": "stderr",
     "output_type": "stream",
     "text": [
      "[I 2023-09-10 06:37:08,183] Trial 995 finished with value: 0.8530867792661619 and parameters: {'n_estimators': 1000, 'learning_rate': 0.45000000000000007, 'num_leaves': 760, 'max_depth': 11, 'min_data_in_leaf': 100, 'lambda_l1': 0, 'lambda_l2': 10, 'min_gain_to_split': 0.0, 'bagging_fraction': 1.0, 'bagging_freq': 1, 'feature_fraction': 0.6000000000000001}. Best is trial 800 with value: 0.8648806057076297.\n"
     ]
    },
    {
     "name": "stdout",
     "output_type": "stream",
     "text": [
      "Training until validation scores don't improve for 20 rounds\n",
      "Early stopping, best iteration is:\n",
      "[23]\tvalid_0's auc: 0.853087\tvalid_0's binary_logloss: 0.485935\n"
     ]
    },
    {
     "name": "stderr",
     "output_type": "stream",
     "text": [
      "[I 2023-09-10 06:37:08,608] Trial 996 pruned. Trial was pruned at iteration 0.\n"
     ]
    },
    {
     "name": "stdout",
     "output_type": "stream",
     "text": [
      "[LightGBM] [Warning] lambda_l1 is set=5, reg_alpha=0.0 will be ignored. Current value: lambda_l1=5\n",
      "[LightGBM] [Warning] bagging_fraction is set=0.7, subsample=1.0 will be ignored. Current value: bagging_fraction=0.7\n",
      "[LightGBM] [Warning] feature_fraction is set=0.5, colsample_bytree=1.0 will be ignored. Current value: feature_fraction=0.5\n",
      "[LightGBM] [Warning] min_data_in_leaf is set=100, min_child_samples=20 will be ignored. Current value: min_data_in_leaf=100\n",
      "[LightGBM] [Warning] bagging_freq is set=1, subsample_freq=0 will be ignored. Current value: bagging_freq=1\n",
      "[LightGBM] [Warning] min_gain_to_split is set=0.6000000000000001, min_split_gain=0.0 will be ignored. Current value: min_gain_to_split=0.6000000000000001\n",
      "[LightGBM] [Warning] lambda_l2 is set=10, reg_lambda=0.0 will be ignored. Current value: lambda_l2=10\n"
     ]
    },
    {
     "name": "stderr",
     "output_type": "stream",
     "text": [
      "[I 2023-09-10 06:37:09,123] Trial 997 pruned. Trial was pruned at iteration 26.\n"
     ]
    },
    {
     "name": "stdout",
     "output_type": "stream",
     "text": [
      "Training until validation scores don't improve for 20 rounds\n"
     ]
    },
    {
     "name": "stderr",
     "output_type": "stream",
     "text": [
      "[I 2023-09-10 06:37:09,614] Trial 998 pruned. Trial was pruned at iteration 29.\n"
     ]
    },
    {
     "name": "stdout",
     "output_type": "stream",
     "text": [
      "Training until validation scores don't improve for 20 rounds\n"
     ]
    },
    {
     "name": "stderr",
     "output_type": "stream",
     "text": [
      "[I 2023-09-10 06:37:10,035] Trial 999 pruned. Trial was pruned at iteration 25.\n"
     ]
    },
    {
     "name": "stdout",
     "output_type": "stream",
     "text": [
      "Training until validation scores don't improve for 20 rounds\n"
     ]
    }
   ],
   "source": [
    "\n",
    "study = optuna.create_study(direction=\"maximize\", study_name=\"LGBM Classifier\") \n",
    "func = lambda trial: objective(trial, train_x, train_y)\n",
    "study.optimize(func, n_trials=1000) "
   ]
  },
  {
   "cell_type": "code",
   "execution_count": 17,
   "metadata": {},
   "outputs": [
    {
     "name": "stdout",
     "output_type": "stream",
     "text": [
      "\tBest value (auc): 0.86488\n",
      "\tBest params:\n",
      "\t\tn_estimators: 900\n",
      "\t\tlearning_rate: 0.45000000000000007\n",
      "\t\tnum_leaves: 940\n",
      "\t\tmax_depth: 9\n",
      "\t\tmin_data_in_leaf: 100\n",
      "\t\tlambda_l1: 0\n",
      "\t\tlambda_l2: 10\n",
      "\t\tmin_gain_to_split: 0.0\n",
      "\t\tbagging_fraction: 1.0\n",
      "\t\tbagging_freq: 1\n",
      "\t\tfeature_fraction: 0.5\n"
     ]
    }
   ],
   "source": [
    "# print(f\"\\tBest value (rmse): {study.best_value:.5f}\")\n",
    "print(f\"\\tBest value (auc): {study.best_value:.5f}\")\n",
    "print(f\"\\tBest params:\")\n",
    "for key, value in study.best_params.items():\n",
    "    print(f\"\\t\\t{key}: {value}\")"
   ]
  },
  {
   "cell_type": "markdown",
   "metadata": {},
   "source": [
    "### Conduct five-fold cross-training based on the optimum hyperparameter"
   ]
  },
  {
   "cell_type": "code",
   "execution_count": 7,
   "metadata": {},
   "outputs": [
    {
     "name": "stdout",
     "output_type": "stream",
     "text": [
      "[LightGBM] [Warning] lambda_l1 is set=0, reg_alpha=0.0 will be ignored. Current value: lambda_l1=0\n",
      "[LightGBM] [Warning] bagging_fraction is set=0.7, subsample=1.0 will be ignored. Current value: bagging_fraction=0.7\n",
      "[LightGBM] [Warning] feature_fraction is set=0.5, colsample_bytree=1.0 will be ignored. Current value: feature_fraction=0.5\n",
      "[LightGBM] [Warning] min_data_in_leaf is set=100, min_child_samples=20 will be ignored. Current value: min_data_in_leaf=100\n",
      "[LightGBM] [Warning] bagging_freq is set=1, subsample_freq=0 will be ignored. Current value: bagging_freq=1\n",
      "[LightGBM] [Warning] min_gain_to_split is set=0.0, min_split_gain=0.0 will be ignored. Current value: min_gain_to_split=0.0\n",
      "[LightGBM] [Warning] lambda_l2 is set=10, reg_lambda=0.0 will be ignored. Current value: lambda_l2=10\n",
      "[LightGBM] [Warning] lambda_l1 is set=0, reg_alpha=0.0 will be ignored. Current value: lambda_l1=0\n",
      "[LightGBM] [Warning] bagging_fraction is set=0.7, subsample=1.0 will be ignored. Current value: bagging_fraction=0.7\n",
      "[LightGBM] [Warning] feature_fraction is set=0.5, colsample_bytree=1.0 will be ignored. Current value: feature_fraction=0.5\n",
      "[LightGBM] [Warning] min_data_in_leaf is set=100, min_child_samples=20 will be ignored. Current value: min_data_in_leaf=100\n",
      "[LightGBM] [Warning] bagging_freq is set=1, subsample_freq=0 will be ignored. Current value: bagging_freq=1\n",
      "[LightGBM] [Warning] min_gain_to_split is set=0.0, min_split_gain=0.0 will be ignored. Current value: min_gain_to_split=0.0\n",
      "[LightGBM] [Warning] lambda_l2 is set=10, reg_lambda=0.0 will be ignored. Current value: lambda_l2=10\n",
      "[LightGBM] [Warning] lambda_l1 is set=0, reg_alpha=0.0 will be ignored. Current value: lambda_l1=0\n",
      "[LightGBM] [Warning] bagging_fraction is set=0.7, subsample=1.0 will be ignored. Current value: bagging_fraction=0.7\n",
      "[LightGBM] [Warning] feature_fraction is set=0.5, colsample_bytree=1.0 will be ignored. Current value: feature_fraction=0.5\n",
      "[LightGBM] [Warning] min_data_in_leaf is set=100, min_child_samples=20 will be ignored. Current value: min_data_in_leaf=100\n",
      "[LightGBM] [Warning] bagging_freq is set=1, subsample_freq=0 will be ignored. Current value: bagging_freq=1\n",
      "[LightGBM] [Warning] min_gain_to_split is set=0.0, min_split_gain=0.0 will be ignored. Current value: min_gain_to_split=0.0\n",
      "[LightGBM] [Warning] lambda_l2 is set=10, reg_lambda=0.0 will be ignored. Current value: lambda_l2=10\n",
      "[LightGBM] [Warning] lambda_l1 is set=0, reg_alpha=0.0 will be ignored. Current value: lambda_l1=0\n",
      "[LightGBM] [Warning] bagging_fraction is set=0.7, subsample=1.0 will be ignored. Current value: bagging_fraction=0.7\n",
      "[LightGBM] [Warning] feature_fraction is set=0.5, colsample_bytree=1.0 will be ignored. Current value: feature_fraction=0.5\n",
      "[LightGBM] [Warning] min_data_in_leaf is set=100, min_child_samples=20 will be ignored. Current value: min_data_in_leaf=100\n",
      "[LightGBM] [Warning] bagging_freq is set=1, subsample_freq=0 will be ignored. Current value: bagging_freq=1\n",
      "[LightGBM] [Warning] min_gain_to_split is set=0.0, min_split_gain=0.0 will be ignored. Current value: min_gain_to_split=0.0\n",
      "[LightGBM] [Warning] lambda_l2 is set=10, reg_lambda=0.0 will be ignored. Current value: lambda_l2=10\n",
      "[LightGBM] [Warning] lambda_l1 is set=0, reg_alpha=0.0 will be ignored. Current value: lambda_l1=0\n",
      "[LightGBM] [Warning] bagging_fraction is set=0.7, subsample=1.0 will be ignored. Current value: bagging_fraction=0.7\n",
      "[LightGBM] [Warning] feature_fraction is set=0.5, colsample_bytree=1.0 will be ignored. Current value: feature_fraction=0.5\n",
      "[LightGBM] [Warning] min_data_in_leaf is set=100, min_child_samples=20 will be ignored. Current value: min_data_in_leaf=100\n",
      "[LightGBM] [Warning] bagging_freq is set=1, subsample_freq=0 will be ignored. Current value: bagging_freq=1\n",
      "[LightGBM] [Warning] min_gain_to_split is set=0.0, min_split_gain=0.0 will be ignored. Current value: min_gain_to_split=0.0\n",
      "[LightGBM] [Warning] lambda_l2 is set=10, reg_lambda=0.0 will be ignored. Current value: lambda_l2=10\n",
      "accuracy_score: 0.70521327014218 0.008557094827141119\n",
      "roc_auc_score: 0.7743239968986236 0.010037924398217837\n",
      "f1_score: 0.6184010398528013 0.008953890499735093\n",
      "balanced_accuracy_score: 0.6944369063772049 0.007634921720636236\n",
      "matthews_corrcoef: 0.3811528057294945 0.015410765961164597\n"
     ]
    }
   ],
   "source": [
    "from sklearn.model_selection import KFold\n",
    "from sklearn.metrics import accuracy_score, roc_auc_score, f1_score, balanced_accuracy_score, matthews_corrcoef\n",
    "import lightgbm as lgbm\n",
    "\n",
    "# 创建 KFold 实例\n",
    "kf = KFold(n_splits=5, random_state=999, shuffle=True)\n",
    "\n",
    "train_x, test_x, train_y, test_y = train_test_split(data_df, df['label'], test_size=0.2, random_state=999)\n",
    "\n",
    "# model = lgbm.LGBMClassifier(**study.best_params)\n",
    "model = lgbm.LGBMClassifier(n_estimators=900,\n",
    "                            learning_rate=0.45,\n",
    "                            num_leaves=940,\n",
    "                            max_depth=9,\n",
    "                            min_data_in_leaf=100,\n",
    "                            lambda_l1=0,\n",
    "                            lambda_l2=10,\n",
    "                            min_gain_to_split=0.0,\n",
    "                            bagging_fraction=0.7,\n",
    "                            bagging_freq=1,\n",
    "                            feature_fraction=0.5,\n",
    "                            random_state=2023)\n",
    "\n",
    "acc_list = []\n",
    "auc_list = []\n",
    "f1_list = []\n",
    "bacc_list = []\n",
    "mcc_list = []\n",
    "\n",
    "for train_index,val_index in kf.split(train_x):\n",
    "    X_train, X_val = train_x.iloc[train_index], train_x.iloc[val_index]\n",
    "    y_train, y_val = train_y.iloc[train_index], train_y.iloc[val_index]\n",
    "\n",
    "    model.fit(X_train, y_train)\n",
    "    y_pred = model.predict(test_x)\n",
    "    y_prob = model.predict_proba(test_x)\n",
    "\n",
    "    acc_list.append(accuracy_score(test_y, y_pred))\n",
    "    auc_list.append(roc_auc_score(test_y, y_prob[:,1]))\n",
    "    f1_list.append(f1_score(test_y, y_pred, average='binary'))\n",
    "    bacc_list.append(balanced_accuracy_score(test_y, y_pred))\n",
    "    mcc_list.append(matthews_corrcoef(test_y, y_pred))\n",
    "\n",
    "print('accuracy_score:', np.mean(acc_list), np.std(acc_list))\n",
    "print('roc_auc_score:', np.mean(auc_list), np.std(auc_list))\n",
    "print('f1_score:', np.mean(f1_list), np.std(f1_list))\n",
    "print('balanced_accuracy_score:', np.mean(bacc_list), np.std(bacc_list))\n",
    "print('matthews_corrcoef:', np.mean(mcc_list), np.std(mcc_list))"
   ]
  },
  {
   "cell_type": "markdown",
   "metadata": {},
   "source": [
    "#### Save model performance results"
   ]
  },
  {
   "cell_type": "code",
   "execution_count": 9,
   "metadata": {},
   "outputs": [],
   "source": [
    "result_df_ecfp = pd.DataFrame({'accuracy_score':acc_list,\n",
    "                                'roc_auc_score':auc_list,\n",
    "                                'f1_score':f1_list,\n",
    "                                'balanced_accuracy_score':bacc_list,\n",
    "                                'matthews_corrcoef':mcc_list})\n",
    "# result_df_ecfp.head(5)\n",
    "result_df_ecfp.to_csv('/home/liujin/Offtarget_drugsafety/offtarget_application/Toxicity_prediction/picture_draw/result_df_ecfp.csv',index=False)"
   ]
  }
 ],
 "metadata": {
  "kernelspec": {
   "display_name": "tf_project",
   "language": "python",
   "name": "python3"
  },
  "language_info": {
   "codemirror_mode": {
    "name": "ipython",
    "version": 3
   },
   "file_extension": ".py",
   "mimetype": "text/x-python",
   "name": "python",
   "nbconvert_exporter": "python",
   "pygments_lexer": "ipython3",
   "version": "3.8.8"
  },
  "orig_nbformat": 4
 },
 "nbformat": 4,
 "nbformat_minor": 2
}
