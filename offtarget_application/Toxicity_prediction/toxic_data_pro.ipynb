{
 "cells": [
  {
   "cell_type": "code",
   "execution_count": 1,
   "metadata": {},
   "outputs": [],
   "source": [
    "from sklearn import datasets\n",
    "from sklearn.model_selection import train_test_split\n",
    "from sklearn.metrics import classification_report\n",
    "import numpy as np\n",
    "import matplotlib.pyplot as plt\n",
    "import pandas as pd"
   ]
  },
  {
   "cell_type": "markdown",
   "metadata": {},
   "source": [
    "### Read toxic and noot-toxic data"
   ]
  },
  {
   "cell_type": "code",
   "execution_count": 3,
   "metadata": {},
   "outputs": [],
   "source": [
    "# The smiles in the dataset are all previously cleaned, standardized smiles\n",
    "clintox_not_toxic_df = pd.read_csv('/home/liujin/Offtarget_drugsafety/offtarget_application/Toxicity_prediction/toxic_predict_data/clintox_nontoxic_prediction.csv')\n",
    "clintox_toxic_df = pd.read_csv('/home/liujin/Offtarget_drugsafety/offtarget_application/Toxicity_prediction/toxic_predict_data/clintox_toxic_prediction.csv')\n",
    "\n",
    "blackwarning_df = pd.read_csv('/home/liujin/Offtarget_drugsafety/offtarget_application/Toxicity_prediction/toxic_predict_data/black_warning_toxic_prediction.csv')\n",
    "withdrawal_df = pd.read_csv('/home/liujin/Offtarget_drugsafety/offtarget_application/Toxicity_prediction/toxic_predict_data/withdrawal_toxic_prediction.csv')"
   ]
  },
  {
   "cell_type": "code",
   "execution_count": 4,
   "metadata": {},
   "outputs": [
    {
     "data": {
      "text/html": [
       "<div>\n",
       "<style scoped>\n",
       "    .dataframe tbody tr th:only-of-type {\n",
       "        vertical-align: middle;\n",
       "    }\n",
       "\n",
       "    .dataframe tbody tr th {\n",
       "        vertical-align: top;\n",
       "    }\n",
       "\n",
       "    .dataframe thead th {\n",
       "        text-align: right;\n",
       "    }\n",
       "</style>\n",
       "<table border=\"1\" class=\"dataframe\">\n",
       "  <thead>\n",
       "    <tr style=\"text-align: right;\">\n",
       "      <th></th>\n",
       "      <th>smiles</th>\n",
       "      <th>ADORA1_10141</th>\n",
       "      <th>AGTR1_9986</th>\n",
       "      <th>CHRM5_9606</th>\n",
       "      <th>ADRA1A_9913</th>\n",
       "      <th>ADORA1_9986</th>\n",
       "      <th>HTR2C_10116</th>\n",
       "      <th>ADORA2A_10141</th>\n",
       "      <th>OPRK1_10090</th>\n",
       "      <th>ACE_9986</th>\n",
       "      <th>...</th>\n",
       "      <th>SLC6A4_10090</th>\n",
       "      <th>TSPO_9606</th>\n",
       "      <th>SLC6A2_10090</th>\n",
       "      <th>SLC6A2_9606</th>\n",
       "      <th>SLC6A3_10116</th>\n",
       "      <th>SIGMAR1_10141</th>\n",
       "      <th>SIGMAR1_9606</th>\n",
       "      <th>SIGMAR1_10090</th>\n",
       "      <th>TNF_9606</th>\n",
       "      <th>SIGMAR1_10116</th>\n",
       "    </tr>\n",
       "  </thead>\n",
       "  <tbody>\n",
       "    <tr>\n",
       "      <th>0</th>\n",
       "      <td>CC(C)C[C@H](NC(=O)[C@H](CC1=CC=CC=C1)NC(=O)C1=...</td>\n",
       "      <td>0.219586</td>\n",
       "      <td>0.003386</td>\n",
       "      <td>0.014749</td>\n",
       "      <td>0.000278</td>\n",
       "      <td>0.244221</td>\n",
       "      <td>0.000329</td>\n",
       "      <td>0.122799</td>\n",
       "      <td>0.018120</td>\n",
       "      <td>0.012746</td>\n",
       "      <td>...</td>\n",
       "      <td>0.000002</td>\n",
       "      <td>0.002075</td>\n",
       "      <td>1.603341e-07</td>\n",
       "      <td>0.000497</td>\n",
       "      <td>0.138698</td>\n",
       "      <td>0.000036</td>\n",
       "      <td>0.000171</td>\n",
       "      <td>0.000014</td>\n",
       "      <td>0.037714</td>\n",
       "      <td>0.000171</td>\n",
       "    </tr>\n",
       "    <tr>\n",
       "      <th>1</th>\n",
       "      <td>CC(C)C[C@H](NC(=O)CNC(=O)C1=C(Cl)C=CC(Cl)=C1)B...</td>\n",
       "      <td>0.024630</td>\n",
       "      <td>0.021901</td>\n",
       "      <td>0.002378</td>\n",
       "      <td>0.017851</td>\n",
       "      <td>0.068139</td>\n",
       "      <td>0.002658</td>\n",
       "      <td>0.070676</td>\n",
       "      <td>0.043953</td>\n",
       "      <td>0.240859</td>\n",
       "      <td>...</td>\n",
       "      <td>0.000454</td>\n",
       "      <td>0.032242</td>\n",
       "      <td>5.654480e-04</td>\n",
       "      <td>0.000504</td>\n",
       "      <td>0.013504</td>\n",
       "      <td>0.001067</td>\n",
       "      <td>0.000694</td>\n",
       "      <td>0.000368</td>\n",
       "      <td>0.018621</td>\n",
       "      <td>0.000496</td>\n",
       "    </tr>\n",
       "  </tbody>\n",
       "</table>\n",
       "<p>2 rows × 243 columns</p>\n",
       "</div>"
      ],
      "text/plain": [
       "                                              smiles  ADORA1_10141  \\\n",
       "0  CC(C)C[C@H](NC(=O)[C@H](CC1=CC=CC=C1)NC(=O)C1=...      0.219586   \n",
       "1  CC(C)C[C@H](NC(=O)CNC(=O)C1=C(Cl)C=CC(Cl)=C1)B...      0.024630   \n",
       "\n",
       "   AGTR1_9986  CHRM5_9606  ADRA1A_9913  ADORA1_9986  HTR2C_10116  \\\n",
       "0    0.003386    0.014749     0.000278     0.244221     0.000329   \n",
       "1    0.021901    0.002378     0.017851     0.068139     0.002658   \n",
       "\n",
       "   ADORA2A_10141  OPRK1_10090  ACE_9986  ...  SLC6A4_10090  TSPO_9606  \\\n",
       "0       0.122799     0.018120  0.012746  ...      0.000002   0.002075   \n",
       "1       0.070676     0.043953  0.240859  ...      0.000454   0.032242   \n",
       "\n",
       "   SLC6A2_10090  SLC6A2_9606  SLC6A3_10116  SIGMAR1_10141  SIGMAR1_9606  \\\n",
       "0  1.603341e-07     0.000497      0.138698       0.000036      0.000171   \n",
       "1  5.654480e-04     0.000504      0.013504       0.001067      0.000694   \n",
       "\n",
       "   SIGMAR1_10090  TNF_9606  SIGMAR1_10116  \n",
       "0       0.000014  0.037714       0.000171  \n",
       "1       0.000368  0.018621       0.000496  \n",
       "\n",
       "[2 rows x 243 columns]"
      ]
     },
     "execution_count": 4,
     "metadata": {},
     "output_type": "execute_result"
    }
   ],
   "source": [
    "clintox_toxic_df.head(2)"
   ]
  },
  {
   "cell_type": "code",
   "execution_count": 5,
   "metadata": {},
   "outputs": [
    {
     "name": "stdout",
     "output_type": "stream",
     "text": [
      "clintox_not_toxic_df.shape: (1361, 243)\n",
      "clintox_toxic_df.shape: (103, 243)\n",
      "withdrawal_df.shape: (408, 243)\n",
      "blackwarning_df.shape: (503, 243)\n"
     ]
    }
   ],
   "source": [
    "print('clintox_not_toxic_df.shape:', clintox_not_toxic_df.shape)\n",
    "print('clintox_toxic_df.shape:', clintox_toxic_df.shape)\n",
    "print('withdrawal_df.shape:', withdrawal_df.shape)\n",
    "print('blackwarning_df.shape:', blackwarning_df.shape)"
   ]
  },
  {
   "cell_type": "markdown",
   "metadata": {},
   "source": [
    "#### Merge the data sets according to toxic and non-toxic, and then de-duplicate them"
   ]
  },
  {
   "cell_type": "code",
   "execution_count": 6,
   "metadata": {},
   "outputs": [
    {
     "name": "stdout",
     "output_type": "stream",
     "text": [
      "toxic_df.shape: (1014, 243)\n",
      "nontoxic_df.shape: (1361, 243)\n"
     ]
    }
   ],
   "source": [
    "toxic_df = pd.concat([clintox_toxic_df, withdrawal_df, blackwarning_df], axis=0)\n",
    "nontoxic_df = clintox_not_toxic_df\n",
    "print('toxic_df.shape:', toxic_df.shape)\n",
    "print('nontoxic_df.shape:', nontoxic_df.shape)"
   ]
  },
  {
   "cell_type": "code",
   "execution_count": 8,
   "metadata": {},
   "outputs": [
    {
     "name": "stdout",
     "output_type": "stream",
     "text": [
      "before processing toxci_df shape:  (1014, 243)\n",
      "before processing nontoxic_df shape:  (1361, 243)\n",
      "after processing toxci_df shape:  (877, 243)\n",
      "after processing nontoxic_df shape:  (1229, 243)\n"
     ]
    }
   ],
   "source": [
    "print(\"before processing toxci_df shape: \",toxic_df.shape)\n",
    "print(\"before processing nontoxic_df shape: \",nontoxic_df.shape)\n",
    "toxic_df2 = toxic_df.drop_duplicates(subset=['smiles'],keep='first')\n",
    "nontoxic_df2 = nontoxic_df.drop_duplicates(subset=['smiles'],keep='first')\n",
    "# smiles that appear in the toxic data are removed from the not_toxic data\n",
    "toxic_smiles = toxic_df2['smiles'].tolist()\n",
    "nontoxic_df3 = nontoxic_df2[~nontoxic_df2['smiles'].isin(toxic_smiles)]\n",
    "print(\"after processing toxci_df shape: \",toxic_df2.shape)\n",
    "print(\"after processing nontoxic_df shape: \",nontoxic_df3.shape)"
   ]
  },
  {
   "cell_type": "code",
   "execution_count": 10,
   "metadata": {},
   "outputs": [],
   "source": [
    "toxic_df2.to_csv('/home/liujin/Offtarget_drugsafety/offtarget_application/Toxicity_prediction/toxic_predict_data/toxic_offtarget_profile.csv', index=False)\n",
    "nontoxic_df3.to_csv('/home/liujin/Offtarget_drugsafety/offtarget_application/Toxicity_prediction/toxic_predict_data/nontoxic_offtarget_profile.csv', index=False)"
   ]
  },
  {
   "cell_type": "code",
   "execution_count": 11,
   "metadata": {},
   "outputs": [
    {
     "name": "stdout",
     "output_type": "stream",
     "text": [
      "(877, 243)\n",
      "(1229, 243)\n"
     ]
    }
   ],
   "source": [
    "toxic_df = pd.read_csv('/home/liujin/Offtarget_drugsafety/offtarget_application/Toxicity_prediction/toxic_predict_data/toxic_offtarget_profile.csv')\n",
    "nontoxic_df = pd.read_csv('/home/liujin/Offtarget_drugsafety/offtarget_application/Toxicity_prediction/toxic_predict_data/nontoxic_offtarget_profile.csv')\n",
    "print(toxic_df.shape)\n",
    "print(nontoxic_df.shape)"
   ]
  }
 ],
 "metadata": {
  "kernelspec": {
   "display_name": "tf_project",
   "language": "python",
   "name": "python3"
  },
  "language_info": {
   "codemirror_mode": {
    "name": "ipython",
    "version": 3
   },
   "file_extension": ".py",
   "mimetype": "text/x-python",
   "name": "python",
   "nbconvert_exporter": "python",
   "pygments_lexer": "ipython3",
   "version": "3.8.0"
  },
  "orig_nbformat": 4
 },
 "nbformat": 4,
 "nbformat_minor": 2
}
